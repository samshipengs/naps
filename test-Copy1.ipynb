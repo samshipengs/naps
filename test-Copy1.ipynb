{
 "cells": [
  {
   "cell_type": "code",
   "execution_count": 1,
   "metadata": {},
   "outputs": [],
   "source": [
    "import pandas as pd\n",
    "import numpy as np\n",
    "import datetime\n",
    "\n",
    "%matplotlib inline\n",
    "%load_ext autoreload\n",
    "%autoreload 2"
   ]
  },
  {
   "cell_type": "code",
   "execution_count": 2,
   "metadata": {},
   "outputs": [
    {
     "name": "stdout",
     "output_type": "stream",
     "text": [
      "total 5760000\r\n",
      "-r--r--r--@ 1 samshi  staff   246M 15 Mar 09:09 item_metadata.csv\r\n",
      "-r--r--r--@ 1 samshi  staff    51M 15 Mar 09:09 submission_popular.csv\r\n",
      "-r--r--r--@ 1 samshi  staff   507M 15 Mar 09:09 test.csv\r\n",
      "-r--r--r--@ 1 samshi  staff   1.9G 15 Mar 09:09 train.csv\r\n"
     ]
    }
   ],
   "source": [
    "data_path = './data/'\n",
    "!ls -lthr data/"
   ]
  },
  {
   "cell_type": "code",
   "execution_count": 3,
   "metadata": {},
   "outputs": [
    {
     "name": "stdout",
     "output_type": "stream",
     "text": [
      "CPU times: user 29.5 ms, sys: 7.01 ms, total: 36.5 ms\n",
      "Wall time: 35.9 ms\n"
     ]
    }
   ],
   "source": [
    "%%time\n",
    "nrows = 10000\n",
    "# nrows = None\n",
    "train = pd.read_csv(data_path+'train.csv', nrows=nrows)"
   ]
  },
  {
   "cell_type": "code",
   "execution_count": 4,
   "metadata": {},
   "outputs": [
    {
     "data": {
      "text/plain": [
       "(1000, 12)"
      ]
     },
     "execution_count": 4,
     "metadata": {},
     "output_type": "execute_result"
    }
   ],
   "source": [
    "test = pd.read_csv(data_path+'test.csv', nrows=1000)\n",
    "test.shape"
   ]
  },
  {
   "cell_type": "code",
   "execution_count": 5,
   "metadata": {},
   "outputs": [],
   "source": [
    "# test_click_session_ids = test[test.impressions.notnull()].session_id.unique()"
   ]
  },
  {
   "cell_type": "code",
   "execution_count": 6,
   "metadata": {
    "scrolled": false
   },
   "outputs": [],
   "source": [
    "# ts = np.random.choice(test_click_session_ids, 1)\n",
    "# test[test.session_id==ts[0]]"
   ]
  },
  {
   "cell_type": "code",
   "execution_count": 7,
   "metadata": {},
   "outputs": [],
   "source": [
    "# train_click_ids = train[train.impressions.notnull()].session_id.unique()"
   ]
  },
  {
   "cell_type": "code",
   "execution_count": 8,
   "metadata": {},
   "outputs": [],
   "source": [
    "# ts = np.random.choice(train_click_ids, 1)\n",
    "# train[train.session_id==ts[0]]"
   ]
  },
  {
   "cell_type": "code",
   "execution_count": 9,
   "metadata": {},
   "outputs": [],
   "source": [
    "# train.groupby('session_id').apply(lambda x: x.iloc[-1]['reference']).isna().sum()"
   ]
  },
  {
   "cell_type": "code",
   "execution_count": 10,
   "metadata": {},
   "outputs": [],
   "source": [
    "# train.groupby('session_id').apply(lambda x: x.iloc[-1]['impressions']).isna().sum()"
   ]
  },
  {
   "cell_type": "markdown",
   "metadata": {},
   "source": [
    "### clip sessions off to last click"
   ]
  },
  {
   "cell_type": "code",
   "execution_count": 11,
   "metadata": {},
   "outputs": [
    {
     "name": "stderr",
     "output_type": "stream",
     "text": [
      "/anaconda3/lib/python3.7/site-packages/numpy/core/fromnumeric.py:51: FutureWarning: Series.nonzero() is deprecated and will be removed in a future version.Use Series.to_numpy().nonzero() instead\n",
      "  return getattr(obj, method)(*args, **kwds)\n"
     ]
    },
    {
     "name": "stdout",
     "output_type": "stream",
     "text": [
      "CPU times: user 388 ms, sys: 16 ms, total: 404 ms\n",
      "Wall time: 407 ms\n"
     ]
    }
   ],
   "source": [
    "%%time\n",
    "# get all rows upto the last clickout action (some rows has reference but it's not clickout action)\n",
    "def up_to_last_click(grp):\n",
    "    check = grp.action_type == 'clickout item'\n",
    "    if check.sum() != 0:\n",
    "        return grp.iloc[:np.argwhere(check)[-1][0]+1]\n",
    "    else:\n",
    "        return grp\n",
    "        \n",
    "train = train.groupby('session_id').apply(up_to_last_click).reset_index(drop=True)"
   ]
  },
  {
   "cell_type": "code",
   "execution_count": 12,
   "metadata": {},
   "outputs": [
    {
     "name": "stdout",
     "output_type": "stream",
     "text": [
      "CPU times: user 5.9 ms, sys: 126 µs, total: 6.02 ms\n",
      "Wall time: 5.96 ms\n"
     ]
    }
   ],
   "source": [
    "%%time\n",
    "# get utc timestamp\n",
    "train['ts'] = train['timestamp'].apply(lambda t: datetime.datetime.utcfromtimestamp(t))"
   ]
  },
  {
   "cell_type": "code",
   "execution_count": 13,
   "metadata": {},
   "outputs": [
    {
     "name": "stdout",
     "output_type": "stream",
     "text": [
      "CPU times: user 86.5 ms, sys: 1.68 ms, total: 88.2 ms\n",
      "Wall time: 87.1 ms\n"
     ]
    }
   ],
   "source": [
    "%%time\n",
    "# only look at sessions with clickouts (for now)\n",
    "# first filter out sessions that does not have a click-out\n",
    "def check_clickout(grp):\n",
    "    return 'clickout item' in grp['action_type'].unique()\n",
    "\n",
    "clicked = train.groupby('session_id').apply(check_clickout)\n",
    "click_session_ids = clicked[clicked].index\n",
    "# filter\n",
    "train = train[train.session_id.isin(click_session_ids)].reset_index(drop=True)"
   ]
  },
  {
   "cell_type": "markdown",
   "metadata": {},
   "source": [
    "### meta info"
   ]
  },
  {
   "cell_type": "code",
   "execution_count": 57,
   "metadata": {},
   "outputs": [
    {
     "name": "stdout",
     "output_type": "stream",
     "text": [
      "CPU times: user 41.7 ms, sys: 4.49 ms, total: 46.2 ms\n",
      "Wall time: 46.6 ms\n"
     ]
    }
   ],
   "source": [
    "%%time\n",
    "meta = pd.read_csv(data_path+'item_metadata.csv', nrows=nrows)\n",
    "meta['properties'] = meta['properties'].str.lower()"
   ]
  },
  {
   "cell_type": "code",
   "execution_count": 58,
   "metadata": {},
   "outputs": [
    {
     "name": "stdout",
     "output_type": "stream",
     "text": [
      "CPU times: user 22.6 ms, sys: 1.06 ms, total: 23.7 ms\n",
      "Wall time: 22.6 ms\n"
     ]
    }
   ],
   "source": [
    "%%time\n",
    "# checkout properties of items\n",
    "def get_property_count(row):\n",
    "    return len(row.split('|'))\n",
    "\n",
    "item_p_ctn = meta['properties'].apply(get_property_count)\n",
    "item_p_ctn.describe()"
   ]
  },
  {
   "cell_type": "code",
   "execution_count": 59,
   "metadata": {},
   "outputs": [
    {
     "name": "stdout",
     "output_type": "stream",
     "text": [
      "CPU times: user 52 ms, sys: 5.58 ms, total: 57.6 ms\n",
      "Wall time: 56.8 ms\n"
     ]
    }
   ],
   "source": [
    "%%time\n",
    "def get_property(row):\n",
    "    return row.lower().split('|')\n",
    "meta['ps'] = meta['properties'].apply(get_property)\n",
    "# numer of properties\n",
    "meta['nprop'] = meta.ps.str.len()\n",
    "# star ratings\n",
    "meta['star'] = meta.properties.str.extract('[\\|](\\d) star')\n",
    "meta['star'] = meta['star'].astype(float)"
   ]
  },
  {
   "cell_type": "code",
   "execution_count": 60,
   "metadata": {},
   "outputs": [
    {
     "name": "stdout",
     "output_type": "stream",
     "text": [
      "CPU times: user 34.1 ms, sys: 1.65 ms, total: 35.7 ms\n",
      "Wall time: 34.7 ms\n"
     ]
    }
   ],
   "source": [
    "%%time\n",
    "# create rating columns\n",
    "ratings = ['good rating', 'satisfactory rating', 'excellent rating']\n",
    "for r in ratings:\n",
    "    meta[r.replace(' ', '_')] = meta.properties.str.findall(f'\\|{r}').str.len()"
   ]
  },
  {
   "cell_type": "code",
   "execution_count": 18,
   "metadata": {},
   "outputs": [],
   "source": [
    "# total_ps = []\n",
    "# for p in meta['ps'].values:\n",
    "#     total_ps += p"
   ]
  },
  {
   "cell_type": "code",
   "execution_count": 19,
   "metadata": {},
   "outputs": [],
   "source": [
    "# total_ps"
   ]
  },
  {
   "cell_type": "code",
   "execution_count": 20,
   "metadata": {},
   "outputs": [],
   "source": [
    "# pd.value_counts(total_ps).iloc[:20].plot(kind='bar')"
   ]
  },
  {
   "cell_type": "code",
   "execution_count": 46,
   "metadata": {},
   "outputs": [
    {
     "data": {
      "text/html": [
       "<div>\n",
       "<style scoped>\n",
       "    .dataframe tbody tr th:only-of-type {\n",
       "        vertical-align: middle;\n",
       "    }\n",
       "\n",
       "    .dataframe tbody tr th {\n",
       "        vertical-align: top;\n",
       "    }\n",
       "\n",
       "    .dataframe thead th {\n",
       "        text-align: right;\n",
       "    }\n",
       "</style>\n",
       "<table border=\"1\" class=\"dataframe\">\n",
       "  <thead>\n",
       "    <tr style=\"text-align: right;\">\n",
       "      <th></th>\n",
       "      <th>item_id</th>\n",
       "      <th>properties</th>\n",
       "      <th>ps</th>\n",
       "      <th>nprop</th>\n",
       "      <th>star</th>\n",
       "      <th>good_rating</th>\n",
       "      <th>satisfactory_rating</th>\n",
       "      <th>excellent_rating</th>\n",
       "    </tr>\n",
       "  </thead>\n",
       "  <tbody>\n",
       "    <tr>\n",
       "      <th>0</th>\n",
       "      <td>5121</td>\n",
       "      <td>terrace (hotel)|lift|childcare|from 3 stars|ra...</td>\n",
       "      <td>[terrace (hotel), lift, childcare, from 3 star...</td>\n",
       "      <td>54</td>\n",
       "      <td>3.0</td>\n",
       "      <td>1</td>\n",
       "      <td>1</td>\n",
       "      <td>0</td>\n",
       "    </tr>\n",
       "    <tr>\n",
       "      <th>1</th>\n",
       "      <td>5555</td>\n",
       "      <td>terrace (hotel)|lift|from 3 stars|radio|from 4...</td>\n",
       "      <td>[terrace (hotel), lift, from 3 stars, radio, f...</td>\n",
       "      <td>77</td>\n",
       "      <td>5.0</td>\n",
       "      <td>1</td>\n",
       "      <td>1</td>\n",
       "      <td>1</td>\n",
       "    </tr>\n",
       "    <tr>\n",
       "      <th>2</th>\n",
       "      <td>5684</td>\n",
       "      <td>terrace (hotel)|lift|from 3 stars|radio|4 star...</td>\n",
       "      <td>[terrace (hotel), lift, from 3 stars, radio, 4...</td>\n",
       "      <td>62</td>\n",
       "      <td>4.0</td>\n",
       "      <td>1</td>\n",
       "      <td>1</td>\n",
       "      <td>0</td>\n",
       "    </tr>\n",
       "    <tr>\n",
       "      <th>3</th>\n",
       "      <td>5777</td>\n",
       "      <td>lift|childcare|from 3 stars|radio|4 star|from ...</td>\n",
       "      <td>[lift, childcare, from 3 stars, radio, 4 star,...</td>\n",
       "      <td>69</td>\n",
       "      <td>4.0</td>\n",
       "      <td>1</td>\n",
       "      <td>1</td>\n",
       "      <td>0</td>\n",
       "    </tr>\n",
       "    <tr>\n",
       "      <th>4</th>\n",
       "      <td>6044</td>\n",
       "      <td>terrace (hotel)|childcare|from 3 stars|radio|b...</td>\n",
       "      <td>[terrace (hotel), childcare, from 3 stars, rad...</td>\n",
       "      <td>45</td>\n",
       "      <td>3.0</td>\n",
       "      <td>1</td>\n",
       "      <td>1</td>\n",
       "      <td>0</td>\n",
       "    </tr>\n",
       "  </tbody>\n",
       "</table>\n",
       "</div>"
      ],
      "text/plain": [
       "   item_id                                         properties  \\\n",
       "0     5121  terrace (hotel)|lift|childcare|from 3 stars|ra...   \n",
       "1     5555  terrace (hotel)|lift|from 3 stars|radio|from 4...   \n",
       "2     5684  terrace (hotel)|lift|from 3 stars|radio|4 star...   \n",
       "3     5777  lift|childcare|from 3 stars|radio|4 star|from ...   \n",
       "4     6044  terrace (hotel)|childcare|from 3 stars|radio|b...   \n",
       "\n",
       "                                                  ps  nprop  star  \\\n",
       "0  [terrace (hotel), lift, childcare, from 3 star...     54   3.0   \n",
       "1  [terrace (hotel), lift, from 3 stars, radio, f...     77   5.0   \n",
       "2  [terrace (hotel), lift, from 3 stars, radio, 4...     62   4.0   \n",
       "3  [lift, childcare, from 3 stars, radio, 4 star,...     69   4.0   \n",
       "4  [terrace (hotel), childcare, from 3 stars, rad...     45   3.0   \n",
       "\n",
       "   good_rating  satisfactory_rating  excellent_rating  \n",
       "0            1                    1                 0  \n",
       "1            1                    1                 1  \n",
       "2            1                    1                 0  \n",
       "3            1                    1                 0  \n",
       "4            1                    1                 0  "
      ]
     },
     "execution_count": 46,
     "metadata": {},
     "output_type": "execute_result"
    }
   ],
   "source": [
    "meta.head()"
   ]
  },
  {
   "cell_type": "code",
   "execution_count": 47,
   "metadata": {},
   "outputs": [],
   "source": [
    "# meta.shape"
   ]
  },
  {
   "cell_type": "code",
   "execution_count": 61,
   "metadata": {},
   "outputs": [],
   "source": [
    "meta = (meta[['item_id', 'nprop', 'star', 'good_rating', 'satisfactory_rating', 'excellent_rating']]\n",
    "        .set_index('item_id'))"
   ]
  },
  {
   "cell_type": "markdown",
   "metadata": {},
   "source": [
    "### Create session features\n",
    "---"
   ]
  },
  {
   "cell_type": "code",
   "execution_count": null,
   "metadata": {},
   "outputs": [],
   "source": [
    "%%time\n",
    "# find out if same customers have multiple sessions\n",
    "s = train.drop_duplicates(subset=['user_id', 'session_id'])\n",
    "s.session_id.duplicated().sum()\n",
    "# seems like not"
   ]
  },
  {
   "cell_type": "code",
   "execution_count": null,
   "metadata": {},
   "outputs": [],
   "source": [
    "# train.current_filters[:1000].unique()"
   ]
  },
  {
   "cell_type": "code",
   "execution_count": 24,
   "metadata": {},
   "outputs": [
    {
     "name": "stdout",
     "output_type": "stream",
     "text": [
      "CPU times: user 20.2 ms, sys: 1.14 ms, total: 21.4 ms\n",
      "Wall time: 20.8 ms\n"
     ]
    }
   ],
   "source": [
    "%%time\n",
    "def get_filters(x):\n",
    "    if type(x) == str or type(x) == list:\n",
    "        return x.split('|')\n",
    "    else:\n",
    "        return np.nan\n",
    "def get_impressions(x):\n",
    "    if type(x) == str:\n",
    "        return x.split('|')\n",
    "    else:\n",
    "        return np.nan\n",
    "    \n",
    "    \n",
    "train['filters'] = train.current_filters.str.split('|')\n",
    "train['nfilters'] = train.filters.str.len()\n",
    "train['imps_list'] = train.impressions.str.split('|')\n",
    "nn_mask = train['imps_list'].notnull()\n",
    "train.loc[nn_mask, 'imps_list'] = train.loc[nn_mask, 'imps_list'].apply(lambda x: [int(i) for i in x])\n",
    "train['nimps'] = train.imps_list.str.len()"
   ]
  },
  {
   "cell_type": "code",
   "execution_count": null,
   "metadata": {},
   "outputs": [],
   "source": [
    "train.nimps.describe()"
   ]
  },
  {
   "cell_type": "code",
   "execution_count": null,
   "metadata": {},
   "outputs": [],
   "source": [
    "# no switch of devices during session\n",
    "(train.groupby('session_id')['device'].nunique()!=1).sum()"
   ]
  },
  {
   "cell_type": "code",
   "execution_count": null,
   "metadata": {},
   "outputs": [],
   "source": [
    "# differnet city during session\n",
    "(train.groupby('session_id')['city'].nunique()!=1).sum()"
   ]
  },
  {
   "cell_type": "code",
   "execution_count": null,
   "metadata": {},
   "outputs": [],
   "source": [
    "%%time\n",
    "# some custom funcs used in agggregation\n",
    "def mean_dwell_time(x):\n",
    "    if len(x) == 1:\n",
    "        return 0\n",
    "    else:\n",
    "        return np.mean(np.diff(np.sort(x)))\n",
    "    \n",
    "def var_dwell_time(x):\n",
    "    if len(x) == 1:\n",
    "        return 0\n",
    "    else:\n",
    "        return np.var(np.diff(np.sort(x)))\n",
    "    \n",
    "def get_first(x):\n",
    "    return x.iloc[0]\n",
    "\n",
    "def get_last(x):\n",
    "    return x.iloc[-1]\n",
    "\n",
    "def n_clickouts(x):\n",
    "    return (x=='clickout item').sum()\n",
    "\n",
    "def click_rel_pos_avg(x):\n",
    "    return np.mean(np.argwhere((x=='clickout item')))/len(x)\n",
    "\n",
    "# define some aggs\n",
    "session_aggs = {'timestamp': [np.ptp, mean_dwell_time, var_dwell_time],\n",
    "                'step': ['max'],\n",
    "                'action_type': ['nunique', n_clickouts, click_rel_pos_avg],\n",
    "                'city': ['nunique', get_first],\n",
    "                'platform': [get_first],\n",
    "                'device': [get_first],\n",
    "                'nfilters': ['mean', 'max', 'min', get_last],\n",
    "                'nimps': ['max']\n",
    "               }"
   ]
  },
  {
   "cell_type": "code",
   "execution_count": null,
   "metadata": {},
   "outputs": [],
   "source": [
    "session_grp = train.groupby('session_id')"
   ]
  },
  {
   "cell_type": "code",
   "execution_count": null,
   "metadata": {},
   "outputs": [],
   "source": [
    "%%time\n",
    "session_fts = session_grp.agg(session_aggs)\n",
    "session_fts.columns = ['_'.join(col).strip() for col in session_fts.columns.values]"
   ]
  },
  {
   "cell_type": "code",
   "execution_count": null,
   "metadata": {},
   "outputs": [],
   "source": [
    "# session_fts.columns.values\n",
    "session_fts.head()"
   ]
  },
  {
   "cell_type": "code",
   "execution_count": null,
   "metadata": {},
   "outputs": [],
   "source": [
    "# train[train.session_id=='62991f7c78f27']"
   ]
  },
  {
   "cell_type": "markdown",
   "metadata": {},
   "source": [
    "### Create clickout features\n",
    "---"
   ]
  },
  {
   "cell_type": "code",
   "execution_count": 88,
   "metadata": {},
   "outputs": [],
   "source": [
    "import time\n",
    "\n",
    "class Timer:    \n",
    "    def __init__(self, task, profile):\n",
    "        self.profile = profile\n",
    "        self.task = task\n",
    "        if self.task not in self.profile.keys():\n",
    "            self.profile[self.task] = 0\n",
    "        \n",
    "    def __enter__(self):\n",
    "        self.start = time.process_time()\n",
    "        return self\n",
    "\n",
    "    def __exit__(self, *args):\n",
    "        self.end = time.process_time()\n",
    "        self.interval = self.end - self.start\n",
    "        self.profile[self.task] += np.round(self.interval, decimals=5)"
   ]
  },
  {
   "cell_type": "code",
   "execution_count": 26,
   "metadata": {},
   "outputs": [],
   "source": [
    "session_grp = train.groupby('session_id')"
   ]
  },
  {
   "cell_type": "code",
   "execution_count": 27,
   "metadata": {},
   "outputs": [],
   "source": [
    "# train[train.session_id=='62991f7c78f27']"
   ]
  },
  {
   "cell_type": "code",
   "execution_count": 64,
   "metadata": {},
   "outputs": [],
   "source": [
    "def get_profile(profile):\n",
    "    profile_df = pd.Series(profile).rename_axis(index='task').reset_index(name='sec')\n",
    "    profile_df['per'] = (profile_df['sec']/profile_df['sec'].sum()*100).round(2)\n",
    "    return profile_df"
   ]
  },
  {
   "cell_type": "code",
   "execution_count": 91,
   "metadata": {
    "scrolled": true
   },
   "outputs": [
    {
     "name": "stdout",
     "output_type": "stream",
     "text": [
      "CPU times: user 3.29 s, sys: 28.1 ms, total: 3.32 s\n",
      "Wall time: 3.32 s\n"
     ]
    }
   ],
   "source": [
    "%%time\n",
    "# 1) has the items appeared in previous impressions, and clickout\n",
    "# session_grp\n",
    "profile = {}\n",
    "def compute_clicks(grp):\n",
    "    with Timer('select_rows', profile) as t:\n",
    "        last_row = grp.iloc[-1]\n",
    "        above = grp.iloc[:-1]\n",
    "    with Timer('exclude_nans', profile) as t:\n",
    "        # get previous appeard impressions\n",
    "        prev = above[above['impressions'].notnull()]\n",
    "    with Timer('get_imp_list', profile) as t:\n",
    "        prev_imps = prev['imps_list']\n",
    "        unique_imps = [j for i in prev_imps for j in i]\n",
    "    \n",
    "    with Timer('get_price', profile) as t:\n",
    "        imp_l = last_row['imps_list']\n",
    "        prices = last_row['prices'].split('|')\n",
    "        prices = [int(p) for p in prices]\n",
    "        # whether the impression appeared before\n",
    "        appeared = [int(i in unique_imps) for i in imp_l]\n",
    "        # the location of the impression\n",
    "        locs = list(range(len(imp_l)))\n",
    "    \n",
    "    with Timer('create_df', profile) as t:\n",
    "    # build the df\n",
    "        result = pd.DataFrame({'appeared': appeared, 'location': locs, 'price': prices}, index=imp_l)\n",
    "        result.index.name = 'item_id'\n",
    "    with Timer('rel_price_rank', profile) as t:\n",
    "        price_ind = np.argsort(result['price'].values) + 1\n",
    "        result['rel_price_rank'] = price_ind/len(imp_l)\n",
    "#         result['rel_price_rank'] = result[['location', 'price']].sort_values(by='price')['location']/len(imp_l)\n",
    "    \n",
    "    with Timer('compute_mean_median', profile) as t:\n",
    "        result['price_mean'] = np.mean(result['price'])\n",
    "        result['price_median'] = np.median(result['price'])\n",
    "\n",
    "    with Timer('compute_diff', profile) as t: \n",
    "        result_price = result['price'].values\n",
    "        result_price_mean = result['price_mean'].values \n",
    "        result_price_median = result['price_median'].values\n",
    "        \n",
    "        result['diff_mean'] = result_price - result_price_mean\n",
    "        result['diff_median'] = result_price - result_price_median\n",
    "        result['diff_mean_rel'] = (result_price - result_price_mean)/result_price\n",
    "        result['diff_median_rel'] = (result_price - result_price_median)/result_price\n",
    "    \n",
    "    with Timer('join', profile) as t:\n",
    "        # fetch the meta data\n",
    "        result = result.join(meta, on='item_id')\n",
    "    with Timer('create_mean_meta1', profile) as t:\n",
    "        result['star_mean'] = np.mean(result['star'].values)\n",
    "    with Timer('create_mean_meta2', profile) as t:\n",
    "        result['gr_mean'] = np.mean(result['good_rating'].values)\n",
    "    with Timer('create_mean_meta3', profile) as t:\n",
    "        result['sr_mean'] = np.mean(result['satisfactory_rating'].values)\n",
    "    with Timer('create_mean_meta4', profile) as t:\n",
    "        result['er_mean'] = np.mean(result['excellent_rating'].values)\n",
    "    with Timer('create_mean_meta5', profile) as t:\n",
    "        result.reset_index(inplace=True)\n",
    "        \n",
    "    with Timer('create target', profile) as t:\n",
    "        # get target\n",
    "        ref = int(last_row['reference'])\n",
    "        result['target'] = (result['item_id'].values == ref).astype(int)\n",
    "    return result\n",
    "\n",
    "n_runs = 1000\n",
    "n = 0\n",
    "for k,v in session_grp:\n",
    "    a = compute_clicks(v)\n",
    "    n += 1\n",
    "    if n == n_runs:\n",
    "        break\n",
    "\n",
    "# 2) dwell time for each clickout\n",
    "# 3) the rating and star and nproperty -> mean and median for \n",
    "#     the other impressions in list (or the quantile of these and prices)\n",
    "# 4) location and relative location in the impressions list"
   ]
  },
  {
   "cell_type": "code",
   "execution_count": 90,
   "metadata": {},
   "outputs": [
    {
     "data": {
      "text/html": [
       "<div>\n",
       "<style scoped>\n",
       "    .dataframe tbody tr th:only-of-type {\n",
       "        vertical-align: middle;\n",
       "    }\n",
       "\n",
       "    .dataframe tbody tr th {\n",
       "        vertical-align: top;\n",
       "    }\n",
       "\n",
       "    .dataframe thead th {\n",
       "        text-align: right;\n",
       "    }\n",
       "</style>\n",
       "<table border=\"1\" class=\"dataframe\">\n",
       "  <thead>\n",
       "    <tr style=\"text-align: right;\">\n",
       "      <th></th>\n",
       "      <th>task</th>\n",
       "      <th>sec</th>\n",
       "      <th>per</th>\n",
       "    </tr>\n",
       "  </thead>\n",
       "  <tbody>\n",
       "    <tr>\n",
       "      <th>0</th>\n",
       "      <td>select_rows</td>\n",
       "      <td>0.27417</td>\n",
       "      <td>4.38</td>\n",
       "    </tr>\n",
       "    <tr>\n",
       "      <th>1</th>\n",
       "      <td>exclude_nans</td>\n",
       "      <td>0.46889</td>\n",
       "      <td>7.49</td>\n",
       "    </tr>\n",
       "    <tr>\n",
       "      <th>2</th>\n",
       "      <td>get_imp_list</td>\n",
       "      <td>0.05315</td>\n",
       "      <td>0.85</td>\n",
       "    </tr>\n",
       "    <tr>\n",
       "      <th>3</th>\n",
       "      <td>get_price</td>\n",
       "      <td>0.04046</td>\n",
       "      <td>0.65</td>\n",
       "    </tr>\n",
       "    <tr>\n",
       "      <th>4</th>\n",
       "      <td>create_df</td>\n",
       "      <td>0.43232</td>\n",
       "      <td>6.91</td>\n",
       "    </tr>\n",
       "    <tr>\n",
       "      <th>5</th>\n",
       "      <td>rel_price_rank</td>\n",
       "      <td>0.29833</td>\n",
       "      <td>4.77</td>\n",
       "    </tr>\n",
       "    <tr>\n",
       "      <th>6</th>\n",
       "      <td>compute_mean_median</td>\n",
       "      <td>0.68300</td>\n",
       "      <td>10.91</td>\n",
       "    </tr>\n",
       "    <tr>\n",
       "      <th>7</th>\n",
       "      <td>compute_diff</td>\n",
       "      <td>1.02177</td>\n",
       "      <td>16.32</td>\n",
       "    </tr>\n",
       "    <tr>\n",
       "      <th>8</th>\n",
       "      <td>join</td>\n",
       "      <td>1.17571</td>\n",
       "      <td>18.78</td>\n",
       "    </tr>\n",
       "    <tr>\n",
       "      <th>9</th>\n",
       "      <td>create_mean_meta1</td>\n",
       "      <td>0.29963</td>\n",
       "      <td>4.79</td>\n",
       "    </tr>\n",
       "    <tr>\n",
       "      <th>10</th>\n",
       "      <td>create_mean_meta2</td>\n",
       "      <td>0.30455</td>\n",
       "      <td>4.86</td>\n",
       "    </tr>\n",
       "    <tr>\n",
       "      <th>11</th>\n",
       "      <td>create_mean_meta3</td>\n",
       "      <td>0.30430</td>\n",
       "      <td>4.86</td>\n",
       "    </tr>\n",
       "    <tr>\n",
       "      <th>12</th>\n",
       "      <td>create_mean_meta4</td>\n",
       "      <td>0.30096</td>\n",
       "      <td>4.81</td>\n",
       "    </tr>\n",
       "    <tr>\n",
       "      <th>13</th>\n",
       "      <td>create_mean_meta5</td>\n",
       "      <td>0.29769</td>\n",
       "      <td>4.75</td>\n",
       "    </tr>\n",
       "    <tr>\n",
       "      <th>14</th>\n",
       "      <td>create target</td>\n",
       "      <td>0.30593</td>\n",
       "      <td>4.89</td>\n",
       "    </tr>\n",
       "  </tbody>\n",
       "</table>\n",
       "</div>"
      ],
      "text/plain": [
       "                   task      sec    per\n",
       "0           select_rows  0.27417   4.38\n",
       "1          exclude_nans  0.46889   7.49\n",
       "2          get_imp_list  0.05315   0.85\n",
       "3             get_price  0.04046   0.65\n",
       "4             create_df  0.43232   6.91\n",
       "5        rel_price_rank  0.29833   4.77\n",
       "6   compute_mean_median  0.68300  10.91\n",
       "7          compute_diff  1.02177  16.32\n",
       "8                  join  1.17571  18.78\n",
       "9     create_mean_meta1  0.29963   4.79\n",
       "10    create_mean_meta2  0.30455   4.86\n",
       "11    create_mean_meta3  0.30430   4.86\n",
       "12    create_mean_meta4  0.30096   4.81\n",
       "13    create_mean_meta5  0.29769   4.75\n",
       "14        create target  0.30593   4.89"
      ]
     },
     "execution_count": 90,
     "metadata": {},
     "output_type": "execute_result"
    }
   ],
   "source": [
    "get_profile(profile)"
   ]
  },
  {
   "cell_type": "code",
   "execution_count": 81,
   "metadata": {},
   "outputs": [
    {
     "data": {
      "text/html": [
       "<div>\n",
       "<style scoped>\n",
       "    .dataframe tbody tr th:only-of-type {\n",
       "        vertical-align: middle;\n",
       "    }\n",
       "\n",
       "    .dataframe tbody tr th {\n",
       "        vertical-align: top;\n",
       "    }\n",
       "\n",
       "    .dataframe thead th {\n",
       "        text-align: right;\n",
       "    }\n",
       "</style>\n",
       "<table border=\"1\" class=\"dataframe\">\n",
       "  <thead>\n",
       "    <tr style=\"text-align: right;\">\n",
       "      <th></th>\n",
       "      <th>task</th>\n",
       "      <th>sec</th>\n",
       "      <th>per</th>\n",
       "    </tr>\n",
       "  </thead>\n",
       "  <tbody>\n",
       "    <tr>\n",
       "      <th>0</th>\n",
       "      <td>select_rows</td>\n",
       "      <td>0.100</td>\n",
       "      <td>6.28</td>\n",
       "    </tr>\n",
       "    <tr>\n",
       "      <th>1</th>\n",
       "      <td>exclude_nans</td>\n",
       "      <td>0.102</td>\n",
       "      <td>6.41</td>\n",
       "    </tr>\n",
       "    <tr>\n",
       "      <th>2</th>\n",
       "      <td>get_imp_list</td>\n",
       "      <td>0.000</td>\n",
       "      <td>0.00</td>\n",
       "    </tr>\n",
       "    <tr>\n",
       "      <th>3</th>\n",
       "      <td>get_price</td>\n",
       "      <td>0.000</td>\n",
       "      <td>0.00</td>\n",
       "    </tr>\n",
       "    <tr>\n",
       "      <th>4</th>\n",
       "      <td>create_df</td>\n",
       "      <td>0.101</td>\n",
       "      <td>6.34</td>\n",
       "    </tr>\n",
       "    <tr>\n",
       "      <th>5</th>\n",
       "      <td>rel_price_rank</td>\n",
       "      <td>0.100</td>\n",
       "      <td>6.28</td>\n",
       "    </tr>\n",
       "    <tr>\n",
       "      <th>6</th>\n",
       "      <td>compute_mean_median</td>\n",
       "      <td>0.144</td>\n",
       "      <td>9.05</td>\n",
       "    </tr>\n",
       "    <tr>\n",
       "      <th>7</th>\n",
       "      <td>compute_diff</td>\n",
       "      <td>0.304</td>\n",
       "      <td>19.10</td>\n",
       "    </tr>\n",
       "    <tr>\n",
       "      <th>8</th>\n",
       "      <td>join</td>\n",
       "      <td>0.271</td>\n",
       "      <td>17.02</td>\n",
       "    </tr>\n",
       "    <tr>\n",
       "      <th>9</th>\n",
       "      <td>create_mean_meta</td>\n",
       "      <td>0.361</td>\n",
       "      <td>22.68</td>\n",
       "    </tr>\n",
       "    <tr>\n",
       "      <th>10</th>\n",
       "      <td>create target</td>\n",
       "      <td>0.109</td>\n",
       "      <td>6.85</td>\n",
       "    </tr>\n",
       "  </tbody>\n",
       "</table>\n",
       "</div>"
      ],
      "text/plain": [
       "                   task    sec    per\n",
       "0           select_rows  0.100   6.28\n",
       "1          exclude_nans  0.102   6.41\n",
       "2          get_imp_list  0.000   0.00\n",
       "3             get_price  0.000   0.00\n",
       "4             create_df  0.101   6.34\n",
       "5        rel_price_rank  0.100   6.28\n",
       "6   compute_mean_median  0.144   9.05\n",
       "7          compute_diff  0.304  19.10\n",
       "8                  join  0.271  17.02\n",
       "9      create_mean_meta  0.361  22.68\n",
       "10        create target  0.109   6.85"
      ]
     },
     "execution_count": 81,
     "metadata": {},
     "output_type": "execute_result"
    }
   ],
   "source": [
    "get_profile(profile)"
   ]
  },
  {
   "cell_type": "code",
   "execution_count": 74,
   "metadata": {},
   "outputs": [],
   "source": [
    "df = get_profile(profile)"
   ]
  },
  {
   "cell_type": "code",
   "execution_count": 77,
   "metadata": {},
   "outputs": [
    {
     "name": "stdout",
     "output_type": "stream",
     "text": [
      "32 µs ± 2.8 µs per loop (mean ± std. dev. of 7 runs, 10000 loops each)\n"
     ]
    }
   ],
   "source": [
    "%timeit df['per'].mean()"
   ]
  },
  {
   "cell_type": "code",
   "execution_count": 78,
   "metadata": {},
   "outputs": [
    {
     "name": "stdout",
     "output_type": "stream",
     "text": [
      "7.82 µs ± 174 ns per loop (mean ± std. dev. of 7 runs, 100000 loops each)\n"
     ]
    }
   ],
   "source": [
    "%timeit np.mean(df['per'].values)"
   ]
  },
  {
   "cell_type": "code",
   "execution_count": 79,
   "metadata": {},
   "outputs": [
    {
     "name": "stdout",
     "output_type": "stream",
     "text": [
      "1.67 µs ± 10.3 ns per loop (mean ± std. dev. of 7 runs, 1000000 loops each)\n"
     ]
    }
   ],
   "source": [
    "%timeit df['per'].values"
   ]
  },
  {
   "cell_type": "code",
   "execution_count": null,
   "metadata": {},
   "outputs": [],
   "source": [
    "pprint(profile)"
   ]
  },
  {
   "cell_type": "code",
   "execution_count": null,
   "metadata": {},
   "outputs": [],
   "source": [
    "%%time\n",
    "dd = session_grp.apply(compute_clicks)"
   ]
  },
  {
   "cell_type": "code",
   "execution_count": null,
   "metadata": {},
   "outputs": [],
   "source": [
    "%%time\n",
    "# join on session features\n",
    "dd = dd.reset_index(level=0).set_index('session_id')"
   ]
  },
  {
   "cell_type": "code",
   "execution_count": null,
   "metadata": {},
   "outputs": [],
   "source": [
    "%%time\n",
    "final = dd.join(session_fts)"
   ]
  },
  {
   "cell_type": "markdown",
   "metadata": {},
   "source": [
    "### Questions:\n",
    "\n",
    "1) timestamp to utc time, timezones? (this matters to e.g. hours of the timestamp)\n",
    "\n",
    "2) does platform change within a session?"
   ]
  },
  {
   "cell_type": "markdown",
   "metadata": {},
   "source": [
    "to do:\n",
    "\n",
    "1) check the time range of train vs test"
   ]
  },
  {
   "cell_type": "code",
   "execution_count": null,
   "metadata": {},
   "outputs": [],
   "source": []
  }
 ],
 "metadata": {
  "kernelspec": {
   "display_name": "Python 3",
   "language": "python",
   "name": "python3"
  },
  "language_info": {
   "codemirror_mode": {
    "name": "ipython",
    "version": 3
   },
   "file_extension": ".py",
   "mimetype": "text/x-python",
   "name": "python",
   "nbconvert_exporter": "python",
   "pygments_lexer": "ipython3",
   "version": "3.7.1"
  }
 },
 "nbformat": 4,
 "nbformat_minor": 2
}
