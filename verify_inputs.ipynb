{
 "cells": [
  {
   "cell_type": "code",
   "execution_count": 14,
   "metadata": {},
   "outputs": [
    {
     "name": "stdout",
     "output_type": "stream",
     "text": [
      "The autoreload extension is already loaded. To reload it, use:\n",
      "  %reload_ext autoreload\n"
     ]
    }
   ],
   "source": [
    "from utils import load_data, check_gpu, check_dir\n",
    "from clean_session import preprocess_sessions\n",
    "import pandas as pd\n",
    "import numpy as np\n",
    "from tqdm import tqdm\n",
    "import gc\n",
    "from functools import partial\n",
    "import matplotlib.pyplot as plt\n",
    "from clean_session import preprocess_sessions\n",
    "from create_model_inputs import prepare_data, compute_session_fts, create_model_inputs\n",
    "import datetime\n",
    "%matplotlib inline\n",
    "%load_ext autoreload\n",
    "%autoreload 2\n",
    "def fprint(df, name):\n",
    "    print(f'{name} shape: ({df.shape[0]:,}, {df.shape[1]})')\n",
    "import pprint\n",
    "pp = pprint.PrettyPrinter(indent=1)\n",
    "pd.options.display.max_colwidth=1000"
   ]
  },
  {
   "cell_type": "code",
   "execution_count": 22,
   "metadata": {
    "scrolled": true
   },
   "outputs": [
    {
     "name": "stderr",
     "output_type": "stream",
     "text": [
      "[05-27 20:41:48 - create_model_inputs-110 - prepare_data - INFO] Load from existing ./nn_cache/train_100000_no_test.snappy\n"
     ]
    }
   ],
   "source": [
    "nrows = 100000\n",
    "train = prepare_data('train', nrows=nrows, convert_action_type=False, add_test=False, recompute=False)\n",
    "# df = compute_session_fts(train, 'train')"
   ]
  },
  {
   "cell_type": "code",
   "execution_count": 4,
   "metadata": {},
   "outputs": [],
   "source": [
    "train_ids = np.load('./nn_cache/train_ids.npy')"
   ]
  },
  {
   "cell_type": "code",
   "execution_count": 5,
   "metadata": {},
   "outputs": [
    {
     "data": {
      "text/plain": [
       "9234"
      ]
     },
     "execution_count": 5,
     "metadata": {},
     "output_type": "execute_result"
    }
   ],
   "source": [
    "len(train_ids)"
   ]
  },
  {
   "cell_type": "code",
   "execution_count": 6,
   "metadata": {},
   "outputs": [],
   "source": [
    "ids_to_test = ['65a684aa75ea1']"
   ]
  },
  {
   "cell_type": "code",
   "execution_count": 55,
   "metadata": {},
   "outputs": [
    {
     "data": {
      "text/plain": [
       "'0d29f6d11363f'"
      ]
     },
     "execution_count": 55,
     "metadata": {},
     "output_type": "execute_result"
    }
   ],
   "source": [
    "# choose an id to look at\n",
    "rid = np.random.choice(train_ids, 1)[0]\n",
    "rid"
   ]
  },
  {
   "cell_type": "code",
   "execution_count": 56,
   "metadata": {
    "scrolled": false
   },
   "outputs": [
    {
     "data": {
      "text/html": [
       "<div>\n",
       "<style scoped>\n",
       "    .dataframe tbody tr th:only-of-type {\n",
       "        vertical-align: middle;\n",
       "    }\n",
       "\n",
       "    .dataframe tbody tr th {\n",
       "        vertical-align: top;\n",
       "    }\n",
       "\n",
       "    .dataframe thead th {\n",
       "        text-align: right;\n",
       "    }\n",
       "</style>\n",
       "<table border=\"1\" class=\"dataframe\">\n",
       "  <thead>\n",
       "    <tr style=\"text-align: right;\">\n",
       "      <th></th>\n",
       "      <th>session_id</th>\n",
       "      <th>timestamp</th>\n",
       "      <th>action_type</th>\n",
       "      <th>current_filters</th>\n",
       "      <th>reference</th>\n",
       "      <th>impressions</th>\n",
       "      <th>prices</th>\n",
       "    </tr>\n",
       "  </thead>\n",
       "  <tbody>\n",
       "    <tr>\n",
       "      <th>1724</th>\n",
       "      <td>0d29f6d11363f</td>\n",
       "      <td>2018-11-05 11:17:21</td>\n",
       "      <td>clickout item</td>\n",
       "      <td>None</td>\n",
       "      <td>3756812</td>\n",
       "      <td>3756812|25955|36450|147276|3974716|2282300|151827|915997|107368|1258671|6340020|80225|9374742|2805597|1535855|4572856|36453|1392892|4440056|7195548|4894618|6533954|2831136|1773777|935753</td>\n",
       "      <td>16|102|101|70|86|66|21|16|12|85|64|63|21|55|72|47|28|137|65|13|72|28|26|36|25</td>\n",
       "    </tr>\n",
       "    <tr>\n",
       "      <th>1725</th>\n",
       "      <td>0d29f6d11363f</td>\n",
       "      <td>2018-11-05 11:29:27</td>\n",
       "      <td>search for destination</td>\n",
       "      <td>None</td>\n",
       "      <td>Ankara, Turkey</td>\n",
       "      <td>None</td>\n",
       "      <td>None</td>\n",
       "    </tr>\n",
       "    <tr>\n",
       "      <th>1726</th>\n",
       "      <td>0d29f6d11363f</td>\n",
       "      <td>2018-11-05 11:30:15</td>\n",
       "      <td>clickout item</td>\n",
       "      <td>None</td>\n",
       "      <td>2610238</td>\n",
       "      <td>151827|107368|1510073|5081140|36453|2162478|6533954|2831136|2610238|1375262|1773777|6967974|36470|6365508|6317924|3484880|36454|1625365|3163544|5746558|1364394|2312954|986837|5798414|1489021</td>\n",
       "      <td>21|12|21|27|28|25|28|26|19|30|36|24|36|25|27|32|27|23|32|33|31|32|25|24|18</td>\n",
       "    </tr>\n",
       "    <tr>\n",
       "      <th>1727</th>\n",
       "      <td>0d29f6d11363f</td>\n",
       "      <td>2018-11-05 11:32:41</td>\n",
       "      <td>clickout item</td>\n",
       "      <td>None</td>\n",
       "      <td>1489021</td>\n",
       "      <td>151827|107368|1510073|5081140|36453|2162478|6533954|2831136|2610238|1375262|1773777|6967974|36470|6365508|6317924|3484880|36454|1625365|3163544|5746558|1364394|2312954|986837|5798414|1489021</td>\n",
       "      <td>21|12|21|27|28|25|28|26|19|30|36|24|36|25|27|32|27|23|32|33|31|32|25|24|18</td>\n",
       "    </tr>\n",
       "    <tr>\n",
       "      <th>1728</th>\n",
       "      <td>0d29f6d11363f</td>\n",
       "      <td>2018-11-05 11:35:52</td>\n",
       "      <td>clickout item</td>\n",
       "      <td>None</td>\n",
       "      <td>2816552</td>\n",
       "      <td>107368|3756812|915997|2816552|1099020|5166254|7195548|2246700|2552126|107363|1178038|1967767|2168390|6785478|2330108|107365|107361|9993096|10064270|4560832|10755202|6965742</td>\n",
       "      <td>12|16|16|14|17|8|13|16|15|17|14|14|7|13|16|13|14|14|15|10|17|15</td>\n",
       "    </tr>\n",
       "    <tr>\n",
       "      <th>1729</th>\n",
       "      <td>0d29f6d11363f</td>\n",
       "      <td>2018-11-05 11:38:24</td>\n",
       "      <td>clickout item</td>\n",
       "      <td>None</td>\n",
       "      <td>3756812</td>\n",
       "      <td>107368|3756812|915997|2816552|1099020|5166254|7195548|2246700|2552126|107363|1178038|1967767|2168390|6785478|2330108|107365|107361|9993096|10064270|4560832|10755202|6965742</td>\n",
       "      <td>12|16|16|14|17|8|13|16|15|17|14|14|7|13|16|13|14|14|15|10|17|15</td>\n",
       "    </tr>\n",
       "    <tr>\n",
       "      <th>1730</th>\n",
       "      <td>0d29f6d11363f</td>\n",
       "      <td>2018-11-05 11:40:12</td>\n",
       "      <td>clickout item</td>\n",
       "      <td>None</td>\n",
       "      <td>3756812</td>\n",
       "      <td>107368|3756812|915997|2816552|1099020|5166254|7195548|2246700|2552126|107363|1178038|1967767|2168390|6785478|2330108|107365|107361|9993096|10064270|4560832|10755202|6965742</td>\n",
       "      <td>12|16|16|14|17|8|13|16|15|17|14|14|7|13|16|13|14|14|15|10|17|15</td>\n",
       "    </tr>\n",
       "    <tr>\n",
       "      <th>1731</th>\n",
       "      <td>0d29f6d11363f</td>\n",
       "      <td>2018-11-05 11:41:14</td>\n",
       "      <td>clickout item</td>\n",
       "      <td>None</td>\n",
       "      <td>1178038</td>\n",
       "      <td>107368|3756812|915997|2816552|1099020|5166254|7195548|2246700|2552126|107363|1178038|1967767|2168390|6785478|2330108|107365|107361|9993096|10064270|4560832|10755202|6965742</td>\n",
       "      <td>12|16|16|14|17|8|13|16|15|17|14|14|7|13|16|13|14|14|15|10|17|15</td>\n",
       "    </tr>\n",
       "    <tr>\n",
       "      <th>1732</th>\n",
       "      <td>0d29f6d11363f</td>\n",
       "      <td>2018-11-05 11:41:45</td>\n",
       "      <td>clickout item</td>\n",
       "      <td>None</td>\n",
       "      <td>1178038</td>\n",
       "      <td>107368|3756812|915997|2816552|1099020|5166254|7195548|2246700|2552126|107363|1178038|1967767|2168390|6785478|2330108|107365|107361|9993096|10064270|4560832|10755202|6965742</td>\n",
       "      <td>12|16|16|14|17|8|13|16|15|17|14|14|7|13|16|13|14|14|15|10|17|15</td>\n",
       "    </tr>\n",
       "    <tr>\n",
       "      <th>1733</th>\n",
       "      <td>0d29f6d11363f</td>\n",
       "      <td>2018-11-05 11:46:32</td>\n",
       "      <td>interaction item image</td>\n",
       "      <td>None</td>\n",
       "      <td>2168390</td>\n",
       "      <td>None</td>\n",
       "      <td>None</td>\n",
       "    </tr>\n",
       "    <tr>\n",
       "      <th>1734</th>\n",
       "      <td>0d29f6d11363f</td>\n",
       "      <td>2018-11-05 11:46:42</td>\n",
       "      <td>interaction item image</td>\n",
       "      <td>None</td>\n",
       "      <td>2168390</td>\n",
       "      <td>None</td>\n",
       "      <td>None</td>\n",
       "    </tr>\n",
       "    <tr>\n",
       "      <th>1735</th>\n",
       "      <td>0d29f6d11363f</td>\n",
       "      <td>2018-11-05 11:46:49</td>\n",
       "      <td>clickout item</td>\n",
       "      <td>None</td>\n",
       "      <td>2168390</td>\n",
       "      <td>107368|3756812|915997|2816552|1099020|5166254|7195548|2246700|2552126|107363|1178038|1967767|2168390|6785478|2330108|107365|107361|9993096|10064270|4560832|10755202|6965742</td>\n",
       "      <td>12|16|16|14|17|8|13|16|15|17|14|14|7|13|16|13|14|14|15|10|17|15</td>\n",
       "    </tr>\n",
       "    <tr>\n",
       "      <th>1736</th>\n",
       "      <td>0d29f6d11363f</td>\n",
       "      <td>2018-11-05 11:46:53</td>\n",
       "      <td>interaction item image</td>\n",
       "      <td>None</td>\n",
       "      <td>2168390</td>\n",
       "      <td>None</td>\n",
       "      <td>None</td>\n",
       "    </tr>\n",
       "    <tr>\n",
       "      <th>1737</th>\n",
       "      <td>0d29f6d11363f</td>\n",
       "      <td>2018-11-05 11:56:53</td>\n",
       "      <td>clickout item</td>\n",
       "      <td>None</td>\n",
       "      <td>7195548</td>\n",
       "      <td>107368|3756812|915997|2816552|1099020|5166254|7195548|2246700|2552126|107363|1178038|1967767|2168390|6785478|2330108|107365|107361|9993096|10064270|4560832|10755202|6965742</td>\n",
       "      <td>12|16|16|14|17|8|13|16|15|17|14|14|7|13|16|13|14|14|15|10|17|15</td>\n",
       "    </tr>\n",
       "    <tr>\n",
       "      <th>1738</th>\n",
       "      <td>0d29f6d11363f</td>\n",
       "      <td>2018-11-05 12:07:00</td>\n",
       "      <td>clickout item</td>\n",
       "      <td>None</td>\n",
       "      <td>107361</td>\n",
       "      <td>107368|3756812|915997|2816552|1099020|5166254|7195548|2246700|2552126|107363|1178038|1967767|2168390|6785478|2330108|107365|107361|9993096|10064270|4560832|10755202|6965742</td>\n",
       "      <td>12|16|16|14|17|8|13|16|15|17|14|14|7|13|16|13|14|14|15|10|17|15</td>\n",
       "    </tr>\n",
       "    <tr>\n",
       "      <th>1739</th>\n",
       "      <td>0d29f6d11363f</td>\n",
       "      <td>2018-11-05 12:07:43</td>\n",
       "      <td>clickout item</td>\n",
       "      <td>None</td>\n",
       "      <td>4560832</td>\n",
       "      <td>107368|3756812|915997|2816552|1099020|5166254|7195548|2246700|2552126|107363|1178038|1967767|2168390|6785478|2330108|107365|107361|9993096|10064270|4560832|10755202|6965742</td>\n",
       "      <td>12|16|16|14|17|8|13|16|15|17|14|14|7|13|16|13|14|14|15|10|17|15</td>\n",
       "    </tr>\n",
       "    <tr>\n",
       "      <th>1740</th>\n",
       "      <td>0d29f6d11363f</td>\n",
       "      <td>2018-11-05 12:15:41</td>\n",
       "      <td>clickout item</td>\n",
       "      <td>None</td>\n",
       "      <td>1178038</td>\n",
       "      <td>1178038|25955|36450|147276|3974716|2282300|915997|1258671|6340020|7195548|80225|2805597|107368|1535855|4572856|36453|1392892|4440056|4894618|2831136|151827|6533954|3756812|1375262|1773777</td>\n",
       "      <td>14|102|101|70|86|66|16|85|64|13|63|55|12|72|47|28|137|65|72|26|21|28|16|30|36</td>\n",
       "    </tr>\n",
       "  </tbody>\n",
       "</table>\n",
       "</div>"
      ],
      "text/plain": [
       "         session_id           timestamp             action_type  \\\n",
       "1724  0d29f6d11363f 2018-11-05 11:17:21           clickout item   \n",
       "1725  0d29f6d11363f 2018-11-05 11:29:27  search for destination   \n",
       "1726  0d29f6d11363f 2018-11-05 11:30:15           clickout item   \n",
       "1727  0d29f6d11363f 2018-11-05 11:32:41           clickout item   \n",
       "1728  0d29f6d11363f 2018-11-05 11:35:52           clickout item   \n",
       "1729  0d29f6d11363f 2018-11-05 11:38:24           clickout item   \n",
       "1730  0d29f6d11363f 2018-11-05 11:40:12           clickout item   \n",
       "1731  0d29f6d11363f 2018-11-05 11:41:14           clickout item   \n",
       "1732  0d29f6d11363f 2018-11-05 11:41:45           clickout item   \n",
       "1733  0d29f6d11363f 2018-11-05 11:46:32  interaction item image   \n",
       "1734  0d29f6d11363f 2018-11-05 11:46:42  interaction item image   \n",
       "1735  0d29f6d11363f 2018-11-05 11:46:49           clickout item   \n",
       "1736  0d29f6d11363f 2018-11-05 11:46:53  interaction item image   \n",
       "1737  0d29f6d11363f 2018-11-05 11:56:53           clickout item   \n",
       "1738  0d29f6d11363f 2018-11-05 12:07:00           clickout item   \n",
       "1739  0d29f6d11363f 2018-11-05 12:07:43           clickout item   \n",
       "1740  0d29f6d11363f 2018-11-05 12:15:41           clickout item   \n",
       "\n",
       "     current_filters       reference  \\\n",
       "1724            None         3756812   \n",
       "1725            None  Ankara, Turkey   \n",
       "1726            None         2610238   \n",
       "1727            None         1489021   \n",
       "1728            None         2816552   \n",
       "1729            None         3756812   \n",
       "1730            None         3756812   \n",
       "1731            None         1178038   \n",
       "1732            None         1178038   \n",
       "1733            None         2168390   \n",
       "1734            None         2168390   \n",
       "1735            None         2168390   \n",
       "1736            None         2168390   \n",
       "1737            None         7195548   \n",
       "1738            None          107361   \n",
       "1739            None         4560832   \n",
       "1740            None         1178038   \n",
       "\n",
       "                                                                                                                                                                                         impressions  \\\n",
       "1724      3756812|25955|36450|147276|3974716|2282300|151827|915997|107368|1258671|6340020|80225|9374742|2805597|1535855|4572856|36453|1392892|4440056|7195548|4894618|6533954|2831136|1773777|935753   \n",
       "1725                                                                                                                                                                                            None   \n",
       "1726  151827|107368|1510073|5081140|36453|2162478|6533954|2831136|2610238|1375262|1773777|6967974|36470|6365508|6317924|3484880|36454|1625365|3163544|5746558|1364394|2312954|986837|5798414|1489021   \n",
       "1727  151827|107368|1510073|5081140|36453|2162478|6533954|2831136|2610238|1375262|1773777|6967974|36470|6365508|6317924|3484880|36454|1625365|3163544|5746558|1364394|2312954|986837|5798414|1489021   \n",
       "1728                    107368|3756812|915997|2816552|1099020|5166254|7195548|2246700|2552126|107363|1178038|1967767|2168390|6785478|2330108|107365|107361|9993096|10064270|4560832|10755202|6965742   \n",
       "1729                    107368|3756812|915997|2816552|1099020|5166254|7195548|2246700|2552126|107363|1178038|1967767|2168390|6785478|2330108|107365|107361|9993096|10064270|4560832|10755202|6965742   \n",
       "1730                    107368|3756812|915997|2816552|1099020|5166254|7195548|2246700|2552126|107363|1178038|1967767|2168390|6785478|2330108|107365|107361|9993096|10064270|4560832|10755202|6965742   \n",
       "1731                    107368|3756812|915997|2816552|1099020|5166254|7195548|2246700|2552126|107363|1178038|1967767|2168390|6785478|2330108|107365|107361|9993096|10064270|4560832|10755202|6965742   \n",
       "1732                    107368|3756812|915997|2816552|1099020|5166254|7195548|2246700|2552126|107363|1178038|1967767|2168390|6785478|2330108|107365|107361|9993096|10064270|4560832|10755202|6965742   \n",
       "1733                                                                                                                                                                                            None   \n",
       "1734                                                                                                                                                                                            None   \n",
       "1735                    107368|3756812|915997|2816552|1099020|5166254|7195548|2246700|2552126|107363|1178038|1967767|2168390|6785478|2330108|107365|107361|9993096|10064270|4560832|10755202|6965742   \n",
       "1736                                                                                                                                                                                            None   \n",
       "1737                    107368|3756812|915997|2816552|1099020|5166254|7195548|2246700|2552126|107363|1178038|1967767|2168390|6785478|2330108|107365|107361|9993096|10064270|4560832|10755202|6965742   \n",
       "1738                    107368|3756812|915997|2816552|1099020|5166254|7195548|2246700|2552126|107363|1178038|1967767|2168390|6785478|2330108|107365|107361|9993096|10064270|4560832|10755202|6965742   \n",
       "1739                    107368|3756812|915997|2816552|1099020|5166254|7195548|2246700|2552126|107363|1178038|1967767|2168390|6785478|2330108|107365|107361|9993096|10064270|4560832|10755202|6965742   \n",
       "1740     1178038|25955|36450|147276|3974716|2282300|915997|1258671|6340020|7195548|80225|2805597|107368|1535855|4572856|36453|1392892|4440056|4894618|2831136|151827|6533954|3756812|1375262|1773777   \n",
       "\n",
       "                                                                             prices  \n",
       "1724  16|102|101|70|86|66|21|16|12|85|64|63|21|55|72|47|28|137|65|13|72|28|26|36|25  \n",
       "1725                                                                           None  \n",
       "1726     21|12|21|27|28|25|28|26|19|30|36|24|36|25|27|32|27|23|32|33|31|32|25|24|18  \n",
       "1727     21|12|21|27|28|25|28|26|19|30|36|24|36|25|27|32|27|23|32|33|31|32|25|24|18  \n",
       "1728                12|16|16|14|17|8|13|16|15|17|14|14|7|13|16|13|14|14|15|10|17|15  \n",
       "1729                12|16|16|14|17|8|13|16|15|17|14|14|7|13|16|13|14|14|15|10|17|15  \n",
       "1730                12|16|16|14|17|8|13|16|15|17|14|14|7|13|16|13|14|14|15|10|17|15  \n",
       "1731                12|16|16|14|17|8|13|16|15|17|14|14|7|13|16|13|14|14|15|10|17|15  \n",
       "1732                12|16|16|14|17|8|13|16|15|17|14|14|7|13|16|13|14|14|15|10|17|15  \n",
       "1733                                                                           None  \n",
       "1734                                                                           None  \n",
       "1735                12|16|16|14|17|8|13|16|15|17|14|14|7|13|16|13|14|14|15|10|17|15  \n",
       "1736                                                                           None  \n",
       "1737                12|16|16|14|17|8|13|16|15|17|14|14|7|13|16|13|14|14|15|10|17|15  \n",
       "1738                12|16|16|14|17|8|13|16|15|17|14|14|7|13|16|13|14|14|15|10|17|15  \n",
       "1739                12|16|16|14|17|8|13|16|15|17|14|14|7|13|16|13|14|14|15|10|17|15  \n",
       "1740  14|102|101|70|86|66|16|85|64|13|63|55|12|72|47|28|137|65|72|26|21|28|16|30|36  "
      ]
     },
     "execution_count": 56,
     "metadata": {},
     "output_type": "execute_result"
    }
   ],
   "source": [
    "train[train.session_id==rid]"
   ]
  },
  {
   "cell_type": "code",
   "execution_count": 57,
   "metadata": {},
   "outputs": [],
   "source": [
    "mask = train_ids == rid"
   ]
  },
  {
   "cell_type": "markdown",
   "metadata": {},
   "source": [
    "### history"
   ]
  },
  {
   "cell_type": "code",
   "execution_count": 51,
   "metadata": {},
   "outputs": [],
   "source": [
    "train_hist = np.load('./nn_cache/train_history.npy')#[:100]"
   ]
  },
  {
   "cell_type": "code",
   "execution_count": 52,
   "metadata": {},
   "outputs": [
    {
     "data": {
      "text/plain": [
       "(9234, 25, 4)"
      ]
     },
     "execution_count": 52,
     "metadata": {},
     "output_type": "execute_result"
    }
   ],
   "source": [
    "train_hist.shape"
   ]
  },
  {
   "cell_type": "code",
   "execution_count": 58,
   "metadata": {},
   "outputs": [
    {
     "data": {
      "text/plain": [
       "(13, 25, 4)"
      ]
     },
     "execution_count": 58,
     "metadata": {},
     "output_type": "execute_result"
    }
   ],
   "source": [
    "train_hist[mask].shape"
   ]
  },
  {
   "cell_type": "code",
   "execution_count": 64,
   "metadata": {},
   "outputs": [
    {
     "data": {
      "text/plain": [
       "array([[0.0, 2.0, 0.0, 0.0],\n",
       "       [0.0, 0.0, 0.0, 0.0],\n",
       "       [0.0, 0.0, 0.0, 0.0],\n",
       "       [0.0, 0.0, 0.0, 0.0],\n",
       "       [0.0, 0.0, 0.0, 0.0],\n",
       "       [0.0, 0.0, 0.0, 0.0],\n",
       "       [0.0, 0.0, 0.0, 0.0],\n",
       "       [0.0, 0.0, 0.0, 0.0],\n",
       "       [0.0, 0.0, 0.0, 0.0],\n",
       "       [0.0, 1.0, 0.0, 0.0],\n",
       "       [0.0, 0.0, 0.0, 0.0],\n",
       "       [0.0, 0.0, 0.0, 0.0],\n",
       "       [0.0, 0.0, 0.0, 0.0],\n",
       "       [0.0, 0.0, 0.0, 0.0],\n",
       "       [0.0, 0.0, 0.0, 0.0],\n",
       "       [0.0, 0.0, 0.0, 0.0],\n",
       "       [0.0, 0.0, 0.0, 0.0],\n",
       "       [0.0, 0.0, 0.0, 0.0],\n",
       "       [0.0, 0.0, 0.0, 0.0],\n",
       "       [0.0, 0.0, 0.0, 0.0],\n",
       "       [0.0, 0.0, 0.0, 0.0],\n",
       "       [0.0, 0.0, 0.0, 0.0],\n",
       "       [0.0, 3.0, 0.0, 0.0],\n",
       "       [0.0, 0.0, 0.0, 0.0],\n",
       "       [0.0, 0.0, 0.0, 0.0]], dtype=object)"
      ]
     },
     "execution_count": 64,
     "metadata": {},
     "output_type": "execute_result"
    }
   ],
   "source": [
    "train_hist[mask][-1]"
   ]
  },
  {
   "cell_type": "markdown",
   "metadata": {},
   "source": [
    "### impressions"
   ]
  },
  {
   "cell_type": "code",
   "execution_count": 65,
   "metadata": {},
   "outputs": [],
   "source": [
    "train_imp = np.load('./nn_cache/train_impression.npy')"
   ]
  },
  {
   "cell_type": "code",
   "execution_count": 66,
   "metadata": {},
   "outputs": [
    {
     "data": {
      "text/plain": [
       "(13, 25, 157)"
      ]
     },
     "execution_count": 66,
     "metadata": {},
     "output_type": "execute_result"
    }
   ],
   "source": [
    "train_imp[mask].shape"
   ]
  },
  {
   "cell_type": "code",
   "execution_count": 77,
   "metadata": {},
   "outputs": [
    {
     "data": {
      "text/plain": [
       "array([[0, 0, 1, ..., 0, 0, 0],\n",
       "       [1, 0, 1, ..., 0, 0, 0],\n",
       "       [1, 0, 1, ..., 0, 0, 1],\n",
       "       ...,\n",
       "       [0, 0, 0, ..., 0, 0, 1],\n",
       "       [0, 0, 1, ..., 0, 0, 0],\n",
       "       [0, 0, 1, ..., 0, 0, 0]])"
      ]
     },
     "execution_count": 77,
     "metadata": {},
     "output_type": "execute_result"
    }
   ],
   "source": [
    "train_imp[mask][-1]"
   ]
  },
  {
   "cell_type": "code",
   "execution_count": 68,
   "metadata": {},
   "outputs": [],
   "source": [
    "from create_model_inputs import meta_encoding"
   ]
  },
  {
   "cell_type": "code",
   "execution_count": 74,
   "metadata": {},
   "outputs": [
    {
     "name": "stderr",
     "output_type": "stream",
     "text": [
      "[05-27 21:26:07 - create_model_inputs-47 - meta_encoding - INFO] Load from existing file: ./nn_cache/meta_mapping.npy\n"
     ]
    }
   ],
   "source": [
    "m, _ = meta_encoding()"
   ]
  },
  {
   "cell_type": "code",
   "execution_count": 79,
   "metadata": {},
   "outputs": [
    {
     "data": {
      "text/plain": [
       "array([0, 0, 1, 0, 0, 0, 0, 1, 0, 0, 0, 0, 1, 0, 0, 0, 0, 0, 0, 1, 0, 0,\n",
       "       0, 1, 0, 0, 0, 0, 0, 0, 0, 0, 0, 1, 0, 0, 1, 0, 1, 0, 0, 0, 0, 1,\n",
       "       1, 1, 1, 0, 0, 1, 1, 0, 0, 0, 1, 0, 0, 0, 1, 1, 0, 0, 0, 0, 1, 1,\n",
       "       0, 0, 1, 1, 0, 0, 0, 1, 0, 0, 0, 0, 0, 1, 1, 1, 1, 0, 1, 1, 0, 0,\n",
       "       1, 0, 0, 0, 0, 0, 1, 1, 0, 1, 0, 0, 0, 0, 0, 0, 1, 0, 1, 0, 1, 0,\n",
       "       1, 1, 1, 1, 0, 0, 1, 1, 0, 0, 0, 0, 0, 0, 1, 0, 1, 0, 1, 0, 0, 1,\n",
       "       0, 0, 0, 0, 0, 0, 0, 1, 0, 0, 1, 1, 1, 0, 1, 0, 0, 1, 0, 0, 1, 1,\n",
       "       0, 0, 0])"
      ]
     },
     "execution_count": 79,
     "metadata": {},
     "output_type": "execute_result"
    }
   ],
   "source": [
    "m[1773777]"
   ]
  },
  {
   "cell_type": "markdown",
   "metadata": {},
   "source": [
    "### prices"
   ]
  },
  {
   "cell_type": "code",
   "execution_count": 80,
   "metadata": {},
   "outputs": [],
   "source": [
    "prices = np.load('./nn_cache/train_price.npy')"
   ]
  },
  {
   "cell_type": "code",
   "execution_count": 81,
   "metadata": {},
   "outputs": [
    {
     "data": {
      "text/plain": [
       "array([[2.83321334, 0.14285714],\n",
       "       [4.63472899, 0.95238095],\n",
       "       [4.62497281, 0.9047619 ],\n",
       "       [4.26267988, 0.71428571],\n",
       "       [4.46590812, 0.85714286],\n",
       "       [4.20469262, 0.66666667],\n",
       "       [3.09104245, 0.19047619],\n",
       "       [2.83321334, 0.14285714],\n",
       "       [2.56494936, 0.04761905],\n",
       "       [4.4543473 , 0.80952381],\n",
       "       [4.17438727, 0.57142857],\n",
       "       [4.15888308, 0.52380952],\n",
       "       [3.09104245, 0.19047619],\n",
       "       [4.02535169, 0.47619048],\n",
       "       [4.29045944, 0.76190476],\n",
       "       [3.87120101, 0.42857143],\n",
       "       [3.36729583, 0.33333333],\n",
       "       [4.92725369, 1.        ],\n",
       "       [4.18965474, 0.61904762],\n",
       "       [2.63905733, 0.0952381 ],\n",
       "       [4.29045944, 0.76190476],\n",
       "       [3.36729583, 0.33333333],\n",
       "       [3.29583687, 0.28571429],\n",
       "       [3.61091791, 0.38095238],\n",
       "       [3.25809654, 0.23809524]])"
      ]
     },
     "execution_count": 81,
     "metadata": {},
     "output_type": "execute_result"
    }
   ],
   "source": [
    "prices[mask][0]"
   ]
  },
  {
   "cell_type": "code",
   "execution_count": null,
   "metadata": {},
   "outputs": [],
   "source": [
    "16|102|101|70|86|66|21|16|12|85|64|63|21|55|72|47|28|137|65|13|72|28|26|36|25"
   ]
  },
  {
   "cell_type": "code",
   "execution_count": 82,
   "metadata": {},
   "outputs": [
    {
     "data": {
      "text/plain": [
       "2.833213344056216"
      ]
     },
     "execution_count": 82,
     "metadata": {},
     "output_type": "execute_result"
    }
   ],
   "source": [
    "np.log1p(16)"
   ]
  },
  {
   "cell_type": "code",
   "execution_count": null,
   "metadata": {},
   "outputs": [],
   "source": []
  },
  {
   "cell_type": "code",
   "execution_count": null,
   "metadata": {},
   "outputs": [],
   "source": []
  },
  {
   "cell_type": "code",
   "execution_count": null,
   "metadata": {},
   "outputs": [],
   "source": []
  },
  {
   "cell_type": "code",
   "execution_count": null,
   "metadata": {},
   "outputs": [],
   "source": []
  },
  {
   "cell_type": "code",
   "execution_count": null,
   "metadata": {},
   "outputs": [],
   "source": []
  },
  {
   "cell_type": "code",
   "execution_count": null,
   "metadata": {},
   "outputs": [],
   "source": []
  },
  {
   "cell_type": "code",
   "execution_count": null,
   "metadata": {},
   "outputs": [],
   "source": []
  },
  {
   "cell_type": "code",
   "execution_count": null,
   "metadata": {},
   "outputs": [],
   "source": []
  },
  {
   "cell_type": "markdown",
   "metadata": {},
   "source": [
    "### take a look of test sessions that are not in submission"
   ]
  },
  {
   "cell_type": "code",
   "execution_count": null,
   "metadata": {},
   "outputs": [],
   "source": [
    "test = load_data('test')"
   ]
  },
  {
   "cell_type": "code",
   "execution_count": null,
   "metadata": {},
   "outputs": [],
   "source": [
    "test_sub = load_data('submission_popular')"
   ]
  },
  {
   "cell_type": "code",
   "execution_count": null,
   "metadata": {},
   "outputs": [],
   "source": [
    "test_sub.shape"
   ]
  },
  {
   "cell_type": "code",
   "execution_count": null,
   "metadata": {},
   "outputs": [],
   "source": [
    "f'{test_sub.session_id.nunique():,}'"
   ]
  },
  {
   "cell_type": "code",
   "execution_count": null,
   "metadata": {},
   "outputs": [],
   "source": [
    "sub_ids = test_sub.session_id.unique()"
   ]
  },
  {
   "cell_type": "code",
   "execution_count": null,
   "metadata": {},
   "outputs": [],
   "source": [
    "f'{test.shape[0]:,}'"
   ]
  },
  {
   "cell_type": "code",
   "execution_count": null,
   "metadata": {},
   "outputs": [],
   "source": [
    "subs = test[test.session_id.isin(sub_ids)]"
   ]
  },
  {
   "cell_type": "code",
   "execution_count": null,
   "metadata": {},
   "outputs": [],
   "source": [
    "f'{subs.shape[0]:,}'"
   ]
  },
  {
   "cell_type": "code",
   "execution_count": null,
   "metadata": {},
   "outputs": [],
   "source": [
    "no_subs = test[~test.session_id.isin(sub_ids)]"
   ]
  },
  {
   "cell_type": "code",
   "execution_count": null,
   "metadata": {},
   "outputs": [],
   "source": [
    "f'{no_subs.shape[0]:,}'"
   ]
  },
  {
   "cell_type": "code",
   "execution_count": null,
   "metadata": {},
   "outputs": [],
   "source": [
    "no_subs_ids = no_subs.session_id.unique()"
   ]
  },
  {
   "cell_type": "code",
   "execution_count": null,
   "metadata": {},
   "outputs": [],
   "source": [
    "pd.options.display.max_colwidth = 1000"
   ]
  },
  {
   "cell_type": "code",
   "execution_count": null,
   "metadata": {},
   "outputs": [],
   "source": [
    "no_subs[no_subs.session_id==np.random.choice(no_subs_ids, 1)[0]]"
   ]
  },
  {
   "cell_type": "code",
   "execution_count": null,
   "metadata": {},
   "outputs": [],
   "source": []
  }
 ],
 "metadata": {
  "kernelspec": {
   "display_name": "Python 3",
   "language": "python",
   "name": "python3"
  },
  "language_info": {
   "codemirror_mode": {
    "name": "ipython",
    "version": 3
   },
   "file_extension": ".py",
   "mimetype": "text/x-python",
   "name": "python",
   "nbconvert_exporter": "python",
   "pygments_lexer": "ipython3",
   "version": "3.6.8"
  }
 },
 "nbformat": 4,
 "nbformat_minor": 2
}
