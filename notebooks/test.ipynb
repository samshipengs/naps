{
 "cells": [
  {
   "cell_type": "code",
   "execution_count": 1,
   "metadata": {},
   "outputs": [],
   "source": [
    "import pandas as pd\n",
    "import numpy as np\n",
    "import datetime\n",
    "import time \n",
    "import os\n",
    "import gc\n",
    "\n",
    "\n",
    "%matplotlib inline\n",
    "%load_ext autoreload\n",
    "%autoreload 2"
   ]
  },
  {
   "cell_type": "code",
   "execution_count": 2,
   "metadata": {},
   "outputs": [
    {
     "data": {
      "text/plain": [
       "'/anaconda3/lib/python3.7/site-packages/numpy/core/fromnumeric.py:51: FutureWarning: Series.nonzero() is deprecated and will be removed in a future version.Use Series.to_numpy().nonzero() instead\\n  return getattr(obj, method)(*args, **kwds)'"
      ]
     },
     "execution_count": 2,
     "metadata": {},
     "output_type": "execute_result"
    }
   ],
   "source": [
    "import warnings\n",
    "warnings.simplefilter(action='ignore', category=FutureWarning)\n",
    "'''/anaconda3/lib/python3.7/site-packages/numpy/core/fromnumeric.py:51: FutureWarning: Series.nonzero() is deprecated and will be removed in a future version.Use Series.to_numpy().nonzero() instead\n",
    "  return getattr(obj, method)(*args, **kwds)'''"
   ]
  },
  {
   "cell_type": "code",
   "execution_count": 3,
   "metadata": {},
   "outputs": [
    {
     "name": "stdout",
     "output_type": "stream",
     "text": [
      "total 5771360\r\n",
      "-rw-------@ 1 sam_dessa  staff   246M 24 Mar 18:29 item_metadata.csv\r\n",
      "-rw-------@ 1 sam_dessa  staff   510M 24 Mar 18:29 test.csv\r\n",
      "-rw-------@ 1 sam_dessa  staff   2.0G 24 Mar 18:29 train.csv\r\n",
      "-rw-------@ 1 sam_dessa  staff    51M 24 Mar 18:48 submission_popular.csv\r\n"
     ]
    }
   ],
   "source": [
    "data_path = './data/'\n",
    "!ls -lthr data/"
   ]
  },
  {
   "cell_type": "code",
   "execution_count": 4,
   "metadata": {},
   "outputs": [
    {
     "name": "stdout",
     "output_type": "stream",
     "text": [
      "CPU times: user 20.5 s, sys: 1.48 s, total: 22 s\n",
      "Wall time: 22 s\n"
     ]
    }
   ],
   "source": [
    "%%time\n",
    "# nrows = 100000\n",
    "nrows = None\n",
    "train = pd.read_csv(data_path+'train.csv', nrows=nrows)"
   ]
  },
  {
   "cell_type": "code",
   "execution_count": 5,
   "metadata": {},
   "outputs": [],
   "source": [
    "def pshape(df):\n",
    "    print(f'df len: {df.shape[0]:,}')"
   ]
  },
  {
   "cell_type": "code",
   "execution_count": 6,
   "metadata": {
    "scrolled": true
   },
   "outputs": [
    {
     "name": "stdout",
     "output_type": "stream",
     "text": [
      "df len: 15,932,992\n"
     ]
    }
   ],
   "source": [
    "pshape(train)"
   ]
  },
  {
   "cell_type": "code",
   "execution_count": 7,
   "metadata": {},
   "outputs": [
    {
     "data": {
      "text/plain": [
       "(1000, 12)"
      ]
     },
     "execution_count": 7,
     "metadata": {},
     "output_type": "execute_result"
    }
   ],
   "source": [
    "test = pd.read_csv(data_path+'test.csv', nrows=1000)\n",
    "test.shape"
   ]
  },
  {
   "cell_type": "code",
   "execution_count": 8,
   "metadata": {},
   "outputs": [
    {
     "data": {
      "text/html": [
       "<div>\n",
       "<style scoped>\n",
       "    .dataframe tbody tr th:only-of-type {\n",
       "        vertical-align: middle;\n",
       "    }\n",
       "\n",
       "    .dataframe tbody tr th {\n",
       "        vertical-align: top;\n",
       "    }\n",
       "\n",
       "    .dataframe thead th {\n",
       "        text-align: right;\n",
       "    }\n",
       "</style>\n",
       "<table border=\"1\" class=\"dataframe\">\n",
       "  <thead>\n",
       "    <tr style=\"text-align: right;\">\n",
       "      <th></th>\n",
       "      <th>user_id</th>\n",
       "      <th>session_id</th>\n",
       "      <th>timestamp</th>\n",
       "      <th>step</th>\n",
       "      <th>action_type</th>\n",
       "      <th>reference</th>\n",
       "      <th>platform</th>\n",
       "      <th>city</th>\n",
       "      <th>device</th>\n",
       "      <th>current_filters</th>\n",
       "      <th>impressions</th>\n",
       "      <th>prices</th>\n",
       "    </tr>\n",
       "  </thead>\n",
       "  <tbody>\n",
       "    <tr>\n",
       "      <th>0</th>\n",
       "      <td>00RL8Z82B2Z1</td>\n",
       "      <td>aff3928535f48</td>\n",
       "      <td>1541037460</td>\n",
       "      <td>1</td>\n",
       "      <td>search for poi</td>\n",
       "      <td>Newtown</td>\n",
       "      <td>AU</td>\n",
       "      <td>Sydney, Australia</td>\n",
       "      <td>mobile</td>\n",
       "      <td>NaN</td>\n",
       "      <td>NaN</td>\n",
       "      <td>NaN</td>\n",
       "    </tr>\n",
       "    <tr>\n",
       "      <th>1</th>\n",
       "      <td>00RL8Z82B2Z1</td>\n",
       "      <td>aff3928535f48</td>\n",
       "      <td>1541037522</td>\n",
       "      <td>2</td>\n",
       "      <td>interaction item image</td>\n",
       "      <td>666856</td>\n",
       "      <td>AU</td>\n",
       "      <td>Sydney, Australia</td>\n",
       "      <td>mobile</td>\n",
       "      <td>NaN</td>\n",
       "      <td>NaN</td>\n",
       "      <td>NaN</td>\n",
       "    </tr>\n",
       "  </tbody>\n",
       "</table>\n",
       "</div>"
      ],
      "text/plain": [
       "        user_id     session_id   timestamp  step             action_type  \\\n",
       "0  00RL8Z82B2Z1  aff3928535f48  1541037460     1          search for poi   \n",
       "1  00RL8Z82B2Z1  aff3928535f48  1541037522     2  interaction item image   \n",
       "\n",
       "  reference platform               city  device current_filters impressions  \\\n",
       "0   Newtown       AU  Sydney, Australia  mobile             NaN         NaN   \n",
       "1    666856       AU  Sydney, Australia  mobile             NaN         NaN   \n",
       "\n",
       "  prices  \n",
       "0    NaN  \n",
       "1    NaN  "
      ]
     },
     "execution_count": 8,
     "metadata": {},
     "output_type": "execute_result"
    }
   ],
   "source": [
    "train.head(2)"
   ]
  },
  {
   "cell_type": "code",
   "execution_count": 9,
   "metadata": {},
   "outputs": [],
   "source": [
    "# test_click_session_ids = test[test.impressions.notnull()].session_id.unique()"
   ]
  },
  {
   "cell_type": "code",
   "execution_count": 10,
   "metadata": {
    "scrolled": false
   },
   "outputs": [],
   "source": [
    "# ts = np.random.choice(test_click_session_ids, 1)\n",
    "# test[test.session_id==ts[0]]"
   ]
  },
  {
   "cell_type": "code",
   "execution_count": 11,
   "metadata": {},
   "outputs": [],
   "source": [
    "# train_click_ids = train[train.impressions.notnull()].session_id.unique()"
   ]
  },
  {
   "cell_type": "code",
   "execution_count": 12,
   "metadata": {},
   "outputs": [],
   "source": [
    "# ts = np.random.choice(train_click_ids, 1)\n",
    "# train[train.session_id==ts[0]]"
   ]
  },
  {
   "cell_type": "code",
   "execution_count": 13,
   "metadata": {},
   "outputs": [],
   "source": [
    "# train.groupby('session_id').apply(lambda x: x.iloc[-1]['reference']).isna().sum()"
   ]
  },
  {
   "cell_type": "code",
   "execution_count": 14,
   "metadata": {},
   "outputs": [],
   "source": [
    "# train.groupby('session_id').apply(lambda x: x.iloc[-1]['impressions']).isna().sum()"
   ]
  },
  {
   "cell_type": "markdown",
   "metadata": {},
   "source": [
    "### clip sessions off to last click"
   ]
  },
  {
   "cell_type": "code",
   "execution_count": 15,
   "metadata": {},
   "outputs": [
    {
     "name": "stdout",
     "output_type": "stream",
     "text": [
      "CPU times: user 9min 33s, sys: 7.64 s, total: 9min 40s\n",
      "Wall time: 9min 40s\n"
     ]
    }
   ],
   "source": [
    "%%time\n",
    "# get all rows upto the last clickout action (some rows has reference but it's not clickout action)\n",
    "def up_to_last_click(grp):\n",
    "    check = grp.action_type == 'clickout item'\n",
    "    if check.sum() != 0:\n",
    "        return grp.iloc[:np.argwhere(check)[-1][0]+1]\n",
    "    else:\n",
    "        return grp\n",
    "        \n",
    "train = train.groupby('session_id').apply(up_to_last_click).reset_index(drop=True)"
   ]
  },
  {
   "cell_type": "code",
   "execution_count": 16,
   "metadata": {},
   "outputs": [
    {
     "name": "stdout",
     "output_type": "stream",
     "text": [
      "CPU times: user 6.58 s, sys: 290 ms, total: 6.87 s\n",
      "Wall time: 6.87 s\n"
     ]
    }
   ],
   "source": [
    "%%time\n",
    "# get utc timestamp\n",
    "train['ts'] = train['timestamp'].apply(lambda t: datetime.datetime.utcfromtimestamp(t))"
   ]
  },
  {
   "cell_type": "code",
   "execution_count": 17,
   "metadata": {},
   "outputs": [
    {
     "name": "stdout",
     "output_type": "stream",
     "text": [
      "CPU times: user 14min 52s, sys: 11.9 s, total: 15min 4s\n",
      "Wall time: 15min 4s\n"
     ]
    }
   ],
   "source": [
    "%%time\n",
    "# only look at sessions with clickouts (for now)\n",
    "# first filter out sessions that does not have a click-out\n",
    "def check_clickout(grp):\n",
    "     # sessions has clickouts\n",
    "    has_clickout = 'clickout item' in grp['action_type'].unique()\n",
    "    # last row has reference and it's not nan\n",
    "    has_ref = ((grp['action_type'].iloc[-1] == 'clickout item') & \n",
    "               (grp.iloc[-1][['impressions', 'reference', 'prices']].isna().sum()==0))\n",
    "    return has_clickout & has_ref\n",
    "    \n",
    "clicked = train.groupby('session_id').apply(check_clickout)\n",
    "click_session_ids = clicked[clicked].index\n",
    "# filter\n",
    "train = train[train.session_id.isin(click_session_ids)].reset_index(drop=True)"
   ]
  },
  {
   "cell_type": "code",
   "execution_count": null,
   "metadata": {},
   "outputs": [],
   "source": []
  },
  {
   "cell_type": "code",
   "execution_count": 18,
   "metadata": {
    "scrolled": true
   },
   "outputs": [],
   "source": [
    "# %%time\n",
    "# # only look at sessions with clickouts (for now)\n",
    "# # first filter out sessions that does not have a click-out\n",
    "# def check_clickout(grp):\n",
    "#      # sessions has clickouts\n",
    "#     has_clickout = 'clickout item' in grp['action_type'].unique()\n",
    "#     # last row has reference and it's not nan\n",
    "#     has_ref = ((grp['action_type'].iloc[-1] == 'clickout item') & \n",
    "#                (pd.notnull(grp.iloc[-1]['impressions'])) &\n",
    "#                (pd.notnull(grp.iloc[-1]['reference'])) &\n",
    "#                (pd.notnull(grp.iloc[-1]['prices'])))\n",
    "#     return has_clickout & has_ref\n",
    "    \n",
    "# clicked = train.groupby('session_id').apply(check_clickout)\n",
    "# click_session_ids = clicked[clicked].index\n",
    "# # filter\n",
    "# train = train[train.session_id.isin(click_session_ids)].reset_index(drop=True)"
   ]
  },
  {
   "cell_type": "code",
   "execution_count": 19,
   "metadata": {},
   "outputs": [
    {
     "name": "stdout",
     "output_type": "stream",
     "text": [
      "df len: 11,367,205\n"
     ]
    }
   ],
   "source": [
    "pshape(train)"
   ]
  },
  {
   "cell_type": "code",
   "execution_count": 20,
   "metadata": {},
   "outputs": [],
   "source": [
    "# d = train.groupby('session_id')\n",
    "# for i, j in d:\n",
    "#     print(j.head())\n",
    "#     print('='*20)\n",
    "#      # sessions has clickouts\n",
    "#     has_clickout = 'clickout item' in j['action_type'].unique()\n",
    "#     print(has_clickout)\n",
    "#     # last row has reference and it's not nan\n",
    "#     has_ref = ((j['action_type'].iloc[-1] == 'clickout item') & \n",
    "#                (pd.notnull(j.iloc[-1]['impressions'])) &\n",
    "#                (pd.notnull(j.iloc[-1]['reference'])))\n",
    "#     print(has_ref)\n",
    "#     break"
   ]
  },
  {
   "cell_type": "markdown",
   "metadata": {},
   "source": [
    "### meta info"
   ]
  },
  {
   "cell_type": "code",
   "execution_count": 21,
   "metadata": {},
   "outputs": [
    {
     "name": "stdout",
     "output_type": "stream",
     "text": [
      "CPU times: user 2.44 s, sys: 191 ms, total: 2.63 s\n",
      "Wall time: 2.63 s\n"
     ]
    }
   ],
   "source": [
    "%%time\n",
    "meta = pd.read_csv(data_path+'item_metadata.csv', nrows=nrows)\n",
    "meta['properties'] = meta['properties'].str.lower()"
   ]
  },
  {
   "cell_type": "code",
   "execution_count": 22,
   "metadata": {},
   "outputs": [
    {
     "name": "stdout",
     "output_type": "stream",
     "text": [
      "CPU times: user 1.36 s, sys: 14.7 ms, total: 1.38 s\n",
      "Wall time: 1.38 s\n"
     ]
    }
   ],
   "source": [
    "%%time\n",
    "# checkout properties of items\n",
    "def get_property_count(row):\n",
    "    return len(row.split('|'))\n",
    "\n",
    "item_p_ctn = meta['properties'].apply(get_property_count)\n",
    "item_p_ctn.describe()"
   ]
  },
  {
   "cell_type": "code",
   "execution_count": 23,
   "metadata": {},
   "outputs": [
    {
     "name": "stdout",
     "output_type": "stream",
     "text": [
      "CPU times: user 3.99 s, sys: 319 ms, total: 4.31 s\n",
      "Wall time: 4.31 s\n"
     ]
    }
   ],
   "source": [
    "%%time\n",
    "def get_property(row):\n",
    "    return row.lower().split('|')\n",
    "meta['ps'] = meta['properties'].apply(get_property)\n",
    "# numer of properties\n",
    "meta['nprop'] = meta.ps.str.len()\n",
    "# star ratings\n",
    "meta['star'] = meta.properties.str.extract('[\\|](\\d) star')\n",
    "meta['star'] = meta['star'].astype(float)"
   ]
  },
  {
   "cell_type": "code",
   "execution_count": 24,
   "metadata": {},
   "outputs": [
    {
     "name": "stdout",
     "output_type": "stream",
     "text": [
      "CPU times: user 6.84 s, sys: 110 ms, total: 6.95 s\n",
      "Wall time: 6.94 s\n"
     ]
    }
   ],
   "source": [
    "%%time\n",
    "# create rating columns\n",
    "ratings = ['good rating', 'satisfactory rating', 'excellent rating']\n",
    "for r in ratings:\n",
    "    meta[r.replace(' ', '_')] = meta.properties.str.findall(f'\\|{r}').str.len()"
   ]
  },
  {
   "cell_type": "code",
   "execution_count": 25,
   "metadata": {},
   "outputs": [],
   "source": [
    "def get_popularity(df):\n",
    "    \"\"\"Get number of clicks that each item received in the df.\"\"\"\n",
    "\n",
    "    mask = df[\"action_type\"] == \"clickout item\"\n",
    "    df_clicks = df[mask]\n",
    "    df_item_clicks = (df_clicks\n",
    "                      .groupby(\"reference\")\n",
    "                      .size()\n",
    "                      .reset_index(name=\"n_clicks\")\n",
    "                      .transform(lambda x: x.astype(int)))\n",
    "    return df_item_clicks"
   ]
  },
  {
   "cell_type": "code",
   "execution_count": 26,
   "metadata": {},
   "outputs": [
    {
     "name": "stdout",
     "output_type": "stream",
     "text": [
      "CPU times: user 2.67 s, sys: 168 ms, total: 2.83 s\n",
      "Wall time: 2.84 s\n"
     ]
    }
   ],
   "source": [
    "%%time\n",
    "item_popularity = get_popularity(train)\n",
    "meta = pd.merge(meta, item_popularity, left_on='item_id', right_on='reference')"
   ]
  },
  {
   "cell_type": "code",
   "execution_count": 27,
   "metadata": {},
   "outputs": [],
   "source": [
    "meta = (meta[['item_id', 'nprop', 'n_clicks', 'star', 'good_rating', 'satisfactory_rating', 'excellent_rating']]\n",
    "        .set_index('item_id'))"
   ]
  },
  {
   "cell_type": "markdown",
   "metadata": {},
   "source": [
    "### Create session features\n",
    "---"
   ]
  },
  {
   "cell_type": "code",
   "execution_count": 28,
   "metadata": {},
   "outputs": [],
   "source": [
    "# %%time\n",
    "# # find out if same customers have multiple sessions\n",
    "# s = train.drop_duplicates(subset=['user_id', 'session_id'])\n",
    "# s.session_id.duplicated().sum()\n",
    "# # seems like not"
   ]
  },
  {
   "cell_type": "code",
   "execution_count": 29,
   "metadata": {},
   "outputs": [],
   "source": [
    "# train.current_filters[:1000].unique()"
   ]
  },
  {
   "cell_type": "code",
   "execution_count": 30,
   "metadata": {},
   "outputs": [
    {
     "name": "stdout",
     "output_type": "stream",
     "text": [
      "CPU times: user 21.9 s, sys: 2.04 s, total: 23.9 s\n",
      "Wall time: 23.9 s\n"
     ]
    }
   ],
   "source": [
    "%%time\n",
    "def get_filters(x):\n",
    "    if type(x) == str or type(x) == list:\n",
    "        return x.split('|')\n",
    "    else:\n",
    "        return np.nan\n",
    "def get_impressions(x):\n",
    "    if type(x) == str:\n",
    "        return x.split('|')\n",
    "    else:\n",
    "        return np.nan\n",
    "    \n",
    "    \n",
    "train['filters'] = train.current_filters.str.split('|')\n",
    "train['nfilters'] = train.filters.str.len()\n",
    "train['imps_list'] = train.impressions.str.split('|')\n",
    "nn_mask = train['imps_list'].notnull()\n",
    "train.loc[nn_mask, 'imps_list'] = train.loc[nn_mask, 'imps_list'].apply(lambda x: [int(i) for i in x])\n",
    "train['nimps'] = train.imps_list.str.len()"
   ]
  },
  {
   "cell_type": "code",
   "execution_count": 31,
   "metadata": {},
   "outputs": [],
   "source": [
    "# train.nimps.describe()"
   ]
  },
  {
   "cell_type": "code",
   "execution_count": 32,
   "metadata": {},
   "outputs": [],
   "source": [
    "# # no switch of devices during session\n",
    "# (train.groupby('session_id')['device'].nunique()!=1).sum()"
   ]
  },
  {
   "cell_type": "code",
   "execution_count": 33,
   "metadata": {},
   "outputs": [],
   "source": [
    "# # differnet city during session\n",
    "# (train.groupby('session_id')['city'].nunique()!=1).sum()"
   ]
  },
  {
   "cell_type": "code",
   "execution_count": 34,
   "metadata": {},
   "outputs": [
    {
     "name": "stdout",
     "output_type": "stream",
     "text": [
      "CPU times: user 5 µs, sys: 1e+03 ns, total: 6 µs\n",
      "Wall time: 8.82 µs\n"
     ]
    }
   ],
   "source": [
    "%%time\n",
    "# some custom funcs used in agggregation\n",
    "def mean_dwell_time(x):\n",
    "    if len(x) == 1:\n",
    "        return 0\n",
    "    else:\n",
    "        return np.mean(np.diff(np.sort(x)))\n",
    "    \n",
    "def var_dwell_time(x):\n",
    "    if len(x) == 1:\n",
    "        return 0\n",
    "    else:\n",
    "        return np.var(np.diff(np.sort(x)))\n",
    "    \n",
    "def get_first(x):\n",
    "    return x.iloc[0]\n",
    "\n",
    "def get_last(x):\n",
    "    return x.iloc[-1]\n",
    "\n",
    "def n_clickouts(x):\n",
    "    return (x=='clickout item').sum()\n",
    "\n",
    "def click_rel_pos_avg(x):\n",
    "    return np.mean(np.argwhere((x=='clickout item')))/len(x)\n",
    "\n",
    "def ptp(x):\n",
    "    return x.max() - x.min()\n",
    "\n",
    "\n",
    "# define some aggs\n",
    "# session_aggs = {'timestamp': [np.ptp, mean_dwell_time, var_dwell_time],\n",
    "session_aggs = {'timestamp': [ptp, mean_dwell_time, var_dwell_time],\n",
    "                'step': ['max'],\n",
    "                'action_type': ['nunique', n_clickouts, click_rel_pos_avg],\n",
    "                'city': ['nunique', get_first],\n",
    "                'platform': [get_first],\n",
    "                'device': [get_first],\n",
    "                'nfilters': ['mean', 'max', 'min', get_last],\n",
    "                'nimps': ['max']\n",
    "               }"
   ]
  },
  {
   "cell_type": "code",
   "execution_count": 35,
   "metadata": {},
   "outputs": [],
   "source": [
    "session_grp = train.groupby('session_id')"
   ]
  },
  {
   "cell_type": "code",
   "execution_count": 36,
   "metadata": {},
   "outputs": [
    {
     "name": "stdout",
     "output_type": "stream",
     "text": [
      "CPU times: user 1.35 s, sys: 147 ms, total: 1.5 s\n",
      "Wall time: 1.5 s\n"
     ]
    }
   ],
   "source": [
    "%%time\n",
    "# import os.path\n",
    "session_file = 'session_fts.csv'\n",
    "if os.path.isfile(session_file):\n",
    "    session_fts = pd.read_csv(session_file)\n",
    "else:\n",
    "    session_fts = session_grp.agg(session_aggs)\n",
    "    session_fts.columns = ['_'.join(col).strip() for col in session_fts.columns.values]\n",
    "    session_fts.to_csv(session_file)"
   ]
  },
  {
   "cell_type": "code",
   "execution_count": 37,
   "metadata": {},
   "outputs": [
    {
     "data": {
      "text/html": [
       "<div>\n",
       "<style scoped>\n",
       "    .dataframe tbody tr th:only-of-type {\n",
       "        vertical-align: middle;\n",
       "    }\n",
       "\n",
       "    .dataframe tbody tr th {\n",
       "        vertical-align: top;\n",
       "    }\n",
       "\n",
       "    .dataframe thead th {\n",
       "        text-align: right;\n",
       "    }\n",
       "</style>\n",
       "<table border=\"1\" class=\"dataframe\">\n",
       "  <thead>\n",
       "    <tr style=\"text-align: right;\">\n",
       "      <th></th>\n",
       "      <th>session_id</th>\n",
       "      <th>timestamp_ptp</th>\n",
       "      <th>timestamp_mean_dwell_time</th>\n",
       "      <th>timestamp_var_dwell_time</th>\n",
       "      <th>step_max</th>\n",
       "      <th>action_type_nunique</th>\n",
       "      <th>action_type_n_clickouts</th>\n",
       "      <th>action_type_click_rel_pos_avg</th>\n",
       "      <th>city_nunique</th>\n",
       "      <th>city_get_first</th>\n",
       "      <th>platform_get_first</th>\n",
       "      <th>device_get_first</th>\n",
       "      <th>nfilters_mean</th>\n",
       "      <th>nfilters_max</th>\n",
       "      <th>nfilters_min</th>\n",
       "      <th>nfilters_get_last</th>\n",
       "      <th>nimps_max</th>\n",
       "    </tr>\n",
       "  </thead>\n",
       "  <tbody>\n",
       "    <tr>\n",
       "      <th>0</th>\n",
       "      <td>00000510f1adc</td>\n",
       "      <td>0</td>\n",
       "      <td>0.000000</td>\n",
       "      <td>0.000000</td>\n",
       "      <td>1</td>\n",
       "      <td>1</td>\n",
       "      <td>1</td>\n",
       "      <td>0.000000</td>\n",
       "      <td>1</td>\n",
       "      <td>Ganpatipule, India</td>\n",
       "      <td>IN</td>\n",
       "      <td>desktop</td>\n",
       "      <td>NaN</td>\n",
       "      <td>NaN</td>\n",
       "      <td>NaN</td>\n",
       "      <td>NaN</td>\n",
       "      <td>25.0</td>\n",
       "    </tr>\n",
       "    <tr>\n",
       "      <th>1</th>\n",
       "      <td>00003f3b20954</td>\n",
       "      <td>0</td>\n",
       "      <td>0.000000</td>\n",
       "      <td>0.000000</td>\n",
       "      <td>1</td>\n",
       "      <td>1</td>\n",
       "      <td>1</td>\n",
       "      <td>0.000000</td>\n",
       "      <td>1</td>\n",
       "      <td>La Manga, Spain</td>\n",
       "      <td>ES</td>\n",
       "      <td>mobile</td>\n",
       "      <td>NaN</td>\n",
       "      <td>NaN</td>\n",
       "      <td>NaN</td>\n",
       "      <td>NaN</td>\n",
       "      <td>25.0</td>\n",
       "    </tr>\n",
       "    <tr>\n",
       "      <th>2</th>\n",
       "      <td>000056cd97ce2</td>\n",
       "      <td>255</td>\n",
       "      <td>85.000000</td>\n",
       "      <td>4312.666667</td>\n",
       "      <td>4</td>\n",
       "      <td>2</td>\n",
       "      <td>2</td>\n",
       "      <td>0.625000</td>\n",
       "      <td>1</td>\n",
       "      <td>Port Dickson, Malaysia</td>\n",
       "      <td>MY</td>\n",
       "      <td>desktop</td>\n",
       "      <td>NaN</td>\n",
       "      <td>NaN</td>\n",
       "      <td>NaN</td>\n",
       "      <td>NaN</td>\n",
       "      <td>25.0</td>\n",
       "    </tr>\n",
       "    <tr>\n",
       "      <th>3</th>\n",
       "      <td>000066611146f</td>\n",
       "      <td>25</td>\n",
       "      <td>12.500000</td>\n",
       "      <td>156.250000</td>\n",
       "      <td>3</td>\n",
       "      <td>2</td>\n",
       "      <td>1</td>\n",
       "      <td>0.666667</td>\n",
       "      <td>1</td>\n",
       "      <td>Obaköy, Turkey</td>\n",
       "      <td>BE</td>\n",
       "      <td>desktop</td>\n",
       "      <td>2.0</td>\n",
       "      <td>2.0</td>\n",
       "      <td>2.0</td>\n",
       "      <td>NaN</td>\n",
       "      <td>25.0</td>\n",
       "    </tr>\n",
       "    <tr>\n",
       "      <th>4</th>\n",
       "      <td>0000be39860d7</td>\n",
       "      <td>1338</td>\n",
       "      <td>25.730769</td>\n",
       "      <td>16749.965976</td>\n",
       "      <td>53</td>\n",
       "      <td>3</td>\n",
       "      <td>2</td>\n",
       "      <td>0.849057</td>\n",
       "      <td>1</td>\n",
       "      <td>Chattanooga, USA</td>\n",
       "      <td>US</td>\n",
       "      <td>desktop</td>\n",
       "      <td>NaN</td>\n",
       "      <td>NaN</td>\n",
       "      <td>NaN</td>\n",
       "      <td>NaN</td>\n",
       "      <td>25.0</td>\n",
       "    </tr>\n",
       "  </tbody>\n",
       "</table>\n",
       "</div>"
      ],
      "text/plain": [
       "      session_id  timestamp_ptp  timestamp_mean_dwell_time  \\\n",
       "0  00000510f1adc              0                   0.000000   \n",
       "1  00003f3b20954              0                   0.000000   \n",
       "2  000056cd97ce2            255                  85.000000   \n",
       "3  000066611146f             25                  12.500000   \n",
       "4  0000be39860d7           1338                  25.730769   \n",
       "\n",
       "   timestamp_var_dwell_time  step_max  action_type_nunique  \\\n",
       "0                  0.000000         1                    1   \n",
       "1                  0.000000         1                    1   \n",
       "2               4312.666667         4                    2   \n",
       "3                156.250000         3                    2   \n",
       "4              16749.965976        53                    3   \n",
       "\n",
       "   action_type_n_clickouts  action_type_click_rel_pos_avg  city_nunique  \\\n",
       "0                        1                       0.000000             1   \n",
       "1                        1                       0.000000             1   \n",
       "2                        2                       0.625000             1   \n",
       "3                        1                       0.666667             1   \n",
       "4                        2                       0.849057             1   \n",
       "\n",
       "           city_get_first platform_get_first device_get_first  nfilters_mean  \\\n",
       "0      Ganpatipule, India                 IN          desktop            NaN   \n",
       "1         La Manga, Spain                 ES           mobile            NaN   \n",
       "2  Port Dickson, Malaysia                 MY          desktop            NaN   \n",
       "3          Obaköy, Turkey                 BE          desktop            2.0   \n",
       "4        Chattanooga, USA                 US          desktop            NaN   \n",
       "\n",
       "   nfilters_max  nfilters_min  nfilters_get_last  nimps_max  \n",
       "0           NaN           NaN                NaN       25.0  \n",
       "1           NaN           NaN                NaN       25.0  \n",
       "2           NaN           NaN                NaN       25.0  \n",
       "3           2.0           2.0                NaN       25.0  \n",
       "4           NaN           NaN                NaN       25.0  "
      ]
     },
     "execution_count": 37,
     "metadata": {},
     "output_type": "execute_result"
    }
   ],
   "source": [
    "# session_fts.columns.values\n",
    "session_fts.head()"
   ]
  },
  {
   "cell_type": "code",
   "execution_count": 38,
   "metadata": {},
   "outputs": [],
   "source": [
    "# train[train.session_id=='62991f7c78f27']"
   ]
  },
  {
   "cell_type": "markdown",
   "metadata": {},
   "source": [
    "### Create clickout features\n",
    "---"
   ]
  },
  {
   "cell_type": "code",
   "execution_count": 39,
   "metadata": {},
   "outputs": [],
   "source": [
    "import multiprocessing as mp\n",
    "from functools import partial\n",
    "\n",
    "\n",
    "def get_session_item_pairs(args):\n",
    "    # grab the args\n",
    "    gids, session_df, meta_df = args\n",
    "    # selecting the assigned session ids and grouping on session level\n",
    "    grps = (session_df[session_df['session_id'].isin(gids)]\n",
    "            .reset_index(drop=True)\n",
    "            .groupby('session_id'))\n",
    "    \n",
    "    # use apply to compute session level features\n",
    "    session_compute_func = partial(compute_session_item_pair, meta_df=meta_df)\n",
    "    session_features = grps.apply(session_compute_func)\n",
    "    \n",
    "    return session_features\n",
    "        \n",
    "    \n",
    "# def compute_session_item_pair(session_df, g_id, buy_df):\n",
    "def compute_session_item_pair(session_df, meta_df):\n",
    "    sdf = session_df.copy()\n",
    "    last_row = sdf.iloc[-1]\n",
    "    above = sdf.iloc[:-1]\n",
    "    # get previous appeard impressions\n",
    "    prev = above[above['impressions'].notnull()]\n",
    "    prev_imps = prev['imps_list']\n",
    "    unique_imps = [j for i in prev_imps for j in i]\n",
    "\n",
    "    imp_l = last_row['imps_list']\n",
    "    prices = last_row['prices'].split('|')\n",
    "    prices = [int(p) for p in prices]\n",
    "    # whether the impression appeared before\n",
    "    appeared = [int(i in unique_imps) for i in imp_l]\n",
    "    # the location of the impression\n",
    "    locs = list(range(len(imp_l)))\n",
    "\n",
    "    # build the df\n",
    "    result = pd.DataFrame({'appeared': appeared, 'location': locs, 'price': prices}, index=imp_l)\n",
    "    result.index.name = 'item_id'\n",
    "    price_ind = np.argsort(result['price'].values) + 1\n",
    "    result['rel_price_rank'] = price_ind/len(imp_l)\n",
    "#     result['rel_price_rank'] = result[['location', 'price']].sort_values(by='price')['location']/len(imp_l)\n",
    "\n",
    "    result['price_mean'] = np.mean(result['price'])\n",
    "    result['price_median'] = np.median(result['price'])\n",
    "\n",
    "    result_price = result['price'].values\n",
    "    result_price_mean = result['price_mean'].values \n",
    "    result_price_median = result['price_median'].values\n",
    "\n",
    "    result['diff_mean'] = result_price - result_price_mean\n",
    "    result['diff_median'] = result_price - result_price_median\n",
    "    result['diff_mean_rel'] = (result_price - result_price_mean)/result_price\n",
    "    result['diff_median_rel'] = (result_price - result_price_median)/result_price\n",
    "\n",
    "    # fetch the meta data\n",
    "    result = result.join(meta_df, on='item_id')\n",
    "    result['p_mean'] = np.mean(result['n_clicks'].values)\n",
    "    result['star_mean'] = np.mean(result['star'].values)\n",
    "    result['gr_mean'] = np.mean(result['good_rating'].values)\n",
    "    result['sr_mean'] = np.mean(result['satisfactory_rating'].values)\n",
    "    result['er_mean'] = np.mean(result['excellent_rating'].values)\n",
    "    result.reset_index(inplace=True)\n",
    "\n",
    "    # get target\n",
    "    ref = int(last_row['reference'])\n",
    "    result['target'] = (result['item_id'].values == ref).astype(int)\n",
    "    return result\n",
    "\n",
    "\n",
    "# 2) dwell time for each clickout\n",
    "# 3) the rating and star and nproperty -> mean and median for \n",
    "#     the other impressions in list (or the quantile of these and prices)\n",
    "# 4) location and relative location in the impressions list\n",
    "\n",
    "\n",
    "def generate_session_item_pairs(sessions_df, meta_df, nprocs=None):\n",
    "    t1 = time.time()\n",
    "    if nprocs is None:\n",
    "        nprocs = mp.cpu_count() - 1 \n",
    "        print('Using {} cores'.format(nprocs))\n",
    "\n",
    "    sids = sessions_df.session_id.unique()\n",
    "    \n",
    "    pairs = []\n",
    "    # create iterator to pass in args\n",
    "    def args_gen():\n",
    "        for i in range(nprocs):\n",
    "            yield (sids[range(i, len(sids), nprocs)], sessions_df, meta_df)\n",
    "    \n",
    "    # init multiprocessing pool\n",
    "    pool = mp.Pool(nprocs)\n",
    "    for pair in pool.map(get_session_item_pairs, args_gen()):\n",
    "        pairs.append(pair)\n",
    "    pool.close()\n",
    "    pool.join()\n",
    "    print('Done genearting, total time took: {0:.2f}mins'.format((time.time()-t1)/60))\n",
    "\n",
    "    return pd.concat(pairs, axis=0)#, ignore_index=True)"
   ]
  },
  {
   "cell_type": "code",
   "execution_count": 40,
   "metadata": {},
   "outputs": [],
   "source": [
    "# %%time\n",
    "# result_df = generate_session_item_pairs(train[train.session_id.isin(sids)], meta, nprocs=None)"
   ]
  },
  {
   "cell_type": "code",
   "execution_count": 41,
   "metadata": {},
   "outputs": [],
   "source": [
    "# %%time\n",
    "# result_df = generate_session_item_pairs(train[:10000], meta, nprocs=None)"
   ]
  },
  {
   "cell_type": "code",
   "execution_count": 42,
   "metadata": {},
   "outputs": [
    {
     "name": "stdout",
     "output_type": "stream",
     "text": [
      "Using 11 cores\n",
      "Done genearting, total time took: 110.17mins\n",
      "CPU times: user 3min 31s, sys: 2min 33s, total: 6min 4s\n",
      "Wall time: 1h 50min 22s\n"
     ]
    }
   ],
   "source": [
    "%%time\n",
    "result_df = generate_session_item_pairs(train, meta, nprocs=None)"
   ]
  },
  {
   "cell_type": "code",
   "execution_count": 43,
   "metadata": {},
   "outputs": [],
   "source": [
    "result_df.to_csv('./data/result.csv')"
   ]
  },
  {
   "cell_type": "code",
   "execution_count": 44,
   "metadata": {},
   "outputs": [
    {
     "data": {
      "text/plain": [
       "(18772614, 23)"
      ]
     },
     "execution_count": 44,
     "metadata": {},
     "output_type": "execute_result"
    }
   ],
   "source": [
    "result_df.shape"
   ]
  },
  {
   "cell_type": "code",
   "execution_count": 45,
   "metadata": {},
   "outputs": [
    {
     "data": {
      "text/plain": [
       "(289302, 6)"
      ]
     },
     "execution_count": 45,
     "metadata": {},
     "output_type": "execute_result"
    }
   ],
   "source": [
    "meta.shape"
   ]
  },
  {
   "cell_type": "code",
   "execution_count": 46,
   "metadata": {},
   "outputs": [
    {
     "data": {
      "text/html": [
       "<div>\n",
       "<style scoped>\n",
       "    .dataframe tbody tr th:only-of-type {\n",
       "        vertical-align: middle;\n",
       "    }\n",
       "\n",
       "    .dataframe tbody tr th {\n",
       "        vertical-align: top;\n",
       "    }\n",
       "\n",
       "    .dataframe thead th {\n",
       "        text-align: right;\n",
       "    }\n",
       "</style>\n",
       "<table border=\"1\" class=\"dataframe\">\n",
       "  <thead>\n",
       "    <tr style=\"text-align: right;\">\n",
       "      <th></th>\n",
       "      <th></th>\n",
       "      <th>item_id</th>\n",
       "      <th>appeared</th>\n",
       "      <th>location</th>\n",
       "      <th>price</th>\n",
       "      <th>rel_price_rank</th>\n",
       "      <th>price_mean</th>\n",
       "      <th>price_median</th>\n",
       "      <th>diff_mean</th>\n",
       "      <th>diff_median</th>\n",
       "      <th>diff_mean_rel</th>\n",
       "      <th>...</th>\n",
       "      <th>star</th>\n",
       "      <th>good_rating</th>\n",
       "      <th>satisfactory_rating</th>\n",
       "      <th>excellent_rating</th>\n",
       "      <th>p_mean</th>\n",
       "      <th>star_mean</th>\n",
       "      <th>gr_mean</th>\n",
       "      <th>sr_mean</th>\n",
       "      <th>er_mean</th>\n",
       "      <th>target</th>\n",
       "    </tr>\n",
       "    <tr>\n",
       "      <th>session_id</th>\n",
       "      <th></th>\n",
       "      <th></th>\n",
       "      <th></th>\n",
       "      <th></th>\n",
       "      <th></th>\n",
       "      <th></th>\n",
       "      <th></th>\n",
       "      <th></th>\n",
       "      <th></th>\n",
       "      <th></th>\n",
       "      <th></th>\n",
       "      <th></th>\n",
       "      <th></th>\n",
       "      <th></th>\n",
       "      <th></th>\n",
       "      <th></th>\n",
       "      <th></th>\n",
       "      <th></th>\n",
       "      <th></th>\n",
       "      <th></th>\n",
       "      <th></th>\n",
       "      <th></th>\n",
       "    </tr>\n",
       "  </thead>\n",
       "  <tbody>\n",
       "    <tr>\n",
       "      <th rowspan=\"5\" valign=\"top\">00000510f1adc</th>\n",
       "      <th>0</th>\n",
       "      <td>2661832</td>\n",
       "      <td>0</td>\n",
       "      <td>0</td>\n",
       "      <td>46</td>\n",
       "      <td>0.60</td>\n",
       "      <td>27.32</td>\n",
       "      <td>20.0</td>\n",
       "      <td>18.68</td>\n",
       "      <td>26.0</td>\n",
       "      <td>0.406087</td>\n",
       "      <td>...</td>\n",
       "      <td>3.0</td>\n",
       "      <td>1.0</td>\n",
       "      <td>1.0</td>\n",
       "      <td>0.0</td>\n",
       "      <td>NaN</td>\n",
       "      <td>NaN</td>\n",
       "      <td>NaN</td>\n",
       "      <td>NaN</td>\n",
       "      <td>NaN</td>\n",
       "      <td>0</td>\n",
       "    </tr>\n",
       "    <tr>\n",
       "      <th>1</th>\n",
       "      <td>9222426</td>\n",
       "      <td>0</td>\n",
       "      <td>1</td>\n",
       "      <td>26</td>\n",
       "      <td>0.76</td>\n",
       "      <td>27.32</td>\n",
       "      <td>20.0</td>\n",
       "      <td>-1.32</td>\n",
       "      <td>6.0</td>\n",
       "      <td>-0.050769</td>\n",
       "      <td>...</td>\n",
       "      <td>NaN</td>\n",
       "      <td>0.0</td>\n",
       "      <td>1.0</td>\n",
       "      <td>0.0</td>\n",
       "      <td>NaN</td>\n",
       "      <td>NaN</td>\n",
       "      <td>NaN</td>\n",
       "      <td>NaN</td>\n",
       "      <td>NaN</td>\n",
       "      <td>0</td>\n",
       "    </tr>\n",
       "    <tr>\n",
       "      <th>2</th>\n",
       "      <td>7051844</td>\n",
       "      <td>0</td>\n",
       "      <td>2</td>\n",
       "      <td>16</td>\n",
       "      <td>0.48</td>\n",
       "      <td>27.32</td>\n",
       "      <td>20.0</td>\n",
       "      <td>-11.32</td>\n",
       "      <td>-4.0</td>\n",
       "      <td>-0.707500</td>\n",
       "      <td>...</td>\n",
       "      <td>NaN</td>\n",
       "      <td>0.0</td>\n",
       "      <td>1.0</td>\n",
       "      <td>0.0</td>\n",
       "      <td>NaN</td>\n",
       "      <td>NaN</td>\n",
       "      <td>NaN</td>\n",
       "      <td>NaN</td>\n",
       "      <td>NaN</td>\n",
       "      <td>0</td>\n",
       "    </tr>\n",
       "    <tr>\n",
       "      <th>3</th>\n",
       "      <td>4079190</td>\n",
       "      <td>0</td>\n",
       "      <td>3</td>\n",
       "      <td>38</td>\n",
       "      <td>0.20</td>\n",
       "      <td>27.32</td>\n",
       "      <td>20.0</td>\n",
       "      <td>10.68</td>\n",
       "      <td>18.0</td>\n",
       "      <td>0.281053</td>\n",
       "      <td>...</td>\n",
       "      <td>NaN</td>\n",
       "      <td>1.0</td>\n",
       "      <td>1.0</td>\n",
       "      <td>0.0</td>\n",
       "      <td>NaN</td>\n",
       "      <td>NaN</td>\n",
       "      <td>NaN</td>\n",
       "      <td>NaN</td>\n",
       "      <td>NaN</td>\n",
       "      <td>0</td>\n",
       "    </tr>\n",
       "    <tr>\n",
       "      <th>4</th>\n",
       "      <td>5752778</td>\n",
       "      <td>0</td>\n",
       "      <td>4</td>\n",
       "      <td>12</td>\n",
       "      <td>0.36</td>\n",
       "      <td>27.32</td>\n",
       "      <td>20.0</td>\n",
       "      <td>-15.32</td>\n",
       "      <td>-8.0</td>\n",
       "      <td>-1.276667</td>\n",
       "      <td>...</td>\n",
       "      <td>NaN</td>\n",
       "      <td>1.0</td>\n",
       "      <td>1.0</td>\n",
       "      <td>0.0</td>\n",
       "      <td>NaN</td>\n",
       "      <td>NaN</td>\n",
       "      <td>NaN</td>\n",
       "      <td>NaN</td>\n",
       "      <td>NaN</td>\n",
       "      <td>0</td>\n",
       "    </tr>\n",
       "  </tbody>\n",
       "</table>\n",
       "<p>5 rows × 23 columns</p>\n",
       "</div>"
      ],
      "text/plain": [
       "                 item_id  appeared  location  price  rel_price_rank  \\\n",
       "session_id                                                            \n",
       "00000510f1adc 0  2661832         0         0     46            0.60   \n",
       "              1  9222426         0         1     26            0.76   \n",
       "              2  7051844         0         2     16            0.48   \n",
       "              3  4079190         0         3     38            0.20   \n",
       "              4  5752778         0         4     12            0.36   \n",
       "\n",
       "                 price_mean  price_median  diff_mean  diff_median  \\\n",
       "session_id                                                          \n",
       "00000510f1adc 0       27.32          20.0      18.68         26.0   \n",
       "              1       27.32          20.0      -1.32          6.0   \n",
       "              2       27.32          20.0     -11.32         -4.0   \n",
       "              3       27.32          20.0      10.68         18.0   \n",
       "              4       27.32          20.0     -15.32         -8.0   \n",
       "\n",
       "                 diff_mean_rel   ...    star  good_rating  \\\n",
       "session_id                       ...                        \n",
       "00000510f1adc 0       0.406087   ...     3.0          1.0   \n",
       "              1      -0.050769   ...     NaN          0.0   \n",
       "              2      -0.707500   ...     NaN          0.0   \n",
       "              3       0.281053   ...     NaN          1.0   \n",
       "              4      -1.276667   ...     NaN          1.0   \n",
       "\n",
       "                 satisfactory_rating  excellent_rating  p_mean  star_mean  \\\n",
       "session_id                                                                  \n",
       "00000510f1adc 0                  1.0               0.0     NaN        NaN   \n",
       "              1                  1.0               0.0     NaN        NaN   \n",
       "              2                  1.0               0.0     NaN        NaN   \n",
       "              3                  1.0               0.0     NaN        NaN   \n",
       "              4                  1.0               0.0     NaN        NaN   \n",
       "\n",
       "                 gr_mean  sr_mean  er_mean  target  \n",
       "session_id                                          \n",
       "00000510f1adc 0      NaN      NaN      NaN       0  \n",
       "              1      NaN      NaN      NaN       0  \n",
       "              2      NaN      NaN      NaN       0  \n",
       "              3      NaN      NaN      NaN       0  \n",
       "              4      NaN      NaN      NaN       0  \n",
       "\n",
       "[5 rows x 23 columns]"
      ]
     },
     "execution_count": 46,
     "metadata": {},
     "output_type": "execute_result"
    }
   ],
   "source": [
    "result_df.head()"
   ]
  },
  {
   "cell_type": "code",
   "execution_count": 47,
   "metadata": {
    "scrolled": true
   },
   "outputs": [
    {
     "name": "stdout",
     "output_type": "stream",
     "text": [
      "CPU times: user 1.71 s, sys: 1.35 s, total: 3.06 s\n",
      "Wall time: 3.06 s\n"
     ]
    }
   ],
   "source": [
    "%%time\n",
    "result_df = result_df.reset_index(level='session_id')"
   ]
  },
  {
   "cell_type": "code",
   "execution_count": 48,
   "metadata": {},
   "outputs": [
    {
     "name": "stdout",
     "output_type": "stream",
     "text": [
      "CPU times: user 1.15 s, sys: 957 ms, total: 2.11 s\n",
      "Wall time: 2.11 s\n"
     ]
    }
   ],
   "source": [
    "%%time\n",
    "# join on session features\n",
    "result_df = result_df.set_index('session_id')"
   ]
  },
  {
   "cell_type": "code",
   "execution_count": 49,
   "metadata": {},
   "outputs": [
    {
     "name": "stdout",
     "output_type": "stream",
     "text": [
      "CPU times: user 9.84 s, sys: 4.73 s, total: 14.6 s\n",
      "Wall time: 14.6 s\n"
     ]
    }
   ],
   "source": [
    "%%time\n",
    "final = result_df.join(session_fts)"
   ]
  },
  {
   "cell_type": "code",
   "execution_count": 50,
   "metadata": {},
   "outputs": [],
   "source": [
    "final.to_csv('./data/final.csv')"
   ]
  },
  {
   "cell_type": "markdown",
   "metadata": {},
   "source": [
    "to do:\n",
    "\n",
    "1) check the time range of train vs test"
   ]
  },
  {
   "cell_type": "code",
   "execution_count": 52,
   "metadata": {},
   "outputs": [
    {
     "data": {
      "text/html": [
       "<div>\n",
       "<style scoped>\n",
       "    .dataframe tbody tr th:only-of-type {\n",
       "        vertical-align: middle;\n",
       "    }\n",
       "\n",
       "    .dataframe tbody tr th {\n",
       "        vertical-align: top;\n",
       "    }\n",
       "\n",
       "    .dataframe thead th {\n",
       "        text-align: right;\n",
       "    }\n",
       "</style>\n",
       "<table border=\"1\" class=\"dataframe\">\n",
       "  <thead>\n",
       "    <tr style=\"text-align: right;\">\n",
       "      <th></th>\n",
       "      <th>item_id</th>\n",
       "      <th>appeared</th>\n",
       "      <th>location</th>\n",
       "      <th>price</th>\n",
       "      <th>rel_price_rank</th>\n",
       "      <th>price_mean</th>\n",
       "      <th>price_median</th>\n",
       "      <th>diff_mean</th>\n",
       "      <th>diff_median</th>\n",
       "      <th>diff_mean_rel</th>\n",
       "      <th>...</th>\n",
       "      <th>action_type_click_rel_pos_avg</th>\n",
       "      <th>city_nunique</th>\n",
       "      <th>city_get_first</th>\n",
       "      <th>platform_get_first</th>\n",
       "      <th>device_get_first</th>\n",
       "      <th>nfilters_mean</th>\n",
       "      <th>nfilters_max</th>\n",
       "      <th>nfilters_min</th>\n",
       "      <th>nfilters_get_last</th>\n",
       "      <th>nimps_max</th>\n",
       "    </tr>\n",
       "  </thead>\n",
       "  <tbody>\n",
       "    <tr>\n",
       "      <th>00000510f1adc</th>\n",
       "      <td>2661832</td>\n",
       "      <td>0</td>\n",
       "      <td>0</td>\n",
       "      <td>46</td>\n",
       "      <td>0.60</td>\n",
       "      <td>27.32</td>\n",
       "      <td>20.0</td>\n",
       "      <td>18.68</td>\n",
       "      <td>26.0</td>\n",
       "      <td>0.406087</td>\n",
       "      <td>...</td>\n",
       "      <td>NaN</td>\n",
       "      <td>NaN</td>\n",
       "      <td>NaN</td>\n",
       "      <td>NaN</td>\n",
       "      <td>NaN</td>\n",
       "      <td>NaN</td>\n",
       "      <td>NaN</td>\n",
       "      <td>NaN</td>\n",
       "      <td>NaN</td>\n",
       "      <td>NaN</td>\n",
       "    </tr>\n",
       "    <tr>\n",
       "      <th>00000510f1adc</th>\n",
       "      <td>9222426</td>\n",
       "      <td>0</td>\n",
       "      <td>1</td>\n",
       "      <td>26</td>\n",
       "      <td>0.76</td>\n",
       "      <td>27.32</td>\n",
       "      <td>20.0</td>\n",
       "      <td>-1.32</td>\n",
       "      <td>6.0</td>\n",
       "      <td>-0.050769</td>\n",
       "      <td>...</td>\n",
       "      <td>NaN</td>\n",
       "      <td>NaN</td>\n",
       "      <td>NaN</td>\n",
       "      <td>NaN</td>\n",
       "      <td>NaN</td>\n",
       "      <td>NaN</td>\n",
       "      <td>NaN</td>\n",
       "      <td>NaN</td>\n",
       "      <td>NaN</td>\n",
       "      <td>NaN</td>\n",
       "    </tr>\n",
       "    <tr>\n",
       "      <th>00000510f1adc</th>\n",
       "      <td>7051844</td>\n",
       "      <td>0</td>\n",
       "      <td>2</td>\n",
       "      <td>16</td>\n",
       "      <td>0.48</td>\n",
       "      <td>27.32</td>\n",
       "      <td>20.0</td>\n",
       "      <td>-11.32</td>\n",
       "      <td>-4.0</td>\n",
       "      <td>-0.707500</td>\n",
       "      <td>...</td>\n",
       "      <td>NaN</td>\n",
       "      <td>NaN</td>\n",
       "      <td>NaN</td>\n",
       "      <td>NaN</td>\n",
       "      <td>NaN</td>\n",
       "      <td>NaN</td>\n",
       "      <td>NaN</td>\n",
       "      <td>NaN</td>\n",
       "      <td>NaN</td>\n",
       "      <td>NaN</td>\n",
       "    </tr>\n",
       "    <tr>\n",
       "      <th>00000510f1adc</th>\n",
       "      <td>4079190</td>\n",
       "      <td>0</td>\n",
       "      <td>3</td>\n",
       "      <td>38</td>\n",
       "      <td>0.20</td>\n",
       "      <td>27.32</td>\n",
       "      <td>20.0</td>\n",
       "      <td>10.68</td>\n",
       "      <td>18.0</td>\n",
       "      <td>0.281053</td>\n",
       "      <td>...</td>\n",
       "      <td>NaN</td>\n",
       "      <td>NaN</td>\n",
       "      <td>NaN</td>\n",
       "      <td>NaN</td>\n",
       "      <td>NaN</td>\n",
       "      <td>NaN</td>\n",
       "      <td>NaN</td>\n",
       "      <td>NaN</td>\n",
       "      <td>NaN</td>\n",
       "      <td>NaN</td>\n",
       "    </tr>\n",
       "    <tr>\n",
       "      <th>00000510f1adc</th>\n",
       "      <td>5752778</td>\n",
       "      <td>0</td>\n",
       "      <td>4</td>\n",
       "      <td>12</td>\n",
       "      <td>0.36</td>\n",
       "      <td>27.32</td>\n",
       "      <td>20.0</td>\n",
       "      <td>-15.32</td>\n",
       "      <td>-8.0</td>\n",
       "      <td>-1.276667</td>\n",
       "      <td>...</td>\n",
       "      <td>NaN</td>\n",
       "      <td>NaN</td>\n",
       "      <td>NaN</td>\n",
       "      <td>NaN</td>\n",
       "      <td>NaN</td>\n",
       "      <td>NaN</td>\n",
       "      <td>NaN</td>\n",
       "      <td>NaN</td>\n",
       "      <td>NaN</td>\n",
       "      <td>NaN</td>\n",
       "    </tr>\n",
       "  </tbody>\n",
       "</table>\n",
       "<p>5 rows × 40 columns</p>\n",
       "</div>"
      ],
      "text/plain": [
       "               item_id  appeared  location  price  rel_price_rank  price_mean  \\\n",
       "00000510f1adc  2661832         0         0     46            0.60       27.32   \n",
       "00000510f1adc  9222426         0         1     26            0.76       27.32   \n",
       "00000510f1adc  7051844         0         2     16            0.48       27.32   \n",
       "00000510f1adc  4079190         0         3     38            0.20       27.32   \n",
       "00000510f1adc  5752778         0         4     12            0.36       27.32   \n",
       "\n",
       "               price_median  diff_mean  diff_median  diff_mean_rel    ...      \\\n",
       "00000510f1adc          20.0      18.68         26.0       0.406087    ...       \n",
       "00000510f1adc          20.0      -1.32          6.0      -0.050769    ...       \n",
       "00000510f1adc          20.0     -11.32         -4.0      -0.707500    ...       \n",
       "00000510f1adc          20.0      10.68         18.0       0.281053    ...       \n",
       "00000510f1adc          20.0     -15.32         -8.0      -1.276667    ...       \n",
       "\n",
       "               action_type_click_rel_pos_avg  city_nunique  city_get_first  \\\n",
       "00000510f1adc                            NaN           NaN             NaN   \n",
       "00000510f1adc                            NaN           NaN             NaN   \n",
       "00000510f1adc                            NaN           NaN             NaN   \n",
       "00000510f1adc                            NaN           NaN             NaN   \n",
       "00000510f1adc                            NaN           NaN             NaN   \n",
       "\n",
       "               platform_get_first  device_get_first  nfilters_mean  \\\n",
       "00000510f1adc                 NaN               NaN            NaN   \n",
       "00000510f1adc                 NaN               NaN            NaN   \n",
       "00000510f1adc                 NaN               NaN            NaN   \n",
       "00000510f1adc                 NaN               NaN            NaN   \n",
       "00000510f1adc                 NaN               NaN            NaN   \n",
       "\n",
       "               nfilters_max  nfilters_min  nfilters_get_last  nimps_max  \n",
       "00000510f1adc           NaN           NaN                NaN        NaN  \n",
       "00000510f1adc           NaN           NaN                NaN        NaN  \n",
       "00000510f1adc           NaN           NaN                NaN        NaN  \n",
       "00000510f1adc           NaN           NaN                NaN        NaN  \n",
       "00000510f1adc           NaN           NaN                NaN        NaN  \n",
       "\n",
       "[5 rows x 40 columns]"
      ]
     },
     "execution_count": 52,
     "metadata": {},
     "output_type": "execute_result"
    }
   ],
   "source": [
    "final.head()"
   ]
  },
  {
   "cell_type": "code",
   "execution_count": 58,
   "metadata": {},
   "outputs": [
    {
     "data": {
      "text/plain": [
       "<matplotlib.axes._subplots.AxesSubplot at 0x139fdc9e8>"
      ]
     },
     "execution_count": 58,
     "metadata": {},
     "output_type": "execute_result"
    },
    {
     "data": {
      "image/png": "[encoded data removed]",
      "text/plain": [
       "<Figure size 432x288 with 1 Axes>"
      ]
     },
     "metadata": {
      "needs_background": "light"
     },
     "output_type": "display_data"
    }
   ],
   "source": [
    "train.ts.hist(bins=20)"
   ]
  },
  {
   "cell_type": "code",
   "execution_count": 68,
   "metadata": {},
   "outputs": [
    {
     "data": {
      "text/plain": [
       "9362242"
      ]
     },
     "execution_count": 68,
     "metadata": {},
     "output_type": "execute_result"
    }
   ],
   "source": [
    "(train.ts <= datetime.datetime(2018,11,6)).sum()"
   ]
  },
  {
   "cell_type": "code",
   "execution_count": 69,
   "metadata": {},
   "outputs": [
    {
     "data": {
      "text/plain": [
       "2004963"
      ]
     },
     "execution_count": 69,
     "metadata": {},
     "output_type": "execute_result"
    }
   ],
   "source": [
    "(train.ts > datetime.datetime(2018,11,6)).sum()"
   ]
  },
  {
   "cell_type": "code",
   "execution_count": 71,
   "metadata": {},
   "outputs": [],
   "source": [
    "train_sids = train[train.ts <= datetime.datetime(2018,11,6)].session_id.unique()"
   ]
  },
  {
   "cell_type": "code",
   "execution_count": 72,
   "metadata": {},
   "outputs": [
    {
     "data": {
      "text/html": [
       "<div>\n",
       "<style scoped>\n",
       "    .dataframe tbody tr th:only-of-type {\n",
       "        vertical-align: middle;\n",
       "    }\n",
       "\n",
       "    .dataframe tbody tr th {\n",
       "        vertical-align: top;\n",
       "    }\n",
       "\n",
       "    .dataframe thead th {\n",
       "        text-align: right;\n",
       "    }\n",
       "</style>\n",
       "<table border=\"1\" class=\"dataframe\">\n",
       "  <thead>\n",
       "    <tr style=\"text-align: right;\">\n",
       "      <th></th>\n",
       "      <th>item_id</th>\n",
       "      <th>appeared</th>\n",
       "      <th>location</th>\n",
       "      <th>price</th>\n",
       "      <th>rel_price_rank</th>\n",
       "      <th>price_mean</th>\n",
       "      <th>price_median</th>\n",
       "      <th>diff_mean</th>\n",
       "      <th>diff_median</th>\n",
       "      <th>diff_mean_rel</th>\n",
       "      <th>...</th>\n",
       "      <th>action_type_click_rel_pos_avg</th>\n",
       "      <th>city_nunique</th>\n",
       "      <th>city_get_first</th>\n",
       "      <th>platform_get_first</th>\n",
       "      <th>device_get_first</th>\n",
       "      <th>nfilters_mean</th>\n",
       "      <th>nfilters_max</th>\n",
       "      <th>nfilters_min</th>\n",
       "      <th>nfilters_get_last</th>\n",
       "      <th>nimps_max</th>\n",
       "    </tr>\n",
       "  </thead>\n",
       "  <tbody>\n",
       "    <tr>\n",
       "      <th>00000510f1adc</th>\n",
       "      <td>2661832</td>\n",
       "      <td>0</td>\n",
       "      <td>0</td>\n",
       "      <td>46</td>\n",
       "      <td>0.60</td>\n",
       "      <td>27.32</td>\n",
       "      <td>20.0</td>\n",
       "      <td>18.68</td>\n",
       "      <td>26.0</td>\n",
       "      <td>0.406087</td>\n",
       "      <td>...</td>\n",
       "      <td>NaN</td>\n",
       "      <td>NaN</td>\n",
       "      <td>NaN</td>\n",
       "      <td>NaN</td>\n",
       "      <td>NaN</td>\n",
       "      <td>NaN</td>\n",
       "      <td>NaN</td>\n",
       "      <td>NaN</td>\n",
       "      <td>NaN</td>\n",
       "      <td>NaN</td>\n",
       "    </tr>\n",
       "    <tr>\n",
       "      <th>00000510f1adc</th>\n",
       "      <td>9222426</td>\n",
       "      <td>0</td>\n",
       "      <td>1</td>\n",
       "      <td>26</td>\n",
       "      <td>0.76</td>\n",
       "      <td>27.32</td>\n",
       "      <td>20.0</td>\n",
       "      <td>-1.32</td>\n",
       "      <td>6.0</td>\n",
       "      <td>-0.050769</td>\n",
       "      <td>...</td>\n",
       "      <td>NaN</td>\n",
       "      <td>NaN</td>\n",
       "      <td>NaN</td>\n",
       "      <td>NaN</td>\n",
       "      <td>NaN</td>\n",
       "      <td>NaN</td>\n",
       "      <td>NaN</td>\n",
       "      <td>NaN</td>\n",
       "      <td>NaN</td>\n",
       "      <td>NaN</td>\n",
       "    </tr>\n",
       "    <tr>\n",
       "      <th>00000510f1adc</th>\n",
       "      <td>7051844</td>\n",
       "      <td>0</td>\n",
       "      <td>2</td>\n",
       "      <td>16</td>\n",
       "      <td>0.48</td>\n",
       "      <td>27.32</td>\n",
       "      <td>20.0</td>\n",
       "      <td>-11.32</td>\n",
       "      <td>-4.0</td>\n",
       "      <td>-0.707500</td>\n",
       "      <td>...</td>\n",
       "      <td>NaN</td>\n",
       "      <td>NaN</td>\n",
       "      <td>NaN</td>\n",
       "      <td>NaN</td>\n",
       "      <td>NaN</td>\n",
       "      <td>NaN</td>\n",
       "      <td>NaN</td>\n",
       "      <td>NaN</td>\n",
       "      <td>NaN</td>\n",
       "      <td>NaN</td>\n",
       "    </tr>\n",
       "    <tr>\n",
       "      <th>00000510f1adc</th>\n",
       "      <td>4079190</td>\n",
       "      <td>0</td>\n",
       "      <td>3</td>\n",
       "      <td>38</td>\n",
       "      <td>0.20</td>\n",
       "      <td>27.32</td>\n",
       "      <td>20.0</td>\n",
       "      <td>10.68</td>\n",
       "      <td>18.0</td>\n",
       "      <td>0.281053</td>\n",
       "      <td>...</td>\n",
       "      <td>NaN</td>\n",
       "      <td>NaN</td>\n",
       "      <td>NaN</td>\n",
       "      <td>NaN</td>\n",
       "      <td>NaN</td>\n",
       "      <td>NaN</td>\n",
       "      <td>NaN</td>\n",
       "      <td>NaN</td>\n",
       "      <td>NaN</td>\n",
       "      <td>NaN</td>\n",
       "    </tr>\n",
       "    <tr>\n",
       "      <th>00000510f1adc</th>\n",
       "      <td>5752778</td>\n",
       "      <td>0</td>\n",
       "      <td>4</td>\n",
       "      <td>12</td>\n",
       "      <td>0.36</td>\n",
       "      <td>27.32</td>\n",
       "      <td>20.0</td>\n",
       "      <td>-15.32</td>\n",
       "      <td>-8.0</td>\n",
       "      <td>-1.276667</td>\n",
       "      <td>...</td>\n",
       "      <td>NaN</td>\n",
       "      <td>NaN</td>\n",
       "      <td>NaN</td>\n",
       "      <td>NaN</td>\n",
       "      <td>NaN</td>\n",
       "      <td>NaN</td>\n",
       "      <td>NaN</td>\n",
       "      <td>NaN</td>\n",
       "      <td>NaN</td>\n",
       "      <td>NaN</td>\n",
       "    </tr>\n",
       "  </tbody>\n",
       "</table>\n",
       "<p>5 rows × 40 columns</p>\n",
       "</div>"
      ],
      "text/plain": [
       "               item_id  appeared  location  price  rel_price_rank  price_mean  \\\n",
       "00000510f1adc  2661832         0         0     46            0.60       27.32   \n",
       "00000510f1adc  9222426         0         1     26            0.76       27.32   \n",
       "00000510f1adc  7051844         0         2     16            0.48       27.32   \n",
       "00000510f1adc  4079190         0         3     38            0.20       27.32   \n",
       "00000510f1adc  5752778         0         4     12            0.36       27.32   \n",
       "\n",
       "               price_median  diff_mean  diff_median  diff_mean_rel    ...      \\\n",
       "00000510f1adc          20.0      18.68         26.0       0.406087    ...       \n",
       "00000510f1adc          20.0      -1.32          6.0      -0.050769    ...       \n",
       "00000510f1adc          20.0     -11.32         -4.0      -0.707500    ...       \n",
       "00000510f1adc          20.0      10.68         18.0       0.281053    ...       \n",
       "00000510f1adc          20.0     -15.32         -8.0      -1.276667    ...       \n",
       "\n",
       "               action_type_click_rel_pos_avg  city_nunique  city_get_first  \\\n",
       "00000510f1adc                            NaN           NaN             NaN   \n",
       "00000510f1adc                            NaN           NaN             NaN   \n",
       "00000510f1adc                            NaN           NaN             NaN   \n",
       "00000510f1adc                            NaN           NaN             NaN   \n",
       "00000510f1adc                            NaN           NaN             NaN   \n",
       "\n",
       "               platform_get_first  device_get_first  nfilters_mean  \\\n",
       "00000510f1adc                 NaN               NaN            NaN   \n",
       "00000510f1adc                 NaN               NaN            NaN   \n",
       "00000510f1adc                 NaN               NaN            NaN   \n",
       "00000510f1adc                 NaN               NaN            NaN   \n",
       "00000510f1adc                 NaN               NaN            NaN   \n",
       "\n",
       "               nfilters_max  nfilters_min  nfilters_get_last  nimps_max  \n",
       "00000510f1adc           NaN           NaN                NaN        NaN  \n",
       "00000510f1adc           NaN           NaN                NaN        NaN  \n",
       "00000510f1adc           NaN           NaN                NaN        NaN  \n",
       "00000510f1adc           NaN           NaN                NaN        NaN  \n",
       "00000510f1adc           NaN           NaN                NaN        NaN  \n",
       "\n",
       "[5 rows x 40 columns]"
      ]
     },
     "execution_count": 72,
     "metadata": {},
     "output_type": "execute_result"
    }
   ],
   "source": [
    "final.head()"
   ]
  },
  {
   "cell_type": "code",
   "execution_count": 75,
   "metadata": {},
   "outputs": [],
   "source": [
    "# final.reset_index(name='session_id').head()\n",
    "xtrain = final[final.index.isin(train_sids)]"
   ]
  },
  {
   "cell_type": "code",
   "execution_count": 76,
   "metadata": {},
   "outputs": [],
   "source": [
    "xval = final[~final.index.isin(train_sids)]"
   ]
  },
  {
   "cell_type": "code",
   "execution_count": 78,
   "metadata": {},
   "outputs": [
    {
     "name": "stderr",
     "output_type": "stream",
     "text": [
      "/Users/sam_dessa/anaconda3/lib/python3.6/site-packages/pandas/core/generic.py:1996: PerformanceWarning: \n",
      "your performance may suffer as PyTables will pickle object types that it cannot\n",
      "map directly to c-types [inferred_type->floating,key->block2_values] [items->['session_id', 'city_get_first', 'platform_get_first', 'device_get_first']]\n",
      "\n",
      "  return pytables.to_hdf(path_or_buf, key, self, **kwargs)\n"
     ]
    }
   ],
   "source": [
    "xtrain.to_hdf('./data/train.h5', key='xtrain', mode='w')"
   ]
  },
  {
   "cell_type": "code",
   "execution_count": 79,
   "metadata": {},
   "outputs": [],
   "source": [
    "xtrain.to_hdf('./data/train.h5', key='xval', mode='a')"
   ]
  },
  {
   "cell_type": "code",
   "execution_count": null,
   "metadata": {},
   "outputs": [],
   "source": []
  }
 ],
 "metadata": {
  "kernelspec": {
   "display_name": "Python 3",
   "language": "python",
   "name": "python3"
  },
  "language_info": {
   "codemirror_mode": {
    "name": "ipython",
    "version": 3
   },
   "file_extension": ".py",
   "mimetype": "text/x-python",
   "name": "python",
   "nbconvert_exporter": "python",
   "pygments_lexer": "ipython3",
   "version": "3.6.6"
  }
 },
 "nbformat": 4,
 "nbformat_minor": 2
}
