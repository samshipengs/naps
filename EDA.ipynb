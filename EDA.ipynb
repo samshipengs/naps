{
 "cells": [
  {
   "cell_type": "markdown",
   "metadata": {},
   "source": [
    "To dos: \n",
    "    \n",
    "    1) EDA on test see if it's similar with train\n",
    "    \n",
    "    2) FE add time compmenets according to different region e.g. day of week etc\n",
    "    \n",
    "    3) test impression list length"
   ]
  },
  {
   "cell_type": "code",
   "execution_count": 1,
   "metadata": {},
   "outputs": [],
   "source": [
    "import pandas as pd\n",
    "import numpy as np\n",
    "from utils import load_data"
   ]
  },
  {
   "cell_type": "code",
   "execution_count": 2,
   "metadata": {},
   "outputs": [
    {
     "name": "stdout",
     "output_type": "stream",
     "text": [
      "CPU times: user 2.49 s, sys: 145 ms, total: 2.63 s\n",
      "Wall time: 1.8 s\n"
     ]
    }
   ],
   "source": [
    "%%time\n",
    "train = load_data('train', nrows=int(1e6))"
   ]
  },
  {
   "cell_type": "markdown",
   "metadata": {},
   "source": [
    "total train shape: (15,932,992, 12)"
   ]
  },
  {
   "cell_type": "code",
   "execution_count": 36,
   "metadata": {},
   "outputs": [
    {
     "data": {
      "text/html": [
       "<div>\n",
       "<style scoped>\n",
       "    .dataframe tbody tr th:only-of-type {\n",
       "        vertical-align: middle;\n",
       "    }\n",
       "\n",
       "    .dataframe tbody tr th {\n",
       "        vertical-align: top;\n",
       "    }\n",
       "\n",
       "    .dataframe thead th {\n",
       "        text-align: right;\n",
       "    }\n",
       "</style>\n",
       "<table border=\"1\" class=\"dataframe\">\n",
       "  <thead>\n",
       "    <tr style=\"text-align: right;\">\n",
       "      <th></th>\n",
       "      <th>user_id</th>\n",
       "      <th>session_id</th>\n",
       "      <th>timestamp</th>\n",
       "      <th>step</th>\n",
       "      <th>action_type</th>\n",
       "      <th>reference</th>\n",
       "      <th>platform</th>\n",
       "      <th>city</th>\n",
       "      <th>device</th>\n",
       "      <th>current_filters</th>\n",
       "      <th>impressions</th>\n",
       "      <th>prices</th>\n",
       "    </tr>\n",
       "  </thead>\n",
       "  <tbody>\n",
       "    <tr>\n",
       "      <th>0</th>\n",
       "      <td>00RL8Z82B2Z1</td>\n",
       "      <td>aff3928535f48</td>\n",
       "      <td>1541037460</td>\n",
       "      <td>1</td>\n",
       "      <td>search for poi</td>\n",
       "      <td>Newtown</td>\n",
       "      <td>AU</td>\n",
       "      <td>Sydney, Australia</td>\n",
       "      <td>mobile</td>\n",
       "      <td>NaN</td>\n",
       "      <td>NaN</td>\n",
       "      <td>NaN</td>\n",
       "    </tr>\n",
       "    <tr>\n",
       "      <th>1</th>\n",
       "      <td>00RL8Z82B2Z1</td>\n",
       "      <td>aff3928535f48</td>\n",
       "      <td>1541037522</td>\n",
       "      <td>2</td>\n",
       "      <td>interaction item image</td>\n",
       "      <td>666856</td>\n",
       "      <td>AU</td>\n",
       "      <td>Sydney, Australia</td>\n",
       "      <td>mobile</td>\n",
       "      <td>NaN</td>\n",
       "      <td>NaN</td>\n",
       "      <td>NaN</td>\n",
       "    </tr>\n",
       "    <tr>\n",
       "      <th>2</th>\n",
       "      <td>00RL8Z82B2Z1</td>\n",
       "      <td>aff3928535f48</td>\n",
       "      <td>1541037522</td>\n",
       "      <td>3</td>\n",
       "      <td>interaction item image</td>\n",
       "      <td>666856</td>\n",
       "      <td>AU</td>\n",
       "      <td>Sydney, Australia</td>\n",
       "      <td>mobile</td>\n",
       "      <td>NaN</td>\n",
       "      <td>NaN</td>\n",
       "      <td>NaN</td>\n",
       "    </tr>\n",
       "    <tr>\n",
       "      <th>3</th>\n",
       "      <td>00RL8Z82B2Z1</td>\n",
       "      <td>aff3928535f48</td>\n",
       "      <td>1541037532</td>\n",
       "      <td>4</td>\n",
       "      <td>interaction item image</td>\n",
       "      <td>666856</td>\n",
       "      <td>AU</td>\n",
       "      <td>Sydney, Australia</td>\n",
       "      <td>mobile</td>\n",
       "      <td>NaN</td>\n",
       "      <td>NaN</td>\n",
       "      <td>NaN</td>\n",
       "    </tr>\n",
       "    <tr>\n",
       "      <th>4</th>\n",
       "      <td>00RL8Z82B2Z1</td>\n",
       "      <td>aff3928535f48</td>\n",
       "      <td>1541037532</td>\n",
       "      <td>5</td>\n",
       "      <td>interaction item image</td>\n",
       "      <td>109038</td>\n",
       "      <td>AU</td>\n",
       "      <td>Sydney, Australia</td>\n",
       "      <td>mobile</td>\n",
       "      <td>NaN</td>\n",
       "      <td>NaN</td>\n",
       "      <td>NaN</td>\n",
       "    </tr>\n",
       "  </tbody>\n",
       "</table>\n",
       "</div>"
      ],
      "text/plain": [
       "        user_id     session_id   timestamp  step  ...  device current_filters impressions prices\n",
       "0  00RL8Z82B2Z1  aff3928535f48  1541037460     1  ...  mobile             NaN         NaN    NaN\n",
       "1  00RL8Z82B2Z1  aff3928535f48  1541037522     2  ...  mobile             NaN         NaN    NaN\n",
       "2  00RL8Z82B2Z1  aff3928535f48  1541037522     3  ...  mobile             NaN         NaN    NaN\n",
       "3  00RL8Z82B2Z1  aff3928535f48  1541037532     4  ...  mobile             NaN         NaN    NaN\n",
       "4  00RL8Z82B2Z1  aff3928535f48  1541037532     5  ...  mobile             NaN         NaN    NaN\n",
       "\n",
       "[5 rows x 12 columns]"
      ]
     },
     "execution_count": 36,
     "metadata": {},
     "output_type": "execute_result"
    }
   ],
   "source": [
    "train.head()"
   ]
  },
  {
   "cell_type": "markdown",
   "metadata": {},
   "source": [
    "### session and user ids count"
   ]
  },
  {
   "cell_type": "code",
   "execution_count": 38,
   "metadata": {},
   "outputs": [
    {
     "name": "stdout",
     "output_type": "stream",
     "text": [
      "number of unique sessions: 57,238 | users: 56,134\n",
      "1104 users has different sessions which is 1.97% of all users\n"
     ]
    }
   ],
   "source": [
    "sids = train.session_id.unique()\n",
    "uids = train.user_id.unique()\n",
    "print(f'number of unique sessions: {len(sids):,} | users: {len(uids):,}')\n",
    "multiple_users = train.drop_duplicates(subset=['user_id', 'session_id']).user_id.duplicated().sum()\n",
    "mu_per = multiple_users/len(uids)\n",
    "print(f'{multiple_users:,} users has different sessions which is {mu_per*100:.2f}% of all users')"
   ]
  },
  {
   "cell_type": "markdown",
   "metadata": {},
   "source": [
    "### demos"
   ]
  },
  {
   "cell_type": "code",
   "execution_count": 31,
   "metadata": {
    "scrolled": true
   },
   "outputs": [
    {
     "name": "stdout",
     "output_type": "stream",
     "text": [
      "demo: f45e71ced3051\n"
     ]
    },
    {
     "data": {
      "text/html": [
       "<div>\n",
       "<style scoped>\n",
       "    .dataframe tbody tr th:only-of-type {\n",
       "        vertical-align: middle;\n",
       "    }\n",
       "\n",
       "    .dataframe tbody tr th {\n",
       "        vertical-align: top;\n",
       "    }\n",
       "\n",
       "    .dataframe thead th {\n",
       "        text-align: right;\n",
       "    }\n",
       "</style>\n",
       "<table border=\"1\" class=\"dataframe\">\n",
       "  <thead>\n",
       "    <tr style=\"text-align: right;\">\n",
       "      <th></th>\n",
       "      <th>user_id</th>\n",
       "      <th>session_id</th>\n",
       "      <th>timestamp</th>\n",
       "      <th>step</th>\n",
       "      <th>action_type</th>\n",
       "      <th>reference</th>\n",
       "      <th>platform</th>\n",
       "      <th>city</th>\n",
       "      <th>device</th>\n",
       "      <th>current_filters</th>\n",
       "      <th>impressions</th>\n",
       "      <th>prices</th>\n",
       "    </tr>\n",
       "  </thead>\n",
       "  <tbody>\n",
       "    <tr>\n",
       "      <th>22313</th>\n",
       "      <td>OQN7QECT0UC9</td>\n",
       "      <td>f45e71ced3051</td>\n",
       "      <td>1541176956</td>\n",
       "      <td>1</td>\n",
       "      <td>search for destination</td>\n",
       "      <td>Sète, France</td>\n",
       "      <td>NL</td>\n",
       "      <td>Sète, France</td>\n",
       "      <td>mobile</td>\n",
       "      <td>NaN</td>\n",
       "      <td>NaN</td>\n",
       "      <td>NaN</td>\n",
       "    </tr>\n",
       "    <tr>\n",
       "      <th>22314</th>\n",
       "      <td>OQN7QECT0UC9</td>\n",
       "      <td>f45e71ced3051</td>\n",
       "      <td>1541177030</td>\n",
       "      <td>2</td>\n",
       "      <td>search for destination</td>\n",
       "      <td>Vendargues, France</td>\n",
       "      <td>NL</td>\n",
       "      <td>Vendargues, France</td>\n",
       "      <td>mobile</td>\n",
       "      <td>NaN</td>\n",
       "      <td>NaN</td>\n",
       "      <td>NaN</td>\n",
       "    </tr>\n",
       "    <tr>\n",
       "      <th>22315</th>\n",
       "      <td>OQN7QECT0UC9</td>\n",
       "      <td>f45e71ced3051</td>\n",
       "      <td>1541177210</td>\n",
       "      <td>3</td>\n",
       "      <td>search for item</td>\n",
       "      <td>6306720</td>\n",
       "      <td>NL</td>\n",
       "      <td>Montpellier, France</td>\n",
       "      <td>mobile</td>\n",
       "      <td>NaN</td>\n",
       "      <td>NaN</td>\n",
       "      <td>NaN</td>\n",
       "    </tr>\n",
       "    <tr>\n",
       "      <th>22316</th>\n",
       "      <td>OQN7QECT0UC9</td>\n",
       "      <td>f45e71ced3051</td>\n",
       "      <td>1541177236</td>\n",
       "      <td>4</td>\n",
       "      <td>interaction item image</td>\n",
       "      <td>6306720</td>\n",
       "      <td>NL</td>\n",
       "      <td>Montpellier, France</td>\n",
       "      <td>mobile</td>\n",
       "      <td>NaN</td>\n",
       "      <td>NaN</td>\n",
       "      <td>NaN</td>\n",
       "    </tr>\n",
       "    <tr>\n",
       "      <th>22317</th>\n",
       "      <td>OQN7QECT0UC9</td>\n",
       "      <td>f45e71ced3051</td>\n",
       "      <td>1541177236</td>\n",
       "      <td>5</td>\n",
       "      <td>interaction item image</td>\n",
       "      <td>6306720</td>\n",
       "      <td>NL</td>\n",
       "      <td>Montpellier, France</td>\n",
       "      <td>mobile</td>\n",
       "      <td>NaN</td>\n",
       "      <td>NaN</td>\n",
       "      <td>NaN</td>\n",
       "    </tr>\n",
       "    <tr>\n",
       "      <th>22318</th>\n",
       "      <td>OQN7QECT0UC9</td>\n",
       "      <td>f45e71ced3051</td>\n",
       "      <td>1541177236</td>\n",
       "      <td>6</td>\n",
       "      <td>interaction item image</td>\n",
       "      <td>6306720</td>\n",
       "      <td>NL</td>\n",
       "      <td>Montpellier, France</td>\n",
       "      <td>mobile</td>\n",
       "      <td>NaN</td>\n",
       "      <td>NaN</td>\n",
       "      <td>NaN</td>\n",
       "    </tr>\n",
       "    <tr>\n",
       "      <th>22319</th>\n",
       "      <td>OQN7QECT0UC9</td>\n",
       "      <td>f45e71ced3051</td>\n",
       "      <td>1541177256</td>\n",
       "      <td>7</td>\n",
       "      <td>clickout item</td>\n",
       "      <td>86207</td>\n",
       "      <td>NL</td>\n",
       "      <td>Montpellier, France</td>\n",
       "      <td>mobile</td>\n",
       "      <td>NaN</td>\n",
       "      <td>6306720|86207|107431|3137636|2175050|7157020|4...</td>\n",
       "      <td>60|77|36|130|107|48|61|84|99|92|93|92|67|63|10...</td>\n",
       "    </tr>\n",
       "    <tr>\n",
       "      <th>22320</th>\n",
       "      <td>OQN7QECT0UC9</td>\n",
       "      <td>f45e71ced3051</td>\n",
       "      <td>1541177573</td>\n",
       "      <td>8</td>\n",
       "      <td>clickout item</td>\n",
       "      <td>4441432</td>\n",
       "      <td>NL</td>\n",
       "      <td>Montpellier, France</td>\n",
       "      <td>mobile</td>\n",
       "      <td>NaN</td>\n",
       "      <td>4441432|49702|107431|3137636|86207|2175050|715...</td>\n",
       "      <td>77|61|36|130|77|107|48|84|99|92|78|93|92|67|63...</td>\n",
       "    </tr>\n",
       "    <tr>\n",
       "      <th>22321</th>\n",
       "      <td>OQN7QECT0UC9</td>\n",
       "      <td>f45e71ced3051</td>\n",
       "      <td>1541177694</td>\n",
       "      <td>9</td>\n",
       "      <td>search for destination</td>\n",
       "      <td>Lunel, France</td>\n",
       "      <td>NL</td>\n",
       "      <td>Lunel, France</td>\n",
       "      <td>mobile</td>\n",
       "      <td>NaN</td>\n",
       "      <td>NaN</td>\n",
       "      <td>NaN</td>\n",
       "    </tr>\n",
       "    <tr>\n",
       "      <th>22322</th>\n",
       "      <td>OQN7QECT0UC9</td>\n",
       "      <td>f45e71ced3051</td>\n",
       "      <td>1541177716</td>\n",
       "      <td>10</td>\n",
       "      <td>clickout item</td>\n",
       "      <td>341026</td>\n",
       "      <td>NL</td>\n",
       "      <td>Lunel, France</td>\n",
       "      <td>mobile</td>\n",
       "      <td>NaN</td>\n",
       "      <td>341026|8127134|2880700|2175752|735266|4401604|...</td>\n",
       "      <td>78|93|75|46|70|68|90|61|56|96|56|90|67|101|61|...</td>\n",
       "    </tr>\n",
       "  </tbody>\n",
       "</table>\n",
       "</div>"
      ],
      "text/plain": [
       "            user_id  ...                                             prices\n",
       "22313  OQN7QECT0UC9  ...                                                NaN\n",
       "22314  OQN7QECT0UC9  ...                                                NaN\n",
       "22315  OQN7QECT0UC9  ...                                                NaN\n",
       "22316  OQN7QECT0UC9  ...                                                NaN\n",
       "22317  OQN7QECT0UC9  ...                                                NaN\n",
       "22318  OQN7QECT0UC9  ...                                                NaN\n",
       "22319  OQN7QECT0UC9  ...  60|77|36|130|107|48|61|84|99|92|93|92|67|63|10...\n",
       "22320  OQN7QECT0UC9  ...  77|61|36|130|77|107|48|84|99|92|78|93|92|67|63...\n",
       "22321  OQN7QECT0UC9  ...                                                NaN\n",
       "22322  OQN7QECT0UC9  ...  78|93|75|46|70|68|90|61|56|96|56|90|67|101|61|...\n",
       "\n",
       "[10 rows x 12 columns]"
      ]
     },
     "execution_count": 31,
     "metadata": {},
     "output_type": "execute_result"
    }
   ],
   "source": [
    "sid = np.random.choice(sids, 1)[0]\n",
    "print(f'demo: {sid}')\n",
    "train[train.session_id==sid]"
   ]
  },
  {
   "cell_type": "markdown",
   "metadata": {},
   "source": [
    "### session size distribution"
   ]
  },
  {
   "cell_type": "code",
   "execution_count": 85,
   "metadata": {},
   "outputs": [
    {
     "data": {
      "image/png": "[encoded data removed]",
      "text/plain": [
       "<Figure size 432x288 with 1 Axes>"
      ]
     },
     "metadata": {
      "needs_background": "light"
     },
     "output_type": "display_data"
    }
   ],
   "source": [
    "_ = train.groupby('session_id').size().hist(bins=100)"
   ]
  },
  {
   "cell_type": "code",
   "execution_count": 86,
   "metadata": {},
   "outputs": [
    {
     "data": {
      "text/plain": [
       "count    57238.000000\n",
       "mean        17.470911\n",
       "std         48.017363\n",
       "min          1.000000\n",
       "25%          2.000000\n",
       "50%          4.000000\n",
       "75%         13.000000\n",
       "max       2816.000000\n",
       "dtype: float64"
      ]
     },
     "execution_count": 86,
     "metadata": {},
     "output_type": "execute_result"
    }
   ],
   "source": [
    "train.groupby('session_id').size().describe()"
   ]
  },
  {
   "cell_type": "code",
   "execution_count": 149,
   "metadata": {},
   "outputs": [
    {
     "data": {
      "text/html": [
       "<div>\n",
       "<style scoped>\n",
       "    .dataframe tbody tr th:only-of-type {\n",
       "        vertical-align: middle;\n",
       "    }\n",
       "\n",
       "    .dataframe tbody tr th {\n",
       "        vertical-align: top;\n",
       "    }\n",
       "\n",
       "    .dataframe thead th {\n",
       "        text-align: right;\n",
       "    }\n",
       "</style>\n",
       "<table border=\"1\" class=\"dataframe\">\n",
       "  <thead>\n",
       "    <tr style=\"text-align: right;\">\n",
       "      <th></th>\n",
       "      <th>user_id</th>\n",
       "      <th>session_id</th>\n",
       "      <th>timestamp</th>\n",
       "      <th>step</th>\n",
       "      <th>action_type</th>\n",
       "      <th>reference</th>\n",
       "      <th>platform</th>\n",
       "      <th>city</th>\n",
       "      <th>device</th>\n",
       "      <th>current_filters</th>\n",
       "      <th>impressions</th>\n",
       "      <th>prices</th>\n",
       "      <th>nimps</th>\n",
       "    </tr>\n",
       "  </thead>\n",
       "  <tbody>\n",
       "    <tr>\n",
       "      <th>269105</th>\n",
       "      <td>A5ZFRVCM2Z1L</td>\n",
       "      <td>948641e533837</td>\n",
       "      <td>1541161087</td>\n",
       "      <td>1008</td>\n",
       "      <td>clickout item</td>\n",
       "      <td>1943607</td>\n",
       "      <td>TR</td>\n",
       "      <td>Istanbul, Turkey</td>\n",
       "      <td>mobile</td>\n",
       "      <td>Breakfast Included</td>\n",
       "      <td>2158560|3491116|112764|1707617|922215|2259250|...</td>\n",
       "      <td>37|38|38|34|29|31|35|36|38|33|26|33|28|34|34|3...</td>\n",
       "      <td>25</td>\n",
       "    </tr>\n",
       "  </tbody>\n",
       "</table>\n",
       "</div>"
      ],
      "text/plain": [
       "             user_id     session_id  ...                                             prices  nimps\n",
       "269105  A5ZFRVCM2Z1L  948641e533837  ...  37|38|38|34|29|31|35|36|38|33|26|33|28|34|34|3...     25\n",
       "\n",
       "[1 rows x 13 columns]"
      ]
     },
     "execution_count": 149,
     "metadata": {},
     "output_type": "execute_result"
    }
   ],
   "source": [
    "train[(train.session_id=='948641e533837') & (train.action_type=='clickout item')]"
   ]
  },
  {
   "cell_type": "markdown",
   "metadata": {},
   "source": [
    "*notes*: there is a max 2816 session length session_id=948641e533837"
   ]
  },
  {
   "cell_type": "markdown",
   "metadata": {},
   "source": [
    "### value counts of action_types"
   ]
  },
  {
   "cell_type": "code",
   "execution_count": 39,
   "metadata": {},
   "outputs": [
    {
     "data": {
      "text/plain": [
       "interaction item image     743268\n",
       "clickout item               99872\n",
       "filter selection            44226\n",
       "search for destination      25304\n",
       "change of sort order        24934\n",
       "interaction item info       17955\n",
       "interaction item rating     13736\n",
       "interaction item deals      12194\n",
       "search for item              9824\n",
       "search for poi               8687\n",
       "Name: action_type, dtype: int64"
      ]
     },
     "execution_count": 39,
     "metadata": {},
     "output_type": "execute_result"
    }
   ],
   "source": [
    "train.action_type.value_counts()"
   ]
  },
  {
   "cell_type": "code",
   "execution_count": 41,
   "metadata": {},
   "outputs": [
    {
     "data": {
      "text/plain": [
       "interaction item image     74.3268\n",
       "clickout item               9.9872\n",
       "filter selection            4.4226\n",
       "search for destination      2.5304\n",
       "change of sort order        2.4934\n",
       "interaction item info       1.7955\n",
       "interaction item rating     1.3736\n",
       "interaction item deals      1.2194\n",
       "search for item             0.9824\n",
       "search for poi              0.8687\n",
       "Name: action_type, dtype: float64"
      ]
     },
     "execution_count": 41,
     "metadata": {},
     "output_type": "execute_result"
    }
   ],
   "source": [
    "train.action_type.value_counts(normalize=True)*100"
   ]
  },
  {
   "cell_type": "code",
   "execution_count": 50,
   "metadata": {},
   "outputs": [
    {
     "data": {
      "text/plain": [
       "interaction sort button     14589\n",
       "price only                   4948\n",
       "price and recommended        2725\n",
       "distance only                 736\n",
       "distance and recommended      636\n",
       "rating and recommended        623\n",
       "rating only                   436\n",
       "our recommendations           241\n",
       "Name: reference, dtype: int64"
      ]
     },
     "execution_count": 50,
     "metadata": {},
     "output_type": "execute_result"
    }
   ],
   "source": [
    "# train.groupby('action_type')['reference'].value_counts()\n",
    "action_ref_ctns = lambda col: train[train.action_type==col]['reference'].value_counts()\n",
    "action_ref_ctns('change of sort order')"
   ]
  },
  {
   "cell_type": "markdown",
   "metadata": {},
   "source": [
    "### action counts per reference"
   ]
  },
  {
   "cell_type": "code",
   "execution_count": 55,
   "metadata": {},
   "outputs": [
    {
     "data": {
      "text/plain": [
       "reference                               action_type           \n",
       "1 Star                                  filter selection          200\n",
       "1 Utama                                 search for poi              1\n",
       "1000 Schritte durch 1000 Jahre Bautzen  search for poi              1\n",
       "1000029                                 interaction item image      9\n",
       "10000338                                search for item             1\n",
       "Name: action_type, dtype: int64"
      ]
     },
     "execution_count": 55,
     "metadata": {},
     "output_type": "execute_result"
    }
   ],
   "source": [
    "train.groupby('reference')['action_type'].value_counts().head()"
   ]
  },
  {
   "cell_type": "code",
   "execution_count": 70,
   "metadata": {},
   "outputs": [
    {
     "data": {
      "text/plain": [
       "<matplotlib.axes._subplots.AxesSubplot at 0x16c9b6dd8>"
      ]
     },
     "execution_count": 70,
     "metadata": {},
     "output_type": "execute_result"
    },
    {
     "data": {
      "image/png": "[encoded data removed]",
      "text/plain": [
       "<Figure size 432x288 with 1 Axes>"
      ]
     },
     "metadata": {
      "needs_background": "light"
     },
     "output_type": "display_data"
    }
   ],
   "source": [
    "train[train.action_type == 'clickout item'].groupby('reference').size().hist(bins=20)"
   ]
  },
  {
   "cell_type": "code",
   "execution_count": 76,
   "metadata": {},
   "outputs": [
    {
     "data": {
      "text/plain": [
       "action_type              reference              \n",
       "change of sort order     interaction sort button    14589\n",
       "                         price only                  4948\n",
       "clickout item            8796                          61\n",
       "                         8621                          58\n",
       "filter selection         Sort by Price               4950\n",
       "                         Hotel                       3752\n",
       "interaction item deals   3414162                       23\n",
       "                         1488631                       15\n",
       "interaction item image   8796                         478\n",
       "                         2053822                      425\n",
       "interaction item info    unknown                       32\n",
       "                         34506                         24\n",
       "interaction item rating  34506                         26\n",
       "                         499361                        18\n",
       "search for destination   London, United Kingdom       369\n",
       "                         Paris, France                322\n",
       "search for item          358946                        15\n",
       "                         6174650                       14\n",
       "search for poi           Tokyo Disneyland             143\n",
       "                         Shinjuku Station              84\n",
       "Name: reference, dtype: int64"
      ]
     },
     "execution_count": 76,
     "metadata": {},
     "output_type": "execute_result"
    }
   ],
   "source": [
    "train.groupby('action_type')['reference'].value_counts().groupby(level=0).head(2)"
   ]
  },
  {
   "cell_type": "markdown",
   "metadata": {},
   "source": [
    "*notes*: majority references only had one clickout, using this to encode would probably be leakage, overfits or maybe not?"
   ]
  },
  {
   "cell_type": "markdown",
   "metadata": {},
   "source": [
    "### value counts for divices/platform"
   ]
  },
  {
   "cell_type": "code",
   "execution_count": 64,
   "metadata": {},
   "outputs": [
    {
     "data": {
      "text/plain": [
       "mobile     489604\n",
       "desktop    428813\n",
       "tablet      81583\n",
       "Name: device, dtype: int64"
      ]
     },
     "execution_count": 64,
     "metadata": {},
     "output_type": "execute_result"
    }
   ],
   "source": [
    "train.device.value_counts()"
   ]
  },
  {
   "cell_type": "code",
   "execution_count": 66,
   "metadata": {},
   "outputs": [
    {
     "data": {
      "text/plain": [
       "BR    161212\n",
       "US    103517\n",
       "DE     62969\n",
       "UK     56013\n",
       "MX     51006\n",
       "Name: platform, dtype: int64"
      ]
     },
     "execution_count": 66,
     "metadata": {},
     "output_type": "execute_result"
    }
   ],
   "source": [
    "train.platform.value_counts().head()"
   ]
  },
  {
   "cell_type": "markdown",
   "metadata": {},
   "source": [
    "popularity of references for different devices"
   ]
  },
  {
   "cell_type": "code",
   "execution_count": 72,
   "metadata": {},
   "outputs": [
    {
     "data": {
      "text/plain": [
       "device   reference\n",
       "desktop  8246692      37\n",
       "         8796         26\n",
       "         1811137      25\n",
       "         8621         23\n",
       "         8586         18\n",
       "mobile   8564         32\n",
       "         8561         31\n",
       "         8589         28\n",
       "         8621         26\n",
       "         8796         26\n",
       "tablet   2123918      15\n",
       "         8621          9\n",
       "         8796          9\n",
       "         953525        9\n",
       "         321586        8\n",
       "Name: reference, dtype: int64"
      ]
     },
     "execution_count": 72,
     "metadata": {},
     "output_type": "execute_result"
    }
   ],
   "source": [
    "train[train.action_type == 'clickout item'].groupby('device')['reference'].value_counts().groupby(level=0).head(5)"
   ]
  },
  {
   "cell_type": "markdown",
   "metadata": {},
   "source": [
    "### length of impression"
   ]
  },
  {
   "cell_type": "code",
   "execution_count": 96,
   "metadata": {},
   "outputs": [
    {
     "data": {
      "text/plain": [
       "<matplotlib.axes._subplots.AxesSubplot at 0x1991f5748>"
      ]
     },
     "execution_count": 96,
     "metadata": {},
     "output_type": "execute_result"
    },
    {
     "data": {
      "image/png": "[encoded data removed]",
      "text/plain": [
       "<Figure size 432x288 with 1 Axes>"
      ]
     },
     "metadata": {
      "needs_background": "light"
     },
     "output_type": "display_data"
    }
   ],
   "source": [
    "has_imp_mask = train.impressions.notna()\n",
    "train.loc[has_imp_mask, 'nimps']= train.loc[has_imp_mask, 'impressions'].str.split('|').str.len()#.hist(bins=20)\n",
    "train[has_imp_mask].impressions.str.split('|').str.len().hist(bins=20)"
   ]
  },
  {
   "cell_type": "markdown",
   "metadata": {},
   "source": [
    "### location and price of clickout item"
   ]
  },
  {
   "cell_type": "code",
   "execution_count": 132,
   "metadata": {},
   "outputs": [
    {
     "name": "stdout",
     "output_type": "stream",
     "text": [
      "CPU times: user 2.43 s, sys: 8.29 ms, total: 2.44 s\n",
      "Wall time: 2.44 s\n"
     ]
    }
   ],
   "source": [
    "%%time\n",
    "def get_ind(x):\n",
    "    try:\n",
    "        imps = x.impressions.split('|')\n",
    "        return imps.index(str(x.reference))/len(imps)\n",
    "    except:\n",
    "        return np.nan\n",
    "        \n",
    "loc_ind_per = train[(train.reference.notna()) & (train.impressions.notna())].apply(get_ind, axis=1)"
   ]
  },
  {
   "cell_type": "code",
   "execution_count": 133,
   "metadata": {},
   "outputs": [
    {
     "data": {
      "image/png": "[encoded data removed]",
      "text/plain": [
       "<Figure size 432x288 with 1 Axes>"
      ]
     },
     "metadata": {
      "needs_background": "light"
     },
     "output_type": "display_data"
    }
   ],
   "source": [
    "_ = loc_ind_per.hist(bins=50)"
   ]
  },
  {
   "cell_type": "code",
   "execution_count": 140,
   "metadata": {},
   "outputs": [
    {
     "name": "stdout",
     "output_type": "stream",
     "text": [
      "CPU times: user 3.82 s, sys: 5.17 ms, total: 3.82 s\n",
      "Wall time: 3.82 s\n"
     ]
    }
   ],
   "source": [
    "%%time\n",
    "def get_ind(x):\n",
    "    try:\n",
    "        imps = x.impressions.split('|')\n",
    "        ps = x.prices.split('|')\n",
    "        ps = [float(p) for p in ps]\n",
    "        return ps[imps.index(x.reference)]/max(ps)\n",
    "    except:\n",
    "        return np.nan     \n",
    "price_loc = train[(train.reference.notna()) & (train.impressions.notna())].apply(get_ind, axis=1)"
   ]
  },
  {
   "cell_type": "code",
   "execution_count": 142,
   "metadata": {},
   "outputs": [
    {
     "data": {
      "image/png": "[encoded data removed]",
      "text/plain": [
       "<Figure size 432x288 with 1 Axes>"
      ]
     },
     "metadata": {
      "needs_background": "light"
     },
     "output_type": "display_data"
    }
   ],
   "source": [
    "_ = price_loc.hist(bins=100)"
   ]
  },
  {
   "cell_type": "markdown",
   "metadata": {},
   "source": [
    "### popularity for different scenarios"
   ]
  },
  {
   "cell_type": "code",
   "execution_count": 3,
   "metadata": {},
   "outputs": [
    {
     "data": {
      "text/html": [
       "<div>\n",
       "<style scoped>\n",
       "    .dataframe tbody tr th:only-of-type {\n",
       "        vertical-align: middle;\n",
       "    }\n",
       "\n",
       "    .dataframe tbody tr th {\n",
       "        vertical-align: top;\n",
       "    }\n",
       "\n",
       "    .dataframe thead th {\n",
       "        text-align: right;\n",
       "    }\n",
       "</style>\n",
       "<table border=\"1\" class=\"dataframe\">\n",
       "  <thead>\n",
       "    <tr style=\"text-align: right;\">\n",
       "      <th></th>\n",
       "      <th>user_id</th>\n",
       "      <th>session_id</th>\n",
       "      <th>timestamp</th>\n",
       "      <th>step</th>\n",
       "      <th>action_type</th>\n",
       "      <th>reference</th>\n",
       "      <th>platform</th>\n",
       "      <th>city</th>\n",
       "      <th>device</th>\n",
       "      <th>current_filters</th>\n",
       "      <th>impressions</th>\n",
       "      <th>prices</th>\n",
       "    </tr>\n",
       "  </thead>\n",
       "  <tbody>\n",
       "    <tr>\n",
       "      <th>0</th>\n",
       "      <td>008UN2RY0DMY</td>\n",
       "      <td>cd10940538005</td>\n",
       "      <td>1541031243</td>\n",
       "      <td>1</td>\n",
       "      <td>search for destination</td>\n",
       "      <td>Rochester, USA</td>\n",
       "      <td>US</td>\n",
       "      <td>Rochester, USA</td>\n",
       "      <td>desktop</td>\n",
       "      <td>NaN</td>\n",
       "      <td>NaN</td>\n",
       "      <td>NaN</td>\n",
       "    </tr>\n",
       "    <tr>\n",
       "      <th>1</th>\n",
       "      <td>008UN2RY0DMY</td>\n",
       "      <td>cd10940538005</td>\n",
       "      <td>1541031463</td>\n",
       "      <td>2</td>\n",
       "      <td>change of sort order</td>\n",
       "      <td>interaction sort button</td>\n",
       "      <td>US</td>\n",
       "      <td>Rochester, USA</td>\n",
       "      <td>desktop</td>\n",
       "      <td>NaN</td>\n",
       "      <td>NaN</td>\n",
       "      <td>NaN</td>\n",
       "    </tr>\n",
       "    <tr>\n",
       "      <th>2</th>\n",
       "      <td>008UN2RY0DMY</td>\n",
       "      <td>cd10940538005</td>\n",
       "      <td>1541031473</td>\n",
       "      <td>3</td>\n",
       "      <td>change of sort order</td>\n",
       "      <td>distance and recommended</td>\n",
       "      <td>US</td>\n",
       "      <td>Rochester, USA</td>\n",
       "      <td>desktop</td>\n",
       "      <td>NaN</td>\n",
       "      <td>NaN</td>\n",
       "      <td>NaN</td>\n",
       "    </tr>\n",
       "    <tr>\n",
       "      <th>3</th>\n",
       "      <td>008UN2RY0DMY</td>\n",
       "      <td>cd10940538005</td>\n",
       "      <td>1541031473</td>\n",
       "      <td>4</td>\n",
       "      <td>filter selection</td>\n",
       "      <td>Focus on Distance</td>\n",
       "      <td>US</td>\n",
       "      <td>Rochester, USA</td>\n",
       "      <td>desktop</td>\n",
       "      <td>Focus on Distance</td>\n",
       "      <td>NaN</td>\n",
       "      <td>NaN</td>\n",
       "    </tr>\n",
       "    <tr>\n",
       "      <th>4</th>\n",
       "      <td>008UN2RY0DMY</td>\n",
       "      <td>cd10940538005</td>\n",
       "      <td>1541031550</td>\n",
       "      <td>5</td>\n",
       "      <td>interaction item image</td>\n",
       "      <td>57103</td>\n",
       "      <td>US</td>\n",
       "      <td>Rochester, USA</td>\n",
       "      <td>desktop</td>\n",
       "      <td>NaN</td>\n",
       "      <td>NaN</td>\n",
       "      <td>NaN</td>\n",
       "    </tr>\n",
       "  </tbody>\n",
       "</table>\n",
       "</div>"
      ],
      "text/plain": [
       "        user_id     session_id   timestamp  step             action_type  \\\n",
       "0  008UN2RY0DMY  cd10940538005  1541031243     1  search for destination   \n",
       "1  008UN2RY0DMY  cd10940538005  1541031463     2    change of sort order   \n",
       "2  008UN2RY0DMY  cd10940538005  1541031473     3    change of sort order   \n",
       "3  008UN2RY0DMY  cd10940538005  1541031473     4        filter selection   \n",
       "4  008UN2RY0DMY  cd10940538005  1541031550     5  interaction item image   \n",
       "\n",
       "                  reference platform            city   device  \\\n",
       "0            Rochester, USA       US  Rochester, USA  desktop   \n",
       "1   interaction sort button       US  Rochester, USA  desktop   \n",
       "2  distance and recommended       US  Rochester, USA  desktop   \n",
       "3         Focus on Distance       US  Rochester, USA  desktop   \n",
       "4                     57103       US  Rochester, USA  desktop   \n",
       "\n",
       "     current_filters impressions prices  \n",
       "0                NaN         NaN    NaN  \n",
       "1                NaN         NaN    NaN  \n",
       "2                NaN         NaN    NaN  \n",
       "3  Focus on Distance         NaN    NaN  \n",
       "4                NaN         NaN    NaN  "
      ]
     },
     "execution_count": 3,
     "metadata": {},
     "output_type": "execute_result"
    }
   ],
   "source": [
    "train.head()"
   ]
  },
  {
   "cell_type": "code",
   "execution_count": 5,
   "metadata": {},
   "outputs": [
    {
     "data": {
      "text/plain": [
       "platform  city                           \n",
       "AA        10th of Ramadan City, Egypt         1\n",
       "          Abu Dhabi, United Arab Emirates    11\n",
       "          Addis Ababa, Ethiopia              22\n",
       "          Agadir, Morocco                     4\n",
       "          Ain Sukhna, Egypt                  22\n",
       "dtype: int64"
      ]
     },
     "execution_count": 5,
     "metadata": {},
     "output_type": "execute_result"
    }
   ],
   "source": [
    "train.groupby(['platform', 'city']).size().head()"
   ]
  },
  {
   "cell_type": "code",
   "execution_count": 6,
   "metadata": {},
   "outputs": [],
   "source": [
    "def get_specific_popularity(df):\n",
    "    return df.groupby('reference')['action_type'].value_counts()\n"
   ]
  },
  {
   "cell_type": "code",
   "execution_count": null,
   "metadata": {},
   "outputs": [],
   "source": [
    "%%time\n",
    "a = train.groupby(['platform', 'city']).apply(get_specific_popularity)"
   ]
  },
  {
   "cell_type": "code",
   "execution_count": 15,
   "metadata": {},
   "outputs": [
    {
     "name": "stdout",
     "output_type": "stream",
     "text": [
      "('AA', 'Abu Dhabi, United Arab Emirates')\n",
      "             user_id     session_id   timestamp  step             action_type                        reference platform                             city   device current_filters                                        impressions                                             prices\n",
      "100965  FEYP3TLB8JL3  01588cfb1bce0  1541074177     1  search for destination  Abu Dhabi, United Arab Emirates       AA  Abu Dhabi, United Arab Emirates  desktop             NaN                                                NaN                                                NaN\n",
      "100966  FEYP3TLB8JL3  01588cfb1bce0  1541074245     2  interaction item image                            55347       AA  Abu Dhabi, United Arab Emirates  desktop             NaN                                                NaN                                                NaN\n",
      "100967  FEYP3TLB8JL3  01588cfb1bce0  1541074245     3  interaction item image                            55347       AA  Abu Dhabi, United Arab Emirates  desktop             NaN                                                NaN                                                NaN\n",
      "100968  FEYP3TLB8JL3  01588cfb1bce0  1541074252     4           clickout item                            55347       AA  Abu Dhabi, United Arab Emirates  desktop             NaN  5678720|1711879|6518948|3755118|1977357|752311...  281|225|773|235|361|149|285|152|1075|428|253|2...\n",
      "100969  FEYP3TLB8JL3  01588cfb1bce0  1541074255     5  interaction item image                            55347       AA  Abu Dhabi, United Arab Emirates  desktop             NaN                                                NaN                                                NaN\n",
      "100970  FEYP3TLB8JL3  01588cfb1bce0  1541074255     6  interaction item image                            55347       AA  Abu Dhabi, United Arab Emirates  desktop             NaN                                                NaN                                                NaN\n",
      "100971  FEYP3TLB8JL3  01588cfb1bce0  1541074255     7  interaction item image                            55347       AA  Abu Dhabi, United Arab Emirates  desktop             NaN                                                NaN                                                NaN\n",
      "100972  FEYP3TLB8JL3  01588cfb1bce0  1541074255     8  interaction item image                            55347       AA  Abu Dhabi, United Arab Emirates  desktop             NaN                                                NaN                                                NaN\n",
      "100973  FEYP3TLB8JL3  01588cfb1bce0  1541074255     9  interaction item image                            55347       AA  Abu Dhabi, United Arab Emirates  desktop             NaN                                                NaN                                                NaN\n",
      "100974  FEYP3TLB8JL3  01588cfb1bce0  1541074255    10  interaction item image                            55347       AA  Abu Dhabi, United Arab Emirates  desktop             NaN                                                NaN                                                NaN\n",
      "893280  IHX5B0PNJV1A  bfb6bf3d8f7f8  1541320403     2  search for destination  Abu Dhabi, United Arab Emirates       AA  Abu Dhabi, United Arab Emirates   mobile             NaN                                                NaN                                                NaN\n"
     ]
    }
   ],
   "source": [
    "grp = train.groupby(['platform', 'city'])\n",
    "for i, j in grp:\n",
    "    if len(j) > 1:\n",
    "        print(i)\n",
    "\n",
    "        print(j.to_string())\n",
    "        break"
   ]
  },
  {
   "cell_type": "code",
   "execution_count": 11,
   "metadata": {},
   "outputs": [
    {
     "data": {
      "text/plain": [
       "city                             reference                        action_type           \n",
       "10th of Ramadan City, Egypt      2431048                          clickout item              1\n",
       "Abu Dhabi, United Arab Emirates  55347                            interaction item image     8\n",
       "                                                                  clickout item              1\n",
       "                                 Abu Dhabi, United Arab Emirates  search for destination     2\n",
       "Addis Ababa, Ethiopia            1204212                          interaction item image    11\n",
       "                                                                  clickout item              2\n",
       "                                                                  interaction item deals     1\n",
       "                                 4505162                          interaction item image     6\n",
       "                                 5003510                          clickout item              1\n",
       "                                 interaction sort button          change of sort order       1\n",
       "Agadir, Morocco                  2951235                          clickout item              1\n",
       "                                 Sort by Price                    filter selection           1\n",
       "                                 interaction sort button          change of sort order       1\n",
       "                                 price only                       change of sort order       1\n",
       "Ain Sukhna, Egypt                1702433                          interaction item image     2\n",
       "                                                                  clickout item              1\n",
       "                                                                  interaction item info      1\n",
       "                                 4795464                          clickout item              1\n",
       "                                 5 Star                           filter selection           1\n",
       "                                 6766494                          interaction item deals     1\n",
       "                                 695966                           interaction item image     4\n",
       "                                 Ain Sukhna, Egypt                search for destination     2\n",
       "                                 Car Park                         filter selection           1\n",
       "                                 Excellent Rating                 filter selection           1\n",
       "                                 House / Apartment                filter selection           4\n",
       "                                 Sort By Rating                   filter selection           1\n",
       "                                 interaction sort button          change of sort order       1\n",
       "                                 rating only                      change of sort order       1\n",
       "Ajman, United Arab Emirates      2873552                          interaction item image     4\n",
       "                                                                  clickout item              1\n",
       "                                                                                            ..\n",
       "Trabzon, Turkey                  Free WiFi (Combined)             filter selection           1\n",
       "                                 Hotel                            filter selection           1\n",
       "Trier Treves, Germany            6522                             search for item            1\n",
       "Tunis, Tunisia                   1207351                          interaction item image     8\n",
       "                                                                  clickout item              3\n",
       "                                                                  interaction item deals     2\n",
       "                                                                  interaction item info      1\n",
       "                                 2833350                          clickout item              1\n",
       "                                 352911                           clickout item              1\n",
       "                                 3970328                          interaction item image     2\n",
       "                                                                  clickout item              1\n",
       "                                 6319406                          interaction item info      1\n",
       "                                 778038                           interaction item image     4\n",
       "                                                                  clickout item              1\n",
       "                                 Tunis, Tunisia                   search for destination     1\n",
       "Vienna, Austria                  14925                            clickout item              1\n",
       "                                 2225530                          clickout item              1\n",
       "                                 35553                            clickout item              1\n",
       "                                 Vienna, Austria                  search for destination     1\n",
       "Warsaw, Poland                   3870524                          search for item            1\n",
       "Wilmington, USA                  7195930                          clickout item              1\n",
       "Yerevan, Armenia                 1329104                          clickout item              1\n",
       "                                 135624                           interaction item image     4\n",
       "                                                                  clickout item              1\n",
       "                                 2645180                          clickout item              1\n",
       "                                 2845534                          interaction item image     6\n",
       "                                                                  clickout item              1\n",
       "                                 4323534                          clickout item              1\n",
       "Zarzis, Tunisia                  9316                             interaction item image     2\n",
       "                                                                  clickout item              1\n",
       "Name: action_type, Length: 1280, dtype: int64"
      ]
     },
     "execution_count": 11,
     "metadata": {},
     "output_type": "execute_result"
    }
   ],
   "source": [
    "a.loc['AA']"
   ]
  },
  {
   "cell_type": "code",
   "execution_count": null,
   "metadata": {},
   "outputs": [],
   "source": []
  }
 ],
 "metadata": {
  "kernelspec": {
   "display_name": "Python 3",
   "language": "python",
   "name": "python3"
  },
  "language_info": {
   "codemirror_mode": {
    "name": "ipython",
    "version": 3
   },
   "file_extension": ".py",
   "mimetype": "text/x-python",
   "name": "python",
   "nbconvert_exporter": "python",
   "pygments_lexer": "ipython3",
   "version": "3.6.8"
  }
 },
 "nbformat": 4,
 "nbformat_minor": 2
}
