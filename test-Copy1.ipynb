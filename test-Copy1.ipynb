{
 "cells": [
  {
   "cell_type": "code",
   "execution_count": 1,
   "metadata": {},
   "outputs": [],
   "source": [
    "import pandas as pd\n",
    "import numpy as np\n",
    "import datetime\n",
    "\n",
    "%matplotlib inline\n",
    "%load_ext autoreload\n",
    "%autoreload 2"
   ]
  },
  {
   "cell_type": "code",
   "execution_count": 2,
   "metadata": {},
   "outputs": [
    {
     "name": "stdout",
     "output_type": "stream",
     "text": [
      "total 2.8G\r\n",
      "-rw-rw-r-- 1 sam sam 507M Mar 14 23:57 test.csv\r\n",
      "-rw-rw-r-- 1 sam sam  51M Mar 14 23:57 submission_popular.csv\r\n",
      "-rw-rw-r-- 1 sam sam 246M Mar 14 23:57 item_metadata.csv\r\n",
      "-rw-rw-r-- 1 sam sam 2.0G Mar 14 23:57 train.csv\r\n",
      "-rw-rw-r-- 1 sam sam 1.2M Mar 15 22:32 result.csv\r\n"
     ]
    }
   ],
   "source": [
    "data_path = './data/'\n",
    "!ls -lthr data/"
   ]
  },
  {
   "cell_type": "code",
   "execution_count": 3,
   "metadata": {},
   "outputs": [
    {
     "name": "stdout",
     "output_type": "stream",
     "text": [
      "CPU times: user 25.3 ms, sys: 4.55 ms, total: 29.9 ms\n",
      "Wall time: 28.9 ms\n"
     ]
    }
   ],
   "source": [
    "%%time\n",
    "nrows = 10000\n",
    "# nrows = None\n",
    "train = pd.read_csv(data_path+'train.csv', nrows=nrows)"
   ]
  },
  {
   "cell_type": "code",
   "execution_count": 4,
   "metadata": {},
   "outputs": [
    {
     "data": {
      "text/plain": [
       "(1000, 12)"
      ]
     },
     "execution_count": 4,
     "metadata": {},
     "output_type": "execute_result"
    }
   ],
   "source": [
    "test = pd.read_csv(data_path+'test.csv', nrows=1000)\n",
    "test.shape"
   ]
  },
  {
   "cell_type": "code",
   "execution_count": 5,
   "metadata": {},
   "outputs": [],
   "source": [
    "# test_click_session_ids = test[test.impressions.notnull()].session_id.unique()"
   ]
  },
  {
   "cell_type": "code",
   "execution_count": 6,
   "metadata": {
    "scrolled": false
   },
   "outputs": [],
   "source": [
    "# ts = np.random.choice(test_click_session_ids, 1)\n",
    "# test[test.session_id==ts[0]]"
   ]
  },
  {
   "cell_type": "code",
   "execution_count": 7,
   "metadata": {},
   "outputs": [],
   "source": [
    "# train_click_ids = train[train.impressions.notnull()].session_id.unique()"
   ]
  },
  {
   "cell_type": "code",
   "execution_count": 8,
   "metadata": {},
   "outputs": [],
   "source": [
    "# ts = np.random.choice(train_click_ids, 1)\n",
    "# train[train.session_id==ts[0]]"
   ]
  },
  {
   "cell_type": "code",
   "execution_count": 9,
   "metadata": {},
   "outputs": [],
   "source": [
    "# train.groupby('session_id').apply(lambda x: x.iloc[-1]['reference']).isna().sum()"
   ]
  },
  {
   "cell_type": "code",
   "execution_count": 10,
   "metadata": {},
   "outputs": [],
   "source": [
    "# train.groupby('session_id').apply(lambda x: x.iloc[-1]['impressions']).isna().sum()"
   ]
  },
  {
   "cell_type": "markdown",
   "metadata": {},
   "source": [
    "### clip sessions off to last click"
   ]
  },
  {
   "cell_type": "code",
   "execution_count": 11,
   "metadata": {},
   "outputs": [
    {
     "name": "stderr",
     "output_type": "stream",
     "text": [
      "/home/sam/anaconda3/lib/python3.6/site-packages/numpy/core/fromnumeric.py:56: FutureWarning: Series.nonzero() is deprecated and will be removed in a future version.Use Series.to_numpy().nonzero() instead\n",
      "  return getattr(obj, method)(*args, **kwds)\n"
     ]
    },
    {
     "name": "stdout",
     "output_type": "stream",
     "text": [
      "CPU times: user 315 ms, sys: 7.54 ms, total: 322 ms\n",
      "Wall time: 327 ms\n"
     ]
    }
   ],
   "source": [
    "%%time\n",
    "# get all rows upto the last clickout action (some rows has reference but it's not clickout action)\n",
    "def up_to_last_click(grp):\n",
    "    check = grp.action_type == 'clickout item'\n",
    "    if check.sum() != 0:\n",
    "        return grp.iloc[:np.argwhere(check)[-1][0]+1]\n",
    "    else:\n",
    "        return grp\n",
    "        \n",
    "train = train.groupby('session_id').apply(up_to_last_click).reset_index(drop=True)"
   ]
  },
  {
   "cell_type": "code",
   "execution_count": 12,
   "metadata": {},
   "outputs": [
    {
     "name": "stdout",
     "output_type": "stream",
     "text": [
      "CPU times: user 3.34 ms, sys: 0 ns, total: 3.34 ms\n",
      "Wall time: 3.31 ms\n"
     ]
    }
   ],
   "source": [
    "%%time\n",
    "# get utc timestamp\n",
    "train['ts'] = train['timestamp'].apply(lambda t: datetime.datetime.utcfromtimestamp(t))"
   ]
  },
  {
   "cell_type": "code",
   "execution_count": 13,
   "metadata": {},
   "outputs": [
    {
     "name": "stdout",
     "output_type": "stream",
     "text": [
      "CPU times: user 488 ms, sys: 179 µs, total: 488 ms\n",
      "Wall time: 487 ms\n"
     ]
    }
   ],
   "source": [
    "%%time\n",
    "# only look at sessions with clickouts (for now)\n",
    "# first filter out sessions that does not have a click-out\n",
    "def check_clickout(grp):\n",
    "     # sessions has clickouts\n",
    "    has_clickout = 'clickout item' in grp['action_type'].unique()\n",
    "    # last row has reference and it's not nan\n",
    "    has_ref = ((grp['action_type'].iloc[-1] == 'clickout item') & \n",
    "               (grp.iloc[-1][['impressions', 'reference', 'prices']].isna().sum()==0))\n",
    "#                (pd.notnull(grp.iloc[-1][])) &\n",
    "#                (pd.notnull(grp.iloc[-1]['prices'])))\n",
    "    return has_clickout & has_ref\n",
    "    \n",
    "clicked = train.groupby('session_id').apply(check_clickout)\n",
    "click_session_ids = clicked[clicked].index\n",
    "# filter\n",
    "train = train[train.session_id.isin(click_session_ids)].reset_index(drop=True)"
   ]
  },
  {
   "cell_type": "code",
   "execution_count": null,
   "metadata": {},
   "outputs": [],
   "source": [
    "train."
   ]
  },
  {
   "cell_type": "markdown",
   "metadata": {},
   "source": [
    "### meta info"
   ]
  },
  {
   "cell_type": "code",
   "execution_count": 14,
   "metadata": {},
   "outputs": [
    {
     "name": "stdout",
     "output_type": "stream",
     "text": [
      "CPU times: user 32.6 ms, sys: 149 µs, total: 32.7 ms\n",
      "Wall time: 32.2 ms\n"
     ]
    }
   ],
   "source": [
    "%%time\n",
    "meta = pd.read_csv(data_path+'item_metadata.csv', nrows=nrows)\n",
    "meta['properties'] = meta['properties'].str.lower()"
   ]
  },
  {
   "cell_type": "code",
   "execution_count": 15,
   "metadata": {},
   "outputs": [
    {
     "name": "stdout",
     "output_type": "stream",
     "text": [
      "CPU times: user 10.2 ms, sys: 3.55 ms, total: 13.7 ms\n",
      "Wall time: 13.3 ms\n"
     ]
    }
   ],
   "source": [
    "%%time\n",
    "# checkout properties of items\n",
    "def get_property_count(row):\n",
    "    return len(row.split('|'))\n",
    "\n",
    "item_p_ctn = meta['properties'].apply(get_property_count)\n",
    "item_p_ctn.describe()"
   ]
  },
  {
   "cell_type": "code",
   "execution_count": 16,
   "metadata": {},
   "outputs": [
    {
     "name": "stdout",
     "output_type": "stream",
     "text": [
      "CPU times: user 31.2 ms, sys: 3.82 ms, total: 35.1 ms\n",
      "Wall time: 34.3 ms\n"
     ]
    }
   ],
   "source": [
    "%%time\n",
    "def get_property(row):\n",
    "    return row.lower().split('|')\n",
    "meta['ps'] = meta['properties'].apply(get_property)\n",
    "# numer of properties\n",
    "meta['nprop'] = meta.ps.str.len()\n",
    "# star ratings\n",
    "meta['star'] = meta.properties.str.extract('[\\|](\\d) star')\n",
    "meta['star'] = meta['star'].astype(float)"
   ]
  },
  {
   "cell_type": "code",
   "execution_count": 17,
   "metadata": {},
   "outputs": [
    {
     "name": "stdout",
     "output_type": "stream",
     "text": [
      "CPU times: user 24.1 ms, sys: 0 ns, total: 24.1 ms\n",
      "Wall time: 23.7 ms\n"
     ]
    }
   ],
   "source": [
    "%%time\n",
    "# create rating columns\n",
    "ratings = ['good rating', 'satisfactory rating', 'excellent rating']\n",
    "for r in ratings:\n",
    "    meta[r.replace(' ', '_')] = meta.properties.str.findall(f'\\|{r}').str.len()"
   ]
  },
  {
   "cell_type": "code",
   "execution_count": 18,
   "metadata": {},
   "outputs": [],
   "source": [
    "# total_ps = []\n",
    "# for p in meta['ps'].values:\n",
    "#     total_ps += p"
   ]
  },
  {
   "cell_type": "code",
   "execution_count": 19,
   "metadata": {},
   "outputs": [],
   "source": [
    "# total_ps"
   ]
  },
  {
   "cell_type": "code",
   "execution_count": 20,
   "metadata": {},
   "outputs": [],
   "source": [
    "# pd.value_counts(total_ps).iloc[:20].plot(kind='bar')"
   ]
  },
  {
   "cell_type": "code",
   "execution_count": 21,
   "metadata": {},
   "outputs": [
    {
     "data": {
      "text/html": [
       "<div>\n",
       "<style scoped>\n",
       "    .dataframe tbody tr th:only-of-type {\n",
       "        vertical-align: middle;\n",
       "    }\n",
       "\n",
       "    .dataframe tbody tr th {\n",
       "        vertical-align: top;\n",
       "    }\n",
       "\n",
       "    .dataframe thead th {\n",
       "        text-align: right;\n",
       "    }\n",
       "</style>\n",
       "<table border=\"1\" class=\"dataframe\">\n",
       "  <thead>\n",
       "    <tr style=\"text-align: right;\">\n",
       "      <th></th>\n",
       "      <th>item_id</th>\n",
       "      <th>properties</th>\n",
       "      <th>ps</th>\n",
       "      <th>nprop</th>\n",
       "      <th>star</th>\n",
       "      <th>good_rating</th>\n",
       "      <th>satisfactory_rating</th>\n",
       "      <th>excellent_rating</th>\n",
       "    </tr>\n",
       "  </thead>\n",
       "  <tbody>\n",
       "    <tr>\n",
       "      <th>0</th>\n",
       "      <td>5121</td>\n",
       "      <td>terrace (hotel)|lift|childcare|from 3 stars|ra...</td>\n",
       "      <td>[terrace (hotel), lift, childcare, from 3 star...</td>\n",
       "      <td>54</td>\n",
       "      <td>3.0</td>\n",
       "      <td>1</td>\n",
       "      <td>1</td>\n",
       "      <td>0</td>\n",
       "    </tr>\n",
       "    <tr>\n",
       "      <th>1</th>\n",
       "      <td>5555</td>\n",
       "      <td>terrace (hotel)|lift|from 3 stars|radio|from 4...</td>\n",
       "      <td>[terrace (hotel), lift, from 3 stars, radio, f...</td>\n",
       "      <td>77</td>\n",
       "      <td>5.0</td>\n",
       "      <td>1</td>\n",
       "      <td>1</td>\n",
       "      <td>1</td>\n",
       "    </tr>\n",
       "    <tr>\n",
       "      <th>2</th>\n",
       "      <td>5684</td>\n",
       "      <td>terrace (hotel)|lift|from 3 stars|radio|4 star...</td>\n",
       "      <td>[terrace (hotel), lift, from 3 stars, radio, 4...</td>\n",
       "      <td>62</td>\n",
       "      <td>4.0</td>\n",
       "      <td>1</td>\n",
       "      <td>1</td>\n",
       "      <td>0</td>\n",
       "    </tr>\n",
       "    <tr>\n",
       "      <th>3</th>\n",
       "      <td>5777</td>\n",
       "      <td>lift|childcare|from 3 stars|radio|4 star|from ...</td>\n",
       "      <td>[lift, childcare, from 3 stars, radio, 4 star,...</td>\n",
       "      <td>69</td>\n",
       "      <td>4.0</td>\n",
       "      <td>1</td>\n",
       "      <td>1</td>\n",
       "      <td>0</td>\n",
       "    </tr>\n",
       "    <tr>\n",
       "      <th>4</th>\n",
       "      <td>6044</td>\n",
       "      <td>terrace (hotel)|childcare|from 3 stars|radio|b...</td>\n",
       "      <td>[terrace (hotel), childcare, from 3 stars, rad...</td>\n",
       "      <td>45</td>\n",
       "      <td>3.0</td>\n",
       "      <td>1</td>\n",
       "      <td>1</td>\n",
       "      <td>0</td>\n",
       "    </tr>\n",
       "  </tbody>\n",
       "</table>\n",
       "</div>"
      ],
      "text/plain": [
       "   item_id                                         properties  \\\n",
       "0     5121  terrace (hotel)|lift|childcare|from 3 stars|ra...   \n",
       "1     5555  terrace (hotel)|lift|from 3 stars|radio|from 4...   \n",
       "2     5684  terrace (hotel)|lift|from 3 stars|radio|4 star...   \n",
       "3     5777  lift|childcare|from 3 stars|radio|4 star|from ...   \n",
       "4     6044  terrace (hotel)|childcare|from 3 stars|radio|b...   \n",
       "\n",
       "                                                  ps  nprop  star  \\\n",
       "0  [terrace (hotel), lift, childcare, from 3 star...     54   3.0   \n",
       "1  [terrace (hotel), lift, from 3 stars, radio, f...     77   5.0   \n",
       "2  [terrace (hotel), lift, from 3 stars, radio, 4...     62   4.0   \n",
       "3  [lift, childcare, from 3 stars, radio, 4 star,...     69   4.0   \n",
       "4  [terrace (hotel), childcare, from 3 stars, rad...     45   3.0   \n",
       "\n",
       "   good_rating  satisfactory_rating  excellent_rating  \n",
       "0            1                    1                 0  \n",
       "1            1                    1                 1  \n",
       "2            1                    1                 0  \n",
       "3            1                    1                 0  \n",
       "4            1                    1                 0  "
      ]
     },
     "execution_count": 21,
     "metadata": {},
     "output_type": "execute_result"
    }
   ],
   "source": [
    "meta.head()"
   ]
  },
  {
   "cell_type": "code",
   "execution_count": 55,
   "metadata": {},
   "outputs": [
    {
     "data": {
      "text/plain": [
       "5121"
      ]
     },
     "execution_count": 55,
     "metadata": {},
     "output_type": "execute_result"
    }
   ],
   "source": [
    "meta.index[0]"
   ]
  },
  {
   "cell_type": "code",
   "execution_count": 22,
   "metadata": {},
   "outputs": [],
   "source": [
    "# meta.shape"
   ]
  },
  {
   "cell_type": "code",
   "execution_count": 23,
   "metadata": {},
   "outputs": [],
   "source": [
    "meta = (meta[['item_id', 'nprop', 'star', 'good_rating', 'satisfactory_rating', 'excellent_rating']]\n",
    "        .set_index('item_id'))"
   ]
  },
  {
   "cell_type": "markdown",
   "metadata": {},
   "source": [
    "### Create session features\n",
    "---"
   ]
  },
  {
   "cell_type": "code",
   "execution_count": 24,
   "metadata": {},
   "outputs": [
    {
     "name": "stdout",
     "output_type": "stream",
     "text": [
      "CPU times: user 4.09 ms, sys: 22 µs, total: 4.11 ms\n",
      "Wall time: 3.86 ms\n"
     ]
    }
   ],
   "source": [
    "%%time\n",
    "# find out if same customers have multiple sessions\n",
    "s = train.drop_duplicates(subset=['user_id', 'session_id'])\n",
    "s.session_id.duplicated().sum()\n",
    "# seems like not"
   ]
  },
  {
   "cell_type": "code",
   "execution_count": 25,
   "metadata": {},
   "outputs": [],
   "source": [
    "# train.current_filters[:1000].unique()"
   ]
  },
  {
   "cell_type": "code",
   "execution_count": 26,
   "metadata": {},
   "outputs": [
    {
     "name": "stdout",
     "output_type": "stream",
     "text": [
      "CPU times: user 12.3 ms, sys: 83 µs, total: 12.4 ms\n",
      "Wall time: 11.4 ms\n"
     ]
    }
   ],
   "source": [
    "%%time\n",
    "def get_filters(x):\n",
    "    if type(x) == str or type(x) == list:\n",
    "        return x.split('|')\n",
    "    else:\n",
    "        return np.nan\n",
    "def get_impressions(x):\n",
    "    if type(x) == str:\n",
    "        return x.split('|')\n",
    "    else:\n",
    "        return np.nan\n",
    "    \n",
    "    \n",
    "train['filters'] = train.current_filters.str.split('|')\n",
    "train['nfilters'] = train.filters.str.len()\n",
    "train['imps_list'] = train.impressions.str.split('|')\n",
    "nn_mask = train['imps_list'].notnull()\n",
    "train.loc[nn_mask, 'imps_list'] = train.loc[nn_mask, 'imps_list'].apply(lambda x: [int(i) for i in x])\n",
    "train['nimps'] = train.imps_list.str.len()"
   ]
  },
  {
   "cell_type": "code",
   "execution_count": 58,
   "metadata": {},
   "outputs": [
    {
     "data": {
      "text/plain": [
       "94860"
      ]
     },
     "execution_count": 58,
     "metadata": {},
     "output_type": "execute_result"
    }
   ],
   "source": [
    "train.imps_list.iloc[1][0]"
   ]
  },
  {
   "cell_type": "code",
   "execution_count": 27,
   "metadata": {},
   "outputs": [
    {
     "data": {
      "text/plain": [
       "count    810.000000\n",
       "mean      22.914815\n",
       "std        5.083618\n",
       "min        1.000000\n",
       "25%       25.000000\n",
       "50%       25.000000\n",
       "75%       25.000000\n",
       "max       25.000000\n",
       "Name: nimps, dtype: float64"
      ]
     },
     "execution_count": 27,
     "metadata": {},
     "output_type": "execute_result"
    }
   ],
   "source": [
    "train.nimps.describe()"
   ]
  },
  {
   "cell_type": "code",
   "execution_count": 28,
   "metadata": {},
   "outputs": [
    {
     "data": {
      "text/plain": [
       "0"
      ]
     },
     "execution_count": 28,
     "metadata": {},
     "output_type": "execute_result"
    }
   ],
   "source": [
    "# no switch of devices during session\n",
    "(train.groupby('session_id')['device'].nunique()!=1).sum()"
   ]
  },
  {
   "cell_type": "code",
   "execution_count": 29,
   "metadata": {},
   "outputs": [
    {
     "data": {
      "text/plain": [
       "44"
      ]
     },
     "execution_count": 29,
     "metadata": {},
     "output_type": "execute_result"
    }
   ],
   "source": [
    "# differnet city during session\n",
    "(train.groupby('session_id')['city'].nunique()!=1).sum()"
   ]
  },
  {
   "cell_type": "code",
   "execution_count": 30,
   "metadata": {},
   "outputs": [
    {
     "name": "stdout",
     "output_type": "stream",
     "text": [
      "CPU times: user 4 µs, sys: 1e+03 ns, total: 5 µs\n",
      "Wall time: 6.44 µs\n"
     ]
    }
   ],
   "source": [
    "%%time\n",
    "# some custom funcs used in agggregation\n",
    "def mean_dwell_time(x):\n",
    "    if len(x) == 1:\n",
    "        return 0\n",
    "    else:\n",
    "        return np.mean(np.diff(np.sort(x)))\n",
    "    \n",
    "def var_dwell_time(x):\n",
    "    if len(x) == 1:\n",
    "        return 0\n",
    "    else:\n",
    "        return np.var(np.diff(np.sort(x)))\n",
    "    \n",
    "def get_first(x):\n",
    "    return x.iloc[0]\n",
    "\n",
    "def get_last(x):\n",
    "    return x.iloc[-1]\n",
    "\n",
    "def n_clickouts(x):\n",
    "    return (x=='clickout item').sum()\n",
    "\n",
    "def click_rel_pos_avg(x):\n",
    "    return np.mean(np.argwhere((x=='clickout item')))/len(x)\n",
    "\n",
    "# define some aggs\n",
    "session_aggs = {'timestamp': [np.ptp, mean_dwell_time, var_dwell_time],\n",
    "                'step': ['max'],\n",
    "                'action_type': ['nunique', n_clickouts, click_rel_pos_avg],\n",
    "                'city': ['nunique', get_first],\n",
    "                'platform': [get_first],\n",
    "                'device': [get_first],\n",
    "                'nfilters': ['mean', 'max', 'min', get_last],\n",
    "                'nimps': ['max']\n",
    "               }"
   ]
  },
  {
   "cell_type": "code",
   "execution_count": 31,
   "metadata": {},
   "outputs": [],
   "source": [
    "session_grp = train.groupby('session_id')"
   ]
  },
  {
   "cell_type": "code",
   "execution_count": 32,
   "metadata": {},
   "outputs": [
    {
     "name": "stderr",
     "output_type": "stream",
     "text": [
      "/home/sam/anaconda3/lib/python3.6/site-packages/numpy/core/fromnumeric.py:2389: FutureWarning: Method .ptp is deprecated and will be removed in a future version. Use numpy.ptp instead.\n",
      "  return ptp(axis=axis, out=out, **kwargs)\n",
      "/home/sam/anaconda3/lib/python3.6/site-packages/numpy/core/fromnumeric.py:56: FutureWarning: Series.nonzero() is deprecated and will be removed in a future version.Use Series.to_numpy().nonzero() instead\n",
      "  return getattr(obj, method)(*args, **kwds)\n"
     ]
    },
    {
     "name": "stdout",
     "output_type": "stream",
     "text": [
      "CPU times: user 325 ms, sys: 4.19 ms, total: 329 ms\n",
      "Wall time: 307 ms\n"
     ]
    }
   ],
   "source": [
    "%%time\n",
    "session_fts = session_grp.agg(session_aggs)\n",
    "session_fts.columns = ['_'.join(col).strip() for col in session_fts.columns.values]"
   ]
  },
  {
   "cell_type": "code",
   "execution_count": 33,
   "metadata": {},
   "outputs": [
    {
     "data": {
      "text/html": [
       "<div>\n",
       "<style scoped>\n",
       "    .dataframe tbody tr th:only-of-type {\n",
       "        vertical-align: middle;\n",
       "    }\n",
       "\n",
       "    .dataframe tbody tr th {\n",
       "        vertical-align: top;\n",
       "    }\n",
       "\n",
       "    .dataframe thead th {\n",
       "        text-align: right;\n",
       "    }\n",
       "</style>\n",
       "<table border=\"1\" class=\"dataframe\">\n",
       "  <thead>\n",
       "    <tr style=\"text-align: right;\">\n",
       "      <th></th>\n",
       "      <th>timestamp_ptp</th>\n",
       "      <th>timestamp_mean_dwell_time</th>\n",
       "      <th>timestamp_var_dwell_time</th>\n",
       "      <th>step_max</th>\n",
       "      <th>action_type_nunique</th>\n",
       "      <th>action_type_n_clickouts</th>\n",
       "      <th>action_type_click_rel_pos_avg</th>\n",
       "      <th>city_nunique</th>\n",
       "      <th>city_get_first</th>\n",
       "      <th>platform_get_first</th>\n",
       "      <th>device_get_first</th>\n",
       "      <th>nfilters_mean</th>\n",
       "      <th>nfilters_max</th>\n",
       "      <th>nfilters_min</th>\n",
       "      <th>nfilters_get_last</th>\n",
       "      <th>nimps_max</th>\n",
       "    </tr>\n",
       "    <tr>\n",
       "      <th>session_id</th>\n",
       "      <th></th>\n",
       "      <th></th>\n",
       "      <th></th>\n",
       "      <th></th>\n",
       "      <th></th>\n",
       "      <th></th>\n",
       "      <th></th>\n",
       "      <th></th>\n",
       "      <th></th>\n",
       "      <th></th>\n",
       "      <th></th>\n",
       "      <th></th>\n",
       "      <th></th>\n",
       "      <th></th>\n",
       "      <th></th>\n",
       "      <th></th>\n",
       "    </tr>\n",
       "  </thead>\n",
       "  <tbody>\n",
       "    <tr>\n",
       "      <th>002eb79ce41a3</th>\n",
       "      <td>58</td>\n",
       "      <td>58.000000</td>\n",
       "      <td>0.000000</td>\n",
       "      <td>2</td>\n",
       "      <td>2</td>\n",
       "      <td>1</td>\n",
       "      <td>0.500000</td>\n",
       "      <td>1</td>\n",
       "      <td>Batu Ferringhi, Malaysia</td>\n",
       "      <td>MY</td>\n",
       "      <td>mobile</td>\n",
       "      <td>NaN</td>\n",
       "      <td>NaN</td>\n",
       "      <td>NaN</td>\n",
       "      <td>NaN</td>\n",
       "      <td>25.0</td>\n",
       "    </tr>\n",
       "    <tr>\n",
       "      <th>018d2fb48015e</th>\n",
       "      <td>94</td>\n",
       "      <td>23.500000</td>\n",
       "      <td>1236.750000</td>\n",
       "      <td>5</td>\n",
       "      <td>4</td>\n",
       "      <td>1</td>\n",
       "      <td>0.800000</td>\n",
       "      <td>1</td>\n",
       "      <td>Tokyo, Japan</td>\n",
       "      <td>JP</td>\n",
       "      <td>mobile</td>\n",
       "      <td>1.0</td>\n",
       "      <td>1.0</td>\n",
       "      <td>1.0</td>\n",
       "      <td>NaN</td>\n",
       "      <td>25.0</td>\n",
       "    </tr>\n",
       "    <tr>\n",
       "      <th>028c5e1046a35</th>\n",
       "      <td>19</td>\n",
       "      <td>19.000000</td>\n",
       "      <td>0.000000</td>\n",
       "      <td>2</td>\n",
       "      <td>1</td>\n",
       "      <td>2</td>\n",
       "      <td>0.250000</td>\n",
       "      <td>1</td>\n",
       "      <td>Ito, Japan</td>\n",
       "      <td>JP</td>\n",
       "      <td>mobile</td>\n",
       "      <td>NaN</td>\n",
       "      <td>NaN</td>\n",
       "      <td>NaN</td>\n",
       "      <td>NaN</td>\n",
       "      <td>25.0</td>\n",
       "    </tr>\n",
       "    <tr>\n",
       "      <th>03db51d40d211</th>\n",
       "      <td>305</td>\n",
       "      <td>23.461538</td>\n",
       "      <td>3120.710059</td>\n",
       "      <td>14</td>\n",
       "      <td>5</td>\n",
       "      <td>1</td>\n",
       "      <td>0.928571</td>\n",
       "      <td>1</td>\n",
       "      <td>Hermosillo, Mexico</td>\n",
       "      <td>MX</td>\n",
       "      <td>mobile</td>\n",
       "      <td>NaN</td>\n",
       "      <td>NaN</td>\n",
       "      <td>NaN</td>\n",
       "      <td>NaN</td>\n",
       "      <td>18.0</td>\n",
       "    </tr>\n",
       "    <tr>\n",
       "      <th>044b409e8d102</th>\n",
       "      <td>18</td>\n",
       "      <td>9.000000</td>\n",
       "      <td>81.000000</td>\n",
       "      <td>3</td>\n",
       "      <td>2</td>\n",
       "      <td>1</td>\n",
       "      <td>0.666667</td>\n",
       "      <td>1</td>\n",
       "      <td>Coolangatta, Australia</td>\n",
       "      <td>AU</td>\n",
       "      <td>tablet</td>\n",
       "      <td>NaN</td>\n",
       "      <td>NaN</td>\n",
       "      <td>NaN</td>\n",
       "      <td>NaN</td>\n",
       "      <td>25.0</td>\n",
       "    </tr>\n",
       "  </tbody>\n",
       "</table>\n",
       "</div>"
      ],
      "text/plain": [
       "               timestamp_ptp  timestamp_mean_dwell_time  \\\n",
       "session_id                                                \n",
       "002eb79ce41a3             58                  58.000000   \n",
       "018d2fb48015e             94                  23.500000   \n",
       "028c5e1046a35             19                  19.000000   \n",
       "03db51d40d211            305                  23.461538   \n",
       "044b409e8d102             18                   9.000000   \n",
       "\n",
       "               timestamp_var_dwell_time  step_max  action_type_nunique  \\\n",
       "session_id                                                               \n",
       "002eb79ce41a3                  0.000000         2                    2   \n",
       "018d2fb48015e               1236.750000         5                    4   \n",
       "028c5e1046a35                  0.000000         2                    1   \n",
       "03db51d40d211               3120.710059        14                    5   \n",
       "044b409e8d102                 81.000000         3                    2   \n",
       "\n",
       "               action_type_n_clickouts  action_type_click_rel_pos_avg  \\\n",
       "session_id                                                              \n",
       "002eb79ce41a3                        1                       0.500000   \n",
       "018d2fb48015e                        1                       0.800000   \n",
       "028c5e1046a35                        2                       0.250000   \n",
       "03db51d40d211                        1                       0.928571   \n",
       "044b409e8d102                        1                       0.666667   \n",
       "\n",
       "               city_nunique            city_get_first platform_get_first  \\\n",
       "session_id                                                                 \n",
       "002eb79ce41a3             1  Batu Ferringhi, Malaysia                 MY   \n",
       "018d2fb48015e             1              Tokyo, Japan                 JP   \n",
       "028c5e1046a35             1                Ito, Japan                 JP   \n",
       "03db51d40d211             1        Hermosillo, Mexico                 MX   \n",
       "044b409e8d102             1    Coolangatta, Australia                 AU   \n",
       "\n",
       "              device_get_first  nfilters_mean  nfilters_max  nfilters_min  \\\n",
       "session_id                                                                  \n",
       "002eb79ce41a3           mobile            NaN           NaN           NaN   \n",
       "018d2fb48015e           mobile            1.0           1.0           1.0   \n",
       "028c5e1046a35           mobile            NaN           NaN           NaN   \n",
       "03db51d40d211           mobile            NaN           NaN           NaN   \n",
       "044b409e8d102           tablet            NaN           NaN           NaN   \n",
       "\n",
       "               nfilters_get_last  nimps_max  \n",
       "session_id                                   \n",
       "002eb79ce41a3                NaN       25.0  \n",
       "018d2fb48015e                NaN       25.0  \n",
       "028c5e1046a35                NaN       25.0  \n",
       "03db51d40d211                NaN       18.0  \n",
       "044b409e8d102                NaN       25.0  "
      ]
     },
     "execution_count": 33,
     "metadata": {},
     "output_type": "execute_result"
    }
   ],
   "source": [
    "# session_fts.columns.values\n",
    "session_fts.head()"
   ]
  },
  {
   "cell_type": "code",
   "execution_count": 34,
   "metadata": {},
   "outputs": [],
   "source": [
    "# train[train.session_id=='62991f7c78f27']"
   ]
  },
  {
   "cell_type": "markdown",
   "metadata": {},
   "source": [
    "### Create clickout features\n",
    "---"
   ]
  },
  {
   "cell_type": "code",
   "execution_count": 35,
   "metadata": {},
   "outputs": [],
   "source": [
    "import time\n",
    "\n",
    "class Timer:    \n",
    "    def __init__(self, task, profile):\n",
    "        self.profile = profile\n",
    "        self.task = task\n",
    "        if self.task not in self.profile.keys():\n",
    "            self.profile[self.task] = 0\n",
    "        \n",
    "    def __enter__(self):\n",
    "        self.start = time.process_time()\n",
    "        return self\n",
    "\n",
    "    def __exit__(self, *args):\n",
    "        self.end = time.process_time()\n",
    "        self.interval = self.end - self.start\n",
    "        self.profile[self.task] += np.round(self.interval, decimals=5)"
   ]
  },
  {
   "cell_type": "code",
   "execution_count": 36,
   "metadata": {},
   "outputs": [],
   "source": [
    "session_grp = train.groupby('session_id')"
   ]
  },
  {
   "cell_type": "code",
   "execution_count": 37,
   "metadata": {},
   "outputs": [],
   "source": [
    "# train[train.session_id=='62991f7c78f27']"
   ]
  },
  {
   "cell_type": "code",
   "execution_count": 38,
   "metadata": {},
   "outputs": [],
   "source": [
    "def get_profile(profile):\n",
    "    profile_df = pd.Series(profile).rename_axis(index='task').reset_index(name='sec')\n",
    "    profile_df['per'] = (profile_df['sec']/profile_df['sec'].sum()*100).round(2)\n",
    "    return profile_df"
   ]
  },
  {
   "cell_type": "code",
   "execution_count": 52,
   "metadata": {
    "scrolled": true
   },
   "outputs": [
    {
     "name": "stdout",
     "output_type": "stream",
     "text": [
      "CPU times: user 2.82 s, sys: 19.9 ms, total: 2.84 s\n",
      "Wall time: 2.84 s\n"
     ]
    }
   ],
   "source": [
    "%%time\n",
    "# 1) has the items appeared in previous impressions, and clickout\n",
    "# session_grp\n",
    "profile = {}\n",
    "def compute_clicks(grp):\n",
    "    with Timer('select_rows', profile) as t:\n",
    "        last_row = grp.iloc[-1]\n",
    "        above = grp.iloc[:-1]\n",
    "    with Timer('exclude_nans', profile) as t:\n",
    "        # get previous appeard impressions\n",
    "        prev = above[above['impressions'].notnull()]\n",
    "    with Timer('get_imp_list', profile) as t:\n",
    "        prev_imps = prev['imps_list']\n",
    "        unique_imps = [j for i in prev_imps for j in i]\n",
    "    \n",
    "    with Timer('get_price', profile) as t:\n",
    "        imp_l = last_row['imps_list']\n",
    "        prices = last_row['prices'].split('|')\n",
    "        prices = [int(p) for p in prices]\n",
    "        # whether the impression appeared before\n",
    "        appeared = [int(i in unique_imps) for i in imp_l]\n",
    "        # the location of the impression\n",
    "        locs = list(range(len(imp_l)))\n",
    "    \n",
    "    with Timer('create_df', profile) as t:\n",
    "    # build the df\n",
    "        result = pd.DataFrame({'appeared': appeared, 'location': locs, 'price': prices}, index=imp_l)\n",
    "        result.index.name = 'item_id'\n",
    "    with Timer('rel_price_rank', profile) as t:\n",
    "        price_ind = np.argsort(result['price'].values) + 1\n",
    "        result['rel_price_rank'] = price_ind/len(imp_l)\n",
    "#         result['rel_price_rank'] = result[['location', 'price']].sort_values(by='price')['location']/len(imp_l)\n",
    "    \n",
    "    with Timer('compute_mean_median', profile) as t:\n",
    "        result['price_mean'] = np.mean(result['price'])\n",
    "        result['price_median'] = np.median(result['price'])\n",
    "\n",
    "    with Timer('compute_diff', profile) as t: \n",
    "        result_price = result['price'].values\n",
    "        result_price_mean = result['price_mean'].values \n",
    "        result_price_median = result['price_median'].values\n",
    "        \n",
    "        result['diff_mean'] = result_price - result_price_mean\n",
    "        result['diff_median'] = result_price - result_price_median\n",
    "        result['diff_mean_rel'] = (result_price - result_price_mean)/result_price\n",
    "        result['diff_median_rel'] = (result_price - result_price_median)/result_price\n",
    "    \n",
    "    with Timer('join', profile) as t:\n",
    "        # fetch the meta data\n",
    "        result = result.join(meta, on='item_id')\n",
    "    with Timer('create_mean_meta1', profile) as t:\n",
    "        result['star_mean'] = np.mean(result['star'].values)\n",
    "    with Timer('create_mean_meta2', profile) as t:\n",
    "        result['gr_mean'] = np.mean(result['good_rating'].values)\n",
    "    with Timer('create_mean_meta3', profile) as t:\n",
    "        result['sr_mean'] = np.mean(result['satisfactory_rating'].values)\n",
    "    with Timer('create_mean_meta4', profile) as t:\n",
    "        result['er_mean'] = np.mean(result['excellent_rating'].values)\n",
    "    with Timer('create_mean_meta5', profile) as t:\n",
    "        result.reset_index(inplace=True)\n",
    "        \n",
    "    with Timer('create target', profile) as t:\n",
    "        # get target\n",
    "        ref = int(last_row['reference'])\n",
    "        result['target'] = (result['item_id'].values == ref).astype(int)\n",
    "    return result\n",
    "\n",
    "n_runs = 5000\n",
    "n = 0\n",
    "for k,v in session_grp:\n",
    "    a = compute_clicks(v)\n",
    "    n += 1\n",
    "    if n == n_runs:\n",
    "        break\n",
    "\n",
    "# 2) dwell time for each clickout\n",
    "# 3) the rating and star and nproperty -> mean and median for \n",
    "#     the other impressions in list (or the quantile of these and prices)\n",
    "# 4) location and relative location in the impressions list"
   ]
  },
  {
   "cell_type": "code",
   "execution_count": 53,
   "metadata": {},
   "outputs": [
    {
     "data": {
      "text/html": [
       "<div>\n",
       "<style scoped>\n",
       "    .dataframe tbody tr th:only-of-type {\n",
       "        vertical-align: middle;\n",
       "    }\n",
       "\n",
       "    .dataframe tbody tr th {\n",
       "        vertical-align: top;\n",
       "    }\n",
       "\n",
       "    .dataframe thead th {\n",
       "        text-align: right;\n",
       "    }\n",
       "</style>\n",
       "<table border=\"1\" class=\"dataframe\">\n",
       "  <thead>\n",
       "    <tr style=\"text-align: right;\">\n",
       "      <th></th>\n",
       "      <th>task</th>\n",
       "      <th>sec</th>\n",
       "      <th>per</th>\n",
       "    </tr>\n",
       "  </thead>\n",
       "  <tbody>\n",
       "    <tr>\n",
       "      <th>0</th>\n",
       "      <td>select_rows</td>\n",
       "      <td>0.13890</td>\n",
       "      <td>5.27</td>\n",
       "    </tr>\n",
       "    <tr>\n",
       "      <th>1</th>\n",
       "      <td>exclude_nans</td>\n",
       "      <td>0.24707</td>\n",
       "      <td>9.37</td>\n",
       "    </tr>\n",
       "    <tr>\n",
       "      <th>2</th>\n",
       "      <td>get_imp_list</td>\n",
       "      <td>0.02312</td>\n",
       "      <td>0.88</td>\n",
       "    </tr>\n",
       "    <tr>\n",
       "      <th>3</th>\n",
       "      <td>get_price</td>\n",
       "      <td>0.01837</td>\n",
       "      <td>0.70</td>\n",
       "    </tr>\n",
       "    <tr>\n",
       "      <th>4</th>\n",
       "      <td>create_df</td>\n",
       "      <td>0.20587</td>\n",
       "      <td>7.81</td>\n",
       "    </tr>\n",
       "    <tr>\n",
       "      <th>5</th>\n",
       "      <td>rel_price_rank</td>\n",
       "      <td>0.14684</td>\n",
       "      <td>5.57</td>\n",
       "    </tr>\n",
       "    <tr>\n",
       "      <th>6</th>\n",
       "      <td>compute_mean_median</td>\n",
       "      <td>0.33842</td>\n",
       "      <td>12.84</td>\n",
       "    </tr>\n",
       "    <tr>\n",
       "      <th>7</th>\n",
       "      <td>compute_diff</td>\n",
       "      <td>0.03954</td>\n",
       "      <td>1.50</td>\n",
       "    </tr>\n",
       "    <tr>\n",
       "      <th>8</th>\n",
       "      <td>join</td>\n",
       "      <td>0.59667</td>\n",
       "      <td>22.63</td>\n",
       "    </tr>\n",
       "    <tr>\n",
       "      <th>9</th>\n",
       "      <td>create_mean_meta1</td>\n",
       "      <td>0.14876</td>\n",
       "      <td>5.64</td>\n",
       "    </tr>\n",
       "    <tr>\n",
       "      <th>10</th>\n",
       "      <td>create_mean_meta2</td>\n",
       "      <td>0.14870</td>\n",
       "      <td>5.64</td>\n",
       "    </tr>\n",
       "    <tr>\n",
       "      <th>11</th>\n",
       "      <td>create_mean_meta3</td>\n",
       "      <td>0.14838</td>\n",
       "      <td>5.63</td>\n",
       "    </tr>\n",
       "    <tr>\n",
       "      <th>12</th>\n",
       "      <td>create_mean_meta4</td>\n",
       "      <td>0.14834</td>\n",
       "      <td>5.63</td>\n",
       "    </tr>\n",
       "    <tr>\n",
       "      <th>13</th>\n",
       "      <td>create_mean_meta5</td>\n",
       "      <td>0.13872</td>\n",
       "      <td>5.26</td>\n",
       "    </tr>\n",
       "    <tr>\n",
       "      <th>14</th>\n",
       "      <td>create target</td>\n",
       "      <td>0.14896</td>\n",
       "      <td>5.65</td>\n",
       "    </tr>\n",
       "  </tbody>\n",
       "</table>\n",
       "</div>"
      ],
      "text/plain": [
       "                   task      sec    per\n",
       "0           select_rows  0.13890   5.27\n",
       "1          exclude_nans  0.24707   9.37\n",
       "2          get_imp_list  0.02312   0.88\n",
       "3             get_price  0.01837   0.70\n",
       "4             create_df  0.20587   7.81\n",
       "5        rel_price_rank  0.14684   5.57\n",
       "6   compute_mean_median  0.33842  12.84\n",
       "7          compute_diff  0.03954   1.50\n",
       "8                  join  0.59667  22.63\n",
       "9     create_mean_meta1  0.14876   5.64\n",
       "10    create_mean_meta2  0.14870   5.64\n",
       "11    create_mean_meta3  0.14838   5.63\n",
       "12    create_mean_meta4  0.14834   5.63\n",
       "13    create_mean_meta5  0.13872   5.26\n",
       "14        create target  0.14896   5.65"
      ]
     },
     "execution_count": 53,
     "metadata": {},
     "output_type": "execute_result"
    }
   ],
   "source": [
    "get_profile(profile)"
   ]
  },
  {
   "cell_type": "code",
   "execution_count": 41,
   "metadata": {},
   "outputs": [
    {
     "data": {
      "text/html": [
       "<div>\n",
       "<style scoped>\n",
       "    .dataframe tbody tr th:only-of-type {\n",
       "        vertical-align: middle;\n",
       "    }\n",
       "\n",
       "    .dataframe tbody tr th {\n",
       "        vertical-align: top;\n",
       "    }\n",
       "\n",
       "    .dataframe thead th {\n",
       "        text-align: right;\n",
       "    }\n",
       "</style>\n",
       "<table border=\"1\" class=\"dataframe\">\n",
       "  <thead>\n",
       "    <tr style=\"text-align: right;\">\n",
       "      <th></th>\n",
       "      <th>task</th>\n",
       "      <th>sec</th>\n",
       "      <th>per</th>\n",
       "    </tr>\n",
       "  </thead>\n",
       "  <tbody>\n",
       "    <tr>\n",
       "      <th>0</th>\n",
       "      <td>select_rows</td>\n",
       "      <td>0.13722</td>\n",
       "      <td>4.43</td>\n",
       "    </tr>\n",
       "    <tr>\n",
       "      <th>1</th>\n",
       "      <td>exclude_nans</td>\n",
       "      <td>0.24328</td>\n",
       "      <td>7.85</td>\n",
       "    </tr>\n",
       "    <tr>\n",
       "      <th>2</th>\n",
       "      <td>get_imp_list</td>\n",
       "      <td>0.02204</td>\n",
       "      <td>0.71</td>\n",
       "    </tr>\n",
       "    <tr>\n",
       "      <th>3</th>\n",
       "      <td>get_price</td>\n",
       "      <td>0.01800</td>\n",
       "      <td>0.58</td>\n",
       "    </tr>\n",
       "    <tr>\n",
       "      <th>4</th>\n",
       "      <td>create_df</td>\n",
       "      <td>0.20296</td>\n",
       "      <td>6.55</td>\n",
       "    </tr>\n",
       "    <tr>\n",
       "      <th>5</th>\n",
       "      <td>rel_price_rank</td>\n",
       "      <td>0.14513</td>\n",
       "      <td>4.68</td>\n",
       "    </tr>\n",
       "    <tr>\n",
       "      <th>6</th>\n",
       "      <td>compute_mean_median</td>\n",
       "      <td>0.33419</td>\n",
       "      <td>10.79</td>\n",
       "    </tr>\n",
       "    <tr>\n",
       "      <th>7</th>\n",
       "      <td>compute_diff</td>\n",
       "      <td>0.51503</td>\n",
       "      <td>16.63</td>\n",
       "    </tr>\n",
       "    <tr>\n",
       "      <th>8</th>\n",
       "      <td>join</td>\n",
       "      <td>0.60704</td>\n",
       "      <td>19.60</td>\n",
       "    </tr>\n",
       "    <tr>\n",
       "      <th>9</th>\n",
       "      <td>create_mean_meta1</td>\n",
       "      <td>0.14558</td>\n",
       "      <td>4.70</td>\n",
       "    </tr>\n",
       "    <tr>\n",
       "      <th>10</th>\n",
       "      <td>create_mean_meta2</td>\n",
       "      <td>0.14795</td>\n",
       "      <td>4.78</td>\n",
       "    </tr>\n",
       "    <tr>\n",
       "      <th>11</th>\n",
       "      <td>create_mean_meta3</td>\n",
       "      <td>0.14596</td>\n",
       "      <td>4.71</td>\n",
       "    </tr>\n",
       "    <tr>\n",
       "      <th>12</th>\n",
       "      <td>create_mean_meta4</td>\n",
       "      <td>0.14594</td>\n",
       "      <td>4.71</td>\n",
       "    </tr>\n",
       "    <tr>\n",
       "      <th>13</th>\n",
       "      <td>create_mean_meta5</td>\n",
       "      <td>0.13955</td>\n",
       "      <td>4.50</td>\n",
       "    </tr>\n",
       "    <tr>\n",
       "      <th>14</th>\n",
       "      <td>create target</td>\n",
       "      <td>0.14798</td>\n",
       "      <td>4.78</td>\n",
       "    </tr>\n",
       "  </tbody>\n",
       "</table>\n",
       "</div>"
      ],
      "text/plain": [
       "                   task      sec    per\n",
       "0           select_rows  0.13722   4.43\n",
       "1          exclude_nans  0.24328   7.85\n",
       "2          get_imp_list  0.02204   0.71\n",
       "3             get_price  0.01800   0.58\n",
       "4             create_df  0.20296   6.55\n",
       "5        rel_price_rank  0.14513   4.68\n",
       "6   compute_mean_median  0.33419  10.79\n",
       "7          compute_diff  0.51503  16.63\n",
       "8                  join  0.60704  19.60\n",
       "9     create_mean_meta1  0.14558   4.70\n",
       "10    create_mean_meta2  0.14795   4.78\n",
       "11    create_mean_meta3  0.14596   4.71\n",
       "12    create_mean_meta4  0.14594   4.71\n",
       "13    create_mean_meta5  0.13955   4.50\n",
       "14        create target  0.14798   4.78"
      ]
     },
     "execution_count": 41,
     "metadata": {},
     "output_type": "execute_result"
    }
   ],
   "source": [
    "get_profile(profile)"
   ]
  },
  {
   "cell_type": "code",
   "execution_count": 42,
   "metadata": {},
   "outputs": [],
   "source": [
    "df = get_profile(profile)"
   ]
  },
  {
   "cell_type": "code",
   "execution_count": 43,
   "metadata": {},
   "outputs": [
    {
     "name": "stdout",
     "output_type": "stream",
     "text": [
      "28.8 µs ± 1.12 µs per loop (mean ± std. dev. of 7 runs, 10000 loops each)\n"
     ]
    }
   ],
   "source": [
    "%timeit df['per'].mean()"
   ]
  },
  {
   "cell_type": "code",
   "execution_count": 44,
   "metadata": {},
   "outputs": [
    {
     "name": "stdout",
     "output_type": "stream",
     "text": [
      "6.46 µs ± 15.5 ns per loop (mean ± std. dev. of 7 runs, 100000 loops each)\n"
     ]
    }
   ],
   "source": [
    "%timeit np.mean(df['per'].values)"
   ]
  },
  {
   "cell_type": "code",
   "execution_count": 45,
   "metadata": {},
   "outputs": [
    {
     "name": "stdout",
     "output_type": "stream",
     "text": [
      "1.7 µs ± 20.7 ns per loop (mean ± std. dev. of 7 runs, 1000000 loops each)\n"
     ]
    }
   ],
   "source": [
    "%timeit df['per'].values"
   ]
  },
  {
   "cell_type": "code",
   "execution_count": 46,
   "metadata": {},
   "outputs": [
    {
     "name": "stdout",
     "output_type": "stream",
     "text": [
      "Pretty printing has been turned OFF\n"
     ]
    }
   ],
   "source": [
    "pprint(profile)"
   ]
  },
  {
   "cell_type": "code",
   "execution_count": 47,
   "metadata": {},
   "outputs": [
    {
     "name": "stdout",
     "output_type": "stream",
     "text": [
      "CPU times: user 3.6 s, sys: 7.97 ms, total: 3.61 s\n",
      "Wall time: 3.6 s\n"
     ]
    }
   ],
   "source": [
    "%%time\n",
    "dd = session_grp.apply(compute_clicks)"
   ]
  },
  {
   "cell_type": "code",
   "execution_count": 48,
   "metadata": {},
   "outputs": [
    {
     "name": "stdout",
     "output_type": "stream",
     "text": [
      "CPU times: user 0 ns, sys: 3.36 ms, total: 3.36 ms\n",
      "Wall time: 3.16 ms\n"
     ]
    }
   ],
   "source": [
    "%%time\n",
    "# join on session features\n",
    "dd = dd.reset_index(level=0).set_index('session_id')"
   ]
  },
  {
   "cell_type": "code",
   "execution_count": 49,
   "metadata": {},
   "outputs": [
    {
     "name": "stdout",
     "output_type": "stream",
     "text": [
      "CPU times: user 17 ms, sys: 3.95 ms, total: 20.9 ms\n",
      "Wall time: 20.2 ms\n"
     ]
    }
   ],
   "source": [
    "%%time\n",
    "final = dd.join(session_fts)"
   ]
  },
  {
   "cell_type": "markdown",
   "metadata": {},
   "source": [
    "### Questions:\n",
    "\n",
    "1) timestamp to utc time, timezones? (this matters to e.g. hours of the timestamp)\n",
    "\n",
    "2) does platform change within a session?"
   ]
  },
  {
   "cell_type": "markdown",
   "metadata": {},
   "source": [
    "to do:\n",
    "\n",
    "1) check the time range of train vs test"
   ]
  },
  {
   "cell_type": "code",
   "execution_count": null,
   "metadata": {},
   "outputs": [],
   "source": []
  }
 ],
 "metadata": {
  "kernelspec": {
   "display_name": "Python 3",
   "language": "python",
   "name": "python3"
  },
  "language_info": {
   "codemirror_mode": {
    "name": "ipython",
    "version": 3
   },
   "file_extension": ".py",
   "mimetype": "text/x-python",
   "name": "python",
   "nbconvert_exporter": "python",
   "pygments_lexer": "ipython3",
   "version": "3.6.5"
  }
 },
 "nbformat": 4,
 "nbformat_minor": 2
}
