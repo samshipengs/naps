{
 "cells": [
  {
   "cell_type": "code",
   "execution_count": 2,
   "metadata": {},
   "outputs": [],
   "source": [
    "from utils import load_data, check_gpu, check_dir\n",
    "from clean_session import preprocess_sessions\n",
    "import pandas as pd\n",
    "import numpy as np\n",
    "from tqdm import tqdm\n",
    "import gc\n",
    "from functools import partial\n",
    "import matplotlib.pyplot as plt\n",
    "from clean_session import preprocess_sessions\n",
    "from create_model_inputs import prepare_data, compute_session_fts, create_model_inputs\n",
    "import datetime\n",
    "%matplotlib inline\n",
    "%load_ext autoreload\n",
    "%autoreload 2\n",
    "def fprint(df, name):\n",
    "    print(f'{name} shape: ({df.shape[0]:,}, {df.shape[1]})')\n",
    "import pprint\n",
    "pp = pprint.PrettyPrinter(indent=1)"
   ]
  },
  {
   "cell_type": "code",
   "execution_count": 4,
   "metadata": {
    "scrolled": true
   },
   "outputs": [
    {
     "name": "stderr",
     "output_type": "stream",
     "text": [
      "[05-25 12:00:56 - create_model_inputs-48 - prepare_data - INFO] Load from existing ./nn_cache/train_1000000_no_test.snappy\n",
      "[05-25 12:01:33 - create_model_inputs-158 - compute_session_fts - INFO] Session features generated: ['timestamp_session_duration', 'timestamp_dwell_time_prior_clickout', 'current_filters_last_filters', 'session_id_size']\n"
     ]
    }
   ],
   "source": [
    "nrows = 1000000\n",
    "train = prepare_data('train', nrows=nrows, recompute=False)\n",
    "df = compute_session_fts(train, 'train')"
   ]
  },
  {
   "cell_type": "code",
   "execution_count": 6,
   "metadata": {},
   "outputs": [],
   "source": [
    "df = df.groupby('session_id').last().reset_index()\n",
    "# df['session_id_size'] = np.log(df['session_id_size'])\n",
    "# df['cfs'] = df['current_filters_last_filters'].str.lower().str.split('|')\n",
    "\n",
    "# df['prices'] = df['prices'].str.split('|')\n",
    "# df['prices'] = df['prices'].apply(lambda x: [int(p) for p in x])\n",
    "\n",
    "# df['time_steps'] = df['prices'].str.len()\n",
    "# padding_mask = df['time_steps'] < 25\n",
    "# df.loc[padding_mask, 'prices'] = df.loc[padding_mask, 'prices'].apply(lambda x: np.pad(x, (0, 25-len(x)),\n",
    "#                                                                                        mode='constant'))\n",
    "df['imps'] = df['impressions'].str.split('|')\n",
    "df['imps'] = df['imps'].apply(lambda x: [int(i) for i in x])\n",
    "# df.loc[padding_mask, 'impressions'] = (df.loc[padding_mask, 'impressions']\n",
    "#                                          .apply(lambda x: np.pad(x, (0, 25-len(x)),mode='constant')))\n",
    "df['reference'] = df['reference'].astype(int)\n",
    "# filter out nan rows with reference_id not in impressions list, since if the true target in test\n",
    "# is not in the impression list then it would not get evaluated\n",
    "def assign_target(row):\n",
    "    ref = row['reference']\n",
    "    imp = list(row['imps'])\n",
    "    if ref in imp:\n",
    "        return imp.index(ref)\n",
    "    else:\n",
    "        return np.nan\n",
    "\n",
    "df['target'] = df.apply(assign_target, axis=1)\n",
    "# drop the ones whose reference is not in the impression list\n",
    "df = df[df['target'].notna()].reset_index(drop=True)\n",
    "df['target'] = df['target'].astype(int)"
   ]
  },
  {
   "cell_type": "markdown",
   "metadata": {},
   "source": [
    "### comapre session with size 1 and the rest"
   ]
  },
  {
   "cell_type": "code",
   "execution_count": 7,
   "metadata": {},
   "outputs": [],
   "source": [
    "sids = df['session_id'].unique()"
   ]
  },
  {
   "cell_type": "markdown",
   "metadata": {},
   "source": [
    "---\n",
    "### ones"
   ]
  },
  {
   "cell_type": "code",
   "execution_count": 8,
   "metadata": {},
   "outputs": [],
   "source": [
    "display_cols = ['session_id', 'step', 'action_type', 'current_filters', 'reference', 'timestamp',\n",
    "                'impressions', 'prices', 'target', 'session_id_size']\n",
    "raw_display_cols = [c for c in train.columns if c in display_cols]"
   ]
  },
  {
   "cell_type": "code",
   "execution_count": 9,
   "metadata": {},
   "outputs": [],
   "source": [
    "# pd.options.display.max_colwidth = 100"
   ]
  },
  {
   "cell_type": "code",
   "execution_count": 11,
   "metadata": {},
   "outputs": [
    {
     "name": "stdout",
     "output_type": "stream",
     "text": [
      "8e91e2211be60\n"
     ]
    },
    {
     "data": {
      "text/html": [
       "<div>\n",
       "<style scoped>\n",
       "    .dataframe tbody tr th:only-of-type {\n",
       "        vertical-align: middle;\n",
       "    }\n",
       "\n",
       "    .dataframe tbody tr th {\n",
       "        vertical-align: top;\n",
       "    }\n",
       "\n",
       "    .dataframe thead th {\n",
       "        text-align: right;\n",
       "    }\n",
       "</style>\n",
       "<table border=\"1\" class=\"dataframe\">\n",
       "  <thead>\n",
       "    <tr style=\"text-align: right;\">\n",
       "      <th></th>\n",
       "      <th>session_id</th>\n",
       "      <th>step</th>\n",
       "      <th>action_type</th>\n",
       "      <th>current_filters</th>\n",
       "      <th>reference</th>\n",
       "      <th>timestamp</th>\n",
       "      <th>impressions</th>\n",
       "      <th>prices</th>\n",
       "      <th>target</th>\n",
       "      <th>session_id_size</th>\n",
       "    </tr>\n",
       "  </thead>\n",
       "  <tbody>\n",
       "    <tr>\n",
       "      <th>0</th>\n",
       "      <td>8e91e2211be60</td>\n",
       "      <td>1</td>\n",
       "      <td>clickout item</td>\n",
       "      <td>None</td>\n",
       "      <td>834876</td>\n",
       "      <td>2018-11-05 23:30:10</td>\n",
       "      <td>834876|8796|1811137|67445|7554016|8815|8750|87...</td>\n",
       "      <td>210|145|166|283|199|192|259|259|548|226|334|29...</td>\n",
       "      <td>0</td>\n",
       "      <td>1</td>\n",
       "    </tr>\n",
       "  </tbody>\n",
       "</table>\n",
       "</div>"
      ],
      "text/plain": [
       "      session_id  step    action_type current_filters  reference  \\\n",
       "0  8e91e2211be60     1  clickout item            None     834876   \n",
       "\n",
       "            timestamp                                        impressions  \\\n",
       "0 2018-11-05 23:30:10  834876|8796|1811137|67445|7554016|8815|8750|87...   \n",
       "\n",
       "                                              prices  target  session_id_size  \n",
       "0  210|145|166|283|199|192|259|259|548|226|334|29...       0                1  "
      ]
     },
     "execution_count": 11,
     "metadata": {},
     "output_type": "execute_result"
    }
   ],
   "source": [
    "rid = np.random.choice(sids, 1)[0]\n",
    "print(rid)\n",
    "df[df.session_id==rid][display_cols].reset_index(drop=True)"
   ]
  },
  {
   "cell_type": "code",
   "execution_count": 12,
   "metadata": {},
   "outputs": [
    {
     "name": "stdout",
     "output_type": "stream",
     "text": [
      "{'action_type': ['clickout item'],\n",
      " 'current_filters': [None],\n",
      " 'impressions': ['834876|8796|1811137|67445|7554016|8815|8750|8758|8766|8788|8837|61684|149598|7304664|8985292|1436082|8724|8809|1329920|4916380|2891353|8744|5724812|6066134|8812'],\n",
      " 'prices': ['210|145|166|283|199|192|259|259|548|226|334|295|138|245|182|248|228|259|224|259|259|210|170|133|259'],\n",
      " 'reference': [834876],\n",
      " 'session_id': ['8e91e2211be60'],\n",
      " 'session_id_size': [1],\n",
      " 'step': [1],\n",
      " 'target': [0],\n",
      " 'timestamp': [Timestamp('2018-11-05 23:30:10')]}\n"
     ]
    }
   ],
   "source": [
    "pp.pprint(df[df.session_id==rid][display_cols].reset_index(drop=True).to_dict(orient='list'))"
   ]
  },
  {
   "cell_type": "code",
   "execution_count": 13,
   "metadata": {},
   "outputs": [
    {
     "data": {
      "text/html": [
       "<div>\n",
       "<style scoped>\n",
       "    .dataframe tbody tr th:only-of-type {\n",
       "        vertical-align: middle;\n",
       "    }\n",
       "\n",
       "    .dataframe tbody tr th {\n",
       "        vertical-align: top;\n",
       "    }\n",
       "\n",
       "    .dataframe thead th {\n",
       "        text-align: right;\n",
       "    }\n",
       "</style>\n",
       "<table border=\"1\" class=\"dataframe\">\n",
       "  <thead>\n",
       "    <tr style=\"text-align: right;\">\n",
       "      <th></th>\n",
       "      <th>session_id</th>\n",
       "      <th>timestamp</th>\n",
       "      <th>step</th>\n",
       "      <th>action_type</th>\n",
       "      <th>current_filters</th>\n",
       "      <th>reference</th>\n",
       "      <th>impressions</th>\n",
       "      <th>prices</th>\n",
       "    </tr>\n",
       "  </thead>\n",
       "  <tbody>\n",
       "    <tr>\n",
       "      <th>0</th>\n",
       "      <td>8e91e2211be60</td>\n",
       "      <td>2018-11-05 23:30:10</td>\n",
       "      <td>1</td>\n",
       "      <td>clickout item</td>\n",
       "      <td>None</td>\n",
       "      <td>834876</td>\n",
       "      <td>834876|8796|1811137|67445|7554016|8815|8750|87...</td>\n",
       "      <td>210|145|166|283|199|192|259|259|548|226|334|29...</td>\n",
       "    </tr>\n",
       "  </tbody>\n",
       "</table>\n",
       "</div>"
      ],
      "text/plain": [
       "      session_id           timestamp  step    action_type current_filters  \\\n",
       "0  8e91e2211be60 2018-11-05 23:30:10     1  clickout item            None   \n",
       "\n",
       "  reference                                        impressions  \\\n",
       "0    834876  834876|8796|1811137|67445|7554016|8815|8750|87...   \n",
       "\n",
       "                                              prices  \n",
       "0  210|145|166|283|199|192|259|259|548|226|334|29...  "
      ]
     },
     "execution_count": 13,
     "metadata": {},
     "output_type": "execute_result"
    }
   ],
   "source": [
    "# and the raw\n",
    "train[train.session_id==rid][raw_display_cols].reset_index(drop=True)"
   ]
  },
  {
   "cell_type": "code",
   "execution_count": 14,
   "metadata": {},
   "outputs": [
    {
     "name": "stdout",
     "output_type": "stream",
     "text": [
      "{'action_type': ['clickout item'],\n",
      " 'current_filters': [None],\n",
      " 'impressions': ['834876|8796|1811137|67445|7554016|8815|8750|8758|8766|8788|8837|61684|149598|7304664|8985292|1436082|8724|8809|1329920|4916380|2891353|8744|5724812|6066134|8812'],\n",
      " 'prices': ['210|145|166|283|199|192|259|259|548|226|334|295|138|245|182|248|228|259|224|259|259|210|170|133|259'],\n",
      " 'reference': ['834876'],\n",
      " 'session_id': ['8e91e2211be60'],\n",
      " 'step': [1],\n",
      " 'timestamp': [Timestamp('2018-11-05 23:30:10')]}\n"
     ]
    }
   ],
   "source": [
    "pp.pprint(train[train.session_id==rid][raw_display_cols].reset_index(drop=True).to_dict(orient='list'))"
   ]
  },
  {
   "cell_type": "markdown",
   "metadata": {},
   "source": [
    "---\n",
    "### the generated train input"
   ]
  },
  {
   "cell_type": "code",
   "execution_count": 16,
   "metadata": {},
   "outputs": [
    {
     "name": "stdout",
     "output_type": "stream",
     "text": [
      "total 9153280\r\n",
      "-rw-r--r--  1 sam_dessa  staff    18M 25 May 10:47 preprocessed_train.snappy\r\n",
      "-rw-r--r--  1 sam_dessa  staff    17M 25 May 10:47 train_1000000_no_test.snappy\r\n",
      "-rw-r--r--  1 sam_dessa  staff   1.2G 25 May 10:49 meta_mapping.npy\r\n",
      "-rw-r--r--  1 sam_dessa  staff    28K 25 May 10:50 filters_mapping.npy\r\n",
      "-rw-r--r--  1 sam_dessa  staff   1.5G 25 May 10:50 train_impressions.npy\r\n",
      "-rw-r--r--  1 sam_dessa  staff   9.9M 25 May 10:50 train_prices.npy\r\n",
      "-rw-r--r--  1 sam_dessa  staff   9.9M 25 May 10:50 train_prices_rank.npy\r\n",
      "-rw-r--r--  1 sam_dessa  staff   1.5G 25 May 10:50 train_merged.npy\r\n",
      "-rw-r--r--  1 sam_dessa  staff    81M 25 May 10:50 train_cfilters.npy\r\n",
      "-rw-r--r--  1 sam_dessa  staff   2.4M 25 May 10:50 train_numerics.npy\r\n",
      "-rw-r--r--  1 sam_dessa  staff   406K 25 May 10:50 train_targets.npy\r\n"
     ]
    }
   ],
   "source": [
    "!ls -lthr ./nn_cache/"
   ]
  },
  {
   "cell_type": "code",
   "execution_count": null,
   "metadata": {},
   "outputs": [],
   "source": [
    "tids = np.load('./nn_cache/tra')"
   ]
  }
 ],
 "metadata": {
  "kernelspec": {
   "display_name": "Python 3",
   "language": "python",
   "name": "python3"
  },
  "language_info": {
   "codemirror_mode": {
    "name": "ipython",
    "version": 3
   },
   "file_extension": ".py",
   "mimetype": "text/x-python",
   "name": "python",
   "nbconvert_exporter": "python",
   "pygments_lexer": "ipython3",
   "version": "3.6.8"
  }
 },
 "nbformat": 4,
 "nbformat_minor": 2
}
