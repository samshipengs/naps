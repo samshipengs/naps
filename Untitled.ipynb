{
 "cells": [
  {
   "cell_type": "code",
   "execution_count": 2,
   "metadata": {},
   "outputs": [],
   "source": [
    "import multiprocessing as mp\n",
    "import time\n",
    "import os\n",
    "import gc\n",
    "\n",
    "import pandas as pd\n",
    "import numpy as np\n",
    "from tqdm import tqdm\n",
    "from sklearn.metrics import log_loss, auc, roc_curve, f1_score, average_precision_score, mean_squared_error\n",
    "from sklearn.model_selection import StratifiedKFold\n",
    "import catboost as cat\n",
    "\n",
    "from reduce_memory import reduce_numeric_mem_usage, reduce_object_mem_usage\n",
    "\n",
    "%matplotlib inline\n",
    "%load_ext autoreload\n",
    "%autoreload 2"
   ]
  },
  {
   "cell_type": "code",
   "execution_count": 3,
   "metadata": {},
   "outputs": [],
   "source": [
    "xtrain = pd.read_hdf('./data/train.h5', 'xtrain')"
   ]
  },
  {
   "cell_type": "code",
   "execution_count": 8,
   "metadata": {},
   "outputs": [],
   "source": [
    "xval = pd.read_hdf('./data/train.h5', 'xval')"
   ]
  },
  {
   "cell_type": "code",
   "execution_count": 1,
   "metadata": {},
   "outputs": [
    {
     "name": "stdout",
     "output_type": "stream",
     "text": [
      "total 18126752\r\n",
      "-rw-r--r--  1 sam_dessa  staff    73K 15 Mar 15:08 data_exploring.ipynb\r\n",
      "-rw-r--r--  1 sam_dessa  staff   4.4K 15 Mar 15:10 reduce_memory.py\r\n",
      "drwxr-xr-x  3 sam_dessa  staff    96B 16 Mar 17:36 \u001b[34m__pycache__\u001b[m\u001b[m\r\n",
      "-rw-r--r--  1 sam_dessa  staff    76M 16 Mar 18:12 session_fts.csv\r\n",
      "-rw-r--r--  1 sam_dessa  staff   3.3G 17 Mar 11:40 xtrain.csv\r\n",
      "-rw-r--r--  1 sam_dessa  staff   5.2G 17 Mar 11:47 data.h5\r\n",
      "drwxr-xr-x  9 sam_dessa  staff   288B 17 Mar 13:54 \u001b[34mcatboost_info\u001b[m\u001b[m\r\n",
      "-rw-r--r--  1 sam_dessa  staff    40K 18 Mar 21:53 Untitled.ipynb\r\n",
      "-rw-r--r--  1 sam_dessa  staff    21K 27 Mar 22:23 test-Copy1.ipynb\r\n",
      "drwxr-xr-x  9 sam_dessa  staff   288B 28 Mar 00:55 \u001b[34mdata\u001b[m\u001b[m\r\n",
      "-rw-r--r--  1 sam_dessa  staff    45K 28 Mar 20:07 test.ipynb\r\n"
     ]
    }
   ],
   "source": [
    "!ls -lthr"
   ]
  },
  {
   "cell_type": "code",
   "execution_count": 4,
   "metadata": {},
   "outputs": [
    {
     "data": {
      "text/html": [
       "<div>\n",
       "<style scoped>\n",
       "    .dataframe tbody tr th:only-of-type {\n",
       "        vertical-align: middle;\n",
       "    }\n",
       "\n",
       "    .dataframe tbody tr th {\n",
       "        vertical-align: top;\n",
       "    }\n",
       "\n",
       "    .dataframe thead th {\n",
       "        text-align: right;\n",
       "    }\n",
       "</style>\n",
       "<table border=\"1\" class=\"dataframe\">\n",
       "  <thead>\n",
       "    <tr style=\"text-align: right;\">\n",
       "      <th></th>\n",
       "      <th>item_id</th>\n",
       "      <th>appeared</th>\n",
       "      <th>location</th>\n",
       "      <th>price</th>\n",
       "      <th>rel_price_rank</th>\n",
       "      <th>price_mean</th>\n",
       "      <th>price_median</th>\n",
       "      <th>diff_mean</th>\n",
       "      <th>diff_median</th>\n",
       "      <th>diff_mean_rel</th>\n",
       "      <th>...</th>\n",
       "      <th>action_type_click_rel_pos_avg</th>\n",
       "      <th>city_nunique</th>\n",
       "      <th>city_get_first</th>\n",
       "      <th>platform_get_first</th>\n",
       "      <th>device_get_first</th>\n",
       "      <th>nfilters_mean</th>\n",
       "      <th>nfilters_max</th>\n",
       "      <th>nfilters_min</th>\n",
       "      <th>nfilters_get_last</th>\n",
       "      <th>nimps_max</th>\n",
       "    </tr>\n",
       "  </thead>\n",
       "  <tbody>\n",
       "    <tr>\n",
       "      <th>00000510f1adc</th>\n",
       "      <td>2661832</td>\n",
       "      <td>0</td>\n",
       "      <td>0</td>\n",
       "      <td>46</td>\n",
       "      <td>0.60</td>\n",
       "      <td>27.32</td>\n",
       "      <td>20.0</td>\n",
       "      <td>18.68</td>\n",
       "      <td>26.0</td>\n",
       "      <td>0.406087</td>\n",
       "      <td>...</td>\n",
       "      <td>NaN</td>\n",
       "      <td>NaN</td>\n",
       "      <td>NaN</td>\n",
       "      <td>NaN</td>\n",
       "      <td>NaN</td>\n",
       "      <td>NaN</td>\n",
       "      <td>NaN</td>\n",
       "      <td>NaN</td>\n",
       "      <td>NaN</td>\n",
       "      <td>NaN</td>\n",
       "    </tr>\n",
       "    <tr>\n",
       "      <th>00000510f1adc</th>\n",
       "      <td>9222426</td>\n",
       "      <td>0</td>\n",
       "      <td>1</td>\n",
       "      <td>26</td>\n",
       "      <td>0.76</td>\n",
       "      <td>27.32</td>\n",
       "      <td>20.0</td>\n",
       "      <td>-1.32</td>\n",
       "      <td>6.0</td>\n",
       "      <td>-0.050769</td>\n",
       "      <td>...</td>\n",
       "      <td>NaN</td>\n",
       "      <td>NaN</td>\n",
       "      <td>NaN</td>\n",
       "      <td>NaN</td>\n",
       "      <td>NaN</td>\n",
       "      <td>NaN</td>\n",
       "      <td>NaN</td>\n",
       "      <td>NaN</td>\n",
       "      <td>NaN</td>\n",
       "      <td>NaN</td>\n",
       "    </tr>\n",
       "    <tr>\n",
       "      <th>00000510f1adc</th>\n",
       "      <td>7051844</td>\n",
       "      <td>0</td>\n",
       "      <td>2</td>\n",
       "      <td>16</td>\n",
       "      <td>0.48</td>\n",
       "      <td>27.32</td>\n",
       "      <td>20.0</td>\n",
       "      <td>-11.32</td>\n",
       "      <td>-4.0</td>\n",
       "      <td>-0.707500</td>\n",
       "      <td>...</td>\n",
       "      <td>NaN</td>\n",
       "      <td>NaN</td>\n",
       "      <td>NaN</td>\n",
       "      <td>NaN</td>\n",
       "      <td>NaN</td>\n",
       "      <td>NaN</td>\n",
       "      <td>NaN</td>\n",
       "      <td>NaN</td>\n",
       "      <td>NaN</td>\n",
       "      <td>NaN</td>\n",
       "    </tr>\n",
       "    <tr>\n",
       "      <th>00000510f1adc</th>\n",
       "      <td>4079190</td>\n",
       "      <td>0</td>\n",
       "      <td>3</td>\n",
       "      <td>38</td>\n",
       "      <td>0.20</td>\n",
       "      <td>27.32</td>\n",
       "      <td>20.0</td>\n",
       "      <td>10.68</td>\n",
       "      <td>18.0</td>\n",
       "      <td>0.281053</td>\n",
       "      <td>...</td>\n",
       "      <td>NaN</td>\n",
       "      <td>NaN</td>\n",
       "      <td>NaN</td>\n",
       "      <td>NaN</td>\n",
       "      <td>NaN</td>\n",
       "      <td>NaN</td>\n",
       "      <td>NaN</td>\n",
       "      <td>NaN</td>\n",
       "      <td>NaN</td>\n",
       "      <td>NaN</td>\n",
       "    </tr>\n",
       "    <tr>\n",
       "      <th>00000510f1adc</th>\n",
       "      <td>5752778</td>\n",
       "      <td>0</td>\n",
       "      <td>4</td>\n",
       "      <td>12</td>\n",
       "      <td>0.36</td>\n",
       "      <td>27.32</td>\n",
       "      <td>20.0</td>\n",
       "      <td>-15.32</td>\n",
       "      <td>-8.0</td>\n",
       "      <td>-1.276667</td>\n",
       "      <td>...</td>\n",
       "      <td>NaN</td>\n",
       "      <td>NaN</td>\n",
       "      <td>NaN</td>\n",
       "      <td>NaN</td>\n",
       "      <td>NaN</td>\n",
       "      <td>NaN</td>\n",
       "      <td>NaN</td>\n",
       "      <td>NaN</td>\n",
       "      <td>NaN</td>\n",
       "      <td>NaN</td>\n",
       "    </tr>\n",
       "  </tbody>\n",
       "</table>\n",
       "<p>5 rows × 40 columns</p>\n",
       "</div>"
      ],
      "text/plain": [
       "               item_id  appeared  location  price  rel_price_rank  price_mean  \\\n",
       "00000510f1adc  2661832         0         0     46            0.60       27.32   \n",
       "00000510f1adc  9222426         0         1     26            0.76       27.32   \n",
       "00000510f1adc  7051844         0         2     16            0.48       27.32   \n",
       "00000510f1adc  4079190         0         3     38            0.20       27.32   \n",
       "00000510f1adc  5752778         0         4     12            0.36       27.32   \n",
       "\n",
       "               price_median  diff_mean  diff_median  diff_mean_rel    ...      \\\n",
       "00000510f1adc          20.0      18.68         26.0       0.406087    ...       \n",
       "00000510f1adc          20.0      -1.32          6.0      -0.050769    ...       \n",
       "00000510f1adc          20.0     -11.32         -4.0      -0.707500    ...       \n",
       "00000510f1adc          20.0      10.68         18.0       0.281053    ...       \n",
       "00000510f1adc          20.0     -15.32         -8.0      -1.276667    ...       \n",
       "\n",
       "               action_type_click_rel_pos_avg  city_nunique  city_get_first  \\\n",
       "00000510f1adc                            NaN           NaN             NaN   \n",
       "00000510f1adc                            NaN           NaN             NaN   \n",
       "00000510f1adc                            NaN           NaN             NaN   \n",
       "00000510f1adc                            NaN           NaN             NaN   \n",
       "00000510f1adc                            NaN           NaN             NaN   \n",
       "\n",
       "               platform_get_first  device_get_first  nfilters_mean  \\\n",
       "00000510f1adc                 NaN               NaN            NaN   \n",
       "00000510f1adc                 NaN               NaN            NaN   \n",
       "00000510f1adc                 NaN               NaN            NaN   \n",
       "00000510f1adc                 NaN               NaN            NaN   \n",
       "00000510f1adc                 NaN               NaN            NaN   \n",
       "\n",
       "               nfilters_max  nfilters_min  nfilters_get_last  nimps_max  \n",
       "00000510f1adc           NaN           NaN                NaN        NaN  \n",
       "00000510f1adc           NaN           NaN                NaN        NaN  \n",
       "00000510f1adc           NaN           NaN                NaN        NaN  \n",
       "00000510f1adc           NaN           NaN                NaN        NaN  \n",
       "00000510f1adc           NaN           NaN                NaN        NaN  \n",
       "\n",
       "[5 rows x 40 columns]"
      ]
     },
     "execution_count": 4,
     "metadata": {},
     "output_type": "execute_result"
    }
   ],
   "source": [
    "xtrain.head()"
   ]
  },
  {
   "cell_type": "code",
   "execution_count": 5,
   "metadata": {},
   "outputs": [
    {
     "data": {
      "text/plain": [
       "Index(['item_id', 'appeared', 'location', 'price', 'rel_price_rank',\n",
       "       'price_mean', 'price_median', 'diff_mean', 'diff_median',\n",
       "       'diff_mean_rel', 'diff_median_rel', 'nprop', 'n_clicks', 'star',\n",
       "       'good_rating', 'satisfactory_rating', 'excellent_rating', 'p_mean',\n",
       "       'star_mean', 'gr_mean', 'sr_mean', 'er_mean', 'target', 'session_id',\n",
       "       'timestamp_ptp', 'timestamp_mean_dwell_time',\n",
       "       'timestamp_var_dwell_time', 'step_max', 'action_type_nunique',\n",
       "       'action_type_n_clickouts', 'action_type_click_rel_pos_avg',\n",
       "       'city_nunique', 'city_get_first', 'platform_get_first',\n",
       "       'device_get_first', 'nfilters_mean', 'nfilters_max', 'nfilters_min',\n",
       "       'nfilters_get_last', 'nimps_max'],\n",
       "      dtype='object')"
      ]
     },
     "execution_count": 5,
     "metadata": {},
     "output_type": "execute_result"
    }
   ],
   "source": [
    "xtrain.columns"
   ]
  },
  {
   "cell_type": "code",
   "execution_count": 6,
   "metadata": {},
   "outputs": [
    {
     "data": {
      "text/plain": [
       "Index(['session_id', 'city_get_first', 'platform_get_first',\n",
       "       'device_get_first'],\n",
       "      dtype='object')"
      ]
     },
     "execution_count": 6,
     "metadata": {},
     "output_type": "execute_result"
    }
   ],
   "source": [
    "xtrain.columns[xtrain.dtypes=='O']"
   ]
  },
  {
   "cell_type": "code",
   "execution_count": 9,
   "metadata": {},
   "outputs": [
    {
     "name": "stdout",
     "output_type": "stream",
     "text": [
      "city_get_first\n",
      "platform_get_first\n",
      "device_get_first\n",
      "item_id\n",
      "location\n"
     ]
    }
   ],
   "source": [
    "cat_fts = ['city_get_first', 'platform_get_first', 'device_get_first', 'item_id', 'location']\n",
    "# convert to categorical\n",
    "for c in cat_fts:\n",
    "    print(c)\n",
    "    maps = np.concatenate([xtrain[c].unique(), xval[c].unique()])\n",
    "    mapper = dict(zip(maps, np.arange(len(maps), dtype=int)))\n",
    "    xtrain[c] = xtrain[c].map(mapper)\n",
    "    xval[c] = xval[c].map(mapper)\n"
   ]
  },
  {
   "cell_type": "code",
   "execution_count": 10,
   "metadata": {},
   "outputs": [],
   "source": [
    "y_trn = xtrain['target']\n",
    "y_val = xval['target']\n",
    "del xtrain['target'], xval['target']"
   ]
  },
  {
   "cell_type": "code",
   "execution_count": 11,
   "metadata": {},
   "outputs": [
    {
     "data": {
      "text/html": [
       "<div>\n",
       "<style scoped>\n",
       "    .dataframe tbody tr th:only-of-type {\n",
       "        vertical-align: middle;\n",
       "    }\n",
       "\n",
       "    .dataframe tbody tr th {\n",
       "        vertical-align: top;\n",
       "    }\n",
       "\n",
       "    .dataframe thead th {\n",
       "        text-align: right;\n",
       "    }\n",
       "</style>\n",
       "<table border=\"1\" class=\"dataframe\">\n",
       "  <thead>\n",
       "    <tr style=\"text-align: right;\">\n",
       "      <th></th>\n",
       "      <th>item_id</th>\n",
       "      <th>appeared</th>\n",
       "      <th>location</th>\n",
       "      <th>price</th>\n",
       "      <th>rel_price_rank</th>\n",
       "      <th>price_mean</th>\n",
       "      <th>price_median</th>\n",
       "      <th>diff_mean</th>\n",
       "      <th>diff_median</th>\n",
       "      <th>diff_mean_rel</th>\n",
       "      <th>...</th>\n",
       "      <th>action_type_click_rel_pos_avg</th>\n",
       "      <th>city_nunique</th>\n",
       "      <th>city_get_first</th>\n",
       "      <th>platform_get_first</th>\n",
       "      <th>device_get_first</th>\n",
       "      <th>nfilters_mean</th>\n",
       "      <th>nfilters_max</th>\n",
       "      <th>nfilters_min</th>\n",
       "      <th>nfilters_get_last</th>\n",
       "      <th>nimps_max</th>\n",
       "    </tr>\n",
       "  </thead>\n",
       "  <tbody>\n",
       "    <tr>\n",
       "      <th>00000510f1adc</th>\n",
       "      <td>772769</td>\n",
       "      <td>0</td>\n",
       "      <td>25</td>\n",
       "      <td>46</td>\n",
       "      <td>0.60</td>\n",
       "      <td>27.32</td>\n",
       "      <td>20.0</td>\n",
       "      <td>18.68</td>\n",
       "      <td>26.0</td>\n",
       "      <td>0.406087</td>\n",
       "      <td>...</td>\n",
       "      <td>NaN</td>\n",
       "      <td>NaN</td>\n",
       "      <td>1</td>\n",
       "      <td>1</td>\n",
       "      <td>1</td>\n",
       "      <td>NaN</td>\n",
       "      <td>NaN</td>\n",
       "      <td>NaN</td>\n",
       "      <td>NaN</td>\n",
       "      <td>NaN</td>\n",
       "    </tr>\n",
       "    <tr>\n",
       "      <th>00000510f1adc</th>\n",
       "      <td>772770</td>\n",
       "      <td>0</td>\n",
       "      <td>26</td>\n",
       "      <td>26</td>\n",
       "      <td>0.76</td>\n",
       "      <td>27.32</td>\n",
       "      <td>20.0</td>\n",
       "      <td>-1.32</td>\n",
       "      <td>6.0</td>\n",
       "      <td>-0.050769</td>\n",
       "      <td>...</td>\n",
       "      <td>NaN</td>\n",
       "      <td>NaN</td>\n",
       "      <td>1</td>\n",
       "      <td>1</td>\n",
       "      <td>1</td>\n",
       "      <td>NaN</td>\n",
       "      <td>NaN</td>\n",
       "      <td>NaN</td>\n",
       "      <td>NaN</td>\n",
       "      <td>NaN</td>\n",
       "    </tr>\n",
       "    <tr>\n",
       "      <th>00000510f1adc</th>\n",
       "      <td>772771</td>\n",
       "      <td>0</td>\n",
       "      <td>27</td>\n",
       "      <td>16</td>\n",
       "      <td>0.48</td>\n",
       "      <td>27.32</td>\n",
       "      <td>20.0</td>\n",
       "      <td>-11.32</td>\n",
       "      <td>-4.0</td>\n",
       "      <td>-0.707500</td>\n",
       "      <td>...</td>\n",
       "      <td>NaN</td>\n",
       "      <td>NaN</td>\n",
       "      <td>1</td>\n",
       "      <td>1</td>\n",
       "      <td>1</td>\n",
       "      <td>NaN</td>\n",
       "      <td>NaN</td>\n",
       "      <td>NaN</td>\n",
       "      <td>NaN</td>\n",
       "      <td>NaN</td>\n",
       "    </tr>\n",
       "    <tr>\n",
       "      <th>00000510f1adc</th>\n",
       "      <td>772772</td>\n",
       "      <td>0</td>\n",
       "      <td>28</td>\n",
       "      <td>38</td>\n",
       "      <td>0.20</td>\n",
       "      <td>27.32</td>\n",
       "      <td>20.0</td>\n",
       "      <td>10.68</td>\n",
       "      <td>18.0</td>\n",
       "      <td>0.281053</td>\n",
       "      <td>...</td>\n",
       "      <td>NaN</td>\n",
       "      <td>NaN</td>\n",
       "      <td>1</td>\n",
       "      <td>1</td>\n",
       "      <td>1</td>\n",
       "      <td>NaN</td>\n",
       "      <td>NaN</td>\n",
       "      <td>NaN</td>\n",
       "      <td>NaN</td>\n",
       "      <td>NaN</td>\n",
       "    </tr>\n",
       "    <tr>\n",
       "      <th>00000510f1adc</th>\n",
       "      <td>772773</td>\n",
       "      <td>0</td>\n",
       "      <td>29</td>\n",
       "      <td>12</td>\n",
       "      <td>0.36</td>\n",
       "      <td>27.32</td>\n",
       "      <td>20.0</td>\n",
       "      <td>-15.32</td>\n",
       "      <td>-8.0</td>\n",
       "      <td>-1.276667</td>\n",
       "      <td>...</td>\n",
       "      <td>NaN</td>\n",
       "      <td>NaN</td>\n",
       "      <td>1</td>\n",
       "      <td>1</td>\n",
       "      <td>1</td>\n",
       "      <td>NaN</td>\n",
       "      <td>NaN</td>\n",
       "      <td>NaN</td>\n",
       "      <td>NaN</td>\n",
       "      <td>NaN</td>\n",
       "    </tr>\n",
       "  </tbody>\n",
       "</table>\n",
       "<p>5 rows × 39 columns</p>\n",
       "</div>"
      ],
      "text/plain": [
       "               item_id  appeared  location  price  rel_price_rank  price_mean  \\\n",
       "00000510f1adc   772769         0        25     46            0.60       27.32   \n",
       "00000510f1adc   772770         0        26     26            0.76       27.32   \n",
       "00000510f1adc   772771         0        27     16            0.48       27.32   \n",
       "00000510f1adc   772772         0        28     38            0.20       27.32   \n",
       "00000510f1adc   772773         0        29     12            0.36       27.32   \n",
       "\n",
       "               price_median  diff_mean  diff_median  diff_mean_rel    ...      \\\n",
       "00000510f1adc          20.0      18.68         26.0       0.406087    ...       \n",
       "00000510f1adc          20.0      -1.32          6.0      -0.050769    ...       \n",
       "00000510f1adc          20.0     -11.32         -4.0      -0.707500    ...       \n",
       "00000510f1adc          20.0      10.68         18.0       0.281053    ...       \n",
       "00000510f1adc          20.0     -15.32         -8.0      -1.276667    ...       \n",
       "\n",
       "               action_type_click_rel_pos_avg  city_nunique  city_get_first  \\\n",
       "00000510f1adc                            NaN           NaN               1   \n",
       "00000510f1adc                            NaN           NaN               1   \n",
       "00000510f1adc                            NaN           NaN               1   \n",
       "00000510f1adc                            NaN           NaN               1   \n",
       "00000510f1adc                            NaN           NaN               1   \n",
       "\n",
       "               platform_get_first  device_get_first  nfilters_mean  \\\n",
       "00000510f1adc                   1                 1            NaN   \n",
       "00000510f1adc                   1                 1            NaN   \n",
       "00000510f1adc                   1                 1            NaN   \n",
       "00000510f1adc                   1                 1            NaN   \n",
       "00000510f1adc                   1                 1            NaN   \n",
       "\n",
       "               nfilters_max  nfilters_min  nfilters_get_last  nimps_max  \n",
       "00000510f1adc           NaN           NaN                NaN        NaN  \n",
       "00000510f1adc           NaN           NaN                NaN        NaN  \n",
       "00000510f1adc           NaN           NaN                NaN        NaN  \n",
       "00000510f1adc           NaN           NaN                NaN        NaN  \n",
       "00000510f1adc           NaN           NaN                NaN        NaN  \n",
       "\n",
       "[5 rows x 39 columns]"
      ]
     },
     "execution_count": 11,
     "metadata": {},
     "output_type": "execute_result"
    }
   ],
   "source": [
    "xtrain.head()"
   ]
  },
  {
   "cell_type": "code",
   "execution_count": 12,
   "metadata": {},
   "outputs": [
    {
     "name": "stdout",
     "output_type": "stream",
     "text": [
      "0:\tlearn: 0.6546968\ttest: 0.6546966\tbest: 0.6546966 (0)\ttotal: 7.11s\tremaining: 5h 55m 24s\n",
      "100:\tlearn: 0.1397341\ttest: 0.1390112\tbest: 0.1390112 (100)\ttotal: 19m\tremaining: 9h 5m 26s\n",
      "200:\tlearn: 0.1343388\ttest: 0.1320602\tbest: 0.1320602 (200)\ttotal: 34m 26s\tremaining: 7h 59m 33s\n",
      "300:\tlearn: 0.1334188\ttest: 0.1326040\tbest: 0.1318294 (211)\ttotal: 54m 37s\tremaining: 8h 9m 46s\n",
      "Stopped by overfitting detector  (100 iterations wait)\n",
      "\n",
      "bestTest = 0.1318293649\n",
      "bestIteration = 211\n",
      "\n",
      "Shrink model to first 212 iterations.\n",
      "Done!\n",
      "logloss=0.1318 | map=0.3915 | auc=0.8575\n"
     ]
    }
   ],
   "source": [
    "params = {'iterations': 3000,\n",
    "          'learning_rate': 0.02,\n",
    "          'depth': 8}\n",
    "\n",
    "categorical_ind = [k for k, v in enumerate(xtrain.columns) if v in cat_fts ]\n",
    "\n",
    "# train model\n",
    "clf = cat.CatBoostClassifier(**params)\n",
    "clf.fit(xtrain, y_trn,\n",
    "        cat_features=categorical_ind,\n",
    "        eval_set=(xval, y_val),\n",
    "        early_stopping_rounds=100,\n",
    "        verbose=100,\n",
    "        plot=False)\n",
    "print('Done!')\n",
    "\n",
    "# saves for each fold\n",
    "clfs = []\n",
    "cv_scores = []\n",
    "val_inds = []\n",
    "\n",
    "# append model\n",
    "clfs.append(clf)\n",
    "# make prediction on validation set\n",
    "val_pred = clf.predict_proba(xval)[:, 1]\n",
    "logloss_i = log_loss(y_val, val_pred)\n",
    "cv_scores.append(logloss_i)\n",
    "# compute roc auc\n",
    "fpr, tpr, thresholds = roc_curve(y_val, val_pred, pos_label=1)\n",
    "auc_i = auc(fpr, tpr)\n",
    "# compute map\n",
    "map_i = average_precision_score(y_val, val_pred)\n",
    "print('logloss={0:.4f} | map={1:.4f} | auc={2:.4f}'.format(logloss_i, map_i, auc_i))"
   ]
  },
  {
   "cell_type": "code",
   "execution_count": 13,
   "metadata": {},
   "outputs": [],
   "source": [
    "# compute mean rr\n",
    "xval['pred'] = val_pred"
   ]
  },
  {
   "cell_type": "code",
   "execution_count": 12,
   "metadata": {},
   "outputs": [],
   "source": [
    "# xval['pred']"
   ]
  },
  {
   "cell_type": "code",
   "execution_count": 13,
   "metadata": {},
   "outputs": [],
   "source": [
    "# xtrain[train=='084dbb067c71e']"
   ]
  },
  {
   "cell_type": "code",
   "execution_count": 14,
   "metadata": {},
   "outputs": [],
   "source": [
    "def reciprocal_rank(df):\n",
    "    pred_list = df['pred'].values\n",
    "    sorted_ind = np.argsort(pred_list)[::-1]\n",
    "    ranked_items = df['item_id'].iloc[sorted_ind].values\n",
    "    try:\n",
    "        target_ind = np.where(df['target'] == 1)[0][0]\n",
    "        rank = np.where(sorted_ind == target)[0][0]\n",
    "    except:\n",
    "        return 0\n",
    "#     return 1/(rank+1)\n",
    "    return rank+1\n",
    "\n",
    "xval['target'] = y_val\n",
    "# val_rr = xval.groupby('session_id').apply(reciprocal_rank)\n",
    "val_rr = xval.groupby(level=0).apply(reciprocal_rank)"
   ]
  },
  {
   "cell_type": "code",
   "execution_count": 20,
   "metadata": {
    "scrolled": true
   },
   "outputs": [
    {
     "data": {
      "text/plain": [
       "00000510f1adc    0\n",
       "00003f3b20954    0\n",
       "000066611146f    0\n",
       "0000be39860d7    0\n",
       "0000c0fb51e11    0\n",
       "0000c8490c155    0\n",
       "0000d4284ff9b    0\n",
       "0000de36576fe    0\n",
       "0000fd3bf7543    0\n",
       "000130c2690b4    0\n",
       "000138ab4f789    0\n",
       "000195d02a8a9    0\n",
       "0001acb13ccd1    0\n",
       "0001b9615355c    0\n",
       "0001c758d8d1f    0\n",
       "0001c9c2e444f    0\n",
       "0001e1f9f413b    0\n",
       "0001e610ce498    0\n",
       "00021822e2f69    0\n",
       "00021d6a859ee    0\n",
       "00023a654b3f2    0\n",
       "00025affb7f5f    0\n",
       "00025bc91dd32    0\n",
       "000263df674fa    0\n",
       "0002af7fa3b22    0\n",
       "0002b3ece5fa7    0\n",
       "0002cd8e0a39c    0\n",
       "0002cff5d90c1    0\n",
       "0002d45f4dfe1    0\n",
       "0002e7a47e7da    0\n",
       "                ..\n",
       "ffff1b6e93f41    0\n",
       "ffff23126a7d1    0\n",
       "ffff2b77b0ac5    0\n",
       "ffff337d56f29    0\n",
       "ffff367c20b8f    0\n",
       "ffff42d6da48b    0\n",
       "ffff55d5f5692    0\n",
       "ffff69a28ad8f    0\n",
       "ffff71cf574ae    0\n",
       "ffffb1a829d57    0\n",
       "ffffc3684eb96    0\n",
       "ffffd71debe43    0\n",
       "gdq1ljudj7o75    0\n",
       "gijrb7ktv5dst    0\n",
       "hpc4re5voh2j8    0\n",
       "hs7al6r7e0e6f    0\n",
       "iu6o13hri9m3t    0\n",
       "k5or4k97f2mns    0\n",
       "l63s3mo591kcb    0\n",
       "mbtmfvkpbjh9e    0\n",
       "nm5lonem23b1k    0\n",
       "oa1fkctrinkb8    0\n",
       "phs93qan65omu    0\n",
       "ptob1c1ag7444    0\n",
       "qjhb1uuit1bda    0\n",
       "rakbhe1nrqpd0    0\n",
       "s8u671odd7ckk    0\n",
       "udmhn71cn8500    0\n",
       "v9815m0bctrm1    0\n",
       "vg1t2qc04afrt    0\n",
       "Length: 681544, dtype: int64"
      ]
     },
     "execution_count": 20,
     "metadata": {},
     "output_type": "execute_result"
    }
   ],
   "source": [
    "val_rr\n"
   ]
  },
  {
   "cell_type": "code",
   "execution_count": 15,
   "metadata": {},
   "outputs": [],
   "source": [
    "# xtrain[cat_fts].nunique()"
   ]
  },
  {
   "cell_type": "code",
   "execution_count": 16,
   "metadata": {},
   "outputs": [
    {
     "data": {
      "text/plain": [
       "nan"
      ]
     },
     "execution_count": 16,
     "metadata": {},
     "output_type": "execute_result"
    }
   ],
   "source": [
    "val_rr[val_rr!=0].mean()"
   ]
  },
  {
   "cell_type": "code",
   "execution_count": 17,
   "metadata": {},
   "outputs": [
    {
     "data": {
      "text/plain": [
       "<matplotlib.axes._subplots.AxesSubplot at 0x1405d0470>"
      ]
     },
     "execution_count": 17,
     "metadata": {},
     "output_type": "execute_result"
    },
    {
     "data": {
      "image/png": "[encoded data removed]",
      "text/plain": [
       "<Figure size 432x288 with 1 Axes>"
      ]
     },
     "metadata": {
      "needs_background": "light"
     },
     "output_type": "display_data"
    }
   ],
   "source": [
    "val_rr[val_rr!=0].hist(bins=50)"
   ]
  },
  {
   "cell_type": "code",
   "execution_count": 18,
   "metadata": {},
   "outputs": [
    {
     "data": {
      "text/plain": [
       "nan"
      ]
     },
     "execution_count": 18,
     "metadata": {},
     "output_type": "execute_result"
    }
   ],
   "source": [
    "(1/val_rr[val_rr!=0]).mean()"
   ]
  },
  {
   "cell_type": "code",
   "execution_count": 19,
   "metadata": {},
   "outputs": [
    {
     "data": {
      "text/plain": [
       "<matplotlib.axes._subplots.AxesSubplot at 0x7ff117160>"
      ]
     },
     "execution_count": 19,
     "metadata": {},
     "output_type": "execute_result"
    },
    {
     "data": {
      "image/png": "[encoded data removed]",
      "text/plain": [
       "<Figure size 432x288 with 1 Axes>"
      ]
     },
     "metadata": {
      "needs_background": "light"
     },
     "output_type": "display_data"
    }
   ],
   "source": [
    "(1/val_rr[val_rr!=0]).hist(bins=50)"
   ]
  }
 ],
 "metadata": {
  "kernelspec": {
   "display_name": "Python 3",
   "language": "python",
   "name": "python3"
  },
  "language_info": {
   "codemirror_mode": {
    "name": "ipython",
    "version": 3
   },
   "file_extension": ".py",
   "mimetype": "text/x-python",
   "name": "python",
   "nbconvert_exporter": "python",
   "pygments_lexer": "ipython3",
   "version": "3.6.8"
  }
 },
 "nbformat": 4,
 "nbformat_minor": 2
}
