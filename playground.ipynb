{
 "cells": [
  {
   "cell_type": "code",
   "execution_count": 1,
   "metadata": {},
   "outputs": [],
   "source": [
    "from utils import load_data, check_gpu, check_dir\n",
    "from clean_session import preprocess_sessions\n",
    "import pandas as pd\n",
    "import numpy as np\n",
    "from tqdm import tqdm\n",
    "import gc\n",
    "from functools import partial\n",
    "import matplotlib.pyplot as plt\n",
    "from clean_session import preprocess_sessions\n",
    "from create_model_inputs import prepare_data, compute_session_fts, create_model_inputs\n",
    "import datetime\n",
    "%matplotlib inline\n",
    "%load_ext autoreload\n",
    "%autoreload 2\n",
    "def fprint(df, name):\n",
    "    print(f'{name} shape: ({df.shape[0]:,}, {df.shape[1]})')\n",
    "import pprint\n",
    "pp = pprint.PrettyPrinter(indent=1)"
   ]
  },
  {
   "cell_type": "code",
   "execution_count": 2,
   "metadata": {
    "scrolled": true
   },
   "outputs": [
    {
     "name": "stderr",
     "output_type": "stream",
     "text": [
      "[05-17 14:35:34 - utils-106 - load_data - INFO] Loading train using 1,000,000 rows (999,995 trimmed) which is 6.28% out of total train data\n",
      "[05-17 14:35:34 - create_model_inputs-17 - flogger - INFO] raw train shape: (999,995, 12)\n",
      "[05-17 14:35:34 - clean_session-60 - preprocess_sessions - INFO] Dropping duplicates\n",
      "[05-17 14:35:34 - clean_session-18 - remove_duplicates - INFO] Before dropping duplicates df shape: (999,995, 12)\n",
      "[05-17 14:35:35 - clean_session-21 - remove_duplicates - INFO] After dropping duplicates df shape: (421,117, 12)\n",
      "[05-17 14:35:35 - clean_session-62 - preprocess_sessions - INFO] Cliping session dataframe up to last click out (if there is clickout)\n",
      "[05-17 14:36:01 - clean_session-65 - preprocess_sessions - INFO] Filtering out sessions without clickouts, reference, or clickout is nan\n",
      "[05-17 14:36:01 - clean_session-66 - preprocess_sessions - INFO] train length before filtering no click-out, or nan reference and click-out sessions: 362,672\n",
      "[05-17 14:36:51 - clean_session-74 - preprocess_sessions - INFO] train length after filtering: 326,695\n",
      "[05-17 14:36:51 - clean_session-76 - preprocess_sessions - INFO] Saving ./cache/preprocessed_train.snappy\n",
      "[05-17 14:36:52 - create_model_inputs-77 - prepare_data - INFO] Sort df by user_id, session_id, timestamp, step\n",
      "[05-17 14:36:53 - create_model_inputs-17 - flogger - INFO] Prepared train data shape: (326,695, 9)\n",
      "[05-17 14:37:13 - create_model_inputs-125 - compute_session_fts - INFO] Session features generated: ['timestamp_session_duration', 'timestamp_dwell_time_prior_clickout', 'session_id_size']\n"
     ]
    }
   ],
   "source": [
    "nrows = 1000000\n",
    "train = prepare_data('train', convert_action_type=False, nrows=nrows, recompute=True)\n",
    "df = compute_session_fts(train, 'train')"
   ]
  },
  {
   "cell_type": "code",
   "execution_count": 4,
   "metadata": {},
   "outputs": [],
   "source": [
    "df = df.groupby('session_id').last().reset_index()\n",
    "# df['session_id_size'] = np.log(df['session_id_size'])\n",
    "# df['cfs'] = df['current_filters_last_filters'].str.lower().str.split('|')\n",
    "\n",
    "# df['prices'] = df['prices'].str.split('|')\n",
    "# df['prices'] = df['prices'].apply(lambda x: [int(p) for p in x])\n",
    "\n",
    "# df['time_steps'] = df['prices'].str.len()\n",
    "# padding_mask = df['time_steps'] < 25\n",
    "# df.loc[padding_mask, 'prices'] = df.loc[padding_mask, 'prices'].apply(lambda x: np.pad(x, (0, 25-len(x)),\n",
    "#                                                                                        mode='constant'))\n",
    "df['imps'] = df['impressions'].str.split('|')\n",
    "df['imps'] = df['imps'].apply(lambda x: [int(i) for i in x])\n",
    "# df.loc[padding_mask, 'impressions'] = (df.loc[padding_mask, 'impressions']\n",
    "#                                          .apply(lambda x: np.pad(x, (0, 25-len(x)),mode='constant')))\n",
    "df['reference'] = df['reference'].astype(int)\n",
    "# filter out nan rows with reference_id not in impressions list, since if the true target in test\n",
    "# is not in the impression list then it would not get evaluated\n",
    "def assign_target(row):\n",
    "    ref = row['reference']\n",
    "    imp = list(row['imps'])\n",
    "    if ref in imp:\n",
    "        return imp.index(ref)\n",
    "    else:\n",
    "        return np.nan\n",
    "\n",
    "df['target'] = df.apply(assign_target, axis=1)\n",
    "# drop the ones whose reference is not in the impression list\n",
    "df = df[df['target'].notna()].reset_index(drop=True)\n",
    "df['target'] = df['target'].astype(int)\n",
    "# def assign_last_ref_id(row, divide=True):\n",
    "#     ref = row['reference_last_reference_id']\n",
    "#     # although reference_id got converted to int, but the reference_last_reference_id was calculated\n",
    "#     # when it was still str value, so here we look up the index in str of impressions\n",
    "#     imp = [str(i) for i in row['imps']]\n",
    "\n",
    "#     if pd.isna(ref):\n",
    "#         return np.nan\n",
    "#     else:\n",
    "#         if ref in imp:\n",
    "#             if divide:\n",
    "#                 return (imp.index(ref) + 1) / len(imp)\n",
    "#             else:\n",
    "#                 return imp.index(ref) + 1\n",
    "#         else:\n",
    "#             return np.nan\n",
    "# assign_last_ref_id_func = partial(assign_last_ref_id, divide=False)\n",
    "# df['last_ref_ind'] = df.apply(assign_last_ref_id_func, axis=1)"
   ]
  },
  {
   "cell_type": "markdown",
   "metadata": {},
   "source": [
    "### comapre session with size 1 and the rest"
   ]
  },
  {
   "cell_type": "code",
   "execution_count": 5,
   "metadata": {},
   "outputs": [
    {
     "data": {
      "text/html": [
       "<div>\n",
       "<style scoped>\n",
       "    .dataframe tbody tr th:only-of-type {\n",
       "        vertical-align: middle;\n",
       "    }\n",
       "\n",
       "    .dataframe tbody tr th {\n",
       "        vertical-align: top;\n",
       "    }\n",
       "\n",
       "    .dataframe thead th {\n",
       "        text-align: right;\n",
       "    }\n",
       "</style>\n",
       "<table border=\"1\" class=\"dataframe\">\n",
       "  <thead>\n",
       "    <tr style=\"text-align: right;\">\n",
       "      <th></th>\n",
       "      <th>session_id</th>\n",
       "      <th>user_id</th>\n",
       "      <th>timestamp</th>\n",
       "      <th>step</th>\n",
       "      <th>action_type</th>\n",
       "      <th>current_filters</th>\n",
       "      <th>reference</th>\n",
       "      <th>impressions</th>\n",
       "      <th>prices</th>\n",
       "      <th>action_id_pair</th>\n",
       "      <th>timestamp_session_duration</th>\n",
       "      <th>timestamp_dwell_time_prior_clickout</th>\n",
       "      <th>session_id_size</th>\n",
       "      <th>imps</th>\n",
       "      <th>target</th>\n",
       "    </tr>\n",
       "  </thead>\n",
       "  <tbody>\n",
       "    <tr>\n",
       "      <th>0</th>\n",
       "      <td>000263df674fa</td>\n",
       "      <td>C2D58CUH9AOT</td>\n",
       "      <td>2018-11-05 20:36:38</td>\n",
       "      <td>5</td>\n",
       "      <td>clickout item</td>\n",
       "      <td>NaN</td>\n",
       "      <td>8249</td>\n",
       "      <td>8249|8250|14378|67361|8284|8257|1955219|8254|6...</td>\n",
       "      <td>74|88|87|72|56|87|244|168|123|50|129|72|151|83...</td>\n",
       "      <td>(clickout item, 8249)</td>\n",
       "      <td>293.0</td>\n",
       "      <td>236.0</td>\n",
       "      <td>5</td>\n",
       "      <td>[8249, 8250, 14378, 67361, 8284, 8257, 1955219...</td>\n",
       "      <td>0</td>\n",
       "    </tr>\n",
       "    <tr>\n",
       "      <th>1</th>\n",
       "      <td>0002ccee5a980</td>\n",
       "      <td>M2E4246PL9XQ</td>\n",
       "      <td>2018-11-06 10:30:13</td>\n",
       "      <td>3</td>\n",
       "      <td>clickout item</td>\n",
       "      <td>NaN</td>\n",
       "      <td>109489</td>\n",
       "      <td>118737|1305086|4621782|1397441|53118|766713|92...</td>\n",
       "      <td>79|241|96|51|68|99|86|69|71|79|91|67|70|56|82|...</td>\n",
       "      <td>(interaction item image, 109489)</td>\n",
       "      <td>1.0</td>\n",
       "      <td>1.0</td>\n",
       "      <td>2</td>\n",
       "      <td>[118737, 1305086, 4621782, 1397441, 53118, 766...</td>\n",
       "      <td>19</td>\n",
       "    </tr>\n",
       "  </tbody>\n",
       "</table>\n",
       "</div>"
      ],
      "text/plain": [
       "      session_id       user_id           timestamp  step    action_type  \\\n",
       "0  000263df674fa  C2D58CUH9AOT 2018-11-05 20:36:38     5  clickout item   \n",
       "1  0002ccee5a980  M2E4246PL9XQ 2018-11-06 10:30:13     3  clickout item   \n",
       "\n",
       "  current_filters  reference  \\\n",
       "0             NaN       8249   \n",
       "1             NaN     109489   \n",
       "\n",
       "                                         impressions  \\\n",
       "0  8249|8250|14378|67361|8284|8257|1955219|8254|6...   \n",
       "1  118737|1305086|4621782|1397441|53118|766713|92...   \n",
       "\n",
       "                                              prices  \\\n",
       "0  74|88|87|72|56|87|244|168|123|50|129|72|151|83...   \n",
       "1  79|241|96|51|68|99|86|69|71|79|91|67|70|56|82|...   \n",
       "\n",
       "                     action_id_pair  timestamp_session_duration  \\\n",
       "0             (clickout item, 8249)                       293.0   \n",
       "1  (interaction item image, 109489)                         1.0   \n",
       "\n",
       "   timestamp_dwell_time_prior_clickout  session_id_size  \\\n",
       "0                                236.0                5   \n",
       "1                                  1.0                2   \n",
       "\n",
       "                                                imps  target  \n",
       "0  [8249, 8250, 14378, 67361, 8284, 8257, 1955219...       0  \n",
       "1  [118737, 1305086, 4621782, 1397441, 53118, 766...      19  "
      ]
     },
     "execution_count": 5,
     "metadata": {},
     "output_type": "execute_result"
    }
   ],
   "source": [
    "df.head(2)"
   ]
  },
  {
   "cell_type": "code",
   "execution_count": 6,
   "metadata": {},
   "outputs": [],
   "source": [
    "ones = df[df['session_id_size']==1].reset_index(drop=True)\n",
    "multiples = df[df['session_id_size']>1].reset_index(drop=True)"
   ]
  },
  {
   "cell_type": "code",
   "execution_count": 7,
   "metadata": {},
   "outputs": [],
   "source": [
    "oids = ones['session_id'].unique()\n",
    "mids = multiples['session_id'].unique()"
   ]
  },
  {
   "cell_type": "markdown",
   "metadata": {},
   "source": [
    "---\n",
    "### ones"
   ]
  },
  {
   "cell_type": "code",
   "execution_count": 8,
   "metadata": {},
   "outputs": [],
   "source": [
    "display_cols = ['session_id', 'step', 'action_type', 'current_filters', 'reference', 'timestamp',\n",
    "                'impressions', 'prices', 'target', 'session_id_size']\n",
    "raw_display_cols = [c for c in train.columns if c in display_cols]"
   ]
  },
  {
   "cell_type": "code",
   "execution_count": 9,
   "metadata": {},
   "outputs": [],
   "source": [
    "# pd.options.display.max_colwidth = 100"
   ]
  },
  {
   "cell_type": "code",
   "execution_count": 10,
   "metadata": {},
   "outputs": [
    {
     "name": "stdout",
     "output_type": "stream",
     "text": [
      "6a67928c1a1cd\n"
     ]
    },
    {
     "data": {
      "text/html": [
       "<div>\n",
       "<style scoped>\n",
       "    .dataframe tbody tr th:only-of-type {\n",
       "        vertical-align: middle;\n",
       "    }\n",
       "\n",
       "    .dataframe tbody tr th {\n",
       "        vertical-align: top;\n",
       "    }\n",
       "\n",
       "    .dataframe thead th {\n",
       "        text-align: right;\n",
       "    }\n",
       "</style>\n",
       "<table border=\"1\" class=\"dataframe\">\n",
       "  <thead>\n",
       "    <tr style=\"text-align: right;\">\n",
       "      <th></th>\n",
       "      <th>session_id</th>\n",
       "      <th>step</th>\n",
       "      <th>action_type</th>\n",
       "      <th>current_filters</th>\n",
       "      <th>reference</th>\n",
       "      <th>timestamp</th>\n",
       "      <th>impressions</th>\n",
       "      <th>prices</th>\n",
       "      <th>target</th>\n",
       "      <th>session_id_size</th>\n",
       "    </tr>\n",
       "  </thead>\n",
       "  <tbody>\n",
       "    <tr>\n",
       "      <th>0</th>\n",
       "      <td>6a67928c1a1cd</td>\n",
       "      <td>1</td>\n",
       "      <td>clickout item</td>\n",
       "      <td>NaN</td>\n",
       "      <td>2281538</td>\n",
       "      <td>2018-11-04 13:05:41</td>\n",
       "      <td>34885|2571030|41619|1744145|2281538|3810086|82...</td>\n",
       "      <td>44|49|49|40|37|40|46|49|38|35|39|35|47|42|45|4...</td>\n",
       "      <td>4</td>\n",
       "      <td>1</td>\n",
       "    </tr>\n",
       "  </tbody>\n",
       "</table>\n",
       "</div>"
      ],
      "text/plain": [
       "      session_id  step    action_type current_filters  reference  \\\n",
       "0  6a67928c1a1cd     1  clickout item             NaN    2281538   \n",
       "\n",
       "            timestamp                                        impressions  \\\n",
       "0 2018-11-04 13:05:41  34885|2571030|41619|1744145|2281538|3810086|82...   \n",
       "\n",
       "                                              prices  target  session_id_size  \n",
       "0  44|49|49|40|37|40|46|49|38|35|39|35|47|42|45|4...       4                1  "
      ]
     },
     "execution_count": 10,
     "metadata": {},
     "output_type": "execute_result"
    }
   ],
   "source": [
    "one_rid = np.random.choice(oids, 1)[0]\n",
    "print(one_rid)\n",
    "df[df.session_id==one_rid][display_cols].reset_index(drop=True)"
   ]
  },
  {
   "cell_type": "code",
   "execution_count": 11,
   "metadata": {},
   "outputs": [
    {
     "name": "stdout",
     "output_type": "stream",
     "text": [
      "{'action_type': ['clickout item'],\n",
      " 'current_filters': [nan],\n",
      " 'impressions': ['34885|2571030|41619|1744145|2281538|3810086|8236454|2268398|2268394|1753495|938410|4539774|5835738|2202954|1753283|824436|1753423|2071362|2071336|2718536|2079142|1003643|3871792|2071346|2933086'],\n",
      " 'prices': ['44|49|49|40|37|40|46|49|38|35|39|35|47|42|45|40|41|30|38|41|35|47|27|26|45'],\n",
      " 'reference': [2281538],\n",
      " 'session_id': ['6a67928c1a1cd'],\n",
      " 'session_id_size': [1],\n",
      " 'step': [1],\n",
      " 'target': [4],\n",
      " 'timestamp': [Timestamp('2018-11-04 13:05:41')]}\n"
     ]
    }
   ],
   "source": [
    "pp.pprint(df[df.session_id==one_rid][display_cols].reset_index(drop=True).to_dict(orient='list'))"
   ]
  },
  {
   "cell_type": "code",
   "execution_count": 23,
   "metadata": {},
   "outputs": [],
   "source": [
    "# # and the raw\n",
    "# train[train.session_id==one_rid][raw_display_cols].reset_index(drop=True)"
   ]
  },
  {
   "cell_type": "code",
   "execution_count": 24,
   "metadata": {},
   "outputs": [],
   "source": [
    "# pp.pprint(train[train.session_id==one_rid][raw_display_cols].reset_index(drop=True).to_dict(orient='list'))"
   ]
  },
  {
   "cell_type": "markdown",
   "metadata": {},
   "source": [
    "---\n",
    "### Longer"
   ]
  },
  {
   "cell_type": "code",
   "execution_count": 25,
   "metadata": {},
   "outputs": [
    {
     "name": "stdout",
     "output_type": "stream",
     "text": [
      "b9b1153cd6aff\n"
     ]
    }
   ],
   "source": [
    "mid_rid = np.random.choice(mids, 1)[0]\n",
    "print(mid_rid)\n",
    "# df[df.session_id==mid_rid][display_cols].reset_index(drop=True)"
   ]
  },
  {
   "cell_type": "code",
   "execution_count": 26,
   "metadata": {},
   "outputs": [
    {
     "data": {
      "text/plain": [
       "array([ 36,  60,  65,  70,  79,  81,  83,  94, 104, 108, 118, 119, 119,\n",
       "       119, 127, 131, 133, 141, 148, 160, 212, 282, 310, 420, 509])"
      ]
     },
     "execution_count": 26,
     "metadata": {},
     "output_type": "execute_result"
    }
   ],
   "source": [
    "np.sort([int(i) for i in df[df.session_id==mid_rid]['prices'].str.split('|').values[0]])"
   ]
  },
  {
   "cell_type": "code",
   "execution_count": 27,
   "metadata": {},
   "outputs": [],
   "source": [
    "# pp.pprint(df[df.session_id==mid_rid][display_cols].reset_index(drop=True).to_dict(orient='list'))"
   ]
  },
  {
   "cell_type": "code",
   "execution_count": 28,
   "metadata": {
    "scrolled": false
   },
   "outputs": [
    {
     "data": {
      "text/html": [
       "<div>\n",
       "<style scoped>\n",
       "    .dataframe tbody tr th:only-of-type {\n",
       "        vertical-align: middle;\n",
       "    }\n",
       "\n",
       "    .dataframe tbody tr th {\n",
       "        vertical-align: top;\n",
       "    }\n",
       "\n",
       "    .dataframe thead th {\n",
       "        text-align: right;\n",
       "    }\n",
       "</style>\n",
       "<table border=\"1\" class=\"dataframe\">\n",
       "  <thead>\n",
       "    <tr style=\"text-align: right;\">\n",
       "      <th></th>\n",
       "      <th>session_id</th>\n",
       "      <th>timestamp</th>\n",
       "      <th>step</th>\n",
       "      <th>action_type</th>\n",
       "      <th>current_filters</th>\n",
       "      <th>reference</th>\n",
       "      <th>impressions</th>\n",
       "      <th>prices</th>\n",
       "    </tr>\n",
       "  </thead>\n",
       "  <tbody>\n",
       "    <tr>\n",
       "      <th>0</th>\n",
       "      <td>b9b1153cd6aff</td>\n",
       "      <td>2018-11-01 16:08:52</td>\n",
       "      <td>2</td>\n",
       "      <td>interaction item image</td>\n",
       "      <td>NaN</td>\n",
       "      <td>17038</td>\n",
       "      <td>NaN</td>\n",
       "      <td>NaN</td>\n",
       "    </tr>\n",
       "    <tr>\n",
       "      <th>1</th>\n",
       "      <td>b9b1153cd6aff</td>\n",
       "      <td>2018-11-01 16:09:09</td>\n",
       "      <td>3</td>\n",
       "      <td>clickout item</td>\n",
       "      <td>NaN</td>\n",
       "      <td>17038</td>\n",
       "      <td>2401930|45583|9943846|150227|5180292|153593|17...</td>\n",
       "      <td>65|70|160|60|104|212|83|509|133|119|81|141|118...</td>\n",
       "    </tr>\n",
       "    <tr>\n",
       "      <th>2</th>\n",
       "      <td>b9b1153cd6aff</td>\n",
       "      <td>2018-11-01 16:43:20</td>\n",
       "      <td>5</td>\n",
       "      <td>interaction item image</td>\n",
       "      <td>NaN</td>\n",
       "      <td>2401930</td>\n",
       "      <td>NaN</td>\n",
       "      <td>NaN</td>\n",
       "    </tr>\n",
       "    <tr>\n",
       "      <th>3</th>\n",
       "      <td>b9b1153cd6aff</td>\n",
       "      <td>2018-11-01 16:43:42</td>\n",
       "      <td>6</td>\n",
       "      <td>clickout item</td>\n",
       "      <td>NaN</td>\n",
       "      <td>2401930</td>\n",
       "      <td>2401930|45583|9943846|150227|5180292|153593|17...</td>\n",
       "      <td>65|70|160|60|104|212|83|509|133|119|81|141|118...</td>\n",
       "    </tr>\n",
       "    <tr>\n",
       "      <th>4</th>\n",
       "      <td>b9b1153cd6aff</td>\n",
       "      <td>2018-11-01 16:50:17</td>\n",
       "      <td>7</td>\n",
       "      <td>clickout item</td>\n",
       "      <td>NaN</td>\n",
       "      <td>45583</td>\n",
       "      <td>2401930|45583|9943846|150227|5180292|153593|17...</td>\n",
       "      <td>65|70|160|60|104|212|83|509|133|119|81|141|118...</td>\n",
       "    </tr>\n",
       "    <tr>\n",
       "      <th>5</th>\n",
       "      <td>b9b1153cd6aff</td>\n",
       "      <td>2018-11-01 16:51:58</td>\n",
       "      <td>8</td>\n",
       "      <td>clickout item</td>\n",
       "      <td>NaN</td>\n",
       "      <td>9943846</td>\n",
       "      <td>2401930|45583|9943846|150227|5180292|153593|17...</td>\n",
       "      <td>65|70|160|60|104|212|83|509|133|119|81|141|118...</td>\n",
       "    </tr>\n",
       "  </tbody>\n",
       "</table>\n",
       "</div>"
      ],
      "text/plain": [
       "      session_id           timestamp  step             action_type  \\\n",
       "0  b9b1153cd6aff 2018-11-01 16:08:52     2  interaction item image   \n",
       "1  b9b1153cd6aff 2018-11-01 16:09:09     3           clickout item   \n",
       "2  b9b1153cd6aff 2018-11-01 16:43:20     5  interaction item image   \n",
       "3  b9b1153cd6aff 2018-11-01 16:43:42     6           clickout item   \n",
       "4  b9b1153cd6aff 2018-11-01 16:50:17     7           clickout item   \n",
       "5  b9b1153cd6aff 2018-11-01 16:51:58     8           clickout item   \n",
       "\n",
       "  current_filters reference  \\\n",
       "0             NaN     17038   \n",
       "1             NaN     17038   \n",
       "2             NaN   2401930   \n",
       "3             NaN   2401930   \n",
       "4             NaN     45583   \n",
       "5             NaN   9943846   \n",
       "\n",
       "                                         impressions  \\\n",
       "0                                                NaN   \n",
       "1  2401930|45583|9943846|150227|5180292|153593|17...   \n",
       "2                                                NaN   \n",
       "3  2401930|45583|9943846|150227|5180292|153593|17...   \n",
       "4  2401930|45583|9943846|150227|5180292|153593|17...   \n",
       "5  2401930|45583|9943846|150227|5180292|153593|17...   \n",
       "\n",
       "                                              prices  \n",
       "0                                                NaN  \n",
       "1  65|70|160|60|104|212|83|509|133|119|81|141|118...  \n",
       "2                                                NaN  \n",
       "3  65|70|160|60|104|212|83|509|133|119|81|141|118...  \n",
       "4  65|70|160|60|104|212|83|509|133|119|81|141|118...  \n",
       "5  65|70|160|60|104|212|83|509|133|119|81|141|118...  "
      ]
     },
     "execution_count": 28,
     "metadata": {},
     "output_type": "execute_result"
    }
   ],
   "source": [
    "# the raw\n",
    "train[train.session_id==mid_rid][raw_display_cols].reset_index(drop=True)"
   ]
  },
  {
   "cell_type": "code",
   "execution_count": 29,
   "metadata": {
    "scrolled": false
   },
   "outputs": [
    {
     "name": "stdout",
     "output_type": "stream",
     "text": [
      "{'action_type': ['interaction item image',\n",
      "                 'clickout item',\n",
      "                 'interaction item image',\n",
      "                 'clickout item',\n",
      "                 'clickout item',\n",
      "                 'clickout item'],\n",
      " 'current_filters': [nan, nan, nan, nan, nan, nan],\n",
      " 'impressions': [nan,\n",
      "                 '2401930|45583|9943846|150227|5180292|153593|17445|10093744|17474|17198|16934|16915|17291|82552|1434428|17256|5523222|17038|17524|17058|17250|17179|5949552|5773240|17315',\n",
      "                 nan,\n",
      "                 '2401930|45583|9943846|150227|5180292|153593|17445|10093744|17474|17198|16934|16915|17291|82552|1434428|17256|5523222|17038|17524|17058|17250|17179|5949552|5773240|17315',\n",
      "                 '2401930|45583|9943846|150227|5180292|153593|17445|10093744|17474|17198|16934|16915|17291|82552|1434428|17256|5523222|17038|17524|17058|17250|17179|5949552|5773240|17315',\n",
      "                 '2401930|45583|9943846|150227|5180292|153593|17445|10093744|17474|17198|16934|16915|17291|82552|1434428|17256|5523222|17038|17524|17058|17250|17179|5949552|5773240|17315'],\n",
      " 'prices': [nan,\n",
      "            '65|70|160|60|104|212|83|509|133|119|81|141|118|36|79|420|108|94|282|119|148|131|310|127|119',\n",
      "            nan,\n",
      "            '65|70|160|60|104|212|83|509|133|119|81|141|118|36|79|420|108|94|282|119|148|131|310|127|119',\n",
      "            '65|70|160|60|104|212|83|509|133|119|81|141|118|36|79|420|108|94|282|119|148|131|310|127|119',\n",
      "            '65|70|160|60|104|212|83|509|133|119|81|141|118|36|79|420|108|94|282|119|148|131|310|127|119'],\n",
      " 'reference': ['17038', '17038', '2401930', '2401930', '45583', '9943846'],\n",
      " 'session_id': ['b9b1153cd6aff',\n",
      "                'b9b1153cd6aff',\n",
      "                'b9b1153cd6aff',\n",
      "                'b9b1153cd6aff',\n",
      "                'b9b1153cd6aff',\n",
      "                'b9b1153cd6aff'],\n",
      " 'step': [2, 3, 5, 6, 7, 8],\n",
      " 'timestamp': [Timestamp('2018-11-01 16:08:52'),\n",
      "               Timestamp('2018-11-01 16:09:09'),\n",
      "               Timestamp('2018-11-01 16:43:20'),\n",
      "               Timestamp('2018-11-01 16:43:42'),\n",
      "               Timestamp('2018-11-01 16:50:17'),\n",
      "               Timestamp('2018-11-01 16:51:58')]}\n"
     ]
    }
   ],
   "source": [
    "pp.pprint(train[train.session_id==mid_rid][raw_display_cols].reset_index(drop=True).to_dict(orient='list'))"
   ]
  },
  {
   "cell_type": "code",
   "execution_count": null,
   "metadata": {},
   "outputs": [],
   "source": []
  },
  {
   "cell_type": "code",
   "execution_count": 19,
   "metadata": {},
   "outputs": [],
   "source": [
    "# dup_mask = train[[c for c in train.columns if c not in ['timestamp', 'step']]].duplicated(keep=False)\n",
    "# dup_mask.sum()"
   ]
  },
  {
   "cell_type": "code",
   "execution_count": 20,
   "metadata": {
    "scrolled": false
   },
   "outputs": [],
   "source": [
    "# dup_cols = [c for c in train.columns if c not in ['timestamp', 'step']]\n",
    "# # train[dup_cols].loc[train[dup_cols].shift(-1) != train[dup_cols]]\n",
    "# train.groupby(dup_cols).apply(lambda x: )"
   ]
  },
  {
   "cell_type": "code",
   "execution_count": 21,
   "metadata": {},
   "outputs": [
    {
     "data": {
      "text/plain": [
       "(326695, 9)"
      ]
     },
     "execution_count": 21,
     "metadata": {},
     "output_type": "execute_result"
    }
   ],
   "source": [
    "train.shape"
   ]
  },
  {
   "cell_type": "code",
   "execution_count": 22,
   "metadata": {},
   "outputs": [
    {
     "data": {
      "text/plain": [
       "0.3045899080181821"
      ]
     },
     "execution_count": 22,
     "metadata": {},
     "output_type": "execute_result"
    }
   ],
   "source": [
    "99508/train.shape[0]"
   ]
  },
  {
   "cell_type": "markdown",
   "metadata": {},
   "source": [
    "### Click-encodings"
   ]
  },
  {
   "cell_type": "code",
   "execution_count": null,
   "metadata": {},
   "outputs": [],
   "source": [
    "from create_model_inputs import click_view_encoding\n",
    "_ = click_view_encoding(sids=None, fold='testing', m=5)"
   ]
  },
  {
   "cell_type": "code",
   "execution_count": null,
   "metadata": {},
   "outputs": [],
   "source": [
    "cv_enc = pd.read_csv('./cache/foldtesting_clickview_encodings.csv')"
   ]
  },
  {
   "cell_type": "code",
   "execution_count": null,
   "metadata": {},
   "outputs": [],
   "source": [
    "cv_enc.shape"
   ]
  },
  {
   "cell_type": "code",
   "execution_count": null,
   "metadata": {},
   "outputs": [],
   "source": [
    "cv_enc['clicked'].hist(bins=100)"
   ]
  },
  {
   "cell_type": "code",
   "execution_count": null,
   "metadata": {},
   "outputs": [],
   "source": []
  }
 ],
 "metadata": {
  "kernelspec": {
   "display_name": "Python 3",
   "language": "python",
   "name": "python3"
  },
  "language_info": {
   "codemirror_mode": {
    "name": "ipython",
    "version": 3
   },
   "file_extension": ".py",
   "mimetype": "text/x-python",
   "name": "python",
   "nbconvert_exporter": "python",
   "pygments_lexer": "ipython3",
   "version": "3.6.8"
  }
 },
 "nbformat": 4,
 "nbformat_minor": 2
}
