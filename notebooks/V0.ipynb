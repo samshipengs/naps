{
 "cells": [
  {
   "cell_type": "markdown",
   "metadata": {},
   "source": [
    "To dos: \n",
    "    \n",
    "    1) EDA on test see if it's similar with train\n",
    "    \n",
    "    2) FE add time compmenets according to different region e.g. day of week etc\n",
    "    \n",
    "    3) test impression list length\n",
    "\n",
    "Notes:\n",
    "\n",
    "    * total train shape: (15,932,992, 12)\n",
    "    * no action type and reference is nan in train"
   ]
  },
  {
   "cell_type": "code",
   "execution_count": 1,
   "metadata": {},
   "outputs": [],
   "source": [
    "import pandas as pd\n",
    "import numpy as np\n",
    "from utils import load_data"
   ]
  },
  {
   "cell_type": "code",
   "execution_count": 30,
   "metadata": {},
   "outputs": [
    {
     "name": "stdout",
     "output_type": "stream",
     "text": [
      "CPU times: user 1.21 s, sys: 91.9 ms, total: 1.31 s\n",
      "Wall time: 1.3 s\n"
     ]
    }
   ],
   "source": [
    "%%time\n",
    "train = load_data('train', nrows=int(1e6))\n",
    "# train = load_data('train', nrows=None)"
   ]
  },
  {
   "cell_type": "markdown",
   "metadata": {},
   "source": [
    "total train shape: (15,932,992, 12)"
   ]
  },
  {
   "cell_type": "code",
   "execution_count": 4,
   "metadata": {},
   "outputs": [
    {
     "data": {
      "text/plain": [
       "(1000000, 12)"
      ]
     },
     "execution_count": 4,
     "metadata": {},
     "output_type": "execute_result"
    }
   ],
   "source": [
    "train.shape"
   ]
  },
  {
   "cell_type": "code",
   "execution_count": 9,
   "metadata": {},
   "outputs": [],
   "source": [
    "ref_act_size = train.groupby(['reference', 'action_type']).size()\n",
    "dist = ref_act_size.groupby(level='action_type').value_counts()"
   ]
  },
  {
   "cell_type": "code",
   "execution_count": 15,
   "metadata": {
    "scrolled": true
   },
   "outputs": [
    {
     "data": {
      "text/plain": [
       "action_type                \n",
       "change of sort order  241          1\n",
       "                      436          1\n",
       "                      623          1\n",
       "                      636          1\n",
       "                      736          1\n",
       "                      2725         1\n",
       "                      4948         1\n",
       "                      14589        1\n",
       "clickout item         1        36790\n",
       "                      2        10392\n",
       "                      3         4092\n",
       "                      4         1935\n",
       "                      5         1050\n",
       "                      6          566\n",
       "                      7          371\n",
       "                      8          242\n",
       "                      9          166\n",
       "                      10         121\n",
       "                      11          97\n",
       "                      12          60\n",
       "                      14          47\n",
       "                      13          36\n",
       "                      15          36\n",
       "                      16          24\n",
       "                      18          21\n",
       "                      17          15\n",
       "                      19          13\n",
       "                      20          11\n",
       "                      21           8\n",
       "                      22           6\n",
       "                               ...  \n",
       "search for poi        27           3\n",
       "                      34           3\n",
       "                      19           2\n",
       "                      22           2\n",
       "                      25           2\n",
       "                      28           2\n",
       "                      32           2\n",
       "                      33           2\n",
       "                      81           2\n",
       "                      20           1\n",
       "                      24           1\n",
       "                      26           1\n",
       "                      29           1\n",
       "                      36           1\n",
       "                      37           1\n",
       "                      39           1\n",
       "                      41           1\n",
       "                      44           1\n",
       "                      45           1\n",
       "                      46           1\n",
       "                      48           1\n",
       "                      51           1\n",
       "                      56           1\n",
       "                      58           1\n",
       "                      61           1\n",
       "                      65           1\n",
       "                      66           1\n",
       "                      82           1\n",
       "                      84           1\n",
       "                      143          1\n",
       "Length: 548, dtype: int64"
      ]
     },
     "execution_count": 15,
     "metadata": {},
     "output_type": "execute_result"
    }
   ],
   "source": [
    "dist"
   ]
  },
  {
   "cell_type": "code",
   "execution_count": 21,
   "metadata": {},
   "outputs": [
    {
     "data": {
      "text/plain": [
       "action_type      \n",
       "clickout item  1     36790\n",
       "               2     10392\n",
       "               3      4092\n",
       "               4      1935\n",
       "               5      1050\n",
       "               6       566\n",
       "               7       371\n",
       "               8       242\n",
       "               9       166\n",
       "               10      121\n",
       "               11       97\n",
       "               12       60\n",
       "               14       47\n",
       "               13       36\n",
       "               15       36\n",
       "               16       24\n",
       "               18       21\n",
       "               17       15\n",
       "               19       13\n",
       "               20       11\n",
       "               21        8\n",
       "               22        6\n",
       "               23        5\n",
       "               24        5\n",
       "               26        4\n",
       "               28        4\n",
       "               32        3\n",
       "               27        2\n",
       "               41        2\n",
       "               25        1\n",
       "               29        1\n",
       "               31        1\n",
       "               34        1\n",
       "               35        1\n",
       "               36        1\n",
       "               37        1\n",
       "               39        1\n",
       "               46        1\n",
       "               48        1\n",
       "               58        1\n",
       "               61        1\n",
       "dtype: int64"
      ]
     },
     "execution_count": 21,
     "metadata": {},
     "output_type": "execute_result"
    }
   ],
   "source": [
    "dist.iloc[dist.index.get_level_values('action_type') == 'clickout item']"
   ]
  },
  {
   "cell_type": "code",
   "execution_count": 33,
   "metadata": {},
   "outputs": [],
   "source": [
    "# clickout_vc = train[train.action_type=='clickout item'].groupby('reference').size().value_counts()"
   ]
  },
  {
   "cell_type": "code",
   "execution_count": 141,
   "metadata": {},
   "outputs": [],
   "source": [
    "ref_act = train[['reference', 'action_type']].copy()\n",
    "ref_act = ref_act[~ref_act.reference.str.contains('[a-zA-Z]')].reset_index(drop=True)\n",
    "unique_actions = ref_act['action_type'].unique()\n",
    "action2natural = {v: k for k, v in enumerate(unique_actions)}\n",
    "action_names = list(action2natural.keys())\n",
    "actions = ref_act['action_type'].map(action2natural).values\n",
    "\n",
    "actions_ohe = pd.DataFrame(np.eye(len(unique_actions), dtype=int)[actions], columns=action_names)"
   ]
  },
  {
   "cell_type": "code",
   "execution_count": 142,
   "metadata": {},
   "outputs": [
    {
     "data": {
      "text/plain": [
       "{'interaction item image': 0,\n",
       " 'clickout item': 1,\n",
       " 'interaction item info': 2,\n",
       " 'interaction item deals': 3,\n",
       " 'interaction item rating': 4,\n",
       " 'search for item': 5}"
      ]
     },
     "execution_count": 142,
     "metadata": {},
     "output_type": "execute_result"
    }
   ],
   "source": [
    "action2natural"
   ]
  },
  {
   "cell_type": "code",
   "execution_count": 143,
   "metadata": {},
   "outputs": [],
   "source": [
    "ref_act = pd.concat([ref_act, actions_ohe], axis=1)"
   ]
  },
  {
   "cell_type": "code",
   "execution_count": 144,
   "metadata": {},
   "outputs": [
    {
     "name": "stdout",
     "output_type": "stream",
     "text": [
      "interaction item image\n",
      "clickout item\n",
      "interaction item info\n",
      "interaction item deals\n",
      "interaction item rating\n",
      "search for item\n"
     ]
    }
   ],
   "source": [
    "M = [2]*6\n",
    "for k, c in enumerate(action_names):\n",
    "    print(c)\n",
    "    # Compute the global mean\n",
    "    mu = ref_act[c].mean()\n",
    "\n",
    "    # Compute the number of values and the mean of each group\n",
    "    agg = ref_act.groupby('reference')[c].agg(['count', 'mean'])\n",
    "    counts = agg['count']\n",
    "    mus = agg['mean']\n",
    "    # Compute the \"smoothed\" means\n",
    "    smoothed = (counts*mus + M[k]*mu)/(counts + M[k])\n",
    "    ref_act[c] = ref_act['reference'].map(smoothed)\n",
    "    #     # Replace each value by the according smoothed mean\n",
    "#     return df[by].map(smooth)"
   ]
  },
  {
   "cell_type": "code",
   "execution_count": 145,
   "metadata": {},
   "outputs": [
    {
     "data": {
      "text/html": [
       "<div>\n",
       "<style scoped>\n",
       "    .dataframe tbody tr th:only-of-type {\n",
       "        vertical-align: middle;\n",
       "    }\n",
       "\n",
       "    .dataframe tbody tr th {\n",
       "        vertical-align: top;\n",
       "    }\n",
       "\n",
       "    .dataframe thead th {\n",
       "        text-align: right;\n",
       "    }\n",
       "</style>\n",
       "<table border=\"1\" class=\"dataframe\">\n",
       "  <thead>\n",
       "    <tr style=\"text-align: right;\">\n",
       "      <th></th>\n",
       "      <th>reference</th>\n",
       "      <th>action_type</th>\n",
       "      <th>interaction item image</th>\n",
       "      <th>clickout item</th>\n",
       "      <th>interaction item info</th>\n",
       "      <th>interaction item deals</th>\n",
       "      <th>interaction item rating</th>\n",
       "      <th>search for item</th>\n",
       "    </tr>\n",
       "  </thead>\n",
       "  <tbody>\n",
       "    <tr>\n",
       "      <th>0</th>\n",
       "      <td>666856</td>\n",
       "      <td>interaction item image</td>\n",
       "      <td>0.865757</td>\n",
       "      <td>0.122273</td>\n",
       "      <td>0.003997</td>\n",
       "      <td>0.002719</td>\n",
       "      <td>0.003063</td>\n",
       "      <td>0.002191</td>\n",
       "    </tr>\n",
       "    <tr>\n",
       "      <th>1</th>\n",
       "      <td>666856</td>\n",
       "      <td>interaction item image</td>\n",
       "      <td>0.865757</td>\n",
       "      <td>0.122273</td>\n",
       "      <td>0.003997</td>\n",
       "      <td>0.002719</td>\n",
       "      <td>0.003063</td>\n",
       "      <td>0.002191</td>\n",
       "    </tr>\n",
       "    <tr>\n",
       "      <th>2</th>\n",
       "      <td>666856</td>\n",
       "      <td>interaction item image</td>\n",
       "      <td>0.865757</td>\n",
       "      <td>0.122273</td>\n",
       "      <td>0.003997</td>\n",
       "      <td>0.002719</td>\n",
       "      <td>0.003063</td>\n",
       "      <td>0.002191</td>\n",
       "    </tr>\n",
       "    <tr>\n",
       "      <th>3</th>\n",
       "      <td>109038</td>\n",
       "      <td>interaction item image</td>\n",
       "      <td>0.610732</td>\n",
       "      <td>0.384280</td>\n",
       "      <td>0.001665</td>\n",
       "      <td>0.001133</td>\n",
       "      <td>0.001276</td>\n",
       "      <td>0.000913</td>\n",
       "    </tr>\n",
       "    <tr>\n",
       "      <th>4</th>\n",
       "      <td>666856</td>\n",
       "      <td>interaction item image</td>\n",
       "      <td>0.865757</td>\n",
       "      <td>0.122273</td>\n",
       "      <td>0.003997</td>\n",
       "      <td>0.002719</td>\n",
       "      <td>0.003063</td>\n",
       "      <td>0.002191</td>\n",
       "    </tr>\n",
       "  </tbody>\n",
       "</table>\n",
       "</div>"
      ],
      "text/plain": [
       "  reference             action_type  interaction item image  clickout item  \\\n",
       "0    666856  interaction item image                0.865757       0.122273   \n",
       "1    666856  interaction item image                0.865757       0.122273   \n",
       "2    666856  interaction item image                0.865757       0.122273   \n",
       "3    109038  interaction item image                0.610732       0.384280   \n",
       "4    666856  interaction item image                0.865757       0.122273   \n",
       "\n",
       "   interaction item info  interaction item deals  interaction item rating  \\\n",
       "0               0.003997                0.002719                 0.003063   \n",
       "1               0.003997                0.002719                 0.003063   \n",
       "2               0.003997                0.002719                 0.003063   \n",
       "3               0.001665                0.001133                 0.001276   \n",
       "4               0.003997                0.002719                 0.003063   \n",
       "\n",
       "   search for item  \n",
       "0         0.002191  \n",
       "1         0.002191  \n",
       "2         0.002191  \n",
       "3         0.000913  \n",
       "4         0.002191  "
      ]
     },
     "execution_count": 145,
     "metadata": {},
     "output_type": "execute_result"
    }
   ],
   "source": [
    "ref_act.head()"
   ]
  },
  {
   "cell_type": "markdown",
   "metadata": {},
   "source": [
    "clicked vs viewed"
   ]
  },
  {
   "cell_type": "code",
   "execution_count": 146,
   "metadata": {
    "scrolled": true
   },
   "outputs": [],
   "source": [
    "ref_imp = train.loc[train.action_type=='clickout item', ['reference', 'impressions']].reset_index(drop=True)\n",
    "ref_imp = ref_imp[~ref_imp.reference.str.contains('[a-zA-Z]')].reset_index(drop=True)\n",
    "# ref_imp = ref_imp[ref_imp]"
   ]
  },
  {
   "cell_type": "code",
   "execution_count": 147,
   "metadata": {
    "scrolled": true
   },
   "outputs": [],
   "source": [
    "ref_imp['impressions'] = ref_imp['impressions'].str.split('|')"
   ]
  },
  {
   "cell_type": "code",
   "execution_count": 148,
   "metadata": {},
   "outputs": [
    {
     "name": "stdout",
     "output_type": "stream",
     "text": [
      "CPU times: user 2.94 s, sys: 3.58 ms, total: 2.94 s\n",
      "Wall time: 2.94 s\n"
     ]
    }
   ],
   "source": [
    "%%time\n",
    "ref_imp['impressions'] = ref_imp.apply(lambda row: list(set(row.impressions) - set([row.reference])), axis=1)"
   ]
  },
  {
   "cell_type": "code",
   "execution_count": 149,
   "metadata": {},
   "outputs": [
    {
     "data": {
      "text/html": [
       "<div>\n",
       "<style scoped>\n",
       "    .dataframe tbody tr th:only-of-type {\n",
       "        vertical-align: middle;\n",
       "    }\n",
       "\n",
       "    .dataframe tbody tr th {\n",
       "        vertical-align: top;\n",
       "    }\n",
       "\n",
       "    .dataframe thead th {\n",
       "        text-align: right;\n",
       "    }\n",
       "</style>\n",
       "<table border=\"1\" class=\"dataframe\">\n",
       "  <thead>\n",
       "    <tr style=\"text-align: right;\">\n",
       "      <th></th>\n",
       "      <th>reference</th>\n",
       "      <th>impressions</th>\n",
       "    </tr>\n",
       "  </thead>\n",
       "  <tbody>\n",
       "    <tr>\n",
       "      <th>0</th>\n",
       "      <td>109038</td>\n",
       "      <td>[55088, 1253714, 666856, 3909420, 1088584, 104...</td>\n",
       "    </tr>\n",
       "    <tr>\n",
       "      <th>1</th>\n",
       "      <td>1257342</td>\n",
       "      <td>[55088, 1332971, 2297972, 2050977, 129343, 116...</td>\n",
       "    </tr>\n",
       "    <tr>\n",
       "      <th>2</th>\n",
       "      <td>2795374</td>\n",
       "      <td>[1258068, 8118684, 3143352, 6652864, 107162, 3...</td>\n",
       "    </tr>\n",
       "    <tr>\n",
       "      <th>3</th>\n",
       "      <td>1032816</td>\n",
       "      <td>[81657, 47687, 46363, 106471, 18425, 18417, 98...</td>\n",
       "    </tr>\n",
       "    <tr>\n",
       "      <th>4</th>\n",
       "      <td>1032816</td>\n",
       "      <td>[81657, 47687, 46363, 106471, 18425, 18417, 98...</td>\n",
       "    </tr>\n",
       "  </tbody>\n",
       "</table>\n",
       "</div>"
      ],
      "text/plain": [
       "  reference                                        impressions\n",
       "0    109038  [55088, 1253714, 666856, 3909420, 1088584, 104...\n",
       "1   1257342  [55088, 1332971, 2297972, 2050977, 129343, 116...\n",
       "2   2795374  [1258068, 8118684, 3143352, 6652864, 107162, 3...\n",
       "3   1032816  [81657, 47687, 46363, 106471, 18425, 18417, 98...\n",
       "4   1032816  [81657, 47687, 46363, 106471, 18425, 18417, 98..."
      ]
     },
     "execution_count": 149,
     "metadata": {},
     "output_type": "execute_result"
    }
   ],
   "source": [
    "ref_imp.head()"
   ]
  },
  {
   "cell_type": "code",
   "execution_count": 150,
   "metadata": {},
   "outputs": [],
   "source": [
    "imps = ref_imp.impressions.values\n",
    "imps = [j for i in imps for j in i]\n",
    "click_imp = pd.concat([pd.Series([0]*len(imps), index=imps), \n",
    "                       pd.Series([1]*len(ref_imp), index=ref_imp.reference.values)])\n",
    "click_imp.index.name = 'item_id'\n",
    "click_imp = pd.DataFrame(click_imp, columns=['clicked']).reset_index()"
   ]
  },
  {
   "cell_type": "code",
   "execution_count": 151,
   "metadata": {},
   "outputs": [],
   "source": [
    "mu = click_imp['clicked'].mean()\n",
    "m = 2\n",
    "agg = click_imp.groupby('item_id')['clicked'].agg(['count', 'mean'])\n",
    "count = agg['count']\n",
    "mus = agg['mean']\n",
    "smoothed = (count*mus + m*mu)/(count + m)\n",
    "click_imp['clicked'] = click_imp['item_id'].map(smoothed)"
   ]
  },
  {
   "cell_type": "code",
   "execution_count": 152,
   "metadata": {},
   "outputs": [
    {
     "data": {
      "text/html": [
       "<div>\n",
       "<style scoped>\n",
       "    .dataframe tbody tr th:only-of-type {\n",
       "        vertical-align: middle;\n",
       "    }\n",
       "\n",
       "    .dataframe tbody tr th {\n",
       "        vertical-align: top;\n",
       "    }\n",
       "\n",
       "    .dataframe thead th {\n",
       "        text-align: right;\n",
       "    }\n",
       "</style>\n",
       "<table border=\"1\" class=\"dataframe\">\n",
       "  <thead>\n",
       "    <tr style=\"text-align: right;\">\n",
       "      <th></th>\n",
       "      <th>item_id</th>\n",
       "      <th>clicked</th>\n",
       "    </tr>\n",
       "  </thead>\n",
       "  <tbody>\n",
       "    <tr>\n",
       "      <th>0</th>\n",
       "      <td>55088</td>\n",
       "      <td>0.009667</td>\n",
       "    </tr>\n",
       "    <tr>\n",
       "      <th>1</th>\n",
       "      <td>1253714</td>\n",
       "      <td>0.012429</td>\n",
       "    </tr>\n",
       "    <tr>\n",
       "      <th>2</th>\n",
       "      <td>666856</td>\n",
       "      <td>0.271751</td>\n",
       "    </tr>\n",
       "    <tr>\n",
       "      <th>3</th>\n",
       "      <td>3909420</td>\n",
       "      <td>0.006692</td>\n",
       "    </tr>\n",
       "    <tr>\n",
       "      <th>4</th>\n",
       "      <td>1088584</td>\n",
       "      <td>0.098818</td>\n",
       "    </tr>\n",
       "  </tbody>\n",
       "</table>\n",
       "</div>"
      ],
      "text/plain": [
       "   item_id   clicked\n",
       "0    55088  0.009667\n",
       "1  1253714  0.012429\n",
       "2   666856  0.271751\n",
       "3  3909420  0.006692\n",
       "4  1088584  0.098818"
      ]
     },
     "execution_count": 152,
     "metadata": {},
     "output_type": "execute_result"
    }
   ],
   "source": [
    "click_imp.head()"
   ]
  },
  {
   "cell_type": "code",
   "execution_count": null,
   "metadata": {},
   "outputs": [],
   "source": []
  }
 ],
 "metadata": {
  "kernelspec": {
   "display_name": "Python 3",
   "language": "python",
   "name": "python3"
  },
  "language_info": {
   "codemirror_mode": {
    "name": "ipython",
    "version": 3
   },
   "file_extension": ".py",
   "mimetype": "text/x-python",
   "name": "python",
   "nbconvert_exporter": "python",
   "pygments_lexer": "ipython3",
   "version": "3.6.8"
  }
 },
 "nbformat": 4,
 "nbformat_minor": 2
}
