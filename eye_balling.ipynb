{
 "cells": [
  {
   "cell_type": "code",
   "execution_count": 1,
   "metadata": {},
   "outputs": [],
   "source": [
    "from utils import load_data, check_gpu, check_dir\n",
    "\n",
    "import pandas as pd\n",
    "import numpy as np\n",
    "from tqdm import tqdm\n",
    "import gc\n",
    "from utils import meta_encoding\n",
    "from functools import partial\n",
    "import matplotlib.pyplot as plt\n",
    "\n",
    "import datetime\n",
    "pd.options.display.max_colwidth = 1000\n",
    "%matplotlib inline\n",
    "%load_ext autoreload\n",
    "%autoreload 2\n",
    "def fprint(df, name):\n",
    "    print(f'{name} shape: ({df.shape[0]:,}, {df.shape[1]})')\n",
    "import pprint\n",
    "pp = pprint.PrettyPrinter(indent=1)"
   ]
  },
  {
   "cell_type": "code",
   "execution_count": 2,
   "metadata": {},
   "outputs": [
    {
     "name": "stderr",
     "output_type": "stream",
     "text": [
      "[06-09 16:12:51 - utils-111 - load_data - INFO] Loading train using 1,000,000 rows (999,995 trimmed) which is 6.28% out of total train data\n"
     ]
    }
   ],
   "source": [
    "train_raw = load_data('train', nrows=1000000)"
   ]
  },
  {
   "cell_type": "code",
   "execution_count": 3,
   "metadata": {},
   "outputs": [],
   "source": [
    "train_ids = train_raw.session_id.unique()"
   ]
  },
  {
   "cell_type": "markdown",
   "metadata": {},
   "source": [
    "### Check clean data"
   ]
  },
  {
   "cell_type": "code",
   "execution_count": null,
   "metadata": {},
   "outputs": [],
   "source": [
    "train_cleaned = pd.read_parquet('gbm_cache/preprocess_train_1000000_no_test_added.snappy')"
   ]
  },
  {
   "cell_type": "code",
   "execution_count": null,
   "metadata": {},
   "outputs": [],
   "source": [
    "rid = np.random.choice(train_ids, 1)[0]\n",
    "rid"
   ]
  },
  {
   "cell_type": "code",
   "execution_count": null,
   "metadata": {},
   "outputs": [],
   "source": [
    "# raw\n",
    "train_raw[train_raw.session_id==rid].head()"
   ]
  },
  {
   "cell_type": "code",
   "execution_count": null,
   "metadata": {},
   "outputs": [],
   "source": [
    "# clean\n",
    "train_cleaned[train_cleaned.session_id==rid].head()"
   ]
  },
  {
   "cell_type": "code",
   "execution_count": null,
   "metadata": {},
   "outputs": [],
   "source": [
    "train_cleaned.action_type.head()"
   ]
  },
  {
   "cell_type": "code",
   "execution_count": null,
   "metadata": {},
   "outputs": [],
   "source": [
    "# check current filters\n",
    "cfs_ids = train_cleaned[train_cleaned.current_filters.notna()].session_id.unique()"
   ]
  },
  {
   "cell_type": "code",
   "execution_count": null,
   "metadata": {},
   "outputs": [],
   "source": [
    "train_cleaned[train_cleaned.session_id==np.random.choice(cfs_ids, 1)[0]]"
   ]
  },
  {
   "cell_type": "markdown",
   "metadata": {},
   "source": [
    "### Check feature generations"
   ]
  },
  {
   "cell_type": "code",
   "execution_count": 7,
   "metadata": {},
   "outputs": [],
   "source": [
    "train_inputs = pd.read_parquet('./gbm_cache/train_inputs_5000000_test_added.snappy')\n",
    "cf_cols = [c for c in train_inputs.columns if 'current_filters' in c]\n",
    "drop_cols = cf_cols  # + ['country', 'platform']\n",
    "# drop cf col for now\n",
    "train_inputs.drop(drop_cols, axis=1, inplace=True)"
   ]
  },
  {
   "cell_type": "code",
   "execution_count": 22,
   "metadata": {},
   "outputs": [
    {
     "data": {
      "text/plain": [
       "'5d669ff3f4a63'"
      ]
     },
     "execution_count": 22,
     "metadata": {},
     "output_type": "execute_result"
    }
   ],
   "source": [
    "rid = np.random.choice(train_ids, 1)[0]\n",
    "rid"
   ]
  },
  {
   "cell_type": "code",
   "execution_count": 23,
   "metadata": {},
   "outputs": [
    {
     "data": {
      "text/html": [
       "<div>\n",
       "<style scoped>\n",
       "    .dataframe tbody tr th:only-of-type {\n",
       "        vertical-align: middle;\n",
       "    }\n",
       "\n",
       "    .dataframe tbody tr th {\n",
       "        vertical-align: top;\n",
       "    }\n",
       "\n",
       "    .dataframe thead th {\n",
       "        text-align: right;\n",
       "    }\n",
       "</style>\n",
       "<table border=\"1\" class=\"dataframe\">\n",
       "  <thead>\n",
       "    <tr style=\"text-align: right;\">\n",
       "      <th></th>\n",
       "      <th>user_id</th>\n",
       "      <th>session_id</th>\n",
       "      <th>timestamp</th>\n",
       "      <th>step</th>\n",
       "      <th>action_type</th>\n",
       "      <th>reference</th>\n",
       "      <th>platform</th>\n",
       "      <th>city</th>\n",
       "      <th>device</th>\n",
       "      <th>current_filters</th>\n",
       "      <th>impressions</th>\n",
       "      <th>prices</th>\n",
       "    </tr>\n",
       "  </thead>\n",
       "  <tbody>\n",
       "    <tr>\n",
       "      <th>0</th>\n",
       "      <td>CZJ71SPWQ5B8</td>\n",
       "      <td>5d669ff3f4a63</td>\n",
       "      <td>1541353187</td>\n",
       "      <td>1</td>\n",
       "      <td>clickout item</td>\n",
       "      <td>4130278</td>\n",
       "      <td>BR</td>\n",
       "      <td>Vitória da Conquista, Brazil</td>\n",
       "      <td>mobile</td>\n",
       "      <td>NaN</td>\n",
       "      <td>8102560|2788292|3956866|4130278|4137472|4138126|2341278|9226022|4786286|7373042|8422934|5056538|9803884|6301998</td>\n",
       "      <td>16|45|38|41|32|40|32|22|57|41|27|36|47|32</td>\n",
       "    </tr>\n",
       "    <tr>\n",
       "      <th>1</th>\n",
       "      <td>CZJ71SPWQ5B8</td>\n",
       "      <td>5d669ff3f4a63</td>\n",
       "      <td>1541353430</td>\n",
       "      <td>2</td>\n",
       "      <td>clickout item</td>\n",
       "      <td>4130278</td>\n",
       "      <td>BR</td>\n",
       "      <td>Vitória da Conquista, Brazil</td>\n",
       "      <td>mobile</td>\n",
       "      <td>NaN</td>\n",
       "      <td>8102560|2788292|3956866|4130278|4137472|4138126|2341278|9226022|4786286|7373042|8422934|5056538|9803884|6301998</td>\n",
       "      <td>16|45|38|41|32|40|32|22|57|41|27|36|47|32</td>\n",
       "    </tr>\n",
       "  </tbody>\n",
       "</table>\n",
       "</div>"
      ],
      "text/plain": [
       "        user_id     session_id   timestamp  step    action_type reference  \\\n",
       "0  CZJ71SPWQ5B8  5d669ff3f4a63  1541353187     1  clickout item   4130278   \n",
       "1  CZJ71SPWQ5B8  5d669ff3f4a63  1541353430     2  clickout item   4130278   \n",
       "\n",
       "  platform                          city  device current_filters  \\\n",
       "0       BR  Vitória da Conquista, Brazil  mobile             NaN   \n",
       "1       BR  Vitória da Conquista, Brazil  mobile             NaN   \n",
       "\n",
       "                                                                                                       impressions  \\\n",
       "0  8102560|2788292|3956866|4130278|4137472|4138126|2341278|9226022|4786286|7373042|8422934|5056538|9803884|6301998   \n",
       "1  8102560|2788292|3956866|4130278|4137472|4138126|2341278|9226022|4786286|7373042|8422934|5056538|9803884|6301998   \n",
       "\n",
       "                                      prices  \n",
       "0  16|45|38|41|32|40|32|22|57|41|27|36|47|32  \n",
       "1  16|45|38|41|32|40|32|22|57|41|27|36|47|32  "
      ]
     },
     "execution_count": 23,
     "metadata": {},
     "output_type": "execute_result"
    }
   ],
   "source": [
    "raw_demo = train_raw[train_raw.session_id==rid].reset_index(drop=True)\n",
    "raw_demo"
   ]
  },
  {
   "cell_type": "code",
   "execution_count": 24,
   "metadata": {},
   "outputs": [
    {
     "data": {
      "text/html": [
       "<div>\n",
       "<style scoped>\n",
       "    .dataframe tbody tr th:only-of-type {\n",
       "        vertical-align: middle;\n",
       "    }\n",
       "\n",
       "    .dataframe tbody tr th {\n",
       "        vertical-align: top;\n",
       "    }\n",
       "\n",
       "    .dataframe thead th {\n",
       "        text-align: right;\n",
       "    }\n",
       "</style>\n",
       "<table border=\"1\" class=\"dataframe\">\n",
       "  <thead>\n",
       "    <tr style=\"text-align: right;\">\n",
       "      <th></th>\n",
       "      <th>session_id</th>\n",
       "      <th>step</th>\n",
       "      <th>device</th>\n",
       "      <th>imp_changed</th>\n",
       "      <th>session_size</th>\n",
       "      <th>session_duration</th>\n",
       "      <th>last_duration</th>\n",
       "      <th>co</th>\n",
       "      <th>search</th>\n",
       "      <th>inter</th>\n",
       "      <th>...</th>\n",
       "      <th>prev_interact_15</th>\n",
       "      <th>prev_interact_16</th>\n",
       "      <th>prev_interact_17</th>\n",
       "      <th>prev_interact_18</th>\n",
       "      <th>prev_interact_19</th>\n",
       "      <th>prev_interact_20</th>\n",
       "      <th>prev_interact_21</th>\n",
       "      <th>prev_interact_22</th>\n",
       "      <th>prev_interact_23</th>\n",
       "      <th>prev_interact_24</th>\n",
       "    </tr>\n",
       "  </thead>\n",
       "  <tbody>\n",
       "    <tr>\n",
       "      <th>0</th>\n",
       "      <td>5d669ff3f4a63</td>\n",
       "      <td>1.0</td>\n",
       "      <td>0</td>\n",
       "      <td>NaN</td>\n",
       "      <td>1</td>\n",
       "      <td>0.0</td>\n",
       "      <td>NaN</td>\n",
       "      <td>NaN</td>\n",
       "      <td>NaN</td>\n",
       "      <td>NaN</td>\n",
       "      <td>...</td>\n",
       "      <td>0.0</td>\n",
       "      <td>0.0</td>\n",
       "      <td>0.0</td>\n",
       "      <td>0.0</td>\n",
       "      <td>0.0</td>\n",
       "      <td>0.0</td>\n",
       "      <td>0.0</td>\n",
       "      <td>0.0</td>\n",
       "      <td>0.0</td>\n",
       "      <td>0.0</td>\n",
       "    </tr>\n",
       "    <tr>\n",
       "      <th>1</th>\n",
       "      <td>5d669ff3f4a63</td>\n",
       "      <td>2.0</td>\n",
       "      <td>0</td>\n",
       "      <td>0.0</td>\n",
       "      <td>2</td>\n",
       "      <td>243.0</td>\n",
       "      <td>243.0</td>\n",
       "      <td>1.0</td>\n",
       "      <td>0.0</td>\n",
       "      <td>0.0</td>\n",
       "      <td>...</td>\n",
       "      <td>0.0</td>\n",
       "      <td>0.0</td>\n",
       "      <td>0.0</td>\n",
       "      <td>0.0</td>\n",
       "      <td>0.0</td>\n",
       "      <td>0.0</td>\n",
       "      <td>0.0</td>\n",
       "      <td>0.0</td>\n",
       "      <td>0.0</td>\n",
       "      <td>0.0</td>\n",
       "    </tr>\n",
       "  </tbody>\n",
       "</table>\n",
       "<p>2 rows × 115 columns</p>\n",
       "</div>"
      ],
      "text/plain": [
       "      session_id  step  device  imp_changed  session_size  session_duration  \\\n",
       "0  5d669ff3f4a63   1.0       0          NaN             1               0.0   \n",
       "1  5d669ff3f4a63   2.0       0          0.0             2             243.0   \n",
       "\n",
       "   last_duration   co  search  inter  ...  prev_interact_15  prev_interact_16  \\\n",
       "0            NaN  NaN     NaN    NaN  ...               0.0               0.0   \n",
       "1          243.0  1.0     0.0    0.0  ...               0.0               0.0   \n",
       "\n",
       "   prev_interact_17  prev_interact_18  prev_interact_19  prev_interact_20  \\\n",
       "0               0.0               0.0               0.0               0.0   \n",
       "1               0.0               0.0               0.0               0.0   \n",
       "\n",
       "   prev_interact_21  prev_interact_22  prev_interact_23  prev_interact_24  \n",
       "0               0.0               0.0               0.0               0.0  \n",
       "1               0.0               0.0               0.0               0.0  \n",
       "\n",
       "[2 rows x 115 columns]"
      ]
     },
     "execution_count": 24,
     "metadata": {},
     "output_type": "execute_result"
    }
   ],
   "source": [
    "input_demo = train_inputs[train_inputs.session_id==rid].reset_index(drop=True)\n",
    "input_demo"
   ]
  },
  {
   "cell_type": "code",
   "execution_count": 25,
   "metadata": {},
   "outputs": [
    {
     "name": "stdout",
     "output_type": "stream",
     "text": [
      "{'co': [nan, 1.0],\n",
      " 'cs': [8.0, 8.0],\n",
      " 'device': [0, 0],\n",
      " 'fs': [33.0, 33.0],\n",
      " 'imp_changed': [nan, 0.0],\n",
      " 'inter': [nan, 0.0],\n",
      " 'last_duration': [nan, 243.00000000000003],\n",
      " 'last_reference_relative_loc': [nan, 0.16],\n",
      " 'n_imps': [14, 14],\n",
      " 'prev_click_0': [nan, 0.0],\n",
      " 'prev_click_1': [nan, 0.0],\n",
      " 'prev_click_10': [nan, 0.0],\n",
      " 'prev_click_11': [nan, 0.0],\n",
      " 'prev_click_12': [nan, 0.0],\n",
      " 'prev_click_13': [nan, 0.0],\n",
      " 'prev_click_14': [0.0, 0.0],\n",
      " 'prev_click_15': [0.0, 0.0],\n",
      " 'prev_click_16': [0.0, 0.0],\n",
      " 'prev_click_17': [0.0, 0.0],\n",
      " 'prev_click_18': [0.0, 0.0],\n",
      " 'prev_click_19': [0.0, 0.0],\n",
      " 'prev_click_2': [nan, 0.0],\n",
      " 'prev_click_20': [0.0, 0.0],\n",
      " 'prev_click_21': [0.0, 0.0],\n",
      " 'prev_click_22': [0.0, 0.0],\n",
      " 'prev_click_23': [0.0, 0.0],\n",
      " 'prev_click_24': [0.0, 0.0],\n",
      " 'prev_click_3': [nan, 1.0],\n",
      " 'prev_click_4': [nan, 0.0],\n",
      " 'prev_click_5': [nan, 0.0],\n",
      " 'prev_click_6': [nan, 0.0],\n",
      " 'prev_click_7': [nan, 0.0],\n",
      " 'prev_click_8': [nan, 0.0],\n",
      " 'prev_click_9': [nan, 0.0],\n",
      " 'prev_interact_0': [nan, 0.0],\n",
      " 'prev_interact_1': [nan, 0.0],\n",
      " 'prev_interact_10': [nan, 0.0],\n",
      " 'prev_interact_11': [nan, 0.0],\n",
      " 'prev_interact_12': [nan, 0.0],\n",
      " 'prev_interact_13': [nan, 0.0],\n",
      " 'prev_interact_14': [0.0, 0.0],\n",
      " 'prev_interact_15': [0.0, 0.0],\n",
      " 'prev_interact_16': [0.0, 0.0],\n",
      " 'prev_interact_17': [0.0, 0.0],\n",
      " 'prev_interact_18': [0.0, 0.0],\n",
      " 'prev_interact_19': [0.0, 0.0],\n",
      " 'prev_interact_2': [nan, 0.0],\n",
      " 'prev_interact_20': [0.0, 0.0],\n",
      " 'prev_interact_21': [0.0, 0.0],\n",
      " 'prev_interact_22': [0.0, 0.0],\n",
      " 'prev_interact_23': [0.0, 0.0],\n",
      " 'prev_interact_24': [0.0, 0.0],\n",
      " 'prev_interact_3': [nan, 0.0],\n",
      " 'prev_interact_4': [nan, 0.0],\n",
      " 'prev_interact_5': [nan, 0.0],\n",
      " 'prev_interact_6': [nan, 0.0],\n",
      " 'prev_interact_7': [nan, 0.0],\n",
      " 'prev_interact_8': [nan, 0.0],\n",
      " 'prev_interact_9': [nan, 0.0],\n",
      " 'prices_0': [0.2807017543859649, 0.2807017543859649],\n",
      " 'prices_1': [0.7894736842105263, 0.7894736842105263],\n",
      " 'prices_10': [0.47368421052631576, 0.47368421052631576],\n",
      " 'prices_11': [0.631578947368421, 0.631578947368421],\n",
      " 'prices_12': [0.8245614035087719, 0.8245614035087719],\n",
      " 'prices_13': [0.5614035087719298, 0.5614035087719298],\n",
      " 'prices_14': [nan, nan],\n",
      " 'prices_15': [nan, nan],\n",
      " 'prices_16': [nan, nan],\n",
      " 'prices_17': [nan, nan],\n",
      " 'prices_18': [nan, nan],\n",
      " 'prices_19': [nan, nan],\n",
      " 'prices_2': [0.6666666666666666, 0.6666666666666666],\n",
      " 'prices_20': [nan, nan],\n",
      " 'prices_21': [nan, nan],\n",
      " 'prices_22': [nan, nan],\n",
      " 'prices_23': [nan, nan],\n",
      " 'prices_24': [nan, nan],\n",
      " 'prices_3': [0.7192982456140351, 0.7192982456140351],\n",
      " 'prices_4': [0.5614035087719298, 0.5614035087719298],\n",
      " 'prices_5': [0.7017543859649122, 0.7017543859649122],\n",
      " 'prices_6': [0.5614035087719298, 0.5614035087719298],\n",
      " 'prices_7': [0.38596491228070173, 0.38596491228070173],\n",
      " 'prices_8': [1.0, 1.0],\n",
      " 'prices_9': [0.7192982456140351, 0.7192982456140351],\n",
      " 'prices_rank_0': [0.09090909090909091, 0.09090909090909091],\n",
      " 'prices_rank_1': [0.8181818181818182, 0.8181818181818182],\n",
      " 'prices_rank_10': [0.2727272727272727, 0.2727272727272727],\n",
      " 'prices_rank_11': [0.45454545454545453, 0.45454545454545453],\n",
      " 'prices_rank_12': [0.9090909090909091, 0.9090909090909091],\n",
      " 'prices_rank_13': [0.36363636363636365, 0.36363636363636365],\n",
      " 'prices_rank_14': [nan, nan],\n",
      " 'prices_rank_15': [nan, nan],\n",
      " 'prices_rank_16': [nan, nan],\n",
      " 'prices_rank_17': [nan, nan],\n",
      " 'prices_rank_18': [nan, nan],\n",
      " 'prices_rank_19': [nan, nan],\n",
      " 'prices_rank_2': [0.5454545454545454, 0.5454545454545454],\n",
      " 'prices_rank_20': [nan, nan],\n",
      " 'prices_rank_21': [nan, nan],\n",
      " 'prices_rank_22': [nan, nan],\n",
      " 'prices_rank_23': [nan, nan],\n",
      " 'prices_rank_24': [nan, nan],\n",
      " 'prices_rank_3': [0.7272727272727273, 0.7272727272727273],\n",
      " 'prices_rank_4': [0.36363636363636365, 0.36363636363636365],\n",
      " 'prices_rank_5': [0.6363636363636364, 0.6363636363636364],\n",
      " 'prices_rank_6': [0.36363636363636365, 0.36363636363636365],\n",
      " 'prices_rank_7': [0.18181818181818182, 0.18181818181818182],\n",
      " 'prices_rank_8': [1.0, 1.0],\n",
      " 'prices_rank_9': [0.7272727272727273, 0.7272727272727273],\n",
      " 'search': [nan, 0.0],\n",
      " 'session_duration': [0.0, 243.00000000000003],\n",
      " 'session_id': ['5d669ff3f4a63', '5d669ff3f4a63'],\n",
      " 'session_size': [1, 2],\n",
      " 'step': [1.0, 2.0],\n",
      " 'target': [3, 3]}\n"
     ]
    }
   ],
   "source": [
    "pp.pprint(input_demo.to_dict(orient='list'))"
   ]
  },
  {
   "cell_type": "code",
   "execution_count": 17,
   "metadata": {},
   "outputs": [
    {
     "data": {
      "text/plain": [
       "{'interaction sort button': 0,\n",
       " 'price only': 1,\n",
       " 'price and recommended': 2,\n",
       " 'distance only': 3,\n",
       " 'distance and recommended': 4,\n",
       " 'rating and recommended': 5,\n",
       " 'rating only': 6,\n",
       " 'our recommendations': 7}"
      ]
     },
     "execution_count": 17,
     "metadata": {},
     "output_type": "execute_result"
    }
   ],
   "source": [
    "from create_model_inputs import change_sort_order_mapping\n",
    "change_sort_order_mapping()"
   ]
  },
  {
   "cell_type": "code",
   "execution_count": null,
   "metadata": {},
   "outputs": [],
   "source": []
  },
  {
   "cell_type": "code",
   "execution_count": null,
   "metadata": {},
   "outputs": [],
   "source": []
  },
  {
   "cell_type": "code",
   "execution_count": null,
   "metadata": {},
   "outputs": [],
   "source": []
  },
  {
   "cell_type": "code",
   "execution_count": null,
   "metadata": {},
   "outputs": [],
   "source": []
  },
  {
   "cell_type": "code",
   "execution_count": null,
   "metadata": {},
   "outputs": [],
   "source": []
  },
  {
   "cell_type": "code",
   "execution_count": null,
   "metadata": {},
   "outputs": [],
   "source": []
  },
  {
   "cell_type": "code",
   "execution_count": null,
   "metadata": {},
   "outputs": [],
   "source": []
  },
  {
   "cell_type": "code",
   "execution_count": null,
   "metadata": {},
   "outputs": [],
   "source": []
  },
  {
   "cell_type": "markdown",
   "metadata": {},
   "source": [
    "### country related"
   ]
  },
  {
   "cell_type": "code",
   "execution_count": null,
   "metadata": {},
   "outputs": [],
   "source": [
    "cp = load_data('train', usecols=['city', 'platform'])"
   ]
  },
  {
   "cell_type": "code",
   "execution_count": null,
   "metadata": {},
   "outputs": [],
   "source": [
    "cp['country'] = cp['city'].str.split(', ').str[-1]\n",
    "cp['country'] = cp['country'].str.lower()"
   ]
  },
  {
   "cell_type": "code",
   "execution_count": null,
   "metadata": {},
   "outputs": [],
   "source": [
    "countries = cp['country'].unique()"
   ]
  },
  {
   "cell_type": "code",
   "execution_count": null,
   "metadata": {},
   "outputs": [],
   "source": [
    "platforms = cp['platform'].unique()"
   ]
  },
  {
   "cell_type": "code",
   "execution_count": null,
   "metadata": {},
   "outputs": [],
   "source": [
    "country2code = np.load('data/country2code.npy').item()"
   ]
  },
  {
   "cell_type": "code",
   "execution_count": null,
   "metadata": {},
   "outputs": [],
   "source": [
    "code2country = np.load('data/code2country.npy').item()"
   ]
  },
  {
   "cell_type": "code",
   "execution_count": null,
   "metadata": {
    "scrolled": false
   },
   "outputs": [],
   "source": [
    "set(countries) - set(list(country2code.keys()))"
   ]
  },
  {
   "cell_type": "code",
   "execution_count": null,
   "metadata": {
    "scrolled": false
   },
   "outputs": [],
   "source": [
    "set(list(country2code.keys())) - set(countries)"
   ]
  },
  {
   "cell_type": "code",
   "execution_count": null,
   "metadata": {},
   "outputs": [],
   "source": [
    "fix_dict = {'bermudas': 'bermuda', \n",
    "            'bes islands': None,\n",
    "            'brunei':'brunei darussalam',\n",
    "            'china': \"people's republic of china\",\n",
    "            'crimea': None,\n",
    "            'curacao': 'netherlands antilles',\n",
    "            'democratic republic of congo': 'congo, the democratic republic of',\n",
    "            'east timor': 'timor',\n",
    "            'french antilles': None,\n",
    "            'guinea-bissau': None,\n",
    "            'iran': 'iran, islamic republic of',\n",
    "            'ivory coast': \"côte d'ivoire\",\n",
    "            'kosovo': None,\n",
    "            'laos': \"lao people's democratic republic\"\n",
    "           }"
   ]
  },
  {
   "cell_type": "code",
   "execution_count": 56,
   "metadata": {},
   "outputs": [
    {
     "data": {
      "text/plain": [
       "13"
      ]
     },
     "execution_count": 56,
     "metadata": {},
     "output_type": "execute_result"
    }
   ],
   "source": [
    "train_raw.impressions.notna()[train_raw.impressions.notna()].index[0]"
   ]
  },
  {
   "cell_type": "code",
   "execution_count": null,
   "metadata": {},
   "outputs": [],
   "source": []
  },
  {
   "cell_type": "code",
   "execution_count": null,
   "metadata": {},
   "outputs": [],
   "source": []
  },
  {
   "cell_type": "code",
   "execution_count": null,
   "metadata": {},
   "outputs": [],
   "source": []
  },
  {
   "cell_type": "code",
   "execution_count": null,
   "metadata": {},
   "outputs": [],
   "source": []
  },
  {
   "cell_type": "code",
   "execution_count": null,
   "metadata": {},
   "outputs": [],
   "source": []
  },
  {
   "cell_type": "code",
   "execution_count": null,
   "metadata": {},
   "outputs": [],
   "source": []
  },
  {
   "cell_type": "code",
   "execution_count": null,
   "metadata": {},
   "outputs": [],
   "source": []
  },
  {
   "cell_type": "code",
   "execution_count": null,
   "metadata": {},
   "outputs": [],
   "source": []
  },
  {
   "cell_type": "code",
   "execution_count": null,
   "metadata": {},
   "outputs": [],
   "source": []
  },
  {
   "cell_type": "code",
   "execution_count": null,
   "metadata": {},
   "outputs": [],
   "source": []
  },
  {
   "cell_type": "code",
   "execution_count": null,
   "metadata": {},
   "outputs": [],
   "source": []
  },
  {
   "cell_type": "code",
   "execution_count": null,
   "metadata": {},
   "outputs": [],
   "source": []
  },
  {
   "cell_type": "code",
   "execution_count": null,
   "metadata": {},
   "outputs": [],
   "source": []
  },
  {
   "cell_type": "code",
   "execution_count": 2,
   "metadata": {},
   "outputs": [],
   "source": [
    "a = pd.read_parquet('./gbm_cache/preprocess_train_5000000_test_added.snappy')"
   ]
  },
  {
   "cell_type": "code",
   "execution_count": 3,
   "metadata": {},
   "outputs": [
    {
     "data": {
      "text/plain": [
       "0    1179940\n",
       "1    4590810\n",
       "2    4590810\n",
       "3    3844380\n",
       "4    9387530\n",
       "Name: reference, dtype: object"
      ]
     },
     "execution_count": 3,
     "metadata": {},
     "output_type": "execute_result"
    }
   ],
   "source": [
    "a.reference.head()"
   ]
  },
  {
   "cell_type": "code",
   "execution_count": 4,
   "metadata": {},
   "outputs": [
    {
     "data": {
      "text/plain": [
       "2"
      ]
     },
     "execution_count": 4,
     "metadata": {},
     "output_type": "execute_result"
    }
   ],
   "source": [
    "a.reference.isna().sum()"
   ]
  },
  {
   "cell_type": "code",
   "execution_count": 5,
   "metadata": {},
   "outputs": [
    {
     "data": {
      "text/html": [
       "<div>\n",
       "<style scoped>\n",
       "    .dataframe tbody tr th:only-of-type {\n",
       "        vertical-align: middle;\n",
       "    }\n",
       "\n",
       "    .dataframe tbody tr th {\n",
       "        vertical-align: top;\n",
       "    }\n",
       "\n",
       "    .dataframe thead th {\n",
       "        text-align: right;\n",
       "    }\n",
       "</style>\n",
       "<table border=\"1\" class=\"dataframe\">\n",
       "  <thead>\n",
       "    <tr style=\"text-align: right;\">\n",
       "      <th></th>\n",
       "      <th>session_id</th>\n",
       "      <th>timestamp</th>\n",
       "      <th>step</th>\n",
       "      <th>action_type</th>\n",
       "      <th>current_filters</th>\n",
       "      <th>reference</th>\n",
       "      <th>impressions</th>\n",
       "      <th>prices</th>\n",
       "      <th>device</th>\n",
       "    </tr>\n",
       "  </thead>\n",
       "  <tbody>\n",
       "    <tr>\n",
       "      <th>404026</th>\n",
       "      <td>2a181b2125efe</td>\n",
       "      <td>2018-11-07 12:13:14</td>\n",
       "      <td>6.0</td>\n",
       "      <td>0</td>\n",
       "      <td>None</td>\n",
       "      <td>None</td>\n",
       "      <td>4622816|3389774|4743270|4090264|4906084|1390332|1949033|7197516|1668209|1857023|9790044|2520372|346171|103993|6402498|513786|9498644|2875112|7038592|1573641|3983502|8119076|2857132|642391|3214070</td>\n",
       "      <td>75|60|50|60|35|30|69|48|56|75|70|32|70|487|54|82|32|30|78|63|92|61|61|50|40</td>\n",
       "      <td>0</td>\n",
       "    </tr>\n",
       "    <tr>\n",
       "      <th>1950802</th>\n",
       "      <td>cbe3752713eee</td>\n",
       "      <td>2018-11-07 20:53:57</td>\n",
       "      <td>5.0</td>\n",
       "      <td>0</td>\n",
       "      <td>None</td>\n",
       "      <td>None</td>\n",
       "      <td>45927|1258844|21154|4719620|873351|21061|21072|21081|21085|21100|21115|21126|21150|45499|45807|1240467|1542573|21057|1666029|7176920|21097|83964|153182|45930|1473027</td>\n",
       "      <td>93|183|240|99|62|166|179|161|94|191|83|65|94|58|74|130|50|60|96|47|511|71|70|124|55</td>\n",
       "      <td>0</td>\n",
       "    </tr>\n",
       "  </tbody>\n",
       "</table>\n",
       "</div>"
      ],
      "text/plain": [
       "            session_id           timestamp  step  action_type current_filters  \\\n",
       "404026   2a181b2125efe 2018-11-07 12:13:14   6.0            0            None   \n",
       "1950802  cbe3752713eee 2018-11-07 20:53:57   5.0            0            None   \n",
       "\n",
       "        reference  \\\n",
       "404026       None   \n",
       "1950802      None   \n",
       "\n",
       "                                                                                                                                                                                                 impressions  \\\n",
       "404026   4622816|3389774|4743270|4090264|4906084|1390332|1949033|7197516|1668209|1857023|9790044|2520372|346171|103993|6402498|513786|9498644|2875112|7038592|1573641|3983502|8119076|2857132|642391|3214070   \n",
       "1950802                                45927|1258844|21154|4719620|873351|21061|21072|21081|21085|21100|21115|21126|21150|45499|45807|1240467|1542573|21057|1666029|7176920|21097|83964|153182|45930|1473027   \n",
       "\n",
       "                                                                                      prices  \\\n",
       "404026           75|60|50|60|35|30|69|48|56|75|70|32|70|487|54|82|32|30|78|63|92|61|61|50|40   \n",
       "1950802  93|183|240|99|62|166|179|161|94|191|83|65|94|58|74|130|50|60|96|47|511|71|70|124|55   \n",
       "\n",
       "         device  \n",
       "404026        0  \n",
       "1950802       0  "
      ]
     },
     "execution_count": 5,
     "metadata": {},
     "output_type": "execute_result"
    }
   ],
   "source": [
    "a[a.reference.isna()]"
   ]
  },
  {
   "cell_type": "code",
   "execution_count": 7,
   "metadata": {},
   "outputs": [],
   "source": [
    "b = pd.read_csv('./data/test.csv')"
   ]
  },
  {
   "cell_type": "code",
   "execution_count": 11,
   "metadata": {},
   "outputs": [
    {
     "data": {
      "text/html": [
       "<div>\n",
       "<style scoped>\n",
       "    .dataframe tbody tr th:only-of-type {\n",
       "        vertical-align: middle;\n",
       "    }\n",
       "\n",
       "    .dataframe tbody tr th {\n",
       "        vertical-align: top;\n",
       "    }\n",
       "\n",
       "    .dataframe thead th {\n",
       "        text-align: right;\n",
       "    }\n",
       "</style>\n",
       "<table border=\"1\" class=\"dataframe\">\n",
       "  <thead>\n",
       "    <tr style=\"text-align: right;\">\n",
       "      <th></th>\n",
       "      <th>user_id</th>\n",
       "      <th>session_id</th>\n",
       "      <th>timestamp</th>\n",
       "      <th>step</th>\n",
       "      <th>action_type</th>\n",
       "      <th>reference</th>\n",
       "      <th>platform</th>\n",
       "      <th>city</th>\n",
       "      <th>device</th>\n",
       "      <th>current_filters</th>\n",
       "      <th>impressions</th>\n",
       "      <th>prices</th>\n",
       "    </tr>\n",
       "  </thead>\n",
       "  <tbody>\n",
       "    <tr>\n",
       "      <th>2955288</th>\n",
       "      <td>7X4FZTVRCDQA</td>\n",
       "      <td>2a181b2125efe</td>\n",
       "      <td>2018-11-08 13:31:16</td>\n",
       "      <td>1</td>\n",
       "      <td>clickout item</td>\n",
       "      <td>45643</td>\n",
       "      <td>IT</td>\n",
       "      <td>Catania, Italy</td>\n",
       "      <td>mobile</td>\n",
       "      <td>NaN</td>\n",
       "      <td>45643|2609026|20210|20238|2774322|20207|20212|20213|20209|20215|20219|1838087|3134547|1277780|104016|1501099|45885|926493|1331335|3894602|3049100|20236|103708|5835954|20220</td>\n",
       "      <td>110|74|84|103|77|98|132|113|59|61|94|45|81|64|92|93|174|93|60|79|71|57|66|104|55</td>\n",
       "    </tr>\n",
       "    <tr>\n",
       "      <th>2955289</th>\n",
       "      <td>7X4FZTVRCDQA</td>\n",
       "      <td>2a181b2125efe</td>\n",
       "      <td>2018-11-08 13:33:14</td>\n",
       "      <td>2</td>\n",
       "      <td>clickout item</td>\n",
       "      <td>104016</td>\n",
       "      <td>IT</td>\n",
       "      <td>Catania, Italy</td>\n",
       "      <td>mobile</td>\n",
       "      <td>NaN</td>\n",
       "      <td>45643|2609026|20210|20238|2774322|20207|20212|20213|20209|20215|20219|1838087|3134547|1277780|104016|1501099|45885|926493|1331335|3894602|3049100|20236|103708|5835954|20220</td>\n",
       "      <td>110|74|84|103|77|98|132|113|59|61|94|45|81|64|92|93|174|93|60|79|71|57|66|104|55</td>\n",
       "    </tr>\n",
       "    <tr>\n",
       "      <th>2955290</th>\n",
       "      <td>7X4FZTVRCDQA</td>\n",
       "      <td>2a181b2125efe</td>\n",
       "      <td>2018-11-08 13:35:31</td>\n",
       "      <td>3</td>\n",
       "      <td>clickout item</td>\n",
       "      <td>1694719</td>\n",
       "      <td>IT</td>\n",
       "      <td>Aci Castello, Italy</td>\n",
       "      <td>mobile</td>\n",
       "      <td>NaN</td>\n",
       "      <td>103708|5835954|449296|1223484|3049100|3813262|3492814|20219|1233899|16746|973075|995623|1041214|20239|1346229|6240332|2861186|1152752|693311|1869703|8590236|643926|8185994|3134553|1694719</td>\n",
       "      <td>56|100|59|42|84|69|119|95|69|810|52|51|32|30|60|63|57|39|69|68|64|49|74|62|49</td>\n",
       "    </tr>\n",
       "    <tr>\n",
       "      <th>2955291</th>\n",
       "      <td>7X4FZTVRCDQA</td>\n",
       "      <td>2a181b2125efe</td>\n",
       "      <td>2018-11-07 12:11:39</td>\n",
       "      <td>1</td>\n",
       "      <td>search for destination</td>\n",
       "      <td>Giardini-Naxos, Italy</td>\n",
       "      <td>IT</td>\n",
       "      <td>Giardini-Naxos, Italy</td>\n",
       "      <td>mobile</td>\n",
       "      <td>NaN</td>\n",
       "      <td>NaN</td>\n",
       "      <td>NaN</td>\n",
       "    </tr>\n",
       "    <tr>\n",
       "      <th>2955292</th>\n",
       "      <td>7X4FZTVRCDQA</td>\n",
       "      <td>2a181b2125efe</td>\n",
       "      <td>2018-11-07 12:11:53</td>\n",
       "      <td>2</td>\n",
       "      <td>interaction item image</td>\n",
       "      <td>101278</td>\n",
       "      <td>IT</td>\n",
       "      <td>Giardini-Naxos, Italy</td>\n",
       "      <td>mobile</td>\n",
       "      <td>NaN</td>\n",
       "      <td>NaN</td>\n",
       "      <td>NaN</td>\n",
       "    </tr>\n",
       "    <tr>\n",
       "      <th>2955293</th>\n",
       "      <td>7X4FZTVRCDQA</td>\n",
       "      <td>2a181b2125efe</td>\n",
       "      <td>2018-11-07 12:11:53</td>\n",
       "      <td>3</td>\n",
       "      <td>interaction item image</td>\n",
       "      <td>101278</td>\n",
       "      <td>IT</td>\n",
       "      <td>Giardini-Naxos, Italy</td>\n",
       "      <td>mobile</td>\n",
       "      <td>NaN</td>\n",
       "      <td>NaN</td>\n",
       "      <td>NaN</td>\n",
       "    </tr>\n",
       "    <tr>\n",
       "      <th>2955294</th>\n",
       "      <td>7X4FZTVRCDQA</td>\n",
       "      <td>2a181b2125efe</td>\n",
       "      <td>2018-11-07 12:11:57</td>\n",
       "      <td>4</td>\n",
       "      <td>clickout item</td>\n",
       "      <td>101278</td>\n",
       "      <td>IT</td>\n",
       "      <td>Giardini-Naxos, Italy</td>\n",
       "      <td>mobile</td>\n",
       "      <td>NaN</td>\n",
       "      <td>101278|94907|101279|897473|965647|1269352|2808272|97214|513601|195131|4279974|4062968|1632921|3520100|7974094|1969143|1842355|5755448|3370994|1033342|2516532|3789928|977641|1714237|3125476</td>\n",
       "      <td>55|999|139|158|800|50|50|1056|62|50|30|50|55|50|48|59|38|50|50|46|39|45|200|43|30</td>\n",
       "    </tr>\n",
       "    <tr>\n",
       "      <th>2955295</th>\n",
       "      <td>7X4FZTVRCDQA</td>\n",
       "      <td>2a181b2125efe</td>\n",
       "      <td>2018-11-07 12:13:01</td>\n",
       "      <td>5</td>\n",
       "      <td>search for destination</td>\n",
       "      <td>Falcone, Italy</td>\n",
       "      <td>IT</td>\n",
       "      <td>Falcone, Italy</td>\n",
       "      <td>mobile</td>\n",
       "      <td>NaN</td>\n",
       "      <td>NaN</td>\n",
       "      <td>NaN</td>\n",
       "    </tr>\n",
       "    <tr>\n",
       "      <th>2955296</th>\n",
       "      <td>7X4FZTVRCDQA</td>\n",
       "      <td>2a181b2125efe</td>\n",
       "      <td>2018-11-07 12:13:14</td>\n",
       "      <td>6</td>\n",
       "      <td>clickout item</td>\n",
       "      <td>NaN</td>\n",
       "      <td>IT</td>\n",
       "      <td>Falcone, Italy</td>\n",
       "      <td>mobile</td>\n",
       "      <td>NaN</td>\n",
       "      <td>4622816|3389774|4743270|4090264|4906084|1390332|1949033|7197516|1668209|1857023|9790044|2520372|346171|103993|6402498|513786|9498644|2875112|7038592|1573641|3983502|8119076|2857132|642391|3214070</td>\n",
       "      <td>75|60|50|60|35|30|69|48|56|75|70|32|70|487|54|82|32|30|78|63|92|61|61|50|40</td>\n",
       "    </tr>\n",
       "  </tbody>\n",
       "</table>\n",
       "</div>"
      ],
      "text/plain": [
       "              user_id     session_id           timestamp  step  \\\n",
       "2955288  7X4FZTVRCDQA  2a181b2125efe 2018-11-08 13:31:16     1   \n",
       "2955289  7X4FZTVRCDQA  2a181b2125efe 2018-11-08 13:33:14     2   \n",
       "2955290  7X4FZTVRCDQA  2a181b2125efe 2018-11-08 13:35:31     3   \n",
       "2955291  7X4FZTVRCDQA  2a181b2125efe 2018-11-07 12:11:39     1   \n",
       "2955292  7X4FZTVRCDQA  2a181b2125efe 2018-11-07 12:11:53     2   \n",
       "2955293  7X4FZTVRCDQA  2a181b2125efe 2018-11-07 12:11:53     3   \n",
       "2955294  7X4FZTVRCDQA  2a181b2125efe 2018-11-07 12:11:57     4   \n",
       "2955295  7X4FZTVRCDQA  2a181b2125efe 2018-11-07 12:13:01     5   \n",
       "2955296  7X4FZTVRCDQA  2a181b2125efe 2018-11-07 12:13:14     6   \n",
       "\n",
       "                    action_type              reference platform  \\\n",
       "2955288           clickout item                  45643       IT   \n",
       "2955289           clickout item                 104016       IT   \n",
       "2955290           clickout item                1694719       IT   \n",
       "2955291  search for destination  Giardini-Naxos, Italy       IT   \n",
       "2955292  interaction item image                 101278       IT   \n",
       "2955293  interaction item image                 101278       IT   \n",
       "2955294           clickout item                 101278       IT   \n",
       "2955295  search for destination         Falcone, Italy       IT   \n",
       "2955296           clickout item                    NaN       IT   \n",
       "\n",
       "                          city  device current_filters  \\\n",
       "2955288         Catania, Italy  mobile             NaN   \n",
       "2955289         Catania, Italy  mobile             NaN   \n",
       "2955290    Aci Castello, Italy  mobile             NaN   \n",
       "2955291  Giardini-Naxos, Italy  mobile             NaN   \n",
       "2955292  Giardini-Naxos, Italy  mobile             NaN   \n",
       "2955293  Giardini-Naxos, Italy  mobile             NaN   \n",
       "2955294  Giardini-Naxos, Italy  mobile             NaN   \n",
       "2955295         Falcone, Italy  mobile             NaN   \n",
       "2955296         Falcone, Italy  mobile             NaN   \n",
       "\n",
       "                                                                                                                                                                                                 impressions  \\\n",
       "2955288                         45643|2609026|20210|20238|2774322|20207|20212|20213|20209|20215|20219|1838087|3134547|1277780|104016|1501099|45885|926493|1331335|3894602|3049100|20236|103708|5835954|20220   \n",
       "2955289                         45643|2609026|20210|20238|2774322|20207|20212|20213|20209|20215|20219|1838087|3134547|1277780|104016|1501099|45885|926493|1331335|3894602|3049100|20236|103708|5835954|20220   \n",
       "2955290          103708|5835954|449296|1223484|3049100|3813262|3492814|20219|1233899|16746|973075|995623|1041214|20239|1346229|6240332|2861186|1152752|693311|1869703|8590236|643926|8185994|3134553|1694719   \n",
       "2955291                                                                                                                                                                                                  NaN   \n",
       "2955292                                                                                                                                                                                                  NaN   \n",
       "2955293                                                                                                                                                                                                  NaN   \n",
       "2955294         101278|94907|101279|897473|965647|1269352|2808272|97214|513601|195131|4279974|4062968|1632921|3520100|7974094|1969143|1842355|5755448|3370994|1033342|2516532|3789928|977641|1714237|3125476   \n",
       "2955295                                                                                                                                                                                                  NaN   \n",
       "2955296  4622816|3389774|4743270|4090264|4906084|1390332|1949033|7197516|1668209|1857023|9790044|2520372|346171|103993|6402498|513786|9498644|2875112|7038592|1573641|3983502|8119076|2857132|642391|3214070   \n",
       "\n",
       "                                                                                    prices  \n",
       "2955288   110|74|84|103|77|98|132|113|59|61|94|45|81|64|92|93|174|93|60|79|71|57|66|104|55  \n",
       "2955289   110|74|84|103|77|98|132|113|59|61|94|45|81|64|92|93|174|93|60|79|71|57|66|104|55  \n",
       "2955290      56|100|59|42|84|69|119|95|69|810|52|51|32|30|60|63|57|39|69|68|64|49|74|62|49  \n",
       "2955291                                                                                NaN  \n",
       "2955292                                                                                NaN  \n",
       "2955293                                                                                NaN  \n",
       "2955294  55|999|139|158|800|50|50|1056|62|50|30|50|55|50|48|59|38|50|50|46|39|45|200|43|30  \n",
       "2955295                                                                                NaN  \n",
       "2955296        75|60|50|60|35|30|69|48|56|75|70|32|70|487|54|82|32|30|78|63|92|61|61|50|40  "
      ]
     },
     "execution_count": 11,
     "metadata": {},
     "output_type": "execute_result"
    }
   ],
   "source": [
    "b[b.session_id=='2a181b2125efe']"
   ]
  },
  {
   "cell_type": "code",
   "execution_count": 9,
   "metadata": {},
   "outputs": [],
   "source": [
    "import datetime\n",
    "b['timestamp'] = b['timestamp'].apply(lambda ts: datetime.datetime.utcfromtimestamp(ts))\n"
   ]
  },
  {
   "cell_type": "code",
   "execution_count": 10,
   "metadata": {},
   "outputs": [
    {
     "data": {
      "text/plain": [
       "0         2018-11-07 01:53:34\n",
       "1         2018-11-07 01:53:34\n",
       "2         2018-11-07 01:54:56\n",
       "3         2018-11-07 01:55:07\n",
       "4         2018-11-07 01:55:17\n",
       "5         2018-11-07 01:56:32\n",
       "6         2018-11-07 01:56:39\n",
       "7         2018-11-07 06:08:55\n",
       "8         2018-11-07 06:09:00\n",
       "9         2018-11-08 04:36:06\n",
       "10        2018-11-08 04:37:03\n",
       "11        2018-11-07 07:24:53\n",
       "12        2018-11-07 07:25:03\n",
       "13        2018-11-07 07:25:03\n",
       "14        2018-11-07 07:25:16\n",
       "15        2018-11-07 07:27:23\n",
       "16        2018-11-08 12:27:51\n",
       "17        2018-11-08 12:28:03\n",
       "18        2018-11-08 12:28:03\n",
       "19        2018-11-08 12:28:05\n",
       "20        2018-11-08 12:28:16\n",
       "21        2018-11-08 12:28:24\n",
       "22        2018-11-08 12:28:24\n",
       "23        2018-11-08 12:31:01\n",
       "24        2018-11-08 12:31:01\n",
       "25        2018-11-08 12:31:11\n",
       "26        2018-11-08 12:31:11\n",
       "27        2018-11-08 12:31:11\n",
       "28        2018-11-08 12:31:11\n",
       "29        2018-11-08 12:31:11\n",
       "                  ...        \n",
       "3782305   2018-11-08 17:07:26\n",
       "3782306   2018-11-08 17:07:26\n",
       "3782307   2018-11-08 17:07:26\n",
       "3782308   2018-11-08 17:07:26\n",
       "3782309   2018-11-08 17:07:26\n",
       "3782310   2018-11-08 17:07:26\n",
       "3782311   2018-11-08 17:07:26\n",
       "3782312   2018-11-08 17:07:26\n",
       "3782313   2018-11-08 17:07:26\n",
       "3782314   2018-11-08 17:07:26\n",
       "3782315   2018-11-08 17:07:31\n",
       "3782316   2018-11-08 17:47:03\n",
       "3782317   2018-11-08 17:47:49\n",
       "3782318   2018-11-08 18:49:30\n",
       "3782319   2018-11-08 18:50:12\n",
       "3782320   2018-11-08 18:50:34\n",
       "3782321   2018-11-08 18:50:38\n",
       "3782322   2018-11-07 23:45:16\n",
       "3782323   2018-11-07 23:46:23\n",
       "3782324   2018-11-07 23:46:23\n",
       "3782325   2018-11-07 23:46:24\n",
       "3782326   2018-11-08 16:36:28\n",
       "3782327   2018-11-08 16:36:59\n",
       "3782328   2018-11-07 00:51:11\n",
       "3782329   2018-11-07 00:51:28\n",
       "3782330   2018-11-07 00:51:28\n",
       "3782331   2018-11-07 00:51:31\n",
       "3782332   2018-11-07 00:51:39\n",
       "3782333   2018-11-07 00:52:25\n",
       "3782334   2018-11-07 14:32:58\n",
       "Name: timestamp, Length: 3782335, dtype: datetime64[ns]"
      ]
     },
     "execution_count": 10,
     "metadata": {},
     "output_type": "execute_result"
    }
   ],
   "source": [
    "b.timestamp"
   ]
  },
  {
   "cell_type": "code",
   "execution_count": null,
   "metadata": {},
   "outputs": [],
   "source": []
  }
 ],
 "metadata": {
  "kernelspec": {
   "display_name": "Python 3",
   "language": "python",
   "name": "python3"
  },
  "language_info": {
   "codemirror_mode": {
    "name": "ipython",
    "version": 3
   },
   "file_extension": ".py",
   "mimetype": "text/x-python",
   "name": "python",
   "nbconvert_exporter": "python",
   "pygments_lexer": "ipython3",
   "version": "3.6.8"
  }
 },
 "nbformat": 4,
 "nbformat_minor": 2
}
