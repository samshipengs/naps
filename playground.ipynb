{
 "cells": [
  {
   "cell_type": "code",
   "execution_count": 1,
   "metadata": {},
   "outputs": [],
   "source": [
    "from utils import load_data, check_gpu, check_dir\n",
    "from clean_session import preprocess_sessions\n",
    "import pandas as pd\n",
    "import numpy as np\n",
    "from tqdm import tqdm\n",
    "import gc\n",
    "import catboost as cat\n",
    "import matplotlib.pyplot as plt\n",
    "from clean_session import preprocess_sessions\n",
    "from manual_encoding import action_encoding, click_view_encoding, meta_encoding\n",
    "from hotel2vec import hotel2vec\n",
    "\n",
    "%matplotlib inline\n",
    "%load_ext autoreload\n",
    "%autoreload 2"
   ]
  },
  {
   "cell_type": "code",
   "execution_count": 2,
   "metadata": {},
   "outputs": [],
   "source": [
    "def plot_imp(data, fold_, plot_n=15):\n",
    "    check_dir('./imps')\n",
    "    imp = pd.DataFrame.from_records(data)\n",
    "    imp.to_csv(f'./imps/{fold_}.csv', index=False)\n",
    "    imp.columns = ['features', 'feature_importance']\n",
    "    imp_des = imp.sort_values(by='feature_importance', ascending=False)\n",
    "    imp_asc = imp.sort_values(by='feature_importance', ascending=True)\n",
    "\n",
    "    fig, axes = plt.subplots(figsize=(8, 8), nrows=2, ncols=1)\n",
    "    imp_des[:plot_n].plot(x='features', y='feature_importance', ax=axes[0], kind='barh', grid=True)\n",
    "    imp_asc[:plot_n].plot(x='features', y='feature_importance', ax=axes[1], kind='barh', grid=True)\n",
    "    plt.tight_layout()\n",
    "    fig.savefig('./imps/{}.png'.format(fold_))"
   ]
  },
  {
   "cell_type": "code",
   "execution_count": 3,
   "metadata": {},
   "outputs": [],
   "source": [
    "train = load_data('train', nrows=10000)"
   ]
  },
  {
   "cell_type": "code",
   "execution_count": 4,
   "metadata": {},
   "outputs": [
    {
     "name": "stdout",
     "output_type": "stream",
     "text": [
      "[>>>>>] Remove initial duplciates\n",
      "Before dropping duplicates df shape: (10000, 12)\n",
      "After dropping duplicates df shape: (4171, 12)\n",
      "[>>>>>][te=0.00 mins] Cliping session dataframe up to last click out (if there is clickout)\n",
      "[>>>>>][te=0.01 mins] filtering out sessions without clickouts, reference, or clickout is nan\n",
      "train length before filtering: 3,637\n",
      "train length after filtering: 3,317\n",
      "CPU times: user 843 ms, sys: 9.85 ms, total: 853 ms\n",
      "Wall time: 841 ms\n"
     ]
    }
   ],
   "source": [
    "%%time\n",
    "train = preprocess_sessions(train, data_source='train', rd=True)"
   ]
  },
  {
   "cell_type": "code",
   "execution_count": 5,
   "metadata": {},
   "outputs": [
    {
     "name": "stdout",
     "output_type": "stream",
     "text": [
      "CPU times: user 5.09 ms, sys: 345 µs, total: 5.43 ms\n",
      "Wall time: 5.35 ms\n"
     ]
    }
   ],
   "source": [
    "%%time\n",
    "train_last = train.groupby('session_id').last().reset_index()\n",
    "del train"
   ]
  },
  {
   "cell_type": "code",
   "execution_count": 6,
   "metadata": {},
   "outputs": [
    {
     "name": "stdout",
     "output_type": "stream",
     "text": [
      "CPU times: user 867 µs, sys: 290 µs, total: 1.16 ms\n",
      "Wall time: 934 µs\n"
     ]
    }
   ],
   "source": [
    "%%time\n",
    "drop_cols = ['user_id', 'timestamp', 'current_filters']\n",
    "train_last = train_last.drop(drop_cols, axis=1)"
   ]
  },
  {
   "cell_type": "code",
   "execution_count": 7,
   "metadata": {},
   "outputs": [
    {
     "name": "stdout",
     "output_type": "stream",
     "text": [
      "CPU times: user 1.74 ms, sys: 0 ns, total: 1.74 ms\n",
      "Wall time: 1.7 ms\n"
     ]
    }
   ],
   "source": [
    "%%time\n",
    "train_last['impressions'] = train_last.impressions.str.split('|')\n",
    "train_last['prices'] = train_last.prices.str.split('|')"
   ]
  },
  {
   "cell_type": "code",
   "execution_count": 8,
   "metadata": {},
   "outputs": [
    {
     "data": {
      "text/plain": [
       "session_id     0\n",
       "step           0\n",
       "action_type    0\n",
       "reference      0\n",
       "platform       0\n",
       "city           0\n",
       "device         0\n",
       "impressions    0\n",
       "prices         0\n",
       "dtype: int64"
      ]
     },
     "execution_count": 8,
     "metadata": {},
     "output_type": "execute_result"
    }
   ],
   "source": [
    "train_last.isna().sum()"
   ]
  },
  {
   "cell_type": "code",
   "execution_count": 9,
   "metadata": {},
   "outputs": [
    {
     "data": {
      "text/plain": [
       "(528, 9)"
      ]
     },
     "execution_count": 9,
     "metadata": {},
     "output_type": "execute_result"
    }
   ],
   "source": [
    "train_last.shape"
   ]
  },
  {
   "cell_type": "code",
   "execution_count": 10,
   "metadata": {},
   "outputs": [
    {
     "data": {
      "text/plain": [
       "10850"
      ]
     },
     "execution_count": 10,
     "metadata": {},
     "output_type": "execute_result"
    }
   ],
   "source": [
    "434*25"
   ]
  },
  {
   "cell_type": "code",
   "execution_count": 11,
   "metadata": {},
   "outputs": [],
   "source": [
    "# train_last[[c for c in train_last.columns if c!= 'impressions']].values.shape"
   ]
  },
  {
   "cell_type": "code",
   "execution_count": 12,
   "metadata": {},
   "outputs": [],
   "source": [
    "# # train_last.impressions\n",
    "# vals = train_last.impressions.values.tolist()\n"
   ]
  },
  {
   "cell_type": "code",
   "execution_count": 13,
   "metadata": {},
   "outputs": [
    {
     "name": "stdout",
     "output_type": "stream",
     "text": [
      "CPU times: user 39.7 ms, sys: 3.58 ms, total: 43.2 ms\n",
      "Wall time: 42.8 ms\n"
     ]
    }
   ],
   "source": [
    "%%time\n",
    "def explode(df):\n",
    "    impressions = df['impressions'].values.tolist()\n",
    "    prices = df['prices'].values.tolist()\n",
    "    \n",
    "    rs = [len(r) for r in impressions]\n",
    "    # locations\n",
    "    inds = np.concatenate([np.arange(i, dtype=int) for i in rs])\n",
    "    # relative locations\n",
    "    rel_inds = np.concatenate([np.arange(i)/i for i in rs])\n",
    "\n",
    "    # the rest cols\n",
    "    rest_cols = [c for c in df.columns if c not in ['impressions', 'prices']]\n",
    "    rest_arr = np.repeat(df[rest_cols].values, rs, axis=0)\n",
    "    # create dataframe to host the exploded\n",
    "    exploded = pd.DataFrame(np.column_stack((rest_arr, np.concatenate(impressions), np.concatenate(prices))),\n",
    "                            columns=rest_cols+['impression', 'price'])\n",
    "    exploded['price'] = exploded['price'].astype(int)\n",
    "    exploded['impression_loc'] = inds\n",
    "    exploded['rel_impression_loc'] = rel_inds\n",
    "    exploded['impression'] = exploded['impression'].astype(int)\n",
    "    exploded['reference'] = exploded['reference'].astype(int)\n",
    "    exploded['step'] = exploded['step'].astype(int)\n",
    "\n",
    "    return exploded\n",
    "\n",
    "df = explode(train_last)\n",
    "del train_last\n",
    "gc.collect()"
   ]
  },
  {
   "cell_type": "code",
   "execution_count": 14,
   "metadata": {},
   "outputs": [
    {
     "data": {
      "text/plain": [
       "(12129, 11)"
      ]
     },
     "execution_count": 14,
     "metadata": {},
     "output_type": "execute_result"
    }
   ],
   "source": [
    "df.shape"
   ]
  },
  {
   "cell_type": "code",
   "execution_count": 15,
   "metadata": {},
   "outputs": [
    {
     "data": {
      "text/html": [
       "<div>\n",
       "<style scoped>\n",
       "    .dataframe tbody tr th:only-of-type {\n",
       "        vertical-align: middle;\n",
       "    }\n",
       "\n",
       "    .dataframe tbody tr th {\n",
       "        vertical-align: top;\n",
       "    }\n",
       "\n",
       "    .dataframe thead th {\n",
       "        text-align: right;\n",
       "    }\n",
       "</style>\n",
       "<table border=\"1\" class=\"dataframe\">\n",
       "  <thead>\n",
       "    <tr style=\"text-align: right;\">\n",
       "      <th></th>\n",
       "      <th>session_id</th>\n",
       "      <th>step</th>\n",
       "      <th>action_type</th>\n",
       "      <th>reference</th>\n",
       "      <th>platform</th>\n",
       "      <th>city</th>\n",
       "      <th>device</th>\n",
       "      <th>impression</th>\n",
       "      <th>price</th>\n",
       "      <th>impression_loc</th>\n",
       "      <th>rel_impression_loc</th>\n",
       "    </tr>\n",
       "  </thead>\n",
       "  <tbody>\n",
       "    <tr>\n",
       "      <th>0</th>\n",
       "      <td>0266e4f67c9c9</td>\n",
       "      <td>7</td>\n",
       "      <td>clickout item</td>\n",
       "      <td>1068254</td>\n",
       "      <td>NZ</td>\n",
       "      <td>Akaroa, New Zealand</td>\n",
       "      <td>desktop</td>\n",
       "      <td>995989</td>\n",
       "      <td>113</td>\n",
       "      <td>0</td>\n",
       "      <td>0.000000</td>\n",
       "    </tr>\n",
       "    <tr>\n",
       "      <th>1</th>\n",
       "      <td>0266e4f67c9c9</td>\n",
       "      <td>7</td>\n",
       "      <td>clickout item</td>\n",
       "      <td>1068254</td>\n",
       "      <td>NZ</td>\n",
       "      <td>Akaroa, New Zealand</td>\n",
       "      <td>desktop</td>\n",
       "      <td>674721</td>\n",
       "      <td>90</td>\n",
       "      <td>1</td>\n",
       "      <td>0.043478</td>\n",
       "    </tr>\n",
       "    <tr>\n",
       "      <th>2</th>\n",
       "      <td>0266e4f67c9c9</td>\n",
       "      <td>7</td>\n",
       "      <td>clickout item</td>\n",
       "      <td>1068254</td>\n",
       "      <td>NZ</td>\n",
       "      <td>Akaroa, New Zealand</td>\n",
       "      <td>desktop</td>\n",
       "      <td>995935</td>\n",
       "      <td>130</td>\n",
       "      <td>2</td>\n",
       "      <td>0.086957</td>\n",
       "    </tr>\n",
       "    <tr>\n",
       "      <th>3</th>\n",
       "      <td>0266e4f67c9c9</td>\n",
       "      <td>7</td>\n",
       "      <td>clickout item</td>\n",
       "      <td>1068254</td>\n",
       "      <td>NZ</td>\n",
       "      <td>Akaroa, New Zealand</td>\n",
       "      <td>desktop</td>\n",
       "      <td>2176108</td>\n",
       "      <td>130</td>\n",
       "      <td>3</td>\n",
       "      <td>0.130435</td>\n",
       "    </tr>\n",
       "    <tr>\n",
       "      <th>4</th>\n",
       "      <td>0266e4f67c9c9</td>\n",
       "      <td>7</td>\n",
       "      <td>clickout item</td>\n",
       "      <td>1068254</td>\n",
       "      <td>NZ</td>\n",
       "      <td>Akaroa, New Zealand</td>\n",
       "      <td>desktop</td>\n",
       "      <td>510141</td>\n",
       "      <td>103</td>\n",
       "      <td>4</td>\n",
       "      <td>0.173913</td>\n",
       "    </tr>\n",
       "  </tbody>\n",
       "</table>\n",
       "</div>"
      ],
      "text/plain": [
       "      session_id  step    action_type  reference platform  \\\n",
       "0  0266e4f67c9c9     7  clickout item    1068254       NZ   \n",
       "1  0266e4f67c9c9     7  clickout item    1068254       NZ   \n",
       "2  0266e4f67c9c9     7  clickout item    1068254       NZ   \n",
       "3  0266e4f67c9c9     7  clickout item    1068254       NZ   \n",
       "4  0266e4f67c9c9     7  clickout item    1068254       NZ   \n",
       "\n",
       "                  city   device  impression  price  impression_loc  \\\n",
       "0  Akaroa, New Zealand  desktop      995989    113               0   \n",
       "1  Akaroa, New Zealand  desktop      674721     90               1   \n",
       "2  Akaroa, New Zealand  desktop      995935    130               2   \n",
       "3  Akaroa, New Zealand  desktop     2176108    130               3   \n",
       "4  Akaroa, New Zealand  desktop      510141    103               4   \n",
       "\n",
       "   rel_impression_loc  \n",
       "0            0.000000  \n",
       "1            0.043478  \n",
       "2            0.086957  \n",
       "3            0.130435  \n",
       "4            0.173913  "
      ]
     },
     "execution_count": 15,
     "metadata": {},
     "output_type": "execute_result"
    }
   ],
   "source": [
    "df.head()"
   ]
  },
  {
   "cell_type": "code",
   "execution_count": 19,
   "metadata": {
    "scrolled": true
   },
   "outputs": [
    {
     "name": "stdout",
     "output_type": "stream",
     "text": [
      "Smooth with means weights: [2, 2, 2, 2, 2, 2]\n",
      "smooth encoding >>> interaction item image\n",
      "smooth encoding >>> clickout item\n",
      "smooth encoding >>> interaction item info\n",
      "smooth encoding >>> interaction item deals\n",
      "smooth encoding >>> interaction item rating\n",
      "smooth encoding >>> search for item\n",
      "(10731, 124)\n",
      "[>>>>>] Load the existing hotel2vec model from ./cache/hotel_2vec/embeddings.csv\n",
      "Load from exsiting file: ./cache/meta_encodings.csv\n"
     ]
    }
   ],
   "source": [
    "# 1) all the manual encodings\n",
    "ae = action_encoding(recompute=True)\n",
    "ae_cols = [c for c in ae.columns if c != 'reference']\n",
    "df = pd.merge(df.set_index('impression'), ae.set_index('reference'), left_index=True, right_index=True)\n",
    "df.index.name = 'impression'\n",
    "df.reset_index(inplace=True)\n",
    "print(df.shape)\n",
    "\n",
    "# 2) the hotel2vec encodings\n",
    "hv = hotel2vec()\n",
    "hv_cols = [c for c in hv.columns if c != 'item_id']\n",
    "df = pd.merge(df.set_index('impression'), hv.set_index('item_id'), left_index=True, right_index=True)\n",
    "df.index.name = 'impression'\n",
    "df.reset_index(inplace=True)\n",
    "\n",
    "# 3) click view\n",
    "cv = click_view_encoding(recompute=True)\n",
    "cv_cols = [c for c in cv.columns if c != 'item_id']\n",
    "df = pd.merge(df.set_index('impression'), cv.set_index('item_id'), left_index=True, right_index=True)\n",
    "df.index.name = 'impression'\n",
    "df.reset_index(inplace=True)\n",
    "\n",
    "# 4) meta\n",
    "meta = meta_encoding()\n",
    "meta_cols = [c for c in meta.columns if c != 'item_id']\n",
    "df = pd.merge(df.set_index('impression'), meta.set_index('item_id'), left_index=True, right_index=True)\n",
    "df.index.name = 'impression'\n",
    "df.reset_index(inplace=True)\n",
    "\n",
    "# df.groupby('session_id')['price'].mean()"
   ]
  },
  {
   "cell_type": "code",
   "execution_count": 20,
   "metadata": {},
   "outputs": [
    {
     "data": {
      "text/plain": [
       "(10729, 383)"
      ]
     },
     "execution_count": 20,
     "metadata": {},
     "output_type": "execute_result"
    }
   ],
   "source": [
    "df.shape"
   ]
  },
  {
   "cell_type": "code",
   "execution_count": 22,
   "metadata": {},
   "outputs": [
    {
     "data": {
      "text/plain": [
       "3"
      ]
     },
     "execution_count": 22,
     "metadata": {},
     "output_type": "execute_result"
    }
   ],
   "source": [
    "[1,2,3].pop(2)"
   ]
  },
  {
   "cell_type": "code",
   "execution_count": null,
   "metadata": {},
   "outputs": [],
   "source": [
    "grp = df.groupby('session_id')"
   ]
  },
  {
   "cell_type": "code",
   "execution_count": null,
   "metadata": {},
   "outputs": [],
   "source": [
    "# hv_cols"
   ]
  },
  {
   "cell_type": "code",
   "execution_count": 18,
   "metadata": {},
   "outputs": [
    {
     "ename": "TypeError",
     "evalue": "'int' object is not iterable",
     "output_type": "error",
     "traceback": [
      "\u001b[0;31m---------------------------------------------------------------------------\u001b[0m",
      "\u001b[0;31mTypeError\u001b[0m                                 Traceback (most recent call last)",
      "\u001b[0;32m<ipython-input-18-f1930cbfb410>\u001b[0m in \u001b[0;36m<module>\u001b[0;34m()\u001b[0m\n\u001b[0;32m----> 1\u001b[0;31m \u001b[0mset\u001b[0m\u001b[0;34m(\u001b[0m\u001b[0;36m3\u001b[0m\u001b[0;34m)\u001b[0m\u001b[0;34m\u001b[0m\u001b[0;34m\u001b[0m\u001b[0m\n\u001b[0m",
      "\u001b[0;31mTypeError\u001b[0m: 'int' object is not iterable"
     ]
    }
   ],
   "source": [
    "set(3)"
   ]
  },
  {
   "cell_type": "code",
   "execution_count": null,
   "metadata": {},
   "outputs": [],
   "source": [
    "def compute_diff(df, cols):\n",
    "    diff = (df.set_index('session_id')[cols] - grp[cols].mean()).reset_index(drop=True)\n",
    "    diff.columns = [f'{c}_diff' for c in diff.columns]\n",
    "    df = pd.concat([df, diff], axis=1)\n",
    "    return df\n",
    "\n",
    "df = compute_diff(df, ['price'])\n",
    "df = compute_diff(df, ae_cols)\n",
    "df = compute_diff(df, hv_cols)\n",
    "df = compute_diff(df, cv_cols)\n",
    "df = compute_diff(df, meta_cols)"
   ]
  },
  {
   "cell_type": "code",
   "execution_count": null,
   "metadata": {},
   "outputs": [],
   "source": [
    "df.shape"
   ]
  },
  {
   "cell_type": "code",
   "execution_count": null,
   "metadata": {},
   "outputs": [],
   "source": [
    "df.to_hdf()"
   ]
  },
  {
   "cell_type": "code",
   "execution_count": null,
   "metadata": {},
   "outputs": [],
   "source": [
    "df.head()"
   ]
  },
  {
   "cell_type": "code",
   "execution_count": null,
   "metadata": {},
   "outputs": [],
   "source": [
    "# drop_cols = ['user_id', 'timestamp', 'current_filters']\n",
    "# df = df.drop(drop_cols, axis=1)"
   ]
  },
  {
   "cell_type": "code",
   "execution_count": null,
   "metadata": {},
   "outputs": [],
   "source": [
    "# create target\n",
    "df['target'] = (df.reference == df.impression).astype(int)\n",
    "del df['reference']"
   ]
  },
  {
   "cell_type": "code",
   "execution_count": null,
   "metadata": {},
   "outputs": [],
   "source": [
    "df['target'].value_counts()"
   ]
  },
  {
   "cell_type": "code",
   "execution_count": null,
   "metadata": {},
   "outputs": [],
   "source": [
    "8243/434"
   ]
  },
  {
   "cell_type": "code",
   "execution_count": null,
   "metadata": {},
   "outputs": [],
   "source": [
    "df.isna().sum()[df.isna().sum()!=0]"
   ]
  },
  {
   "cell_type": "code",
   "execution_count": null,
   "metadata": {},
   "outputs": [],
   "source": [
    "# encode city, platform and device\n",
    "def categorize(df, cols):\n",
    "    for col in cols:\n",
    "        print('converting', col)\n",
    "        unique_values = df[col].unique()\n",
    "        mapping = {v: k for k, v in enumerate(unique_values)}\n",
    "        df[col] = df[col].map(mapping)\n",
    "cat_fts = ['city', 'platform', 'device', 'action_type', 'impression']\n",
    "categorize(df, cat_fts)"
   ]
  },
  {
   "cell_type": "code",
   "execution_count": null,
   "metadata": {},
   "outputs": [],
   "source": [
    "df.dtypes[df.dtypes=='O']"
   ]
  },
  {
   "cell_type": "code",
   "execution_count": null,
   "metadata": {},
   "outputs": [],
   "source": [
    "# split_per = 0.1\n",
    "from sklearn.model_selection import StratifiedKFold\n",
    "skf = StratifiedKFold(n_splits=5)\n",
    "\n",
    "sids = df.session_id.values\n",
    "target = df.target.values\n",
    "del df['target']# train['timestamp'], train['session_id']\n"
   ]
  },
  {
   "cell_type": "code",
   "execution_count": null,
   "metadata": {},
   "outputs": [],
   "source": [
    "device = 'GPU' if check_gpu() else 'CPU'\n",
    "params = {'iterations': 1000,\n",
    "          'learning_rate': 0.02,\n",
    "          'depth': 8,\n",
    "          'task_type': device,\n",
    "          'loss_function': 'MultiClass',\n",
    "          'eval_metric': 'Accuracy'}"
   ]
  },
  {
   "cell_type": "code",
   "execution_count": null,
   "metadata": {},
   "outputs": [],
   "source": [
    "for trn_ind, val_ind in skf.split(sids, sids):\n",
    "    trn_mask = df.session_id.isin(sids[trn_ind])\n",
    "    del df['session_id']\n",
    "    x_trn, x_val = df[trn_mask], df[~trn_mask]\n",
    "    y_trn, y_val = target[trn_mask], target[~trn_mask]\n",
    "    \n",
    "    categorical_ind = [k for k, v in enumerate(x_trn.columns) if v in cat_fts]\n",
    "    \n",
    "    # train model\n",
    "    clf = cat.CatBoostClassifier(**params)\n",
    "    clf.fit(x_trn.values, y_trn,\n",
    "            cat_features=categorical_ind,\n",
    "            eval_set=(x_val.values, y_val),\n",
    "            early_stopping_rounds=100,\n",
    "            verbose=100,\n",
    "            plot=False)\n",
    "    print('Done!')\n",
    "    print('Grab feature importance for both train and val')\n",
    "    # get feature importance\n",
    "    trn_imp = clf.get_feature_importance(data=cat.Pool(data=x_trn, cat_features=categorical_ind),\n",
    "                                         prettified=True)\n",
    "    val_imp = clf.get_feature_importance(data=cat.Pool(data=x_val, cat_features=categorical_ind),\n",
    "                                         prettified=True)\n",
    "    plot_imp(trn_imp, 'train')\n",
    "    plot_imp(val_imp, 'val')\n",
    "    print('Done feature imp')\n",
    "    break\n",
    "#     # make prediction on validation set\n",
    "#     val_pred = clf.predict_proba(xval.values)[:, 1]\n",
    "#     logloss_i = log_loss(y_val, val_pred)\n",
    "#     # compute roc auc\n",
    "#     fpr, tpr, thresholds = roc_curve(y_val, val_pred, pos_label=1)\n",
    "#     auc_i = auc(fpr, tpr)\n",
    "#     # compute map\n",
    "#     map_i = average_precision_score(y_val, val_pred)\n",
    "#     print('logloss={0:.4f} | map={1:.4f} | auc={2:.4f}'.format(logloss_i, map_i, auc_i))\n",
    "\n",
    "#     # mrr\n",
    "#     print('reciproical rank for validation set')\n",
    "#     xval['pred'] = val_pred\n",
    "#     xval['target'] = y_val\n",
    "#     val_rr = xval.groupby(level=0).apply(reciprocal_rank)\n",
    "#     mrr = (1/val_rr[val_rr != 0]).mean()\n",
    "#     print(f'Mean reciporical rank on validation set: {mrr:.4f}')\n"
   ]
  }
 ],
 "metadata": {
  "kernelspec": {
   "display_name": "Python 3",
   "language": "python",
   "name": "python3"
  },
  "language_info": {
   "codemirror_mode": {
    "name": "ipython",
    "version": 3
   },
   "file_extension": ".py",
   "mimetype": "text/x-python",
   "name": "python",
   "nbconvert_exporter": "python",
   "pygments_lexer": "ipython3",
   "version": "3.6.8"
  }
 },
 "nbformat": 4,
 "nbformat_minor": 2
}
