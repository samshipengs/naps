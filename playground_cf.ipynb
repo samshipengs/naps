{
 "cells": [
  {
   "cell_type": "code",
   "execution_count": 1,
   "metadata": {},
   "outputs": [],
   "source": [
    "from utils import load_data, check_gpu, check_dir\n",
    "from clean_session import preprocess_sessions\n",
    "import pandas as pd\n",
    "import numpy as np\n",
    "from tqdm import tqdm\n",
    "import gc\n",
    "import matplotlib.pyplot as plt\n",
    "from clean_session import preprocess_sessions\n",
    "from create_model_inputs import prepare_data, compute_session_fts\n",
    "# from manual_encoding import action_encoding, click_view_encoding, meta_encoding\n",
    "# from hotel2vec import hotel2vec\n",
    "import datetime\n",
    "%matplotlib inline\n",
    "%load_ext autoreload\n",
    "%autoreload 2\n",
    "def fprint(df, name):\n",
    "    print(f'{name} shape: ({df.shape[0]:,}, {df.shape[1]})')\n",
    "    "
   ]
  },
  {
   "cell_type": "code",
   "execution_count": null,
   "metadata": {},
   "outputs": [],
   "source": [
    "# train = load_data('train', nrows=5000000)"
   ]
  },
  {
   "cell_type": "code",
   "execution_count": null,
   "metadata": {},
   "outputs": [],
   "source": [
    "# train.action_type.unique()"
   ]
  },
  {
   "cell_type": "code",
   "execution_count": null,
   "metadata": {},
   "outputs": [],
   "source": [
    "# train.action_type.nunique()"
   ]
  },
  {
   "cell_type": "code",
   "execution_count": 15,
   "metadata": {},
   "outputs": [
    {
     "name": "stderr",
     "output_type": "stream",
     "text": [
      "[05-14 07:56:44 - utils-106 - load_data - INFO] Loading train using 1,000,000 rows (999,995 trimmed) which is 6.28% out of total train data\n",
      "[05-14 07:56:44 - create_model_inputs-17 - flogger - INFO] raw train shape: (999,995, 12)\n",
      "[05-14 07:56:44 - clean_session-60 - preprocess_sessions - INFO] Dropping duplicates\n",
      "[05-14 07:56:44 - clean_session-18 - remove_duplicates - INFO] Before dropping duplicates df shape: (999,995, 12)\n",
      "[05-14 07:56:45 - clean_session-21 - remove_duplicates - INFO] After dropping duplicates df shape: (421,117, 12)\n",
      "[05-14 07:56:45 - clean_session-62 - preprocess_sessions - INFO] Cliping session dataframe up to last click out (if there is clickout)\n",
      "[05-14 07:57:08 - clean_session-65 - preprocess_sessions - INFO] Filtering out sessions without clickouts, reference, or clickout is nan\n",
      "[05-14 07:57:08 - clean_session-66 - preprocess_sessions - INFO] train length before filtering no click-out, or nan reference and click-out sessions: 362,672\n",
      "[05-14 07:57:56 - clean_session-74 - preprocess_sessions - INFO] train length after filtering: 326,695\n",
      "[05-14 07:57:56 - clean_session-76 - preprocess_sessions - INFO] Saving ./cache/preprocessed_train.snappy\n",
      "[05-14 07:57:57 - create_model_inputs-77 - prepare_data - INFO] Sort df by user_id, session_id, timestamp, step\n",
      "[05-14 07:57:57 - create_model_inputs-17 - flogger - INFO] Prepared train data shape: (326,695, 9)\n",
      "[05-14 07:58:30 - create_model_inputs-179 - compute_session_fts - INFO] Session features generated: ['timestamp_session_duration', 'timestamp_dwell_time_prior_clickout', 'current_filters_last_filters', 'session_id_size']\n"
     ]
    }
   ],
   "source": [
    "mode = 'train'\n",
    "nrows = 1000000\n",
    "# df = load_data('train', nrows=nrows)\n",
    "df = prepare_data(mode, convert_action_type=False, nrows=nrows, recompute=True)\n",
    "df = compute_session_fts(df, mode)"
   ]
  },
  {
   "cell_type": "code",
   "execution_count": 16,
   "metadata": {},
   "outputs": [],
   "source": [
    "sids = df.session_id.unique()"
   ]
  },
  {
   "cell_type": "code",
   "execution_count": 29,
   "metadata": {},
   "outputs": [
    {
     "data": {
      "text/plain": [
       "'fbdea6023f5b0'"
      ]
     },
     "execution_count": 29,
     "metadata": {},
     "output_type": "execute_result"
    }
   ],
   "source": [
    "rid = np.random.choice(sids, 1)[0]\n",
    "rid"
   ]
  },
  {
   "cell_type": "code",
   "execution_count": 30,
   "metadata": {},
   "outputs": [
    {
     "data": {
      "text/html": [
       "<div>\n",
       "<style scoped>\n",
       "    .dataframe tbody tr th:only-of-type {\n",
       "        vertical-align: middle;\n",
       "    }\n",
       "\n",
       "    .dataframe tbody tr th {\n",
       "        vertical-align: top;\n",
       "    }\n",
       "\n",
       "    .dataframe thead th {\n",
       "        text-align: right;\n",
       "    }\n",
       "</style>\n",
       "<table border=\"1\" class=\"dataframe\">\n",
       "  <thead>\n",
       "    <tr style=\"text-align: right;\">\n",
       "      <th></th>\n",
       "      <th>user_id</th>\n",
       "      <th>session_id</th>\n",
       "      <th>timestamp</th>\n",
       "      <th>step</th>\n",
       "      <th>action_type</th>\n",
       "      <th>current_filters</th>\n",
       "      <th>reference</th>\n",
       "      <th>impressions</th>\n",
       "      <th>prices</th>\n",
       "      <th>timestamp_session_duration</th>\n",
       "      <th>timestamp_dwell_time_prior_clickout</th>\n",
       "      <th>current_filters_last_filters</th>\n",
       "      <th>session_id_size</th>\n",
       "    </tr>\n",
       "  </thead>\n",
       "  <tbody>\n",
       "    <tr>\n",
       "      <th>251268</th>\n",
       "      <td>QVTSQD8X27Y5</td>\n",
       "      <td>fbdea6023f5b0</td>\n",
       "      <td>2018-11-05 01:03:03</td>\n",
       "      <td>1</td>\n",
       "      <td>clickout item</td>\n",
       "      <td>NaN</td>\n",
       "      <td>1649739</td>\n",
       "      <td>1649739|478616|1330207|152438|478256|104507|10...</td>\n",
       "      <td>69|77|106|52|68|36|45|70|76|63|69|57|31|39|67|...</td>\n",
       "      <td>615.0</td>\n",
       "      <td>38.0</td>\n",
       "      <td>Best Value</td>\n",
       "      <td>6</td>\n",
       "    </tr>\n",
       "    <tr>\n",
       "      <th>251269</th>\n",
       "      <td>QVTSQD8X27Y5</td>\n",
       "      <td>fbdea6023f5b0</td>\n",
       "      <td>2018-11-05 01:11:11</td>\n",
       "      <td>2</td>\n",
       "      <td>change of sort order</td>\n",
       "      <td>NaN</td>\n",
       "      <td>interaction sort button</td>\n",
       "      <td>NaN</td>\n",
       "      <td>NaN</td>\n",
       "      <td>615.0</td>\n",
       "      <td>38.0</td>\n",
       "      <td>Best Value</td>\n",
       "      <td>6</td>\n",
       "    </tr>\n",
       "    <tr>\n",
       "      <th>251270</th>\n",
       "      <td>QVTSQD8X27Y5</td>\n",
       "      <td>fbdea6023f5b0</td>\n",
       "      <td>2018-11-05 01:11:13</td>\n",
       "      <td>3</td>\n",
       "      <td>change of sort order</td>\n",
       "      <td>NaN</td>\n",
       "      <td>price and recommended</td>\n",
       "      <td>NaN</td>\n",
       "      <td>NaN</td>\n",
       "      <td>615.0</td>\n",
       "      <td>38.0</td>\n",
       "      <td>Best Value</td>\n",
       "      <td>6</td>\n",
       "    </tr>\n",
       "    <tr>\n",
       "      <th>251271</th>\n",
       "      <td>QVTSQD8X27Y5</td>\n",
       "      <td>fbdea6023f5b0</td>\n",
       "      <td>2018-11-05 01:11:13</td>\n",
       "      <td>4</td>\n",
       "      <td>filter selection</td>\n",
       "      <td>Best Value</td>\n",
       "      <td>Best Value</td>\n",
       "      <td>NaN</td>\n",
       "      <td>NaN</td>\n",
       "      <td>615.0</td>\n",
       "      <td>38.0</td>\n",
       "      <td>Best Value</td>\n",
       "      <td>6</td>\n",
       "    </tr>\n",
       "    <tr>\n",
       "      <th>251272</th>\n",
       "      <td>QVTSQD8X27Y5</td>\n",
       "      <td>fbdea6023f5b0</td>\n",
       "      <td>2018-11-05 01:12:40</td>\n",
       "      <td>5</td>\n",
       "      <td>search for item</td>\n",
       "      <td>NaN</td>\n",
       "      <td>104832</td>\n",
       "      <td>NaN</td>\n",
       "      <td>NaN</td>\n",
       "      <td>615.0</td>\n",
       "      <td>38.0</td>\n",
       "      <td>Best Value</td>\n",
       "      <td>6</td>\n",
       "    </tr>\n",
       "    <tr>\n",
       "      <th>251273</th>\n",
       "      <td>QVTSQD8X27Y5</td>\n",
       "      <td>fbdea6023f5b0</td>\n",
       "      <td>2018-11-05 01:13:18</td>\n",
       "      <td>6</td>\n",
       "      <td>clickout item</td>\n",
       "      <td>NaN</td>\n",
       "      <td>1189712</td>\n",
       "      <td>478616|1330207|478256|2755492|1241263|1474801|...</td>\n",
       "      <td>503|805|397|238|147|361|175|209|196|245|198|23...</td>\n",
       "      <td>615.0</td>\n",
       "      <td>38.0</td>\n",
       "      <td>Best Value</td>\n",
       "      <td>6</td>\n",
       "    </tr>\n",
       "  </tbody>\n",
       "</table>\n",
       "</div>"
      ],
      "text/plain": [
       "             user_id     session_id           timestamp  step  \\\n",
       "251268  QVTSQD8X27Y5  fbdea6023f5b0 2018-11-05 01:03:03     1   \n",
       "251269  QVTSQD8X27Y5  fbdea6023f5b0 2018-11-05 01:11:11     2   \n",
       "251270  QVTSQD8X27Y5  fbdea6023f5b0 2018-11-05 01:11:13     3   \n",
       "251271  QVTSQD8X27Y5  fbdea6023f5b0 2018-11-05 01:11:13     4   \n",
       "251272  QVTSQD8X27Y5  fbdea6023f5b0 2018-11-05 01:12:40     5   \n",
       "251273  QVTSQD8X27Y5  fbdea6023f5b0 2018-11-05 01:13:18     6   \n",
       "\n",
       "                 action_type current_filters                reference  \\\n",
       "251268         clickout item             NaN                  1649739   \n",
       "251269  change of sort order             NaN  interaction sort button   \n",
       "251270  change of sort order             NaN    price and recommended   \n",
       "251271      filter selection      Best Value               Best Value   \n",
       "251272       search for item             NaN                   104832   \n",
       "251273         clickout item             NaN                  1189712   \n",
       "\n",
       "                                              impressions  \\\n",
       "251268  1649739|478616|1330207|152438|478256|104507|10...   \n",
       "251269                                                NaN   \n",
       "251270                                                NaN   \n",
       "251271                                                NaN   \n",
       "251272                                                NaN   \n",
       "251273  478616|1330207|478256|2755492|1241263|1474801|...   \n",
       "\n",
       "                                                   prices  \\\n",
       "251268  69|77|106|52|68|36|45|70|76|63|69|57|31|39|67|...   \n",
       "251269                                                NaN   \n",
       "251270                                                NaN   \n",
       "251271                                                NaN   \n",
       "251272                                                NaN   \n",
       "251273  503|805|397|238|147|361|175|209|196|245|198|23...   \n",
       "\n",
       "        timestamp_session_duration  timestamp_dwell_time_prior_clickout  \\\n",
       "251268                       615.0                                 38.0   \n",
       "251269                       615.0                                 38.0   \n",
       "251270                       615.0                                 38.0   \n",
       "251271                       615.0                                 38.0   \n",
       "251272                       615.0                                 38.0   \n",
       "251273                       615.0                                 38.0   \n",
       "\n",
       "       current_filters_last_filters  session_id_size  \n",
       "251268                   Best Value                6  \n",
       "251269                   Best Value                6  \n",
       "251270                   Best Value                6  \n",
       "251271                   Best Value                6  \n",
       "251272                   Best Value                6  \n",
       "251273                   Best Value                6  "
      ]
     },
     "execution_count": 30,
     "metadata": {},
     "output_type": "execute_result"
    }
   ],
   "source": [
    "df[df.session_id==rid]"
   ]
  },
  {
   "cell_type": "code",
   "execution_count": 20,
   "metadata": {},
   "outputs": [
    {
     "data": {
      "text/plain": [
       "array(['1188848|2296240|1828119|1826199|3976206|2674500|2817444|5418974|9150584|6409612|753741|1655703|5964878|1814881|1045654|2087440|2569860|1710127|2047409|508396|1776237|1395549|1852481|4011134|1773599',\n",
       "       '1188848|2296240|1828119|1826199|3976206|2674500|2817444|5418974|9150584|6409612|753741|1655703|5964878|1814881|1045654|2087440|2569860|1710127|2047409|508396|1776237|1395549|1852481|4011134|1773599',\n",
       "       '1188848|2296240|1828119|1826199|3976206|2674500|2817444|5418974|9150584|6409612|753741|1655703|5964878|1814881|1045654|2087440|2569860|1710127|2047409|508396|1776237|1395549|1852481|4011134|1773599',\n",
       "       '1188848|2296240|1828119|1826199|3976206|2674500|2817444|5418974|9150584|6409612|753741|1655703|5964878|1814881|1045654|2087440|2569860|1710127|2047409|508396|1776237|1395549|1852481|4011134|1773599'],\n",
       "      dtype=object)"
      ]
     },
     "execution_count": 20,
     "metadata": {},
     "output_type": "execute_result"
    }
   ],
   "source": [
    "df[df.session_id==rid].impressions[df[df.session_id==rid].impressions.notna()].values"
   ]
  },
  {
   "cell_type": "code",
   "execution_count": 6,
   "metadata": {},
   "outputs": [],
   "source": [
    "from create_model_inputs import create_action_type_mapping"
   ]
  },
  {
   "cell_type": "code",
   "execution_count": 7,
   "metadata": {},
   "outputs": [
    {
     "name": "stderr",
     "output_type": "stream",
     "text": [
      "[05-14 07:53:35 - create_model_inputs-25 - create_action_type_mapping - INFO] Load action_types mapping from existing: ./cache/action_types_mapping.npy\n"
     ]
    }
   ],
   "source": [
    "m, _ = create_action_type_mapping()"
   ]
  },
  {
   "cell_type": "code",
   "execution_count": 8,
   "metadata": {},
   "outputs": [
    {
     "data": {
      "text/plain": [
       "{'search for poi': 0,\n",
       " 'interaction item image': 1,\n",
       " 'clickout item': 2,\n",
       " 'interaction item info': 3,\n",
       " 'interaction item deals': 4,\n",
       " 'search for destination': 5,\n",
       " 'filter selection': 6,\n",
       " 'interaction item rating': 7,\n",
       " 'search for item': 8,\n",
       " 'change of sort order': 9}"
      ]
     },
     "execution_count": 8,
     "metadata": {},
     "output_type": "execute_result"
    }
   ],
   "source": [
    "m"
   ]
  },
  {
   "cell_type": "code",
   "execution_count": null,
   "metadata": {},
   "outputs": [],
   "source": []
  },
  {
   "cell_type": "code",
   "execution_count": null,
   "metadata": {},
   "outputs": [],
   "source": []
  },
  {
   "cell_type": "code",
   "execution_count": null,
   "metadata": {},
   "outputs": [],
   "source": []
  },
  {
   "cell_type": "markdown",
   "metadata": {},
   "source": [
    "### session_id_size"
   ]
  },
  {
   "cell_type": "code",
   "execution_count": null,
   "metadata": {},
   "outputs": [],
   "source": [
    "# session_size\n",
    "df.session_id_size.hist(bins=200)"
   ]
  },
  {
   "cell_type": "code",
   "execution_count": null,
   "metadata": {},
   "outputs": [],
   "source": [
    "np.log(df.session_id_size).hist(bins=200)"
   ]
  },
  {
   "cell_type": "code",
   "execution_count": null,
   "metadata": {},
   "outputs": [],
   "source": [
    "logged = np.log(df.session_id_size)"
   ]
  },
  {
   "cell_type": "code",
   "execution_count": null,
   "metadata": {},
   "outputs": [],
   "source": [
    "((logged - logged.mean())/logged.std()).hist(bins=200)"
   ]
  },
  {
   "cell_type": "code",
   "execution_count": null,
   "metadata": {},
   "outputs": [],
   "source": [
    "((df.session_id_size - df.session_id_size.mean())/df.session_id_size.std()).hist(bins=200)"
   ]
  },
  {
   "cell_type": "code",
   "execution_count": null,
   "metadata": {},
   "outputs": [],
   "source": [
    "df.session_id_size.mean()"
   ]
  },
  {
   "cell_type": "code",
   "execution_count": null,
   "metadata": {},
   "outputs": [],
   "source": [
    "df.session_id_size.std()"
   ]
  },
  {
   "cell_type": "markdown",
   "metadata": {},
   "source": [
    "### timestamp_dwell_time_prior_clickout"
   ]
  },
  {
   "cell_type": "code",
   "execution_count": null,
   "metadata": {},
   "outputs": [],
   "source": [
    "df.timestamp_dwell_time_prior_clickout.hist(bins=100)"
   ]
  },
  {
   "cell_type": "code",
   "execution_count": null,
   "metadata": {},
   "outputs": [],
   "source": [
    "df.timestamp_dwell_time_prior_clickout.describe()"
   ]
  },
  {
   "cell_type": "code",
   "execution_count": null,
   "metadata": {},
   "outputs": [],
   "source": [
    "df.timestamp_dwell_time_prior_clickout.clip(upper=60**2).describe()"
   ]
  },
  {
   "cell_type": "code",
   "execution_count": null,
   "metadata": {},
   "outputs": [],
   "source": [
    "df.timestamp_dwell_time_prior_clickout.clip(upper=60**2).hist(bins=100)"
   ]
  },
  {
   "cell_type": "code",
   "execution_count": null,
   "metadata": {},
   "outputs": [],
   "source": [
    "np.log1p(df.timestamp_dwell_time_prior_clickout.clip(upper=60**2)).hist(bins=50)"
   ]
  },
  {
   "cell_type": "code",
   "execution_count": null,
   "metadata": {},
   "outputs": [],
   "source": [
    "qt = 0.999\n",
    "df.timestamp_dwell_time_prior_clickout.quantile(qt)"
   ]
  },
  {
   "cell_type": "code",
   "execution_count": null,
   "metadata": {},
   "outputs": [],
   "source": [
    "df.timestamp_dwell_time_prior_clickout.quantile(qt)/60"
   ]
  },
  {
   "cell_type": "markdown",
   "metadata": {},
   "source": [
    "### last_ref_ind"
   ]
  },
  {
   "cell_type": "code",
   "execution_count": null,
   "metadata": {},
   "outputs": [],
   "source": [
    "from utils import get_logger\n",
    "logger = get_logger('create_model_inputs')"
   ]
  },
  {
   "cell_type": "code",
   "execution_count": null,
   "metadata": {
    "scrolled": true
   },
   "outputs": [],
   "source": [
    "# logger.info('Lower case current filters and split to list')\n",
    "# df['cfs'] = df['current_filters_last_filters'].str.lower().str.split('|')\n",
    "\n",
    "# logger.info('Split prices str to list and convert to int')\n",
    "# df['prices'] = df['prices'].str.split('|')\n",
    "df = df.groupby('session_id').last().reset_index()\n",
    "\n",
    "# df['prices'] = df['prices'].apply(lambda x: [int(p) for p in x])\n",
    "logger.info('Pad 0s for prices length shorter than 25')\n",
    "# df['time_steps'] = df['prices'].str.len()\n",
    "# padding_mask = df['time_steps'] < 25\n",
    "# df.loc[padding_mask, 'prices'] = df.loc[padding_mask, 'prices'].apply(lambda x: np.pad(x, (0, 25-len(x)),\n",
    "#                                                                                        mode='constant'))\n",
    "\n",
    "logger.info('Split impression str to list of impressions')\n",
    "df['impressions'] = df['impressions'].str.split('|')\n",
    "# logger.info('Convert impression str to int')\n",
    "# df['impressions'] = df['impressions'].apply(lambda x: [int(i) for i in x])\n",
    "\n",
    "if mode == 'train':\n",
    "    logger.info('Assign target')\n",
    "    logger.info('Convert reference id to int')\n",
    "    df['reference'] = df['reference'].astype(int)\n",
    "\n",
    "    # filter out nan rows with reference_id not in impressions list, since if the true target in test\n",
    "    # is not in the impression list then it would not get evaluated\n",
    "    def assign_target(row):\n",
    "        ref = row['reference']\n",
    "        imp = list(row['impressions'])\n",
    "        if ref in imp:\n",
    "            return imp.index(ref)\n",
    "        else:\n",
    "            return np.nan\n",
    "\n",
    "    df['target'] = df.apply(assign_target, axis=1)\n",
    "    logger.info('Remove the ones whose reference id is not in impression list')\n",
    "    # drop the ones whose reference is not in the impression list\n",
    "    df = df[df['target'].notna()].reset_index(drop=True)\n",
    "    df['target'] = df['target'].astype(int)\n",
    "    logger.info(f\"Target distribution: \\n{pd.value_counts(df['target']).head()}\")\n",
    "\n",
    "logger.info('Assign location of previous reference id')\n",
    "\n",
    "# def assign_last_ref_id(row):\n",
    "#     ref = row['reference_last_reference_id']\n",
    "#     # although reference_id got converted to int, but the reference_last_reference_id was calculated\n",
    "#     # when it was still str value, so here we look up the index in str of impressions\n",
    "#     imp = [str(i) for i in row['impressions']]\n",
    "#     if pd.isna(ref):\n",
    "#         return np.nan\n",
    "#     else:\n",
    "#         if ref in imp:\n",
    "#             return imp.index(ref) + 1\n",
    "#             # return (imp.index(ref) + 1) / len(imp)\n",
    "#         else:\n",
    "#             return np.nan"
   ]
  },
  {
   "cell_type": "code",
   "execution_count": null,
   "metadata": {},
   "outputs": [],
   "source": [
    "# %%time\n",
    "# df['last_ref_ind'] = df.apply(assign_last_ref_id, axis=1)"
   ]
  },
  {
   "cell_type": "code",
   "execution_count": null,
   "metadata": {},
   "outputs": [],
   "source": [
    "# df.last_ref_ind.hist(bins=100)"
   ]
  },
  {
   "cell_type": "code",
   "execution_count": null,
   "metadata": {},
   "outputs": [],
   "source": [
    "# np.log(df.last_ref_ind).hist(bins=100)"
   ]
  },
  {
   "cell_type": "code",
   "execution_count": null,
   "metadata": {},
   "outputs": [],
   "source": [
    "# ((df.last_ref_ind - df.last_ref_ind.mean())/df.last_ref_ind.std()).hist(bins=100)"
   ]
  },
  {
   "cell_type": "code",
   "execution_count": null,
   "metadata": {},
   "outputs": [],
   "source": [
    "# (df.last_ref_ind/25).hist(bins=100)"
   ]
  },
  {
   "cell_type": "markdown",
   "metadata": {},
   "source": [
    "### prices"
   ]
  },
  {
   "cell_type": "code",
   "execution_count": null,
   "metadata": {},
   "outputs": [],
   "source": [
    "prices = np.concatenate(df.prices.values)"
   ]
  },
  {
   "cell_type": "code",
   "execution_count": null,
   "metadata": {},
   "outputs": [],
   "source": [
    "pdf = pd.DataFrame({'p': prices})"
   ]
  },
  {
   "cell_type": "code",
   "execution_count": null,
   "metadata": {},
   "outputs": [],
   "source": [
    "pdf.p.hist(bins=100)"
   ]
  },
  {
   "cell_type": "code",
   "execution_count": null,
   "metadata": {},
   "outputs": [],
   "source": [
    "np.log1p(pdf.p).hist(bins=100)"
   ]
  },
  {
   "cell_type": "code",
   "execution_count": null,
   "metadata": {},
   "outputs": [],
   "source": [
    "((pdf.p - pdf.p.mean())/pdf.p.std()).hist(bins=100)"
   ]
  },
  {
   "cell_type": "code",
   "execution_count": null,
   "metadata": {},
   "outputs": [],
   "source": [
    "pdf.p.quantile(0.9)"
   ]
  },
  {
   "cell_type": "code",
   "execution_count": null,
   "metadata": {},
   "outputs": [],
   "source": [
    "pdf.p.quantile(0.99999)"
   ]
  },
  {
   "cell_type": "code",
   "execution_count": null,
   "metadata": {},
   "outputs": [],
   "source": [
    "pdf.p.describe()"
   ]
  },
  {
   "cell_type": "markdown",
   "metadata": {},
   "source": [
    "### look at data\n",
    "---"
   ]
  },
  {
   "cell_type": "code",
   "execution_count": null,
   "metadata": {},
   "outputs": [],
   "source": [
    "df.head()"
   ]
  },
  {
   "cell_type": "code",
   "execution_count": null,
   "metadata": {},
   "outputs": [],
   "source": [
    "# %%time\n",
    "# train_raw = load_data('train')\n",
    "# train_raw['timestamp'] = train_raw['timestamp'].apply(lambda t: datetime.datetime.utcfromtimestamp(t))\n",
    "# train_raw['nfilters'] = train_raw['current_filters'].str.split('|').str.len()\n",
    "# train = train_raw[(train_raw.action_type == 'clickout item') & (train_raw.impressions.notna())].copy()"
   ]
  },
  {
   "cell_type": "code",
   "execution_count": null,
   "metadata": {},
   "outputs": [],
   "source": [
    "# fprint(train, 'train')"
   ]
  },
  {
   "cell_type": "code",
   "execution_count": null,
   "metadata": {},
   "outputs": [],
   "source": [
    "# (train_raw.action_type=='clickout item').sum()"
   ]
  },
  {
   "cell_type": "code",
   "execution_count": null,
   "metadata": {},
   "outputs": [],
   "source": [
    "# %%time\n",
    "# # also get test\n",
    "# test = load_data('test')#, nrows=1000000)\n",
    "# fprint(test, 'raw test')\n",
    "# test = test[(test.action_type == 'clickout item') & (test.impressions.notna()) & (test.reference.notna())].reset_index(drop=True)\n",
    "# fprint(test, 'test after')"
   ]
  },
  {
   "cell_type": "code",
   "execution_count": null,
   "metadata": {},
   "outputs": [],
   "source": [
    "# test_sub = load_data('submission_popular')"
   ]
  },
  {
   "cell_type": "code",
   "execution_count": null,
   "metadata": {},
   "outputs": [],
   "source": [
    "%%time\n",
    "def session_duration(x):\n",
    "    return x.max() - x.min()\n",
    "# session_fts = train.groupby('session_id').agg({'session_id': 'size', 'timestamp': session_duration})\n",
    "session_fts = train.groupby('session_id').size().reset_index(name='session_size')"
   ]
  },
  {
   "cell_type": "code",
   "execution_count": null,
   "metadata": {},
   "outputs": [],
   "source": [
    "%%time\n",
    "train_last = train.groupby('session_id').last().reset_index()"
   ]
  },
  {
   "cell_type": "code",
   "execution_count": null,
   "metadata": {},
   "outputs": [],
   "source": [
    "fprint(train_last, 'trian_last')"
   ]
  },
  {
   "cell_type": "code",
   "execution_count": null,
   "metadata": {},
   "outputs": [],
   "source": [
    "train_last = pd.merge(train_last, session_fts, on='session_id')"
   ]
  },
  {
   "cell_type": "markdown",
   "metadata": {},
   "source": [
    "### user_id"
   ]
  },
  {
   "cell_type": "code",
   "execution_count": null,
   "metadata": {},
   "outputs": [],
   "source": [
    "# train_last.groupby('user_id').size()\n",
    "train_last.user_id.value_counts().hist(bins=100)"
   ]
  },
  {
   "cell_type": "code",
   "execution_count": null,
   "metadata": {},
   "outputs": [],
   "source": [
    "# train_last.groupby('user_id').size()\n",
    "np.log(train_last.user_id.value_counts()).hist(bins=100)"
   ]
  },
  {
   "cell_type": "code",
   "execution_count": null,
   "metadata": {},
   "outputs": [],
   "source": [
    "train_last.user_id.nunique()"
   ]
  },
  {
   "cell_type": "code",
   "execution_count": null,
   "metadata": {},
   "outputs": [],
   "source": [
    "train_user_ids = train_last.user_id.unique()"
   ]
  },
  {
   "cell_type": "code",
   "execution_count": null,
   "metadata": {},
   "outputs": [],
   "source": [
    "test_user_ids = test.user_id.unique()"
   ]
  },
  {
   "cell_type": "code",
   "execution_count": null,
   "metadata": {},
   "outputs": [],
   "source": [
    "sub_ids = test_sub.user_id.unique()"
   ]
  },
  {
   "cell_type": "code",
   "execution_count": null,
   "metadata": {},
   "outputs": [],
   "source": [
    "len(set(train_user_ids).intersection(sub_ids))"
   ]
  },
  {
   "cell_type": "code",
   "execution_count": null,
   "metadata": {},
   "outputs": [],
   "source": [
    "sub_ids.shape"
   ]
  },
  {
   "cell_type": "code",
   "execution_count": null,
   "metadata": {},
   "outputs": [],
   "source": [
    "26913/sub_ids.shape[0]"
   ]
  },
  {
   "cell_type": "markdown",
   "metadata": {},
   "source": [
    "### what are the ones click on index 0 look like and the ones with rest index"
   ]
  },
  {
   "cell_type": "code",
   "execution_count": null,
   "metadata": {},
   "outputs": [],
   "source": [
    "one_sids = df[df.target==0].session_id\n",
    "rest_sids = df[df.target!=0].session_id"
   ]
  },
  {
   "cell_type": "code",
   "execution_count": null,
   "metadata": {},
   "outputs": [],
   "source": [
    "oid = np.random.choice(one_sids, 1)[0]\n",
    "rid = np.random.choice(rest_sids, 1)[0]\n",
    "oid, rid"
   ]
  },
  {
   "cell_type": "code",
   "execution_count": null,
   "metadata": {},
   "outputs": [],
   "source": [
    "print('target:', df[df.session_id==oid].target.values[0], '| session_size:',\n",
    "     df[df.session_id==oid].session_size.values[0], '| user freq:',\n",
    "     df[df.session_id==oid].user_id.size, '\\n')\n",
    "for i in train[train.session_id==oid].reset_index(drop=True).values:\n",
    "    print(i)"
   ]
  },
  {
   "cell_type": "code",
   "execution_count": null,
   "metadata": {},
   "outputs": [],
   "source": [
    "ps = np.concatenate(train[train.session_id==oid].prices.drop_duplicates().str.split('|').values)\n",
    "ps = [int(i) for i in ps]\n",
    "ps = np.sort(ps)\n",
    "ps"
   ]
  },
  {
   "cell_type": "markdown",
   "metadata": {},
   "source": [
    "---"
   ]
  },
  {
   "cell_type": "code",
   "execution_count": null,
   "metadata": {
    "scrolled": false
   },
   "outputs": [],
   "source": [
    "print('target:', train_last[train_last.session_id==rid].target.values[0], '| session_size:',\n",
    "     train_last[train_last.session_id==rid].session_size.values[0], '| user freq:',\n",
    "     train_last[train_last.session_id==rid].user_id.size, '\\n')\n",
    "for i in train[train.session_id==rid].reset_index(drop=True).values:\n",
    "    print(i)"
   ]
  },
  {
   "cell_type": "code",
   "execution_count": null,
   "metadata": {},
   "outputs": [],
   "source": [
    "ps = train[train.session_id==rid].prices.drop_duplicates().str.split('|').iloc[-1]\n",
    "ps = np.sort([int(i) for i in ps])\n",
    "ps"
   ]
  },
  {
   "cell_type": "markdown",
   "metadata": {},
   "source": [
    "### check raw"
   ]
  },
  {
   "cell_type": "code",
   "execution_count": null,
   "metadata": {},
   "outputs": [],
   "source": [
    "train_raw[train_raw.session_id==oid].reset_index(drop=True)"
   ]
  },
  {
   "cell_type": "code",
   "execution_count": null,
   "metadata": {
    "scrolled": false
   },
   "outputs": [],
   "source": [
    "train_raw[train_raw.session_id==rid].reset_index(drop=True)"
   ]
  },
  {
   "cell_type": "code",
   "execution_count": null,
   "metadata": {},
   "outputs": [],
   "source": [
    "1541231265 - 1541231272"
   ]
  },
  {
   "cell_type": "code",
   "execution_count": null,
   "metadata": {},
   "outputs": [],
   "source": [
    "len(set(train_raw.session_id.unique()).intersection(test.session_id.unique()))"
   ]
  },
  {
   "cell_type": "code",
   "execution_count": null,
   "metadata": {},
   "outputs": [],
   "source": []
  },
  {
   "cell_type": "code",
   "execution_count": null,
   "metadata": {},
   "outputs": [],
   "source": []
  },
  {
   "cell_type": "code",
   "execution_count": null,
   "metadata": {},
   "outputs": [],
   "source": []
  },
  {
   "cell_type": "code",
   "execution_count": null,
   "metadata": {},
   "outputs": [],
   "source": []
  },
  {
   "cell_type": "code",
   "execution_count": null,
   "metadata": {},
   "outputs": [],
   "source": [
    "train = prepare_data('train', nrows=1000000)"
   ]
  },
  {
   "cell_type": "code",
   "execution_count": null,
   "metadata": {},
   "outputs": [],
   "source": []
  },
  {
   "cell_type": "code",
   "execution_count": null,
   "metadata": {},
   "outputs": [],
   "source": []
  },
  {
   "cell_type": "code",
   "execution_count": null,
   "metadata": {},
   "outputs": [],
   "source": []
  },
  {
   "cell_type": "code",
   "execution_count": null,
   "metadata": {},
   "outputs": [],
   "source": []
  },
  {
   "cell_type": "code",
   "execution_count": null,
   "metadata": {},
   "outputs": [],
   "source": []
  },
  {
   "cell_type": "code",
   "execution_count": null,
   "metadata": {},
   "outputs": [],
   "source": []
  },
  {
   "cell_type": "markdown",
   "metadata": {},
   "source": [
    "### current_filters"
   ]
  },
  {
   "cell_type": "code",
   "execution_count": null,
   "metadata": {},
   "outputs": [],
   "source": [
    "train_last.shape"
   ]
  },
  {
   "cell_type": "code",
   "execution_count": null,
   "metadata": {},
   "outputs": [],
   "source": [
    "filters_counts = train_last.current_filters.value_counts()"
   ]
  },
  {
   "cell_type": "code",
   "execution_count": null,
   "metadata": {},
   "outputs": [],
   "source": [
    "filters_counts.head()"
   ]
  },
  {
   "cell_type": "code",
   "execution_count": null,
   "metadata": {},
   "outputs": [],
   "source": [
    "train_last.current_filters.nunique()"
   ]
  },
  {
   "cell_type": "code",
   "execution_count": null,
   "metadata": {},
   "outputs": [],
   "source": [
    "train_last['cfs'] = train_last.current_filters.str.split('|')"
   ]
  },
  {
   "cell_type": "code",
   "execution_count": null,
   "metadata": {},
   "outputs": [],
   "source": [
    "all_cfs = train_last[train_last.cfs.notna()].cfs.values\n",
    "all_cfs = [j for i in all_cfs for j in i]"
   ]
  },
  {
   "cell_type": "code",
   "execution_count": null,
   "metadata": {},
   "outputs": [],
   "source": [
    "all_cfs_counts = pd.value_counts(all_cfs)\n",
    "all_cfs_counts.head()"
   ]
  },
  {
   "cell_type": "code",
   "execution_count": null,
   "metadata": {},
   "outputs": [],
   "source": [
    "pd.value_counts(all_cfs, normalize=True).cumsum().head(20)"
   ]
  },
  {
   "cell_type": "code",
   "execution_count": null,
   "metadata": {},
   "outputs": [],
   "source": [
    "all_cfs_counts.index[pd.DataFrame({'cfs': all_cfs_counts.index}).cfs.str.contains(r'[^(e)]sort', case=False)]"
   ]
  },
  {
   "cell_type": "code",
   "execution_count": null,
   "metadata": {},
   "outputs": [],
   "source": [
    "all_cfs_counts.hist(bins=20)"
   ]
  },
  {
   "cell_type": "code",
   "execution_count": null,
   "metadata": {},
   "outputs": [],
   "source": [
    "all_cfs_counts.shape"
   ]
  },
  {
   "cell_type": "code",
   "execution_count": null,
   "metadata": {},
   "outputs": [],
   "source": [
    "# all_cfs_counts.index.values"
   ]
  },
  {
   "cell_type": "code",
   "execution_count": null,
   "metadata": {},
   "outputs": [],
   "source": [
    "train_last.current_filters.isna().sum()"
   ]
  },
  {
   "cell_type": "code",
   "execution_count": null,
   "metadata": {},
   "outputs": [],
   "source": [
    "train_last.shape"
   ]
  },
  {
   "cell_type": "code",
   "execution_count": null,
   "metadata": {},
   "outputs": [],
   "source": [
    "655653/train_last.shape[0]"
   ]
  },
  {
   "cell_type": "code",
   "execution_count": null,
   "metadata": {},
   "outputs": [],
   "source": [
    "train_last['nimps'] = train_last.impressions.str.split('|').str.len()"
   ]
  },
  {
   "cell_type": "markdown",
   "metadata": {},
   "source": [
    "What is the length of the impressions for these with nan current_filters?"
   ]
  },
  {
   "cell_type": "code",
   "execution_count": null,
   "metadata": {},
   "outputs": [],
   "source": [
    "train_last.loc[train_last.current_filters.isna(), 'nimps'].value_counts(normalize=True).head()"
   ]
  },
  {
   "cell_type": "code",
   "execution_count": null,
   "metadata": {},
   "outputs": [],
   "source": [
    "train_last.nimps.value_counts(normalize=True).head()"
   ]
  },
  {
   "cell_type": "code",
   "execution_count": null,
   "metadata": {},
   "outputs": [],
   "source": [
    "train_last.loc[train_last.current_filters.notna(), 'nimps'].value_counts(normalize=True).head()"
   ]
  },
  {
   "cell_type": "markdown",
   "metadata": {},
   "source": [
    "What is the size of the session for these with nan current_filters?"
   ]
  },
  {
   "cell_type": "code",
   "execution_count": null,
   "metadata": {},
   "outputs": [],
   "source": [
    "train_last.loc[train_last.current_filters.isna(), 'session_size'].value_counts(normalize=True).head()"
   ]
  },
  {
   "cell_type": "code",
   "execution_count": null,
   "metadata": {},
   "outputs": [],
   "source": [
    "train_last.loc[train_last.current_filters.notna(), 'session_size'].value_counts(normalize=True).head()"
   ]
  },
  {
   "cell_type": "code",
   "execution_count": null,
   "metadata": {},
   "outputs": [],
   "source": [
    "train_last.session_size.value_counts(normalize=True).head()"
   ]
  }
 ],
 "metadata": {
  "kernelspec": {
   "display_name": "Python 3",
   "language": "python",
   "name": "python3"
  },
  "language_info": {
   "codemirror_mode": {
    "name": "ipython",
    "version": 3
   },
   "file_extension": ".py",
   "mimetype": "text/x-python",
   "name": "python",
   "nbconvert_exporter": "python",
   "pygments_lexer": "ipython3",
   "version": "3.6.8"
  }
 },
 "nbformat": 4,
 "nbformat_minor": 2
}
