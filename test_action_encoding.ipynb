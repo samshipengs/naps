{
 "cells": [
  {
   "cell_type": "code",
   "execution_count": 1,
   "metadata": {},
   "outputs": [],
   "source": [
    "import os\n",
    "import pandas as pd\n",
    "import numpy as np\n",
    "from utils import load_data, check_dir, get_logger"
   ]
  },
  {
   "cell_type": "code",
   "execution_count": 58,
   "metadata": {},
   "outputs": [
    {
     "name": "stdout",
     "output_type": "stream",
     "text": [
      "57238\n"
     ]
    },
    {
     "data": {
      "text/html": [
       "<div>\n",
       "<style scoped>\n",
       "    .dataframe tbody tr th:only-of-type {\n",
       "        vertical-align: middle;\n",
       "    }\n",
       "\n",
       "    .dataframe tbody tr th {\n",
       "        vertical-align: top;\n",
       "    }\n",
       "\n",
       "    .dataframe thead th {\n",
       "        text-align: right;\n",
       "    }\n",
       "</style>\n",
       "<table border=\"1\" class=\"dataframe\">\n",
       "  <thead>\n",
       "    <tr style=\"text-align: right;\">\n",
       "      <th></th>\n",
       "      <th>user_id</th>\n",
       "      <th>session_id</th>\n",
       "      <th>timestamp</th>\n",
       "      <th>step</th>\n",
       "      <th>action_type</th>\n",
       "      <th>reference</th>\n",
       "      <th>platform</th>\n",
       "      <th>city</th>\n",
       "      <th>device</th>\n",
       "      <th>current_filters</th>\n",
       "      <th>impressions</th>\n",
       "      <th>prices</th>\n",
       "    </tr>\n",
       "  </thead>\n",
       "  <tbody>\n",
       "    <tr>\n",
       "      <th>0</th>\n",
       "      <td>00RL8Z82B2Z1</td>\n",
       "      <td>aff3928535f48</td>\n",
       "      <td>1541037460</td>\n",
       "      <td>1</td>\n",
       "      <td>search for poi</td>\n",
       "      <td>Newtown</td>\n",
       "      <td>AU</td>\n",
       "      <td>Sydney, Australia</td>\n",
       "      <td>mobile</td>\n",
       "      <td>NaN</td>\n",
       "      <td>NaN</td>\n",
       "      <td>NaN</td>\n",
       "    </tr>\n",
       "    <tr>\n",
       "      <th>1</th>\n",
       "      <td>00RL8Z82B2Z1</td>\n",
       "      <td>aff3928535f48</td>\n",
       "      <td>1541037522</td>\n",
       "      <td>2</td>\n",
       "      <td>interaction item image</td>\n",
       "      <td>666856</td>\n",
       "      <td>AU</td>\n",
       "      <td>Sydney, Australia</td>\n",
       "      <td>mobile</td>\n",
       "      <td>NaN</td>\n",
       "      <td>NaN</td>\n",
       "      <td>NaN</td>\n",
       "    </tr>\n",
       "    <tr>\n",
       "      <th>2</th>\n",
       "      <td>00RL8Z82B2Z1</td>\n",
       "      <td>aff3928535f48</td>\n",
       "      <td>1541037522</td>\n",
       "      <td>3</td>\n",
       "      <td>interaction item image</td>\n",
       "      <td>666856</td>\n",
       "      <td>AU</td>\n",
       "      <td>Sydney, Australia</td>\n",
       "      <td>mobile</td>\n",
       "      <td>NaN</td>\n",
       "      <td>NaN</td>\n",
       "      <td>NaN</td>\n",
       "    </tr>\n",
       "    <tr>\n",
       "      <th>3</th>\n",
       "      <td>00RL8Z82B2Z1</td>\n",
       "      <td>aff3928535f48</td>\n",
       "      <td>1541037532</td>\n",
       "      <td>4</td>\n",
       "      <td>interaction item image</td>\n",
       "      <td>666856</td>\n",
       "      <td>AU</td>\n",
       "      <td>Sydney, Australia</td>\n",
       "      <td>mobile</td>\n",
       "      <td>NaN</td>\n",
       "      <td>NaN</td>\n",
       "      <td>NaN</td>\n",
       "    </tr>\n",
       "    <tr>\n",
       "      <th>4</th>\n",
       "      <td>00RL8Z82B2Z1</td>\n",
       "      <td>aff3928535f48</td>\n",
       "      <td>1541037532</td>\n",
       "      <td>5</td>\n",
       "      <td>interaction item image</td>\n",
       "      <td>109038</td>\n",
       "      <td>AU</td>\n",
       "      <td>Sydney, Australia</td>\n",
       "      <td>mobile</td>\n",
       "      <td>NaN</td>\n",
       "      <td>NaN</td>\n",
       "      <td>NaN</td>\n",
       "    </tr>\n",
       "  </tbody>\n",
       "</table>\n",
       "</div>"
      ],
      "text/plain": [
       "        user_id     session_id   timestamp  step             action_type  \\\n",
       "0  00RL8Z82B2Z1  aff3928535f48  1541037460     1          search for poi   \n",
       "1  00RL8Z82B2Z1  aff3928535f48  1541037522     2  interaction item image   \n",
       "2  00RL8Z82B2Z1  aff3928535f48  1541037522     3  interaction item image   \n",
       "3  00RL8Z82B2Z1  aff3928535f48  1541037532     4  interaction item image   \n",
       "4  00RL8Z82B2Z1  aff3928535f48  1541037532     5  interaction item image   \n",
       "\n",
       "  reference platform               city  device current_filters impressions  \\\n",
       "0   Newtown       AU  Sydney, Australia  mobile             NaN         NaN   \n",
       "1    666856       AU  Sydney, Australia  mobile             NaN         NaN   \n",
       "2    666856       AU  Sydney, Australia  mobile             NaN         NaN   \n",
       "3    666856       AU  Sydney, Australia  mobile             NaN         NaN   \n",
       "4    109038       AU  Sydney, Australia  mobile             NaN         NaN   \n",
       "\n",
       "  prices  \n",
       "0    NaN  \n",
       "1    NaN  \n",
       "2    NaN  \n",
       "3    NaN  \n",
       "4    NaN  "
      ]
     },
     "execution_count": 58,
     "metadata": {},
     "output_type": "execute_result"
    }
   ],
   "source": [
    "# test action_encoding\n",
    "from manual_encoding import action_encoding\n",
    "\n",
    "nrows = 1000000\n",
    "train_small = load_data('train', nrows=nrows)\n",
    "print(train_small.session_id.nunique())\n",
    "train_small.head()"
   ]
  },
  {
   "cell_type": "code",
   "execution_count": 61,
   "metadata": {},
   "outputs": [],
   "source": [
    "# train_small.groupby(['session_id', 'timestamp'])['action_type'].nunique()"
   ]
  },
  {
   "cell_type": "code",
   "execution_count": 3,
   "metadata": {},
   "outputs": [
    {
     "name": "stderr",
     "output_type": "stream",
     "text": [
      "[04-27 21:29:44 - manual_encoding - action_encoding - INFO] The unique actions to encode are:\n",
      "['interaction item image' 'clickout item' 'interaction item info']\n",
      "[04-27 21:29:44 - manual_encoding - action_encoding - INFO] Smooth with means weights: [5, 5, 5]\n",
      "[04-27 21:29:44 - manual_encoding - action_encoding - INFO] smooth encoding: interaction item image\n",
      "[04-27 21:29:44 - manual_encoding - action_encoding - INFO] smooth encoding: clickout item\n",
      "[04-27 21:29:44 - manual_encoding - action_encoding - INFO] smooth encoding: interaction item info\n"
     ]
    }
   ],
   "source": [
    "ae_df = action_encoding(nrows, per_session=False, save=False, recompute=True)"
   ]
  },
  {
   "cell_type": "code",
   "execution_count": 4,
   "metadata": {},
   "outputs": [
    {
     "data": {
      "text/html": [
       "<div>\n",
       "<style scoped>\n",
       "    .dataframe tbody tr th:only-of-type {\n",
       "        vertical-align: middle;\n",
       "    }\n",
       "\n",
       "    .dataframe tbody tr th {\n",
       "        vertical-align: top;\n",
       "    }\n",
       "\n",
       "    .dataframe thead th {\n",
       "        text-align: right;\n",
       "    }\n",
       "</style>\n",
       "<table border=\"1\" class=\"dataframe\">\n",
       "  <thead>\n",
       "    <tr style=\"text-align: right;\">\n",
       "      <th></th>\n",
       "      <th>reference</th>\n",
       "      <th>interaction item image</th>\n",
       "      <th>clickout item</th>\n",
       "      <th>interaction item info</th>\n",
       "    </tr>\n",
       "  </thead>\n",
       "  <tbody>\n",
       "    <tr>\n",
       "      <th>0</th>\n",
       "      <td>109038</td>\n",
       "      <td>0.837607</td>\n",
       "      <td>0.119658</td>\n",
       "      <td>0.042735</td>\n",
       "    </tr>\n",
       "    <tr>\n",
       "      <th>1</th>\n",
       "      <td>666856</td>\n",
       "      <td>0.888889</td>\n",
       "      <td>0.055556</td>\n",
       "      <td>0.055556</td>\n",
       "    </tr>\n",
       "    <tr>\n",
       "      <th>2</th>\n",
       "      <td>1257342</td>\n",
       "      <td>0.648148</td>\n",
       "      <td>0.259259</td>\n",
       "      <td>0.092593</td>\n",
       "    </tr>\n",
       "    <tr>\n",
       "      <th>3</th>\n",
       "      <td>3377332</td>\n",
       "      <td>0.654321</td>\n",
       "      <td>0.061728</td>\n",
       "      <td>0.283951</td>\n",
       "    </tr>\n",
       "  </tbody>\n",
       "</table>\n",
       "</div>"
      ],
      "text/plain": [
       "   reference  interaction item image  clickout item  interaction item info\n",
       "0     109038                0.837607       0.119658               0.042735\n",
       "1     666856                0.888889       0.055556               0.055556\n",
       "2    1257342                0.648148       0.259259               0.092593\n",
       "3    3377332                0.654321       0.061728               0.283951"
      ]
     },
     "execution_count": 4,
     "metadata": {},
     "output_type": "execute_result"
    }
   ],
   "source": [
    "ae_df"
   ]
  },
  {
   "cell_type": "code",
   "execution_count": 5,
   "metadata": {},
   "outputs": [],
   "source": [
    "# compare\n",
    "# train_small"
   ]
  },
  {
   "cell_type": "code",
   "execution_count": 56,
   "metadata": {},
   "outputs": [],
   "source": [
    "temp = train_small[~train_small.reference.str.contains('[a-zA-Z]')].reset_index(drop=True)\n",
    "temp['reference'] = temp['reference'].astype(int)"
   ]
  },
  {
   "cell_type": "code",
   "execution_count": 57,
   "metadata": {
    "scrolled": true
   },
   "outputs": [
    {
     "data": {
      "text/html": [
       "<div>\n",
       "<style scoped>\n",
       "    .dataframe tbody tr th:only-of-type {\n",
       "        vertical-align: middle;\n",
       "    }\n",
       "\n",
       "    .dataframe tbody tr th {\n",
       "        vertical-align: top;\n",
       "    }\n",
       "\n",
       "    .dataframe thead th {\n",
       "        text-align: right;\n",
       "    }\n",
       "</style>\n",
       "<table border=\"1\" class=\"dataframe\">\n",
       "  <thead>\n",
       "    <tr style=\"text-align: right;\">\n",
       "      <th></th>\n",
       "      <th>user_id</th>\n",
       "      <th>session_id</th>\n",
       "      <th>timestamp</th>\n",
       "      <th>step</th>\n",
       "      <th>action_type</th>\n",
       "      <th>reference</th>\n",
       "      <th>platform</th>\n",
       "      <th>city</th>\n",
       "      <th>device</th>\n",
       "      <th>current_filters</th>\n",
       "      <th>impressions</th>\n",
       "      <th>prices</th>\n",
       "    </tr>\n",
       "  </thead>\n",
       "  <tbody>\n",
       "    <tr>\n",
       "      <th>0</th>\n",
       "      <td>00RL8Z82B2Z1</td>\n",
       "      <td>aff3928535f48</td>\n",
       "      <td>1541037522</td>\n",
       "      <td>2</td>\n",
       "      <td>interaction item image</td>\n",
       "      <td>666856</td>\n",
       "      <td>AU</td>\n",
       "      <td>Sydney, Australia</td>\n",
       "      <td>mobile</td>\n",
       "      <td>NaN</td>\n",
       "      <td>NaN</td>\n",
       "      <td>NaN</td>\n",
       "    </tr>\n",
       "    <tr>\n",
       "      <th>1</th>\n",
       "      <td>00RL8Z82B2Z1</td>\n",
       "      <td>aff3928535f48</td>\n",
       "      <td>1541037522</td>\n",
       "      <td>3</td>\n",
       "      <td>interaction item image</td>\n",
       "      <td>666856</td>\n",
       "      <td>AU</td>\n",
       "      <td>Sydney, Australia</td>\n",
       "      <td>mobile</td>\n",
       "      <td>NaN</td>\n",
       "      <td>NaN</td>\n",
       "      <td>NaN</td>\n",
       "    </tr>\n",
       "    <tr>\n",
       "      <th>2</th>\n",
       "      <td>00RL8Z82B2Z1</td>\n",
       "      <td>aff3928535f48</td>\n",
       "      <td>1541037532</td>\n",
       "      <td>4</td>\n",
       "      <td>interaction item image</td>\n",
       "      <td>666856</td>\n",
       "      <td>AU</td>\n",
       "      <td>Sydney, Australia</td>\n",
       "      <td>mobile</td>\n",
       "      <td>NaN</td>\n",
       "      <td>NaN</td>\n",
       "      <td>NaN</td>\n",
       "    </tr>\n",
       "    <tr>\n",
       "      <th>3</th>\n",
       "      <td>00RL8Z82B2Z1</td>\n",
       "      <td>aff3928535f48</td>\n",
       "      <td>1541037532</td>\n",
       "      <td>5</td>\n",
       "      <td>interaction item image</td>\n",
       "      <td>109038</td>\n",
       "      <td>AU</td>\n",
       "      <td>Sydney, Australia</td>\n",
       "      <td>mobile</td>\n",
       "      <td>NaN</td>\n",
       "      <td>NaN</td>\n",
       "      <td>NaN</td>\n",
       "    </tr>\n",
       "    <tr>\n",
       "      <th>4</th>\n",
       "      <td>00RL8Z82B2Z1</td>\n",
       "      <td>aff3928535f48</td>\n",
       "      <td>1541037532</td>\n",
       "      <td>6</td>\n",
       "      <td>interaction item image</td>\n",
       "      <td>666856</td>\n",
       "      <td>AU</td>\n",
       "      <td>Sydney, Australia</td>\n",
       "      <td>mobile</td>\n",
       "      <td>NaN</td>\n",
       "      <td>NaN</td>\n",
       "      <td>NaN</td>\n",
       "    </tr>\n",
       "    <tr>\n",
       "      <th>5</th>\n",
       "      <td>00RL8Z82B2Z1</td>\n",
       "      <td>aff3928535f48</td>\n",
       "      <td>1541037532</td>\n",
       "      <td>7</td>\n",
       "      <td>interaction item image</td>\n",
       "      <td>109038</td>\n",
       "      <td>AU</td>\n",
       "      <td>Sydney, Australia</td>\n",
       "      <td>mobile</td>\n",
       "      <td>NaN</td>\n",
       "      <td>NaN</td>\n",
       "      <td>NaN</td>\n",
       "    </tr>\n",
       "    <tr>\n",
       "      <th>6</th>\n",
       "      <td>00RL8Z82B2Z1</td>\n",
       "      <td>aff3928535f48</td>\n",
       "      <td>1541037532</td>\n",
       "      <td>8</td>\n",
       "      <td>interaction item image</td>\n",
       "      <td>666856</td>\n",
       "      <td>AU</td>\n",
       "      <td>Sydney, Australia</td>\n",
       "      <td>mobile</td>\n",
       "      <td>NaN</td>\n",
       "      <td>NaN</td>\n",
       "      <td>NaN</td>\n",
       "    </tr>\n",
       "    <tr>\n",
       "      <th>7</th>\n",
       "      <td>00RL8Z82B2Z1</td>\n",
       "      <td>aff3928535f48</td>\n",
       "      <td>1541037542</td>\n",
       "      <td>9</td>\n",
       "      <td>interaction item image</td>\n",
       "      <td>109038</td>\n",
       "      <td>AU</td>\n",
       "      <td>Sydney, Australia</td>\n",
       "      <td>mobile</td>\n",
       "      <td>NaN</td>\n",
       "      <td>NaN</td>\n",
       "      <td>NaN</td>\n",
       "    </tr>\n",
       "    <tr>\n",
       "      <th>8</th>\n",
       "      <td>00RL8Z82B2Z1</td>\n",
       "      <td>aff3928535f48</td>\n",
       "      <td>1541037542</td>\n",
       "      <td>10</td>\n",
       "      <td>interaction item image</td>\n",
       "      <td>109038</td>\n",
       "      <td>AU</td>\n",
       "      <td>Sydney, Australia</td>\n",
       "      <td>mobile</td>\n",
       "      <td>NaN</td>\n",
       "      <td>NaN</td>\n",
       "      <td>NaN</td>\n",
       "    </tr>\n",
       "    <tr>\n",
       "      <th>9</th>\n",
       "      <td>00RL8Z82B2Z1</td>\n",
       "      <td>aff3928535f48</td>\n",
       "      <td>1541037542</td>\n",
       "      <td>11</td>\n",
       "      <td>interaction item image</td>\n",
       "      <td>109038</td>\n",
       "      <td>AU</td>\n",
       "      <td>Sydney, Australia</td>\n",
       "      <td>mobile</td>\n",
       "      <td>NaN</td>\n",
       "      <td>NaN</td>\n",
       "      <td>NaN</td>\n",
       "    </tr>\n",
       "    <tr>\n",
       "      <th>10</th>\n",
       "      <td>00RL8Z82B2Z1</td>\n",
       "      <td>aff3928535f48</td>\n",
       "      <td>1541037542</td>\n",
       "      <td>12</td>\n",
       "      <td>interaction item image</td>\n",
       "      <td>109038</td>\n",
       "      <td>AU</td>\n",
       "      <td>Sydney, Australia</td>\n",
       "      <td>mobile</td>\n",
       "      <td>NaN</td>\n",
       "      <td>NaN</td>\n",
       "      <td>NaN</td>\n",
       "    </tr>\n",
       "    <tr>\n",
       "      <th>11</th>\n",
       "      <td>00RL8Z82B2Z1</td>\n",
       "      <td>aff3928535f48</td>\n",
       "      <td>1541037542</td>\n",
       "      <td>13</td>\n",
       "      <td>interaction item image</td>\n",
       "      <td>109038</td>\n",
       "      <td>AU</td>\n",
       "      <td>Sydney, Australia</td>\n",
       "      <td>mobile</td>\n",
       "      <td>NaN</td>\n",
       "      <td>NaN</td>\n",
       "      <td>NaN</td>\n",
       "    </tr>\n",
       "    <tr>\n",
       "      <th>12</th>\n",
       "      <td>00RL8Z82B2Z1</td>\n",
       "      <td>aff3928535f48</td>\n",
       "      <td>1541037543</td>\n",
       "      <td>14</td>\n",
       "      <td>clickout item</td>\n",
       "      <td>109038</td>\n",
       "      <td>AU</td>\n",
       "      <td>Sydney, Australia</td>\n",
       "      <td>mobile</td>\n",
       "      <td>NaN</td>\n",
       "      <td>3400638|1253714|3367857|5100540|1088584|666916...</td>\n",
       "      <td>95|66|501|112|95|100|101|72|82|56|56|143|70|25...</td>\n",
       "    </tr>\n",
       "    <tr>\n",
       "      <th>13</th>\n",
       "      <td>00RL8Z82B2Z1</td>\n",
       "      <td>aff3928535f48</td>\n",
       "      <td>1541038485</td>\n",
       "      <td>16</td>\n",
       "      <td>clickout item</td>\n",
       "      <td>1257342</td>\n",
       "      <td>AU</td>\n",
       "      <td>Sydney, Australia</td>\n",
       "      <td>mobile</td>\n",
       "      <td>NaN</td>\n",
       "      <td>55109|129343|54824|2297972|109014|1257342|1031...</td>\n",
       "      <td>162|25|150|143|101|49|118|131|18|100|101|143|5...</td>\n",
       "    </tr>\n",
       "    <tr>\n",
       "      <th>14</th>\n",
       "      <td>02HGRBA06ODU</td>\n",
       "      <td>fa3a53156ae5c</td>\n",
       "      <td>1541030832</td>\n",
       "      <td>1</td>\n",
       "      <td>interaction item info</td>\n",
       "      <td>3377332</td>\n",
       "      <td>BR</td>\n",
       "      <td>Ubatuba, Brazil</td>\n",
       "      <td>mobile</td>\n",
       "      <td>NaN</td>\n",
       "      <td>NaN</td>\n",
       "      <td>NaN</td>\n",
       "    </tr>\n",
       "    <tr>\n",
       "      <th>15</th>\n",
       "      <td>02HGRBA06ODU</td>\n",
       "      <td>fa3a53156ae5c</td>\n",
       "      <td>1541030843</td>\n",
       "      <td>2</td>\n",
       "      <td>interaction item image</td>\n",
       "      <td>3377332</td>\n",
       "      <td>BR</td>\n",
       "      <td>Ubatuba, Brazil</td>\n",
       "      <td>mobile</td>\n",
       "      <td>NaN</td>\n",
       "      <td>NaN</td>\n",
       "      <td>NaN</td>\n",
       "    </tr>\n",
       "    <tr>\n",
       "      <th>16</th>\n",
       "      <td>02HGRBA06ODU</td>\n",
       "      <td>fa3a53156ae5c</td>\n",
       "      <td>1541030843</td>\n",
       "      <td>3</td>\n",
       "      <td>interaction item image</td>\n",
       "      <td>3377332</td>\n",
       "      <td>BR</td>\n",
       "      <td>Ubatuba, Brazil</td>\n",
       "      <td>mobile</td>\n",
       "      <td>NaN</td>\n",
       "      <td>NaN</td>\n",
       "      <td>NaN</td>\n",
       "    </tr>\n",
       "    <tr>\n",
       "      <th>17</th>\n",
       "      <td>02HGRBA06ODU</td>\n",
       "      <td>fa3a53156ae5c</td>\n",
       "      <td>1541030852</td>\n",
       "      <td>4</td>\n",
       "      <td>interaction item info</td>\n",
       "      <td>3377332</td>\n",
       "      <td>BR</td>\n",
       "      <td>Ubatuba, Brazil</td>\n",
       "      <td>mobile</td>\n",
       "      <td>NaN</td>\n",
       "      <td>NaN</td>\n",
       "      <td>NaN</td>\n",
       "    </tr>\n",
       "  </tbody>\n",
       "</table>\n",
       "</div>"
      ],
      "text/plain": [
       "         user_id     session_id   timestamp  step             action_type  \\\n",
       "0   00RL8Z82B2Z1  aff3928535f48  1541037522     2  interaction item image   \n",
       "1   00RL8Z82B2Z1  aff3928535f48  1541037522     3  interaction item image   \n",
       "2   00RL8Z82B2Z1  aff3928535f48  1541037532     4  interaction item image   \n",
       "3   00RL8Z82B2Z1  aff3928535f48  1541037532     5  interaction item image   \n",
       "4   00RL8Z82B2Z1  aff3928535f48  1541037532     6  interaction item image   \n",
       "5   00RL8Z82B2Z1  aff3928535f48  1541037532     7  interaction item image   \n",
       "6   00RL8Z82B2Z1  aff3928535f48  1541037532     8  interaction item image   \n",
       "7   00RL8Z82B2Z1  aff3928535f48  1541037542     9  interaction item image   \n",
       "8   00RL8Z82B2Z1  aff3928535f48  1541037542    10  interaction item image   \n",
       "9   00RL8Z82B2Z1  aff3928535f48  1541037542    11  interaction item image   \n",
       "10  00RL8Z82B2Z1  aff3928535f48  1541037542    12  interaction item image   \n",
       "11  00RL8Z82B2Z1  aff3928535f48  1541037542    13  interaction item image   \n",
       "12  00RL8Z82B2Z1  aff3928535f48  1541037543    14           clickout item   \n",
       "13  00RL8Z82B2Z1  aff3928535f48  1541038485    16           clickout item   \n",
       "14  02HGRBA06ODU  fa3a53156ae5c  1541030832     1   interaction item info   \n",
       "15  02HGRBA06ODU  fa3a53156ae5c  1541030843     2  interaction item image   \n",
       "16  02HGRBA06ODU  fa3a53156ae5c  1541030843     3  interaction item image   \n",
       "17  02HGRBA06ODU  fa3a53156ae5c  1541030852     4   interaction item info   \n",
       "\n",
       "    reference platform               city  device  current_filters  \\\n",
       "0      666856       AU  Sydney, Australia  mobile              NaN   \n",
       "1      666856       AU  Sydney, Australia  mobile              NaN   \n",
       "2      666856       AU  Sydney, Australia  mobile              NaN   \n",
       "3      109038       AU  Sydney, Australia  mobile              NaN   \n",
       "4      666856       AU  Sydney, Australia  mobile              NaN   \n",
       "5      109038       AU  Sydney, Australia  mobile              NaN   \n",
       "6      666856       AU  Sydney, Australia  mobile              NaN   \n",
       "7      109038       AU  Sydney, Australia  mobile              NaN   \n",
       "8      109038       AU  Sydney, Australia  mobile              NaN   \n",
       "9      109038       AU  Sydney, Australia  mobile              NaN   \n",
       "10     109038       AU  Sydney, Australia  mobile              NaN   \n",
       "11     109038       AU  Sydney, Australia  mobile              NaN   \n",
       "12     109038       AU  Sydney, Australia  mobile              NaN   \n",
       "13    1257342       AU  Sydney, Australia  mobile              NaN   \n",
       "14    3377332       BR    Ubatuba, Brazil  mobile              NaN   \n",
       "15    3377332       BR    Ubatuba, Brazil  mobile              NaN   \n",
       "16    3377332       BR    Ubatuba, Brazil  mobile              NaN   \n",
       "17    3377332       BR    Ubatuba, Brazil  mobile              NaN   \n",
       "\n",
       "                                          impressions  \\\n",
       "0                                                 NaN   \n",
       "1                                                 NaN   \n",
       "2                                                 NaN   \n",
       "3                                                 NaN   \n",
       "4                                                 NaN   \n",
       "5                                                 NaN   \n",
       "6                                                 NaN   \n",
       "7                                                 NaN   \n",
       "8                                                 NaN   \n",
       "9                                                 NaN   \n",
       "10                                                NaN   \n",
       "11                                                NaN   \n",
       "12  3400638|1253714|3367857|5100540|1088584|666916...   \n",
       "13  55109|129343|54824|2297972|109014|1257342|1031...   \n",
       "14                                                NaN   \n",
       "15                                                NaN   \n",
       "16                                                NaN   \n",
       "17                                                NaN   \n",
       "\n",
       "                                               prices  \n",
       "0                                                 NaN  \n",
       "1                                                 NaN  \n",
       "2                                                 NaN  \n",
       "3                                                 NaN  \n",
       "4                                                 NaN  \n",
       "5                                                 NaN  \n",
       "6                                                 NaN  \n",
       "7                                                 NaN  \n",
       "8                                                 NaN  \n",
       "9                                                 NaN  \n",
       "10                                                NaN  \n",
       "11                                                NaN  \n",
       "12  95|66|501|112|95|100|101|72|82|56|56|143|70|25...  \n",
       "13  162|25|150|143|101|49|118|131|18|100|101|143|5...  \n",
       "14                                                NaN  \n",
       "15                                                NaN  \n",
       "16                                                NaN  \n",
       "17                                                NaN  "
      ]
     },
     "execution_count": 57,
     "metadata": {},
     "output_type": "execute_result"
    }
   ],
   "source": [
    "temp"
   ]
  },
  {
   "cell_type": "code",
   "execution_count": 55,
   "metadata": {},
   "outputs": [
    {
     "name": "stderr",
     "output_type": "stream",
     "text": [
      "[04-27 22:12:41 - utils - remove_duplicates - INFO] Before dropping duplicates df shape: (18, 12)\n",
      "[04-27 22:12:41 - utils - remove_duplicates - INFO] After dropping duplicates df shape: (9, 12)\n"
     ]
    },
    {
     "data": {
      "text/html": [
       "<div>\n",
       "<style scoped>\n",
       "    .dataframe tbody tr th:only-of-type {\n",
       "        vertical-align: middle;\n",
       "    }\n",
       "\n",
       "    .dataframe tbody tr th {\n",
       "        vertical-align: top;\n",
       "    }\n",
       "\n",
       "    .dataframe thead th {\n",
       "        text-align: right;\n",
       "    }\n",
       "</style>\n",
       "<table border=\"1\" class=\"dataframe\">\n",
       "  <thead>\n",
       "    <tr style=\"text-align: right;\">\n",
       "      <th></th>\n",
       "      <th>user_id</th>\n",
       "      <th>session_id</th>\n",
       "      <th>timestamp</th>\n",
       "      <th>step</th>\n",
       "      <th>action_type</th>\n",
       "      <th>reference</th>\n",
       "      <th>platform</th>\n",
       "      <th>city</th>\n",
       "      <th>device</th>\n",
       "      <th>current_filters</th>\n",
       "      <th>impressions</th>\n",
       "      <th>prices</th>\n",
       "    </tr>\n",
       "  </thead>\n",
       "  <tbody>\n",
       "    <tr>\n",
       "      <th>0</th>\n",
       "      <td>00RL8Z82B2Z1</td>\n",
       "      <td>aff3928535f48</td>\n",
       "      <td>1541037522</td>\n",
       "      <td>3</td>\n",
       "      <td>interaction item image</td>\n",
       "      <td>666856</td>\n",
       "      <td>AU</td>\n",
       "      <td>Sydney, Australia</td>\n",
       "      <td>mobile</td>\n",
       "      <td>NaN</td>\n",
       "      <td>NaN</td>\n",
       "      <td>NaN</td>\n",
       "    </tr>\n",
       "    <tr>\n",
       "      <th>1</th>\n",
       "      <td>00RL8Z82B2Z1</td>\n",
       "      <td>aff3928535f48</td>\n",
       "      <td>1541037532</td>\n",
       "      <td>7</td>\n",
       "      <td>interaction item image</td>\n",
       "      <td>109038</td>\n",
       "      <td>AU</td>\n",
       "      <td>Sydney, Australia</td>\n",
       "      <td>mobile</td>\n",
       "      <td>NaN</td>\n",
       "      <td>NaN</td>\n",
       "      <td>NaN</td>\n",
       "    </tr>\n",
       "    <tr>\n",
       "      <th>2</th>\n",
       "      <td>00RL8Z82B2Z1</td>\n",
       "      <td>aff3928535f48</td>\n",
       "      <td>1541037532</td>\n",
       "      <td>8</td>\n",
       "      <td>interaction item image</td>\n",
       "      <td>666856</td>\n",
       "      <td>AU</td>\n",
       "      <td>Sydney, Australia</td>\n",
       "      <td>mobile</td>\n",
       "      <td>NaN</td>\n",
       "      <td>NaN</td>\n",
       "      <td>NaN</td>\n",
       "    </tr>\n",
       "    <tr>\n",
       "      <th>3</th>\n",
       "      <td>00RL8Z82B2Z1</td>\n",
       "      <td>aff3928535f48</td>\n",
       "      <td>1541037542</td>\n",
       "      <td>13</td>\n",
       "      <td>interaction item image</td>\n",
       "      <td>109038</td>\n",
       "      <td>AU</td>\n",
       "      <td>Sydney, Australia</td>\n",
       "      <td>mobile</td>\n",
       "      <td>NaN</td>\n",
       "      <td>NaN</td>\n",
       "      <td>NaN</td>\n",
       "    </tr>\n",
       "    <tr>\n",
       "      <th>4</th>\n",
       "      <td>00RL8Z82B2Z1</td>\n",
       "      <td>aff3928535f48</td>\n",
       "      <td>1541037543</td>\n",
       "      <td>14</td>\n",
       "      <td>clickout item</td>\n",
       "      <td>109038</td>\n",
       "      <td>AU</td>\n",
       "      <td>Sydney, Australia</td>\n",
       "      <td>mobile</td>\n",
       "      <td>NaN</td>\n",
       "      <td>3400638|1253714|3367857|5100540|1088584|666916...</td>\n",
       "      <td>95|66|501|112|95|100|101|72|82|56|56|143|70|25...</td>\n",
       "    </tr>\n",
       "    <tr>\n",
       "      <th>5</th>\n",
       "      <td>00RL8Z82B2Z1</td>\n",
       "      <td>aff3928535f48</td>\n",
       "      <td>1541038485</td>\n",
       "      <td>16</td>\n",
       "      <td>clickout item</td>\n",
       "      <td>1257342</td>\n",
       "      <td>AU</td>\n",
       "      <td>Sydney, Australia</td>\n",
       "      <td>mobile</td>\n",
       "      <td>NaN</td>\n",
       "      <td>55109|129343|54824|2297972|109014|1257342|1031...</td>\n",
       "      <td>162|25|150|143|101|49|118|131|18|100|101|143|5...</td>\n",
       "    </tr>\n",
       "    <tr>\n",
       "      <th>6</th>\n",
       "      <td>02HGRBA06ODU</td>\n",
       "      <td>fa3a53156ae5c</td>\n",
       "      <td>1541030832</td>\n",
       "      <td>1</td>\n",
       "      <td>interaction item info</td>\n",
       "      <td>3377332</td>\n",
       "      <td>BR</td>\n",
       "      <td>Ubatuba, Brazil</td>\n",
       "      <td>mobile</td>\n",
       "      <td>NaN</td>\n",
       "      <td>NaN</td>\n",
       "      <td>NaN</td>\n",
       "    </tr>\n",
       "    <tr>\n",
       "      <th>7</th>\n",
       "      <td>02HGRBA06ODU</td>\n",
       "      <td>fa3a53156ae5c</td>\n",
       "      <td>1541030843</td>\n",
       "      <td>3</td>\n",
       "      <td>interaction item image</td>\n",
       "      <td>3377332</td>\n",
       "      <td>BR</td>\n",
       "      <td>Ubatuba, Brazil</td>\n",
       "      <td>mobile</td>\n",
       "      <td>NaN</td>\n",
       "      <td>NaN</td>\n",
       "      <td>NaN</td>\n",
       "    </tr>\n",
       "    <tr>\n",
       "      <th>8</th>\n",
       "      <td>02HGRBA06ODU</td>\n",
       "      <td>fa3a53156ae5c</td>\n",
       "      <td>1541030852</td>\n",
       "      <td>4</td>\n",
       "      <td>interaction item info</td>\n",
       "      <td>3377332</td>\n",
       "      <td>BR</td>\n",
       "      <td>Ubatuba, Brazil</td>\n",
       "      <td>mobile</td>\n",
       "      <td>NaN</td>\n",
       "      <td>NaN</td>\n",
       "      <td>NaN</td>\n",
       "    </tr>\n",
       "  </tbody>\n",
       "</table>\n",
       "</div>"
      ],
      "text/plain": [
       "        user_id     session_id   timestamp  step             action_type  \\\n",
       "0  00RL8Z82B2Z1  aff3928535f48  1541037522     3  interaction item image   \n",
       "1  00RL8Z82B2Z1  aff3928535f48  1541037532     7  interaction item image   \n",
       "2  00RL8Z82B2Z1  aff3928535f48  1541037532     8  interaction item image   \n",
       "3  00RL8Z82B2Z1  aff3928535f48  1541037542    13  interaction item image   \n",
       "4  00RL8Z82B2Z1  aff3928535f48  1541037543    14           clickout item   \n",
       "5  00RL8Z82B2Z1  aff3928535f48  1541038485    16           clickout item   \n",
       "6  02HGRBA06ODU  fa3a53156ae5c  1541030832     1   interaction item info   \n",
       "7  02HGRBA06ODU  fa3a53156ae5c  1541030843     3  interaction item image   \n",
       "8  02HGRBA06ODU  fa3a53156ae5c  1541030852     4   interaction item info   \n",
       "\n",
       "   reference platform               city  device  current_filters  \\\n",
       "0     666856       AU  Sydney, Australia  mobile              NaN   \n",
       "1     109038       AU  Sydney, Australia  mobile              NaN   \n",
       "2     666856       AU  Sydney, Australia  mobile              NaN   \n",
       "3     109038       AU  Sydney, Australia  mobile              NaN   \n",
       "4     109038       AU  Sydney, Australia  mobile              NaN   \n",
       "5    1257342       AU  Sydney, Australia  mobile              NaN   \n",
       "6    3377332       BR    Ubatuba, Brazil  mobile              NaN   \n",
       "7    3377332       BR    Ubatuba, Brazil  mobile              NaN   \n",
       "8    3377332       BR    Ubatuba, Brazil  mobile              NaN   \n",
       "\n",
       "                                         impressions  \\\n",
       "0                                                NaN   \n",
       "1                                                NaN   \n",
       "2                                                NaN   \n",
       "3                                                NaN   \n",
       "4  3400638|1253714|3367857|5100540|1088584|666916...   \n",
       "5  55109|129343|54824|2297972|109014|1257342|1031...   \n",
       "6                                                NaN   \n",
       "7                                                NaN   \n",
       "8                                                NaN   \n",
       "\n",
       "                                              prices  \n",
       "0                                                NaN  \n",
       "1                                                NaN  \n",
       "2                                                NaN  \n",
       "3                                                NaN  \n",
       "4  95|66|501|112|95|100|101|72|82|56|56|143|70|25...  \n",
       "5  162|25|150|143|101|49|118|131|18|100|101|143|5...  \n",
       "6                                                NaN  \n",
       "7                                                NaN  \n",
       "8                                                NaN  "
      ]
     },
     "execution_count": 55,
     "metadata": {},
     "output_type": "execute_result"
    }
   ],
   "source": [
    "from clean_session import remove_duplicates\n",
    "remove_duplicates(temp)"
   ]
  },
  {
   "cell_type": "code",
   "execution_count": 31,
   "metadata": {},
   "outputs": [
    {
     "data": {
      "text/plain": [
       "interaction item image    0.777778\n",
       "interaction item info     0.111111\n",
       "clickout item             0.111111\n",
       "Name: action_type, dtype: float64"
      ]
     },
     "execution_count": 31,
     "metadata": {},
     "output_type": "execute_result"
    }
   ],
   "source": [
    "gm = temp.action_type.value_counts()/temp.shape[0]\n",
    "gm"
   ]
  },
  {
   "cell_type": "code",
   "execution_count": 30,
   "metadata": {},
   "outputs": [
    {
     "data": {
      "text/plain": [
       "reference  action_type           \n",
       "109038     interaction item image    7\n",
       "           clickout item             1\n",
       "666856     interaction item image    5\n",
       "1257342    clickout item             1\n",
       "3377332    interaction item image    2\n",
       "           interaction item info     2\n",
       "Name: action_type, dtype: int64"
      ]
     },
     "execution_count": 30,
     "metadata": {},
     "output_type": "execute_result"
    }
   ],
   "source": [
    "temp.groupby('reference')['action_type'].value_counts()"
   ]
  },
  {
   "cell_type": "code",
   "execution_count": 53,
   "metadata": {},
   "outputs": [
    {
     "data": {
      "text/plain": [
       "0.11965811965811966"
      ]
     },
     "execution_count": 53,
     "metadata": {},
     "output_type": "execute_result"
    }
   ],
   "source": [
    "(8*(1/8) + 5 *gm['clickout item'])/(8+5)"
   ]
  },
  {
   "cell_type": "code",
   "execution_count": 54,
   "metadata": {},
   "outputs": [
    {
     "data": {
      "text/plain": [
       "0.0617283950617284"
      ]
     },
     "execution_count": 54,
     "metadata": {},
     "output_type": "execute_result"
    }
   ],
   "source": [
    "(4*(0) + 5 *gm['clickout item'])/(4+5)"
   ]
  },
  {
   "cell_type": "code",
   "execution_count": 37,
   "metadata": {},
   "outputs": [],
   "source": [
    "# get all the unique actions\n",
    "unique_actions = temp['action_type'].unique()\n",
    "# encode them in one-hot\n",
    "action2natural = {v: k for k, v in enumerate(unique_actions)}\n",
    "action_names = list(action2natural.keys())\n",
    "actions = temp['action_type'].map(action2natural).values\n",
    "# create the ohe df\n",
    "actions_ohe = pd.DataFrame(np.eye(len(unique_actions), dtype=int)[actions], columns=action_names)"
   ]
  },
  {
   "cell_type": "code",
   "execution_count": 43,
   "metadata": {
    "scrolled": true
   },
   "outputs": [
    {
     "data": {
      "text/html": [
       "<div>\n",
       "<style scoped>\n",
       "    .dataframe tbody tr th:only-of-type {\n",
       "        vertical-align: middle;\n",
       "    }\n",
       "\n",
       "    .dataframe tbody tr th {\n",
       "        vertical-align: top;\n",
       "    }\n",
       "\n",
       "    .dataframe thead th {\n",
       "        text-align: right;\n",
       "    }\n",
       "</style>\n",
       "<table border=\"1\" class=\"dataframe\">\n",
       "  <thead>\n",
       "    <tr style=\"text-align: right;\">\n",
       "      <th></th>\n",
       "      <th>interaction item image</th>\n",
       "      <th>clickout item</th>\n",
       "      <th>interaction item info</th>\n",
       "    </tr>\n",
       "  </thead>\n",
       "  <tbody>\n",
       "    <tr>\n",
       "      <th>0</th>\n",
       "      <td>1</td>\n",
       "      <td>0</td>\n",
       "      <td>0</td>\n",
       "    </tr>\n",
       "    <tr>\n",
       "      <th>1</th>\n",
       "      <td>1</td>\n",
       "      <td>0</td>\n",
       "      <td>0</td>\n",
       "    </tr>\n",
       "    <tr>\n",
       "      <th>2</th>\n",
       "      <td>1</td>\n",
       "      <td>0</td>\n",
       "      <td>0</td>\n",
       "    </tr>\n",
       "    <tr>\n",
       "      <th>3</th>\n",
       "      <td>1</td>\n",
       "      <td>0</td>\n",
       "      <td>0</td>\n",
       "    </tr>\n",
       "    <tr>\n",
       "      <th>4</th>\n",
       "      <td>1</td>\n",
       "      <td>0</td>\n",
       "      <td>0</td>\n",
       "    </tr>\n",
       "  </tbody>\n",
       "</table>\n",
       "</div>"
      ],
      "text/plain": [
       "   interaction item image  clickout item  interaction item info\n",
       "0                       1              0                      0\n",
       "1                       1              0                      0\n",
       "2                       1              0                      0\n",
       "3                       1              0                      0\n",
       "4                       1              0                      0"
      ]
     },
     "execution_count": 43,
     "metadata": {},
     "output_type": "execute_result"
    }
   ],
   "source": [
    "actions_ohe.head()"
   ]
  },
  {
   "cell_type": "code",
   "execution_count": 40,
   "metadata": {},
   "outputs": [],
   "source": [
    "# temp"
   ]
  },
  {
   "cell_type": "code",
   "execution_count": 41,
   "metadata": {},
   "outputs": [],
   "source": [
    "ref_act = pd.concat([temp, actions_ohe], axis=1)"
   ]
  },
  {
   "cell_type": "code",
   "execution_count": 42,
   "metadata": {},
   "outputs": [
    {
     "data": {
      "text/plain": [
       "0.7777777777777778"
      ]
     },
     "execution_count": 42,
     "metadata": {},
     "output_type": "execute_result"
    }
   ],
   "source": [
    "ref_act['interaction item image'].mean()"
   ]
  },
  {
   "cell_type": "code",
   "execution_count": 45,
   "metadata": {},
   "outputs": [],
   "source": [
    " # Compute the number of values and the mean of each group\n",
    "agg = ref_act.groupby('reference')['interaction item image'].agg(['count', 'mean'])"
   ]
  },
  {
   "cell_type": "code",
   "execution_count": 50,
   "metadata": {},
   "outputs": [
    {
     "data": {
      "text/plain": [
       "reference  action_type           \n",
       "109038     interaction item image    7\n",
       "           clickout item             1\n",
       "666856     interaction item image    5\n",
       "1257342    clickout item             1\n",
       "3377332    interaction item image    2\n",
       "           interaction item info     2\n",
       "Name: action_type, dtype: int64"
      ]
     },
     "execution_count": 50,
     "metadata": {},
     "output_type": "execute_result"
    }
   ],
   "source": [
    "temp.groupby('reference')['action_type'].value_counts()"
   ]
  },
  {
   "cell_type": "code",
   "execution_count": 46,
   "metadata": {},
   "outputs": [
    {
     "data": {
      "text/plain": [
       "reference\n",
       "109038     8\n",
       "666856     5\n",
       "1257342    1\n",
       "3377332    4\n",
       "Name: count, dtype: int64"
      ]
     },
     "execution_count": 46,
     "metadata": {},
     "output_type": "execute_result"
    }
   ],
   "source": [
    "agg['count']"
   ]
  },
  {
   "cell_type": "code",
   "execution_count": 47,
   "metadata": {},
   "outputs": [
    {
     "data": {
      "text/plain": [
       "reference\n",
       "109038     0.875\n",
       "666856     1.000\n",
       "1257342    0.000\n",
       "3377332    0.500\n",
       "Name: mean, dtype: float64"
      ]
     },
     "execution_count": 47,
     "metadata": {},
     "output_type": "execute_result"
    }
   ],
   "source": [
    "agg['mean']"
   ]
  },
  {
   "cell_type": "code",
   "execution_count": 48,
   "metadata": {},
   "outputs": [
    {
     "data": {
      "text/plain": [
       "0.875"
      ]
     },
     "execution_count": 48,
     "metadata": {},
     "output_type": "execute_result"
    }
   ],
   "source": [
    "7/8"
   ]
  },
  {
   "cell_type": "code",
   "execution_count": 33,
   "metadata": {},
   "outputs": [
    {
     "data": {
      "text/html": [
       "<div>\n",
       "<style scoped>\n",
       "    .dataframe tbody tr th:only-of-type {\n",
       "        vertical-align: middle;\n",
       "    }\n",
       "\n",
       "    .dataframe tbody tr th {\n",
       "        vertical-align: top;\n",
       "    }\n",
       "\n",
       "    .dataframe thead th {\n",
       "        text-align: right;\n",
       "    }\n",
       "</style>\n",
       "<table border=\"1\" class=\"dataframe\">\n",
       "  <thead>\n",
       "    <tr style=\"text-align: right;\">\n",
       "      <th></th>\n",
       "      <th>reference</th>\n",
       "      <th>interaction item image</th>\n",
       "      <th>clickout item</th>\n",
       "      <th>interaction item info</th>\n",
       "    </tr>\n",
       "  </thead>\n",
       "  <tbody>\n",
       "    <tr>\n",
       "      <th>0</th>\n",
       "      <td>109038</td>\n",
       "      <td>0.837607</td>\n",
       "      <td>0.119658</td>\n",
       "      <td>0.042735</td>\n",
       "    </tr>\n",
       "    <tr>\n",
       "      <th>1</th>\n",
       "      <td>666856</td>\n",
       "      <td>0.888889</td>\n",
       "      <td>0.055556</td>\n",
       "      <td>0.055556</td>\n",
       "    </tr>\n",
       "    <tr>\n",
       "      <th>2</th>\n",
       "      <td>1257342</td>\n",
       "      <td>0.648148</td>\n",
       "      <td>0.259259</td>\n",
       "      <td>0.092593</td>\n",
       "    </tr>\n",
       "    <tr>\n",
       "      <th>3</th>\n",
       "      <td>3377332</td>\n",
       "      <td>0.654321</td>\n",
       "      <td>0.061728</td>\n",
       "      <td>0.283951</td>\n",
       "    </tr>\n",
       "  </tbody>\n",
       "</table>\n",
       "</div>"
      ],
      "text/plain": [
       "   reference  interaction item image  clickout item  interaction item info\n",
       "0     109038                0.837607       0.119658               0.042735\n",
       "1     666856                0.888889       0.055556               0.055556\n",
       "2    1257342                0.648148       0.259259               0.092593\n",
       "3    3377332                0.654321       0.061728               0.283951"
      ]
     },
     "execution_count": 33,
     "metadata": {},
     "output_type": "execute_result"
    }
   ],
   "source": [
    "ae_df"
   ]
  },
  {
   "cell_type": "code",
   "execution_count": null,
   "metadata": {},
   "outputs": [],
   "source": []
  },
  {
   "cell_type": "code",
   "execution_count": 8,
   "metadata": {},
   "outputs": [
    {
     "data": {
      "text/plain": [
       "array(['interaction item image', 'clickout item', 'interaction item info'],\n",
       "      dtype=object)"
      ]
     },
     "execution_count": 8,
     "metadata": {},
     "output_type": "execute_result"
    }
   ],
   "source": [
    "temp.action_type.unique()"
   ]
  },
  {
   "cell_type": "code",
   "execution_count": 9,
   "metadata": {},
   "outputs": [
    {
     "data": {
      "text/plain": [
       "array([ 666856,  109038, 1257342, 3377332])"
      ]
     },
     "execution_count": 9,
     "metadata": {},
     "output_type": "execute_result"
    }
   ],
   "source": [
    "temp.reference.unique()"
   ]
  },
  {
   "cell_type": "code",
   "execution_count": 10,
   "metadata": {},
   "outputs": [
    {
     "data": {
      "text/html": [
       "<div>\n",
       "<style scoped>\n",
       "    .dataframe tbody tr th:only-of-type {\n",
       "        vertical-align: middle;\n",
       "    }\n",
       "\n",
       "    .dataframe tbody tr th {\n",
       "        vertical-align: top;\n",
       "    }\n",
       "\n",
       "    .dataframe thead th {\n",
       "        text-align: right;\n",
       "    }\n",
       "</style>\n",
       "<table border=\"1\" class=\"dataframe\">\n",
       "  <thead>\n",
       "    <tr style=\"text-align: right;\">\n",
       "      <th></th>\n",
       "      <th>reference</th>\n",
       "      <th>interaction item image</th>\n",
       "      <th>clickout item</th>\n",
       "      <th>interaction item info</th>\n",
       "    </tr>\n",
       "  </thead>\n",
       "  <tbody>\n",
       "    <tr>\n",
       "      <th>0</th>\n",
       "      <td>109038</td>\n",
       "      <td>0.837607</td>\n",
       "      <td>0.119658</td>\n",
       "      <td>0.042735</td>\n",
       "    </tr>\n",
       "    <tr>\n",
       "      <th>1</th>\n",
       "      <td>666856</td>\n",
       "      <td>0.888889</td>\n",
       "      <td>0.055556</td>\n",
       "      <td>0.055556</td>\n",
       "    </tr>\n",
       "    <tr>\n",
       "      <th>2</th>\n",
       "      <td>1257342</td>\n",
       "      <td>0.648148</td>\n",
       "      <td>0.259259</td>\n",
       "      <td>0.092593</td>\n",
       "    </tr>\n",
       "    <tr>\n",
       "      <th>3</th>\n",
       "      <td>3377332</td>\n",
       "      <td>0.654321</td>\n",
       "      <td>0.061728</td>\n",
       "      <td>0.283951</td>\n",
       "    </tr>\n",
       "  </tbody>\n",
       "</table>\n",
       "</div>"
      ],
      "text/plain": [
       "   reference  interaction item image  clickout item  interaction item info\n",
       "0     109038                0.837607       0.119658               0.042735\n",
       "1     666856                0.888889       0.055556               0.055556\n",
       "2    1257342                0.648148       0.259259               0.092593\n",
       "3    3377332                0.654321       0.061728               0.283951"
      ]
     },
     "execution_count": 10,
     "metadata": {},
     "output_type": "execute_result"
    }
   ],
   "source": [
    "ae_df"
   ]
  },
  {
   "cell_type": "code",
   "execution_count": 23,
   "metadata": {},
   "outputs": [],
   "source": [
    "# check the encoding values\n",
    "image_global_mean = (temp.action_type=='interaction item image').sum()/temp.shape[0]\n",
    "click_global_mean = (temp.action_type=='clickout item').sum()/temp.shape[0]\n",
    "inter_global_mean = (temp.action_type=='interaction item info').sum()/temp.shape[0]"
   ]
  },
  {
   "cell_type": "code",
   "execution_count": 12,
   "metadata": {},
   "outputs": [
    {
     "data": {
      "text/plain": [
       "0.7777777777777778"
      ]
     },
     "execution_count": 12,
     "metadata": {},
     "output_type": "execute_result"
    }
   ],
   "source": [
    "image_global_mean"
   ]
  },
  {
   "cell_type": "code",
   "execution_count": 20,
   "metadata": {},
   "outputs": [
    {
     "data": {
      "text/plain": [
       "0.1111111111111111"
      ]
     },
     "execution_count": 20,
     "metadata": {},
     "output_type": "execute_result"
    }
   ],
   "source": [
    "click_global_mean"
   ]
  },
  {
   "cell_type": "code",
   "execution_count": 13,
   "metadata": {},
   "outputs": [
    {
     "data": {
      "text/plain": [
       "[5, 5, 5]"
      ]
     },
     "execution_count": 13,
     "metadata": {},
     "output_type": "execute_result"
    }
   ],
   "source": [
    "M = [5] * len(temp.action_type.unique())\n",
    "M"
   ]
  },
  {
   "cell_type": "code",
   "execution_count": 14,
   "metadata": {},
   "outputs": [],
   "source": [
    "demo = temp[temp.reference==109038]"
   ]
  },
  {
   "cell_type": "code",
   "execution_count": 15,
   "metadata": {},
   "outputs": [
    {
     "data": {
      "text/plain": [
       "(8, 12)"
      ]
     },
     "execution_count": 15,
     "metadata": {},
     "output_type": "execute_result"
    }
   ],
   "source": [
    "demo.shape"
   ]
  },
  {
   "cell_type": "code",
   "execution_count": 16,
   "metadata": {},
   "outputs": [
    {
     "data": {
      "text/plain": [
       "interaction item image    7\n",
       "clickout item             1\n",
       "Name: action_type, dtype: int64"
      ]
     },
     "execution_count": 16,
     "metadata": {},
     "output_type": "execute_result"
    }
   ],
   "source": [
    "demo.action_type.value_counts()"
   ]
  },
  {
   "cell_type": "code",
   "execution_count": 17,
   "metadata": {},
   "outputs": [
    {
     "data": {
      "text/plain": [
       "0.8344907407407408"
      ]
     },
     "execution_count": 17,
     "metadata": {},
     "output_type": "execute_result"
    }
   ],
   "source": [
    "smoothed = (7*(7/8) + 5*image_global_mean)/(7+5)\n",
    "smoothed"
   ]
  },
  {
   "cell_type": "code",
   "execution_count": 18,
   "metadata": {},
   "outputs": [
    {
     "data": {
      "text/html": [
       "<div>\n",
       "<style scoped>\n",
       "    .dataframe tbody tr th:only-of-type {\n",
       "        vertical-align: middle;\n",
       "    }\n",
       "\n",
       "    .dataframe tbody tr th {\n",
       "        vertical-align: top;\n",
       "    }\n",
       "\n",
       "    .dataframe thead th {\n",
       "        text-align: right;\n",
       "    }\n",
       "</style>\n",
       "<table border=\"1\" class=\"dataframe\">\n",
       "  <thead>\n",
       "    <tr style=\"text-align: right;\">\n",
       "      <th></th>\n",
       "      <th>reference</th>\n",
       "      <th>interaction item image</th>\n",
       "      <th>clickout item</th>\n",
       "      <th>interaction item info</th>\n",
       "    </tr>\n",
       "  </thead>\n",
       "  <tbody>\n",
       "    <tr>\n",
       "      <th>0</th>\n",
       "      <td>109038</td>\n",
       "      <td>0.837607</td>\n",
       "      <td>0.119658</td>\n",
       "      <td>0.042735</td>\n",
       "    </tr>\n",
       "    <tr>\n",
       "      <th>1</th>\n",
       "      <td>666856</td>\n",
       "      <td>0.888889</td>\n",
       "      <td>0.055556</td>\n",
       "      <td>0.055556</td>\n",
       "    </tr>\n",
       "    <tr>\n",
       "      <th>2</th>\n",
       "      <td>1257342</td>\n",
       "      <td>0.648148</td>\n",
       "      <td>0.259259</td>\n",
       "      <td>0.092593</td>\n",
       "    </tr>\n",
       "    <tr>\n",
       "      <th>3</th>\n",
       "      <td>3377332</td>\n",
       "      <td>0.654321</td>\n",
       "      <td>0.061728</td>\n",
       "      <td>0.283951</td>\n",
       "    </tr>\n",
       "  </tbody>\n",
       "</table>\n",
       "</div>"
      ],
      "text/plain": [
       "   reference  interaction item image  clickout item  interaction item info\n",
       "0     109038                0.837607       0.119658               0.042735\n",
       "1     666856                0.888889       0.055556               0.055556\n",
       "2    1257342                0.648148       0.259259               0.092593\n",
       "3    3377332                0.654321       0.061728               0.283951"
      ]
     },
     "execution_count": 18,
     "metadata": {},
     "output_type": "execute_result"
    }
   ],
   "source": [
    "# temp.groupby(['session_id', 'reference', 'action_type']).sum().reset_index()\n",
    "ae_df"
   ]
  },
  {
   "cell_type": "code",
   "execution_count": 22,
   "metadata": {},
   "outputs": [
    {
     "data": {
      "text/plain": [
       "0.11342592592592593"
      ]
     },
     "execution_count": 22,
     "metadata": {},
     "output_type": "execute_result"
    }
   ],
   "source": [
    "smoothed = (1*(1/8) + 5*click_global_mean)/(1+5)\n",
    "smoothed"
   ]
  },
  {
   "cell_type": "code",
   "execution_count": 24,
   "metadata": {},
   "outputs": [
    {
     "data": {
      "text/plain": [
       "0.11111111111111112"
      ]
     },
     "execution_count": 24,
     "metadata": {},
     "output_type": "execute_result"
    }
   ],
   "source": [
    "smoothed = (0 + 5*inter_global_mean)/5\n",
    "smoothed"
   ]
  },
  {
   "cell_type": "code",
   "execution_count": null,
   "metadata": {},
   "outputs": [],
   "source": []
  }
 ],
 "metadata": {
  "kernelspec": {
   "display_name": "Python 3",
   "language": "python",
   "name": "python3"
  },
  "language_info": {
   "codemirror_mode": {
    "name": "ipython",
    "version": 3
   },
   "file_extension": ".py",
   "mimetype": "text/x-python",
   "name": "python",
   "nbconvert_exporter": "python",
   "pygments_lexer": "ipython3",
   "version": "3.6.8"
  }
 },
 "nbformat": 4,
 "nbformat_minor": 2
}
