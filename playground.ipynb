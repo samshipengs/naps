{
 "cells": [
  {
   "cell_type": "code",
   "execution_count": 1,
   "metadata": {},
   "outputs": [],
   "source": [
    "import pandas as pd\n",
    "import numpy as np\n",
    "import datetime\n",
    "import time \n",
    "import os\n",
    "import gc\n",
    "from tqdm import tqdm\n",
    "\n",
    "%matplotlib inline\n",
    "%load_ext autoreload\n",
    "%autoreload 2"
   ]
  },
  {
   "cell_type": "code",
   "execution_count": 4,
   "metadata": {},
   "outputs": [],
   "source": [
    "ts = pd.read_hdf('./data/train.h5', 'xtrain')"
   ]
  },
  {
   "cell_type": "code",
   "execution_count": 5,
   "metadata": {},
   "outputs": [
    {
     "data": {
      "text/html": [
       "<div>\n",
       "<style scoped>\n",
       "    .dataframe tbody tr th:only-of-type {\n",
       "        vertical-align: middle;\n",
       "    }\n",
       "\n",
       "    .dataframe tbody tr th {\n",
       "        vertical-align: top;\n",
       "    }\n",
       "\n",
       "    .dataframe thead th {\n",
       "        text-align: right;\n",
       "    }\n",
       "</style>\n",
       "<table border=\"1\" class=\"dataframe\">\n",
       "  <thead>\n",
       "    <tr style=\"text-align: right;\">\n",
       "      <th></th>\n",
       "      <th>session_id</th>\n",
       "      <th>appeared</th>\n",
       "      <th>appeared_co</th>\n",
       "      <th>clickout item_ctn</th>\n",
       "      <th>clickout item_per</th>\n",
       "      <th>diff_mean</th>\n",
       "      <th>diff_mean_rel</th>\n",
       "      <th>diff_median</th>\n",
       "      <th>diff_median_rel</th>\n",
       "      <th>er_mean</th>\n",
       "      <th>...</th>\n",
       "      <th>action_type_click_rel_pos_avg</th>\n",
       "      <th>city_nunique</th>\n",
       "      <th>city_get_first</th>\n",
       "      <th>platform_get_first</th>\n",
       "      <th>device_get_first</th>\n",
       "      <th>nfilters_mean</th>\n",
       "      <th>nfilters_max</th>\n",
       "      <th>nfilters_min</th>\n",
       "      <th>nfilters_get_last</th>\n",
       "      <th>nimps_max</th>\n",
       "    </tr>\n",
       "  </thead>\n",
       "  <tbody>\n",
       "    <tr>\n",
       "      <th>0</th>\n",
       "      <td>0266e4f67c9c9</td>\n",
       "      <td>2</td>\n",
       "      <td>0</td>\n",
       "      <td>2.0</td>\n",
       "      <td>1.000000</td>\n",
       "      <td>-2.956522</td>\n",
       "      <td>-0.026164</td>\n",
       "      <td>-3.0</td>\n",
       "      <td>-0.026549</td>\n",
       "      <td>NaN</td>\n",
       "      <td>...</td>\n",
       "      <td>0.619048</td>\n",
       "      <td>1</td>\n",
       "      <td>Akaroa, New Zealand</td>\n",
       "      <td>NZ</td>\n",
       "      <td>desktop</td>\n",
       "      <td>NaN</td>\n",
       "      <td>NaN</td>\n",
       "      <td>NaN</td>\n",
       "      <td>NaN</td>\n",
       "      <td>23.0</td>\n",
       "    </tr>\n",
       "    <tr>\n",
       "      <th>1</th>\n",
       "      <td>0266e4f67c9c9</td>\n",
       "      <td>2</td>\n",
       "      <td>0</td>\n",
       "      <td>3.0</td>\n",
       "      <td>0.071429</td>\n",
       "      <td>-25.956522</td>\n",
       "      <td>-0.288406</td>\n",
       "      <td>-26.0</td>\n",
       "      <td>-0.288889</td>\n",
       "      <td>NaN</td>\n",
       "      <td>...</td>\n",
       "      <td>0.619048</td>\n",
       "      <td>1</td>\n",
       "      <td>Akaroa, New Zealand</td>\n",
       "      <td>NZ</td>\n",
       "      <td>desktop</td>\n",
       "      <td>NaN</td>\n",
       "      <td>NaN</td>\n",
       "      <td>NaN</td>\n",
       "      <td>NaN</td>\n",
       "      <td>23.0</td>\n",
       "    </tr>\n",
       "    <tr>\n",
       "      <th>2</th>\n",
       "      <td>0266e4f67c9c9</td>\n",
       "      <td>2</td>\n",
       "      <td>0</td>\n",
       "      <td>1.0</td>\n",
       "      <td>0.052632</td>\n",
       "      <td>14.043478</td>\n",
       "      <td>0.108027</td>\n",
       "      <td>14.0</td>\n",
       "      <td>0.107692</td>\n",
       "      <td>NaN</td>\n",
       "      <td>...</td>\n",
       "      <td>0.619048</td>\n",
       "      <td>1</td>\n",
       "      <td>Akaroa, New Zealand</td>\n",
       "      <td>NZ</td>\n",
       "      <td>desktop</td>\n",
       "      <td>NaN</td>\n",
       "      <td>NaN</td>\n",
       "      <td>NaN</td>\n",
       "      <td>NaN</td>\n",
       "      <td>23.0</td>\n",
       "    </tr>\n",
       "    <tr>\n",
       "      <th>3</th>\n",
       "      <td>0266e4f67c9c9</td>\n",
       "      <td>2</td>\n",
       "      <td>0</td>\n",
       "      <td>1.0</td>\n",
       "      <td>0.125000</td>\n",
       "      <td>14.043478</td>\n",
       "      <td>0.108027</td>\n",
       "      <td>14.0</td>\n",
       "      <td>0.107692</td>\n",
       "      <td>NaN</td>\n",
       "      <td>...</td>\n",
       "      <td>0.619048</td>\n",
       "      <td>1</td>\n",
       "      <td>Akaroa, New Zealand</td>\n",
       "      <td>NZ</td>\n",
       "      <td>desktop</td>\n",
       "      <td>NaN</td>\n",
       "      <td>NaN</td>\n",
       "      <td>NaN</td>\n",
       "      <td>NaN</td>\n",
       "      <td>23.0</td>\n",
       "    </tr>\n",
       "    <tr>\n",
       "      <th>4</th>\n",
       "      <td>0266e4f67c9c9</td>\n",
       "      <td>2</td>\n",
       "      <td>0</td>\n",
       "      <td>3.0</td>\n",
       "      <td>0.272727</td>\n",
       "      <td>-12.956522</td>\n",
       "      <td>-0.125791</td>\n",
       "      <td>-13.0</td>\n",
       "      <td>-0.126214</td>\n",
       "      <td>NaN</td>\n",
       "      <td>...</td>\n",
       "      <td>0.619048</td>\n",
       "      <td>1</td>\n",
       "      <td>Akaroa, New Zealand</td>\n",
       "      <td>NZ</td>\n",
       "      <td>desktop</td>\n",
       "      <td>NaN</td>\n",
       "      <td>NaN</td>\n",
       "      <td>NaN</td>\n",
       "      <td>NaN</td>\n",
       "      <td>23.0</td>\n",
       "    </tr>\n",
       "  </tbody>\n",
       "</table>\n",
       "<p>5 rows × 66 columns</p>\n",
       "</div>"
      ],
      "text/plain": [
       "      session_id  appeared  appeared_co  clickout item_ctn  clickout item_per  \\\n",
       "0  0266e4f67c9c9         2            0                2.0           1.000000   \n",
       "1  0266e4f67c9c9         2            0                3.0           0.071429   \n",
       "2  0266e4f67c9c9         2            0                1.0           0.052632   \n",
       "3  0266e4f67c9c9         2            0                1.0           0.125000   \n",
       "4  0266e4f67c9c9         2            0                3.0           0.272727   \n",
       "\n",
       "   diff_mean  diff_mean_rel  diff_median  diff_median_rel  er_mean  ...  \\\n",
       "0  -2.956522      -0.026164         -3.0        -0.026549      NaN  ...   \n",
       "1 -25.956522      -0.288406        -26.0        -0.288889      NaN  ...   \n",
       "2  14.043478       0.108027         14.0         0.107692      NaN  ...   \n",
       "3  14.043478       0.108027         14.0         0.107692      NaN  ...   \n",
       "4 -12.956522      -0.125791        -13.0        -0.126214      NaN  ...   \n",
       "\n",
       "   action_type_click_rel_pos_avg  city_nunique       city_get_first  \\\n",
       "0                       0.619048             1  Akaroa, New Zealand   \n",
       "1                       0.619048             1  Akaroa, New Zealand   \n",
       "2                       0.619048             1  Akaroa, New Zealand   \n",
       "3                       0.619048             1  Akaroa, New Zealand   \n",
       "4                       0.619048             1  Akaroa, New Zealand   \n",
       "\n",
       "   platform_get_first  device_get_first  nfilters_mean  nfilters_max  \\\n",
       "0                  NZ           desktop            NaN           NaN   \n",
       "1                  NZ           desktop            NaN           NaN   \n",
       "2                  NZ           desktop            NaN           NaN   \n",
       "3                  NZ           desktop            NaN           NaN   \n",
       "4                  NZ           desktop            NaN           NaN   \n",
       "\n",
       "   nfilters_min  nfilters_get_last  nimps_max  \n",
       "0           NaN                NaN       23.0  \n",
       "1           NaN                NaN       23.0  \n",
       "2           NaN                NaN       23.0  \n",
       "3           NaN                NaN       23.0  \n",
       "4           NaN                NaN       23.0  \n",
       "\n",
       "[5 rows x 66 columns]"
      ]
     },
     "execution_count": 5,
     "metadata": {},
     "output_type": "execute_result"
    }
   ],
   "source": [
    "ts.head()"
   ]
  },
  {
   "cell_type": "code",
   "execution_count": 9,
   "metadata": {
    "scrolled": false
   },
   "outputs": [
    {
     "data": {
      "text/plain": [
       "excellent_rating                                                                 1\n",
       "good_rating                                                                      1\n",
       "gr_mean                                                                        NaN\n",
       "interaction item deals_ctn                                                       0\n",
       "interaction item deals_per                                                       0\n",
       "interaction item image_ctn                                                       7\n",
       "interaction item image_per                                                   0.875\n",
       "interaction item info_ctn                                                        0\n",
       "interaction item info_per                                                        0\n",
       "interaction item rating_ctn                                                      0\n",
       "interaction item rating_per                                                      0\n",
       "item_id                                                                    2176108\n",
       "location                                                                         3\n",
       "n_clicks                                                                         1\n",
       "n_matches                                                                      NaN\n",
       "n_matches_per                                                                  NaN\n",
       "nprop                                                                           27\n",
       "p_mean                                                                         NaN\n",
       "prev_change of sort order                                                        0\n",
       "prev_clickout item                                                               2\n",
       "prev_filter selection                                                            0\n",
       "prev_interaction item deals                                                      0\n",
       "prev_interaction item image                                                      4\n",
       "prev_interaction item info                                                       0\n",
       "prev_interaction item rating                                                     0\n",
       "prev_search for destination                                                      0\n",
       "prev_search for item                                                             0\n",
       "prev_search for poi                                                              0\n",
       "price                                                                          130\n",
       "price_mean                                                                 115.957\n",
       "price_median                                                                   116\n",
       "ps                               [satellite tv, sitting area (rooms), wifi (pub...\n",
       "rel_price_rank                                                             0.73913\n",
       "satisfactory_rating                                                              1\n",
       "search for item_ctn                                                              0\n",
       "search for item_per                                                              0\n",
       "sr_mean                                                                        NaN\n",
       "star                                                                           NaN\n",
       "star_mean                                                                      NaN\n",
       "target                                                                           0\n",
       "timestamp_ptp                                                                  352\n",
       "timestamp_mean_dwell_time                                                  58.6667\n",
       "timestamp_var_dwell_time                                                   8211.22\n",
       "step_max                                                                         7\n",
       "action_type_nunique                                                              2\n",
       "action_type_n_clickouts                                                          3\n",
       "action_type_click_rel_pos_avg                                             0.619048\n",
       "city_nunique                                                                     1\n",
       "city_get_first                                                 Akaroa, New Zealand\n",
       "platform_get_first                                                              NZ\n",
       "device_get_first                                                           desktop\n",
       "nfilters_mean                                                                  NaN\n",
       "nfilters_max                                                                   NaN\n",
       "nfilters_min                                                                   NaN\n",
       "nfilters_get_last                                                              NaN\n",
       "nimps_max                                                                       23\n",
       "Name: 3, dtype: object"
      ]
     },
     "execution_count": 9,
     "metadata": {},
     "output_type": "execute_result"
    }
   ],
   "source": [
    "ts.iloc[3][10:]"
   ]
  },
  {
   "cell_type": "code",
   "execution_count": null,
   "metadata": {},
   "outputs": [],
   "source": []
  },
  {
   "cell_type": "code",
   "execution_count": null,
   "metadata": {},
   "outputs": [],
   "source": [
    "# import warnings\n",
    "# warnings.simplefilter(action='ignore', category=FutureWarning)\n",
    "# '''/anaconda3/lib/python3.7/site-packages/numpy/core/fromnumeric.py:51: FutureWarning: Series.nonzero() is deprecated and will be removed in a future version.Use Series.to_numpy().nonzero() instead\n",
    "#   return getattr(obj, method)(*args, **kwds)'''"
   ]
  },
  {
   "cell_type": "code",
   "execution_count": null,
   "metadata": {},
   "outputs": [],
   "source": [
    "data_path = './data/'\n",
    "!ls -lthr data/"
   ]
  },
  {
   "cell_type": "code",
   "execution_count": null,
   "metadata": {},
   "outputs": [],
   "source": [
    "def pshape(df):\n",
    "    print(f'df len: {df.shape[0]:,}')"
   ]
  },
  {
   "cell_type": "code",
   "execution_count": null,
   "metadata": {},
   "outputs": [],
   "source": [
    "%%time\n",
    "# nrows = 10000\n",
    "nrows = None\n",
    "train = pd.read_csv(data_path+'train.csv', nrows=nrows)"
   ]
  },
  {
   "cell_type": "code",
   "execution_count": null,
   "metadata": {},
   "outputs": [],
   "source": [
    "xtrain = pd.read_hdf('./data/train.h5', 'xval')"
   ]
  },
  {
   "cell_type": "code",
   "execution_count": null,
   "metadata": {},
   "outputs": [],
   "source": [
    "xtrain.head()"
   ]
  },
  {
   "cell_type": "code",
   "execution_count": null,
   "metadata": {},
   "outputs": [],
   "source": [
    "set(xtrain.session_id).intersection(train[train.current_filters.notna()].session_id.unique())"
   ]
  },
  {
   "cell_type": "code",
   "execution_count": null,
   "metadata": {},
   "outputs": [],
   "source": [
    "sid = np.random.choice(list(set(xtrain.session_id).intersection(train[train.current_filters.notna()].session_id.unique())), 1)[0]\n",
    "sid"
   ]
  },
  {
   "cell_type": "code",
   "execution_count": null,
   "metadata": {},
   "outputs": [],
   "source": [
    "train[train.session_id==sid]#.iloc[-1]"
   ]
  },
  {
   "cell_type": "code",
   "execution_count": null,
   "metadata": {},
   "outputs": [],
   "source": [
    "xtrain[xtrain.session_id==sid]['n_matches']"
   ]
  },
  {
   "cell_type": "code",
   "execution_count": null,
   "metadata": {},
   "outputs": [],
   "source": [
    "xtrain.n_matches.unique()"
   ]
  },
  {
   "cell_type": "code",
   "execution_count": null,
   "metadata": {},
   "outputs": [],
   "source": [
    "meta"
   ]
  },
  {
   "cell_type": "code",
   "execution_count": null,
   "metadata": {},
   "outputs": [],
   "source": [
    "train[train.session_id=='0001fe0007954']"
   ]
  },
  {
   "cell_type": "code",
   "execution_count": null,
   "metadata": {},
   "outputs": [],
   "source": [
    "set(np.array([-1,0]))"
   ]
  },
  {
   "cell_type": "code",
   "execution_count": null,
   "metadata": {
    "scrolled": true
   },
   "outputs": [],
   "source": [
    "xtrain[xtrain.session_id=='0266e4f67c9c9']"
   ]
  },
  {
   "cell_type": "code",
   "execution_count": null,
   "metadata": {},
   "outputs": [],
   "source": [
    "train[train.session_id=='0266e4f67c9c9'].iloc[:7]"
   ]
  },
  {
   "cell_type": "code",
   "execution_count": null,
   "metadata": {},
   "outputs": [],
   "source": [
    "train[train.session_id=='0266e4f67c9c9'].iloc[2].impressions"
   ]
  },
  {
   "cell_type": "code",
   "execution_count": null,
   "metadata": {},
   "outputs": [],
   "source": [
    "len(train[train.session_id=='0266e4f67c9c9'].iloc[2].impressions.split('|'))"
   ]
  },
  {
   "cell_type": "code",
   "execution_count": null,
   "metadata": {},
   "outputs": [],
   "source": []
  },
  {
   "cell_type": "code",
   "execution_count": null,
   "metadata": {},
   "outputs": [],
   "source": [
    "%%time\n",
    "all_filters = train['current_filters'][train.current_filters.notna()].str.split('|').sum()"
   ]
  },
  {
   "cell_type": "code",
   "execution_count": null,
   "metadata": {},
   "outputs": [],
   "source": [
    "%%time\n",
    "all_filter = train['current_filters'][train.current_filters.notna()].str.split('|')"
   ]
  },
  {
   "cell_type": "code",
   "execution_count": null,
   "metadata": {},
   "outputs": [],
   "source": [
    "all_filter.values"
   ]
  },
  {
   "cell_type": "code",
   "execution_count": null,
   "metadata": {},
   "outputs": [],
   "source": [
    "%%time\n",
    "a = [j for i in tqdm(all_filter) for j in i]"
   ]
  },
  {
   "cell_type": "code",
   "execution_count": null,
   "metadata": {},
   "outputs": [],
   "source": [
    "type(np.nan) == float"
   ]
  },
  {
   "cell_type": "code",
   "execution_count": null,
   "metadata": {
    "scrolled": false
   },
   "outputs": [],
   "source": [
    "set(a)"
   ]
  },
  {
   "cell_type": "code",
   "execution_count": null,
   "metadata": {},
   "outputs": [],
   "source": []
  },
  {
   "cell_type": "code",
   "execution_count": null,
   "metadata": {},
   "outputs": [],
   "source": [
    "a_ctn = pd.value_counts(a)"
   ]
  },
  {
   "cell_type": "code",
   "execution_count": null,
   "metadata": {},
   "outputs": [],
   "source": [
    "a_ctn['Gay Friendly']"
   ]
  },
  {
   "cell_type": "code",
   "execution_count": null,
   "metadata": {},
   "outputs": [],
   "source": [
    "len(a)"
   ]
  },
  {
   "cell_type": "code",
   "execution_count": null,
   "metadata": {},
   "outputs": [],
   "source": [
    "len(set(a))"
   ]
  },
  {
   "cell_type": "code",
   "execution_count": null,
   "metadata": {},
   "outputs": [],
   "source": [
    "meta = pd.read_csv('./data/item_metadata.csv')"
   ]
  },
  {
   "cell_type": "code",
   "execution_count": null,
   "metadata": {},
   "outputs": [],
   "source": [
    "ap = meta.properties.str.split('|')"
   ]
  },
  {
   "cell_type": "code",
   "execution_count": null,
   "metadata": {},
   "outputs": [],
   "source": [
    "ap = [j for i in ap for j in i]"
   ]
  },
  {
   "cell_type": "code",
   "execution_count": null,
   "metadata": {},
   "outputs": [],
   "source": [
    "ap"
   ]
  },
  {
   "cell_type": "code",
   "execution_count": null,
   "metadata": {},
   "outputs": [],
   "source": [
    "len(set(ap))"
   ]
  },
  {
   "cell_type": "code",
   "execution_count": null,
   "metadata": {},
   "outputs": [],
   "source": [
    "len(set(a).intersection(set(ap)))"
   ]
  },
  {
   "cell_type": "code",
   "execution_count": null,
   "metadata": {},
   "outputs": [],
   "source": [
    "set(ap)"
   ]
  },
  {
   "cell_type": "code",
   "execution_count": null,
   "metadata": {},
   "outputs": [],
   "source": [
    "set(ap) - set(a)"
   ]
  },
  {
   "cell_type": "code",
   "execution_count": null,
   "metadata": {
    "scrolled": true
   },
   "outputs": [],
   "source": [
    "set(a) - set(ap)"
   ]
  },
  {
   "cell_type": "code",
   "execution_count": null,
   "metadata": {},
   "outputs": [],
   "source": [
    "xtrain.shape"
   ]
  },
  {
   "cell_type": "code",
   "execution_count": null,
   "metadata": {},
   "outputs": [],
   "source": [
    "xtrain.columns"
   ]
  },
  {
   "cell_type": "code",
   "execution_count": null,
   "metadata": {},
   "outputs": [],
   "source": [
    "train.current_filters.isna().sum()"
   ]
  },
  {
   "cell_type": "code",
   "execution_count": null,
   "metadata": {},
   "outputs": [],
   "source": [
    "p = train.current_filters.str.split('|')"
   ]
  },
  {
   "cell_type": "code",
   "execution_count": null,
   "metadata": {},
   "outputs": [],
   "source": [
    "p.iloc[-1]"
   ]
  },
  {
   "cell_type": "code",
   "execution_count": null,
   "metadata": {},
   "outputs": [],
   "source": [
    "mp = pd.read_csv('./data/train_meta_fts.csv')"
   ]
  },
  {
   "cell_type": "code",
   "execution_count": null,
   "metadata": {},
   "outputs": [],
   "source": [
    "mp['ps']"
   ]
  },
  {
   "cell_type": "code",
   "execution_count": null,
   "metadata": {},
   "outputs": [],
   "source": []
  },
  {
   "cell_type": "code",
   "execution_count": null,
   "metadata": {},
   "outputs": [],
   "source": [
    "test = pd.read_csv(data_path+'test.csv', nrows=nrows)"
   ]
  },
  {
   "cell_type": "code",
   "execution_count": null,
   "metadata": {},
   "outputs": [],
   "source": [
    "train.head()"
   ]
  },
  {
   "cell_type": "code",
   "execution_count": null,
   "metadata": {},
   "outputs": [],
   "source": [
    "%%time\n",
    "train['ts'] = train['timestamp'].apply(lambda t: datetime.datetime.utcfromtimestamp(t))\n"
   ]
  },
  {
   "cell_type": "code",
   "execution_count": null,
   "metadata": {},
   "outputs": [],
   "source": [
    "train_sids = train[train['ts'] <= datetime.datetime(2018, 11, 6)].session_id.unique()"
   ]
  },
  {
   "cell_type": "code",
   "execution_count": null,
   "metadata": {},
   "outputs": [],
   "source": [
    "len(train_sids)"
   ]
  },
  {
   "cell_type": "code",
   "execution_count": null,
   "metadata": {},
   "outputs": [],
   "source": [
    "train.session_id.nunique()"
   ]
  },
  {
   "cell_type": "code",
   "execution_count": null,
   "metadata": {},
   "outputs": [],
   "source": [
    "749790/910683"
   ]
  },
  {
   "cell_type": "code",
   "execution_count": null,
   "metadata": {},
   "outputs": [],
   "source": [
    "xtrain = pd.read_hdf('./data/train.h5', key='xtrain')"
   ]
  },
  {
   "cell_type": "code",
   "execution_count": null,
   "metadata": {},
   "outputs": [],
   "source": [
    "xtrain.shape"
   ]
  },
  {
   "cell_type": "code",
   "execution_count": null,
   "metadata": {},
   "outputs": [],
   "source": [
    "xval = pd.read_hdf('./data/train.h5', key='xval')"
   ]
  },
  {
   "cell_type": "code",
   "execution_count": null,
   "metadata": {},
   "outputs": [],
   "source": [
    "xval.shape"
   ]
  },
  {
   "cell_type": "code",
   "execution_count": null,
   "metadata": {},
   "outputs": [],
   "source": [
    "3311588/(3311588+15461026)"
   ]
  },
  {
   "cell_type": "code",
   "execution_count": null,
   "metadata": {},
   "outputs": [],
   "source": []
  },
  {
   "cell_type": "code",
   "execution_count": null,
   "metadata": {
    "scrolled": true
   },
   "outputs": [],
   "source": [
    "pshape(train)"
   ]
  },
  {
   "cell_type": "code",
   "execution_count": null,
   "metadata": {},
   "outputs": [],
   "source": [
    "test = pd.read_csv(data_path+'test.csv', nrows=None)\n",
    "pshape(test)"
   ]
  },
  {
   "cell_type": "code",
   "execution_count": null,
   "metadata": {},
   "outputs": [],
   "source": [
    "sub = pd.read_csv(data_path+'submission_popular.csv')"
   ]
  },
  {
   "cell_type": "code",
   "execution_count": null,
   "metadata": {},
   "outputs": [],
   "source": [
    "sub.head()"
   ]
  },
  {
   "cell_type": "code",
   "execution_count": null,
   "metadata": {},
   "outputs": [],
   "source": [
    "sids = train.session_id.unique()"
   ]
  },
  {
   "cell_type": "code",
   "execution_count": null,
   "metadata": {},
   "outputs": [],
   "source": [
    "rid = np.random.choice(sids, 1)[0]\n",
    "rid"
   ]
  },
  {
   "cell_type": "code",
   "execution_count": null,
   "metadata": {},
   "outputs": [],
   "source": [
    "train[train.session_id==rid]"
   ]
  },
  {
   "cell_type": "code",
   "execution_count": null,
   "metadata": {},
   "outputs": [],
   "source": [
    "train_users = train.user_id.unique()\n",
    "test_users = test.user_id.unique()"
   ]
  },
  {
   "cell_type": "code",
   "execution_count": null,
   "metadata": {},
   "outputs": [],
   "source": [
    "len(set(train_users).intersection(test_users))"
   ]
  },
  {
   "cell_type": "code",
   "execution_count": null,
   "metadata": {},
   "outputs": [],
   "source": [
    "len(train_users)"
   ]
  },
  {
   "cell_type": "code",
   "execution_count": null,
   "metadata": {},
   "outputs": [],
   "source": [
    "len(test_users)"
   ]
  },
  {
   "cell_type": "code",
   "execution_count": null,
   "metadata": {},
   "outputs": [],
   "source": [
    "33614/250852"
   ]
  },
  {
   "cell_type": "code",
   "execution_count": null,
   "metadata": {},
   "outputs": [],
   "source": [
    "xtrain.groupby('session_id').size().hist()"
   ]
  },
  {
   "cell_type": "code",
   "execution_count": null,
   "metadata": {},
   "outputs": [],
   "source": [
    "pd.value_counts([2,2,2,10,-1])"
   ]
  },
  {
   "cell_type": "code",
   "execution_count": null,
   "metadata": {},
   "outputs": [],
   "source": [
    "pd.value_counts([2,2,2,10,-1]).to_dict()"
   ]
  },
  {
   "cell_type": "code",
   "execution_count": null,
   "metadata": {},
   "outputs": [],
   "source": [
    "# nunique previous clickout item_id\n",
    "# previous appeared counts instead of boolean\n",
    "# previous action_types occured"
   ]
  },
  {
   "cell_type": "code",
   "execution_count": null,
   "metadata": {},
   "outputs": [],
   "source": [
    "train[train.session_id=='3e2a48ff1b59a']"
   ]
  },
  {
   "cell_type": "code",
   "execution_count": null,
   "metadata": {},
   "outputs": [],
   "source": [
    "train.action_type.nunique()"
   ]
  },
  {
   "cell_type": "code",
   "execution_count": null,
   "metadata": {},
   "outputs": [],
   "source": [
    "ty = train.action_type.unique()\n",
    "m = {v: k for k, v in enumerate(ty)}"
   ]
  },
  {
   "cell_type": "code",
   "execution_count": null,
   "metadata": {},
   "outputs": [],
   "source": [
    "train.iloc[:10]['action_type'].map(m).values"
   ]
  },
  {
   "cell_type": "code",
   "execution_count": null,
   "metadata": {},
   "outputs": [],
   "source": [
    "train[train.session_id=='3e2a48ff1b59a'].iloc[[2, 3]].impressions.values"
   ]
  },
  {
   "cell_type": "code",
   "execution_count": null,
   "metadata": {},
   "outputs": [],
   "source": [
    "a = np.eye(10)[np.random.randint(0, 5, 4)]\n",
    "a"
   ]
  },
  {
   "cell_type": "code",
   "execution_count": null,
   "metadata": {},
   "outputs": [],
   "source": [
    "a.sum(axis=0)"
   ]
  },
  {
   "cell_type": "code",
   "execution_count": null,
   "metadata": {},
   "outputs": [],
   "source": [
    "np.tile(a.sum(axis=0), (3, 1))"
   ]
  },
  {
   "cell_type": "code",
   "execution_count": null,
   "metadata": {},
   "outputs": [],
   "source": []
  },
  {
   "cell_type": "code",
   "execution_count": null,
   "metadata": {},
   "outputs": [],
   "source": []
  },
  {
   "cell_type": "code",
   "execution_count": null,
   "metadata": {},
   "outputs": [],
   "source": []
  },
  {
   "cell_type": "code",
   "execution_count": null,
   "metadata": {},
   "outputs": [],
   "source": [
    "%%time\n",
    "# encode action type info into reference ids, we do so by getting all the data from both train and test\n",
    "action_train = pd.read_csv(data_path+'train.csv', usecols=['action_type', 'reference'])\n",
    "action_test = pd.read_csv(data_path+'test.csv', usecols=['action_type', 'reference'])\n",
    "action_cb = pd.concat([action_train, action_test], ignore_index=True)\n",
    "del action_train, action_test\n",
    "# remove rows whose action type is not ids\n",
    "no_ids = ['search for poi', 'search for destination', 'filter selection', 'change of sort order']\n",
    "action_cb = action_cb[~action_cb['action_type'].isin(no_ids)].reset_index(drop=True)\n",
    "action_cb = action_cb.dropna().reset_index(drop=True)\n",
    "is_id = action_cb['reference'].str.match('\\d')\n",
    "action_cb = action_cb[is_id].reset_index(drop=True)\n",
    "action_cb['reference'] = action_cb['reference'].astype(int)\n",
    "\n",
    "print('group on ids')\n",
    "action_grp = action_cb.groupby('reference')['action_type']"
   ]
  },
  {
   "cell_type": "code",
   "execution_count": null,
   "metadata": {
    "scrolled": true
   },
   "outputs": [],
   "source": [
    "action_cb.reference"
   ]
  },
  {
   "cell_type": "code",
   "execution_count": null,
   "metadata": {},
   "outputs": [],
   "source": [
    "action_ctn = action_grp.value_counts()"
   ]
  },
  {
   "cell_type": "code",
   "execution_count": null,
   "metadata": {},
   "outputs": [],
   "source": [
    "action_ctn.head()"
   ]
  },
  {
   "cell_type": "code",
   "execution_count": null,
   "metadata": {},
   "outputs": [],
   "source": [
    "actions = list(action_cb.action_type.unique())\n"
   ]
  },
  {
   "cell_type": "code",
   "execution_count": null,
   "metadata": {},
   "outputs": [],
   "source": [
    "action_mapping = {v: k for k, v in enumerate(actions)}"
   ]
  },
  {
   "cell_type": "code",
   "execution_count": null,
   "metadata": {},
   "outputs": [],
   "source": [
    "action_mapping"
   ]
  },
  {
   "cell_type": "code",
   "execution_count": null,
   "metadata": {},
   "outputs": [],
   "source": [
    "action_ctn_df = action_ctn.reset_index(name='ctn')\n",
    "action_ctn_df = action_ctn_df[action_ctn_df.index.str.match('\\d')].reset_index(drop=True)"
   ]
  },
  {
   "cell_type": "code",
   "execution_count": null,
   "metadata": {},
   "outputs": [],
   "source": [
    "action_ctn_df.head()"
   ]
  },
  {
   "cell_type": "code",
   "execution_count": null,
   "metadata": {},
   "outputs": [],
   "source": [
    "action_ctn_df.shape"
   ]
  },
  {
   "cell_type": "code",
   "execution_count": null,
   "metadata": {},
   "outputs": [],
   "source": [
    "action_ctn_df['action_id'] = action_ctn_df['action_type'].map(action_mapping)"
   ]
  },
  {
   "cell_type": "code",
   "execution_count": null,
   "metadata": {},
   "outputs": [],
   "source": [
    "action_ctn_df.head()"
   ]
  },
  {
   "cell_type": "code",
   "execution_count": null,
   "metadata": {},
   "outputs": [],
   "source": []
  },
  {
   "cell_type": "code",
   "execution_count": null,
   "metadata": {},
   "outputs": [],
   "source": [
    "ohe = pd.DataFrame(np.eye(len(actions), dtype=int)[action_ctn_df.action_id.values], columns=actions)"
   ]
  },
  {
   "cell_type": "code",
   "execution_count": null,
   "metadata": {},
   "outputs": [],
   "source": [
    "ohe.head()"
   ]
  },
  {
   "cell_type": "code",
   "execution_count": null,
   "metadata": {},
   "outputs": [],
   "source": [
    "%%time\n",
    "# (ohe*action_ctn_df['ctn'].values).head()\n",
    "ohe = ohe.mul(action_ctn_df['ctn'], axis=0)"
   ]
  },
  {
   "cell_type": "code",
   "execution_count": null,
   "metadata": {},
   "outputs": [],
   "source": [
    "action_ctn_df = pd.concat([action_ctn_df, ohe], axis=1)"
   ]
  },
  {
   "cell_type": "code",
   "execution_count": null,
   "metadata": {},
   "outputs": [],
   "source": [
    "action_ctn_df.head()"
   ]
  },
  {
   "cell_type": "code",
   "execution_count": null,
   "metadata": {
    "scrolled": true
   },
   "outputs": [],
   "source": [
    "action_ctn_df.head()"
   ]
  },
  {
   "cell_type": "code",
   "execution_count": null,
   "metadata": {},
   "outputs": [],
   "source": [
    "action_encoding = action_ctn_df.groupby('reference')[actions].sum()\n",
    "# action_ctn_df.set_index('reference').groupby(level=0).sum()\n",
    "# action_encoding[actions]/action_encoding.sum(axis=1)\n",
    "normalized = action_encoding.div(action_encoding.sum(axis=1), axis=0)\n",
    "normalized.head()"
   ]
  },
  {
   "cell_type": "code",
   "execution_count": null,
   "metadata": {},
   "outputs": [],
   "source": [
    "action_encoding = action_encoding.join(normalized, lsuffix='_ctn', rsuffix='_per',)"
   ]
  },
  {
   "cell_type": "code",
   "execution_count": null,
   "metadata": {},
   "outputs": [],
   "source": [
    "action_encoding.head()"
   ]
  },
  {
   "cell_type": "code",
   "execution_count": null,
   "metadata": {},
   "outputs": [],
   "source": [
    "action_encoding.reset_index()"
   ]
  },
  {
   "cell_type": "code",
   "execution_count": null,
   "metadata": {},
   "outputs": [],
   "source": [
    "action_encoding.index.str.match('\\d')"
   ]
  },
  {
   "cell_type": "markdown",
   "metadata": {},
   "source": [
    "## NOTES\n",
    "* the order of filter selection and what it selects is probably important, as it unrolls what the customer wants, maybe the order is not than important\n",
    "    change of sort order add on top of this\n",
    "\n",
    "## TO DOS:\n",
    "* show feature importance"
   ]
  },
  {
   "cell_type": "code",
   "execution_count": null,
   "metadata": {},
   "outputs": [],
   "source": [
    "train[train.action_type=='filter selection'].reference.nunique()"
   ]
  },
  {
   "cell_type": "code",
   "execution_count": null,
   "metadata": {},
   "outputs": [],
   "source": []
  },
  {
   "cell_type": "markdown",
   "metadata": {},
   "source": [
    "### clip sessions off to last click"
   ]
  },
  {
   "cell_type": "code",
   "execution_count": null,
   "metadata": {},
   "outputs": [],
   "source": [
    "%%time\n",
    "# get all rows upto the last clickout action (some rows has reference but it's not clickout action)\n",
    "def up_to_last_click(grp):\n",
    "    check = grp.action_type == 'clickout item'\n",
    "    if check.sum() != 0:\n",
    "        return grp.iloc[:np.argwhere(check)[-1][0]+1]\n",
    "    else:\n",
    "        return grp\n",
    "        \n",
    "train = train.groupby('session_id').apply(up_to_last_click).reset_index(drop=True)"
   ]
  },
  {
   "cell_type": "code",
   "execution_count": null,
   "metadata": {},
   "outputs": [],
   "source": [
    "%%time\n",
    "# get utc timestamp\n",
    "train['ts'] = train['timestamp'].apply(lambda t: datetime.datetime.utcfromtimestamp(t))"
   ]
  },
  {
   "cell_type": "code",
   "execution_count": null,
   "metadata": {},
   "outputs": [],
   "source": [
    "%%time\n",
    "# get utc timestamp\n",
    "test['ts'] = test['timestamp'].apply(lambda t: datetime.datetime.utcfromtimestamp(t))"
   ]
  },
  {
   "cell_type": "code",
   "execution_count": null,
   "metadata": {},
   "outputs": [],
   "source": [
    "train.ts.hist(bins=20, xrot=90)"
   ]
  },
  {
   "cell_type": "code",
   "execution_count": null,
   "metadata": {},
   "outputs": [],
   "source": [
    "test.ts.hist(bins=20, xrot=90)"
   ]
  },
  {
   "cell_type": "code",
   "execution_count": null,
   "metadata": {},
   "outputs": [],
   "source": [
    "test.ts.head()"
   ]
  },
  {
   "cell_type": "code",
   "execution_count": null,
   "metadata": {},
   "outputs": [],
   "source": [
    "%%time\n",
    "# only look at sessions with clickouts (for now)\n",
    "# first filter out sessions that does not have a click-out\n",
    "def check_clickout(grp):\n",
    "     # sessions has clickouts\n",
    "    has_clickout = 'clickout item' in grp['action_type'].unique()\n",
    "    # last row has reference and it's not nan\n",
    "    has_ref = ((grp['action_type'].iloc[-1] == 'clickout item') & \n",
    "               (grp.iloc[-1][['impressions', 'reference', 'prices']].isna().sum()==0))\n",
    "    return has_clickout & has_ref\n",
    "    \n",
    "clicked = train.groupby('session_id').apply(check_clickout)\n",
    "click_session_ids = clicked[clicked].index\n",
    "# filter\n",
    "train = train[train.session_id.isin(click_session_ids)].reset_index(drop=True)"
   ]
  },
  {
   "cell_type": "code",
   "execution_count": null,
   "metadata": {},
   "outputs": [],
   "source": []
  },
  {
   "cell_type": "code",
   "execution_count": null,
   "metadata": {
    "scrolled": true
   },
   "outputs": [],
   "source": [
    "# %%time\n",
    "# # only look at sessions with clickouts (for now)\n",
    "# # first filter out sessions that does not have a click-out\n",
    "# def check_clickout(grp):\n",
    "#      # sessions has clickouts\n",
    "#     has_clickout = 'clickout item' in grp['action_type'].unique()\n",
    "#     # last row has reference and it's not nan\n",
    "#     has_ref = ((grp['action_type'].iloc[-1] == 'clickout item') & \n",
    "#                (pd.notnull(grp.iloc[-1]['impressions'])) &\n",
    "#                (pd.notnull(grp.iloc[-1]['reference'])) &\n",
    "#                (pd.notnull(grp.iloc[-1]['prices'])))\n",
    "#     return has_clickout & has_ref\n",
    "    \n",
    "# clicked = train.groupby('session_id').apply(check_clickout)\n",
    "# click_session_ids = clicked[clicked].index\n",
    "# # filter\n",
    "# train = train[train.session_id.isin(click_session_ids)].reset_index(drop=True)"
   ]
  },
  {
   "cell_type": "code",
   "execution_count": null,
   "metadata": {},
   "outputs": [],
   "source": [
    "pshape(train)"
   ]
  },
  {
   "cell_type": "code",
   "execution_count": null,
   "metadata": {},
   "outputs": [],
   "source": [
    "# d = train.groupby('session_id')\n",
    "# for i, j in d:\n",
    "#     print(j.head())\n",
    "#     print('='*20)\n",
    "#      # sessions has clickouts\n",
    "#     has_clickout = 'clickout item' in j['action_type'].unique()\n",
    "#     print(has_clickout)\n",
    "#     # last row has reference and it's not nan\n",
    "#     has_ref = ((j['action_type'].iloc[-1] == 'clickout item') & \n",
    "#                (pd.notnull(j.iloc[-1]['impressions'])) &\n",
    "#                (pd.notnull(j.iloc[-1]['reference'])))\n",
    "#     print(has_ref)\n",
    "#     break"
   ]
  },
  {
   "cell_type": "markdown",
   "metadata": {},
   "source": [
    "### meta info"
   ]
  },
  {
   "cell_type": "code",
   "execution_count": null,
   "metadata": {},
   "outputs": [],
   "source": [
    "%%time\n",
    "meta = pd.read_csv(data_path+'item_metadata.csv', nrows=nrows)\n",
    "meta['properties'] = meta['properties'].str.lower()"
   ]
  },
  {
   "cell_type": "code",
   "execution_count": null,
   "metadata": {},
   "outputs": [],
   "source": [
    "# %%time\n",
    "# # checkout properties of items\n",
    "# def get_property_count(row):\n",
    "#     return len(row.split('|'))\n",
    "\n",
    "\n",
    "\n",
    "# item_p_ctn = meta['properties'].apply(get_property_count)\n",
    "# item_p_ctn.describe()"
   ]
  },
  {
   "cell_type": "code",
   "execution_count": null,
   "metadata": {},
   "outputs": [],
   "source": [
    "%%time\n",
    "def get_property(row):\n",
    "    return row.lower().split('|')\n",
    "# meta['ps'] = meta['properties'].apply(get_property)\n",
    "\n",
    "meta['ps'] = meta['properties'].str.split('|')\n",
    "# numer of properties\n",
    "meta['nprop'] = meta.ps.str.len()\n",
    "# star ratings\n",
    "meta['star'] = meta.properties.str.extract('[\\|](\\d) star')\n",
    "meta['star'] = meta['star'].astype(float)"
   ]
  },
  {
   "cell_type": "code",
   "execution_count": null,
   "metadata": {},
   "outputs": [],
   "source": [
    "%%time\n",
    "# # create rating columns\n",
    "# ratings = ['good rating', 'satisfactory rating', 'excellent rating']\n",
    "# for r in ratings:\n",
    "#     meta[r.replace(' ', '_')] = meta.properties.str.findall(f'\\|{r}').str.len()\n",
    "    \n",
    "    \n",
    "def create_rating_colum(meta):\n",
    "    # create rating columns\n",
    "    ratings = ['good rating', 'satisfactory rating', 'excellent rating']\n",
    "    for r in ratings:\n",
    "        meta[r.replace(' ', '_')] = meta.properties.str.findall(f'\\|{r}').str.len()"
   ]
  },
  {
   "cell_type": "code",
   "execution_count": null,
   "metadata": {},
   "outputs": [],
   "source": [
    "def get_popularity(df):\n",
    "    \"\"\"Get number of clicks that each item received in the df.\"\"\"\n",
    "\n",
    "    mask = df[\"action_type\"] == \"clickout item\"\n",
    "    df_clicks = df[mask]\n",
    "    df_item_clicks = (df_clicks\n",
    "                      .groupby(\"reference\")\n",
    "                      .size()\n",
    "                      .reset_index(name=\"n_clicks\")\n",
    "                      .transform(lambda x: x.astype(int)))\n",
    "    return df_item_clicks"
   ]
  },
  {
   "cell_type": "code",
   "execution_count": null,
   "metadata": {},
   "outputs": [],
   "source": [
    "%%time\n",
    "item_popularity = get_popularity(train)\n",
    "meta = pd.merge(meta, item_popularity, left_on='item_id', right_on='reference')"
   ]
  },
  {
   "cell_type": "code",
   "execution_count": null,
   "metadata": {},
   "outputs": [],
   "source": [
    "meta.head()"
   ]
  },
  {
   "cell_type": "code",
   "execution_count": null,
   "metadata": {},
   "outputs": [],
   "source": [
    "meta = (meta[['item_id', 'nprop', 'n_clicks', 'star', 'good_rating', 'satisfactory_rating', 'excellent_rating']]\n",
    "        .set_index('item_id'))"
   ]
  },
  {
   "cell_type": "markdown",
   "metadata": {},
   "source": [
    "### Create session features\n",
    "---"
   ]
  },
  {
   "cell_type": "code",
   "execution_count": null,
   "metadata": {},
   "outputs": [],
   "source": [
    "# %%time\n",
    "# # find out if same customers have multiple sessions\n",
    "# s = train.drop_duplicates(subset=['user_id', 'session_id'])\n",
    "# s.session_id.duplicated().sum()\n",
    "# # seems like not"
   ]
  },
  {
   "cell_type": "code",
   "execution_count": null,
   "metadata": {},
   "outputs": [],
   "source": [
    "# train.current_filters[:1000].unique()"
   ]
  },
  {
   "cell_type": "code",
   "execution_count": null,
   "metadata": {},
   "outputs": [],
   "source": [
    "%%time\n",
    "# def get_filters(x):\n",
    "#     if type(x) == str or type(x) == list:\n",
    "#         return x.split('|')\n",
    "#     else:\n",
    "#         return np.nan\n",
    "    \n",
    "# def get_impressions(x):\n",
    "#     if type(x) == str:\n",
    "#         return x.split('|')\n",
    "#     else:\n",
    "#         return np.nan\n",
    "    \n",
    "    \n",
    "train['filters'] = train.current_filters.str.split('|')\n",
    "train['nfilters'] = train.filters.str.len()\n",
    "train['imps_list'] = train.impressions.str.split('|')\n",
    "nn_mask = train['imps_list'].notnull()\n",
    "train.loc[nn_mask, 'imps_list'] = train.loc[nn_mask, 'imps_list'].apply(lambda x: [int(i) for i in x])\n",
    "train['nimps'] = train.imps_list.str.len()"
   ]
  },
  {
   "cell_type": "code",
   "execution_count": null,
   "metadata": {},
   "outputs": [],
   "source": [
    "# train.nimps.describe()"
   ]
  },
  {
   "cell_type": "code",
   "execution_count": null,
   "metadata": {},
   "outputs": [],
   "source": [
    "# # no switch of devices during session\n",
    "# (train.groupby('session_id')['device'].nunique()!=1).sum()"
   ]
  },
  {
   "cell_type": "code",
   "execution_count": null,
   "metadata": {},
   "outputs": [],
   "source": [
    "# # differnet city during session\n",
    "# (train.groupby('session_id')['city'].nunique()!=1).sum()"
   ]
  },
  {
   "cell_type": "code",
   "execution_count": null,
   "metadata": {},
   "outputs": [],
   "source": [
    "%%time\n",
    "# some custom funcs used in agggregation\n",
    "def mean_dwell_time(x):\n",
    "    if len(x) == 1:\n",
    "        return 0\n",
    "    else:\n",
    "        return np.mean(np.diff(np.sort(x)))\n",
    "    \n",
    "def var_dwell_time(x):\n",
    "    if len(x) == 1:\n",
    "        return 0\n",
    "    else:\n",
    "        return np.var(np.diff(np.sort(x)))\n",
    "    \n",
    "def get_first(x):\n",
    "    return x.iloc[0]\n",
    "\n",
    "def get_last(x):\n",
    "    return x.iloc[-1]\n",
    "\n",
    "def n_clickouts(x):\n",
    "    return (x=='clickout item').sum()\n",
    "\n",
    "def click_rel_pos_avg(x):\n",
    "    return np.mean(np.argwhere((x=='clickout item')))/len(x)\n",
    "\n",
    "def ptp(x):\n",
    "    return x.max() - x.min()\n",
    "\n",
    "\n",
    "# define some aggs\n",
    "# session_aggs = {'timestamp': [np.ptp, mean_dwell_time, var_dwell_time],\n",
    "session_aggs = {'timestamp': [ptp, mean_dwell_time, var_dwell_time],\n",
    "                'step': ['max'],\n",
    "                'action_type': ['nunique', n_clickouts, click_rel_pos_avg],\n",
    "                'city': ['nunique', get_first],\n",
    "                'platform': [get_first],\n",
    "                'device': [get_first],\n",
    "                'nfilters': ['mean', 'max', 'min', get_last],\n",
    "                'nimps': ['max']\n",
    "               }"
   ]
  },
  {
   "cell_type": "code",
   "execution_count": null,
   "metadata": {},
   "outputs": [],
   "source": [
    "session_grp = train.groupby('session_id')"
   ]
  },
  {
   "cell_type": "code",
   "execution_count": null,
   "metadata": {},
   "outputs": [],
   "source": [
    "%%time\n",
    "# import os.path\n",
    "session_file = 'session_fts.csv'\n",
    "if os.path.isfile(session_file):\n",
    "    session_fts = pd.read_csv(session_file)\n",
    "else:\n",
    "    session_fts = session_grp.agg(session_aggs)\n",
    "    session_fts.columns = ['_'.join(col).strip() for col in session_fts.columns.values]\n",
    "    session_fts.to_csv(session_file)"
   ]
  },
  {
   "cell_type": "code",
   "execution_count": null,
   "metadata": {},
   "outputs": [],
   "source": [
    "# session_fts.columns.values\n",
    "session_fts.head()"
   ]
  },
  {
   "cell_type": "code",
   "execution_count": null,
   "metadata": {},
   "outputs": [],
   "source": [
    "# train[train.session_id=='62991f7c78f27']"
   ]
  },
  {
   "cell_type": "markdown",
   "metadata": {},
   "source": [
    "### Create clickout features\n",
    "---"
   ]
  },
  {
   "cell_type": "code",
   "execution_count": null,
   "metadata": {},
   "outputs": [],
   "source": [
    "import multiprocessing as mp\n",
    "from functools import partial\n",
    "\n",
    "\n",
    "def get_session_item_pairs(args):\n",
    "    # grab the args\n",
    "    gids, session_df, meta_df = args\n",
    "    # selecting the assigned session ids and grouping on session level\n",
    "    grps = (session_df[session_df['session_id'].isin(gids)]\n",
    "            .reset_index(drop=True)\n",
    "            .groupby('session_id'))\n",
    "    \n",
    "    # use apply to compute session level features\n",
    "    session_compute_func = partial(compute_session_item_pair, meta_df=meta_df)\n",
    "    session_features = grps.apply(session_compute_func)\n",
    "    \n",
    "    return session_features\n",
    "        \n",
    "    \n",
    "# def compute_session_item_pair(session_df, g_id, buy_df):\n",
    "def compute_session_item_pair(session_df, meta_df):\n",
    "    sdf = session_df.copy()\n",
    "    last_row = sdf.iloc[-1]\n",
    "    above = sdf.iloc[:-1]\n",
    "    # get previous appeard impressions\n",
    "    prev = above[above['impressions'].notnull()]\n",
    "    prev_imps = prev['imps_list']\n",
    "    unique_imps = [j for i in prev_imps for j in i]\n",
    "\n",
    "    imp_l = last_row['imps_list']\n",
    "    prices = last_row['prices'].split('|')\n",
    "    prices = [int(p) for p in prices]\n",
    "    # whether the impression appeared before\n",
    "    appeared = [int(i in unique_imps) for i in imp_l]\n",
    "    # the location of the impression\n",
    "    locs = list(range(len(imp_l)))\n",
    "\n",
    "    # build the df\n",
    "    result = pd.DataFrame({'appeared': appeared, 'location': locs, 'price': prices}, index=imp_l)\n",
    "    result.index.name = 'item_id'\n",
    "    price_ind = np.argsort(result['price'].values) + 1\n",
    "    result['rel_price_rank'] = price_ind/len(imp_l)\n",
    "#     result['rel_price_rank'] = result[['location', 'price']].sort_values(by='price')['location']/len(imp_l)\n",
    "\n",
    "    result['price_mean'] = np.mean(result['price'])\n",
    "    result['price_median'] = np.median(result['price'])\n",
    "\n",
    "    result_price = result['price'].values\n",
    "    result_price_mean = result['price_mean'].values \n",
    "    result_price_median = result['price_median'].values\n",
    "\n",
    "    result['diff_mean'] = result_price - result_price_mean\n",
    "    result['diff_median'] = result_price - result_price_median\n",
    "    result['diff_mean_rel'] = (result_price - result_price_mean)/result_price\n",
    "    result['diff_median_rel'] = (result_price - result_price_median)/result_price\n",
    "\n",
    "    # fetch the meta data\n",
    "    result = result.join(meta_df, on='item_id')\n",
    "    result['p_mean'] = np.mean(result['n_clicks'].values)\n",
    "    result['star_mean'] = np.mean(result['star'].values)\n",
    "    result['gr_mean'] = np.mean(result['good_rating'].values)\n",
    "    result['sr_mean'] = np.mean(result['satisfactory_rating'].values)\n",
    "    result['er_mean'] = np.mean(result['excellent_rating'].values)\n",
    "    result.reset_index(inplace=True)\n",
    "\n",
    "    # get target\n",
    "    ref = int(last_row['reference'])\n",
    "    result['target'] = (result['item_id'].values == ref).astype(int)\n",
    "    return result\n",
    "\n",
    "\n",
    "# 2) dwell time for each clickout\n",
    "# 3) the rating and star and nproperty -> mean and median for \n",
    "#     the other impressions in list (or the quantile of these and prices)\n",
    "# 4) location and relative location in the impressions list\n",
    "\n",
    "\n",
    "def generate_session_item_pairs(sessions_df, meta_df, nprocs=None):\n",
    "    t1 = time.time()\n",
    "    if nprocs is None:\n",
    "        nprocs = mp.cpu_count() - 1 \n",
    "        print('Using {} cores'.format(nprocs))\n",
    "\n",
    "    sids = sessions_df.session_id.unique()\n",
    "    \n",
    "    pairs = []\n",
    "    # create iterator to pass in args\n",
    "    def args_gen():\n",
    "        for i in range(nprocs):\n",
    "            yield (sids[range(i, len(sids), nprocs)], sessions_df, meta_df)\n",
    "    \n",
    "    # init multiprocessing pool\n",
    "    pool = mp.Pool(nprocs)\n",
    "    for pair in pool.map(get_session_item_pairs, args_gen()):\n",
    "        pairs.append(pair)\n",
    "    pool.close()\n",
    "    pool.join()\n",
    "    print('Done genearting, total time took: {0:.2f}mins'.format((time.time()-t1)/60))\n",
    "\n",
    "    return pd.concat(pairs, axis=0)#, ignore_index=True)"
   ]
  },
  {
   "cell_type": "code",
   "execution_count": null,
   "metadata": {},
   "outputs": [],
   "source": [
    "# %%time\n",
    "# result_df = generate_session_item_pairs(train[train.session_id.isin(sids)], meta, nprocs=None)"
   ]
  },
  {
   "cell_type": "code",
   "execution_count": null,
   "metadata": {},
   "outputs": [],
   "source": [
    "# %%time\n",
    "# result_df = generate_session_item_pairs(train[:10000], meta, nprocs=None)"
   ]
  },
  {
   "cell_type": "code",
   "execution_count": null,
   "metadata": {},
   "outputs": [],
   "source": [
    "%%time\n",
    "result_df = generate_session_item_pairs(train, meta, nprocs=None)"
   ]
  },
  {
   "cell_type": "code",
   "execution_count": null,
   "metadata": {},
   "outputs": [],
   "source": [
    "result_df.to_csv('./data/result.csv')"
   ]
  },
  {
   "cell_type": "code",
   "execution_count": null,
   "metadata": {},
   "outputs": [],
   "source": [
    "result_df.shape"
   ]
  },
  {
   "cell_type": "code",
   "execution_count": null,
   "metadata": {},
   "outputs": [],
   "source": [
    "meta.shape"
   ]
  },
  {
   "cell_type": "code",
   "execution_count": null,
   "metadata": {},
   "outputs": [],
   "source": [
    "result_df.head()"
   ]
  },
  {
   "cell_type": "code",
   "execution_count": null,
   "metadata": {
    "scrolled": true
   },
   "outputs": [],
   "source": [
    "%%time\n",
    "result_df = result_df.reset_index(level='session_id')"
   ]
  },
  {
   "cell_type": "code",
   "execution_count": null,
   "metadata": {},
   "outputs": [],
   "source": [
    "%%time\n",
    "# join on session features\n",
    "result_df = result_df.set_index('session_id')"
   ]
  },
  {
   "cell_type": "code",
   "execution_count": null,
   "metadata": {},
   "outputs": [],
   "source": [
    "%%time\n",
    "final = result_df.join(session_fts)"
   ]
  },
  {
   "cell_type": "code",
   "execution_count": null,
   "metadata": {},
   "outputs": [],
   "source": [
    "final.to_csv('./data/final.csv')"
   ]
  },
  {
   "cell_type": "markdown",
   "metadata": {},
   "source": [
    "to do:\n",
    "\n",
    "1) check the time range of train vs test"
   ]
  },
  {
   "cell_type": "code",
   "execution_count": null,
   "metadata": {},
   "outputs": [],
   "source": [
    "final.head()"
   ]
  },
  {
   "cell_type": "code",
   "execution_count": null,
   "metadata": {},
   "outputs": [],
   "source": [
    "train.ts.hist(bins=20)"
   ]
  },
  {
   "cell_type": "code",
   "execution_count": null,
   "metadata": {},
   "outputs": [],
   "source": [
    "(train.ts <= datetime.datetime(2018,11,6)).sum()"
   ]
  },
  {
   "cell_type": "code",
   "execution_count": null,
   "metadata": {},
   "outputs": [],
   "source": [
    "(train.ts > datetime.datetime(2018,11,6)).sum()"
   ]
  },
  {
   "cell_type": "code",
   "execution_count": null,
   "metadata": {},
   "outputs": [],
   "source": [
    "train_sids = train[train.ts <= datetime.datetime(2018,11,6)].session_id.unique()"
   ]
  },
  {
   "cell_type": "code",
   "execution_count": null,
   "metadata": {},
   "outputs": [],
   "source": [
    "final.head()"
   ]
  },
  {
   "cell_type": "code",
   "execution_count": null,
   "metadata": {},
   "outputs": [],
   "source": [
    "# final.reset_index(name='session_id').head()\n",
    "xtrain = final[final.index.isin(train_sids)]"
   ]
  },
  {
   "cell_type": "code",
   "execution_count": null,
   "metadata": {},
   "outputs": [],
   "source": [
    "xval = final[~final.index.isin(train_sids)]"
   ]
  },
  {
   "cell_type": "code",
   "execution_count": null,
   "metadata": {},
   "outputs": [],
   "source": [
    "xtrain.to_hdf('./data/train.h5', key='xtrain', mode='w')"
   ]
  },
  {
   "cell_type": "code",
   "execution_count": null,
   "metadata": {},
   "outputs": [],
   "source": [
    "xtrain.to_hdf('./data/train.h5', key='xval', mode='a')"
   ]
  },
  {
   "cell_type": "code",
   "execution_count": null,
   "metadata": {},
   "outputs": [],
   "source": []
  }
 ],
 "metadata": {
  "kernelspec": {
   "display_name": "Python 3",
   "language": "python",
   "name": "python3"
  },
  "language_info": {
   "codemirror_mode": {
    "name": "ipython",
    "version": 3
   },
   "file_extension": ".py",
   "mimetype": "text/x-python",
   "name": "python",
   "nbconvert_exporter": "python",
   "pygments_lexer": "ipython3",
   "version": "3.6.8"
  }
 },
 "nbformat": 4,
 "nbformat_minor": 2
}
