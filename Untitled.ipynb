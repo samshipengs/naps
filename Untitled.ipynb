{
 "cells": [
  {
   "cell_type": "code",
   "execution_count": 1,
   "metadata": {},
   "outputs": [],
   "source": [
    "import pandas as pd\n",
    "import numpy as np\n",
    "from utils import load_data"
   ]
  },
  {
   "cell_type": "code",
   "execution_count": 2,
   "metadata": {},
   "outputs": [],
   "source": [
    "train_fts = pd.read_hdf('./data/train.h5', key='train')"
   ]
  },
  {
   "cell_type": "code",
   "execution_count": 3,
   "metadata": {},
   "outputs": [
    {
     "data": {
      "text/html": [
       "<div>\n",
       "<style scoped>\n",
       "    .dataframe tbody tr th:only-of-type {\n",
       "        vertical-align: middle;\n",
       "    }\n",
       "\n",
       "    .dataframe tbody tr th {\n",
       "        vertical-align: top;\n",
       "    }\n",
       "\n",
       "    .dataframe thead th {\n",
       "        text-align: right;\n",
       "    }\n",
       "</style>\n",
       "<table border=\"1\" class=\"dataframe\">\n",
       "  <thead>\n",
       "    <tr style=\"text-align: right;\">\n",
       "      <th></th>\n",
       "      <th>appeared</th>\n",
       "      <th>appeared_co</th>\n",
       "      <th>change of sort order_ctn</th>\n",
       "      <th>change of sort order_per</th>\n",
       "      <th>clickout item_per</th>\n",
       "      <th>diff_mean</th>\n",
       "      <th>diff_mean_rel</th>\n",
       "      <th>diff_median</th>\n",
       "      <th>diff_median_rel</th>\n",
       "      <th>er_mean</th>\n",
       "      <th>...</th>\n",
       "      <th>action_type_n_clickouts</th>\n",
       "      <th>action_type_click_rel_pos_avg</th>\n",
       "      <th>action_type_second_last</th>\n",
       "      <th>reference_second_last</th>\n",
       "      <th>city_nunique</th>\n",
       "      <th>city_get_last</th>\n",
       "      <th>platform_get_last</th>\n",
       "      <th>device_get_last</th>\n",
       "      <th>n_imps_get_last</th>\n",
       "      <th>n_filters_get_last</th>\n",
       "    </tr>\n",
       "    <tr>\n",
       "      <th>session_id</th>\n",
       "      <th></th>\n",
       "      <th></th>\n",
       "      <th></th>\n",
       "      <th></th>\n",
       "      <th></th>\n",
       "      <th></th>\n",
       "      <th></th>\n",
       "      <th></th>\n",
       "      <th></th>\n",
       "      <th></th>\n",
       "      <th></th>\n",
       "      <th></th>\n",
       "      <th></th>\n",
       "      <th></th>\n",
       "      <th></th>\n",
       "      <th></th>\n",
       "      <th></th>\n",
       "      <th></th>\n",
       "      <th></th>\n",
       "      <th></th>\n",
       "      <th></th>\n",
       "    </tr>\n",
       "  </thead>\n",
       "  <tbody>\n",
       "    <tr>\n",
       "      <th>0</th>\n",
       "      <td>0</td>\n",
       "      <td>0</td>\n",
       "      <td>0.0</td>\n",
       "      <td>0.0</td>\n",
       "      <td>0.074153</td>\n",
       "      <td>51.96</td>\n",
       "      <td>0.320741</td>\n",
       "      <td>44.0</td>\n",
       "      <td>0.271605</td>\n",
       "      <td>NaN</td>\n",
       "      <td>...</td>\n",
       "      <td>2</td>\n",
       "      <td>0.9375</td>\n",
       "      <td>0.0</td>\n",
       "      <td>3.0</td>\n",
       "      <td>1</td>\n",
       "      <td>0</td>\n",
       "      <td>0</td>\n",
       "      <td>0</td>\n",
       "      <td>25.0</td>\n",
       "      <td>NaN</td>\n",
       "    </tr>\n",
       "    <tr>\n",
       "      <th>0</th>\n",
       "      <td>1</td>\n",
       "      <td>0</td>\n",
       "      <td>0.0</td>\n",
       "      <td>0.0</td>\n",
       "      <td>0.208333</td>\n",
       "      <td>-85.04</td>\n",
       "      <td>-3.401600</td>\n",
       "      <td>-93.0</td>\n",
       "      <td>-3.720000</td>\n",
       "      <td>NaN</td>\n",
       "      <td>...</td>\n",
       "      <td>2</td>\n",
       "      <td>0.9375</td>\n",
       "      <td>0.0</td>\n",
       "      <td>3.0</td>\n",
       "      <td>1</td>\n",
       "      <td>0</td>\n",
       "      <td>0</td>\n",
       "      <td>0</td>\n",
       "      <td>25.0</td>\n",
       "      <td>NaN</td>\n",
       "    </tr>\n",
       "    <tr>\n",
       "      <th>0</th>\n",
       "      <td>0</td>\n",
       "      <td>0</td>\n",
       "      <td>0.0</td>\n",
       "      <td>0.0</td>\n",
       "      <td>0.190789</td>\n",
       "      <td>39.96</td>\n",
       "      <td>0.266400</td>\n",
       "      <td>32.0</td>\n",
       "      <td>0.213333</td>\n",
       "      <td>NaN</td>\n",
       "      <td>...</td>\n",
       "      <td>2</td>\n",
       "      <td>0.9375</td>\n",
       "      <td>0.0</td>\n",
       "      <td>3.0</td>\n",
       "      <td>1</td>\n",
       "      <td>0</td>\n",
       "      <td>0</td>\n",
       "      <td>0</td>\n",
       "      <td>25.0</td>\n",
       "      <td>NaN</td>\n",
       "    </tr>\n",
       "    <tr>\n",
       "      <th>0</th>\n",
       "      <td>0</td>\n",
       "      <td>0</td>\n",
       "      <td>0.0</td>\n",
       "      <td>0.0</td>\n",
       "      <td>0.120000</td>\n",
       "      <td>32.96</td>\n",
       "      <td>0.230490</td>\n",
       "      <td>25.0</td>\n",
       "      <td>0.174825</td>\n",
       "      <td>NaN</td>\n",
       "      <td>...</td>\n",
       "      <td>2</td>\n",
       "      <td>0.9375</td>\n",
       "      <td>0.0</td>\n",
       "      <td>3.0</td>\n",
       "      <td>1</td>\n",
       "      <td>0</td>\n",
       "      <td>0</td>\n",
       "      <td>0</td>\n",
       "      <td>25.0</td>\n",
       "      <td>NaN</td>\n",
       "    </tr>\n",
       "    <tr>\n",
       "      <th>0</th>\n",
       "      <td>0</td>\n",
       "      <td>0</td>\n",
       "      <td>0.0</td>\n",
       "      <td>0.0</td>\n",
       "      <td>0.113360</td>\n",
       "      <td>-9.04</td>\n",
       "      <td>-0.089505</td>\n",
       "      <td>-17.0</td>\n",
       "      <td>-0.168317</td>\n",
       "      <td>NaN</td>\n",
       "      <td>...</td>\n",
       "      <td>2</td>\n",
       "      <td>0.9375</td>\n",
       "      <td>0.0</td>\n",
       "      <td>3.0</td>\n",
       "      <td>1</td>\n",
       "      <td>0</td>\n",
       "      <td>0</td>\n",
       "      <td>0</td>\n",
       "      <td>25.0</td>\n",
       "      <td>NaN</td>\n",
       "    </tr>\n",
       "  </tbody>\n",
       "</table>\n",
       "<p>5 rows × 71 columns</p>\n",
       "</div>"
      ],
      "text/plain": [
       "            appeared  appeared_co  change of sort order_ctn  \\\n",
       "session_id                                                    \n",
       "0                  0            0                       0.0   \n",
       "0                  1            0                       0.0   \n",
       "0                  0            0                       0.0   \n",
       "0                  0            0                       0.0   \n",
       "0                  0            0                       0.0   \n",
       "\n",
       "            change of sort order_per  clickout item_per  diff_mean  \\\n",
       "session_id                                                           \n",
       "0                                0.0           0.074153      51.96   \n",
       "0                                0.0           0.208333     -85.04   \n",
       "0                                0.0           0.190789      39.96   \n",
       "0                                0.0           0.120000      32.96   \n",
       "0                                0.0           0.113360      -9.04   \n",
       "\n",
       "            diff_mean_rel  diff_median  diff_median_rel  er_mean  ...  \\\n",
       "session_id                                                        ...   \n",
       "0                0.320741         44.0         0.271605      NaN  ...   \n",
       "0               -3.401600        -93.0        -3.720000      NaN  ...   \n",
       "0                0.266400         32.0         0.213333      NaN  ...   \n",
       "0                0.230490         25.0         0.174825      NaN  ...   \n",
       "0               -0.089505        -17.0        -0.168317      NaN  ...   \n",
       "\n",
       "            action_type_n_clickouts  action_type_click_rel_pos_avg  \\\n",
       "session_id                                                           \n",
       "0                                 2                         0.9375   \n",
       "0                                 2                         0.9375   \n",
       "0                                 2                         0.9375   \n",
       "0                                 2                         0.9375   \n",
       "0                                 2                         0.9375   \n",
       "\n",
       "            action_type_second_last  reference_second_last  city_nunique  \\\n",
       "session_id                                                                 \n",
       "0                               0.0                    3.0             1   \n",
       "0                               0.0                    3.0             1   \n",
       "0                               0.0                    3.0             1   \n",
       "0                               0.0                    3.0             1   \n",
       "0                               0.0                    3.0             1   \n",
       "\n",
       "            city_get_last  platform_get_last  device_get_last  \\\n",
       "session_id                                                      \n",
       "0                       0                  0                0   \n",
       "0                       0                  0                0   \n",
       "0                       0                  0                0   \n",
       "0                       0                  0                0   \n",
       "0                       0                  0                0   \n",
       "\n",
       "            n_imps_get_last  n_filters_get_last  \n",
       "session_id                                       \n",
       "0                      25.0                 NaN  \n",
       "0                      25.0                 NaN  \n",
       "0                      25.0                 NaN  \n",
       "0                      25.0                 NaN  \n",
       "0                      25.0                 NaN  \n",
       "\n",
       "[5 rows x 71 columns]"
      ]
     },
     "execution_count": 3,
     "metadata": {},
     "output_type": "execute_result"
    }
   ],
   "source": [
    "train_fts.head()"
   ]
  },
  {
   "cell_type": "code",
   "execution_count": 7,
   "metadata": {},
   "outputs": [
    {
     "data": {
      "text/plain": [
       "(18772614, 71)"
      ]
     },
     "execution_count": 7,
     "metadata": {},
     "output_type": "execute_result"
    }
   ],
   "source": [
    "train_fts.shape"
   ]
  },
  {
   "cell_type": "markdown",
   "metadata": {},
   "source": [
    "### nan counts"
   ]
  },
  {
   "cell_type": "code",
   "execution_count": 6,
   "metadata": {},
   "outputs": [
    {
     "name": "stdout",
     "output_type": "stream",
     "text": [
      "CPU times: user 17.6 s, sys: 1.64 s, total: 19.3 s\n",
      "Wall time: 19.3 s\n"
     ]
    }
   ],
   "source": [
    "%%time\n",
    "nans = train_fts.isna().sum()"
   ]
  },
  {
   "cell_type": "code",
   "execution_count": 14,
   "metadata": {},
   "outputs": [
    {
     "data": {
      "text/plain": [
       "<matplotlib.axes._subplots.AxesSubplot at 0x7fe0c666bd68>"
      ]
     },
     "execution_count": 14,
     "metadata": {},
     "output_type": "execute_result"
    },
    {
     "data": {
      "image/png": "[encoded data removed]",
      "text/plain": [
       "<Figure size 432x288 with 1 Axes>"
      ]
     },
     "metadata": {
      "needs_background": "light"
     },
     "output_type": "display_data"
    }
   ],
   "source": [
    "nan_per = nans/len(train_fts)\n",
    "(nan_per).hist(bins=20)"
   ]
  },
  {
   "cell_type": "code",
   "execution_count": 15,
   "metadata": {},
   "outputs": [
    {
     "data": {
      "text/plain": [
       "er_mean               0.573254\n",
       "gr_mean               0.573254\n",
       "n_matches             0.830748\n",
       "n_matches_per         0.830748\n",
       "sr_mean               0.573254\n",
       "star_mean             0.982661\n",
       "n_filters_get_last    0.804187\n",
       "dtype: float64"
      ]
     },
     "execution_count": 15,
     "metadata": {},
     "output_type": "execute_result"
    }
   ],
   "source": [
    "nan_per[nan_per>0.5]"
   ]
  },
  {
   "cell_type": "code",
   "execution_count": null,
   "metadata": {},
   "outputs": [],
   "source": []
  }
 ],
 "metadata": {
  "kernelspec": {
   "display_name": "Python 3",
   "language": "python",
   "name": "python3"
  },
  "language_info": {
   "codemirror_mode": {
    "name": "ipython",
    "version": 3
   },
   "file_extension": ".py",
   "mimetype": "text/x-python",
   "name": "python",
   "nbconvert_exporter": "python",
   "pygments_lexer": "ipython3",
   "version": "3.6.8"
  }
 },
 "nbformat": 4,
 "nbformat_minor": 2
}
