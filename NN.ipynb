{
 "cells": [
  {
   "cell_type": "code",
   "execution_count": null,
   "metadata": {},
   "outputs": [],
   "source": [
    "import pandas as pd\n",
    "import numpy as np\n",
    "import datetime\n",
    "import time \n",
    "import os\n",
    "import gc\n",
    "import re\n",
    "import sys\n",
    "from functools import partial\n",
    "\n",
    "from utils import ignore_warnings, load_data\n",
    "\n",
    "%matplotlib inline\n",
    "%load_ext autoreload\n",
    "%autoreload 2"
   ]
  },
  {
   "cell_type": "code",
   "execution_count": null,
   "metadata": {},
   "outputs": [],
   "source": [
    "%%time\n",
    "# nrows = 10000\n",
    "nrows = None\n",
    "train = load_data('train', nrows=nrows)#, verbose=True)"
   ]
  },
  {
   "cell_type": "code",
   "execution_count": null,
   "metadata": {},
   "outputs": [],
   "source": [
    "# select the rows that is clickout\n",
    "is_clickout = train.action_type == 'clickout item'\n",
    "# # and it is not nan\n",
    "# not_na = train.re.notna()\n",
    "# and the impressions are not nans\n",
    "imp_not_na = train.impressions.notna()\n",
    "# only select the ones with 25 lens \n",
    "train['nimp'] = train.impressions.str.split('|').str.len()\n",
    "twenty_five = train['nimp'] == 25\n",
    "\n",
    "select_mask = is_clickout & imp_not_na & twenty_five"
   ]
  },
  {
   "cell_type": "code",
   "execution_count": null,
   "metadata": {},
   "outputs": [],
   "source": [
    "train = train[select_mask].reset_index(drop=True)"
   ]
  },
  {
   "cell_type": "code",
   "execution_count": null,
   "metadata": {},
   "outputs": [],
   "source": [
    "train.loc[train['current_filters'].isna(), 'current_filters'] = 'no_filter'\n",
    "train.loc[train['reference'].isna(), 'reference'] = 'no_reference'\n",
    "\n",
    "train['cfs'] = train['current_filters'].str.split('|')\n",
    "train['imps'] = train['impressions'].str.split('|')"
   ]
  },
  {
   "cell_type": "code",
   "execution_count": null,
   "metadata": {},
   "outputs": [],
   "source": [
    "train = train[['timestamp', 'reference', 'imps']]"
   ]
  },
  {
   "cell_type": "code",
   "execution_count": null,
   "metadata": {},
   "outputs": [],
   "source": [
    "train.shape"
   ]
  },
  {
   "cell_type": "code",
   "execution_count": null,
   "metadata": {},
   "outputs": [],
   "source": [
    "all_imps = train.imps.values \n",
    "all_imps = list(set([j for i in all_imps for j in i]))\n",
    "all_imps = list(set(all_imps + list(train['reference'].unique())))\n",
    "imp2natural = {v: k for k, v in enumerate(all_imps)}\n",
    "# only select 25 length impressions \n",
    "train['reference'] = train.reference.map(imp2natural)\n",
    "train = train[train.imps.str.len()==25].reset_index(drop=True)\n",
    "train['imps'] = train.imps.apply(lambda x: [imp2natural[i] for i in x])\n",
    "def assign_target(row):\n",
    "    ref = row.reference\n",
    "    imp = row.imps\n",
    "    if ref in imp:\n",
    "        return imp.index(ref)\n",
    "    else:\n",
    "        return 25\n",
    "train['target'] = train.apply(assign_target, axis=1)"
   ]
  },
  {
   "cell_type": "code",
   "execution_count": null,
   "metadata": {},
   "outputs": [],
   "source": [
    "len(imp2natural)"
   ]
  },
  {
   "cell_type": "code",
   "execution_count": null,
   "metadata": {},
   "outputs": [],
   "source": [
    "train = train[['imps', 'target']]"
   ]
  },
  {
   "cell_type": "code",
   "execution_count": null,
   "metadata": {},
   "outputs": [],
   "source": [
    "xtrain = train.iloc[:-int(len(train)*0.1)].reset_index(drop=True)\n",
    "xval = train.iloc[-int(len(train)*0.1):].reset_index(drop=True)\n",
    "del train"
   ]
  },
  {
   "cell_type": "code",
   "execution_count": null,
   "metadata": {},
   "outputs": [],
   "source": [
    "print(xtrain.shape, xval.shape)"
   ]
  },
  {
   "cell_type": "code",
   "execution_count": null,
   "metadata": {},
   "outputs": [],
   "source": [
    "ytrain = xtrain['target']\n",
    "yval = xval['target']\n",
    "del xtrain['target'], xval['target']"
   ]
  },
  {
   "cell_type": "code",
   "execution_count": null,
   "metadata": {},
   "outputs": [],
   "source": [
    "from keras import optimizers\n",
    "from keras.layers import Activation, concatenate, Dense, Dropout, Embedding, Input, Reshape, Flatten\n",
    "from keras.models import Model\n",
    "from keras.callbacks import Callback\n",
    "\n",
    "n_item_ids = len(imp2natural)\n",
    "n_embed = 10\n",
    "input_layer = Input(shape = (25, ), dtype = \"int32\")\n",
    "impression_embedding = Embedding(n_item_ids, n_embed, input_length=25)(input_layer)\n",
    "h0 = Flatten()(impression_embedding)\n",
    "h1 = Dense(units=32, activation='relu')(h0)\n",
    "output_layer = Dense(26, activation='softmax')(h1)\n",
    "\n",
    "\n",
    "model = Model(inputs=input_layer, outputs=output_layer)\n",
    "# sgd = optimizers.SGD(lr = 0.001, decay = 1e-6, momentum = 0.9, nesterov = True)\n",
    "opt = optimizers.Adam()\n",
    "model.compile(optimizer = opt, loss = \"categorical_crossentropy\", metrics=['accuracy'])"
   ]
  },
  {
   "cell_type": "code",
   "execution_count": null,
   "metadata": {},
   "outputs": [],
   "source": [
    "model.summary()"
   ]
  },
  {
   "cell_type": "code",
   "execution_count": null,
   "metadata": {},
   "outputs": [],
   "source": [
    "batch_size = 126\n",
    "n_epochs = 10\n",
    "# keras requires 0, 1 binary label input\n",
    "from keras.utils import to_categorical\n",
    "train_y_binary = to_categorical(ytrain)\n",
    "val_y_binary = to_categorical(yval)\n",
    "\n",
    "history = model.fit(np.array(xtrain.imps.tolist()), \n",
    "                    train_y_binary, \n",
    "                    epochs=n_epochs, \n",
    "                    batch_size=batch_size,\n",
    "                    validation_data=(np.array(xval.imps.tolist()), val_y_binary),\n",
    "                    verbose = 2, \n",
    "                    shuffle = True)"
   ]
  },
  {
   "cell_type": "code",
   "execution_count": null,
   "metadata": {},
   "outputs": [],
   "source": []
  }
 ],
 "metadata": {
  "kernelspec": {
   "display_name": "Python 3",
   "language": "python",
   "name": "python3"
  },
  "language_info": {
   "codemirror_mode": {
    "name": "ipython",
    "version": 3
   },
   "file_extension": ".py",
   "mimetype": "text/x-python",
   "name": "python",
   "nbconvert_exporter": "python",
   "pygments_lexer": "ipython3",
   "version": "3.7.1"
  }
 },
 "nbformat": 4,
 "nbformat_minor": 2
}
