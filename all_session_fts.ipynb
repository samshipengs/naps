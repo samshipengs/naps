{
 "cells": [
  {
   "cell_type": "code",
   "execution_count": 19,
   "metadata": {},
   "outputs": [
    {
     "name": "stdout",
     "output_type": "stream",
     "text": [
      "The autoreload extension is already loaded. To reload it, use:\n",
      "  %reload_ext autoreload\n"
     ]
    }
   ],
   "source": [
    "import time\n",
    "import pandas as pd\n",
    "import numpy as np\n",
    "import datetime\n",
    "import os\n",
    "import gc\n",
    "from functools import partial\n",
    "import matplotlib.pyplot as plt\n",
    "import shap\n",
    "import catboost as cat \n",
    "\n",
    "from utils import load_data, get_logger, get_data_path\n",
    "from clean_session import preprocess_sessions\n",
    "%matplotlib inline\n",
    "%load_ext autoreload\n",
    "%autoreload 2"
   ]
  },
  {
   "cell_type": "code",
   "execution_count": null,
   "metadata": {},
   "outputs": [],
   "source": [
    "shap.initjs()"
   ]
  },
  {
   "cell_type": "code",
   "execution_count": null,
   "metadata": {},
   "outputs": [],
   "source": [
    "fts = pd.read_parquet('./cache/train_session_fts.snappy')"
   ]
  },
  {
   "cell_type": "code",
   "execution_count": 61,
   "metadata": {},
   "outputs": [
    {
     "name": "stderr",
     "output_type": "stream",
     "text": [
      "[05-20 10:39:20 - utils-106 - load_data - INFO] Loading train using 5,000,000 rows (4,999,976 trimmed) which is 31.38% out of total train data\n"
     ]
    }
   ],
   "source": [
    "train_raw = load_data('train', nrows=5000000)\n",
    "train_raw['timestamp'] = train_raw['timestamp'].apply(lambda ts: datetime.datetime.utcfromtimestamp(ts))\n"
   ]
  },
  {
   "cell_type": "code",
   "execution_count": 3,
   "metadata": {},
   "outputs": [],
   "source": [
    "train = pd.read_parquet('./cache/train_inputs.snappy')"
   ]
  },
  {
   "cell_type": "code",
   "execution_count": 5,
   "metadata": {},
   "outputs": [],
   "source": [
    "# sids = train.session_id.unique()\n",
    "train_sids = np.load('./cache/train_session_ids.npy')\n",
    "# train_input.sort_values('session_id').head()"
   ]
  },
  {
   "cell_type": "code",
   "execution_count": 7,
   "metadata": {},
   "outputs": [
    {
     "name": "stderr",
     "output_type": "stream",
     "text": [
      "[05-20 09:50:09 - create_model_inputs-25 - create_action_type_mapping - INFO] Load action_types mapping from existing: ./cache/action_types_mapping.npy\n"
     ]
    },
    {
     "data": {
      "text/plain": [
       "({'clickout item': 0,\n",
       "  'search for poi': 1,\n",
       "  'interaction item image': 2,\n",
       "  'interaction item info': 3,\n",
       "  'interaction item deals': 4,\n",
       "  'search for destination': 5,\n",
       "  'filter selection': 6,\n",
       "  'interaction item rating': 7,\n",
       "  'search for item': 8,\n",
       "  'change of sort order': 9},\n",
       " 10)"
      ]
     },
     "execution_count": 7,
     "metadata": {},
     "output_type": "execute_result"
    }
   ],
   "source": [
    "from create_model_inputs import create_action_type_mapping\n",
    "create_action_type_mapping()"
   ]
  },
  {
   "cell_type": "code",
   "execution_count": 63,
   "metadata": {},
   "outputs": [
    {
     "data": {
      "text/plain": [
       "'d1d8bc3a53a50'"
      ]
     },
     "execution_count": 63,
     "metadata": {},
     "output_type": "execute_result"
    }
   ],
   "source": [
    "sid = np.random.choice(train_sids, 1)[0]\n",
    "sid"
   ]
  },
  {
   "cell_type": "markdown",
   "metadata": {},
   "source": [
    "### raw data"
   ]
  },
  {
   "cell_type": "code",
   "execution_count": 64,
   "metadata": {
    "scrolled": true
   },
   "outputs": [
    {
     "data": {
      "text/html": [
       "<div>\n",
       "<style scoped>\n",
       "    .dataframe tbody tr th:only-of-type {\n",
       "        vertical-align: middle;\n",
       "    }\n",
       "\n",
       "    .dataframe tbody tr th {\n",
       "        vertical-align: top;\n",
       "    }\n",
       "\n",
       "    .dataframe thead th {\n",
       "        text-align: right;\n",
       "    }\n",
       "</style>\n",
       "<table border=\"1\" class=\"dataframe\">\n",
       "  <thead>\n",
       "    <tr style=\"text-align: right;\">\n",
       "      <th></th>\n",
       "      <th>user_id</th>\n",
       "      <th>session_id</th>\n",
       "      <th>timestamp</th>\n",
       "      <th>step</th>\n",
       "      <th>action_type</th>\n",
       "      <th>reference</th>\n",
       "      <th>platform</th>\n",
       "      <th>city</th>\n",
       "      <th>device</th>\n",
       "      <th>current_filters</th>\n",
       "      <th>impressions</th>\n",
       "      <th>prices</th>\n",
       "    </tr>\n",
       "  </thead>\n",
       "  <tbody>\n",
       "    <tr>\n",
       "      <th>676364</th>\n",
       "      <td>F4YD0BG4WI5P</td>\n",
       "      <td>d1d8bc3a53a50</td>\n",
       "      <td>2018-11-03 07:52:05</td>\n",
       "      <td>1</td>\n",
       "      <td>clickout item</td>\n",
       "      <td>28679</td>\n",
       "      <td>IT</td>\n",
       "      <td>Montreux, Switzerland</td>\n",
       "      <td>mobile</td>\n",
       "      <td>NaN</td>\n",
       "      <td>28689|28682|28693|14695|28679|28691|28694|2869...</td>\n",
       "      <td>247|168|140|319|109|293|166|157|311|409|281|44...</td>\n",
       "    </tr>\n",
       "    <tr>\n",
       "      <th>676365</th>\n",
       "      <td>F4YD0BG4WI5P</td>\n",
       "      <td>d1d8bc3a53a50</td>\n",
       "      <td>2018-11-03 07:54:58</td>\n",
       "      <td>2</td>\n",
       "      <td>clickout item</td>\n",
       "      <td>28679</td>\n",
       "      <td>IT</td>\n",
       "      <td>Montreux, Switzerland</td>\n",
       "      <td>mobile</td>\n",
       "      <td>NaN</td>\n",
       "      <td>28689|28682|28693|14695|28679|28691|28694|2869...</td>\n",
       "      <td>247|168|140|319|109|293|166|157|311|409|281|44...</td>\n",
       "    </tr>\n",
       "  </tbody>\n",
       "</table>\n",
       "</div>"
      ],
      "text/plain": [
       "             user_id     session_id           timestamp  step    action_type  \\\n",
       "676364  F4YD0BG4WI5P  d1d8bc3a53a50 2018-11-03 07:52:05     1  clickout item   \n",
       "676365  F4YD0BG4WI5P  d1d8bc3a53a50 2018-11-03 07:54:58     2  clickout item   \n",
       "\n",
       "       reference platform                   city  device current_filters  \\\n",
       "676364     28679       IT  Montreux, Switzerland  mobile             NaN   \n",
       "676365     28679       IT  Montreux, Switzerland  mobile             NaN   \n",
       "\n",
       "                                              impressions  \\\n",
       "676364  28689|28682|28693|14695|28679|28691|28694|2869...   \n",
       "676365  28689|28682|28693|14695|28679|28691|28694|2869...   \n",
       "\n",
       "                                                   prices  \n",
       "676364  247|168|140|319|109|293|166|157|311|409|281|44...  \n",
       "676365  247|168|140|319|109|293|166|157|311|409|281|44...  "
      ]
     },
     "execution_count": 64,
     "metadata": {},
     "output_type": "execute_result"
    }
   ],
   "source": [
    "train_raw[train_raw.session_id==sid]"
   ]
  },
  {
   "cell_type": "code",
   "execution_count": 65,
   "metadata": {},
   "outputs": [
    {
     "data": {
      "text/plain": [
       "{'user_id': ['F4YD0BG4WI5P', 'F4YD0BG4WI5P'],\n",
       " 'session_id': ['d1d8bc3a53a50', 'd1d8bc3a53a50'],\n",
       " 'timestamp': [Timestamp('2018-11-03 07:52:05'),\n",
       "  Timestamp('2018-11-03 07:54:58')],\n",
       " 'step': [1, 2],\n",
       " 'action_type': ['clickout item', 'clickout item'],\n",
       " 'reference': ['28679', '28679'],\n",
       " 'platform': ['IT', 'IT'],\n",
       " 'city': ['Montreux, Switzerland', 'Montreux, Switzerland'],\n",
       " 'device': ['mobile', 'mobile'],\n",
       " 'current_filters': [nan, nan],\n",
       " 'impressions': ['28689|28682|28693|14695|28679|28691|28694|28698|7941730|6622690|9144432|28695|28696|28688|8005226|9541130|9543588|10547466',\n",
       "  '28689|28682|28693|14695|28679|28691|28694|28698|7941730|6622690|9144432|28695|28696|28688|8005226|9541130|9543588|10547466'],\n",
       " 'prices': ['247|168|140|319|109|293|166|157|311|409|281|447|229|310|1051|282|783|197',\n",
       "  '247|168|140|319|109|293|166|157|311|409|281|447|229|310|1051|282|783|197']}"
      ]
     },
     "execution_count": 65,
     "metadata": {},
     "output_type": "execute_result"
    }
   ],
   "source": [
    "train_raw[train_raw.session_id==sid].to_dict(orient='list')"
   ]
  },
  {
   "cell_type": "code",
   "execution_count": 66,
   "metadata": {},
   "outputs": [
    {
     "data": {
      "text/plain": [
       "<catboost.core.CatBoostClassifier at 0x7ff8b0553b38>"
      ]
     },
     "execution_count": 66,
     "metadata": {},
     "output_type": "execute_result"
    }
   ],
   "source": [
    "# load model\n",
    "clf = cat.CatBoostClassifier()  # parameters not required.\n",
    "clf.load_model('./models/cv0.model')"
   ]
  },
  {
   "cell_type": "code",
   "execution_count": 67,
   "metadata": {},
   "outputs": [
    {
     "data": {
      "text/plain": [
       "array([[3.72124330e-01, 1.37851592e-01, 1.16590504e-01, 4.21556475e-02,\n",
       "        9.75452636e-02, 2.35821845e-02, 4.05272898e-02, 3.38485214e-02,\n",
       "        1.48334986e-02, 1.16292388e-02, 8.87330106e-03, 1.26075024e-02,\n",
       "        1.14066102e-02, 9.33394663e-03, 5.99602651e-03, 2.37823694e-02,\n",
       "        5.50599638e-03, 1.50237382e-02, 6.34455831e-03, 5.30412180e-03,\n",
       "        1.44353356e-03, 1.05306035e-03, 1.67616513e-03, 7.66901457e-04,\n",
       "        1.94099103e-04],\n",
       "       [1.18523102e-01, 7.11242151e-02, 6.17304970e-02, 4.74739185e-02,\n",
       "        3.45607008e-01, 5.49468908e-02, 6.41713192e-02, 6.08395054e-02,\n",
       "        4.07144438e-02, 1.68898127e-02, 1.79735039e-02, 1.19222079e-02,\n",
       "        2.93183716e-02, 1.30709265e-02, 6.02371400e-03, 1.27233484e-02,\n",
       "        5.98957608e-03, 1.06736479e-02, 2.73441039e-03, 2.37785062e-03,\n",
       "        1.52326820e-03, 1.52441650e-03, 1.00732995e-03, 7.15362173e-04,\n",
       "        4.01353413e-04]])"
      ]
     },
     "execution_count": 67,
     "metadata": {},
     "output_type": "execute_result"
    }
   ],
   "source": [
    "pred = clf.predict_proba(train[train_sids==sid])\n",
    "pred"
   ]
  },
  {
   "cell_type": "code",
   "execution_count": 68,
   "metadata": {},
   "outputs": [
    {
     "data": {
      "text/plain": [
       "array([[ 0,  1,  2,  4,  3,  6,  7, 15,  5, 17,  8, 11,  9, 12, 13, 10,\n",
       "        18, 14, 16, 19, 22, 20, 21, 23, 24],\n",
       "       [ 4,  0,  1,  6,  2,  7,  5,  3,  8, 12, 10,  9, 13, 15, 11, 17,\n",
       "        14, 16, 18, 19, 21, 20, 22, 23, 24]])"
      ]
     },
     "execution_count": 68,
     "metadata": {},
     "output_type": "execute_result"
    }
   ],
   "source": [
    "np.argsort(pred)[:, ::-1]"
   ]
  },
  {
   "cell_type": "code",
   "execution_count": null,
   "metadata": {},
   "outputs": [],
   "source": [
    "%%time\n",
    "explainer = shap.TreeExplainer(clf)"
   ]
  },
  {
   "cell_type": "code",
   "execution_count": 69,
   "metadata": {},
   "outputs": [
    {
     "name": "stderr",
     "output_type": "stream",
     "text": [
      "/home/sam/anaconda3/lib/python3.6/site-packages/catboost/core.py:1697: UserWarning: 'fstr_type' parameter will be deprecated soon, use 'type' parameter instead\n",
      "  warnings.warn(\"'fstr_type' parameter will be deprecated soon, use 'type' parameter instead\")\n"
     ]
    }
   ],
   "source": [
    "shap_values = explainer.shap_values(train[train_sids==sid])"
   ]
  },
  {
   "cell_type": "code",
   "execution_count": 71,
   "metadata": {},
   "outputs": [
    {
     "data": {
      "text/html": [
       "\n",
       "<div id='iT1WK0PCDXABZAJ03XGX6'>\n",
       "<div style='color: #900; text-align: center;'>\n",
       "  <b>Visualization omitted, Javascript library not loaded!</b><br>\n",
       "  Have you run `initjs()` in this notebook? If this notebook was from another\n",
       "  user you must also trust this notebook (File -> Trust notebook). If you are viewing\n",
       "  this notebook on github the Javascript has been stripped for security. If you are using\n",
       "  JupyterLab this error is because a JupyterLab extension has not yet been written.\n",
       "</div></div>\n",
       " <script>\n",
       "   if (window.SHAP) SHAP.ReactDom.render(\n",
       "    SHAP.React.createElement(SHAP.AdditiveForceVisualizer, {\"outNames\": [\"output value\"], \"baseValue\": 4.859456278886895, \"outValue\": 7.558614429748594, \"link\": \"identity\", \"featureNames\": [\"step\", \"n_imps\", \"n_cf\", \"session_size\", \"session_duration\", \"last_duration\", \"ref_shift\", \"at_shift\", \"price_0\", \"price_1\", \"price_2\", \"price_3\", \"price_4\", \"price_5\", \"price_6\", \"price_7\", \"price_8\", \"price_9\", \"price_10\", \"price_11\", \"price_12\", \"price_13\", \"price_14\", \"price_15\", \"price_16\", \"price_17\", \"price_18\", \"price_19\", \"price_20\", \"price_21\", \"price_22\", \"price_23\", \"price_24\", \"prev_clickouts0\", \"prev_clickouts1\", \"prev_clickouts2\", \"prev_clickouts3\", \"prev_clickouts4\", \"prev_clickouts5\", \"prev_clickouts6\", \"prev_clickouts7\", \"prev_clickouts8\", \"prev_clickouts9\", \"prev_clickouts10\", \"prev_clickouts11\", \"prev_clickouts12\", \"prev_clickouts13\", \"prev_clickouts14\", \"prev_clickouts15\", \"prev_clickouts16\", \"prev_clickouts17\", \"prev_clickouts18\", \"prev_clickouts19\", \"prev_clickouts20\", \"prev_clickouts21\", \"prev_clickouts22\", \"prev_clickouts23\", \"prev_clickouts24\", \"target\"], \"features\": {\"0\": {\"effect\": -0.06658086982645811, \"value\": 1.0}, \"1\": {\"effect\": 1.0862285704528525, \"value\": 18.0}, \"2\": {\"effect\": 0.05445383699102458, \"value\": 0.0}, \"3\": {\"effect\": -0.07443404906149557, \"value\": 0.0}, \"4\": {\"effect\": -0.011142386962717564, \"value\": 0.0}, \"5\": {\"effect\": 0.8553759327523573, \"value\": 0.0}, \"6\": {\"effect\": 0.5415402123011135, \"value\": NaN}, \"7\": {\"effect\": -0.8997430572097713, \"value\": NaN}, \"8\": {\"effect\": 0.1804655372968614, \"value\": 0.23501427212178877}, \"9\": {\"effect\": -0.09338409903767149, \"value\": 0.1598477640342531}, \"10\": {\"effect\": -0.04391523113734035, \"value\": 0.13320647002854424}, \"11\": {\"effect\": -0.07577129931850954, \"value\": 0.30352045670789723}, \"12\": {\"effect\": 0.06600020841335537, \"value\": 0.10371075166508087}, \"13\": {\"effect\": 0.037530672844650254, \"value\": 0.2787821122740247}, \"14\": {\"effect\": -0.041724244554226825, \"value\": 0.15794481446241673}, \"15\": {\"effect\": -0.14832964694109083, \"value\": 0.1493815413891532}, \"16\": {\"effect\": -0.011418808463465347, \"value\": 0.29590865842055186}, \"17\": {\"effect\": 0.021222903703111494, \"value\": 0.38915318744053284}, \"18\": {\"effect\": 0.026125025498964748, \"value\": 0.26736441484300666}, \"19\": {\"effect\": 0.03692408894631734, \"value\": 0.4253092293054234}, \"20\": {\"effect\": -0.01496479244496976, \"value\": 0.21788772597526165}, \"21\": {\"effect\": -0.02374240350935571, \"value\": 0.2949571836346337}, \"22\": {\"effect\": -0.014454819561702812, \"value\": 1.0}, \"23\": {\"effect\": -0.003226871382402393, \"value\": 0.26831588962892483}, \"24\": {\"effect\": -0.07874585402175982, \"value\": 0.7450047573739296}, \"25\": {\"effect\": -0.01203930274830953, \"value\": 0.1874405328258801}, \"26\": {\"effect\": 0.20008173475663332, \"value\": 0.0}, \"27\": {\"effect\": 0.1824517242122501, \"value\": 0.0}, \"28\": {\"effect\": 0.17157415489347144, \"value\": 0.0}, \"29\": {\"effect\": 0.180704983875112, \"value\": 0.0}, \"30\": {\"effect\": 0.32007645178949695, \"value\": 0.0}, \"31\": {\"effect\": 0.13795468369941208, \"value\": 0.0}, \"32\": {\"effect\": 0.24651274541576035, \"value\": 0.0}, \"33\": {\"effect\": -0.07586228048711254, \"value\": 0.0}, \"34\": {\"effect\": -0.007169519723566053, \"value\": 0.0}, \"35\": {\"effect\": -0.0005816884073710879, \"value\": 0.0}, \"36\": {\"effect\": 0.0028695787358528424, \"value\": 0.0}, \"37\": {\"effect\": -0.0017827825571011084, \"value\": 0.0}, \"38\": {\"effect\": 0.0073733880494660465, \"value\": 0.0}, \"39\": {\"effect\": 0.008238304129273332, \"value\": 0.0}, \"40\": {\"effect\": 0.001184735150605855, \"value\": 0.0}, \"41\": {\"effect\": 0.004206892358354534, \"value\": 0.0}, \"42\": {\"effect\": 0.0025580251893622687, \"value\": 0.0}, \"43\": {\"effect\": 0.006107974796169487, \"value\": 0.0}, \"44\": {\"effect\": 0.00438145475712803, \"value\": 0.0}, \"45\": {\"effect\": 0.002149631342546924, \"value\": 0.0}, \"46\": {\"effect\": 0.0012746575773050976, \"value\": 0.0}, \"47\": {\"effect\": 0.000920501977232855, \"value\": 0.0}, \"48\": {\"effect\": 0.0022145512201190436, \"value\": 0.0}, \"49\": {\"effect\": 0.0013729789918150064, \"value\": 0.0}, \"50\": {\"effect\": 0.0016250930169529408, \"value\": 0.0}, \"51\": {\"effect\": 0.0019735674340760696, \"value\": 0.0}, \"52\": {\"effect\": 0.0010472773428045876, \"value\": 0.0}, \"53\": {\"effect\": 0.0007043150300475019, \"value\": 0.0}, \"54\": {\"effect\": 0.0006411256265403044, \"value\": 0.0}, \"55\": {\"effect\": 4.2194225112848626e-05, \"value\": 0.0}, \"56\": {\"effect\": 0.00015431354026397028, \"value\": 0.0}, \"57\": {\"effect\": 0.0019081298843233972, \"value\": 0.0}}, \"plot_cmap\": \"RdBu\", \"labelMargin\": 20}),\n",
       "    document.getElementById('iT1WK0PCDXABZAJ03XGX6')\n",
       "  );\n",
       "</script>"
      ],
      "text/plain": [
       "<IPython.core.display.HTML object>"
      ]
     },
     "execution_count": 71,
     "metadata": {},
     "output_type": "execute_result"
    }
   ],
   "source": [
    "# visualize the first prediction's explanation (use matplotlib=True to avoid Javascript)\n",
    "ncls = 0\n",
    "ninstance = 0\n",
    "shap.force_plot(explainer.expected_value[ncls], shap_values[ncls][ninstance],\n",
    "                train[train_sids==sid].iloc[ninstance,:])"
   ]
  },
  {
   "cell_type": "markdown",
   "metadata": {},
   "source": [
    "### train inputs"
   ]
  },
  {
   "cell_type": "code",
   "execution_count": 72,
   "metadata": {
    "scrolled": true
   },
   "outputs": [
    {
     "data": {
      "text/plain": [
       "{'step': [1, 2],\n",
       " 'n_imps': [18.0, 18.0],\n",
       " 'n_cf': [0.0, 0.0],\n",
       " 'session_size': [0.0, 0.6931471805599453],\n",
       " 'session_duration': [0.0, 173.0],\n",
       " 'last_duration': [0.0, 5.159055299214529],\n",
       " 'ref_shift': [nan, 4.0],\n",
       " 'at_shift': [nan, 0.0],\n",
       " 'price_0': [0.23501427212178877, 0.23501427212178877],\n",
       " 'price_1': [0.1598477640342531, 0.1598477640342531],\n",
       " 'price_2': [0.13320647002854424, 0.13320647002854424],\n",
       " 'price_3': [0.30352045670789723, 0.30352045670789723],\n",
       " 'price_4': [0.10371075166508087, 0.10371075166508087],\n",
       " 'price_5': [0.2787821122740247, 0.2787821122740247],\n",
       " 'price_6': [0.15794481446241673, 0.15794481446241673],\n",
       " 'price_7': [0.1493815413891532, 0.1493815413891532],\n",
       " 'price_8': [0.29590865842055186, 0.29590865842055186],\n",
       " 'price_9': [0.38915318744053284, 0.38915318744053284],\n",
       " 'price_10': [0.26736441484300666, 0.26736441484300666],\n",
       " 'price_11': [0.4253092293054234, 0.4253092293054234],\n",
       " 'price_12': [0.21788772597526165, 0.21788772597526165],\n",
       " 'price_13': [0.2949571836346337, 0.2949571836346337],\n",
       " 'price_14': [1.0, 1.0],\n",
       " 'price_15': [0.26831588962892483, 0.26831588962892483],\n",
       " 'price_16': [0.7450047573739296, 0.7450047573739296],\n",
       " 'price_17': [0.1874405328258801, 0.1874405328258801],\n",
       " 'price_18': [0.0, 0.0],\n",
       " 'price_19': [0.0, 0.0],\n",
       " 'price_20': [0.0, 0.0],\n",
       " 'price_21': [0.0, 0.0],\n",
       " 'price_22': [0.0, 0.0],\n",
       " 'price_23': [0.0, 0.0],\n",
       " 'price_24': [0.0, 0.0],\n",
       " 'prev_clickouts0': [0.0, 0.0],\n",
       " 'prev_clickouts1': [0.0, 0.0],\n",
       " 'prev_clickouts2': [0.0, 0.0],\n",
       " 'prev_clickouts3': [0.0, 0.0],\n",
       " 'prev_clickouts4': [0.0, 1.0],\n",
       " 'prev_clickouts5': [0.0, 0.0],\n",
       " 'prev_clickouts6': [0.0, 0.0],\n",
       " 'prev_clickouts7': [0.0, 0.0],\n",
       " 'prev_clickouts8': [0.0, 0.0],\n",
       " 'prev_clickouts9': [0.0, 0.0],\n",
       " 'prev_clickouts10': [0.0, 0.0],\n",
       " 'prev_clickouts11': [0.0, 0.0],\n",
       " 'prev_clickouts12': [0.0, 0.0],\n",
       " 'prev_clickouts13': [0.0, 0.0],\n",
       " 'prev_clickouts14': [0.0, 0.0],\n",
       " 'prev_clickouts15': [0.0, 0.0],\n",
       " 'prev_clickouts16': [0.0, 0.0],\n",
       " 'prev_clickouts17': [0.0, 0.0],\n",
       " 'prev_clickouts18': [0.0, 0.0],\n",
       " 'prev_clickouts19': [0.0, 0.0],\n",
       " 'prev_clickouts20': [0.0, 0.0],\n",
       " 'prev_clickouts21': [0.0, 0.0],\n",
       " 'prev_clickouts22': [0.0, 0.0],\n",
       " 'prev_clickouts23': [0.0, 0.0],\n",
       " 'prev_clickouts24': [0.0, 0.0],\n",
       " 'target': [4, 4]}"
      ]
     },
     "execution_count": 72,
     "metadata": {},
     "output_type": "execute_result"
    }
   ],
   "source": [
    "train[train_sids==sid].to_dict(orient='list')"
   ]
  },
  {
   "cell_type": "code",
   "execution_count": 17,
   "metadata": {},
   "outputs": [
    {
     "data": {
      "text/plain": [
       "0.2629757785467128"
      ]
     },
     "execution_count": 17,
     "metadata": {},
     "output_type": "execute_result"
    }
   ],
   "source": [
    "152/578"
   ]
  },
  {
   "cell_type": "code",
   "execution_count": null,
   "metadata": {},
   "outputs": [],
   "source": [
    "# fts[fts.session_id==sid].to_dict(orient='list')"
   ]
  },
  {
   "cell_type": "code",
   "execution_count": null,
   "metadata": {},
   "outputs": [],
   "source": [
    "# fts[fts.session_id==sid][['ref_shift', 'at_shift']].values"
   ]
  },
  {
   "cell_type": "code",
   "execution_count": null,
   "metadata": {},
   "outputs": [],
   "source": [
    "# train_input[train_input.session_id==sid].impressions_natural.values"
   ]
  },
  {
   "cell_type": "code",
   "execution_count": null,
   "metadata": {
    "scrolled": true
   },
   "outputs": [],
   "source": [
    "# train_raw[train_raw.session_id==sid]"
   ]
  },
  {
   "cell_type": "code",
   "execution_count": null,
   "metadata": {},
   "outputs": [],
   "source": [
    "import pandas as pd\n",
    "sub_original = pd.read_csv('./subs/sub.csv')"
   ]
  },
  {
   "cell_type": "code",
   "execution_count": null,
   "metadata": {},
   "outputs": [],
   "source": [
    "sub_new = pd.read_csv('./subs/sub_05-19.csv')"
   ]
  },
  {
   "cell_type": "code",
   "execution_count": null,
   "metadata": {},
   "outputs": [],
   "source": [
    "sub_original.head()"
   ]
  },
  {
   "cell_type": "code",
   "execution_count": null,
   "metadata": {},
   "outputs": [],
   "source": [
    "sub_new.head(10)"
   ]
  },
  {
   "cell_type": "code",
   "execution_count": null,
   "metadata": {},
   "outputs": [],
   "source": [
    "sub_new.iloc[5].item_recommendations"
   ]
  },
  {
   "cell_type": "code",
   "execution_count": null,
   "metadata": {},
   "outputs": [],
   "source": [
    "sub_original.shape"
   ]
  },
  {
   "cell_type": "code",
   "execution_count": null,
   "metadata": {},
   "outputs": [],
   "source": [
    "test_sub = pd.read_csv('./subs/test_sub.csv')"
   ]
  },
  {
   "cell_type": "code",
   "execution_count": null,
   "metadata": {},
   "outputs": [],
   "source": [
    "test_sub.impressions.iloc[0]"
   ]
  },
  {
   "cell_type": "code",
   "execution_count": null,
   "metadata": {},
   "outputs": [],
   "source": [
    "sub_original['item_recommendations'] = sub_original.item_recommendations.apply(lambda xs: [int(x) for x in xs])"
   ]
  },
  {
   "cell_type": "code",
   "execution_count": null,
   "metadata": {},
   "outputs": [],
   "source": []
  },
  {
   "cell_type": "code",
   "execution_count": null,
   "metadata": {},
   "outputs": [],
   "source": []
  },
  {
   "cell_type": "code",
   "execution_count": null,
   "metadata": {},
   "outputs": [],
   "source": []
  },
  {
   "cell_type": "code",
   "execution_count": null,
   "metadata": {},
   "outputs": [],
   "source": []
  },
  {
   "cell_type": "code",
   "execution_count": null,
   "metadata": {},
   "outputs": [],
   "source": []
  },
  {
   "cell_type": "code",
   "execution_count": null,
   "metadata": {},
   "outputs": [],
   "source": []
  },
  {
   "cell_type": "code",
   "execution_count": null,
   "metadata": {},
   "outputs": [],
   "source": []
  },
  {
   "cell_type": "code",
   "execution_count": null,
   "metadata": {},
   "outputs": [],
   "source": []
  },
  {
   "cell_type": "code",
   "execution_count": null,
   "metadata": {},
   "outputs": [],
   "source": []
  },
  {
   "cell_type": "code",
   "execution_count": null,
   "metadata": {},
   "outputs": [],
   "source": [
    "train_input.price_24.hist()"
   ]
  },
  {
   "cell_type": "code",
   "execution_count": null,
   "metadata": {},
   "outputs": [],
   "source": [
    "train_input[[f'price_{i}' for i in range(25)]].describe()"
   ]
  },
  {
   "cell_type": "code",
   "execution_count": null,
   "metadata": {},
   "outputs": [],
   "source": [
    "from create_model_inputs import compute_session_fts, prepare_data, flogger"
   ]
  },
  {
   "cell_type": "code",
   "execution_count": null,
   "metadata": {},
   "outputs": [],
   "source": [
    "logger = get_logger('create_model_inputs')\n",
    "Filepath = get_data_path()\n"
   ]
  },
  {
   "cell_type": "code",
   "execution_count": null,
   "metadata": {},
   "outputs": [],
   "source": [
    "mode='train'\n",
    "nrows=1000000\n",
    "logger.info(f'Prepare {mode} data')\n",
    "t_init = time.time()\n",
    "df = prepare_data(mode, convert_action_type=True, nrows=nrows, recompute=False)\n",
    "logger.info('Compute session features')"
   ]
  },
  {
   "cell_type": "code",
   "execution_count": null,
   "metadata": {},
   "outputs": [],
   "source": [
    "str_prices = np.concatenate(df.prices.dropna().str.split('|').values)\n",
    "str_prices = [int(sp) for sp in str_prices]\n",
    "# pd.value_counts(str_prices)\n",
    "_ = plt.hist(str_prices)"
   ]
  },
  {
   "cell_type": "code",
   "execution_count": null,
   "metadata": {},
   "outputs": [],
   "source": [
    "%%time\n",
    "df = compute_session_fts(df, mode)"
   ]
  },
  {
   "cell_type": "code",
   "execution_count": null,
   "metadata": {},
   "outputs": [],
   "source": [
    "str_prices = np.concatenate(df.prices.dropna().str.split('|').values)\n",
    "str_prices = [int(sp) for sp in str_prices]\n",
    "# pd.value_counts(str_prices)\n",
    "_ = plt.hist(str_prices)"
   ]
  },
  {
   "cell_type": "code",
   "execution_count": null,
   "metadata": {},
   "outputs": [],
   "source": [
    "logger.info('Only select last click-out from each session')\n",
    "df = df.groupby('session_id').last().reset_index()\n",
    "flogger(df, 'df shape after only selecting last click-out row each session')\n",
    "\n",
    "# # log-transform on session_size feature\n",
    "# logger.info('Log-transform on session_size feature')\n",
    "# df['session_id_size'] = np.log(df['session_id_size'])\n",
    "\n",
    "# # log1p-transform on timestamp_dwell_time_prior_clickout but will cliping upper to 1hr\n",
    "# logger.info('Also log-transform on timestamp_dwell_time_prior_clickout but will cliping upper to 1hr')\n",
    "# df['timestamp_dwell_time_prior_clickout'] = np.log1p(df['timestamp_dwell_time_prior_clickout'].clip(upper=60 ** 2))"
   ]
  },
  {
   "cell_type": "code",
   "execution_count": null,
   "metadata": {},
   "outputs": [],
   "source": [
    "str_prices = np.concatenate(df.prices.dropna().str.split('|').values)\n",
    "str_prices = [int(sp) for sp in str_prices]\n",
    "# pd.value_counts(str_prices)\n",
    "_ = plt.hist(str_prices)"
   ]
  },
  {
   "cell_type": "code",
   "execution_count": null,
   "metadata": {},
   "outputs": [],
   "source": [
    "df['prices'] = df['prices'].str.split('|')\n",
    "df['prices_int'] = df['prices'].apply(lambda x: [int(p) for p in x])"
   ]
  },
  {
   "cell_type": "code",
   "execution_count": null,
   "metadata": {},
   "outputs": [],
   "source": [
    "str_prices = np.concatenate(df.prices_int.dropna().values)\n",
    "# pd.value_counts(str_prices)\n",
    "_ = plt.hist(str_prices)"
   ]
  },
  {
   "cell_type": "code",
   "execution_count": null,
   "metadata": {},
   "outputs": [],
   "source": [
    "df['time_steps'] = df['prices_int'].str.len()\n",
    "padding_mask = df['time_steps'] < 25\n",
    "df.drop('time_steps', axis=1, inplace=True)"
   ]
  },
  {
   "cell_type": "code",
   "execution_count": null,
   "metadata": {},
   "outputs": [],
   "source": [
    "df.prices.head()"
   ]
  },
  {
   "cell_type": "code",
   "execution_count": null,
   "metadata": {},
   "outputs": [],
   "source": [
    "df.prices.iloc[0]"
   ]
  },
  {
   "cell_type": "code",
   "execution_count": null,
   "metadata": {},
   "outputs": [],
   "source": [
    "df[df.prices.str.len()<25].prices.iloc[0]"
   ]
  },
  {
   "cell_type": "code",
   "execution_count": null,
   "metadata": {},
   "outputs": [],
   "source": [
    "x = [int(i) for i in df[df.prices.str.len()<25].prices.iloc[0]]\n",
    "x"
   ]
  },
  {
   "cell_type": "code",
   "execution_count": null,
   "metadata": {},
   "outputs": [],
   "source": [
    "np.pad(x, (0, 25-len(x)), mode='constant', constant_values=0)"
   ]
  },
  {
   "cell_type": "code",
   "execution_count": null,
   "metadata": {},
   "outputs": [],
   "source": [
    "type(np.nan)"
   ]
  },
  {
   "cell_type": "code",
   "execution_count": null,
   "metadata": {},
   "outputs": [],
   "source": [
    "df.loc[padding_mask, 'prices_int'] = df.loc[padding_mask, 'prices_int'].apply(lambda x: np.pad(x, (0, 25-len(x)),\n",
    "                                                                                       mode='constant',\n",
    "                                                                                       constant_values=np.nan))"
   ]
  },
  {
   "cell_type": "code",
   "execution_count": null,
   "metadata": {},
   "outputs": [],
   "source": [
    "str_prices = np.concatenate(df.prices_int.dropna().values)\n",
    "# pd.value_counts(str_prices)\n",
    "_ = plt.hist(str_prices)"
   ]
  },
  {
   "cell_type": "code",
   "execution_count": null,
   "metadata": {},
   "outputs": [],
   "source": [
    "def normalize(ps):\n",
    "    p_arr = np.array(ps)\n",
    "    return p_arr / (p_arr.max())\n",
    "df['prices_percentage_int'] = df['prices'].apply(normalize)"
   ]
  }
 ],
 "metadata": {
  "kernelspec": {
   "display_name": "Python 3",
   "language": "python",
   "name": "python3"
  },
  "language_info": {
   "codemirror_mode": {
    "name": "ipython",
    "version": 3
   },
   "file_extension": ".py",
   "mimetype": "text/x-python",
   "name": "python",
   "nbconvert_exporter": "python",
   "pygments_lexer": "ipython3",
   "version": "3.6.8"
  }
 },
 "nbformat": 4,
 "nbformat_minor": 2
}
