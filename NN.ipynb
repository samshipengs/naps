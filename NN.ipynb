{
 "cells": [
  {
   "cell_type": "code",
   "execution_count": 1,
   "metadata": {},
   "outputs": [],
   "source": [
    "import pandas as pd\n",
    "import numpy as np\n",
    "import datetime\n",
    "import time \n",
    "import os\n",
    "import gc\n",
    "import re\n",
    "import sys\n",
    "from functools import partial\n",
    "import matplotlib.pyplot as plt\n",
    "from gensim.models import Word2Vec\n",
    "\n",
    "from utils import ignore_warnings, load_data\n",
    "\n",
    "%matplotlib inline\n",
    "%load_ext autoreload\n",
    "%autoreload 2"
   ]
  },
  {
   "cell_type": "code",
   "execution_count": 2,
   "metadata": {},
   "outputs": [
    {
     "name": "stdout",
     "output_type": "stream",
     "text": [
      "train shape: (15,932,992, 12)\n",
      "train shape: (1,586,586, 12)\n"
     ]
    }
   ],
   "source": [
    "train = load_data('train')#, nrows=1000000)\n",
    "def fprint(df, name):\n",
    "    print(f'{name} shape: ({df.shape[0]:,}, {df.shape[1]})')\n",
    "fprint(train, 'train')\n",
    "train = train[(train.action_type == 'clickout item') & (train.impressions.notna())]\n",
    "fprint(train, 'train')"
   ]
  },
  {
   "cell_type": "code",
   "execution_count": 3,
   "metadata": {},
   "outputs": [
    {
     "name": "stdout",
     "output_type": "stream",
     "text": [
      "CPU times: user 1.14 s, sys: 3.67 ms, total: 1.14 s\n",
      "Wall time: 1.14 s\n"
     ]
    }
   ],
   "source": [
    "%%time\n",
    "def session_duration(x):\n",
    "    return x.max() - x.min()\n",
    "# session_fts = train.groupby('session_id').agg({'session_id': 'size', 'timestamp': session_duration})\n",
    "session_fts = train.groupby('session_id').size().reset_index(name='session_size')"
   ]
  },
  {
   "cell_type": "code",
   "execution_count": 4,
   "metadata": {
    "scrolled": true
   },
   "outputs": [],
   "source": [
    "# from clean_session import preprocess_sessions\n",
    "# # train = preprocess_sessions(train,data_source='data')\n",
    "# train = preprocess_sessions(None,data_source='data')"
   ]
  },
  {
   "cell_type": "code",
   "execution_count": 5,
   "metadata": {},
   "outputs": [],
   "source": [
    "# %%time\n",
    "# train_last = train.groupby('session_id').last().reset_index()"
   ]
  },
  {
   "cell_type": "code",
   "execution_count": 6,
   "metadata": {},
   "outputs": [],
   "source": [
    "train_last = train.copy()"
   ]
  },
  {
   "cell_type": "code",
   "execution_count": 7,
   "metadata": {},
   "outputs": [
    {
     "data": {
      "text/plain": [
       "32"
      ]
     },
     "execution_count": 7,
     "metadata": {},
     "output_type": "execute_result"
    }
   ],
   "source": [
    "del train\n",
    "gc.collect()"
   ]
  },
  {
   "cell_type": "code",
   "execution_count": 8,
   "metadata": {},
   "outputs": [
    {
     "name": "stdout",
     "output_type": "stream",
     "text": [
      "train_last shape: (1,586,586, 13)\n"
     ]
    }
   ],
   "source": [
    "train_last = pd.merge(train_last, session_fts, on='session_id')\n",
    "fprint(train_last, 'train_last')"
   ]
  },
  {
   "cell_type": "markdown",
   "metadata": {},
   "source": [
    "---"
   ]
  },
  {
   "cell_type": "code",
   "execution_count": 9,
   "metadata": {},
   "outputs": [
    {
     "data": {
      "text/plain": [
       "London, United Kingdom    0.017958\n",
       "Tokyo, Japan              0.032792\n",
       "Paris, France             0.045143\n",
       "New York, USA             0.056589\n",
       "Istanbul, Turkey          0.066274\n",
       "Name: city, dtype: float64"
      ]
     },
     "execution_count": 9,
     "metadata": {},
     "output_type": "execute_result"
    }
   ],
   "source": [
    "# get only common cities\n",
    "city_counts = train_last.city.value_counts()\n",
    "city_counts_cs = city_counts.cumsum()/(city_counts.sum())\n",
    "city_counts_cs.head()"
   ]
  },
  {
   "cell_type": "code",
   "execution_count": 10,
   "metadata": {},
   "outputs": [
    {
     "name": "stdout",
     "output_type": "stream",
     "text": [
      "train_last shape: (1,427,926, 13)\n"
     ]
    }
   ],
   "source": [
    "# set the threshold we select cities\n",
    "th = 0.9\n",
    "above_th = city_counts_cs[city_counts_cs<th]\n",
    "common_cities = above_th.index.values\n",
    "train_last = train_last[train_last.city.isin(common_cities)].reset_index(drop=True)\n",
    "fprint(train_last, 'train_last')"
   ]
  },
  {
   "cell_type": "code",
   "execution_count": 11,
   "metadata": {},
   "outputs": [],
   "source": [
    "# current filters\n",
    "train_last['cfs'] = train_last.current_filters.str.split('|')\n",
    "train_last['ncfs'] = train_last.cfs.str.len()"
   ]
  },
  {
   "cell_type": "code",
   "execution_count": 12,
   "metadata": {},
   "outputs": [],
   "source": [
    "# add country infomation\n",
    "train_last['country'] = train_last.city.str.split(',').str[1]"
   ]
  },
  {
   "cell_type": "code",
   "execution_count": 13,
   "metadata": {},
   "outputs": [],
   "source": [
    "# number of impressions\n",
    "train_last['nimps'] = train_last.impressions.str.split('|').str.len()"
   ]
  },
  {
   "cell_type": "code",
   "execution_count": 14,
   "metadata": {},
   "outputs": [],
   "source": [
    "# prices\n",
    "train_last['prices'] = train_last.prices.str.split('|')\n",
    "# train_last['prices'] = train_last.prices.apply(lambda x: np.pad(x, (0, 25-len(x)), mode='constant'))\n",
    "train_last['prices'] = train_last.prices.apply(lambda x: [int(p) for p in x])"
   ]
  },
  {
   "cell_type": "code",
   "execution_count": 15,
   "metadata": {},
   "outputs": [
    {
     "name": "stdout",
     "output_type": "stream",
     "text": [
      "CPU times: user 2.63 s, sys: 332 ms, total: 2.97 s\n",
      "Wall time: 2.96 s\n"
     ]
    }
   ],
   "source": [
    "%%time\n",
    "# impressions\n",
    "train_last['impressions'] = train_last['impressions'].str.split('|')\n",
    "# train_last['impressions'] = train_last['impressions'].apply(lambda x: np.pad(x, (0, 25-len(x)), mode='constant'))"
   ]
  },
  {
   "cell_type": "code",
   "execution_count": 16,
   "metadata": {},
   "outputs": [
    {
     "name": "stdout",
     "output_type": "stream",
     "text": [
      "train_last shape: (1,151,786, 17)\n"
     ]
    }
   ],
   "source": [
    "# select only 25 length\n",
    "train_last = train_last[train_last['nimps']==25].reset_index(drop=True)\n",
    "fprint(train_last, 'train_last')"
   ]
  },
  {
   "cell_type": "code",
   "execution_count": 17,
   "metadata": {},
   "outputs": [],
   "source": [
    "# create mapping and get unique count\n",
    "all_imps = train_last['impressions'].values\n",
    "imps_uniqes = list(set([j for i in all_imps for j in i]))\n",
    "imps_mapping = {v: k for k,v in enumerate(imps_uniqes)}\n",
    "del all_imps\n",
    "n_item_ids = len(imps_uniqes)\n",
    "del imps_uniqes"
   ]
  },
  {
   "cell_type": "code",
   "execution_count": 18,
   "metadata": {},
   "outputs": [
    {
     "name": "stdout",
     "output_type": "stream",
     "text": [
      "Before shape: (1,151,786, 17)\n",
      "After shape: (1,151,786, 17)\n"
     ]
    }
   ],
   "source": [
    "fprint(train_last, 'Before')\n",
    "train_last = train_last[train_last.reference.notna()].reset_index(drop=True)\n",
    "fprint(train_last, 'After')\n",
    "\n",
    "def assign_target(row):\n",
    "    ref = row.reference\n",
    "    imp = list(row.impressions)\n",
    "    if ref in imp:\n",
    "        return imp.index(str(ref))\n",
    "    else:\n",
    "        return 25\n",
    "train_last['target'] = train_last.apply(assign_target, axis=1)"
   ]
  },
  {
   "cell_type": "code",
   "execution_count": 19,
   "metadata": {},
   "outputs": [
    {
     "data": {
      "text/plain": [
       "0    367453\n",
       "1    109899\n",
       "2     78934\n",
       "3     64595\n",
       "4     56264\n",
       "Name: target, dtype: int64"
      ]
     },
     "execution_count": 19,
     "metadata": {},
     "output_type": "execute_result"
    }
   ],
   "source": [
    "pd.value_counts(train_last['target']).head()"
   ]
  },
  {
   "cell_type": "code",
   "execution_count": 20,
   "metadata": {},
   "outputs": [
    {
     "name": "stdout",
     "output_type": "stream",
     "text": [
      "converting city\n",
      "converting platform\n",
      "converting device\n",
      "converting country\n"
     ]
    }
   ],
   "source": [
    "# encode city, platform and device\n",
    "def categorize(df, cols):\n",
    "    for col in cols:\n",
    "        print('converting', col)\n",
    "        unique_values = df[col].unique()\n",
    "        mapping = {v: k for k, v in enumerate(unique_values)}\n",
    "        df[col] = df[col].map(mapping)\n",
    "        \n",
    "categorize(train_last, ['city', 'platform', 'device', 'country'])"
   ]
  },
  {
   "cell_type": "code",
   "execution_count": 21,
   "metadata": {},
   "outputs": [
    {
     "data": {
      "text/plain": [
       "array([0, 1, 2])"
      ]
     },
     "execution_count": 21,
     "metadata": {},
     "output_type": "execute_result"
    }
   ],
   "source": [
    "train_last.device.unique()"
   ]
  },
  {
   "cell_type": "code",
   "execution_count": 22,
   "metadata": {},
   "outputs": [],
   "source": [
    "train_last = pd.get_dummies(train_last, columns=['device'], drop_first=True)"
   ]
  },
  {
   "cell_type": "code",
   "execution_count": 23,
   "metadata": {},
   "outputs": [],
   "source": [
    "# train = train[['session_id', 'timestamp', 'reference', 'imps', 'city', 'device', 'platform', 'prices']]"
   ]
  },
  {
   "cell_type": "code",
   "execution_count": 24,
   "metadata": {},
   "outputs": [],
   "source": [
    "all_prices = train_last.prices.values\n",
    "all_prices = [j for i in all_prices for j in i]"
   ]
  },
  {
   "cell_type": "code",
   "execution_count": 25,
   "metadata": {},
   "outputs": [
    {
     "data": {
      "image/png": "[encoded data removed]",
      "text/plain": [
       "<Figure size 432x288 with 1 Axes>"
      ]
     },
     "metadata": {
      "needs_background": "light"
     },
     "output_type": "display_data"
    }
   ],
   "source": [
    "_= plt.hist(all_prices, bins=20)"
   ]
  },
  {
   "cell_type": "code",
   "execution_count": 26,
   "metadata": {},
   "outputs": [
    {
     "data": {
      "text/plain": [
       "(10000, 66, 119.9751987956096, 83.0)"
      ]
     },
     "execution_count": 26,
     "metadata": {},
     "output_type": "execute_result"
    }
   ],
   "source": [
    "np.max(all_prices), np.min(all_prices[all_prices!=0]), np.mean(all_prices), np.median(all_prices)"
   ]
  },
  {
   "cell_type": "code",
   "execution_count": 27,
   "metadata": {},
   "outputs": [
    {
     "data": {
      "image/png": "[encoded data removed]",
      "text/plain": [
       "<Figure size 432x288 with 1 Axes>"
      ]
     },
     "metadata": {
      "needs_background": "light"
     },
     "output_type": "display_data"
    }
   ],
   "source": [
    "_= plt.hist(np.log1p(all_prices), bins=20)"
   ]
  },
  {
   "cell_type": "code",
   "execution_count": 28,
   "metadata": {},
   "outputs": [
    {
     "data": {
      "image/png": "[encoded data removed]",
      "text/plain": [
       "<Figure size 432x288 with 1 Axes>"
      ]
     },
     "metadata": {
      "needs_background": "light"
     },
     "output_type": "display_data"
    }
   ],
   "source": [
    "m = np.mean(np.log1p(all_prices))\n",
    "sd = np.std(np.log1p(all_prices))\n",
    "_ = plt.hist((np.log1p(all_prices)-m)/sd)"
   ]
  },
  {
   "cell_type": "code",
   "execution_count": 29,
   "metadata": {},
   "outputs": [],
   "source": [
    "# all_prices = np.log1p(all_prices)\n",
    "# price_mu = np.mean(all_prices)\n",
    "# price_sd = np.std(all_prices)\n",
    "# transform\n",
    "# prices = np.array(list(np.log1p(train_last['prices'].values)))\n",
    "# prices = (prices - price_mu)/price_sd\n",
    "# del train_last['prices']\n",
    "# maybe normalize to percentage within each records, check does each item_id have the same price over all records\n",
    "\n",
    "def normalize(ps):\n",
    "    p_arr = np.array(ps)\n",
    "    return p_arr/(p_arr.max())\n",
    "\n",
    "train_last['prices'] = train_last['prices'].apply(normalize)\n",
    "prices = np.array(list(train_last['prices'].values))\n",
    "del train_last['prices']"
   ]
  },
  {
   "cell_type": "code",
   "execution_count": 30,
   "metadata": {},
   "outputs": [],
   "source": [
    "# IMPRESSIONS\n",
    "impressions = train_last['impressions'].values\n",
    "# map each item_id to integer value\n",
    "impressions = np.array([[imps_mapping[j] for j in i] for i in impressions])\n",
    "del train_last['impressions']\n",
    "# CITY\n",
    "cities = train_last['city'].values\n",
    "n_city = train_last['city'].nunique()\n",
    "del train_last['city']\n",
    "# COUNTRY\n",
    "countries = train_last['country'].values\n",
    "n_country = train_last['country'].nunique()\n",
    "del train_last['country']\n",
    "# PLATFORM\n",
    "platforms = train_last['platform'].values\n",
    "n_plat = train_last['platform'].nunique()\n",
    "del train_last['platform']\n",
    "# DEVICES\n",
    "devices = train_last[['device_1', 'device_2']].values\n",
    "del train_last['device_1'], train_last['device_2']\n",
    "\n",
    "# SESSION_ID\n",
    "sids = train_last['session_id'].values\n",
    "del train_last['session_id']\n",
    "# TARGETS\n",
    "targets = train_last['target'].values\n",
    "del train_last['target']"
   ]
  },
  {
   "cell_type": "code",
   "execution_count": 31,
   "metadata": {},
   "outputs": [],
   "source": [
    "def iterate_minibatches(impressions, prices, cities, countries, platforms, devices, \n",
    "                        batchsize, targets, shuffle=True, reorder=True):\n",
    "    '''\n",
    "        same as get_minibatches, except returns a generator\n",
    "        inputs: An array of events, where each events is an array with sequence_length number of rows\n",
    "        targets: target created by shifting 1 from inputs\n",
    "        batchsize: desired batch size\n",
    "        shuffle: Shuffle input data\n",
    "    '''\n",
    "    # default we will shuffle\n",
    "    indices = np.arange(len(targets))\n",
    "    while True:\n",
    "        if shuffle:\n",
    "            np.random.shuffle(indices)\n",
    "        for start_idx in range(0, len(targets), batchsize):\n",
    "            excerpt = indices[start_idx:start_idx+batchsize]\n",
    "            imps = impressions[excerpt]\n",
    "            ps = prices[excerpt]\n",
    "            cis = cities[excerpt]\n",
    "            cos = countries[excerpt]\n",
    "            plats = platforms[excerpt]\n",
    "            ds = devices[excerpt]\n",
    "            ys = targets[excerpt]\n",
    "            \n",
    "            if reorder:\n",
    "                # randomly shuffle the order of the impressions and prices\n",
    "                reorder_ind = [np.random.choice(np.arange(25, dtype='int'), 25, replace=False) for _ in range(len(imps))]\n",
    "                reorder_imp = imps[np.arange(imps.shape[0])[:, None], reorder_ind]\n",
    "                reorder_price = ps[np.arange(ps.shape[0])[:, None], reorder_ind]\n",
    "        \n",
    "                # concatenate them back\n",
    "                yield ([np.vstack((imps, reorder_imp)),\n",
    "                        np.vstack((ps, reorder_price))[:, :, None],\n",
    "                        np.hstack((cis, cis)), \n",
    "                        np.hstack((cos, cos)), \n",
    "                        np.hstack((plats, plats)),\n",
    "                        np.vstack((ds, ds))],\n",
    "                       np.vstack((ys, ys)))\n",
    "#                 yield ([reorder_imp, reorder_price[:, :, None], cis, cos, plats, ds], ys)\n",
    "            else:\n",
    "                yield ([imps, ps[:, :, None], cis, cos, plats, ds], ys)"
   ]
  },
  {
   "cell_type": "code",
   "execution_count": 32,
   "metadata": {},
   "outputs": [],
   "source": [
    "# from sklearn.metrics import roc_auc_score\n",
    "# from keras.callbacks import Callback\n",
    "\n",
    "# class IntervalEvaluation(Callback):\n",
    "#     def __init__(self, validation_data=val_gen, y_val, interval=2):\n",
    "#         super(Callback, self).__init__()\n",
    "\n",
    "#         self.interval = interval\n",
    "# #         self.X_val, self.y_val = validation_data\n",
    "#         self.val_gen = val_gen\n",
    "#         self.y_val = y_val\n",
    "\n",
    "#     def on_epoch_end(self, epoch, logs={}):\n",
    "#         if epoch % self.interval == 0:\n",
    "#             y_pred = self.model.predict_generator(self.val_gen, verbose=0)\n",
    "# #             score = roc_auc_score(self.y_val, y_pred)\n",
    "#             val_mrr = np.mean(1/(np.where(np.argsort(y_pred)[:, ::-1] == y_val[val_pred.shape[0]].reshape(-1, 1))[1]+1))\n",
    "#             print(\"interval evaluation - epoch: {:d} - score: {:.6f}\".format(epoch, val_mrr))"
   ]
  },
  {
   "cell_type": "code",
   "execution_count": 33,
   "metadata": {},
   "outputs": [],
   "source": [
    "def nemd(n):\n",
    "    return int(n**(1/4))"
   ]
  },
  {
   "cell_type": "code",
   "execution_count": 34,
   "metadata": {},
   "outputs": [
    {
     "data": {
      "text/plain": [
       "(569125, 27)"
      ]
     },
     "execution_count": 34,
     "metadata": {},
     "output_type": "execute_result"
    }
   ],
   "source": [
    "n_item_ids, nemd(n_item_ids)"
   ]
  },
  {
   "cell_type": "code",
   "execution_count": 36,
   "metadata": {},
   "outputs": [
    {
     "data": {
      "text/plain": [
       "(4309, 141)"
      ]
     },
     "execution_count": 36,
     "metadata": {},
     "output_type": "execute_result"
    }
   ],
   "source": [
    "n_city, n_country"
   ]
  },
  {
   "cell_type": "code",
   "execution_count": 37,
   "metadata": {},
   "outputs": [
    {
     "data": {
      "text/plain": [
       "(8, 3)"
      ]
     },
     "execution_count": 37,
     "metadata": {},
     "output_type": "execute_result"
    }
   ],
   "source": [
    "nemd(n_city), nemd(n_country)"
   ]
  },
  {
   "cell_type": "code",
   "execution_count": 38,
   "metadata": {},
   "outputs": [
    {
     "data": {
      "text/plain": [
       "2"
      ]
     },
     "execution_count": 38,
     "metadata": {},
     "output_type": "execute_result"
    }
   ],
   "source": [
    "nemd(n_plat)"
   ]
  },
  {
   "cell_type": "code",
   "execution_count": null,
   "metadata": {},
   "outputs": [],
   "source": [
    "# for i in val_gen:\n",
    "#     for j in i[0]:\n",
    "#         print(j.shape)\n",
    "#     break"
   ]
  },
  {
   "cell_type": "code",
   "execution_count": null,
   "metadata": {
    "scrolled": true
   },
   "outputs": [
    {
     "name": "stdout",
     "output_type": "stream",
     "text": [
      "train len: 921,418 | val len: 230,368 | numer of parameters: 11,434,012 | train_len/nparams=0.08059\n",
      "__________________________________________________________________________________________________\n",
      "Layer (type)                    Output Shape         Param #     Connected to                     \n",
      "==================================================================================================\n",
      "impression_input (InputLayer)   (None, 25)           0                                            \n",
      "__________________________________________________________________________________________________\n",
      "embedding_1 (Embedding)         (None, 25, 20)       11382500    impression_input[0][0]           \n",
      "__________________________________________________________________________________________________\n",
      "spatial_dropout1d_1 (SpatialDro (None, 25, 20)       0           embedding_1[0][0]                \n",
      "__________________________________________________________________________________________________\n",
      "conv1d_1 (Conv1D)               (None, 23, 16)       976         spatial_dropout1d_1[0][0]        \n",
      "__________________________________________________________________________________________________\n",
      "max_pooling1d_1 (MaxPooling1D)  (None, 11, 16)       0           conv1d_1[0][0]                   \n",
      "__________________________________________________________________________________________________\n",
      "dropout_1 (Dropout)             (None, 11, 16)       0           max_pooling1d_1[0][0]            \n",
      "__________________________________________________________________________________________________\n",
      "price_input (InputLayer)        (None, 25, 1)        0                                            \n",
      "__________________________________________________________________________________________________\n",
      "conv1d_2 (Conv1D)               (None, 9, 32)        1568        dropout_1[0][0]                  \n",
      "__________________________________________________________________________________________________\n",
      "conv1d_3 (Conv1D)               (None, 23, 8)        32          price_input[0][0]                \n",
      "__________________________________________________________________________________________________\n",
      "max_pooling1d_2 (MaxPooling1D)  (None, 4, 32)        0           conv1d_2[0][0]                   \n",
      "__________________________________________________________________________________________________\n",
      "max_pooling1d_3 (MaxPooling1D)  (None, 11, 8)        0           conv1d_3[0][0]                   \n",
      "__________________________________________________________________________________________________\n",
      "dropout_2 (Dropout)             (None, 4, 32)        0           max_pooling1d_2[0][0]            \n",
      "__________________________________________________________________________________________________\n",
      "conv1d_4 (Conv1D)               (None, 9, 16)        400         max_pooling1d_3[0][0]            \n",
      "__________________________________________________________________________________________________\n",
      "flatten_1 (Flatten)             (None, 128)          0           dropout_2[0][0]                  \n",
      "__________________________________________________________________________________________________\n",
      "max_pooling1d_4 (MaxPooling1D)  (None, 4, 16)        0           conv1d_4[0][0]                   \n",
      "__________________________________________________________________________________________________\n",
      "dropout_3 (Dropout)             (None, 128)          0           flatten_1[0][0]                  \n",
      "__________________________________________________________________________________________________\n",
      "flatten_2 (Flatten)             (None, 64)           0           max_pooling1d_4[0][0]            \n",
      "__________________________________________________________________________________________________\n",
      "concatenate_1 (Concatenate)     (None, 192)          0           dropout_3[0][0]                  \n",
      "                                                                 flatten_2[0][0]                  \n",
      "__________________________________________________________________________________________________\n",
      "city_input (InputLayer)         (None, 1)            0                                            \n",
      "__________________________________________________________________________________________________\n",
      "country_input (InputLayer)      (None, 1)            0                                            \n",
      "__________________________________________________________________________________________________\n",
      "platform (InputLayer)           (None, 1)            0                                            \n",
      "__________________________________________________________________________________________________\n",
      "batch_normalization_1 (BatchNor (None, 192)          768         concatenate_1[0][0]              \n",
      "__________________________________________________________________________________________________\n",
      "embedding_2 (Embedding)         (None, 1, 9)         38781       city_input[0][0]                 \n",
      "__________________________________________________________________________________________________\n",
      "embedding_3 (Embedding)         (None, 1, 4)         564         country_input[0][0]              \n",
      "__________________________________________________________________________________________________\n",
      "embedding_4 (Embedding)         (None, 1, 3)         165         platform[0][0]                   \n",
      "__________________________________________________________________________________________________\n",
      "dense_1 (Dense)                 (None, 30)           5790        batch_normalization_1[0][0]      \n",
      "__________________________________________________________________________________________________\n",
      "spatial_dropout1d_2 (SpatialDro (None, 1, 9)         0           embedding_2[0][0]                \n",
      "__________________________________________________________________________________________________\n",
      "spatial_dropout1d_3 (SpatialDro (None, 1, 4)         0           embedding_3[0][0]                \n",
      "__________________________________________________________________________________________________\n",
      "spatial_dropout1d_4 (SpatialDro (None, 1, 3)         0           embedding_4[0][0]                \n",
      "__________________________________________________________________________________________________\n",
      "dropout_4 (Dropout)             (None, 30)           0           dense_1[0][0]                    \n",
      "__________________________________________________________________________________________________\n",
      "flatten_3 (Flatten)             (None, 9)            0           spatial_dropout1d_2[0][0]        \n",
      "__________________________________________________________________________________________________\n",
      "flatten_4 (Flatten)             (None, 4)            0           spatial_dropout1d_3[0][0]        \n",
      "__________________________________________________________________________________________________\n",
      "flatten_5 (Flatten)             (None, 3)            0           spatial_dropout1d_4[0][0]        \n",
      "__________________________________________________________________________________________________\n",
      "device_input (InputLayer)       (None, 2)            0                                            \n",
      "__________________________________________________________________________________________________\n",
      "concatenate_2 (Concatenate)     (None, 48)           0           dropout_4[0][0]                  \n",
      "                                                                 flatten_3[0][0]                  \n",
      "                                                                 flatten_4[0][0]                  \n",
      "                                                                 flatten_5[0][0]                  \n",
      "                                                                 device_input[0][0]               \n",
      "__________________________________________________________________________________________________\n",
      "batch_normalization_2 (BatchNor (None, 48)           192         concatenate_2[0][0]              \n",
      "__________________________________________________________________________________________________\n",
      "dropout_5 (Dropout)             (None, 48)           0           batch_normalization_2[0][0]      \n",
      "__________________________________________________________________________________________________\n",
      "dense_2 (Dense)                 (None, 30)           1470        dropout_5[0][0]                  \n",
      "__________________________________________________________________________________________________\n",
      "dense_3 (Dense)                 (None, 26)           806         dense_2[0][0]                    \n",
      "==================================================================================================\n",
      "Total params: 11,434,012\n",
      "Trainable params: 11,433,532\n",
      "Non-trainable params: 480\n",
      "__________________________________________________________________________________________________\n",
      "None\n"
     ]
    },
    {
     "name": "stdout",
     "output_type": "stream",
     "text": [
      "Epoch 1/10\n",
      "3599/3599 [==============================] - 57s 16ms/step - loss: 2.6461 - acc: 0.3136 - val_loss: 2.5811 - val_acc: 0.3193\n",
      "Epoch 2/10\n",
      "3599/3599 [==============================] - 56s 16ms/step - loss: 2.5552 - acc: 0.3190 - val_loss: 2.5610 - val_acc: 0.3194\n",
      "Epoch 3/10\n",
      "3599/3599 [==============================] - 56s 16ms/step - loss: 2.5216 - acc: 0.3191 - val_loss: 2.5625 - val_acc: 0.3187\n",
      "Epoch 4/10\n",
      "1573/3599 [============>.................] - ETA: 30s - loss: 2.4934 - acc: 0.3192"
     ]
    }
   ],
   "source": [
    "from keras.callbacks import Callback, EarlyStopping, ModelCheckpoint, ReduceLROnPlateau, TensorBoard\n",
    "from sklearn.model_selection import StratifiedKFold\n",
    "from datetime import datetime as dt\n",
    "from nn_model import build_model\n",
    "from keras.utils import plot_model\n",
    "\n",
    "batchsize = 256\n",
    "\n",
    "skf = StratifiedKFold(n_splits=5)\n",
    "for trn_ind, val_ind in skf.split(targets, targets):\n",
    "    trn_imp, val_imp = impressions[trn_ind], impressions[val_ind]\n",
    "    trn_price, val_price = prices[trn_ind], prices[val_ind]\n",
    "    trn_city, val_city = cities[trn_ind], cities[val_ind]\n",
    "    trn_country, val_country = countries[trn_ind], countries[val_ind]\n",
    "    trn_plat, val_plat = platforms[trn_ind], platforms[val_ind]\n",
    "    trn_dev, val_dev = devices[trn_ind], devices[val_ind]\n",
    "    \n",
    "    y_trn, y_val = targets[trn_ind], targets[val_ind]\n",
    "    # keras requires 0, 1 binary label input\n",
    "    from keras.utils import to_categorical\n",
    "    train_y_binary = to_categorical(y_trn)\n",
    "    val_y_binary = to_categorical(y_val)\n",
    "    \n",
    "    \n",
    "    # create data generator [imps, ps, cis, cos, plats, ds], ys\n",
    "    train_gen = iterate_minibatches(trn_imp, trn_price, trn_city, trn_country, trn_plat, trn_dev, \n",
    "                        batchsize, train_y_binary, shuffle=True, reorder=True)\n",
    "    \n",
    "    val_gen = iterate_minibatches(val_imp, val_price, val_city, val_country, val_plat, val_dev, \n",
    "                    batchsize, val_y_binary, shuffle=False, reorder=False)\n",
    "    # TEMP\n",
    "#     del impressions, prices, cities, platforms, devices\n",
    "#     gc.collect()\n",
    "    \n",
    "    # =====================================================================================\n",
    "    # create model\n",
    "    model = build_model(n_item_ids, n_city, n_country, n_plat)\n",
    "    \n",
    "    # print out model info\n",
    "    nparams = model.count_params()\n",
    "    print((f'train len: {len(y_trn):,} | val len: {len(y_val):,} '\n",
    "           f'| numer of parameters: {nparams:,} | train_len/nparams={len(y_trn)/nparams:.5f}'))\n",
    "    print(model.summary())\n",
    "    plot_model(model, to_file='model.png')\n",
    "    # add some callbacks\n",
    "    callbacks = []\n",
    "#     model_file = 'test.model'\n",
    "#     callbacks = [ModelCheckpoint(model_file, save_best_only=True, verbose=1)]\n",
    "    log_dir = \"logs/{}\".format(dt.now().strftime('%m-%d-%H-%M'))\n",
    "    tb = TensorBoard(log_dir=log_dir, write_graph=True, write_grads=True)\n",
    "    callbacks.append(tb)\n",
    "    # add mrr callback\n",
    "#     callbacks.append(IntervalEvaluation())\n",
    "    \n",
    "    batch_size = 256\n",
    "    n_epochs = 10\n",
    "\n",
    "    history = model.fit_generator(train_gen, \n",
    "                                  steps_per_epoch=len(y_trn)//batch_size, \n",
    "                                  epochs=10, \n",
    "                                  verbose=1, \n",
    "                                  callbacks=callbacks, \n",
    "                                  validation_data=val_gen, \n",
    "                                  validation_steps=len(y_val)//batch_size)\n",
    "\n",
    "    # make predictions\n",
    "     # train generator\n",
    "    train_gen = iterate_minibatches(trn_imp, trn_price, trn_city, trn_country, trn_plat, trn_dev, \n",
    "                        batchsize, train_y_binary, shuffle=True)\n",
    "    \n",
    "    val_gen = iterate_minibatches(val_imp, val_price, val_city, val_country, val_plat, val_dev, \n",
    "                    batchsize, val_y_binary, shuffle=False, reorder=False)\n",
    "    \n",
    "    \n",
    "    trn_pred = model.predict_generator(train_gen, steps=len(y_trn)//batch_size)\n",
    "    trn_mrr = np.mean(1/(np.where(np.argsort(trn_pred)[:, ::-1] == y_trn.reshape(-1, 1))[1]+1))\n",
    "    \n",
    "    \n",
    "    trn_pred = model.predict(x=[trn_imp, trn_price[:, :, None], trn_city, trn_country, trn_plat, trn_dev], \n",
    "                             batch_size=1024)\n",
    "    trn_mrr = np.mean(1/(np.where(np.argsort(trn_pred)[:, ::-1] == y_trn.reshape(-1, 1))[1]+1))\n",
    "\n",
    "    val_pred = model.predict(x=[val_imp, val_price[:, :, None], val_city, val_country, val_plat, val_dev], \n",
    "                             batch_size=1024)\n",
    "    val_mrr = np.mean(1/(np.where(np.argsort(val_pred)[:, ::-1] == y_val.reshape(-1, 1))[1]+1))\n",
    "    print(f'train mrr: {trn_mrr:.2f} | val mrr: {val_mrr:.2f}')\n",
    "    \n",
    "    \n",
    "    break"
   ]
  },
  {
   "cell_type": "code",
   "execution_count": null,
   "metadata": {},
   "outputs": [],
   "source": [
    "pd.value_counts(np.where(np.argsort(val_pred)[:, ::-1] == y_val.reshape(-1, 1))[1])"
   ]
  },
  {
   "cell_type": "code",
   "execution_count": null,
   "metadata": {},
   "outputs": [],
   "source": [
    "# train mrr: 0.47 | val mrr: 0.45"
   ]
  }
 ],
 "metadata": {
  "kernelspec": {
   "display_name": "Python 3",
   "language": "python",
   "name": "python3"
  },
  "language_info": {
   "codemirror_mode": {
    "name": "ipython",
    "version": 3
   },
   "file_extension": ".py",
   "mimetype": "text/x-python",
   "name": "python",
   "nbconvert_exporter": "python",
   "pygments_lexer": "ipython3",
   "version": "3.6.8"
  }
 },
 "nbformat": 4,
 "nbformat_minor": 2
}
