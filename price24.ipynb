{
 "cells": [
  {
   "cell_type": "code",
   "execution_count": 22,
   "metadata": {},
   "outputs": [
    {
     "name": "stdout",
     "output_type": "stream",
     "text": [
      "The autoreload extension is already loaded. To reload it, use:\n",
      "  %reload_ext autoreload\n"
     ]
    }
   ],
   "source": [
    "import time\n",
    "import pandas as pd\n",
    "import numpy as np\n",
    "import datetime\n",
    "import os\n",
    "import gc\n",
    "from functools import partial\n",
    "import matplotlib.pyplot as plt\n",
    "from utils import load_data, get_logger, get_data_path\n",
    "from clean_session import preprocess_sessions\n",
    "%matplotlib inline\n",
    "%load_ext autoreload\n",
    "%autoreload 2"
   ]
  },
  {
   "cell_type": "code",
   "execution_count": 2,
   "metadata": {},
   "outputs": [],
   "source": [
    "train_input = pd.read_parquet('./cache/train_inputs_no_imp.snappy')"
   ]
  },
  {
   "cell_type": "code",
   "execution_count": 7,
   "metadata": {},
   "outputs": [
    {
     "data": {
      "text/plain": [
       "<matplotlib.axes._subplots.AxesSubplot at 0x7fd26d209978>"
      ]
     },
     "execution_count": 7,
     "metadata": {},
     "output_type": "execute_result"
    },
    {
     "data": {
      "image/png": "[encoded data removed]",
      "text/plain": [
       "<Figure size 432x288 with 1 Axes>"
      ]
     },
     "metadata": {
      "needs_background": "light"
     },
     "output_type": "display_data"
    }
   ],
   "source": [
    "train_input.price_24.hist()"
   ]
  },
  {
   "cell_type": "code",
   "execution_count": 8,
   "metadata": {},
   "outputs": [
    {
     "data": {
      "text/html": [
       "<div>\n",
       "<style scoped>\n",
       "    .dataframe tbody tr th:only-of-type {\n",
       "        vertical-align: middle;\n",
       "    }\n",
       "\n",
       "    .dataframe tbody tr th {\n",
       "        vertical-align: top;\n",
       "    }\n",
       "\n",
       "    .dataframe thead th {\n",
       "        text-align: right;\n",
       "    }\n",
       "</style>\n",
       "<table border=\"1\" class=\"dataframe\">\n",
       "  <thead>\n",
       "    <tr style=\"text-align: right;\">\n",
       "      <th></th>\n",
       "      <th>price_0</th>\n",
       "      <th>price_1</th>\n",
       "      <th>price_2</th>\n",
       "      <th>price_3</th>\n",
       "      <th>price_4</th>\n",
       "      <th>price_5</th>\n",
       "      <th>price_6</th>\n",
       "      <th>price_7</th>\n",
       "      <th>price_8</th>\n",
       "      <th>price_9</th>\n",
       "      <th>...</th>\n",
       "      <th>price_15</th>\n",
       "      <th>price_16</th>\n",
       "      <th>price_17</th>\n",
       "      <th>price_18</th>\n",
       "      <th>price_19</th>\n",
       "      <th>price_20</th>\n",
       "      <th>price_21</th>\n",
       "      <th>price_22</th>\n",
       "      <th>price_23</th>\n",
       "      <th>price_24</th>\n",
       "    </tr>\n",
       "  </thead>\n",
       "  <tbody>\n",
       "    <tr>\n",
       "      <th>count</th>\n",
       "      <td>826505.000000</td>\n",
       "      <td>8.265050e+05</td>\n",
       "      <td>8.265050e+05</td>\n",
       "      <td>8.265050e+05</td>\n",
       "      <td>8.265050e+05</td>\n",
       "      <td>8.265050e+05</td>\n",
       "      <td>8.265050e+05</td>\n",
       "      <td>8.265050e+05</td>\n",
       "      <td>8.265050e+05</td>\n",
       "      <td>8.265050e+05</td>\n",
       "      <td>...</td>\n",
       "      <td>8.265050e+05</td>\n",
       "      <td>8.265050e+05</td>\n",
       "      <td>8.265050e+05</td>\n",
       "      <td>8.265050e+05</td>\n",
       "      <td>8.265050e+05</td>\n",
       "      <td>8.265050e+05</td>\n",
       "      <td>8.265050e+05</td>\n",
       "      <td>8.265050e+05</td>\n",
       "      <td>8.265050e+05</td>\n",
       "      <td>8.265050e+05</td>\n",
       "    </tr>\n",
       "    <tr>\n",
       "      <th>mean</th>\n",
       "      <td>0.484429</td>\n",
       "      <td>-6.466336e+14</td>\n",
       "      <td>-1.149055e+15</td>\n",
       "      <td>-1.609935e+15</td>\n",
       "      <td>-2.052240e+15</td>\n",
       "      <td>-2.478190e+15</td>\n",
       "      <td>-2.893022e+15</td>\n",
       "      <td>-3.296869e+15</td>\n",
       "      <td>-3.684673e+15</td>\n",
       "      <td>-4.097316e+15</td>\n",
       "      <td>...</td>\n",
       "      <td>-9.500502e+15</td>\n",
       "      <td>-1.032152e+16</td>\n",
       "      <td>-1.105540e+16</td>\n",
       "      <td>-1.175626e+16</td>\n",
       "      <td>-1.242686e+16</td>\n",
       "      <td>-1.307715e+16</td>\n",
       "      <td>-1.367246e+16</td>\n",
       "      <td>-1.424511e+16</td>\n",
       "      <td>-1.482179e+16</td>\n",
       "      <td>-1.720338e+16</td>\n",
       "    </tr>\n",
       "    <tr>\n",
       "      <th>std</th>\n",
       "      <td>0.277448</td>\n",
       "      <td>1.424727e+16</td>\n",
       "      <td>1.746358e+16</td>\n",
       "      <td>1.966636e+16</td>\n",
       "      <td>2.130881e+16</td>\n",
       "      <td>2.266442e+16</td>\n",
       "      <td>2.379419e+16</td>\n",
       "      <td>2.476802e+16</td>\n",
       "      <td>2.562760e+16</td>\n",
       "      <td>2.647925e+16</td>\n",
       "      <td>...</td>\n",
       "      <td>3.831479e+16</td>\n",
       "      <td>3.979293e+16</td>\n",
       "      <td>4.095023e+16</td>\n",
       "      <td>4.206578e+16</td>\n",
       "      <td>4.307594e+16</td>\n",
       "      <td>4.404481e+16</td>\n",
       "      <td>4.490763e+16</td>\n",
       "      <td>4.563676e+16</td>\n",
       "      <td>4.633630e+16</td>\n",
       "      <td>4.920183e+16</td>\n",
       "    </tr>\n",
       "    <tr>\n",
       "      <th>min</th>\n",
       "      <td>0.001002</td>\n",
       "      <td>-1.844674e+18</td>\n",
       "      <td>-1.844674e+18</td>\n",
       "      <td>-1.844674e+18</td>\n",
       "      <td>-1.844674e+18</td>\n",
       "      <td>-1.844674e+18</td>\n",
       "      <td>-1.844674e+18</td>\n",
       "      <td>-1.844674e+18</td>\n",
       "      <td>-1.844674e+18</td>\n",
       "      <td>-1.844674e+18</td>\n",
       "      <td>...</td>\n",
       "      <td>-1.844674e+18</td>\n",
       "      <td>-1.844674e+18</td>\n",
       "      <td>-1.844674e+18</td>\n",
       "      <td>-1.844674e+18</td>\n",
       "      <td>-1.844674e+18</td>\n",
       "      <td>-1.844674e+18</td>\n",
       "      <td>-1.844674e+18</td>\n",
       "      <td>-1.844674e+18</td>\n",
       "      <td>-1.844674e+18</td>\n",
       "      <td>-1.844674e+18</td>\n",
       "    </tr>\n",
       "    <tr>\n",
       "      <th>25%</th>\n",
       "      <td>0.260417</td>\n",
       "      <td>2.626263e-01</td>\n",
       "      <td>2.587940e-01</td>\n",
       "      <td>2.538071e-01</td>\n",
       "      <td>2.505308e-01</td>\n",
       "      <td>2.450142e-01</td>\n",
       "      <td>2.398568e-01</td>\n",
       "      <td>2.352941e-01</td>\n",
       "      <td>2.311828e-01</td>\n",
       "      <td>2.246575e-01</td>\n",
       "      <td>...</td>\n",
       "      <td>1.690821e-01</td>\n",
       "      <td>1.601942e-01</td>\n",
       "      <td>1.521036e-01</td>\n",
       "      <td>1.428571e-01</td>\n",
       "      <td>1.347150e-01</td>\n",
       "      <td>1.260504e-01</td>\n",
       "      <td>1.173469e-01</td>\n",
       "      <td>1.088083e-01</td>\n",
       "      <td>9.937888e-02</td>\n",
       "      <td>4.182510e-02</td>\n",
       "    </tr>\n",
       "    <tr>\n",
       "      <th>50%</th>\n",
       "      <td>0.444089</td>\n",
       "      <td>4.400000e-01</td>\n",
       "      <td>4.351145e-01</td>\n",
       "      <td>4.292683e-01</td>\n",
       "      <td>4.263566e-01</td>\n",
       "      <td>4.197531e-01</td>\n",
       "      <td>4.150943e-01</td>\n",
       "      <td>4.107143e-01</td>\n",
       "      <td>4.068627e-01</td>\n",
       "      <td>4.015748e-01</td>\n",
       "      <td>...</td>\n",
       "      <td>3.533569e-01</td>\n",
       "      <td>3.468208e-01</td>\n",
       "      <td>3.397436e-01</td>\n",
       "      <td>3.333333e-01</td>\n",
       "      <td>3.283582e-01</td>\n",
       "      <td>3.225806e-01</td>\n",
       "      <td>3.166667e-01</td>\n",
       "      <td>3.121597e-01</td>\n",
       "      <td>3.070539e-01</td>\n",
       "      <td>2.871972e-01</td>\n",
       "    </tr>\n",
       "    <tr>\n",
       "      <th>75%</th>\n",
       "      <td>0.680000</td>\n",
       "      <td>6.586826e-01</td>\n",
       "      <td>6.534653e-01</td>\n",
       "      <td>6.490385e-01</td>\n",
       "      <td>6.470588e-01</td>\n",
       "      <td>6.433566e-01</td>\n",
       "      <td>6.408163e-01</td>\n",
       "      <td>6.379310e-01</td>\n",
       "      <td>6.360656e-01</td>\n",
       "      <td>6.320755e-01</td>\n",
       "      <td>...</td>\n",
       "      <td>5.882353e-01</td>\n",
       "      <td>5.808824e-01</td>\n",
       "      <td>5.759494e-01</td>\n",
       "      <td>5.714286e-01</td>\n",
       "      <td>5.644654e-01</td>\n",
       "      <td>5.598086e-01</td>\n",
       "      <td>5.569620e-01</td>\n",
       "      <td>5.508982e-01</td>\n",
       "      <td>5.458333e-01</td>\n",
       "      <td>5.320122e-01</td>\n",
       "    </tr>\n",
       "    <tr>\n",
       "      <th>max</th>\n",
       "      <td>1.000000</td>\n",
       "      <td>1.000000e+00</td>\n",
       "      <td>1.000000e+00</td>\n",
       "      <td>1.000000e+00</td>\n",
       "      <td>1.000000e+00</td>\n",
       "      <td>1.000000e+00</td>\n",
       "      <td>1.000000e+00</td>\n",
       "      <td>1.000000e+00</td>\n",
       "      <td>1.000000e+00</td>\n",
       "      <td>1.000000e+00</td>\n",
       "      <td>...</td>\n",
       "      <td>1.000000e+00</td>\n",
       "      <td>1.000000e+00</td>\n",
       "      <td>1.000000e+00</td>\n",
       "      <td>1.000000e+00</td>\n",
       "      <td>1.000000e+00</td>\n",
       "      <td>1.000000e+00</td>\n",
       "      <td>1.000000e+00</td>\n",
       "      <td>1.000000e+00</td>\n",
       "      <td>1.000000e+00</td>\n",
       "      <td>1.000000e+00</td>\n",
       "    </tr>\n",
       "  </tbody>\n",
       "</table>\n",
       "<p>8 rows × 25 columns</p>\n",
       "</div>"
      ],
      "text/plain": [
       "             price_0       price_1       price_2       price_3       price_4  \\\n",
       "count  826505.000000  8.265050e+05  8.265050e+05  8.265050e+05  8.265050e+05   \n",
       "mean        0.484429 -6.466336e+14 -1.149055e+15 -1.609935e+15 -2.052240e+15   \n",
       "std         0.277448  1.424727e+16  1.746358e+16  1.966636e+16  2.130881e+16   \n",
       "min         0.001002 -1.844674e+18 -1.844674e+18 -1.844674e+18 -1.844674e+18   \n",
       "25%         0.260417  2.626263e-01  2.587940e-01  2.538071e-01  2.505308e-01   \n",
       "50%         0.444089  4.400000e-01  4.351145e-01  4.292683e-01  4.263566e-01   \n",
       "75%         0.680000  6.586826e-01  6.534653e-01  6.490385e-01  6.470588e-01   \n",
       "max         1.000000  1.000000e+00  1.000000e+00  1.000000e+00  1.000000e+00   \n",
       "\n",
       "            price_5       price_6       price_7       price_8       price_9  \\\n",
       "count  8.265050e+05  8.265050e+05  8.265050e+05  8.265050e+05  8.265050e+05   \n",
       "mean  -2.478190e+15 -2.893022e+15 -3.296869e+15 -3.684673e+15 -4.097316e+15   \n",
       "std    2.266442e+16  2.379419e+16  2.476802e+16  2.562760e+16  2.647925e+16   \n",
       "min   -1.844674e+18 -1.844674e+18 -1.844674e+18 -1.844674e+18 -1.844674e+18   \n",
       "25%    2.450142e-01  2.398568e-01  2.352941e-01  2.311828e-01  2.246575e-01   \n",
       "50%    4.197531e-01  4.150943e-01  4.107143e-01  4.068627e-01  4.015748e-01   \n",
       "75%    6.433566e-01  6.408163e-01  6.379310e-01  6.360656e-01  6.320755e-01   \n",
       "max    1.000000e+00  1.000000e+00  1.000000e+00  1.000000e+00  1.000000e+00   \n",
       "\n",
       "       ...      price_15      price_16      price_17      price_18  \\\n",
       "count  ...  8.265050e+05  8.265050e+05  8.265050e+05  8.265050e+05   \n",
       "mean   ... -9.500502e+15 -1.032152e+16 -1.105540e+16 -1.175626e+16   \n",
       "std    ...  3.831479e+16  3.979293e+16  4.095023e+16  4.206578e+16   \n",
       "min    ... -1.844674e+18 -1.844674e+18 -1.844674e+18 -1.844674e+18   \n",
       "25%    ...  1.690821e-01  1.601942e-01  1.521036e-01  1.428571e-01   \n",
       "50%    ...  3.533569e-01  3.468208e-01  3.397436e-01  3.333333e-01   \n",
       "75%    ...  5.882353e-01  5.808824e-01  5.759494e-01  5.714286e-01   \n",
       "max    ...  1.000000e+00  1.000000e+00  1.000000e+00  1.000000e+00   \n",
       "\n",
       "           price_19      price_20      price_21      price_22      price_23  \\\n",
       "count  8.265050e+05  8.265050e+05  8.265050e+05  8.265050e+05  8.265050e+05   \n",
       "mean  -1.242686e+16 -1.307715e+16 -1.367246e+16 -1.424511e+16 -1.482179e+16   \n",
       "std    4.307594e+16  4.404481e+16  4.490763e+16  4.563676e+16  4.633630e+16   \n",
       "min   -1.844674e+18 -1.844674e+18 -1.844674e+18 -1.844674e+18 -1.844674e+18   \n",
       "25%    1.347150e-01  1.260504e-01  1.173469e-01  1.088083e-01  9.937888e-02   \n",
       "50%    3.283582e-01  3.225806e-01  3.166667e-01  3.121597e-01  3.070539e-01   \n",
       "75%    5.644654e-01  5.598086e-01  5.569620e-01  5.508982e-01  5.458333e-01   \n",
       "max    1.000000e+00  1.000000e+00  1.000000e+00  1.000000e+00  1.000000e+00   \n",
       "\n",
       "           price_24  \n",
       "count  8.265050e+05  \n",
       "mean  -1.720338e+16  \n",
       "std    4.920183e+16  \n",
       "min   -1.844674e+18  \n",
       "25%    4.182510e-02  \n",
       "50%    2.871972e-01  \n",
       "75%    5.320122e-01  \n",
       "max    1.000000e+00  \n",
       "\n",
       "[8 rows x 25 columns]"
      ]
     },
     "execution_count": 8,
     "metadata": {},
     "output_type": "execute_result"
    }
   ],
   "source": [
    "train_input[[f'price_{i}' for i in range(25)]].describe()"
   ]
  },
  {
   "cell_type": "code",
   "execution_count": 29,
   "metadata": {},
   "outputs": [],
   "source": [
    "from create_model_inputs import compute_session_fts, prepare_data, flogger"
   ]
  },
  {
   "cell_type": "code",
   "execution_count": 14,
   "metadata": {},
   "outputs": [],
   "source": [
    "logger = get_logger('create_model_inputs')\n",
    "Filepath = get_data_path()\n"
   ]
  },
  {
   "cell_type": "code",
   "execution_count": 41,
   "metadata": {},
   "outputs": [
    {
     "name": "stderr",
     "output_type": "stream",
     "text": [
      "[05-17 21:29:26 - create_model_inputs-3 - <module> - INFO] Prepare train data\n",
      "[05-17 21:29:27 - utils-106 - load_data - INFO] Loading train using 1,000,000 rows (999,995 trimmed) which is 6.28% out of total train data\n",
      "[05-17 21:29:27 - create_model_inputs-17 - flogger - INFO] raw train shape: (999,995, 12)\n",
      "[05-17 21:29:27 - clean_session-56 - preprocess_sessions - INFO] Load from existing file: ./cache/preprocessed_train.snappy\n",
      "[05-17 21:29:28 - create_model_inputs-74 - prepare_data - INFO] Converting action_types to int (natural number)\n",
      "[05-17 21:29:28 - create_model_inputs-25 - create_action_type_mapping - INFO] Load action_types mapping from existing: ./cache/action_types_mapping.npy\n",
      "[05-17 21:29:28 - create_model_inputs-77 - prepare_data - INFO] Sort df by user_id, session_id, timestamp, step\n",
      "[05-17 21:29:28 - create_model_inputs-17 - flogger - INFO] Prepared train data shape: (326,695, 9)\n",
      "[05-17 21:29:28 - create_model_inputs-6 - <module> - INFO] Compute session features\n"
     ]
    }
   ],
   "source": [
    "mode='train'\n",
    "nrows=1000000\n",
    "logger.info(f'Prepare {mode} data')\n",
    "t_init = time.time()\n",
    "df = prepare_data(mode, convert_action_type=True, nrows=nrows, recompute=False)\n",
    "logger.info('Compute session features')"
   ]
  },
  {
   "cell_type": "code",
   "execution_count": 42,
   "metadata": {},
   "outputs": [
    {
     "data": {
      "image/png": "[encoded data removed]",
      "text/plain": [
       "<Figure size 432x288 with 1 Axes>"
      ]
     },
     "metadata": {
      "needs_background": "light"
     },
     "output_type": "display_data"
    }
   ],
   "source": [
    "str_prices = np.concatenate(df.prices.dropna().str.split('|').values)\n",
    "str_prices = [int(sp) for sp in str_prices]\n",
    "# pd.value_counts(str_prices)\n",
    "_ = plt.hist(str_prices)"
   ]
  },
  {
   "cell_type": "code",
   "execution_count": 25,
   "metadata": {},
   "outputs": [
    {
     "name": "stderr",
     "output_type": "stream",
     "text": [
      "[05-17 21:24:03 - create_model_inputs-125 - compute_session_fts - INFO] Session features generated: ['timestamp_session_duration', 'timestamp_dwell_time_prior_clickout', 'session_id_size']\n"
     ]
    }
   ],
   "source": [
    "%%time\n",
    "df = compute_session_fts(df, mode)"
   ]
  },
  {
   "cell_type": "code",
   "execution_count": 43,
   "metadata": {},
   "outputs": [
    {
     "data": {
      "image/png": "[encoded data removed]",
      "text/plain": [
       "<Figure size 432x288 with 1 Axes>"
      ]
     },
     "metadata": {
      "needs_background": "light"
     },
     "output_type": "display_data"
    }
   ],
   "source": [
    "str_prices = np.concatenate(df.prices.dropna().str.split('|').values)\n",
    "str_prices = [int(sp) for sp in str_prices]\n",
    "# pd.value_counts(str_prices)\n",
    "_ = plt.hist(str_prices)"
   ]
  },
  {
   "cell_type": "code",
   "execution_count": 44,
   "metadata": {},
   "outputs": [
    {
     "name": "stderr",
     "output_type": "stream",
     "text": [
      "[05-17 21:29:47 - create_model_inputs-1 - <module> - INFO] Only select last click-out from each session\n",
      "[05-17 21:29:47 - create_model_inputs-17 - flogger - INFO] df shape after only selecting last click-out row each session shape: (51,962, 9)\n"
     ]
    }
   ],
   "source": [
    "logger.info('Only select last click-out from each session')\n",
    "df = df.groupby('session_id').last().reset_index()\n",
    "flogger(df, 'df shape after only selecting last click-out row each session')\n",
    "\n",
    "# # log-transform on session_size feature\n",
    "# logger.info('Log-transform on session_size feature')\n",
    "# df['session_id_size'] = np.log(df['session_id_size'])\n",
    "\n",
    "# # log1p-transform on timestamp_dwell_time_prior_clickout but will cliping upper to 1hr\n",
    "# logger.info('Also log-transform on timestamp_dwell_time_prior_clickout but will cliping upper to 1hr')\n",
    "# df['timestamp_dwell_time_prior_clickout'] = np.log1p(df['timestamp_dwell_time_prior_clickout'].clip(upper=60 ** 2))"
   ]
  },
  {
   "cell_type": "code",
   "execution_count": 45,
   "metadata": {},
   "outputs": [
    {
     "data": {
      "image/png": "[encoded data removed]",
      "text/plain": [
       "<Figure size 432x288 with 1 Axes>"
      ]
     },
     "metadata": {
      "needs_background": "light"
     },
     "output_type": "display_data"
    }
   ],
   "source": [
    "str_prices = np.concatenate(df.prices.dropna().str.split('|').values)\n",
    "str_prices = [int(sp) for sp in str_prices]\n",
    "# pd.value_counts(str_prices)\n",
    "_ = plt.hist(str_prices)"
   ]
  },
  {
   "cell_type": "code",
   "execution_count": 46,
   "metadata": {},
   "outputs": [],
   "source": [
    "df['prices'] = df['prices'].str.split('|')\n",
    "df['prices_int'] = df['prices'].apply(lambda x: [int(p) for p in x])"
   ]
  },
  {
   "cell_type": "code",
   "execution_count": 47,
   "metadata": {},
   "outputs": [
    {
     "data": {
      "image/png": "[encoded data removed]",
      "text/plain": [
       "<Figure size 432x288 with 1 Axes>"
      ]
     },
     "metadata": {
      "needs_background": "light"
     },
     "output_type": "display_data"
    }
   ],
   "source": [
    "str_prices = np.concatenate(df.prices_int.dropna().values)\n",
    "# pd.value_counts(str_prices)\n",
    "_ = plt.hist(str_prices)"
   ]
  },
  {
   "cell_type": "code",
   "execution_count": 48,
   "metadata": {},
   "outputs": [],
   "source": [
    "df['time_steps'] = df['prices_int'].str.len()\n",
    "padding_mask = df['time_steps'] < 25\n",
    "df.drop('time_steps', axis=1, inplace=True)"
   ]
  },
  {
   "cell_type": "code",
   "execution_count": 51,
   "metadata": {},
   "outputs": [
    {
     "data": {
      "text/plain": [
       "0    [74, 88, 87, 72, 56, 87, 244, 168, 123, 50, 12...\n",
       "1    [79, 241, 96, 51, 68, 99, 86, 69, 71, 79, 91, ...\n",
       "2    [466, 193, 295, 331, 171, 347, 383, 557, 106, ...\n",
       "3    [144, 372, 139, 141, 109, 84, 74, 168, 78, 89,...\n",
       "4    [97, 101, 78, 75, 99, 60, 120, 78, 188, 136, 9...\n",
       "Name: prices, dtype: object"
      ]
     },
     "execution_count": 51,
     "metadata": {},
     "output_type": "execute_result"
    }
   ],
   "source": [
    "df.prices.head()"
   ]
  },
  {
   "cell_type": "code",
   "execution_count": 52,
   "metadata": {},
   "outputs": [
    {
     "data": {
      "text/plain": [
       "['74',\n",
       " '88',\n",
       " '87',\n",
       " '72',\n",
       " '56',\n",
       " '87',\n",
       " '244',\n",
       " '168',\n",
       " '123',\n",
       " '50',\n",
       " '129',\n",
       " '72',\n",
       " '151',\n",
       " '83',\n",
       " '230',\n",
       " '88',\n",
       " '59',\n",
       " '450',\n",
       " '138',\n",
       " '88',\n",
       " '100',\n",
       " '111',\n",
       " '185',\n",
       " '72',\n",
       " '37']"
      ]
     },
     "execution_count": 52,
     "metadata": {},
     "output_type": "execute_result"
    }
   ],
   "source": [
    "df.prices.iloc[0]"
   ]
  },
  {
   "cell_type": "code",
   "execution_count": 58,
   "metadata": {},
   "outputs": [
    {
     "data": {
      "text/plain": [
       "['144',\n",
       " '372',\n",
       " '139',\n",
       " '141',\n",
       " '109',\n",
       " '84',\n",
       " '74',\n",
       " '168',\n",
       " '78',\n",
       " '89',\n",
       " '100',\n",
       " '68',\n",
       " '139',\n",
       " '189']"
      ]
     },
     "execution_count": 58,
     "metadata": {},
     "output_type": "execute_result"
    }
   ],
   "source": [
    "df[df.prices.str.len()<25].prices.iloc[0]"
   ]
  },
  {
   "cell_type": "code",
   "execution_count": 73,
   "metadata": {},
   "outputs": [
    {
     "data": {
      "text/plain": [
       "[144, 372, 139, 141, 109, 84, 74, 168, 78, 89, 100, 68, 139, 189]"
      ]
     },
     "execution_count": 73,
     "metadata": {},
     "output_type": "execute_result"
    }
   ],
   "source": [
    "x = [int(i) for i in df[df.prices.str.len()<25].prices.iloc[0]]\n",
    "x"
   ]
  },
  {
   "cell_type": "code",
   "execution_count": 74,
   "metadata": {},
   "outputs": [
    {
     "data": {
      "text/plain": [
       "array([144, 372, 139, 141, 109,  84,  74, 168,  78,  89, 100,  68, 139,\n",
       "       189,   0,   0,   0,   0,   0,   0,   0,   0,   0,   0,   0])"
      ]
     },
     "execution_count": 74,
     "metadata": {},
     "output_type": "execute_result"
    }
   ],
   "source": [
    "np.pad(x, (0, 25-len(x)), mode='constant', constant_values=0)"
   ]
  },
  {
   "cell_type": "code",
   "execution_count": 70,
   "metadata": {},
   "outputs": [
    {
     "data": {
      "text/plain": [
       "float"
      ]
     },
     "execution_count": 70,
     "metadata": {},
     "output_type": "execute_result"
    }
   ],
   "source": [
    "type(np.nan)"
   ]
  },
  {
   "cell_type": "code",
   "execution_count": 49,
   "metadata": {},
   "outputs": [],
   "source": [
    "df.loc[padding_mask, 'prices_int'] = df.loc[padding_mask, 'prices_int'].apply(lambda x: np.pad(x, (0, 25-len(x)),\n",
    "                                                                                       mode='constant',\n",
    "                                                                                       constant_values=np.nan))"
   ]
  },
  {
   "cell_type": "code",
   "execution_count": 50,
   "metadata": {},
   "outputs": [
    {
     "data": {
      "image/png": "[encoded data removed]",
      "text/plain": [
       "<Figure size 432x288 with 1 Axes>"
      ]
     },
     "metadata": {
      "needs_background": "light"
     },
     "output_type": "display_data"
    }
   ],
   "source": [
    "str_prices = np.concatenate(df.prices_int.dropna().values)\n",
    "# pd.value_counts(str_prices)\n",
    "_ = plt.hist(str_prices)"
   ]
  },
  {
   "cell_type": "code",
   "execution_count": null,
   "metadata": {},
   "outputs": [],
   "source": [
    "def normalize(ps):\n",
    "    p_arr = np.array(ps)\n",
    "    return p_arr / (p_arr.max())\n",
    "df['prices_percentage_int'] = df['prices'].apply(normalize)"
   ]
  }
 ],
 "metadata": {
  "kernelspec": {
   "display_name": "Python 3",
   "language": "python",
   "name": "python3"
  },
  "language_info": {
   "codemirror_mode": {
    "name": "ipython",
    "version": 3
   },
   "file_extension": ".py",
   "mimetype": "text/x-python",
   "name": "python",
   "nbconvert_exporter": "python",
   "pygments_lexer": "ipython3",
   "version": "3.6.8"
  }
 },
 "nbformat": 4,
 "nbformat_minor": 2
}
