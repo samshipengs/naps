{
 "cells": [
  {
   "cell_type": "code",
   "execution_count": 1,
   "metadata": {},
   "outputs": [],
   "source": [
    "import multiprocessing as mp\n",
    "import time\n",
    "import os\n",
    "import gc\n",
    "import datetime\n",
    "import pandas as pd\n",
    "import numpy as np\n",
    "from tqdm import tqdm\n",
    "from sklearn.metrics import log_loss, auc, roc_curve, f1_score, average_precision_score, mean_squared_error\n",
    "from sklearn.model_selection import StratifiedKFold\n",
    "import catboost as cat\n",
    "\n",
    "from reduce_memory import reduce_numeric_mem_usage, reduce_object_mem_usage\n",
    "\n",
    "%matplotlib inline\n",
    "%load_ext autoreload\n",
    "%autoreload 2"
   ]
  },
  {
   "cell_type": "code",
   "execution_count": 2,
   "metadata": {},
   "outputs": [],
   "source": [
    "# final = pd.read_csv('./data/final.csv')\n",
    "# final.to_hdf('./data/final.h5', key='final', mode='w')"
   ]
  },
  {
   "cell_type": "code",
   "execution_count": null,
   "metadata": {},
   "outputs": [],
   "source": [
    "final = pd.read_hdf('./data/final.h5', key='final')"
   ]
  },
  {
   "cell_type": "code",
   "execution_count": null,
   "metadata": {},
   "outputs": [],
   "source": [
    "# train = pd.read_csv('./data/train.csv')"
   ]
  },
  {
   "cell_type": "code",
   "execution_count": null,
   "metadata": {},
   "outputs": [],
   "source": [
    "# train['ts'] = train['timestamp'].apply(lambda t: datetime.datetime.utcfromtimestamp(t))"
   ]
  },
  {
   "cell_type": "code",
   "execution_count": null,
   "metadata": {},
   "outputs": [],
   "source": [
    "# train_sids = train[train.ts <= datetime.datetime(2018,11,6)].session_id.unique()"
   ]
  },
  {
   "cell_type": "code",
   "execution_count": null,
   "metadata": {},
   "outputs": [],
   "source": [
    "# final.head()"
   ]
  },
  {
   "cell_type": "code",
   "execution_count": null,
   "metadata": {},
   "outputs": [],
   "source": [
    "# train.head()"
   ]
  },
  {
   "cell_type": "code",
   "execution_count": null,
   "metadata": {},
   "outputs": [],
   "source": [
    "# %%time\n",
    "# xtrain = final[final.session_id.isin(train_sids)].reset_index(drop=True)\n",
    "# xval = final[~final.session_id.isin(train_sids)].reset_index(drop=True)"
   ]
  },
  {
   "cell_type": "code",
   "execution_count": null,
   "metadata": {},
   "outputs": [],
   "source": [
    "len(xtrain)"
   ]
  },
  {
   "cell_type": "code",
   "execution_count": null,
   "metadata": {},
   "outputs": [],
   "source": [
    "len(xval)"
   ]
  },
  {
   "cell_type": "code",
   "execution_count": null,
   "metadata": {},
   "outputs": [],
   "source": [
    "del final\n",
    "gc.collect()"
   ]
  },
  {
   "cell_type": "code",
   "execution_count": 3,
   "metadata": {},
   "outputs": [
    {
     "name": "stdout",
     "output_type": "stream",
     "text": [
      "CPU times: user 1.66 s, sys: 3.77 s, total: 5.44 s\n",
      "Wall time: 5.49 s\n"
     ]
    }
   ],
   "source": [
    "%%time\n",
    "xtrain = pd.read_hdf('./data/train.h5', 'xtrain')"
   ]
  },
  {
   "cell_type": "code",
   "execution_count": 4,
   "metadata": {},
   "outputs": [
    {
     "name": "stdout",
     "output_type": "stream",
     "text": [
      "CPU times: user 376 ms, sys: 723 ms, total: 1.1 s\n",
      "Wall time: 1.1 s\n"
     ]
    }
   ],
   "source": [
    "%%time\n",
    "xval = pd.read_hdf('./data/train.h5', 'xval')"
   ]
  },
  {
   "cell_type": "code",
   "execution_count": 5,
   "metadata": {},
   "outputs": [
    {
     "data": {
      "text/html": [
       "<div>\n",
       "<style scoped>\n",
       "    .dataframe tbody tr th:only-of-type {\n",
       "        vertical-align: middle;\n",
       "    }\n",
       "\n",
       "    .dataframe tbody tr th {\n",
       "        vertical-align: top;\n",
       "    }\n",
       "\n",
       "    .dataframe thead th {\n",
       "        text-align: right;\n",
       "    }\n",
       "</style>\n",
       "<table border=\"1\" class=\"dataframe\">\n",
       "  <thead>\n",
       "    <tr style=\"text-align: right;\">\n",
       "      <th></th>\n",
       "      <th>session_id</th>\n",
       "      <th>item_id</th>\n",
       "      <th>appeared</th>\n",
       "      <th>location</th>\n",
       "      <th>price</th>\n",
       "      <th>rel_price_rank</th>\n",
       "      <th>price_mean</th>\n",
       "      <th>price_median</th>\n",
       "      <th>diff_mean</th>\n",
       "      <th>diff_median</th>\n",
       "      <th>...</th>\n",
       "      <th>action_type_click_rel_pos_avg</th>\n",
       "      <th>city_nunique</th>\n",
       "      <th>city_get_first</th>\n",
       "      <th>platform_get_first</th>\n",
       "      <th>device_get_first</th>\n",
       "      <th>nfilters_mean</th>\n",
       "      <th>nfilters_max</th>\n",
       "      <th>nfilters_min</th>\n",
       "      <th>nfilters_get_last</th>\n",
       "      <th>nimps_max</th>\n",
       "    </tr>\n",
       "  </thead>\n",
       "  <tbody>\n",
       "    <tr>\n",
       "      <th>0</th>\n",
       "      <td>00000510f1adc</td>\n",
       "      <td>2661832</td>\n",
       "      <td>0</td>\n",
       "      <td>0</td>\n",
       "      <td>46</td>\n",
       "      <td>0.60</td>\n",
       "      <td>27.32</td>\n",
       "      <td>20.0</td>\n",
       "      <td>18.68</td>\n",
       "      <td>26.0</td>\n",
       "      <td>...</td>\n",
       "      <td>0.0</td>\n",
       "      <td>1</td>\n",
       "      <td>Ganpatipule, India</td>\n",
       "      <td>IN</td>\n",
       "      <td>desktop</td>\n",
       "      <td>NaN</td>\n",
       "      <td>NaN</td>\n",
       "      <td>NaN</td>\n",
       "      <td>NaN</td>\n",
       "      <td>25.0</td>\n",
       "    </tr>\n",
       "    <tr>\n",
       "      <th>1</th>\n",
       "      <td>00000510f1adc</td>\n",
       "      <td>9222426</td>\n",
       "      <td>0</td>\n",
       "      <td>1</td>\n",
       "      <td>26</td>\n",
       "      <td>0.76</td>\n",
       "      <td>27.32</td>\n",
       "      <td>20.0</td>\n",
       "      <td>-1.32</td>\n",
       "      <td>6.0</td>\n",
       "      <td>...</td>\n",
       "      <td>0.0</td>\n",
       "      <td>1</td>\n",
       "      <td>Ganpatipule, India</td>\n",
       "      <td>IN</td>\n",
       "      <td>desktop</td>\n",
       "      <td>NaN</td>\n",
       "      <td>NaN</td>\n",
       "      <td>NaN</td>\n",
       "      <td>NaN</td>\n",
       "      <td>25.0</td>\n",
       "    </tr>\n",
       "  </tbody>\n",
       "</table>\n",
       "<p>2 rows × 52 columns</p>\n",
       "</div>"
      ],
      "text/plain": [
       "      session_id  item_id  appeared  location  price  rel_price_rank  \\\n",
       "0  00000510f1adc  2661832         0         0     46            0.60   \n",
       "1  00000510f1adc  9222426         0         1     26            0.76   \n",
       "\n",
       "   price_mean  price_median  diff_mean  diff_median    ...      \\\n",
       "0       27.32          20.0      18.68         26.0    ...       \n",
       "1       27.32          20.0      -1.32          6.0    ...       \n",
       "\n",
       "   action_type_click_rel_pos_avg  city_nunique      city_get_first  \\\n",
       "0                            0.0             1  Ganpatipule, India   \n",
       "1                            0.0             1  Ganpatipule, India   \n",
       "\n",
       "   platform_get_first  device_get_first  nfilters_mean  nfilters_max  \\\n",
       "0                  IN           desktop            NaN           NaN   \n",
       "1                  IN           desktop            NaN           NaN   \n",
       "\n",
       "   nfilters_min  nfilters_get_last  nimps_max  \n",
       "0           NaN                NaN       25.0  \n",
       "1           NaN                NaN       25.0  \n",
       "\n",
       "[2 rows x 52 columns]"
      ]
     },
     "execution_count": 5,
     "metadata": {},
     "output_type": "execute_result"
    }
   ],
   "source": [
    "xtrain.head(2)"
   ]
  },
  {
   "cell_type": "code",
   "execution_count": 6,
   "metadata": {},
   "outputs": [
    {
     "name": "stdout",
     "output_type": "stream",
     "text": [
      "city_get_first\n",
      "platform_get_first\n",
      "device_get_first\n",
      "item_id\n",
      "location\n"
     ]
    }
   ],
   "source": [
    "cat_fts = ['city_get_first', 'platform_get_first', 'device_get_first', 'item_id', 'location']\n",
    "# convert to categorical\n",
    "for c in cat_fts:\n",
    "    print(c)\n",
    "    maps = list(set(list(xtrain[c].unique()) + list(xval[c].unique())))\n",
    "#     maps = xtrain[c].unique()\n",
    "    mapper = dict(zip(maps, np.arange(len(maps), dtype=int)))\n",
    "    xtrain[c] = xtrain[c].map(mapper)\n",
    "    xval[c] = xval[c].map(mapper)\n"
   ]
  },
  {
   "cell_type": "code",
   "execution_count": 7,
   "metadata": {},
   "outputs": [
    {
     "name": "stdout",
     "output_type": "stream",
     "text": [
      "Memory usage before optimization is: 7165.96 MB\n",
      "Memory usage after optimization is: 2654.06 MB\n",
      "Decreased by 63.0%\n"
     ]
    }
   ],
   "source": [
    "reduce_numeric_mem_usage(xtrain)"
   ]
  },
  {
   "cell_type": "code",
   "execution_count": 8,
   "metadata": {},
   "outputs": [
    {
     "name": "stdout",
     "output_type": "stream",
     "text": [
      "Memory usage before optimization is: 1534.87 MB\n",
      "Memory usage after optimization is: 562.16 MB\n",
      "Decreased by 63.4%\n"
     ]
    }
   ],
   "source": [
    "reduce_numeric_mem_usage(xval)"
   ]
  },
  {
   "cell_type": "code",
   "execution_count": 9,
   "metadata": {},
   "outputs": [],
   "source": [
    "y_trn = xtrain['target']\n",
    "y_val = xval['target']\n",
    "del xtrain['target'], xval['target']"
   ]
  },
  {
   "cell_type": "code",
   "execution_count": 10,
   "metadata": {},
   "outputs": [
    {
     "data": {
      "text/html": [
       "<div>\n",
       "<style scoped>\n",
       "    .dataframe tbody tr th:only-of-type {\n",
       "        vertical-align: middle;\n",
       "    }\n",
       "\n",
       "    .dataframe tbody tr th {\n",
       "        vertical-align: top;\n",
       "    }\n",
       "\n",
       "    .dataframe thead th {\n",
       "        text-align: right;\n",
       "    }\n",
       "</style>\n",
       "<table border=\"1\" class=\"dataframe\">\n",
       "  <thead>\n",
       "    <tr style=\"text-align: right;\">\n",
       "      <th></th>\n",
       "      <th>session_id</th>\n",
       "      <th>item_id</th>\n",
       "      <th>appeared</th>\n",
       "      <th>location</th>\n",
       "      <th>price</th>\n",
       "      <th>rel_price_rank</th>\n",
       "      <th>price_mean</th>\n",
       "      <th>price_median</th>\n",
       "      <th>diff_mean</th>\n",
       "      <th>diff_median</th>\n",
       "      <th>...</th>\n",
       "      <th>action_type_click_rel_pos_avg</th>\n",
       "      <th>city_nunique</th>\n",
       "      <th>city_get_first</th>\n",
       "      <th>platform_get_first</th>\n",
       "      <th>device_get_first</th>\n",
       "      <th>nfilters_mean</th>\n",
       "      <th>nfilters_max</th>\n",
       "      <th>nfilters_min</th>\n",
       "      <th>nfilters_get_last</th>\n",
       "      <th>nimps_max</th>\n",
       "    </tr>\n",
       "  </thead>\n",
       "  <tbody>\n",
       "    <tr>\n",
       "      <th>0</th>\n",
       "      <td>00000510f1adc</td>\n",
       "      <td>264592</td>\n",
       "      <td>0</td>\n",
       "      <td>0</td>\n",
       "      <td>46</td>\n",
       "      <td>0.600098</td>\n",
       "      <td>27.3125</td>\n",
       "      <td>20.0</td>\n",
       "      <td>18.687500</td>\n",
       "      <td>26.0</td>\n",
       "      <td>...</td>\n",
       "      <td>0.0</td>\n",
       "      <td>1</td>\n",
       "      <td>22560</td>\n",
       "      <td>29</td>\n",
       "      <td>2</td>\n",
       "      <td>NaN</td>\n",
       "      <td>NaN</td>\n",
       "      <td>NaN</td>\n",
       "      <td>NaN</td>\n",
       "      <td>25.0</td>\n",
       "    </tr>\n",
       "    <tr>\n",
       "      <th>1</th>\n",
       "      <td>00000510f1adc</td>\n",
       "      <td>363743</td>\n",
       "      <td>0</td>\n",
       "      <td>1</td>\n",
       "      <td>26</td>\n",
       "      <td>0.759766</td>\n",
       "      <td>27.3125</td>\n",
       "      <td>20.0</td>\n",
       "      <td>-1.320312</td>\n",
       "      <td>6.0</td>\n",
       "      <td>...</td>\n",
       "      <td>0.0</td>\n",
       "      <td>1</td>\n",
       "      <td>22560</td>\n",
       "      <td>29</td>\n",
       "      <td>2</td>\n",
       "      <td>NaN</td>\n",
       "      <td>NaN</td>\n",
       "      <td>NaN</td>\n",
       "      <td>NaN</td>\n",
       "      <td>25.0</td>\n",
       "    </tr>\n",
       "  </tbody>\n",
       "</table>\n",
       "<p>2 rows × 51 columns</p>\n",
       "</div>"
      ],
      "text/plain": [
       "      session_id  item_id  appeared  location  price  rel_price_rank  \\\n",
       "0  00000510f1adc   264592         0         0     46        0.600098   \n",
       "1  00000510f1adc   363743         0         1     26        0.759766   \n",
       "\n",
       "   price_mean  price_median  diff_mean  diff_median    ...      \\\n",
       "0     27.3125          20.0  18.687500         26.0    ...       \n",
       "1     27.3125          20.0  -1.320312          6.0    ...       \n",
       "\n",
       "   action_type_click_rel_pos_avg  city_nunique  city_get_first  \\\n",
       "0                            0.0             1           22560   \n",
       "1                            0.0             1           22560   \n",
       "\n",
       "   platform_get_first  device_get_first  nfilters_mean  nfilters_max  \\\n",
       "0                  29                 2            NaN           NaN   \n",
       "1                  29                 2            NaN           NaN   \n",
       "\n",
       "   nfilters_min  nfilters_get_last  nimps_max  \n",
       "0           NaN                NaN       25.0  \n",
       "1           NaN                NaN       25.0  \n",
       "\n",
       "[2 rows x 51 columns]"
      ]
     },
     "execution_count": 10,
     "metadata": {},
     "output_type": "execute_result"
    }
   ],
   "source": [
    "xtrain.head(2)"
   ]
  },
  {
   "cell_type": "code",
   "execution_count": null,
   "metadata": {},
   "outputs": [],
   "source": [
    "# xtrain.columns"
   ]
  },
  {
   "cell_type": "code",
   "execution_count": 11,
   "metadata": {},
   "outputs": [
    {
     "data": {
      "text/plain": [
       "city_get_first        0\n",
       "platform_get_first    0\n",
       "device_get_first      0\n",
       "item_id               0\n",
       "location              0\n",
       "dtype: int64"
      ]
     },
     "execution_count": 11,
     "metadata": {},
     "output_type": "execute_result"
    }
   ],
   "source": [
    "xtrain[cat_fts].isna().sum()"
   ]
  },
  {
   "cell_type": "code",
   "execution_count": 12,
   "metadata": {},
   "outputs": [
    {
     "data": {
      "text/plain": [
       "city_get_first        0\n",
       "platform_get_first    0\n",
       "device_get_first      0\n",
       "item_id               0\n",
       "location              0\n",
       "dtype: int64"
      ]
     },
     "execution_count": 12,
     "metadata": {},
     "output_type": "execute_result"
    }
   ],
   "source": [
    "xval[cat_fts].isna().sum()"
   ]
  },
  {
   "cell_type": "code",
   "execution_count": 13,
   "metadata": {},
   "outputs": [],
   "source": [
    "xtrain.set_index('session_id', inplace=True)\n",
    "xval.set_index('session_id', inplace=True)"
   ]
  },
  {
   "cell_type": "code",
   "execution_count": 14,
   "metadata": {},
   "outputs": [
    {
     "name": "stdout",
     "output_type": "stream",
     "text": [
      "0:\tlearn: 0.6540115\ttest: 0.6543605\tbest: 0.6543605 (0)\ttotal: 16.9s\tremaining: 4h 40m 48s\n",
      "100:\tlearn: 0.1381734\ttest: 0.1376769\tbest: 0.1376769 (100)\ttotal: 23m 20s\tremaining: 3h 27m 47s\n",
      "200:\tlearn: 0.1323298\ttest: 0.1325912\tbest: 0.1325912 (200)\ttotal: 46m 58s\tremaining: 3h 6m 45s\n",
      "300:\tlearn: 0.1308265\ttest: 0.1315589\tbest: 0.1315589 (300)\ttotal: 1h 12m 33s\tremaining: 2h 48m 30s\n",
      "400:\tlearn: 0.1298643\ttest: 0.1311353\tbest: 0.1311353 (400)\ttotal: 1h 37m 11s\tremaining: 2h 25m 10s\n",
      "500:\tlearn: 0.1291045\ttest: 0.1307755\tbest: 0.1307755 (500)\ttotal: 2h 2m 12s\tremaining: 2h 1m 43s\n",
      "600:\tlearn: 0.1285303\ttest: 0.1304423\tbest: 0.1304423 (600)\ttotal: 2h 27m 41s\tremaining: 1h 38m 3s\n",
      "700:\tlearn: 0.1279914\ttest: 0.1301637\tbest: 0.1301637 (700)\ttotal: 2h 52m 18s\tremaining: 1h 13m 29s\n",
      "800:\tlearn: 0.1275559\ttest: 0.1299577\tbest: 0.1299502 (797)\ttotal: 3h 16m 54s\tremaining: 48m 55s\n",
      "900:\tlearn: 0.1271879\ttest: 0.1297394\tbest: 0.1297374 (899)\ttotal: 3h 41m 59s\tremaining: 24m 23s\n",
      "999:\tlearn: 0.1268318\ttest: 0.1295949\tbest: 0.1295949 (999)\ttotal: 4h 6m 42s\tremaining: 0us\n",
      "\n",
      "bestTest = 0.129594922\n",
      "bestIteration = 999\n",
      "\n",
      "Done!\n",
      "logloss=0.1296 | map=0.3929 | auc=0.8617\n"
     ]
    }
   ],
   "source": [
    "params = {'iterations': 1000,\n",
    "          'learning_rate': 0.02,\n",
    "          'depth': 8,\n",
    "          'task_type': 'CPU'}\n",
    "#          'task_type': 'GPU'}\n",
    "\n",
    "categorical_ind = [k for k, v in enumerate(xtrain.columns) if v in cat_fts ]\n",
    "\n",
    "# train model\n",
    "clf = cat.CatBoostClassifier(**params)\n",
    "clf.fit(xtrain.values, y_trn,\n",
    "        cat_features=categorical_ind,\n",
    "        eval_set=(xval.values, y_val),\n",
    "        early_stopping_rounds=100,\n",
    "        verbose=100,\n",
    "        plot=False)\n",
    "print('Done!')\n",
    "# try to save model\n",
    "# model_path = './cat_model'\n",
    "# cat.save_model(clf, model_path)\n",
    "\n",
    "# saves for each fold\n",
    "clfs = []\n",
    "cv_scores = []\n",
    "val_inds = []\n",
    "\n",
    "# append model\n",
    "clfs.append(clf)\n",
    "# make prediction on validation set\n",
    "val_pred = clf.predict_proba(xval)[:, 1]\n",
    "logloss_i = log_loss(y_val, val_pred)\n",
    "cv_scores.append(logloss_i)\n",
    "# compute roc auc\n",
    "fpr, tpr, thresholds = roc_curve(y_val, val_pred, pos_label=1)\n",
    "auc_i = auc(fpr, tpr)\n",
    "# compute map\n",
    "map_i = average_precision_score(y_val, val_pred)\n",
    "print('logloss={0:.4f} | map={1:.4f} | auc={2:.4f}'.format(logloss_i, map_i, auc_i))"
   ]
  },
  {
   "cell_type": "code",
   "execution_count": 42,
   "metadata": {},
   "outputs": [],
   "source": [
    "# compute mean rr\n",
    "xval['pred'] = val_pred\n",
    "xval['target'] = y_val.values"
   ]
  },
  {
   "cell_type": "code",
   "execution_count": 17,
   "metadata": {},
   "outputs": [],
   "source": [
    "# xtrain[train=='084dbb067c71e']\n",
    "# xval.head()"
   ]
  },
  {
   "cell_type": "code",
   "execution_count": 25,
   "metadata": {},
   "outputs": [],
   "source": [
    "# xval.head()"
   ]
  },
  {
   "cell_type": "code",
   "execution_count": 45,
   "metadata": {},
   "outputs": [
    {
     "name": "stdout",
     "output_type": "stream",
     "text": [
      "CPU times: user 6 µs, sys: 1 µs, total: 7 µs\n",
      "Wall time: 21 µs\n"
     ]
    }
   ],
   "source": [
    "def reciprocal_rank(df):\n",
    "    pred_list = df['pred'].values\n",
    "    sorted_ind = np.argsort(pred_list)[::-1]\n",
    "    ranked_items = list(df['item_id'].iloc[sorted_ind].values)\n",
    "    try:\n",
    "        target = df.loc[df['target']==1, 'item_id'].values[0]\n",
    "        rank = ranked_items.index(target)\n",
    "    except:\n",
    "        return 0\n",
    "    return rank+1"
   ]
  },
  {
   "cell_type": "code",
   "execution_count": 46,
   "metadata": {},
   "outputs": [],
   "source": [
    "%%time\n",
    "val_rr = xval.groupby(level=0).apply(reciprocal_rank)"
   ]
  },
  {
   "cell_type": "code",
   "execution_count": 47,
   "metadata": {},
   "outputs": [
    {
     "data": {
      "text/plain": [
       "(15461026, 50)"
      ]
     },
     "execution_count": 47,
     "metadata": {},
     "output_type": "execute_result"
    }
   ],
   "source": [
    "xtrain.shape"
   ]
  },
  {
   "cell_type": "code",
   "execution_count": 48,
   "metadata": {},
   "outputs": [
    {
     "data": {
      "text/plain": [
       "4.474673478239915"
      ]
     },
     "execution_count": 48,
     "metadata": {},
     "output_type": "execute_result"
    }
   ],
   "source": [
    "val_rr[val_rr!=0].mean()"
   ]
  },
  {
   "cell_type": "code",
   "execution_count": 49,
   "metadata": {},
   "outputs": [
    {
     "data": {
      "text/plain": [
       "<matplotlib.axes._subplots.AxesSubplot at 0x2fd6d4e10>"
      ]
     },
     "execution_count": 49,
     "metadata": {},
     "output_type": "execute_result"
    },
    {
     "data": {
      "image/png": "[encoded data removed]",
      "text/plain": [
       "<Figure size 432x288 with 1 Axes>"
      ]
     },
     "metadata": {
      "needs_background": "light"
     },
     "output_type": "display_data"
    }
   ],
   "source": [
    "val_rr[val_rr!=0].hist(bins=50)"
   ]
  },
  {
   "cell_type": "code",
   "execution_count": 50,
   "metadata": {},
   "outputs": [
    {
     "data": {
      "text/plain": [
       "0.5484640425716526"
      ]
     },
     "execution_count": 50,
     "metadata": {},
     "output_type": "execute_result"
    }
   ],
   "source": [
    "(1/val_rr[val_rr!=0]).mean()"
   ]
  },
  {
   "cell_type": "code",
   "execution_count": 51,
   "metadata": {},
   "outputs": [
    {
     "data": {
      "text/plain": [
       "<matplotlib.axes._subplots.AxesSubplot at 0x2fc69f7b8>"
      ]
     },
     "execution_count": 51,
     "metadata": {},
     "output_type": "execute_result"
    },
    {
     "data": {
      "image/png": "[encoded data removed]",
      "text/plain": [
       "<Figure size 432x288 with 1 Axes>"
      ]
     },
     "metadata": {
      "needs_background": "light"
     },
     "output_type": "display_data"
    }
   ],
   "source": [
    "(1/val_rr[val_rr!=0]).hist(bins=50)"
   ]
  },
  {
   "cell_type": "code",
   "execution_count": null,
   "metadata": {},
   "outputs": [],
   "source": []
  },
  {
   "cell_type": "code",
   "execution_count": null,
   "metadata": {},
   "outputs": [],
   "source": []
  }
 ],
 "metadata": {
  "kernelspec": {
   "display_name": "Python 3",
   "language": "python",
   "name": "python3"
  },
  "language_info": {
   "codemirror_mode": {
    "name": "ipython",
    "version": 3
   },
   "file_extension": ".py",
   "mimetype": "text/x-python",
   "name": "python",
   "nbconvert_exporter": "python",
   "pygments_lexer": "ipython3",
   "version": "3.6.6"
  }
 },
 "nbformat": 4,
 "nbformat_minor": 2
}
