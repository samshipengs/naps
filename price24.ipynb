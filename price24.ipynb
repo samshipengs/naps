{
 "cells": [
  {
   "cell_type": "code",
   "execution_count": 22,
   "metadata": {},
   "outputs": [
    {
     "name": "stdout",
     "output_type": "stream",
     "text": [
      "The autoreload extension is already loaded. To reload it, use:\n",
      "  %reload_ext autoreload\n"
     ]
    }
   ],
   "source": [
    "import time\n",
    "import pandas as pd\n",
    "import numpy as np\n",
    "import datetime\n",
    "import os\n",
    "import gc\n",
    "from functools import partial\n",
    "import matplotlib.pyplot as plt\n",
    "from utils import load_data, get_logger, get_data_path\n",
    "from clean_session import preprocess_sessions\n",
    "%matplotlib inline\n",
    "%load_ext autoreload\n",
    "%autoreload 2"
   ]
  },
  {
   "cell_type": "code",
   "execution_count": 75,
   "metadata": {},
   "outputs": [],
   "source": [
    "train_input = pd.read_parquet('./cache/train_inputs_no_imp.snappy')"
   ]
  },
  {
   "cell_type": "code",
   "execution_count": 85,
   "metadata": {},
   "outputs": [
    {
     "data": {
      "text/plain": [
       "<matplotlib.axes._subplots.AxesSubplot at 0x7fd21c3fc668>"
      ]
     },
     "execution_count": 85,
     "metadata": {},
     "output_type": "execute_result"
    },
    {
     "data": {
      "image/png": "[encoded data removed]",
      "text/plain": [
       "<Figure size 432x288 with 1 Axes>"
      ]
     },
     "metadata": {
      "needs_background": "light"
     },
     "output_type": "display_data"
    }
   ],
   "source": [
    "train_input.price_24.hist(bins=100)"
   ]
  },
  {
   "cell_type": "code",
   "execution_count": 87,
   "metadata": {},
   "outputs": [
    {
     "data": {
      "text/plain": [
       "<matplotlib.axes._subplots.AxesSubplot at 0x7fd21a24b080>"
      ]
     },
     "execution_count": 87,
     "metadata": {},
     "output_type": "execute_result"
    },
    {
     "data": {
      "image/png": "[encoded data removed]",
      "text/plain": [
       "<Figure size 432x288 with 1 Axes>"
      ]
     },
     "metadata": {
      "needs_background": "light"
     },
     "output_type": "display_data"
    }
   ],
   "source": [
    "train_input.price_10.hist(bins=100)"
   ]
  },
  {
   "cell_type": "code",
   "execution_count": 83,
   "metadata": {},
   "outputs": [
    {
     "data": {
      "text/plain": [
       "target  price_24\n",
       "0       1.000000    16204\n",
       "        0.500000      991\n",
       "        0.333333      779\n",
       "        0.250000      561\n",
       "        0.400000      488\n",
       "1       1.000000     6294\n",
       "        0.500000      240\n",
       "        0.333333      141\n",
       "        0.400000      127\n",
       "        0.666667      118\n",
       "2       1.000000     4490\n",
       "        0.500000      143\n",
       "        0.333333      110\n",
       "        0.400000       86\n",
       "        0.250000       74\n",
       "3       1.000000     3639\n",
       "        0.500000      144\n",
       "        0.333333       97\n",
       "        0.250000       63\n",
       "        0.400000       62\n",
       "4       1.000000     3034\n",
       "        0.500000      132\n",
       "        0.333333       90\n",
       "        0.250000       70\n",
       "        0.666667       63\n",
       "5       1.000000     2578\n",
       "        0.500000       85\n",
       "        0.333333       69\n",
       "        0.250000       51\n",
       "        0.666667       46\n",
       "                    ...  \n",
       "19      1.000000      810\n",
       "        0.500000       32\n",
       "        0.333333       20\n",
       "        0.400000       20\n",
       "        0.750000       20\n",
       "20      1.000000      834\n",
       "        0.500000       30\n",
       "        0.250000       18\n",
       "        0.666667       16\n",
       "        0.571429       15\n",
       "21      1.000000      711\n",
       "        0.333333       31\n",
       "        0.500000       28\n",
       "        0.666667       22\n",
       "        0.250000       17\n",
       "22      1.000000      714\n",
       "        0.333333       23\n",
       "        0.500000       22\n",
       "        0.666667       14\n",
       "        0.750000       13\n",
       "23      1.000000      694\n",
       "        0.500000       33\n",
       "        0.333333       16\n",
       "        0.666667       16\n",
       "        0.250000        9\n",
       "24      1.000000      720\n",
       "        0.500000       30\n",
       "        0.200000       26\n",
       "        0.333333       26\n",
       "        0.250000       21\n",
       "Name: price_24, Length: 125, dtype: int64"
      ]
     },
     "execution_count": 83,
     "metadata": {},
     "output_type": "execute_result"
    }
   ],
   "source": [
    "train_input.groupby('target')['price_24'].value_counts().groupby(level=0).head()"
   ]
  },
  {
   "cell_type": "code",
   "execution_count": 77,
   "metadata": {},
   "outputs": [
    {
     "data": {
      "text/html": [
       "<div>\n",
       "<style scoped>\n",
       "    .dataframe tbody tr th:only-of-type {\n",
       "        vertical-align: middle;\n",
       "    }\n",
       "\n",
       "    .dataframe tbody tr th {\n",
       "        vertical-align: top;\n",
       "    }\n",
       "\n",
       "    .dataframe thead th {\n",
       "        text-align: right;\n",
       "    }\n",
       "</style>\n",
       "<table border=\"1\" class=\"dataframe\">\n",
       "  <thead>\n",
       "    <tr style=\"text-align: right;\">\n",
       "      <th></th>\n",
       "      <th>price_0</th>\n",
       "      <th>price_1</th>\n",
       "      <th>price_2</th>\n",
       "      <th>price_3</th>\n",
       "      <th>price_4</th>\n",
       "      <th>price_5</th>\n",
       "      <th>price_6</th>\n",
       "      <th>price_7</th>\n",
       "      <th>price_8</th>\n",
       "      <th>price_9</th>\n",
       "      <th>...</th>\n",
       "      <th>price_15</th>\n",
       "      <th>price_16</th>\n",
       "      <th>price_17</th>\n",
       "      <th>price_18</th>\n",
       "      <th>price_19</th>\n",
       "      <th>price_20</th>\n",
       "      <th>price_21</th>\n",
       "      <th>price_22</th>\n",
       "      <th>price_23</th>\n",
       "      <th>price_24</th>\n",
       "    </tr>\n",
       "  </thead>\n",
       "  <tbody>\n",
       "    <tr>\n",
       "      <th>count</th>\n",
       "      <td>628594.000000</td>\n",
       "      <td>628594.000000</td>\n",
       "      <td>628594.000000</td>\n",
       "      <td>628594.000000</td>\n",
       "      <td>628594.000000</td>\n",
       "      <td>628594.000000</td>\n",
       "      <td>628594.000000</td>\n",
       "      <td>628594.000000</td>\n",
       "      <td>628594.000000</td>\n",
       "      <td>628594.000000</td>\n",
       "      <td>...</td>\n",
       "      <td>628594.000000</td>\n",
       "      <td>628594.000000</td>\n",
       "      <td>628594.000000</td>\n",
       "      <td>628594.000000</td>\n",
       "      <td>628594.000000</td>\n",
       "      <td>628594.000000</td>\n",
       "      <td>628594.000000</td>\n",
       "      <td>628594.000000</td>\n",
       "      <td>628594.000000</td>\n",
       "      <td>628594.000000</td>\n",
       "    </tr>\n",
       "    <tr>\n",
       "      <th>mean</th>\n",
       "      <td>0.467569</td>\n",
       "      <td>0.464769</td>\n",
       "      <td>0.464206</td>\n",
       "      <td>0.462470</td>\n",
       "      <td>0.461797</td>\n",
       "      <td>0.460571</td>\n",
       "      <td>0.459794</td>\n",
       "      <td>0.459060</td>\n",
       "      <td>0.458492</td>\n",
       "      <td>0.457109</td>\n",
       "      <td>...</td>\n",
       "      <td>0.449848</td>\n",
       "      <td>0.448906</td>\n",
       "      <td>0.448797</td>\n",
       "      <td>0.449403</td>\n",
       "      <td>0.448228</td>\n",
       "      <td>0.448487</td>\n",
       "      <td>0.449358</td>\n",
       "      <td>0.449195</td>\n",
       "      <td>0.449493</td>\n",
       "      <td>0.450674</td>\n",
       "    </tr>\n",
       "    <tr>\n",
       "      <th>std</th>\n",
       "      <td>0.268367</td>\n",
       "      <td>0.257093</td>\n",
       "      <td>0.256529</td>\n",
       "      <td>0.256316</td>\n",
       "      <td>0.255955</td>\n",
       "      <td>0.256320</td>\n",
       "      <td>0.257859</td>\n",
       "      <td>0.258028</td>\n",
       "      <td>0.258907</td>\n",
       "      <td>0.260516</td>\n",
       "      <td>...</td>\n",
       "      <td>0.265674</td>\n",
       "      <td>0.265922</td>\n",
       "      <td>0.267327</td>\n",
       "      <td>0.269817</td>\n",
       "      <td>0.269704</td>\n",
       "      <td>0.271420</td>\n",
       "      <td>0.274295</td>\n",
       "      <td>0.274794</td>\n",
       "      <td>0.276542</td>\n",
       "      <td>0.279627</td>\n",
       "    </tr>\n",
       "    <tr>\n",
       "      <th>min</th>\n",
       "      <td>0.001002</td>\n",
       "      <td>0.001062</td>\n",
       "      <td>0.001064</td>\n",
       "      <td>0.001112</td>\n",
       "      <td>0.000778</td>\n",
       "      <td>0.000801</td>\n",
       "      <td>0.000650</td>\n",
       "      <td>0.000600</td>\n",
       "      <td>0.000778</td>\n",
       "      <td>0.000503</td>\n",
       "      <td>...</td>\n",
       "      <td>0.001000</td>\n",
       "      <td>0.001200</td>\n",
       "      <td>0.000900</td>\n",
       "      <td>0.000758</td>\n",
       "      <td>0.001164</td>\n",
       "      <td>0.001224</td>\n",
       "      <td>0.001200</td>\n",
       "      <td>0.001000</td>\n",
       "      <td>0.001000</td>\n",
       "      <td>0.001217</td>\n",
       "    </tr>\n",
       "    <tr>\n",
       "      <th>25%</th>\n",
       "      <td>0.253435</td>\n",
       "      <td>0.261111</td>\n",
       "      <td>0.260754</td>\n",
       "      <td>0.258537</td>\n",
       "      <td>0.258427</td>\n",
       "      <td>0.256100</td>\n",
       "      <td>0.253731</td>\n",
       "      <td>0.252396</td>\n",
       "      <td>0.251462</td>\n",
       "      <td>0.248590</td>\n",
       "      <td>...</td>\n",
       "      <td>0.237875</td>\n",
       "      <td>0.236968</td>\n",
       "      <td>0.235899</td>\n",
       "      <td>0.234323</td>\n",
       "      <td>0.233674</td>\n",
       "      <td>0.232966</td>\n",
       "      <td>0.231183</td>\n",
       "      <td>0.231343</td>\n",
       "      <td>0.230769</td>\n",
       "      <td>0.229630</td>\n",
       "    </tr>\n",
       "    <tr>\n",
       "      <th>50%</th>\n",
       "      <td>0.428571</td>\n",
       "      <td>0.431219</td>\n",
       "      <td>0.430380</td>\n",
       "      <td>0.427522</td>\n",
       "      <td>0.426557</td>\n",
       "      <td>0.423621</td>\n",
       "      <td>0.421348</td>\n",
       "      <td>0.420000</td>\n",
       "      <td>0.418605</td>\n",
       "      <td>0.415505</td>\n",
       "      <td>...</td>\n",
       "      <td>0.400000</td>\n",
       "      <td>0.398693</td>\n",
       "      <td>0.397590</td>\n",
       "      <td>0.396396</td>\n",
       "      <td>0.395349</td>\n",
       "      <td>0.393617</td>\n",
       "      <td>0.392405</td>\n",
       "      <td>0.391960</td>\n",
       "      <td>0.391304</td>\n",
       "      <td>0.390288</td>\n",
       "    </tr>\n",
       "    <tr>\n",
       "      <th>75%</th>\n",
       "      <td>0.647826</td>\n",
       "      <td>0.638252</td>\n",
       "      <td>0.640000</td>\n",
       "      <td>0.640000</td>\n",
       "      <td>0.640954</td>\n",
       "      <td>0.641176</td>\n",
       "      <td>0.641975</td>\n",
       "      <td>0.641892</td>\n",
       "      <td>0.642202</td>\n",
       "      <td>0.641221</td>\n",
       "      <td>...</td>\n",
       "      <td>0.629213</td>\n",
       "      <td>0.626866</td>\n",
       "      <td>0.626087</td>\n",
       "      <td>0.627156</td>\n",
       "      <td>0.623711</td>\n",
       "      <td>0.623762</td>\n",
       "      <td>0.625899</td>\n",
       "      <td>0.623656</td>\n",
       "      <td>0.622951</td>\n",
       "      <td>0.625000</td>\n",
       "    </tr>\n",
       "    <tr>\n",
       "      <th>max</th>\n",
       "      <td>1.000000</td>\n",
       "      <td>1.000000</td>\n",
       "      <td>1.000000</td>\n",
       "      <td>1.000000</td>\n",
       "      <td>1.000000</td>\n",
       "      <td>1.000000</td>\n",
       "      <td>1.000000</td>\n",
       "      <td>1.000000</td>\n",
       "      <td>1.000000</td>\n",
       "      <td>1.000000</td>\n",
       "      <td>...</td>\n",
       "      <td>1.000000</td>\n",
       "      <td>1.000000</td>\n",
       "      <td>1.000000</td>\n",
       "      <td>1.000000</td>\n",
       "      <td>1.000000</td>\n",
       "      <td>1.000000</td>\n",
       "      <td>1.000000</td>\n",
       "      <td>1.000000</td>\n",
       "      <td>1.000000</td>\n",
       "      <td>1.000000</td>\n",
       "    </tr>\n",
       "  </tbody>\n",
       "</table>\n",
       "<p>8 rows × 25 columns</p>\n",
       "</div>"
      ],
      "text/plain": [
       "             price_0        price_1        price_2        price_3  \\\n",
       "count  628594.000000  628594.000000  628594.000000  628594.000000   \n",
       "mean        0.467569       0.464769       0.464206       0.462470   \n",
       "std         0.268367       0.257093       0.256529       0.256316   \n",
       "min         0.001002       0.001062       0.001064       0.001112   \n",
       "25%         0.253435       0.261111       0.260754       0.258537   \n",
       "50%         0.428571       0.431219       0.430380       0.427522   \n",
       "75%         0.647826       0.638252       0.640000       0.640000   \n",
       "max         1.000000       1.000000       1.000000       1.000000   \n",
       "\n",
       "             price_4        price_5        price_6        price_7  \\\n",
       "count  628594.000000  628594.000000  628594.000000  628594.000000   \n",
       "mean        0.461797       0.460571       0.459794       0.459060   \n",
       "std         0.255955       0.256320       0.257859       0.258028   \n",
       "min         0.000778       0.000801       0.000650       0.000600   \n",
       "25%         0.258427       0.256100       0.253731       0.252396   \n",
       "50%         0.426557       0.423621       0.421348       0.420000   \n",
       "75%         0.640954       0.641176       0.641975       0.641892   \n",
       "max         1.000000       1.000000       1.000000       1.000000   \n",
       "\n",
       "             price_8        price_9  ...       price_15       price_16  \\\n",
       "count  628594.000000  628594.000000  ...  628594.000000  628594.000000   \n",
       "mean        0.458492       0.457109  ...       0.449848       0.448906   \n",
       "std         0.258907       0.260516  ...       0.265674       0.265922   \n",
       "min         0.000778       0.000503  ...       0.001000       0.001200   \n",
       "25%         0.251462       0.248590  ...       0.237875       0.236968   \n",
       "50%         0.418605       0.415505  ...       0.400000       0.398693   \n",
       "75%         0.642202       0.641221  ...       0.629213       0.626866   \n",
       "max         1.000000       1.000000  ...       1.000000       1.000000   \n",
       "\n",
       "            price_17       price_18       price_19       price_20  \\\n",
       "count  628594.000000  628594.000000  628594.000000  628594.000000   \n",
       "mean        0.448797       0.449403       0.448228       0.448487   \n",
       "std         0.267327       0.269817       0.269704       0.271420   \n",
       "min         0.000900       0.000758       0.001164       0.001224   \n",
       "25%         0.235899       0.234323       0.233674       0.232966   \n",
       "50%         0.397590       0.396396       0.395349       0.393617   \n",
       "75%         0.626087       0.627156       0.623711       0.623762   \n",
       "max         1.000000       1.000000       1.000000       1.000000   \n",
       "\n",
       "            price_21       price_22       price_23       price_24  \n",
       "count  628594.000000  628594.000000  628594.000000  628594.000000  \n",
       "mean        0.449358       0.449195       0.449493       0.450674  \n",
       "std         0.274295       0.274794       0.276542       0.279627  \n",
       "min         0.001200       0.001000       0.001000       0.001217  \n",
       "25%         0.231183       0.231343       0.230769       0.229630  \n",
       "50%         0.392405       0.391960       0.391304       0.390288  \n",
       "75%         0.625899       0.623656       0.622951       0.625000  \n",
       "max         1.000000       1.000000       1.000000       1.000000  \n",
       "\n",
       "[8 rows x 25 columns]"
      ]
     },
     "execution_count": 77,
     "metadata": {},
     "output_type": "execute_result"
    }
   ],
   "source": [
    "train_input[[f'price_{i}' for i in range(25)]].describe()"
   ]
  },
  {
   "cell_type": "code",
   "execution_count": 29,
   "metadata": {},
   "outputs": [],
   "source": [
    "from create_model_inputs import compute_session_fts, prepare_data, flogger"
   ]
  },
  {
   "cell_type": "code",
   "execution_count": 14,
   "metadata": {},
   "outputs": [],
   "source": [
    "logger = get_logger('create_model_inputs')\n",
    "Filepath = get_data_path()\n"
   ]
  },
  {
   "cell_type": "code",
   "execution_count": 41,
   "metadata": {},
   "outputs": [
    {
     "name": "stderr",
     "output_type": "stream",
     "text": [
      "[05-17 21:29:26 - create_model_inputs-3 - <module> - INFO] Prepare train data\n",
      "[05-17 21:29:27 - utils-106 - load_data - INFO] Loading train using 1,000,000 rows (999,995 trimmed) which is 6.28% out of total train data\n",
      "[05-17 21:29:27 - create_model_inputs-17 - flogger - INFO] raw train shape: (999,995, 12)\n",
      "[05-17 21:29:27 - clean_session-56 - preprocess_sessions - INFO] Load from existing file: ./cache/preprocessed_train.snappy\n",
      "[05-17 21:29:28 - create_model_inputs-74 - prepare_data - INFO] Converting action_types to int (natural number)\n",
      "[05-17 21:29:28 - create_model_inputs-25 - create_action_type_mapping - INFO] Load action_types mapping from existing: ./cache/action_types_mapping.npy\n",
      "[05-17 21:29:28 - create_model_inputs-77 - prepare_data - INFO] Sort df by user_id, session_id, timestamp, step\n",
      "[05-17 21:29:28 - create_model_inputs-17 - flogger - INFO] Prepared train data shape: (326,695, 9)\n",
      "[05-17 21:29:28 - create_model_inputs-6 - <module> - INFO] Compute session features\n"
     ]
    }
   ],
   "source": [
    "mode='train'\n",
    "nrows=1000000\n",
    "logger.info(f'Prepare {mode} data')\n",
    "t_init = time.time()\n",
    "df = prepare_data(mode, convert_action_type=True, nrows=nrows, recompute=False)\n",
    "logger.info('Compute session features')"
   ]
  },
  {
   "cell_type": "code",
   "execution_count": 42,
   "metadata": {},
   "outputs": [
    {
     "data": {
      "image/png": "[encoded data removed]",
      "text/plain": [
       "<Figure size 432x288 with 1 Axes>"
      ]
     },
     "metadata": {
      "needs_background": "light"
     },
     "output_type": "display_data"
    }
   ],
   "source": [
    "str_prices = np.concatenate(df.prices.dropna().str.split('|').values)\n",
    "str_prices = [int(sp) for sp in str_prices]\n",
    "# pd.value_counts(str_prices)\n",
    "_ = plt.hist(str_prices)"
   ]
  },
  {
   "cell_type": "code",
   "execution_count": 25,
   "metadata": {},
   "outputs": [
    {
     "name": "stderr",
     "output_type": "stream",
     "text": [
      "[05-17 21:24:03 - create_model_inputs-125 - compute_session_fts - INFO] Session features generated: ['timestamp_session_duration', 'timestamp_dwell_time_prior_clickout', 'session_id_size']\n"
     ]
    }
   ],
   "source": [
    "%%time\n",
    "df = compute_session_fts(df, mode)"
   ]
  },
  {
   "cell_type": "code",
   "execution_count": 43,
   "metadata": {},
   "outputs": [
    {
     "data": {
      "image/png": "[encoded data removed]",
      "text/plain": [
       "<Figure size 432x288 with 1 Axes>"
      ]
     },
     "metadata": {
      "needs_background": "light"
     },
     "output_type": "display_data"
    }
   ],
   "source": [
    "str_prices = np.concatenate(df.prices.dropna().str.split('|').values)\n",
    "str_prices = [int(sp) for sp in str_prices]\n",
    "# pd.value_counts(str_prices)\n",
    "_ = plt.hist(str_prices)"
   ]
  },
  {
   "cell_type": "code",
   "execution_count": 44,
   "metadata": {},
   "outputs": [
    {
     "name": "stderr",
     "output_type": "stream",
     "text": [
      "[05-17 21:29:47 - create_model_inputs-1 - <module> - INFO] Only select last click-out from each session\n",
      "[05-17 21:29:47 - create_model_inputs-17 - flogger - INFO] df shape after only selecting last click-out row each session shape: (51,962, 9)\n"
     ]
    }
   ],
   "source": [
    "logger.info('Only select last click-out from each session')\n",
    "df = df.groupby('session_id').last().reset_index()\n",
    "flogger(df, 'df shape after only selecting last click-out row each session')\n",
    "\n",
    "# # log-transform on session_size feature\n",
    "# logger.info('Log-transform on session_size feature')\n",
    "# df['session_id_size'] = np.log(df['session_id_size'])\n",
    "\n",
    "# # log1p-transform on timestamp_dwell_time_prior_clickout but will cliping upper to 1hr\n",
    "# logger.info('Also log-transform on timestamp_dwell_time_prior_clickout but will cliping upper to 1hr')\n",
    "# df['timestamp_dwell_time_prior_clickout'] = np.log1p(df['timestamp_dwell_time_prior_clickout'].clip(upper=60 ** 2))"
   ]
  },
  {
   "cell_type": "code",
   "execution_count": 45,
   "metadata": {},
   "outputs": [
    {
     "data": {
      "image/png": "[encoded data removed]",
      "text/plain": [
       "<Figure size 432x288 with 1 Axes>"
      ]
     },
     "metadata": {
      "needs_background": "light"
     },
     "output_type": "display_data"
    }
   ],
   "source": [
    "str_prices = np.concatenate(df.prices.dropna().str.split('|').values)\n",
    "str_prices = [int(sp) for sp in str_prices]\n",
    "# pd.value_counts(str_prices)\n",
    "_ = plt.hist(str_prices)"
   ]
  },
  {
   "cell_type": "code",
   "execution_count": 46,
   "metadata": {},
   "outputs": [],
   "source": [
    "df['prices'] = df['prices'].str.split('|')\n",
    "df['prices_int'] = df['prices'].apply(lambda x: [int(p) for p in x])"
   ]
  },
  {
   "cell_type": "code",
   "execution_count": 47,
   "metadata": {},
   "outputs": [
    {
     "data": {
      "image/png": "[encoded data removed]",
      "text/plain": [
       "<Figure size 432x288 with 1 Axes>"
      ]
     },
     "metadata": {
      "needs_background": "light"
     },
     "output_type": "display_data"
    }
   ],
   "source": [
    "str_prices = np.concatenate(df.prices_int.dropna().values)\n",
    "# pd.value_counts(str_prices)\n",
    "_ = plt.hist(str_prices)"
   ]
  },
  {
   "cell_type": "code",
   "execution_count": 48,
   "metadata": {},
   "outputs": [],
   "source": [
    "df['time_steps'] = df['prices_int'].str.len()\n",
    "padding_mask = df['time_steps'] < 25\n",
    "df.drop('time_steps', axis=1, inplace=True)"
   ]
  },
  {
   "cell_type": "code",
   "execution_count": 51,
   "metadata": {},
   "outputs": [
    {
     "data": {
      "text/plain": [
       "0    [74, 88, 87, 72, 56, 87, 244, 168, 123, 50, 12...\n",
       "1    [79, 241, 96, 51, 68, 99, 86, 69, 71, 79, 91, ...\n",
       "2    [466, 193, 295, 331, 171, 347, 383, 557, 106, ...\n",
       "3    [144, 372, 139, 141, 109, 84, 74, 168, 78, 89,...\n",
       "4    [97, 101, 78, 75, 99, 60, 120, 78, 188, 136, 9...\n",
       "Name: prices, dtype: object"
      ]
     },
     "execution_count": 51,
     "metadata": {},
     "output_type": "execute_result"
    }
   ],
   "source": [
    "df.prices.head()"
   ]
  },
  {
   "cell_type": "code",
   "execution_count": 52,
   "metadata": {},
   "outputs": [
    {
     "data": {
      "text/plain": [
       "['74',\n",
       " '88',\n",
       " '87',\n",
       " '72',\n",
       " '56',\n",
       " '87',\n",
       " '244',\n",
       " '168',\n",
       " '123',\n",
       " '50',\n",
       " '129',\n",
       " '72',\n",
       " '151',\n",
       " '83',\n",
       " '230',\n",
       " '88',\n",
       " '59',\n",
       " '450',\n",
       " '138',\n",
       " '88',\n",
       " '100',\n",
       " '111',\n",
       " '185',\n",
       " '72',\n",
       " '37']"
      ]
     },
     "execution_count": 52,
     "metadata": {},
     "output_type": "execute_result"
    }
   ],
   "source": [
    "df.prices.iloc[0]"
   ]
  },
  {
   "cell_type": "code",
   "execution_count": 58,
   "metadata": {},
   "outputs": [
    {
     "data": {
      "text/plain": [
       "['144',\n",
       " '372',\n",
       " '139',\n",
       " '141',\n",
       " '109',\n",
       " '84',\n",
       " '74',\n",
       " '168',\n",
       " '78',\n",
       " '89',\n",
       " '100',\n",
       " '68',\n",
       " '139',\n",
       " '189']"
      ]
     },
     "execution_count": 58,
     "metadata": {},
     "output_type": "execute_result"
    }
   ],
   "source": [
    "df[df.prices.str.len()<25].prices.iloc[0]"
   ]
  },
  {
   "cell_type": "code",
   "execution_count": 73,
   "metadata": {},
   "outputs": [
    {
     "data": {
      "text/plain": [
       "[144, 372, 139, 141, 109, 84, 74, 168, 78, 89, 100, 68, 139, 189]"
      ]
     },
     "execution_count": 73,
     "metadata": {},
     "output_type": "execute_result"
    }
   ],
   "source": [
    "x = [int(i) for i in df[df.prices.str.len()<25].prices.iloc[0]]\n",
    "x"
   ]
  },
  {
   "cell_type": "code",
   "execution_count": 74,
   "metadata": {},
   "outputs": [
    {
     "data": {
      "text/plain": [
       "array([144, 372, 139, 141, 109,  84,  74, 168,  78,  89, 100,  68, 139,\n",
       "       189,   0,   0,   0,   0,   0,   0,   0,   0,   0,   0,   0])"
      ]
     },
     "execution_count": 74,
     "metadata": {},
     "output_type": "execute_result"
    }
   ],
   "source": [
    "np.pad(x, (0, 25-len(x)), mode='constant', constant_values=0)"
   ]
  },
  {
   "cell_type": "code",
   "execution_count": 70,
   "metadata": {},
   "outputs": [
    {
     "data": {
      "text/plain": [
       "float"
      ]
     },
     "execution_count": 70,
     "metadata": {},
     "output_type": "execute_result"
    }
   ],
   "source": [
    "type(np.nan)"
   ]
  },
  {
   "cell_type": "code",
   "execution_count": 49,
   "metadata": {},
   "outputs": [],
   "source": [
    "df.loc[padding_mask, 'prices_int'] = df.loc[padding_mask, 'prices_int'].apply(lambda x: np.pad(x, (0, 25-len(x)),\n",
    "                                                                                       mode='constant',\n",
    "                                                                                       constant_values=np.nan))"
   ]
  },
  {
   "cell_type": "code",
   "execution_count": 50,
   "metadata": {},
   "outputs": [
    {
     "data": {
      "image/png": "[encoded data removed]",
      "text/plain": [
       "<Figure size 432x288 with 1 Axes>"
      ]
     },
     "metadata": {
      "needs_background": "light"
     },
     "output_type": "display_data"
    }
   ],
   "source": [
    "str_prices = np.concatenate(df.prices_int.dropna().values)\n",
    "# pd.value_counts(str_prices)\n",
    "_ = plt.hist(str_prices)"
   ]
  },
  {
   "cell_type": "code",
   "execution_count": null,
   "metadata": {},
   "outputs": [],
   "source": [
    "def normalize(ps):\n",
    "    p_arr = np.array(ps)\n",
    "    return p_arr / (p_arr.max())\n",
    "df['prices_percentage_int'] = df['prices'].apply(normalize)"
   ]
  }
 ],
 "metadata": {
  "kernelspec": {
   "display_name": "Python 3",
   "language": "python",
   "name": "python3"
  },
  "language_info": {
   "codemirror_mode": {
    "name": "ipython",
    "version": 3
   },
   "file_extension": ".py",
   "mimetype": "text/x-python",
   "name": "python",
   "nbconvert_exporter": "python",
   "pygments_lexer": "ipython3",
   "version": "3.6.8"
  }
 },
 "nbformat": 4,
 "nbformat_minor": 2
}
