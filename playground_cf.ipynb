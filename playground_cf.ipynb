{
 "cells": [
  {
   "cell_type": "code",
   "execution_count": 1,
   "metadata": {},
   "outputs": [],
   "source": [
    "from utils import load_data, check_gpu, check_dir\n",
    "from clean_session import preprocess_sessions\n",
    "import pandas as pd\n",
    "import numpy as np\n",
    "from tqdm import tqdm\n",
    "import gc\n",
    "import catboost as cat\n",
    "import matplotlib.pyplot as plt\n",
    "from clean_session import preprocess_sessions\n",
    "from manual_encoding import action_encoding, click_view_encoding, meta_encoding\n",
    "from hotel2vec import hotel2vec\n",
    "\n",
    "%matplotlib inline\n",
    "%load_ext autoreload\n",
    "%autoreload 2"
   ]
  },
  {
   "cell_type": "code",
   "execution_count": 2,
   "metadata": {},
   "outputs": [
    {
     "name": "stdout",
     "output_type": "stream",
     "text": [
      "CPU times: user 23.3 s, sys: 1.69 s, total: 25 s\n",
      "Wall time: 25 s\n"
     ]
    }
   ],
   "source": [
    "%%time\n",
    "train = load_data('train')\n",
    "train = train[(train.action_type == 'clickout item') & (train.impressions.notna())]"
   ]
  },
  {
   "cell_type": "code",
   "execution_count": 29,
   "metadata": {},
   "outputs": [],
   "source": [
    "session_size = train.groupby('session_id').size().reset_index(name='s')"
   ]
  },
  {
   "cell_type": "code",
   "execution_count": 102,
   "metadata": {},
   "outputs": [
    {
     "name": "stdout",
     "output_type": "stream",
     "text": [
      "CPU times: user 4.08 s, sys: 205 ms, total: 4.29 s\n",
      "Wall time: 4.28 s\n"
     ]
    }
   ],
   "source": [
    "%%time\n",
    "train_last = train.groupby('session_id').last().reset_index()"
   ]
  },
  {
   "cell_type": "code",
   "execution_count": 103,
   "metadata": {},
   "outputs": [],
   "source": [
    "train_last = pd.merge(train_last, session_size, on='session_id')"
   ]
  },
  {
   "cell_type": "markdown",
   "metadata": {},
   "source": [
    "### current_filters"
   ]
  },
  {
   "cell_type": "code",
   "execution_count": 104,
   "metadata": {},
   "outputs": [
    {
     "data": {
      "text/plain": [
       "(826842, 13)"
      ]
     },
     "execution_count": 104,
     "metadata": {},
     "output_type": "execute_result"
    }
   ],
   "source": [
    "train_last.shape"
   ]
  },
  {
   "cell_type": "code",
   "execution_count": 105,
   "metadata": {},
   "outputs": [],
   "source": [
    "filters_counts = train_last.current_filters.value_counts()"
   ]
  },
  {
   "cell_type": "code",
   "execution_count": 106,
   "metadata": {},
   "outputs": [
    {
     "data": {
      "text/plain": [
       "Sort by Price              35056\n",
       "Focus on Distance          16335\n",
       "Best Value                 15321\n",
       "Sort By Distance            4407\n",
       "Spa (Wellness Facility)     3502\n",
       "Name: current_filters, dtype: int64"
      ]
     },
     "execution_count": 106,
     "metadata": {},
     "output_type": "execute_result"
    }
   ],
   "source": [
    "filters_counts.head()"
   ]
  },
  {
   "cell_type": "code",
   "execution_count": 107,
   "metadata": {},
   "outputs": [
    {
     "data": {
      "text/plain": [
       "18921"
      ]
     },
     "execution_count": 107,
     "metadata": {},
     "output_type": "execute_result"
    }
   ],
   "source": [
    "train_last.current_filters.nunique()"
   ]
  },
  {
   "cell_type": "code",
   "execution_count": 108,
   "metadata": {},
   "outputs": [],
   "source": [
    "train_last['cfs'] = train_last.current_filters.str.split('|')"
   ]
  },
  {
   "cell_type": "code",
   "execution_count": 109,
   "metadata": {},
   "outputs": [],
   "source": [
    "all_cfs = train_last[train_last.cfs.notna()].cfs.values\n",
    "all_cfs = [j for i in all_cfs for j in i]"
   ]
  },
  {
   "cell_type": "code",
   "execution_count": 110,
   "metadata": {},
   "outputs": [
    {
     "data": {
      "text/plain": [
       "Sort by Price        47122\n",
       "Focus on Distance    31408\n",
       "Hotel                26642\n",
       "Best Value           20190\n",
       "5 Star               19728\n",
       "dtype: int64"
      ]
     },
     "execution_count": 110,
     "metadata": {},
     "output_type": "execute_result"
    }
   ],
   "source": [
    "all_cfs_counts = pd.value_counts(all_cfs)\n",
    "all_cfs_counts.head()"
   ]
  },
  {
   "cell_type": "code",
   "execution_count": 111,
   "metadata": {},
   "outputs": [
    {
     "data": {
      "text/plain": [
       "<matplotlib.axes._subplots.AxesSubplot at 0x1a4b7e9b00>"
      ]
     },
     "execution_count": 111,
     "metadata": {},
     "output_type": "execute_result"
    },
    {
     "data": {
      "image/png": "[encoded data removed]",
      "text/plain": [
       "<Figure size 432x288 with 1 Axes>"
      ]
     },
     "metadata": {
      "needs_background": "light"
     },
     "output_type": "display_data"
    }
   ],
   "source": [
    "all_cfs_counts.hist(bins=20)"
   ]
  },
  {
   "cell_type": "code",
   "execution_count": 112,
   "metadata": {},
   "outputs": [
    {
     "data": {
      "text/plain": [
       "(178,)"
      ]
     },
     "execution_count": 112,
     "metadata": {},
     "output_type": "execute_result"
    }
   ],
   "source": [
    "all_cfs_counts.shape"
   ]
  },
  {
   "cell_type": "code",
   "execution_count": 113,
   "metadata": {},
   "outputs": [
    {
     "data": {
      "text/plain": [
       "655653"
      ]
     },
     "execution_count": 113,
     "metadata": {},
     "output_type": "execute_result"
    }
   ],
   "source": [
    "train_last.current_filters.isna().sum()"
   ]
  },
  {
   "cell_type": "code",
   "execution_count": 114,
   "metadata": {},
   "outputs": [
    {
     "data": {
      "text/plain": [
       "(826842, 14)"
      ]
     },
     "execution_count": 114,
     "metadata": {},
     "output_type": "execute_result"
    }
   ],
   "source": [
    "train_last.shape"
   ]
  },
  {
   "cell_type": "code",
   "execution_count": 115,
   "metadata": {},
   "outputs": [
    {
     "data": {
      "text/plain": [
       "0.7929604446798784"
      ]
     },
     "execution_count": 115,
     "metadata": {},
     "output_type": "execute_result"
    }
   ],
   "source": [
    "655653/train_last.shape[0]"
   ]
  },
  {
   "cell_type": "code",
   "execution_count": 116,
   "metadata": {},
   "outputs": [],
   "source": [
    "train_last['nimps'] = train_last.impressions.str.split('|').str.len()"
   ]
  },
  {
   "cell_type": "markdown",
   "metadata": {},
   "source": [
    "What is the length of the impressions for these with nan current_filters?"
   ]
  },
  {
   "cell_type": "code",
   "execution_count": 117,
   "metadata": {},
   "outputs": [
    {
     "data": {
      "text/plain": [
       "25    0.759176\n",
       "24    0.045899\n",
       "11    0.014195\n",
       "12    0.013426\n",
       "13    0.012481\n",
       "Name: nimps, dtype: float64"
      ]
     },
     "execution_count": 117,
     "metadata": {},
     "output_type": "execute_result"
    }
   ],
   "source": [
    "train_last.loc[train_last.current_filters.isna(), 'nimps'].value_counts(normalize=True).head()"
   ]
  },
  {
   "cell_type": "code",
   "execution_count": 118,
   "metadata": {},
   "outputs": [
    {
     "data": {
      "text/plain": [
       "25    0.760575\n",
       "24    0.041390\n",
       "11    0.014730\n",
       "12    0.013981\n",
       "13    0.013235\n",
       "Name: nimps, dtype: float64"
      ]
     },
     "execution_count": 118,
     "metadata": {},
     "output_type": "execute_result"
    }
   ],
   "source": [
    "train_last.nimps.value_counts(normalize=True).head()"
   ]
  },
  {
   "cell_type": "code",
   "execution_count": 119,
   "metadata": {},
   "outputs": [
    {
     "data": {
      "text/plain": [
       "25    0.765931\n",
       "24    0.024120\n",
       "11    0.016777\n",
       "13    0.016123\n",
       "12    0.016105\n",
       "Name: nimps, dtype: float64"
      ]
     },
     "execution_count": 119,
     "metadata": {},
     "output_type": "execute_result"
    }
   ],
   "source": [
    "train_last.loc[train_last.current_filters.notna(), 'nimps'].value_counts(normalize=True).head()"
   ]
  },
  {
   "cell_type": "markdown",
   "metadata": {},
   "source": [
    "What is the size of the session for these with nan current_filters?"
   ]
  },
  {
   "cell_type": "code",
   "execution_count": 120,
   "metadata": {},
   "outputs": [
    {
     "data": {
      "text/plain": [
       "1    0.652415\n",
       "2    0.193581\n",
       "3    0.074370\n",
       "4    0.034925\n",
       "5    0.017166\n",
       "Name: s, dtype: float64"
      ]
     },
     "execution_count": 120,
     "metadata": {},
     "output_type": "execute_result"
    }
   ],
   "source": [
    "train_last.loc[train_last.current_filters.isna(), 's'].value_counts(normalize=True).head()"
   ]
  },
  {
   "cell_type": "code",
   "execution_count": 121,
   "metadata": {},
   "outputs": [
    {
     "data": {
      "text/plain": [
       "1    0.439573\n",
       "2    0.225441\n",
       "3    0.120621\n",
       "4    0.070904\n",
       "5    0.043215\n",
       "Name: s, dtype: float64"
      ]
     },
     "execution_count": 121,
     "metadata": {},
     "output_type": "execute_result"
    }
   ],
   "source": [
    "train_last.loc[train_last.current_filters.notna(), 's'].value_counts(normalize=True).head()"
   ]
  },
  {
   "cell_type": "code",
   "execution_count": 122,
   "metadata": {},
   "outputs": [
    {
     "data": {
      "text/plain": [
       "1    0.608348\n",
       "2    0.200177\n",
       "3    0.083946\n",
       "4    0.042374\n",
       "5    0.022559\n",
       "Name: s, dtype: float64"
      ]
     },
     "execution_count": 122,
     "metadata": {},
     "output_type": "execute_result"
    }
   ],
   "source": [
    "train_last.s.value_counts(normalize=True).head()"
   ]
  },
  {
   "cell_type": "code",
   "execution_count": null,
   "metadata": {},
   "outputs": [],
   "source": []
  },
  {
   "cell_type": "markdown",
   "metadata": {},
   "source": [
    "### Suppose we build extremly simple baseline"
   ]
  },
  {
   "cell_type": "code",
   "execution_count": 123,
   "metadata": {},
   "outputs": [],
   "source": [
    "train_last['ncfs'] = train_last.cfs.str.len()"
   ]
  },
  {
   "cell_type": "code",
   "execution_count": 124,
   "metadata": {},
   "outputs": [],
   "source": [
    "train_last['prices'] = train_last.prices.str.split('|')"
   ]
  },
  {
   "cell_type": "code",
   "execution_count": 125,
   "metadata": {
    "scrolled": true
   },
   "outputs": [
    {
     "name": "stdout",
     "output_type": "stream",
     "text": [
      "CPU times: user 23.7 s, sys: 539 ms, total: 24.3 s\n",
      "Wall time: 24.1 s\n"
     ]
    }
   ],
   "source": [
    "%%time\n",
    "train_last['prices'] = train_last.prices.apply(lambda x: np.pad(x, (0, 25-len(x)), mode='constant'))"
   ]
  },
  {
   "cell_type": "code",
   "execution_count": 131,
   "metadata": {},
   "outputs": [
    {
     "name": "stdout",
     "output_type": "stream",
     "text": [
      "CPU times: user 8.46 s, sys: 10.6 ms, total: 8.47 s\n",
      "Wall time: 8.47 s\n"
     ]
    }
   ],
   "source": [
    "%%time\n",
    "train_last['prices'] = train_last.prices.apply(lambda x: [int(p) for p in x])"
   ]
  },
  {
   "cell_type": "code",
   "execution_count": 137,
   "metadata": {},
   "outputs": [],
   "source": [
    "train_last['impressions'] = train_last['impressions'].str.split('|')\n",
    "train_last['impressions'] = train_last['impressions'].apply(lambda x: [int(i) for i in x])"
   ]
  },
  {
   "cell_type": "code",
   "execution_count": 142,
   "metadata": {},
   "outputs": [
    {
     "name": "stdout",
     "output_type": "stream",
     "text": [
      "CPU times: user 24 s, sys: 55.7 ms, total: 24.1 s\n",
      "Wall time: 24.1 s\n"
     ]
    }
   ],
   "source": [
    "%%time\n",
    "# make target\n",
    "def make_target(x):\n",
    "    try:\n",
    "        return x.impressions.index(int(x.reference))\n",
    "    except Exception as e:\n",
    "#         print(e)\n",
    "        return 25\n",
    "train_last['target'] = train_last.apply(make_target, axis=1)"
   ]
  },
  {
   "cell_type": "code",
   "execution_count": 144,
   "metadata": {},
   "outputs": [
    {
     "data": {
      "text/html": [
       "<div>\n",
       "<style scoped>\n",
       "    .dataframe tbody tr th:only-of-type {\n",
       "        vertical-align: middle;\n",
       "    }\n",
       "\n",
       "    .dataframe tbody tr th {\n",
       "        vertical-align: top;\n",
       "    }\n",
       "\n",
       "    .dataframe thead th {\n",
       "        text-align: right;\n",
       "    }\n",
       "</style>\n",
       "<table border=\"1\" class=\"dataframe\">\n",
       "  <thead>\n",
       "    <tr style=\"text-align: right;\">\n",
       "      <th></th>\n",
       "      <th>session_id</th>\n",
       "      <th>user_id</th>\n",
       "      <th>timestamp</th>\n",
       "      <th>step</th>\n",
       "      <th>action_type</th>\n",
       "      <th>reference</th>\n",
       "      <th>platform</th>\n",
       "      <th>city</th>\n",
       "      <th>device</th>\n",
       "      <th>current_filters</th>\n",
       "      <th>impressions</th>\n",
       "      <th>prices</th>\n",
       "      <th>s</th>\n",
       "      <th>cfs</th>\n",
       "      <th>nimps</th>\n",
       "      <th>ncfs</th>\n",
       "      <th>target</th>\n",
       "    </tr>\n",
       "  </thead>\n",
       "  <tbody>\n",
       "    <tr>\n",
       "      <th>0</th>\n",
       "      <td>00000510f1adc</td>\n",
       "      <td>WT30CXPIG450</td>\n",
       "      <td>1541064087</td>\n",
       "      <td>1</td>\n",
       "      <td>clickout item</td>\n",
       "      <td>7281198</td>\n",
       "      <td>IN</td>\n",
       "      <td>Ganpatipule, India</td>\n",
       "      <td>desktop</td>\n",
       "      <td>NaN</td>\n",
       "      <td>[2661832, 9222426, 7051844, 4079190, 5752778, ...</td>\n",
       "      <td>[46, 26, 16, 38, 12, 20, 21, 27, 13, 21, 36, 9...</td>\n",
       "      <td>1</td>\n",
       "      <td>NaN</td>\n",
       "      <td>25</td>\n",
       "      <td>NaN</td>\n",
       "      <td>6</td>\n",
       "    </tr>\n",
       "    <tr>\n",
       "      <th>1</th>\n",
       "      <td>00003f3b20954</td>\n",
       "      <td>CITFOTN2IT5P</td>\n",
       "      <td>1541097696</td>\n",
       "      <td>1</td>\n",
       "      <td>clickout item</td>\n",
       "      <td>979325</td>\n",
       "      <td>ES</td>\n",
       "      <td>La Manga, Spain</td>\n",
       "      <td>mobile</td>\n",
       "      <td>NaN</td>\n",
       "      <td>[87132, 886881, 486611, 979325, 87173, 87175, ...</td>\n",
       "      <td>[330, 187, 437, 159, 499, 324, 476, 381, 424, ...</td>\n",
       "      <td>1</td>\n",
       "      <td>NaN</td>\n",
       "      <td>25</td>\n",
       "      <td>NaN</td>\n",
       "      <td>3</td>\n",
       "    </tr>\n",
       "  </tbody>\n",
       "</table>\n",
       "</div>"
      ],
      "text/plain": [
       "      session_id       user_id   timestamp  step    action_type reference  \\\n",
       "0  00000510f1adc  WT30CXPIG450  1541064087     1  clickout item   7281198   \n",
       "1  00003f3b20954  CITFOTN2IT5P  1541097696     1  clickout item    979325   \n",
       "\n",
       "  platform                city   device current_filters  \\\n",
       "0       IN  Ganpatipule, India  desktop             NaN   \n",
       "1       ES     La Manga, Spain   mobile             NaN   \n",
       "\n",
       "                                         impressions  \\\n",
       "0  [2661832, 9222426, 7051844, 4079190, 5752778, ...   \n",
       "1  [87132, 886881, 486611, 979325, 87173, 87175, ...   \n",
       "\n",
       "                                              prices  s  cfs  nimps  ncfs  \\\n",
       "0  [46, 26, 16, 38, 12, 20, 21, 27, 13, 21, 36, 9...  1  NaN     25   NaN   \n",
       "1  [330, 187, 437, 159, 499, 324, 476, 381, 424, ...  1  NaN     25   NaN   \n",
       "\n",
       "   target  \n",
       "0       6  \n",
       "1       3  "
      ]
     },
     "execution_count": 144,
     "metadata": {},
     "output_type": "execute_result"
    }
   ],
   "source": [
    "train_last.head(2)"
   ]
  },
  {
   "cell_type": "code",
   "execution_count": 145,
   "metadata": {},
   "outputs": [],
   "source": [
    "train_last = train_last.drop(['user_id', 'action_type', 'current_filters', 'impressions', 'cfs'], axis=1)"
   ]
  },
  {
   "cell_type": "code",
   "execution_count": 146,
   "metadata": {},
   "outputs": [
    {
     "data": {
      "text/html": [
       "<div>\n",
       "<style scoped>\n",
       "    .dataframe tbody tr th:only-of-type {\n",
       "        vertical-align: middle;\n",
       "    }\n",
       "\n",
       "    .dataframe tbody tr th {\n",
       "        vertical-align: top;\n",
       "    }\n",
       "\n",
       "    .dataframe thead th {\n",
       "        text-align: right;\n",
       "    }\n",
       "</style>\n",
       "<table border=\"1\" class=\"dataframe\">\n",
       "  <thead>\n",
       "    <tr style=\"text-align: right;\">\n",
       "      <th></th>\n",
       "      <th>session_id</th>\n",
       "      <th>timestamp</th>\n",
       "      <th>step</th>\n",
       "      <th>reference</th>\n",
       "      <th>platform</th>\n",
       "      <th>city</th>\n",
       "      <th>device</th>\n",
       "      <th>prices</th>\n",
       "      <th>s</th>\n",
       "      <th>nimps</th>\n",
       "      <th>ncfs</th>\n",
       "      <th>target</th>\n",
       "    </tr>\n",
       "  </thead>\n",
       "  <tbody>\n",
       "    <tr>\n",
       "      <th>0</th>\n",
       "      <td>00000510f1adc</td>\n",
       "      <td>1541064087</td>\n",
       "      <td>1</td>\n",
       "      <td>7281198</td>\n",
       "      <td>IN</td>\n",
       "      <td>Ganpatipule, India</td>\n",
       "      <td>desktop</td>\n",
       "      <td>[46, 26, 16, 38, 12, 20, 21, 27, 13, 21, 36, 9...</td>\n",
       "      <td>1</td>\n",
       "      <td>25</td>\n",
       "      <td>NaN</td>\n",
       "      <td>6</td>\n",
       "    </tr>\n",
       "    <tr>\n",
       "      <th>1</th>\n",
       "      <td>00003f3b20954</td>\n",
       "      <td>1541097696</td>\n",
       "      <td>1</td>\n",
       "      <td>979325</td>\n",
       "      <td>ES</td>\n",
       "      <td>La Manga, Spain</td>\n",
       "      <td>mobile</td>\n",
       "      <td>[330, 187, 437, 159, 499, 324, 476, 381, 424, ...</td>\n",
       "      <td>1</td>\n",
       "      <td>25</td>\n",
       "      <td>NaN</td>\n",
       "      <td>3</td>\n",
       "    </tr>\n",
       "    <tr>\n",
       "      <th>2</th>\n",
       "      <td>000056cd97ce2</td>\n",
       "      <td>1541484101</td>\n",
       "      <td>4</td>\n",
       "      <td>3811810</td>\n",
       "      <td>MY</td>\n",
       "      <td>Port Dickson, Malaysia</td>\n",
       "      <td>desktop</td>\n",
       "      <td>[187, 78, 100, 51, 150, 81, 44, 36, 53, 104, 9...</td>\n",
       "      <td>2</td>\n",
       "      <td>25</td>\n",
       "      <td>NaN</td>\n",
       "      <td>0</td>\n",
       "    </tr>\n",
       "    <tr>\n",
       "      <th>3</th>\n",
       "      <td>000066611146f</td>\n",
       "      <td>1541332330</td>\n",
       "      <td>3</td>\n",
       "      <td>5479306</td>\n",
       "      <td>BE</td>\n",
       "      <td>Obaköy, Turkey</td>\n",
       "      <td>desktop</td>\n",
       "      <td>[96, 81, 87, 122, 50, 21, 90, 177, 81, 144, 12...</td>\n",
       "      <td>1</td>\n",
       "      <td>25</td>\n",
       "      <td>2.0</td>\n",
       "      <td>0</td>\n",
       "    </tr>\n",
       "    <tr>\n",
       "      <th>4</th>\n",
       "      <td>0000be39860d7</td>\n",
       "      <td>1541104090</td>\n",
       "      <td>53</td>\n",
       "      <td>79237</td>\n",
       "      <td>US</td>\n",
       "      <td>Chattanooga, USA</td>\n",
       "      <td>desktop</td>\n",
       "      <td>[171, 218, 132, 209, 202, 60, 123, 145, 154, 1...</td>\n",
       "      <td>2</td>\n",
       "      <td>25</td>\n",
       "      <td>NaN</td>\n",
       "      <td>19</td>\n",
       "    </tr>\n",
       "  </tbody>\n",
       "</table>\n",
       "</div>"
      ],
      "text/plain": [
       "      session_id   timestamp  step reference platform                    city  \\\n",
       "0  00000510f1adc  1541064087     1   7281198       IN      Ganpatipule, India   \n",
       "1  00003f3b20954  1541097696     1    979325       ES         La Manga, Spain   \n",
       "2  000056cd97ce2  1541484101     4   3811810       MY  Port Dickson, Malaysia   \n",
       "3  000066611146f  1541332330     3   5479306       BE          Obaköy, Turkey   \n",
       "4  0000be39860d7  1541104090    53     79237       US        Chattanooga, USA   \n",
       "\n",
       "    device                                             prices  s  nimps  ncfs  \\\n",
       "0  desktop  [46, 26, 16, 38, 12, 20, 21, 27, 13, 21, 36, 9...  1     25   NaN   \n",
       "1   mobile  [330, 187, 437, 159, 499, 324, 476, 381, 424, ...  1     25   NaN   \n",
       "2  desktop  [187, 78, 100, 51, 150, 81, 44, 36, 53, 104, 9...  2     25   NaN   \n",
       "3  desktop  [96, 81, 87, 122, 50, 21, 90, 177, 81, 144, 12...  1     25   2.0   \n",
       "4  desktop  [171, 218, 132, 209, 202, 60, 123, 145, 154, 1...  2     25   NaN   \n",
       "\n",
       "   target  \n",
       "0       6  \n",
       "1       3  \n",
       "2       0  \n",
       "3       0  \n",
       "4      19  "
      ]
     },
     "execution_count": 146,
     "metadata": {},
     "output_type": "execute_result"
    }
   ],
   "source": [
    "train_last.head()"
   ]
  },
  {
   "cell_type": "code",
   "execution_count": 147,
   "metadata": {},
   "outputs": [],
   "source": [
    "price_df = pd.DataFrame(train_last.prices.to_list(), columns=[f'price_{i}' for i in range(25)])"
   ]
  },
  {
   "cell_type": "code",
   "execution_count": 148,
   "metadata": {},
   "outputs": [],
   "source": [
    "del train_last['prices']\n",
    "train_last = pd.concat([train_last, price_df], axis=1)"
   ]
  },
  {
   "cell_type": "code",
   "execution_count": 149,
   "metadata": {},
   "outputs": [
    {
     "data": {
      "text/html": [
       "<div>\n",
       "<style scoped>\n",
       "    .dataframe tbody tr th:only-of-type {\n",
       "        vertical-align: middle;\n",
       "    }\n",
       "\n",
       "    .dataframe tbody tr th {\n",
       "        vertical-align: top;\n",
       "    }\n",
       "\n",
       "    .dataframe thead th {\n",
       "        text-align: right;\n",
       "    }\n",
       "</style>\n",
       "<table border=\"1\" class=\"dataframe\">\n",
       "  <thead>\n",
       "    <tr style=\"text-align: right;\">\n",
       "      <th></th>\n",
       "      <th>session_id</th>\n",
       "      <th>timestamp</th>\n",
       "      <th>step</th>\n",
       "      <th>reference</th>\n",
       "      <th>platform</th>\n",
       "      <th>city</th>\n",
       "      <th>device</th>\n",
       "      <th>s</th>\n",
       "      <th>nimps</th>\n",
       "      <th>ncfs</th>\n",
       "      <th>...</th>\n",
       "      <th>price_15</th>\n",
       "      <th>price_16</th>\n",
       "      <th>price_17</th>\n",
       "      <th>price_18</th>\n",
       "      <th>price_19</th>\n",
       "      <th>price_20</th>\n",
       "      <th>price_21</th>\n",
       "      <th>price_22</th>\n",
       "      <th>price_23</th>\n",
       "      <th>price_24</th>\n",
       "    </tr>\n",
       "  </thead>\n",
       "  <tbody>\n",
       "    <tr>\n",
       "      <th>0</th>\n",
       "      <td>00000510f1adc</td>\n",
       "      <td>1541064087</td>\n",
       "      <td>1</td>\n",
       "      <td>7281198</td>\n",
       "      <td>IN</td>\n",
       "      <td>Ganpatipule, India</td>\n",
       "      <td>desktop</td>\n",
       "      <td>1</td>\n",
       "      <td>25</td>\n",
       "      <td>NaN</td>\n",
       "      <td>...</td>\n",
       "      <td>19</td>\n",
       "      <td>22</td>\n",
       "      <td>20</td>\n",
       "      <td>9</td>\n",
       "      <td>16</td>\n",
       "      <td>21</td>\n",
       "      <td>15</td>\n",
       "      <td>65</td>\n",
       "      <td>20</td>\n",
       "      <td>20</td>\n",
       "    </tr>\n",
       "    <tr>\n",
       "      <th>1</th>\n",
       "      <td>00003f3b20954</td>\n",
       "      <td>1541097696</td>\n",
       "      <td>1</td>\n",
       "      <td>979325</td>\n",
       "      <td>ES</td>\n",
       "      <td>La Manga, Spain</td>\n",
       "      <td>mobile</td>\n",
       "      <td>1</td>\n",
       "      <td>25</td>\n",
       "      <td>NaN</td>\n",
       "      <td>...</td>\n",
       "      <td>482</td>\n",
       "      <td>182</td>\n",
       "      <td>158</td>\n",
       "      <td>505</td>\n",
       "      <td>720</td>\n",
       "      <td>110</td>\n",
       "      <td>330</td>\n",
       "      <td>570</td>\n",
       "      <td>492</td>\n",
       "      <td>450</td>\n",
       "    </tr>\n",
       "    <tr>\n",
       "      <th>2</th>\n",
       "      <td>000056cd97ce2</td>\n",
       "      <td>1541484101</td>\n",
       "      <td>4</td>\n",
       "      <td>3811810</td>\n",
       "      <td>MY</td>\n",
       "      <td>Port Dickson, Malaysia</td>\n",
       "      <td>desktop</td>\n",
       "      <td>2</td>\n",
       "      <td>25</td>\n",
       "      <td>NaN</td>\n",
       "      <td>...</td>\n",
       "      <td>26</td>\n",
       "      <td>33</td>\n",
       "      <td>20</td>\n",
       "      <td>15</td>\n",
       "      <td>38</td>\n",
       "      <td>20</td>\n",
       "      <td>62</td>\n",
       "      <td>28</td>\n",
       "      <td>24</td>\n",
       "      <td>18</td>\n",
       "    </tr>\n",
       "    <tr>\n",
       "      <th>3</th>\n",
       "      <td>000066611146f</td>\n",
       "      <td>1541332330</td>\n",
       "      <td>3</td>\n",
       "      <td>5479306</td>\n",
       "      <td>BE</td>\n",
       "      <td>Obaköy, Turkey</td>\n",
       "      <td>desktop</td>\n",
       "      <td>1</td>\n",
       "      <td>25</td>\n",
       "      <td>2.0</td>\n",
       "      <td>...</td>\n",
       "      <td>75</td>\n",
       "      <td>76</td>\n",
       "      <td>88</td>\n",
       "      <td>66</td>\n",
       "      <td>38</td>\n",
       "      <td>100</td>\n",
       "      <td>128</td>\n",
       "      <td>32</td>\n",
       "      <td>48</td>\n",
       "      <td>59</td>\n",
       "    </tr>\n",
       "    <tr>\n",
       "      <th>4</th>\n",
       "      <td>0000be39860d7</td>\n",
       "      <td>1541104090</td>\n",
       "      <td>53</td>\n",
       "      <td>79237</td>\n",
       "      <td>US</td>\n",
       "      <td>Chattanooga, USA</td>\n",
       "      <td>desktop</td>\n",
       "      <td>2</td>\n",
       "      <td>25</td>\n",
       "      <td>NaN</td>\n",
       "      <td>...</td>\n",
       "      <td>180</td>\n",
       "      <td>151</td>\n",
       "      <td>123</td>\n",
       "      <td>140</td>\n",
       "      <td>141</td>\n",
       "      <td>177</td>\n",
       "      <td>140</td>\n",
       "      <td>180</td>\n",
       "      <td>84</td>\n",
       "      <td>122</td>\n",
       "    </tr>\n",
       "  </tbody>\n",
       "</table>\n",
       "<p>5 rows × 36 columns</p>\n",
       "</div>"
      ],
      "text/plain": [
       "      session_id   timestamp  step reference platform                    city  \\\n",
       "0  00000510f1adc  1541064087     1   7281198       IN      Ganpatipule, India   \n",
       "1  00003f3b20954  1541097696     1    979325       ES         La Manga, Spain   \n",
       "2  000056cd97ce2  1541484101     4   3811810       MY  Port Dickson, Malaysia   \n",
       "3  000066611146f  1541332330     3   5479306       BE          Obaköy, Turkey   \n",
       "4  0000be39860d7  1541104090    53     79237       US        Chattanooga, USA   \n",
       "\n",
       "    device  s  nimps  ncfs  ...  price_15  price_16  price_17  price_18  \\\n",
       "0  desktop  1     25   NaN  ...        19        22        20         9   \n",
       "1   mobile  1     25   NaN  ...       482       182       158       505   \n",
       "2  desktop  2     25   NaN  ...        26        33        20        15   \n",
       "3  desktop  1     25   2.0  ...        75        76        88        66   \n",
       "4  desktop  2     25   NaN  ...       180       151       123       140   \n",
       "\n",
       "   price_19  price_20  price_21  price_22  price_23  price_24  \n",
       "0        16        21        15        65        20        20  \n",
       "1       720       110       330       570       492       450  \n",
       "2        38        20        62        28        24        18  \n",
       "3        38       100       128        32        48        59  \n",
       "4       141       177       140       180        84       122  \n",
       "\n",
       "[5 rows x 36 columns]"
      ]
     },
     "execution_count": 149,
     "metadata": {},
     "output_type": "execute_result"
    }
   ],
   "source": [
    "train_last.head()"
   ]
  },
  {
   "cell_type": "code",
   "execution_count": 150,
   "metadata": {},
   "outputs": [],
   "source": [
    "from sklearn.model_selection import StratifiedKFold, KFold\n",
    "folds = StratifiedKFold(n_splits=5)"
   ]
  },
  {
   "cell_type": "code",
   "execution_count": 152,
   "metadata": {},
   "outputs": [],
   "source": [
    "targets = train_last.target.values\n",
    "train_last = train_last.drop(['session_id', 'reference', 'target'], axis=1)"
   ]
  },
  {
   "cell_type": "code",
   "execution_count": 153,
   "metadata": {},
   "outputs": [],
   "source": [
    "from utils import check_gpu\n",
    "device = 'GPU' if check_gpu() else 'CPU'\n",
    "params = {'iterations': 200,\n",
    "          'learning_rate': 0.03,\n",
    "          'depth': 6,\n",
    "          'task_type': device,\n",
    "          'loss_function': 'MultiClass',\n",
    "          'custom_metric': ['MultiClass', 'Accuracy', 'AUC', 'Precision', 'Recall'],\n",
    "          'eval_metric': 'MultiClass'}"
   ]
  },
  {
   "cell_type": "code",
   "execution_count": 154,
   "metadata": {},
   "outputs": [
    {
     "data": {
      "text/html": [
       "<div>\n",
       "<style scoped>\n",
       "    .dataframe tbody tr th:only-of-type {\n",
       "        vertical-align: middle;\n",
       "    }\n",
       "\n",
       "    .dataframe tbody tr th {\n",
       "        vertical-align: top;\n",
       "    }\n",
       "\n",
       "    .dataframe thead th {\n",
       "        text-align: right;\n",
       "    }\n",
       "</style>\n",
       "<table border=\"1\" class=\"dataframe\">\n",
       "  <thead>\n",
       "    <tr style=\"text-align: right;\">\n",
       "      <th></th>\n",
       "      <th>timestamp</th>\n",
       "      <th>step</th>\n",
       "      <th>platform</th>\n",
       "      <th>city</th>\n",
       "      <th>device</th>\n",
       "      <th>s</th>\n",
       "      <th>nimps</th>\n",
       "      <th>ncfs</th>\n",
       "      <th>price_0</th>\n",
       "      <th>price_1</th>\n",
       "      <th>...</th>\n",
       "      <th>price_15</th>\n",
       "      <th>price_16</th>\n",
       "      <th>price_17</th>\n",
       "      <th>price_18</th>\n",
       "      <th>price_19</th>\n",
       "      <th>price_20</th>\n",
       "      <th>price_21</th>\n",
       "      <th>price_22</th>\n",
       "      <th>price_23</th>\n",
       "      <th>price_24</th>\n",
       "    </tr>\n",
       "  </thead>\n",
       "  <tbody>\n",
       "    <tr>\n",
       "      <th>0</th>\n",
       "      <td>1541064087</td>\n",
       "      <td>1</td>\n",
       "      <td>IN</td>\n",
       "      <td>Ganpatipule, India</td>\n",
       "      <td>desktop</td>\n",
       "      <td>1</td>\n",
       "      <td>25</td>\n",
       "      <td>NaN</td>\n",
       "      <td>46</td>\n",
       "      <td>26</td>\n",
       "      <td>...</td>\n",
       "      <td>19</td>\n",
       "      <td>22</td>\n",
       "      <td>20</td>\n",
       "      <td>9</td>\n",
       "      <td>16</td>\n",
       "      <td>21</td>\n",
       "      <td>15</td>\n",
       "      <td>65</td>\n",
       "      <td>20</td>\n",
       "      <td>20</td>\n",
       "    </tr>\n",
       "    <tr>\n",
       "      <th>1</th>\n",
       "      <td>1541097696</td>\n",
       "      <td>1</td>\n",
       "      <td>ES</td>\n",
       "      <td>La Manga, Spain</td>\n",
       "      <td>mobile</td>\n",
       "      <td>1</td>\n",
       "      <td>25</td>\n",
       "      <td>NaN</td>\n",
       "      <td>330</td>\n",
       "      <td>187</td>\n",
       "      <td>...</td>\n",
       "      <td>482</td>\n",
       "      <td>182</td>\n",
       "      <td>158</td>\n",
       "      <td>505</td>\n",
       "      <td>720</td>\n",
       "      <td>110</td>\n",
       "      <td>330</td>\n",
       "      <td>570</td>\n",
       "      <td>492</td>\n",
       "      <td>450</td>\n",
       "    </tr>\n",
       "    <tr>\n",
       "      <th>2</th>\n",
       "      <td>1541484101</td>\n",
       "      <td>4</td>\n",
       "      <td>MY</td>\n",
       "      <td>Port Dickson, Malaysia</td>\n",
       "      <td>desktop</td>\n",
       "      <td>2</td>\n",
       "      <td>25</td>\n",
       "      <td>NaN</td>\n",
       "      <td>187</td>\n",
       "      <td>78</td>\n",
       "      <td>...</td>\n",
       "      <td>26</td>\n",
       "      <td>33</td>\n",
       "      <td>20</td>\n",
       "      <td>15</td>\n",
       "      <td>38</td>\n",
       "      <td>20</td>\n",
       "      <td>62</td>\n",
       "      <td>28</td>\n",
       "      <td>24</td>\n",
       "      <td>18</td>\n",
       "    </tr>\n",
       "    <tr>\n",
       "      <th>3</th>\n",
       "      <td>1541332330</td>\n",
       "      <td>3</td>\n",
       "      <td>BE</td>\n",
       "      <td>Obaköy, Turkey</td>\n",
       "      <td>desktop</td>\n",
       "      <td>1</td>\n",
       "      <td>25</td>\n",
       "      <td>2.0</td>\n",
       "      <td>96</td>\n",
       "      <td>81</td>\n",
       "      <td>...</td>\n",
       "      <td>75</td>\n",
       "      <td>76</td>\n",
       "      <td>88</td>\n",
       "      <td>66</td>\n",
       "      <td>38</td>\n",
       "      <td>100</td>\n",
       "      <td>128</td>\n",
       "      <td>32</td>\n",
       "      <td>48</td>\n",
       "      <td>59</td>\n",
       "    </tr>\n",
       "    <tr>\n",
       "      <th>4</th>\n",
       "      <td>1541104090</td>\n",
       "      <td>53</td>\n",
       "      <td>US</td>\n",
       "      <td>Chattanooga, USA</td>\n",
       "      <td>desktop</td>\n",
       "      <td>2</td>\n",
       "      <td>25</td>\n",
       "      <td>NaN</td>\n",
       "      <td>171</td>\n",
       "      <td>218</td>\n",
       "      <td>...</td>\n",
       "      <td>180</td>\n",
       "      <td>151</td>\n",
       "      <td>123</td>\n",
       "      <td>140</td>\n",
       "      <td>141</td>\n",
       "      <td>177</td>\n",
       "      <td>140</td>\n",
       "      <td>180</td>\n",
       "      <td>84</td>\n",
       "      <td>122</td>\n",
       "    </tr>\n",
       "  </tbody>\n",
       "</table>\n",
       "<p>5 rows × 33 columns</p>\n",
       "</div>"
      ],
      "text/plain": [
       "    timestamp  step platform                    city   device  s  nimps  ncfs  \\\n",
       "0  1541064087     1       IN      Ganpatipule, India  desktop  1     25   NaN   \n",
       "1  1541097696     1       ES         La Manga, Spain   mobile  1     25   NaN   \n",
       "2  1541484101     4       MY  Port Dickson, Malaysia  desktop  2     25   NaN   \n",
       "3  1541332330     3       BE          Obaköy, Turkey  desktop  1     25   2.0   \n",
       "4  1541104090    53       US        Chattanooga, USA  desktop  2     25   NaN   \n",
       "\n",
       "   price_0  price_1  ...  price_15  price_16  price_17  price_18  price_19  \\\n",
       "0       46       26  ...        19        22        20         9        16   \n",
       "1      330      187  ...       482       182       158       505       720   \n",
       "2      187       78  ...        26        33        20        15        38   \n",
       "3       96       81  ...        75        76        88        66        38   \n",
       "4      171      218  ...       180       151       123       140       141   \n",
       "\n",
       "   price_20  price_21  price_22  price_23  price_24  \n",
       "0        21        15        65        20        20  \n",
       "1       110       330       570       492       450  \n",
       "2        20        62        28        24        18  \n",
       "3       100       128        32        48        59  \n",
       "4       177       140       180        84       122  \n",
       "\n",
       "[5 rows x 33 columns]"
      ]
     },
     "execution_count": 154,
     "metadata": {},
     "output_type": "execute_result"
    }
   ],
   "source": [
    "train_last.head()"
   ]
  },
  {
   "cell_type": "code",
   "execution_count": 155,
   "metadata": {},
   "outputs": [],
   "source": [
    "categorical_cols = ['platform', 'city', 'device']\n",
    "categorical_ind = [k for k, v in enumerate(train_last.columns) if v in categorical_cols]"
   ]
  },
  {
   "cell_type": "code",
   "execution_count": 156,
   "metadata": {},
   "outputs": [
    {
     "data": {
      "text/plain": [
       "[2, 3, 4]"
      ]
     },
     "execution_count": 156,
     "metadata": {},
     "output_type": "execute_result"
    }
   ],
   "source": [
    "categorical_ind"
   ]
  },
  {
   "cell_type": "code",
   "execution_count": null,
   "metadata": {},
   "outputs": [
    {
     "name": "stdout",
     "output_type": "stream",
     "text": [
      "0:\tlearn: -3.1837517\ttest: -3.1838718\tbest: -3.1838718 (0)\ttotal: 7.31s\tremaining: 12m 3s\n",
      "10:\tlearn: -2.8223716\ttest: -2.8229093\tbest: -2.8229093 (10)\ttotal: 3m 24s\tremaining: 27m 37s\n"
     ]
    }
   ],
   "source": [
    "for fold, (trn_ind, val_ind) in enumerate(folds.split(targets, targets)):\n",
    "    x_trn, y_trn = train_last.iloc[trn_ind], targets[trn_ind]\n",
    "    x_val, y_val = train_last.iloc[val_ind], targets[val_ind]\n",
    "\n",
    "    # train model\n",
    "    clf = cat.CatBoostClassifier(**params)\n",
    "    clf.fit(x_trn.values, y_trn,\n",
    "            cat_features=categorical_ind,\n",
    "            eval_set=(x_val.values, y_val),\n",
    "            early_stopping_rounds=100,\n",
    "            verbose=10,\n",
    "            plot=False)\n",
    "    \n",
    "    trn_pred = clf.predict(x_trn.values)\n",
    "    val_pred = clf.predict(x_val.values)\n",
    "    \n",
    "    trn_mrr = np.mean(1/(np.where(np.argsort(trn_pred)[:, ::-1] == y_trn.reshape(-1, 1))[1]+1))\n",
    "    val_mrr = np.mean(1/(np.where(np.argsort(val_pred)[:, ::-1] == y_val.reshape(-1, 1))[1]+1))\n",
    "    print(trn_mrr, val_mrr)\n"
   ]
  },
  {
   "cell_type": "code",
   "execution_count": null,
   "metadata": {},
   "outputs": [],
   "source": []
  },
  {
   "cell_type": "code",
   "execution_count": null,
   "metadata": {},
   "outputs": [],
   "source": []
  },
  {
   "cell_type": "code",
   "execution_count": null,
   "metadata": {},
   "outputs": [],
   "source": []
  },
  {
   "cell_type": "code",
   "execution_count": null,
   "metadata": {},
   "outputs": [],
   "source": []
  },
  {
   "cell_type": "code",
   "execution_count": null,
   "metadata": {},
   "outputs": [],
   "source": []
  },
  {
   "cell_type": "code",
   "execution_count": null,
   "metadata": {},
   "outputs": [],
   "source": []
  },
  {
   "cell_type": "code",
   "execution_count": null,
   "metadata": {},
   "outputs": [],
   "source": []
  },
  {
   "cell_type": "code",
   "execution_count": null,
   "metadata": {},
   "outputs": [],
   "source": []
  },
  {
   "cell_type": "code",
   "execution_count": null,
   "metadata": {},
   "outputs": [],
   "source": []
  },
  {
   "cell_type": "code",
   "execution_count": null,
   "metadata": {},
   "outputs": [],
   "source": []
  },
  {
   "cell_type": "markdown",
   "metadata": {},
   "source": [
    "## now look at test"
   ]
  },
  {
   "cell_type": "code",
   "execution_count": null,
   "metadata": {},
   "outputs": [],
   "source": [
    "%%time\n",
    "test = load_data('test')"
   ]
  },
  {
   "cell_type": "code",
   "execution_count": null,
   "metadata": {},
   "outputs": [],
   "source": [
    "%%time\n",
    "sub = load_data('submission_popular')"
   ]
  },
  {
   "cell_type": "code",
   "execution_count": null,
   "metadata": {},
   "outputs": [],
   "source": [
    "test_sub = test[test.session_id.isin(sub.session_id)].reset_index(drop=True)"
   ]
  },
  {
   "cell_type": "code",
   "execution_count": null,
   "metadata": {},
   "outputs": [],
   "source": [
    "test_sub['nimp'] = test_sub.impressions.str.split('|').str.len()"
   ]
  },
  {
   "cell_type": "code",
   "execution_count": null,
   "metadata": {
    "scrolled": true
   },
   "outputs": [],
   "source": [
    "# sub[sub.session_id.isin(test_sub[test_sub.nimp==1].session_id)]"
   ]
  },
  {
   "cell_type": "code",
   "execution_count": null,
   "metadata": {},
   "outputs": [],
   "source": [
    "test_sub_last = test_sub.groupby('session_id').last().reset_index() # this may not be ideal"
   ]
  },
  {
   "cell_type": "code",
   "execution_count": null,
   "metadata": {},
   "outputs": [],
   "source": [
    "test_sub_last.shape"
   ]
  },
  {
   "cell_type": "code",
   "execution_count": null,
   "metadata": {},
   "outputs": [],
   "source": [
    "test_sub_city_counts = test_sub_last.city.value_counts()\n",
    "test_sub_city_counts.head()"
   ]
  },
  {
   "cell_type": "code",
   "execution_count": null,
   "metadata": {},
   "outputs": [],
   "source": [
    "test_sub_city_counts_cs = test_sub_city_counts.cumsum()/(test_sub_city_counts.sum())\n",
    "test_sub_city_counts_cs.head()"
   ]
  },
  {
   "cell_type": "code",
   "execution_count": null,
   "metadata": {
    "scrolled": true
   },
   "outputs": [],
   "source": [
    "print(th)\n",
    "test_sub_above_th = test_sub_city_counts_cs[test_sub_city_counts_cs<th]\n",
    "print(test_sub_above_th.shape)\n",
    "common_test_sub_cities = test_sub_above_th.index.values"
   ]
  },
  {
   "cell_type": "markdown",
   "metadata": {},
   "source": [
    "number of common cities intersections with trains"
   ]
  },
  {
   "cell_type": "code",
   "execution_count": null,
   "metadata": {},
   "outputs": [],
   "source": [
    "len(set(common_test_sub_cities).intersection(common_cities))"
   ]
  },
  {
   "cell_type": "markdown",
   "metadata": {},
   "source": [
    "number of impression list with len 1"
   ]
  },
  {
   "cell_type": "code",
   "execution_count": null,
   "metadata": {},
   "outputs": [],
   "source": [
    "test_sub_last['imp_list'] = test_sub_last.impressions.str.split('|')"
   ]
  },
  {
   "cell_type": "code",
   "execution_count": null,
   "metadata": {},
   "outputs": [],
   "source": [
    "test_sub_imp_len = test_sub_last.imp_list.str.len()"
   ]
  },
  {
   "cell_type": "code",
   "execution_count": null,
   "metadata": {},
   "outputs": [],
   "source": [
    "test_sub_imp_len.value_counts()"
   ]
  },
  {
   "cell_type": "code",
   "execution_count": null,
   "metadata": {},
   "outputs": [],
   "source": [
    "866/test_sub_last.shape[0]*100"
   ]
  },
  {
   "cell_type": "code",
   "execution_count": null,
   "metadata": {
    "scrolled": true
   },
   "outputs": [],
   "source": [
    "# test_sub_last[~test_sub_last.city.isin(common_test_sub_cities)].imp_list.str.len().value_counts()"
   ]
  },
  {
   "cell_type": "code",
   "execution_count": null,
   "metadata": {},
   "outputs": [],
   "source": []
  },
  {
   "cell_type": "code",
   "execution_count": null,
   "metadata": {},
   "outputs": [],
   "source": []
  },
  {
   "cell_type": "markdown",
   "metadata": {},
   "source": [
    "### platform"
   ]
  },
  {
   "cell_type": "code",
   "execution_count": null,
   "metadata": {},
   "outputs": [],
   "source": [
    "platfrom_counts = train_last.platform.value_counts()\n",
    "platfrom_counts.head()"
   ]
  },
  {
   "cell_type": "code",
   "execution_count": null,
   "metadata": {},
   "outputs": [],
   "source": [
    "platfrom_counts.hist(bins=50)"
   ]
  },
  {
   "cell_type": "code",
   "execution_count": null,
   "metadata": {},
   "outputs": [],
   "source": [
    "np.log1p(platfrom_counts).hist(bins=50)"
   ]
  },
  {
   "cell_type": "code",
   "execution_count": null,
   "metadata": {},
   "outputs": [],
   "source": [
    "platfrom_counts.shape"
   ]
  },
  {
   "cell_type": "code",
   "execution_count": null,
   "metadata": {},
   "outputs": [],
   "source": [
    "train.platform.nunique()"
   ]
  },
  {
   "cell_type": "code",
   "execution_count": null,
   "metadata": {},
   "outputs": [],
   "source": [
    "(55)**(1/4)"
   ]
  },
  {
   "cell_type": "code",
   "execution_count": null,
   "metadata": {},
   "outputs": [],
   "source": [
    "train.city.nunique()"
   ]
  },
  {
   "cell_type": "code",
   "execution_count": null,
   "metadata": {},
   "outputs": [],
   "source": [
    "30519**(1/4)"
   ]
  }
 ],
 "metadata": {
  "kernelspec": {
   "display_name": "Python 3",
   "language": "python",
   "name": "python3"
  },
  "language_info": {
   "codemirror_mode": {
    "name": "ipython",
    "version": 3
   },
   "file_extension": ".py",
   "mimetype": "text/x-python",
   "name": "python",
   "nbconvert_exporter": "python",
   "pygments_lexer": "ipython3",
   "version": "3.6.8"
  }
 },
 "nbformat": 4,
 "nbformat_minor": 2
}
