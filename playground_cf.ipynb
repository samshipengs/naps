{
 "cells": [
  {
   "cell_type": "code",
   "execution_count": 168,
   "metadata": {},
   "outputs": [
    {
     "name": "stdout",
     "output_type": "stream",
     "text": [
      "The autoreload extension is already loaded. To reload it, use:\n",
      "  %reload_ext autoreload\n"
     ]
    }
   ],
   "source": [
    "from utils import load_data, check_gpu, check_dir\n",
    "from clean_session import preprocess_sessions\n",
    "import pandas as pd\n",
    "import numpy as np\n",
    "from tqdm import tqdm\n",
    "import gc\n",
    "import catboost as cat\n",
    "import matplotlib.pyplot as plt\n",
    "from clean_session import preprocess_sessions\n",
    "from manual_encoding import action_encoding, click_view_encoding, meta_encoding\n",
    "from hotel2vec import hotel2vec\n",
    "import datetime\n",
    "%matplotlib inline\n",
    "%load_ext autoreload\n",
    "%autoreload 2\n",
    "def fprint(df, name):\n",
    "    print(f'{name} shape: ({df.shape[0]:,}, {df.shape[1]})')\n",
    "    "
   ]
  },
  {
   "cell_type": "code",
   "execution_count": 170,
   "metadata": {},
   "outputs": [
    {
     "name": "stdout",
     "output_type": "stream",
     "text": [
      "CPU times: user 28 s, sys: 1.9 s, total: 29.9 s\n",
      "Wall time: 29.9 s\n"
     ]
    }
   ],
   "source": [
    "%%time\n",
    "train_raw = load_data('train')\n",
    "train_raw['timestamp'] = train_raw['timestamp'].apply(lambda t: datetime.datetime.utcfromtimestamp(t))\n",
    "train_raw['nfilters'] = train_raw['current_filters'].str.split('|').str.len()\n",
    "train = train_raw[(train_raw.action_type == 'clickout item') & (train_raw.impressions.notna())].copy()"
   ]
  },
  {
   "cell_type": "code",
   "execution_count": 171,
   "metadata": {},
   "outputs": [
    {
     "name": "stdout",
     "output_type": "stream",
     "text": [
      "train shape: (1,586,586, 13)\n"
     ]
    }
   ],
   "source": [
    "fprint(train, 'train')"
   ]
  },
  {
   "cell_type": "code",
   "execution_count": 137,
   "metadata": {},
   "outputs": [],
   "source": [
    "# %%time\n",
    "# # also get test\n",
    "# test = load_data('test')#, nrows=1000000)\n",
    "# fprint(test, 'raw test')\n",
    "# test = test[(test.action_type == 'clickout item') & (test.impressions.notna()) & (test.reference.notna())].reset_index(drop=True)\n",
    "# fprint(test, 'test after')"
   ]
  },
  {
   "cell_type": "code",
   "execution_count": 138,
   "metadata": {},
   "outputs": [],
   "source": [
    "# test_sub = load_data('submission_popular')"
   ]
  },
  {
   "cell_type": "code",
   "execution_count": 4,
   "metadata": {},
   "outputs": [
    {
     "name": "stdout",
     "output_type": "stream",
     "text": [
      "CPU times: user 1.2 s, sys: 0 ns, total: 1.2 s\n",
      "Wall time: 1.2 s\n"
     ]
    }
   ],
   "source": [
    "%%time\n",
    "def session_duration(x):\n",
    "    return x.max() - x.min()\n",
    "# session_fts = train.groupby('session_id').agg({'session_id': 'size', 'timestamp': session_duration})\n",
    "session_fts = train.groupby('session_id').size().reset_index(name='session_size')"
   ]
  },
  {
   "cell_type": "code",
   "execution_count": 5,
   "metadata": {},
   "outputs": [
    {
     "name": "stdout",
     "output_type": "stream",
     "text": [
      "CPU times: user 2.99 s, sys: 0 ns, total: 2.99 s\n",
      "Wall time: 2.98 s\n"
     ]
    }
   ],
   "source": [
    "%%time\n",
    "train_last = train.groupby('session_id').last().reset_index()"
   ]
  },
  {
   "cell_type": "code",
   "execution_count": null,
   "metadata": {},
   "outputs": [],
   "source": [
    "fprint(train_last, 'trian_last')"
   ]
  },
  {
   "cell_type": "code",
   "execution_count": 6,
   "metadata": {},
   "outputs": [],
   "source": [
    "train_last = pd.merge(train_last, session_fts, on='session_id')"
   ]
  },
  {
   "cell_type": "markdown",
   "metadata": {},
   "source": [
    "### user_id"
   ]
  },
  {
   "cell_type": "code",
   "execution_count": 53,
   "metadata": {},
   "outputs": [
    {
     "data": {
      "text/plain": [
       "<matplotlib.axes._subplots.AxesSubplot at 0x7feea5960898>"
      ]
     },
     "execution_count": 53,
     "metadata": {},
     "output_type": "execute_result"
    },
    {
     "data": {
      "image/png": "[encoded data removed]",
      "text/plain": [
       "<Figure size 432x288 with 1 Axes>"
      ]
     },
     "metadata": {
      "needs_background": "light"
     },
     "output_type": "display_data"
    }
   ],
   "source": [
    "# train_last.groupby('user_id').size()\n",
    "train_last.user_id.value_counts().hist(bins=100)"
   ]
  },
  {
   "cell_type": "code",
   "execution_count": 54,
   "metadata": {},
   "outputs": [
    {
     "data": {
      "text/plain": [
       "<matplotlib.axes._subplots.AxesSubplot at 0x7fee47e4c208>"
      ]
     },
     "execution_count": 54,
     "metadata": {},
     "output_type": "execute_result"
    },
    {
     "data": {
      "image/png": "[encoded data removed]",
      "text/plain": [
       "<Figure size 432x288 with 1 Axes>"
      ]
     },
     "metadata": {
      "needs_background": "light"
     },
     "output_type": "display_data"
    }
   ],
   "source": [
    "# train_last.groupby('user_id').size()\n",
    "np.log(train_last.user_id.value_counts()).hist(bins=100)"
   ]
  },
  {
   "cell_type": "code",
   "execution_count": 55,
   "metadata": {},
   "outputs": [
    {
     "data": {
      "text/plain": [
       "717774"
      ]
     },
     "execution_count": 55,
     "metadata": {},
     "output_type": "execute_result"
    }
   ],
   "source": [
    "train_last.user_id.nunique()"
   ]
  },
  {
   "cell_type": "code",
   "execution_count": 56,
   "metadata": {},
   "outputs": [],
   "source": [
    "train_user_ids = train_last.user_id.unique()"
   ]
  },
  {
   "cell_type": "code",
   "execution_count": 57,
   "metadata": {},
   "outputs": [],
   "source": [
    "test_user_ids = test.user_id.unique()"
   ]
  },
  {
   "cell_type": "code",
   "execution_count": 58,
   "metadata": {},
   "outputs": [],
   "source": [
    "sub_ids = test_sub.user_id.unique()"
   ]
  },
  {
   "cell_type": "code",
   "execution_count": 59,
   "metadata": {},
   "outputs": [
    {
     "data": {
      "text/plain": [
       "26913"
      ]
     },
     "execution_count": 59,
     "metadata": {},
     "output_type": "execute_result"
    }
   ],
   "source": [
    "len(set(train_user_ids).intersection(sub_ids))"
   ]
  },
  {
   "cell_type": "code",
   "execution_count": 60,
   "metadata": {},
   "outputs": [
    {
     "data": {
      "text/plain": [
       "(250852,)"
      ]
     },
     "execution_count": 60,
     "metadata": {},
     "output_type": "execute_result"
    }
   ],
   "source": [
    "sub_ids.shape"
   ]
  },
  {
   "cell_type": "code",
   "execution_count": 61,
   "metadata": {},
   "outputs": [
    {
     "data": {
      "text/plain": [
       "0.1072863680576595"
      ]
     },
     "execution_count": 61,
     "metadata": {},
     "output_type": "execute_result"
    }
   ],
   "source": [
    "26913/sub_ids.shape[0]"
   ]
  },
  {
   "cell_type": "markdown",
   "metadata": {},
   "source": [
    "### what are the ones click on index 0 look like and the ones with rest index"
   ]
  },
  {
   "cell_type": "code",
   "execution_count": 64,
   "metadata": {},
   "outputs": [],
   "source": [
    "one_sids = train_last[train_last.target==0].session_id\n",
    "rest_sids = train_last[train_last.target!=0].session_id"
   ]
  },
  {
   "cell_type": "code",
   "execution_count": 204,
   "metadata": {},
   "outputs": [
    {
     "data": {
      "text/plain": [
       "('fe9b9d3a905bb', '1258fb24f726f')"
      ]
     },
     "execution_count": 204,
     "metadata": {},
     "output_type": "execute_result"
    }
   ],
   "source": [
    "oid = np.random.choice(one_sids, 1)[0]\n",
    "rid = np.random.choice(rest_sids, 1)[0]\n",
    "oid, rid"
   ]
  },
  {
   "cell_type": "code",
   "execution_count": 205,
   "metadata": {},
   "outputs": [
    {
     "name": "stdout",
     "output_type": "stream",
     "text": [
      "target: 0 | session_size: 1 | user freq: 1 \n",
      "\n",
      "['YOQC4S5JQE3C' 'fe9b9d3a905bb' Timestamp('2018-11-01 14:56:37') 2\n",
      " 'clickout item' '5659482' 'NL' 'Essen, Germany' 'desktop' nan\n",
      " '5659482|6411|5213472|1942169|1909221|6421|6416|433571|6409|4645172|7771100|8004290|8209168|2548188|1288612|2300514|6413|465701|14797|86566|6426|6410|920187|6420|109482'\n",
      " '91|125|121|118|83|145|138|119|105|81|76|98|149|91|134|121|107|108|107|105|148|109|125|80|135'\n",
      " nan]\n"
     ]
    }
   ],
   "source": [
    "print('target:', train_last[train_last.session_id==oid].target.values[0], '| session_size:',\n",
    "     train_last[train_last.session_id==oid].session_size.values[0], '| user freq:',\n",
    "     train_last[train_last.session_id==oid].user_id.size, '\\n')\n",
    "for i in train[train.session_id==oid].reset_index(drop=True).values:\n",
    "    print(i)"
   ]
  },
  {
   "cell_type": "code",
   "execution_count": 206,
   "metadata": {},
   "outputs": [
    {
     "data": {
      "text/plain": [
       "array([ 76,  80,  81,  83,  91,  91,  98, 105, 105, 107, 107, 108, 109,\n",
       "       118, 119, 121, 121, 125, 125, 134, 135, 138, 145, 148, 149])"
      ]
     },
     "execution_count": 206,
     "metadata": {},
     "output_type": "execute_result"
    }
   ],
   "source": [
    "ps = np.concatenate(train[train.session_id==oid].prices.drop_duplicates().str.split('|').values)\n",
    "ps = [int(i) for i in ps]\n",
    "ps = np.sort(ps)\n",
    "ps"
   ]
  },
  {
   "cell_type": "markdown",
   "metadata": {},
   "source": [
    "---"
   ]
  },
  {
   "cell_type": "code",
   "execution_count": 207,
   "metadata": {
    "scrolled": false
   },
   "outputs": [
    {
     "name": "stdout",
     "output_type": "stream",
     "text": [
      "target: 1 | session_size: 3 | user freq: 1 \n",
      "\n",
      "['7CUYQ7J24DQ7' '1258fb24f726f' Timestamp('2018-11-05 20:09:38') 1\n",
      " 'clickout item' '1312459' 'GR' 'Neochori, Greece' 'mobile' nan\n",
      " '1037404|1312459|3205422|1740819|2565490|8107466|435461|1289612|3076386|1479113|7245992|2349758|2678238|6009484|1200802|2654896|2467574'\n",
      " '65|50|50|100|70|70|72|52|35|85|80|65|65|125|45|50|45' nan]\n",
      "['7CUYQ7J24DQ7' '1258fb24f726f' Timestamp('2018-11-05 20:10:38') 2\n",
      " 'clickout item' '3205422' 'GR' 'Neochori, Greece' 'mobile' nan\n",
      " '1037404|1312459|3205422|1740819|2565490|8107466|435461|1289612|3076386|1479113|7245992|2349758|2678238|6009484|1200802|2654896|2467574'\n",
      " '65|50|50|100|70|70|72|52|35|85|80|65|65|125|45|50|45' nan]\n",
      "['7CUYQ7J24DQ7' '1258fb24f726f' Timestamp('2018-11-05 20:28:03') 8\n",
      " 'clickout item' '3205422' 'GR' 'Neochori, Greece' 'mobile' nan\n",
      " '1312459|3205422|1740819|2565490|8107466|435461|1289612|2349758|1479113|1037404|6009484|7245992|2678238|1200802|2654896'\n",
      " '50|50|100|70|70|72|52|65|85|65|125|80|65|45|50' nan]\n"
     ]
    }
   ],
   "source": [
    "print('target:', train_last[train_last.session_id==rid].target.values[0], '| session_size:',\n",
    "     train_last[train_last.session_id==rid].session_size.values[0], '| user freq:',\n",
    "     train_last[train_last.session_id==rid].user_id.size, '\\n')\n",
    "for i in train[train.session_id==rid].reset_index(drop=True).values:\n",
    "    print(i)"
   ]
  },
  {
   "cell_type": "code",
   "execution_count": 208,
   "metadata": {},
   "outputs": [
    {
     "data": {
      "text/plain": [
       "array([ 45,  50,  50,  50,  52,  65,  65,  65,  70,  70,  72,  80,  85,\n",
       "       100, 125])"
      ]
     },
     "execution_count": 208,
     "metadata": {},
     "output_type": "execute_result"
    }
   ],
   "source": [
    "ps = train[train.session_id==rid].prices.drop_duplicates().str.split('|').iloc[-1]\n",
    "ps = np.sort([int(i) for i in ps])\n",
    "ps"
   ]
  },
  {
   "cell_type": "markdown",
   "metadata": {},
   "source": [
    "### check raw"
   ]
  },
  {
   "cell_type": "code",
   "execution_count": 209,
   "metadata": {},
   "outputs": [
    {
     "data": {
      "text/html": [
       "<div>\n",
       "<style scoped>\n",
       "    .dataframe tbody tr th:only-of-type {\n",
       "        vertical-align: middle;\n",
       "    }\n",
       "\n",
       "    .dataframe tbody tr th {\n",
       "        vertical-align: top;\n",
       "    }\n",
       "\n",
       "    .dataframe thead th {\n",
       "        text-align: right;\n",
       "    }\n",
       "</style>\n",
       "<table border=\"1\" class=\"dataframe\">\n",
       "  <thead>\n",
       "    <tr style=\"text-align: right;\">\n",
       "      <th></th>\n",
       "      <th>user_id</th>\n",
       "      <th>session_id</th>\n",
       "      <th>timestamp</th>\n",
       "      <th>step</th>\n",
       "      <th>action_type</th>\n",
       "      <th>reference</th>\n",
       "      <th>platform</th>\n",
       "      <th>city</th>\n",
       "      <th>device</th>\n",
       "      <th>current_filters</th>\n",
       "      <th>impressions</th>\n",
       "      <th>prices</th>\n",
       "      <th>nfilters</th>\n",
       "    </tr>\n",
       "  </thead>\n",
       "  <tbody>\n",
       "    <tr>\n",
       "      <th>0</th>\n",
       "      <td>YOQC4S5JQE3C</td>\n",
       "      <td>fe9b9d3a905bb</td>\n",
       "      <td>2018-11-01 14:54:58</td>\n",
       "      <td>1</td>\n",
       "      <td>search for destination</td>\n",
       "      <td>Essen, Germany</td>\n",
       "      <td>NL</td>\n",
       "      <td>Essen, Germany</td>\n",
       "      <td>desktop</td>\n",
       "      <td>NaN</td>\n",
       "      <td>NaN</td>\n",
       "      <td>NaN</td>\n",
       "      <td>NaN</td>\n",
       "    </tr>\n",
       "    <tr>\n",
       "      <th>1</th>\n",
       "      <td>YOQC4S5JQE3C</td>\n",
       "      <td>fe9b9d3a905bb</td>\n",
       "      <td>2018-11-01 14:56:37</td>\n",
       "      <td>2</td>\n",
       "      <td>clickout item</td>\n",
       "      <td>5659482</td>\n",
       "      <td>NL</td>\n",
       "      <td>Essen, Germany</td>\n",
       "      <td>desktop</td>\n",
       "      <td>NaN</td>\n",
       "      <td>5659482|6411|5213472|1942169|1909221|6421|6416...</td>\n",
       "      <td>91|125|121|118|83|145|138|119|105|81|76|98|149...</td>\n",
       "      <td>NaN</td>\n",
       "    </tr>\n",
       "  </tbody>\n",
       "</table>\n",
       "</div>"
      ],
      "text/plain": [
       "        user_id     session_id           timestamp  step  \\\n",
       "0  YOQC4S5JQE3C  fe9b9d3a905bb 2018-11-01 14:54:58     1   \n",
       "1  YOQC4S5JQE3C  fe9b9d3a905bb 2018-11-01 14:56:37     2   \n",
       "\n",
       "              action_type       reference platform            city   device  \\\n",
       "0  search for destination  Essen, Germany       NL  Essen, Germany  desktop   \n",
       "1           clickout item         5659482       NL  Essen, Germany  desktop   \n",
       "\n",
       "  current_filters                                        impressions  \\\n",
       "0             NaN                                                NaN   \n",
       "1             NaN  5659482|6411|5213472|1942169|1909221|6421|6416...   \n",
       "\n",
       "                                              prices  nfilters  \n",
       "0                                                NaN       NaN  \n",
       "1  91|125|121|118|83|145|138|119|105|81|76|98|149...       NaN  "
      ]
     },
     "execution_count": 209,
     "metadata": {},
     "output_type": "execute_result"
    }
   ],
   "source": [
    "train_raw[train_raw.session_id==oid].reset_index(drop=True)"
   ]
  },
  {
   "cell_type": "code",
   "execution_count": 211,
   "metadata": {
    "scrolled": false
   },
   "outputs": [
    {
     "data": {
      "text/html": [
       "<div>\n",
       "<style scoped>\n",
       "    .dataframe tbody tr th:only-of-type {\n",
       "        vertical-align: middle;\n",
       "    }\n",
       "\n",
       "    .dataframe tbody tr th {\n",
       "        vertical-align: top;\n",
       "    }\n",
       "\n",
       "    .dataframe thead th {\n",
       "        text-align: right;\n",
       "    }\n",
       "</style>\n",
       "<table border=\"1\" class=\"dataframe\">\n",
       "  <thead>\n",
       "    <tr style=\"text-align: right;\">\n",
       "      <th></th>\n",
       "      <th>user_id</th>\n",
       "      <th>session_id</th>\n",
       "      <th>timestamp</th>\n",
       "      <th>step</th>\n",
       "      <th>action_type</th>\n",
       "      <th>reference</th>\n",
       "      <th>platform</th>\n",
       "      <th>city</th>\n",
       "      <th>device</th>\n",
       "      <th>current_filters</th>\n",
       "      <th>impressions</th>\n",
       "      <th>prices</th>\n",
       "      <th>nfilters</th>\n",
       "    </tr>\n",
       "  </thead>\n",
       "  <tbody>\n",
       "    <tr>\n",
       "      <th>0</th>\n",
       "      <td>7CUYQ7J24DQ7</td>\n",
       "      <td>1258fb24f726f</td>\n",
       "      <td>2018-11-05 20:09:38</td>\n",
       "      <td>1</td>\n",
       "      <td>clickout item</td>\n",
       "      <td>1312459</td>\n",
       "      <td>GR</td>\n",
       "      <td>Neochori, Greece</td>\n",
       "      <td>mobile</td>\n",
       "      <td>NaN</td>\n",
       "      <td>1037404|1312459|3205422|1740819|2565490|810746...</td>\n",
       "      <td>65|50|50|100|70|70|72|52|35|85|80|65|65|125|45...</td>\n",
       "      <td>NaN</td>\n",
       "    </tr>\n",
       "    <tr>\n",
       "      <th>1</th>\n",
       "      <td>7CUYQ7J24DQ7</td>\n",
       "      <td>1258fb24f726f</td>\n",
       "      <td>2018-11-05 20:10:38</td>\n",
       "      <td>2</td>\n",
       "      <td>clickout item</td>\n",
       "      <td>3205422</td>\n",
       "      <td>GR</td>\n",
       "      <td>Neochori, Greece</td>\n",
       "      <td>mobile</td>\n",
       "      <td>NaN</td>\n",
       "      <td>1037404|1312459|3205422|1740819|2565490|810746...</td>\n",
       "      <td>65|50|50|100|70|70|72|52|35|85|80|65|65|125|45...</td>\n",
       "      <td>NaN</td>\n",
       "    </tr>\n",
       "    <tr>\n",
       "      <th>2</th>\n",
       "      <td>7CUYQ7J24DQ7</td>\n",
       "      <td>1258fb24f726f</td>\n",
       "      <td>2018-11-05 20:15:29</td>\n",
       "      <td>3</td>\n",
       "      <td>interaction item info</td>\n",
       "      <td>1037404</td>\n",
       "      <td>GR</td>\n",
       "      <td>Neochori, Greece</td>\n",
       "      <td>mobile</td>\n",
       "      <td>NaN</td>\n",
       "      <td>NaN</td>\n",
       "      <td>NaN</td>\n",
       "      <td>NaN</td>\n",
       "    </tr>\n",
       "    <tr>\n",
       "      <th>3</th>\n",
       "      <td>7CUYQ7J24DQ7</td>\n",
       "      <td>1258fb24f726f</td>\n",
       "      <td>2018-11-05 20:15:39</td>\n",
       "      <td>4</td>\n",
       "      <td>interaction item deals</td>\n",
       "      <td>1037404</td>\n",
       "      <td>GR</td>\n",
       "      <td>Neochori, Greece</td>\n",
       "      <td>mobile</td>\n",
       "      <td>NaN</td>\n",
       "      <td>NaN</td>\n",
       "      <td>NaN</td>\n",
       "      <td>NaN</td>\n",
       "    </tr>\n",
       "    <tr>\n",
       "      <th>4</th>\n",
       "      <td>7CUYQ7J24DQ7</td>\n",
       "      <td>1258fb24f726f</td>\n",
       "      <td>2018-11-05 20:15:49</td>\n",
       "      <td>5</td>\n",
       "      <td>change of sort order</td>\n",
       "      <td>interaction sort button</td>\n",
       "      <td>GR</td>\n",
       "      <td>Neochori, Greece</td>\n",
       "      <td>mobile</td>\n",
       "      <td>NaN</td>\n",
       "      <td>NaN</td>\n",
       "      <td>NaN</td>\n",
       "      <td>NaN</td>\n",
       "    </tr>\n",
       "    <tr>\n",
       "      <th>5</th>\n",
       "      <td>7CUYQ7J24DQ7</td>\n",
       "      <td>1258fb24f726f</td>\n",
       "      <td>2018-11-05 20:15:59</td>\n",
       "      <td>6</td>\n",
       "      <td>change of sort order</td>\n",
       "      <td>interaction sort button</td>\n",
       "      <td>GR</td>\n",
       "      <td>Neochori, Greece</td>\n",
       "      <td>mobile</td>\n",
       "      <td>NaN</td>\n",
       "      <td>NaN</td>\n",
       "      <td>NaN</td>\n",
       "      <td>NaN</td>\n",
       "    </tr>\n",
       "    <tr>\n",
       "      <th>6</th>\n",
       "      <td>7CUYQ7J24DQ7</td>\n",
       "      <td>1258fb24f726f</td>\n",
       "      <td>2018-11-05 20:16:14</td>\n",
       "      <td>7</td>\n",
       "      <td>interaction item info</td>\n",
       "      <td>1037404</td>\n",
       "      <td>GR</td>\n",
       "      <td>Neochori, Greece</td>\n",
       "      <td>mobile</td>\n",
       "      <td>NaN</td>\n",
       "      <td>NaN</td>\n",
       "      <td>NaN</td>\n",
       "      <td>NaN</td>\n",
       "    </tr>\n",
       "    <tr>\n",
       "      <th>7</th>\n",
       "      <td>7CUYQ7J24DQ7</td>\n",
       "      <td>1258fb24f726f</td>\n",
       "      <td>2018-11-05 20:28:03</td>\n",
       "      <td>8</td>\n",
       "      <td>clickout item</td>\n",
       "      <td>3205422</td>\n",
       "      <td>GR</td>\n",
       "      <td>Neochori, Greece</td>\n",
       "      <td>mobile</td>\n",
       "      <td>NaN</td>\n",
       "      <td>1312459|3205422|1740819|2565490|8107466|435461...</td>\n",
       "      <td>50|50|100|70|70|72|52|65|85|65|125|80|65|45|50</td>\n",
       "      <td>NaN</td>\n",
       "    </tr>\n",
       "  </tbody>\n",
       "</table>\n",
       "</div>"
      ],
      "text/plain": [
       "        user_id     session_id           timestamp  step  \\\n",
       "0  7CUYQ7J24DQ7  1258fb24f726f 2018-11-05 20:09:38     1   \n",
       "1  7CUYQ7J24DQ7  1258fb24f726f 2018-11-05 20:10:38     2   \n",
       "2  7CUYQ7J24DQ7  1258fb24f726f 2018-11-05 20:15:29     3   \n",
       "3  7CUYQ7J24DQ7  1258fb24f726f 2018-11-05 20:15:39     4   \n",
       "4  7CUYQ7J24DQ7  1258fb24f726f 2018-11-05 20:15:49     5   \n",
       "5  7CUYQ7J24DQ7  1258fb24f726f 2018-11-05 20:15:59     6   \n",
       "6  7CUYQ7J24DQ7  1258fb24f726f 2018-11-05 20:16:14     7   \n",
       "7  7CUYQ7J24DQ7  1258fb24f726f 2018-11-05 20:28:03     8   \n",
       "\n",
       "              action_type                reference platform              city  \\\n",
       "0           clickout item                  1312459       GR  Neochori, Greece   \n",
       "1           clickout item                  3205422       GR  Neochori, Greece   \n",
       "2   interaction item info                  1037404       GR  Neochori, Greece   \n",
       "3  interaction item deals                  1037404       GR  Neochori, Greece   \n",
       "4    change of sort order  interaction sort button       GR  Neochori, Greece   \n",
       "5    change of sort order  interaction sort button       GR  Neochori, Greece   \n",
       "6   interaction item info                  1037404       GR  Neochori, Greece   \n",
       "7           clickout item                  3205422       GR  Neochori, Greece   \n",
       "\n",
       "   device current_filters                                        impressions  \\\n",
       "0  mobile             NaN  1037404|1312459|3205422|1740819|2565490|810746...   \n",
       "1  mobile             NaN  1037404|1312459|3205422|1740819|2565490|810746...   \n",
       "2  mobile             NaN                                                NaN   \n",
       "3  mobile             NaN                                                NaN   \n",
       "4  mobile             NaN                                                NaN   \n",
       "5  mobile             NaN                                                NaN   \n",
       "6  mobile             NaN                                                NaN   \n",
       "7  mobile             NaN  1312459|3205422|1740819|2565490|8107466|435461...   \n",
       "\n",
       "                                              prices  nfilters  \n",
       "0  65|50|50|100|70|70|72|52|35|85|80|65|65|125|45...       NaN  \n",
       "1  65|50|50|100|70|70|72|52|35|85|80|65|65|125|45...       NaN  \n",
       "2                                                NaN       NaN  \n",
       "3                                                NaN       NaN  \n",
       "4                                                NaN       NaN  \n",
       "5                                                NaN       NaN  \n",
       "6                                                NaN       NaN  \n",
       "7     50|50|100|70|70|72|52|65|85|65|125|80|65|45|50       NaN  "
      ]
     },
     "execution_count": 211,
     "metadata": {},
     "output_type": "execute_result"
    }
   ],
   "source": [
    "train_raw[train_raw.session_id==rid].reset_index(drop=True)"
   ]
  },
  {
   "cell_type": "code",
   "execution_count": 167,
   "metadata": {},
   "outputs": [
    {
     "data": {
      "text/plain": [
       "-7"
      ]
     },
     "execution_count": 167,
     "metadata": {},
     "output_type": "execute_result"
    }
   ],
   "source": [
    "1541231265 - 1541231272"
   ]
  },
  {
   "cell_type": "code",
   "execution_count": 141,
   "metadata": {},
   "outputs": [
    {
     "data": {
      "text/plain": [
       "10"
      ]
     },
     "execution_count": 141,
     "metadata": {},
     "output_type": "execute_result"
    }
   ],
   "source": [
    "len(set(train_raw.session_id.unique()).intersection(test.session_id.unique()))"
   ]
  },
  {
   "cell_type": "code",
   "execution_count": null,
   "metadata": {},
   "outputs": [],
   "source": []
  },
  {
   "cell_type": "code",
   "execution_count": null,
   "metadata": {},
   "outputs": [],
   "source": []
  },
  {
   "cell_type": "code",
   "execution_count": null,
   "metadata": {},
   "outputs": [],
   "source": []
  },
  {
   "cell_type": "code",
   "execution_count": null,
   "metadata": {},
   "outputs": [],
   "source": []
  },
  {
   "cell_type": "markdown",
   "metadata": {},
   "source": [
    "### current_filters"
   ]
  },
  {
   "cell_type": "code",
   "execution_count": null,
   "metadata": {},
   "outputs": [],
   "source": [
    "train_last.shape"
   ]
  },
  {
   "cell_type": "code",
   "execution_count": null,
   "metadata": {},
   "outputs": [],
   "source": [
    "filters_counts = train_last.current_filters.value_counts()"
   ]
  },
  {
   "cell_type": "code",
   "execution_count": null,
   "metadata": {},
   "outputs": [],
   "source": [
    "filters_counts.head()"
   ]
  },
  {
   "cell_type": "code",
   "execution_count": null,
   "metadata": {},
   "outputs": [],
   "source": [
    "train_last.current_filters.nunique()"
   ]
  },
  {
   "cell_type": "code",
   "execution_count": null,
   "metadata": {},
   "outputs": [],
   "source": [
    "train_last['cfs'] = train_last.current_filters.str.split('|')"
   ]
  },
  {
   "cell_type": "code",
   "execution_count": null,
   "metadata": {},
   "outputs": [],
   "source": [
    "all_cfs = train_last[train_last.cfs.notna()].cfs.values\n",
    "all_cfs = [j for i in all_cfs for j in i]"
   ]
  },
  {
   "cell_type": "code",
   "execution_count": null,
   "metadata": {},
   "outputs": [],
   "source": [
    "all_cfs_counts = pd.value_counts(all_cfs)\n",
    "all_cfs_counts.head()"
   ]
  },
  {
   "cell_type": "code",
   "execution_count": null,
   "metadata": {},
   "outputs": [],
   "source": [
    "pd.value_counts(all_cfs, normalize=True).cumsum().head(20)"
   ]
  },
  {
   "cell_type": "code",
   "execution_count": null,
   "metadata": {},
   "outputs": [],
   "source": [
    "all_cfs_counts.index[pd.DataFrame({'cfs': all_cfs_counts.index}).cfs.str.contains(r'[^(e)]sort', case=False)]"
   ]
  },
  {
   "cell_type": "code",
   "execution_count": null,
   "metadata": {},
   "outputs": [],
   "source": [
    "all_cfs_counts.hist(bins=20)"
   ]
  },
  {
   "cell_type": "code",
   "execution_count": null,
   "metadata": {},
   "outputs": [],
   "source": [
    "all_cfs_counts.shape"
   ]
  },
  {
   "cell_type": "code",
   "execution_count": null,
   "metadata": {},
   "outputs": [],
   "source": [
    "# all_cfs_counts.index.values"
   ]
  },
  {
   "cell_type": "code",
   "execution_count": null,
   "metadata": {},
   "outputs": [],
   "source": [
    "train_last.current_filters.isna().sum()"
   ]
  },
  {
   "cell_type": "code",
   "execution_count": null,
   "metadata": {},
   "outputs": [],
   "source": [
    "train_last.shape"
   ]
  },
  {
   "cell_type": "code",
   "execution_count": null,
   "metadata": {},
   "outputs": [],
   "source": [
    "655653/train_last.shape[0]"
   ]
  },
  {
   "cell_type": "code",
   "execution_count": null,
   "metadata": {},
   "outputs": [],
   "source": [
    "train_last['nimps'] = train_last.impressions.str.split('|').str.len()"
   ]
  },
  {
   "cell_type": "markdown",
   "metadata": {},
   "source": [
    "What is the length of the impressions for these with nan current_filters?"
   ]
  },
  {
   "cell_type": "code",
   "execution_count": null,
   "metadata": {},
   "outputs": [],
   "source": [
    "train_last.loc[train_last.current_filters.isna(), 'nimps'].value_counts(normalize=True).head()"
   ]
  },
  {
   "cell_type": "code",
   "execution_count": null,
   "metadata": {},
   "outputs": [],
   "source": [
    "train_last.nimps.value_counts(normalize=True).head()"
   ]
  },
  {
   "cell_type": "code",
   "execution_count": null,
   "metadata": {},
   "outputs": [],
   "source": [
    "train_last.loc[train_last.current_filters.notna(), 'nimps'].value_counts(normalize=True).head()"
   ]
  },
  {
   "cell_type": "markdown",
   "metadata": {},
   "source": [
    "What is the size of the session for these with nan current_filters?"
   ]
  },
  {
   "cell_type": "code",
   "execution_count": null,
   "metadata": {},
   "outputs": [],
   "source": [
    "train_last.loc[train_last.current_filters.isna(), 'session_size'].value_counts(normalize=True).head()"
   ]
  },
  {
   "cell_type": "code",
   "execution_count": null,
   "metadata": {},
   "outputs": [],
   "source": [
    "train_last.loc[train_last.current_filters.notna(), 'session_size'].value_counts(normalize=True).head()"
   ]
  },
  {
   "cell_type": "code",
   "execution_count": null,
   "metadata": {},
   "outputs": [],
   "source": [
    "train_last.session_size.value_counts(normalize=True).head()"
   ]
  },
  {
   "cell_type": "markdown",
   "metadata": {},
   "source": [
    "### Suppose we build extremly simple baseline"
   ]
  },
  {
   "cell_type": "code",
   "execution_count": null,
   "metadata": {},
   "outputs": [],
   "source": [
    "train_last['ncfs'] = train_last.cfs.str.len()"
   ]
  },
  {
   "cell_type": "code",
   "execution_count": null,
   "metadata": {},
   "outputs": [],
   "source": [
    "train_last['prices'] = train_last.prices.str.split('|')"
   ]
  },
  {
   "cell_type": "code",
   "execution_count": null,
   "metadata": {
    "scrolled": true
   },
   "outputs": [],
   "source": [
    "%%time\n",
    "train_last['prices'] = train_last.prices.apply(lambda x: np.pad(x, (0, 25-len(x)), mode='constant'))"
   ]
  },
  {
   "cell_type": "code",
   "execution_count": null,
   "metadata": {},
   "outputs": [],
   "source": [
    "%%time\n",
    "train_last['prices'] = train_last.prices.apply(lambda x: [int(p) for p in x])"
   ]
  },
  {
   "cell_type": "code",
   "execution_count": 8,
   "metadata": {},
   "outputs": [],
   "source": [
    "train_last['impressions'] = train_last['impressions'].str.split('|')\n",
    "train_last['impressions'] = train_last['impressions'].apply(lambda x: [int(i) for i in x])"
   ]
  },
  {
   "cell_type": "markdown",
   "metadata": {},
   "source": [
    "### shuffle the impressions (together with the prices)"
   ]
  },
  {
   "cell_type": "code",
   "execution_count": null,
   "metadata": {},
   "outputs": [],
   "source": [
    "# %%time\n",
    "# # add some shuffling\n",
    "# train_last['data'] = 'original'\n",
    "# train_last_shuffle = train_last[train_last.current_filters.isna()].reset_index(drop=True)\n",
    "# train_last_shuffle['data'] = 'shuffled'"
   ]
  },
  {
   "cell_type": "code",
   "execution_count": null,
   "metadata": {},
   "outputs": [],
   "source": [
    "# imps = train_last_shuffle['impressions'].values\n",
    "# prices = train_last_shuffle['prices'].values"
   ]
  },
  {
   "cell_type": "code",
   "execution_count": null,
   "metadata": {},
   "outputs": [],
   "source": [
    "# ind_shuffle = [np.arange(len(i), dtype=int) for i in imps]"
   ]
  },
  {
   "cell_type": "code",
   "execution_count": null,
   "metadata": {},
   "outputs": [],
   "source": [
    "# %%time\n",
    "# _ = [np.random.shuffle(i) for i in ind_shuffle]"
   ]
  },
  {
   "cell_type": "code",
   "execution_count": null,
   "metadata": {},
   "outputs": [],
   "source": [
    "# %%time\n",
    "# train_last_shuffle['impressions'] = [list(np.array(imps[i])[ind_shuffle[i]]) for i in range(len(train_last_shuffle))]"
   ]
  },
  {
   "cell_type": "code",
   "execution_count": null,
   "metadata": {},
   "outputs": [],
   "source": [
    "# %%time\n",
    "# train_last_shuffle['prices'] = [list(np.array(prices[i])[ind_shuffle[i]]) for i in range(len(train_last_shuffle))]"
   ]
  },
  {
   "cell_type": "code",
   "execution_count": null,
   "metadata": {},
   "outputs": [],
   "source": [
    "# # def shuffle_impressions(x):\n",
    "# #     x_cp = np.array(x)\n",
    "# #     np.random.shuffle(x_cp)\n",
    "# #     return list(x_cp)\n",
    "# # train_last_shuffle['impressions'] = train_last_shuffle['impressions'].apply(shuffle_impressions)\n",
    "# train_last = pd.concat([train_last, train_last_shuffle], axis=0, ignore_index=True)"
   ]
  },
  {
   "cell_type": "code",
   "execution_count": null,
   "metadata": {},
   "outputs": [],
   "source": [
    "# add country infomation\n",
    "train_last['country'] = train_last.city.str.split(',').str[1]"
   ]
  },
  {
   "cell_type": "code",
   "execution_count": 9,
   "metadata": {},
   "outputs": [
    {
     "name": "stdout",
     "output_type": "stream",
     "text": [
      "CPU times: user 22.1 s, sys: 10.7 ms, total: 22.1 s\n",
      "Wall time: 22.1 s\n"
     ]
    }
   ],
   "source": [
    "%%time\n",
    "# make target\n",
    "def make_target(x):\n",
    "    try:\n",
    "        return x.impressions.index(int(x.reference))\n",
    "    except Exception as e:\n",
    "        return 25\n",
    "train_last['target'] = train_last.apply(make_target, axis=1)"
   ]
  },
  {
   "cell_type": "code",
   "execution_count": 11,
   "metadata": {},
   "outputs": [],
   "source": [
    "# train_last.head()"
   ]
  },
  {
   "cell_type": "code",
   "execution_count": 29,
   "metadata": {
    "scrolled": true
   },
   "outputs": [],
   "source": [
    "# target distribution for different session size\n",
    "size_target = train_last.groupby('session_size')['target'].value_counts()\n",
    "# size_target.unstack(level=-1)"
   ]
  },
  {
   "cell_type": "code",
   "execution_count": 30,
   "metadata": {},
   "outputs": [],
   "source": [
    "def confusion_matrix(size_target, normalize='row', level=0, log_scale=False):\n",
    "    mat = size_target.unstack(level=level).fillna(0)    \n",
    "    if normalize == 'row':\n",
    "        row_sum = mat.sum(axis=1)\n",
    "        mat = mat.div(row_sum, axis=0)\n",
    "        log_scale = False\n",
    "    elif normalize == 'column':\n",
    "        col_sum = mat.sum(axis=0)\n",
    "        mat = mat.div(col_sum, axis=1)\n",
    "        log_scale = False\n",
    "    # plot\n",
    "    fig = plt.figure(figsize=(35,10))\n",
    "    ax = fig.add_subplot(111)\n",
    "    if log_scale:\n",
    "        cax = ax.matshow(np.log1p(mat), interpolation='nearest')#, cmap='coolwarm')#, aspect='auto')\n",
    "    else:\n",
    "        cax = ax.matshow(mat, interpolation='nearest')#, cmap='coolwarm')#, aspect='auto')\n",
    "    fig.colorbar(cax)\n",
    "    ax.set_xlabel(f'{mat.columns.name}')\n",
    "    ax.xaxis.set_label_position('top') \n",
    "    ax.set_ylabel(f'{mat.index.name}')\n",
    "    \n",
    "    ax.set_xticks(np.arange(mat.shape[1]))\n",
    "    ax.set_xticklabels(list(mat.columns.astype(str)), rotation=90)\n",
    "    ax.set_yticks(np.arange(mat.shape[0]))\n",
    "    _ = ax.set_yticklabels(list(mat.index.astype(str)))\n",
    "    return mat"
   ]
  },
  {
   "cell_type": "code",
   "execution_count": 31,
   "metadata": {},
   "outputs": [
    {
     "data": {
      "image/png": "[encoded data removed]",
      "text/plain": [
       "<Figure size 2520x720 with 2 Axes>"
      ]
     },
     "metadata": {
      "needs_background": "light"
     },
     "output_type": "display_data"
    }
   ],
   "source": [
    "_ = confusion_matrix(size_target, normalize='column', level=0)"
   ]
  },
  {
   "cell_type": "code",
   "execution_count": 33,
   "metadata": {},
   "outputs": [
    {
     "data": {
      "image/png": "[encoded data removed]",
      "text/plain": [
       "<Figure size 2520x720 with 2 Axes>"
      ]
     },
     "metadata": {
      "needs_background": "light"
     },
     "output_type": "display_data"
    }
   ],
   "source": [
    "_ = confusion_matrix(size_target, normalize='row', level=0)"
   ]
  },
  {
   "cell_type": "code",
   "execution_count": 40,
   "metadata": {},
   "outputs": [
    {
     "data": {
      "image/png": "[encoded data removed]",
      "text/plain": [
       "<Figure size 2520x720 with 2 Axes>"
      ]
     },
     "metadata": {
      "needs_background": "light"
     },
     "output_type": "display_data"
    }
   ],
   "source": [
    "_ = confusion_matrix(size_target, normalize=None, log_scale=True)"
   ]
  },
  {
   "cell_type": "markdown",
   "metadata": {},
   "source": [
    "---"
   ]
  },
  {
   "cell_type": "code",
   "execution_count": 32,
   "metadata": {},
   "outputs": [
    {
     "data": {
      "image/png": "[encoded data removed]",
      "text/plain": [
       "<Figure size 2520x720 with 2 Axes>"
      ]
     },
     "metadata": {
      "needs_background": "light"
     },
     "output_type": "display_data"
    }
   ],
   "source": [
    "_ = confusion_matrix(size_target, normalize='row', level=-1)"
   ]
  },
  {
   "cell_type": "code",
   "execution_count": 35,
   "metadata": {},
   "outputs": [
    {
     "data": {
      "image/png": "[encoded data removed]",
      "text/plain": [
       "<Figure size 2520x720 with 2 Axes>"
      ]
     },
     "metadata": {
      "needs_background": "light"
     },
     "output_type": "display_data"
    }
   ],
   "source": [
    "_ = confusion_matrix(size_target, normalize='column', level=-1)"
   ]
  },
  {
   "cell_type": "code",
   "execution_count": 41,
   "metadata": {},
   "outputs": [
    {
     "data": {
      "image/png": "[encoded data removed]",
      "text/plain": [
       "<Figure size 2520x720 with 2 Axes>"
      ]
     },
     "metadata": {
      "needs_background": "light"
     },
     "output_type": "display_data"
    }
   ],
   "source": [
    "_ = confusion_matrix(size_target, normalize=None, log_scale=True, level=-1)"
   ]
  },
  {
   "cell_type": "code",
   "execution_count": 38,
   "metadata": {},
   "outputs": [
    {
     "data": {
      "text/plain": [
       "(1586586, 12)"
      ]
     },
     "execution_count": 38,
     "metadata": {},
     "output_type": "execute_result"
    }
   ],
   "source": [
    "non_zero_target = train_last[train_last['target']!=0"
   ]
  },
  {
   "cell_type": "code",
   "execution_count": null,
   "metadata": {},
   "outputs": [],
   "source": []
  },
  {
   "cell_type": "code",
   "execution_count": null,
   "metadata": {},
   "outputs": [],
   "source": []
  },
  {
   "cell_type": "code",
   "execution_count": null,
   "metadata": {},
   "outputs": [],
   "source": []
  },
  {
   "cell_type": "code",
   "execution_count": null,
   "metadata": {},
   "outputs": [],
   "source": []
  },
  {
   "cell_type": "code",
   "execution_count": null,
   "metadata": {},
   "outputs": [],
   "source": []
  },
  {
   "cell_type": "code",
   "execution_count": null,
   "metadata": {},
   "outputs": [],
   "source": []
  },
  {
   "cell_type": "code",
   "execution_count": null,
   "metadata": {},
   "outputs": [],
   "source": []
  },
  {
   "cell_type": "code",
   "execution_count": null,
   "metadata": {},
   "outputs": [],
   "source": []
  },
  {
   "cell_type": "markdown",
   "metadata": {},
   "source": [
    "### Compare with popularity based"
   ]
  },
  {
   "cell_type": "code",
   "execution_count": null,
   "metadata": {},
   "outputs": [],
   "source": [
    "%%time\n",
    "# compute the popularity counts\n",
    "pop = train_last.groupby('reference').size().reset_index(name='ctn')\n",
    "pop.sort_values(by='ctn', ascending=True)\n",
    "pop['reference'] = pop.reference.astype(int)\n",
    "pop_map = dict(pop[['reference', 'ctn']].values)\n",
    "train_last['popularity'] = train_last.impressions.apply(lambda x: [pop_map[i] if i in pop_map.keys() else -1 for i in x ])\n",
    "del pop, pop_map\n",
    "train_last['ptarget'] = train_last.popularity.apply(lambda x: np.argmax(x))"
   ]
  },
  {
   "cell_type": "code",
   "execution_count": null,
   "metadata": {},
   "outputs": [],
   "source": [
    "%%time\n",
    "def assign_pop_target(x):\n",
    "    if x.target == 25:\n",
    "        return np.nan\n",
    "    else:\n",
    "        return 1/(np.argsort(x.popularity)[::-1][x.target]+1)\n",
    "train_last['popularity_rr'] = train_last.apply(assign_pop_target, axis=1) "
   ]
  },
  {
   "cell_type": "code",
   "execution_count": null,
   "metadata": {},
   "outputs": [],
   "source": [
    "train_last.popularity_rr.dropna().mean()"
   ]
  },
  {
   "cell_type": "code",
   "execution_count": null,
   "metadata": {},
   "outputs": [],
   "source": [
    "prr = train_last['popularity_rr']\n",
    "ptarget = train_last['ptarget']\n",
    "train_last = train_last.drop(['ptarget', 'popularity', 'popularity_rr'], axis=1)"
   ]
  },
  {
   "cell_type": "code",
   "execution_count": null,
   "metadata": {},
   "outputs": [],
   "source": [
    "train_last = train_last.drop(['user_id', 'action_type', 'current_filters', 'impressions', 'cfs'], axis=1)"
   ]
  },
  {
   "cell_type": "code",
   "execution_count": null,
   "metadata": {},
   "outputs": [],
   "source": [
    "train_last.head()"
   ]
  },
  {
   "cell_type": "code",
   "execution_count": null,
   "metadata": {},
   "outputs": [],
   "source": [
    "price_df = pd.DataFrame(train_last.prices.to_list(), columns=[f'price_{i}' for i in range(25)])"
   ]
  },
  {
   "cell_type": "code",
   "execution_count": null,
   "metadata": {},
   "outputs": [],
   "source": [
    "del train_last['prices']\n",
    "train_last = pd.concat([train_last, price_df], axis=1)"
   ]
  },
  {
   "cell_type": "code",
   "execution_count": null,
   "metadata": {},
   "outputs": [],
   "source": [
    "train_last.head()"
   ]
  },
  {
   "cell_type": "code",
   "execution_count": null,
   "metadata": {},
   "outputs": [],
   "source": [
    "from sklearn.model_selection import StratifiedKFold, KFold\n",
    "folds = StratifiedKFold(n_splits=5)"
   ]
  },
  {
   "cell_type": "code",
   "execution_count": null,
   "metadata": {},
   "outputs": [],
   "source": [
    "targets = train_last.target.values\n",
    "sids = train_last.session_id.values\n",
    "train_last = train_last.drop(['session_id', 'reference', 'target'], axis=1)"
   ]
  },
  {
   "cell_type": "code",
   "execution_count": null,
   "metadata": {},
   "outputs": [],
   "source": [
    "from utils import check_gpu\n",
    "device = 'GPU' if check_gpu() else 'CPU'\n",
    "params = {'iterations': 300,\n",
    "          'learning_rate': 0.03,\n",
    "          'depth': 10,\n",
    "          'task_type': device,\n",
    "          'loss_function': 'MultiClass',\n",
    "          'custom_metric': ['MultiClass', 'Accuracy'],\n",
    "          'eval_metric': 'MultiClass'}"
   ]
  },
  {
   "cell_type": "code",
   "execution_count": null,
   "metadata": {},
   "outputs": [],
   "source": [
    "train_last.head()"
   ]
  },
  {
   "cell_type": "code",
   "execution_count": null,
   "metadata": {},
   "outputs": [],
   "source": [
    "categorical_cols = ['platform', 'city', 'country', 'device']\n",
    "# del train_last['data']\n",
    "# # categorical_cols = ['platform', 'city', 'country','device', 'data']\n",
    "# categorical_ind = [k for k, v in enumerate(train_last.columns) if v in categorical_cols]"
   ]
  },
  {
   "cell_type": "code",
   "execution_count": null,
   "metadata": {},
   "outputs": [],
   "source": [
    "def post_processing(x, pred):\n",
    "    pp = np.zeros(26)\n",
    "    pp[0] = 1\n",
    "    pp_mask = x.nimps == 1\n",
    "    if sum(pp_mask) == 0:\n",
    "        print('no length 1s to post-process')\n",
    "    else:\n",
    "        print(f'{sum(pp_mask)} length 1s post-processed')\n",
    "        pred[pp_mask] = np.tile(pp, (sum(pp_mask), 1))\n",
    "    return pred\n",
    "\n",
    "def cal_mrr(pred, ytrue, raw=False):\n",
    "    rr = 1/(np.where(np.argsort(pred)[:, ::-1] == ytrue.reshape(-1, 1))[1] + 1)\n",
    "    if raw:\n",
    "        return rr\n",
    "    else:\n",
    "        return np.mean(rr)"
   ]
  },
  {
   "cell_type": "code",
   "execution_count": null,
   "metadata": {},
   "outputs": [],
   "source": [
    "train_last.head()"
   ]
  },
  {
   "cell_type": "code",
   "execution_count": null,
   "metadata": {
    "scrolled": false
   },
   "outputs": [],
   "source": [
    "for fold, (trn_ind, val_ind) in enumerate(folds.split(targets, targets)):\n",
    "    print(f'train len: {len(trn_ind):,} val len: {len(val_ind):,}')\n",
    "    x_trn, y_trn = train_last.iloc[trn_ind], targets[trn_ind]\n",
    "#     x_trn_shuffle, y_trn_shuffle = \n",
    "    x_val, y_val = train_last.iloc[val_ind], targets[val_ind]\n",
    "#     x_val = x_val[x_val.data=='original']\n",
    "#     y_val = y_val[x_val.data=='original']\n",
    "#     del train_last['data'], x_trn['data'], x_val['data']\n",
    "    \n",
    "    # categorical_cols = ['platform', 'city', 'country','device', 'data']\n",
    "    categorical_ind = [k for k, v in enumerate(train_last.columns) if v in categorical_cols]\n",
    "\n",
    "    # train model\n",
    "    clf = cat.CatBoostClassifier(**params)\n",
    "    clf.fit(x_trn.values, y_trn,\n",
    "            cat_features=categorical_ind,\n",
    "            eval_set=(x_val.values, y_val),\n",
    "            early_stopping_rounds=100,\n",
    "            verbose=10,\n",
    "            plot=True)\n",
    "    \n",
    "    trn_pred = clf.predict_proba(x_trn.values)\n",
    "    val_pred = clf.predict_proba(x_val.values)\n",
    "    \n",
    "    trn_mrr = cal_mrr(trn_pred, y_trn)\n",
    "    val_mrr = cal_mrr(val_pred, y_val)\n",
    "    print(f'train: {trn_mrr:.5f}, val: {val_mrr:.5f}')\n",
    "    \n",
    "    ptrn_mrr = cal_mrr(post_processing(x_trn, trn_pred), y_trn)\n",
    "    pval_mrr = cal_mrr(post_processing(x_val, val_pred), y_val)\n",
    "    print(f'train: {ptrn_mrr:.5f}, val: {pval_mrr:.5f}')\n",
    "    \n",
    "    break"
   ]
  },
  {
   "cell_type": "markdown",
   "metadata": {},
   "source": [
    "NOTE: \n",
    "1) with shuffling impressions for all records, the performance goes down a lot mrr ~0.31\n",
    "2) if only shuffle the ones where current filters are nan, we got the slightly better result ~0.38"
   ]
  },
  {
   "cell_type": "code",
   "execution_count": null,
   "metadata": {},
   "outputs": [],
   "source": [
    "from utils import plot_imp_cat\n",
    "# get feature importance\n",
    "trn_imp = clf.get_feature_importance(data=cat.Pool(data=x_trn, cat_features=categorical_ind),\n",
    "                                     prettified=True)\n",
    "plot_imp_cat(trn_imp, fold, mrr={'train': trn_mrr, 'val': val_mrr})"
   ]
  },
  {
   "cell_type": "code",
   "execution_count": null,
   "metadata": {},
   "outputs": [],
   "source": []
  },
  {
   "cell_type": "markdown",
   "metadata": {},
   "source": [
    "### look at the distribution of prediction"
   ]
  },
  {
   "cell_type": "code",
   "execution_count": null,
   "metadata": {},
   "outputs": [],
   "source": [
    "# plt.subplot(212)\n",
    "# equivalent but more general\n",
    "fig, ax = plt.subplots(nrows=1, ncols=2)\n",
    "fig.suptitle('Predictions') \n",
    "_ = ax[0].hist(np.argmax(trn_pred, axis=1), bins=10)\n",
    "_ = ax[1].hist(np.argmax(trn_pred, axis=1), bins=10, density=True)\n",
    "_ = ax[0].set_xlim(-0.1, 24)\n",
    "_ = ax[1].set_xlim(-0.1, 24)"
   ]
  },
  {
   "cell_type": "code",
   "execution_count": null,
   "metadata": {},
   "outputs": [],
   "source": [
    "# _ = plt.hist(np.argmax(trn_pred, axis=0), bins=100)"
   ]
  },
  {
   "cell_type": "code",
   "execution_count": null,
   "metadata": {},
   "outputs": [],
   "source": [
    "# y_trn\n",
    "# _ = plt.hist(y_trn, bins=100)\n",
    "fig, ax = plt.subplots(nrows=1, ncols=2)\n",
    "fig.suptitle('True label') \n",
    "_ = ax[0].hist(y_trn, bins=50)\n",
    "_ = ax[1].hist(y_trn, bins=50, density=True)\n",
    "_ = ax[0].set_xlim(-0.1, 24)\n",
    "_ =ax[1].set_xlim(-0.1, 24)"
   ]
  },
  {
   "cell_type": "code",
   "execution_count": null,
   "metadata": {},
   "outputs": [],
   "source": [
    "# # y_trn\n",
    "# # _ = plt.hist(y_trn, bins=100)\n",
    "# fig, ax = plt.subplots(nrows=1, ncols=2)\n",
    "# fig.suptitle('True label') \n",
    "# _ = ax[0].hist(y_val, bins=50)\n",
    "# _ = ax[1].hist(y_val, bins=50, density=True)\n",
    "# _ = ax[0].set_xlim(-0.1, 24)\n",
    "# _ =ax[1].set_xlim(-0.1, 24)"
   ]
  },
  {
   "cell_type": "markdown",
   "metadata": {},
   "source": [
    "also look at the predictions if we use popularity rank"
   ]
  },
  {
   "cell_type": "code",
   "execution_count": null,
   "metadata": {},
   "outputs": [],
   "source": [
    "# plt.subplot(212)\n",
    "# equivalent but more general\n",
    "fig, ax = plt.subplots(nrows=1, ncols=2)\n",
    "fig.suptitle('popurlarity based') \n",
    "_ = ax[0].hist(ptarget, bins=20)\n",
    "_ = ax[1].hist(ptarget, bins=20, density=True)\n",
    "_ = ax[0].set_xlim(-0.1, 24)\n",
    "_ = ax[1].set_xlim(-0.1, 24)"
   ]
  },
  {
   "cell_type": "code",
   "execution_count": null,
   "metadata": {},
   "outputs": [],
   "source": [
    "# validation prediction\n",
    "# _ = plt.hist(np.argmax(val_pred, axis=0), bins=100)"
   ]
  },
  {
   "cell_type": "code",
   "execution_count": null,
   "metadata": {},
   "outputs": [],
   "source": [
    "# # plt.subplot(212)\n",
    "# # equivalent but more general\n",
    "# fig, ax = plt.subplots(nrows=1, ncols=2)\n",
    "# _ = ax[0].hist(np.argmax(val_pred, axis=1), bins=10)\n",
    "# _ = ax[1].hist(np.argmax(val_pred, axis=1), bins=10, density=True)\n",
    "# _ = ax[0].set_xlim(-0.1, 24)\n",
    "# _ = ax[1].set_xlim(-0.1, 24)"
   ]
  },
  {
   "cell_type": "markdown",
   "metadata": {},
   "source": [
    "### look at instances where the prediction was off"
   ]
  },
  {
   "cell_type": "code",
   "execution_count": null,
   "metadata": {},
   "outputs": [],
   "source": [
    "trn_rr = cal_mrr(trn_pred, y_trn, raw=True)"
   ]
  },
  {
   "cell_type": "code",
   "execution_count": null,
   "metadata": {},
   "outputs": [],
   "source": [
    "x_trn['rr'] = trn_rr"
   ]
  },
  {
   "cell_type": "code",
   "execution_count": null,
   "metadata": {},
   "outputs": [],
   "source": [
    "x_trn['rr'].hist(bins=100)"
   ]
  },
  {
   "cell_type": "code",
   "execution_count": null,
   "metadata": {},
   "outputs": [],
   "source": [
    "x_trn['rr'].value_counts(normalize=True).sort_index().cumsum()*100"
   ]
  },
  {
   "cell_type": "code",
   "execution_count": null,
   "metadata": {},
   "outputs": [],
   "source": [
    "th = 0.25\n",
    "demo_ids = sids[trn_ind][x_trn.rr<th]"
   ]
  },
  {
   "cell_type": "code",
   "execution_count": null,
   "metadata": {},
   "outputs": [],
   "source": [
    "# randomly select an id\n",
    "rid = np.random.choice(demo_ids, 1)[0]\n",
    "rid"
   ]
  },
  {
   "cell_type": "code",
   "execution_count": null,
   "metadata": {},
   "outputs": [],
   "source": [
    "rid = np.random.choice(demo_ids, 1)[0]\n",
    "print(rid)\n",
    "print(np.argmax(trn_pred[np.where(sids[trn_ind]==rid)]), y_trn[np.where(sids[trn_ind]==rid)])\n",
    "train[train.session_id==rid].drop(['user_id', 'session_id'], axis=1).reset_index(drop=True)"
   ]
  },
  {
   "cell_type": "code",
   "execution_count": null,
   "metadata": {},
   "outputs": [],
   "source": [
    "# trn_pred[np.where(sids[trn_ind]==rid)]"
   ]
  },
  {
   "cell_type": "code",
   "execution_count": null,
   "metadata": {},
   "outputs": [],
   "source": [
    "# np.argmax(trn_pred[np.where(sids[trn_ind]==rid)])"
   ]
  },
  {
   "cell_type": "code",
   "execution_count": null,
   "metadata": {},
   "outputs": [],
   "source": [
    "y_trn[np.where(sids[trn_ind]==rid)]"
   ]
  },
  {
   "cell_type": "code",
   "execution_count": null,
   "metadata": {
    "scrolled": true
   },
   "outputs": [],
   "source": [
    "x_trn.iloc[np.where(sids[trn_ind]==rid)]"
   ]
  },
  {
   "cell_type": "code",
   "execution_count": null,
   "metadata": {},
   "outputs": [],
   "source": [
    "y_trn[np.where(sids[trn_ind]==rid)]"
   ]
  },
  {
   "cell_type": "code",
   "execution_count": null,
   "metadata": {},
   "outputs": [],
   "source": [
    "train[train.session_id==rid].impressions.iloc[0]"
   ]
  },
  {
   "cell_type": "code",
   "execution_count": null,
   "metadata": {},
   "outputs": [],
   "source": []
  }
 ],
 "metadata": {
  "kernelspec": {
   "display_name": "Python 3",
   "language": "python",
   "name": "python3"
  },
  "language_info": {
   "codemirror_mode": {
    "name": "ipython",
    "version": 3
   },
   "file_extension": ".py",
   "mimetype": "text/x-python",
   "name": "python",
   "nbconvert_exporter": "python",
   "pygments_lexer": "ipython3",
   "version": "3.6.8"
  }
 },
 "nbformat": 4,
 "nbformat_minor": 2
}
