{
 "cells": [
  {
   "cell_type": "code",
   "execution_count": 1,
   "metadata": {},
   "outputs": [],
   "source": [
    "from utils import load_data, check_gpu, check_dir\n",
    "from clean_session import preprocess_sessions\n",
    "import pandas as pd\n",
    "import numpy as np\n",
    "from tqdm import tqdm\n",
    "import gc\n",
    "import catboost as cat\n",
    "import matplotlib.pyplot as plt\n",
    "from clean_session import preprocess_sessions\n",
    "from manual_encoding import action_encoding, click_view_encoding, meta_encoding\n",
    "from hotel2vec import hotel2vec\n",
    "\n",
    "%matplotlib inline\n",
    "%load_ext autoreload\n",
    "%autoreload 2"
   ]
  },
  {
   "cell_type": "code",
   "execution_count": 2,
   "metadata": {},
   "outputs": [],
   "source": [
    "def plot_imp(data, fold_, plot_n=15):\n",
    "    check_dir('./imps')\n",
    "    imp = pd.DataFrame.from_records(data)\n",
    "    imp.to_csv(f'./imps/{fold_}.csv', index=False)\n",
    "    imp.columns = ['features', 'feature_importance']\n",
    "    imp_des = imp.sort_values(by='feature_importance', ascending=False)\n",
    "    imp_asc = imp.sort_values(by='feature_importance', ascending=True)\n",
    "\n",
    "    fig, axes = plt.subplots(figsize=(8, 8), nrows=2, ncols=1)\n",
    "    imp_des[:plot_n].plot(x='features', y='feature_importance', ax=axes[0], kind='barh', grid=True)\n",
    "    imp_asc[:plot_n].plot(x='features', y='feature_importance', ax=axes[1], kind='barh', grid=True)\n",
    "    plt.tight_layout()\n",
    "    fig.savefig('./imps/{}.png'.format(fold_))"
   ]
  },
  {
   "cell_type": "code",
   "execution_count": 3,
   "metadata": {},
   "outputs": [],
   "source": [
    "train = load_data('train')#, nrows=10000)"
   ]
  },
  {
   "cell_type": "code",
   "execution_count": 4,
   "metadata": {},
   "outputs": [
    {
     "name": "stdout",
     "output_type": "stream",
     "text": [
      "[>>>>>] Remove initial duplciates\n",
      "Before dropping duplicates df shape: (15932992, 12)\n",
      "After dropping duplicates df shape: (6683369, 12)\n",
      "[>>>>>][te=0.51 mins] Cliping session dataframe up to last click out (if there is clickout)\n",
      "[>>>>>][te=7.54 mins] filtering out sessions without clickouts, reference, or clickout is nan\n",
      "train length before filtering: 5,764,987\n",
      "train length after filtering: 5,200,153\n"
     ]
    }
   ],
   "source": [
    "train = preprocess_sessions(train, data_source='train', rd=True)"
   ]
  },
  {
   "cell_type": "code",
   "execution_count": 5,
   "metadata": {},
   "outputs": [],
   "source": [
    "train_last = train.groupby('session_id').last().reset_index()\n",
    "del train"
   ]
  },
  {
   "cell_type": "code",
   "execution_count": 6,
   "metadata": {},
   "outputs": [],
   "source": [
    "drop_cols = ['user_id', 'timestamp', 'current_filters']\n",
    "train_last = train_last.drop(drop_cols, axis=1)"
   ]
  },
  {
   "cell_type": "code",
   "execution_count": 7,
   "metadata": {},
   "outputs": [],
   "source": [
    "train_last['impressions'] = train_last.impressions.str.split('|')\n",
    "train_last['prices'] = train_last.prices.str.split('|')"
   ]
  },
  {
   "cell_type": "code",
   "execution_count": 8,
   "metadata": {},
   "outputs": [
    {
     "data": {
      "text/plain": [
       "session_id     0\n",
       "step           0\n",
       "action_type    0\n",
       "reference      0\n",
       "platform       0\n",
       "city           0\n",
       "device         0\n",
       "impressions    0\n",
       "prices         0\n",
       "dtype: int64"
      ]
     },
     "execution_count": 8,
     "metadata": {},
     "output_type": "execute_result"
    }
   ],
   "source": [
    "train_last.isna().sum()"
   ]
  },
  {
   "cell_type": "code",
   "execution_count": 9,
   "metadata": {},
   "outputs": [
    {
     "data": {
      "text/plain": [
       "(826842, 9)"
      ]
     },
     "execution_count": 9,
     "metadata": {},
     "output_type": "execute_result"
    }
   ],
   "source": [
    "train_last.shape"
   ]
  },
  {
   "cell_type": "code",
   "execution_count": 10,
   "metadata": {},
   "outputs": [
    {
     "data": {
      "text/plain": [
       "10850"
      ]
     },
     "execution_count": 10,
     "metadata": {},
     "output_type": "execute_result"
    }
   ],
   "source": [
    "434*25"
   ]
  },
  {
   "cell_type": "code",
   "execution_count": 11,
   "metadata": {},
   "outputs": [],
   "source": [
    "# train_last[[c for c in train_last.columns if c!= 'impressions']].values.shape"
   ]
  },
  {
   "cell_type": "code",
   "execution_count": 12,
   "metadata": {},
   "outputs": [],
   "source": [
    "# # train_last.impressions\n",
    "# vals = train_last.impressions.values.tolist()\n"
   ]
  },
  {
   "cell_type": "code",
   "execution_count": 13,
   "metadata": {},
   "outputs": [
    {
     "data": {
      "text/plain": [
       "59"
      ]
     },
     "execution_count": 13,
     "metadata": {},
     "output_type": "execute_result"
    }
   ],
   "source": [
    "def explode(df):\n",
    "    impressions = df['impressions'].values.tolist()\n",
    "    prices = df['prices'].values.tolist()\n",
    "    \n",
    "    rs = [len(r) for r in impressions]\n",
    "    # locations\n",
    "    inds = np.concatenate([np.arange(i, dtype=int) for i in rs])\n",
    "    # relative locations\n",
    "    rel_inds = np.concatenate([np.arange(i)/i for i in rs])\n",
    "\n",
    "    # the rest cols\n",
    "    rest_cols = [c for c in df.columns if c not in ['impressions', 'prices']]\n",
    "    rest_arr = np.repeat(df[rest_cols].values, rs, axis=0)\n",
    "    # create dataframe to host the exploded\n",
    "    exploded = pd.DataFrame(np.column_stack((rest_arr, np.concatenate(impressions), np.concatenate(prices))),\n",
    "                            columns=rest_cols+['impression', 'price'])\n",
    "    exploded['price'] = exploded['price'].astype(int)\n",
    "    exploded['impression_loc'] = inds\n",
    "    exploded['rel_impression_loc'] = rel_inds\n",
    "    exploded['impression'] = exploded['impression'].astype(int)\n",
    "    exploded['reference'] = exploded['reference'].astype(int)\n",
    "    exploded['step'] = exploded['step'].astype(int)\n",
    "\n",
    "    return exploded\n",
    "\n",
    "df = explode(train_last)\n",
    "del train_last\n",
    "gc.collect()"
   ]
  },
  {
   "cell_type": "code",
   "execution_count": 14,
   "metadata": {},
   "outputs": [
    {
     "data": {
      "text/html": [
       "<div>\n",
       "<style scoped>\n",
       "    .dataframe tbody tr th:only-of-type {\n",
       "        vertical-align: middle;\n",
       "    }\n",
       "\n",
       "    .dataframe tbody tr th {\n",
       "        vertical-align: top;\n",
       "    }\n",
       "\n",
       "    .dataframe thead th {\n",
       "        text-align: right;\n",
       "    }\n",
       "</style>\n",
       "<table border=\"1\" class=\"dataframe\">\n",
       "  <thead>\n",
       "    <tr style=\"text-align: right;\">\n",
       "      <th></th>\n",
       "      <th>session_id</th>\n",
       "      <th>step</th>\n",
       "      <th>action_type</th>\n",
       "      <th>reference</th>\n",
       "      <th>platform</th>\n",
       "      <th>city</th>\n",
       "      <th>device</th>\n",
       "      <th>impression</th>\n",
       "      <th>price</th>\n",
       "      <th>impression_loc</th>\n",
       "      <th>rel_impression_loc</th>\n",
       "    </tr>\n",
       "  </thead>\n",
       "  <tbody>\n",
       "    <tr>\n",
       "      <th>0</th>\n",
       "      <td>00000510f1adc</td>\n",
       "      <td>1</td>\n",
       "      <td>clickout item</td>\n",
       "      <td>7281198</td>\n",
       "      <td>IN</td>\n",
       "      <td>Ganpatipule, India</td>\n",
       "      <td>desktop</td>\n",
       "      <td>2661832</td>\n",
       "      <td>46</td>\n",
       "      <td>0</td>\n",
       "      <td>0.00</td>\n",
       "    </tr>\n",
       "    <tr>\n",
       "      <th>1</th>\n",
       "      <td>00000510f1adc</td>\n",
       "      <td>1</td>\n",
       "      <td>clickout item</td>\n",
       "      <td>7281198</td>\n",
       "      <td>IN</td>\n",
       "      <td>Ganpatipule, India</td>\n",
       "      <td>desktop</td>\n",
       "      <td>9222426</td>\n",
       "      <td>26</td>\n",
       "      <td>1</td>\n",
       "      <td>0.04</td>\n",
       "    </tr>\n",
       "    <tr>\n",
       "      <th>2</th>\n",
       "      <td>00000510f1adc</td>\n",
       "      <td>1</td>\n",
       "      <td>clickout item</td>\n",
       "      <td>7281198</td>\n",
       "      <td>IN</td>\n",
       "      <td>Ganpatipule, India</td>\n",
       "      <td>desktop</td>\n",
       "      <td>7051844</td>\n",
       "      <td>16</td>\n",
       "      <td>2</td>\n",
       "      <td>0.08</td>\n",
       "    </tr>\n",
       "    <tr>\n",
       "      <th>3</th>\n",
       "      <td>00000510f1adc</td>\n",
       "      <td>1</td>\n",
       "      <td>clickout item</td>\n",
       "      <td>7281198</td>\n",
       "      <td>IN</td>\n",
       "      <td>Ganpatipule, India</td>\n",
       "      <td>desktop</td>\n",
       "      <td>4079190</td>\n",
       "      <td>38</td>\n",
       "      <td>3</td>\n",
       "      <td>0.12</td>\n",
       "    </tr>\n",
       "    <tr>\n",
       "      <th>4</th>\n",
       "      <td>00000510f1adc</td>\n",
       "      <td>1</td>\n",
       "      <td>clickout item</td>\n",
       "      <td>7281198</td>\n",
       "      <td>IN</td>\n",
       "      <td>Ganpatipule, India</td>\n",
       "      <td>desktop</td>\n",
       "      <td>5752778</td>\n",
       "      <td>12</td>\n",
       "      <td>4</td>\n",
       "      <td>0.16</td>\n",
       "    </tr>\n",
       "  </tbody>\n",
       "</table>\n",
       "</div>"
      ],
      "text/plain": [
       "      session_id  step    action_type  reference platform                city  \\\n",
       "0  00000510f1adc     1  clickout item    7281198       IN  Ganpatipule, India   \n",
       "1  00000510f1adc     1  clickout item    7281198       IN  Ganpatipule, India   \n",
       "2  00000510f1adc     1  clickout item    7281198       IN  Ganpatipule, India   \n",
       "3  00000510f1adc     1  clickout item    7281198       IN  Ganpatipule, India   \n",
       "4  00000510f1adc     1  clickout item    7281198       IN  Ganpatipule, India   \n",
       "\n",
       "    device  impression  price  impression_loc  rel_impression_loc  \n",
       "0  desktop     2661832     46               0                0.00  \n",
       "1  desktop     9222426     26               1                0.04  \n",
       "2  desktop     7051844     16               2                0.08  \n",
       "3  desktop     4079190     38               3                0.12  \n",
       "4  desktop     5752778     12               4                0.16  "
      ]
     },
     "execution_count": 14,
     "metadata": {},
     "output_type": "execute_result"
    }
   ],
   "source": [
    "df.head()"
   ]
  },
  {
   "cell_type": "code",
   "execution_count": 15,
   "metadata": {
    "scrolled": true
   },
   "outputs": [
    {
     "name": "stdout",
     "output_type": "stream",
     "text": [
      "Load from exsiting file: ./cache/action_encodings.csv\n",
      "[>>>>>] Load the existing hotel2vec model from ./cache/hotel_2vec/embeddings.csv\n",
      "Load from exsiting file: ./cache/clickview_encodings.csv\n",
      "Load from exsiting file: ./cache/meta_encodings.csv\n"
     ]
    }
   ],
   "source": [
    "# 1) all the manual encodings\n",
    "ae = action_encoding()\n",
    "ae_cols = [c for c in ae.columns if c != 'reference']\n",
    "df = pd.merge(df.set_index('impression'), ae.set_index('reference'), left_index=True, right_index=True)\n",
    "df.index.name = 'impression'\n",
    "df.reset_index(inplace=True)\n",
    "\n",
    "# 2) the hotel2vec encodings\n",
    "hv = hotel2vec()\n",
    "hv_cols = [c for c in hv.columns if c != 'item_id']\n",
    "df = pd.merge(df.set_index('impression'), hv.set_index('item_id'), left_index=True, right_index=True)\n",
    "df.index.name = 'impression'\n",
    "df.reset_index(inplace=True)\n",
    "\n",
    "# 3) click view\n",
    "cv = click_view_encoding()\n",
    "cv_cols = [c for c in cv.columns if c != 'item_id']\n",
    "df = pd.merge(df.set_index('impression'), cv.set_index('item_id'), left_index=True, right_index=True)\n",
    "df.index.name = 'impression'\n",
    "df.reset_index(inplace=True)\n",
    "\n",
    "# 4) meta\n",
    "meta = meta_encoding()\n",
    "meta_cols = [c for c in meta.columns if c != 'item_id']\n",
    "df = pd.merge(df.set_index('impression'), meta.set_index('item_id'), left_index=True, right_index=True)\n",
    "df.index.name = 'impression'\n",
    "df.reset_index(inplace=True)\n",
    "\n",
    "# df.groupby('session_id')['price'].mean()"
   ]
  },
  {
   "cell_type": "code",
   "execution_count": 16,
   "metadata": {},
   "outputs": [],
   "source": [
    "grp = df.groupby('session_id')"
   ]
  },
  {
   "cell_type": "code",
   "execution_count": 17,
   "metadata": {},
   "outputs": [],
   "source": [
    "# hv_cols"
   ]
  },
  {
   "cell_type": "code",
   "execution_count": null,
   "metadata": {},
   "outputs": [],
   "source": []
  },
  {
   "cell_type": "code",
   "execution_count": 18,
   "metadata": {},
   "outputs": [],
   "source": [
    "def compute_diff(df, cols):\n",
    "    diff = (df.set_index('session_id')[cols] - grp[cols].mean()).reset_index(drop=True)\n",
    "    diff.columns = [f'{c}_diff' for c in diff.columns]\n",
    "    df = pd.concat([df, diff], axis=1)\n",
    "    return df\n",
    "\n",
    "df = compute_diff(df, ['price'])\n",
    "df = compute_diff(df, ae_cols)\n",
    "df = compute_diff(df, hv_cols)\n",
    "df = compute_diff(df, cv_cols)\n",
    "df = compute_diff(df, meta_cols)"
   ]
  },
  {
   "cell_type": "code",
   "execution_count": null,
   "metadata": {},
   "outputs": [
    {
     "data": {
      "text/plain": [
       "(16564452, 542)"
      ]
     },
     "execution_count": 19,
     "metadata": {},
     "output_type": "execute_result"
    }
   ],
   "source": [
    "df.shape"
   ]
  },
  {
   "cell_type": "code",
   "execution_count": null,
   "metadata": {},
   "outputs": [],
   "source": [
    "df.to_hdf()"
   ]
  },
  {
   "cell_type": "code",
   "execution_count": null,
   "metadata": {},
   "outputs": [
    {
     "data": {
      "text/html": [
       "<div>\n",
       "<style scoped>\n",
       "    .dataframe tbody tr th:only-of-type {\n",
       "        vertical-align: middle;\n",
       "    }\n",
       "\n",
       "    .dataframe tbody tr th {\n",
       "        vertical-align: top;\n",
       "    }\n",
       "\n",
       "    .dataframe thead th {\n",
       "        text-align: right;\n",
       "    }\n",
       "</style>\n",
       "<table border=\"1\" class=\"dataframe\">\n",
       "  <thead>\n",
       "    <tr style=\"text-align: right;\">\n",
       "      <th></th>\n",
       "      <th>impression</th>\n",
       "      <th>session_id</th>\n",
       "      <th>step</th>\n",
       "      <th>action_type</th>\n",
       "      <th>reference</th>\n",
       "      <th>platform</th>\n",
       "      <th>city</th>\n",
       "      <th>device</th>\n",
       "      <th>price</th>\n",
       "      <th>impression_loc</th>\n",
       "      <th>...</th>\n",
       "      <th>safe (hotel)_diff</th>\n",
       "      <th>satisfactory rating_diff</th>\n",
       "      <th>pousada (br)_diff</th>\n",
       "      <th>free wifi (rooms)_diff</th>\n",
       "      <th>guest house_diff</th>\n",
       "      <th>motel_diff</th>\n",
       "      <th>from 3 stars_diff</th>\n",
       "      <th>ironing board_diff</th>\n",
       "      <th>health retreat_diff</th>\n",
       "      <th>honeymoon_diff</th>\n",
       "    </tr>\n",
       "  </thead>\n",
       "  <tbody>\n",
       "    <tr>\n",
       "      <th>0</th>\n",
       "      <td>5001</td>\n",
       "      <td>001373bf276d0</td>\n",
       "      <td>3</td>\n",
       "      <td>clickout item</td>\n",
       "      <td>2296490</td>\n",
       "      <td>DE</td>\n",
       "      <td>Friedrichshafen, Germany</td>\n",
       "      <td>tablet</td>\n",
       "      <td>82</td>\n",
       "      <td>0</td>\n",
       "      <td>...</td>\n",
       "      <td>0.0</td>\n",
       "      <td>0.5</td>\n",
       "      <td>0.0</td>\n",
       "      <td>0.909091</td>\n",
       "      <td>-0.090909</td>\n",
       "      <td>0.0</td>\n",
       "      <td>0.863636</td>\n",
       "      <td>-0.045455</td>\n",
       "      <td>0.0</td>\n",
       "      <td>-0.090909</td>\n",
       "    </tr>\n",
       "    <tr>\n",
       "      <th>1</th>\n",
       "      <td>5001</td>\n",
       "      <td>02b8562f9c8c0</td>\n",
       "      <td>1</td>\n",
       "      <td>clickout item</td>\n",
       "      <td>140076</td>\n",
       "      <td>CH</td>\n",
       "      <td>Lindau, Germany</td>\n",
       "      <td>desktop</td>\n",
       "      <td>84</td>\n",
       "      <td>16</td>\n",
       "      <td>...</td>\n",
       "      <td>0.0</td>\n",
       "      <td>0.5</td>\n",
       "      <td>0.0</td>\n",
       "      <td>-0.090909</td>\n",
       "      <td>-0.090909</td>\n",
       "      <td>0.0</td>\n",
       "      <td>-0.136364</td>\n",
       "      <td>-0.045455</td>\n",
       "      <td>0.0</td>\n",
       "      <td>0.909091</td>\n",
       "    </tr>\n",
       "    <tr>\n",
       "      <th>2</th>\n",
       "      <td>5001</td>\n",
       "      <td>0340fb41c4d2e</td>\n",
       "      <td>2</td>\n",
       "      <td>clickout item</td>\n",
       "      <td>148486</td>\n",
       "      <td>DE</td>\n",
       "      <td>Friedrichshafen, Germany</td>\n",
       "      <td>tablet</td>\n",
       "      <td>103</td>\n",
       "      <td>2</td>\n",
       "      <td>...</td>\n",
       "      <td>0.0</td>\n",
       "      <td>0.5</td>\n",
       "      <td>0.0</td>\n",
       "      <td>-0.090909</td>\n",
       "      <td>-0.090909</td>\n",
       "      <td>0.0</td>\n",
       "      <td>-0.136364</td>\n",
       "      <td>-0.045455</td>\n",
       "      <td>0.0</td>\n",
       "      <td>0.909091</td>\n",
       "    </tr>\n",
       "    <tr>\n",
       "      <th>3</th>\n",
       "      <td>5001</td>\n",
       "      <td>0cb674014b4ea</td>\n",
       "      <td>1</td>\n",
       "      <td>clickout item</td>\n",
       "      <td>51598</td>\n",
       "      <td>DE</td>\n",
       "      <td>Friedrichshafen, Germany</td>\n",
       "      <td>desktop</td>\n",
       "      <td>93</td>\n",
       "      <td>8</td>\n",
       "      <td>...</td>\n",
       "      <td>0.0</td>\n",
       "      <td>-0.5</td>\n",
       "      <td>0.0</td>\n",
       "      <td>-0.090909</td>\n",
       "      <td>-0.090909</td>\n",
       "      <td>0.0</td>\n",
       "      <td>-0.136364</td>\n",
       "      <td>-0.045455</td>\n",
       "      <td>0.0</td>\n",
       "      <td>-0.090909</td>\n",
       "    </tr>\n",
       "    <tr>\n",
       "      <th>4</th>\n",
       "      <td>5001</td>\n",
       "      <td>0f4184661756c</td>\n",
       "      <td>3</td>\n",
       "      <td>clickout item</td>\n",
       "      <td>432041</td>\n",
       "      <td>DE</td>\n",
       "      <td>Friedrichshafen, Germany</td>\n",
       "      <td>mobile</td>\n",
       "      <td>94</td>\n",
       "      <td>18</td>\n",
       "      <td>...</td>\n",
       "      <td>0.0</td>\n",
       "      <td>0.5</td>\n",
       "      <td>0.0</td>\n",
       "      <td>-0.090909</td>\n",
       "      <td>0.909091</td>\n",
       "      <td>0.0</td>\n",
       "      <td>-0.136364</td>\n",
       "      <td>-0.045455</td>\n",
       "      <td>0.0</td>\n",
       "      <td>-0.090909</td>\n",
       "    </tr>\n",
       "  </tbody>\n",
       "</table>\n",
       "<p>5 rows × 542 columns</p>\n",
       "</div>"
      ],
      "text/plain": [
       "   impression     session_id  step    action_type  reference platform  \\\n",
       "0        5001  001373bf276d0     3  clickout item    2296490       DE   \n",
       "1        5001  02b8562f9c8c0     1  clickout item     140076       CH   \n",
       "2        5001  0340fb41c4d2e     2  clickout item     148486       DE   \n",
       "3        5001  0cb674014b4ea     1  clickout item      51598       DE   \n",
       "4        5001  0f4184661756c     3  clickout item     432041       DE   \n",
       "\n",
       "                       city   device  price  impression_loc  ...  \\\n",
       "0  Friedrichshafen, Germany   tablet     82               0  ...   \n",
       "1           Lindau, Germany  desktop     84              16  ...   \n",
       "2  Friedrichshafen, Germany   tablet    103               2  ...   \n",
       "3  Friedrichshafen, Germany  desktop     93               8  ...   \n",
       "4  Friedrichshafen, Germany   mobile     94              18  ...   \n",
       "\n",
       "   safe (hotel)_diff  satisfactory rating_diff  pousada (br)_diff  \\\n",
       "0                0.0                       0.5                0.0   \n",
       "1                0.0                       0.5                0.0   \n",
       "2                0.0                       0.5                0.0   \n",
       "3                0.0                      -0.5                0.0   \n",
       "4                0.0                       0.5                0.0   \n",
       "\n",
       "   free wifi (rooms)_diff  guest house_diff  motel_diff  from 3 stars_diff  \\\n",
       "0                0.909091         -0.090909         0.0           0.863636   \n",
       "1               -0.090909         -0.090909         0.0          -0.136364   \n",
       "2               -0.090909         -0.090909         0.0          -0.136364   \n",
       "3               -0.090909         -0.090909         0.0          -0.136364   \n",
       "4               -0.090909          0.909091         0.0          -0.136364   \n",
       "\n",
       "   ironing board_diff  health retreat_diff  honeymoon_diff  \n",
       "0           -0.045455                  0.0       -0.090909  \n",
       "1           -0.045455                  0.0        0.909091  \n",
       "2           -0.045455                  0.0        0.909091  \n",
       "3           -0.045455                  0.0       -0.090909  \n",
       "4           -0.045455                  0.0       -0.090909  \n",
       "\n",
       "[5 rows x 542 columns]"
      ]
     },
     "execution_count": 20,
     "metadata": {},
     "output_type": "execute_result"
    }
   ],
   "source": [
    "df.head()"
   ]
  },
  {
   "cell_type": "code",
   "execution_count": null,
   "metadata": {},
   "outputs": [],
   "source": [
    "# drop_cols = ['user_id', 'timestamp', 'current_filters']\n",
    "# df = df.drop(drop_cols, axis=1)"
   ]
  },
  {
   "cell_type": "code",
   "execution_count": null,
   "metadata": {},
   "outputs": [],
   "source": [
    "# create target\n",
    "df['target'] = (df.reference == df.impression).astype(int)\n",
    "del df['reference']"
   ]
  },
  {
   "cell_type": "code",
   "execution_count": null,
   "metadata": {},
   "outputs": [
    {
     "data": {
      "text/plain": [
       "0    15738285\n",
       "1      826167\n",
       "Name: target, dtype: int64"
      ]
     },
     "execution_count": 23,
     "metadata": {},
     "output_type": "execute_result"
    }
   ],
   "source": [
    "df['target'].value_counts()"
   ]
  },
  {
   "cell_type": "code",
   "execution_count": null,
   "metadata": {},
   "outputs": [
    {
     "data": {
      "text/plain": [
       "18.993087557603687"
      ]
     },
     "execution_count": 24,
     "metadata": {},
     "output_type": "execute_result"
    }
   ],
   "source": [
    "8243/434"
   ]
  },
  {
   "cell_type": "code",
   "execution_count": null,
   "metadata": {},
   "outputs": [],
   "source": [
    "df.isna().sum()[df.isna().sum()!=0]"
   ]
  },
  {
   "cell_type": "code",
   "execution_count": null,
   "metadata": {},
   "outputs": [],
   "source": [
    "# encode city, platform and device\n",
    "def categorize(df, cols):\n",
    "    for col in cols:\n",
    "        print('converting', col)\n",
    "        unique_values = df[col].unique()\n",
    "        mapping = {v: k for k, v in enumerate(unique_values)}\n",
    "        df[col] = df[col].map(mapping)\n",
    "cat_fts = ['city', 'platform', 'device', 'action_type', 'impression']\n",
    "categorize(df, cat_fts)"
   ]
  },
  {
   "cell_type": "code",
   "execution_count": null,
   "metadata": {},
   "outputs": [],
   "source": [
    "df.dtypes[df.dtypes=='O']"
   ]
  },
  {
   "cell_type": "code",
   "execution_count": null,
   "metadata": {},
   "outputs": [],
   "source": [
    "# split_per = 0.1\n",
    "from sklearn.model_selection import StratifiedKFold\n",
    "skf = StratifiedKFold(n_splits=5)\n",
    "\n",
    "sids = df.session_id.values\n",
    "target = df.target.values\n",
    "del df['target']# train['timestamp'], train['session_id']\n"
   ]
  },
  {
   "cell_type": "code",
   "execution_count": null,
   "metadata": {},
   "outputs": [],
   "source": [
    "device = 'GPU' if check_gpu() else 'CPU'\n",
    "params = {'iterations': 1000,\n",
    "          'learning_rate': 0.02,\n",
    "          'depth': 8,\n",
    "          'task_type': device,\n",
    "          'loss_function': 'MultiClass',\n",
    "          'eval_metric': 'Accuracy'}"
   ]
  },
  {
   "cell_type": "code",
   "execution_count": null,
   "metadata": {},
   "outputs": [],
   "source": [
    "for trn_ind, val_ind in skf.split(sids, sids):\n",
    "    trn_mask = df.session_id.isin(sids[trn_ind])\n",
    "    del df['session_id']\n",
    "    x_trn, x_val = df[trn_mask], df[~trn_mask]\n",
    "    y_trn, y_val = target[trn_mask], target[~trn_mask]\n",
    "    \n",
    "    categorical_ind = [k for k, v in enumerate(x_trn.columns) if v in cat_fts]\n",
    "    \n",
    "    # train model\n",
    "    clf = cat.CatBoostClassifier(**params)\n",
    "    clf.fit(x_trn.values, y_trn,\n",
    "            cat_features=categorical_ind,\n",
    "            eval_set=(x_val.values, y_val),\n",
    "            early_stopping_rounds=100,\n",
    "            verbose=100,\n",
    "            plot=False)\n",
    "    print('Done!')\n",
    "    print('Grab feature importance for both train and val')\n",
    "    # get feature importance\n",
    "    trn_imp = clf.get_feature_importance(data=cat.Pool(data=x_trn, cat_features=categorical_ind),\n",
    "                                         prettified=True)\n",
    "    val_imp = clf.get_feature_importance(data=cat.Pool(data=x_val, cat_features=categorical_ind),\n",
    "                                         prettified=True)\n",
    "    plot_imp(trn_imp, 'train')\n",
    "    plot_imp(val_imp, 'val')\n",
    "    print('Done feature imp')\n",
    "    break\n",
    "#     # make prediction on validation set\n",
    "#     val_pred = clf.predict_proba(xval.values)[:, 1]\n",
    "#     logloss_i = log_loss(y_val, val_pred)\n",
    "#     # compute roc auc\n",
    "#     fpr, tpr, thresholds = roc_curve(y_val, val_pred, pos_label=1)\n",
    "#     auc_i = auc(fpr, tpr)\n",
    "#     # compute map\n",
    "#     map_i = average_precision_score(y_val, val_pred)\n",
    "#     print('logloss={0:.4f} | map={1:.4f} | auc={2:.4f}'.format(logloss_i, map_i, auc_i))\n",
    "\n",
    "#     # mrr\n",
    "#     print('reciproical rank for validation set')\n",
    "#     xval['pred'] = val_pred\n",
    "#     xval['target'] = y_val\n",
    "#     val_rr = xval.groupby(level=0).apply(reciprocal_rank)\n",
    "#     mrr = (1/val_rr[val_rr != 0]).mean()\n",
    "#     print(f'Mean reciporical rank on validation set: {mrr:.4f}')\n"
   ]
  }
 ],
 "metadata": {
  "kernelspec": {
   "display_name": "Python 3",
   "language": "python",
   "name": "python3"
  },
  "language_info": {
   "codemirror_mode": {
    "name": "ipython",
    "version": 3
   },
   "file_extension": ".py",
   "mimetype": "text/x-python",
   "name": "python",
   "nbconvert_exporter": "python",
   "pygments_lexer": "ipython3",
   "version": "3.6.8"
  }
 },
 "nbformat": 4,
 "nbformat_minor": 2
}
