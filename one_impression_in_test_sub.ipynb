{
 "cells": [
  {
   "cell_type": "code",
   "execution_count": 1,
   "metadata": {},
   "outputs": [],
   "source": [
    "import time\n",
    "import pandas as pd\n",
    "import numpy as np\n",
    "import datetime\n",
    "import os\n",
    "import gc\n",
    "from functools import partial\n",
    "import matplotlib.pyplot as plt\n",
    "from utils import load_data, get_logger, get_data_path\n",
    "from clean_session import preprocess_sessions\n",
    "%matplotlib inline\n",
    "%load_ext autoreload\n",
    "%autoreload 2"
   ]
  },
  {
   "cell_type": "code",
   "execution_count": 7,
   "metadata": {},
   "outputs": [],
   "source": [
    "from create_model_inputs import compute_session_fts, prepare_data, flogger"
   ]
  },
  {
   "cell_type": "code",
   "execution_count": null,
   "metadata": {},
   "outputs": [],
   "source": [
    "logger = get_logger('create_model_inputs')\n",
    "Filepath = get_data_path()\n"
   ]
  },
  {
   "cell_type": "code",
   "execution_count": null,
   "metadata": {},
   "outputs": [],
   "source": [
    "mode='train'\n",
    "nrows=1000000\n",
    "logger.info(f'Prepare {mode} data')\n",
    "t_init = time.time()\n",
    "df = prepare_data(mode, convert_action_type=True, nrows=nrows, recompute=False)\n",
    "logger.info('Compute session features')"
   ]
  },
  {
   "cell_type": "code",
   "execution_count": null,
   "metadata": {},
   "outputs": [],
   "source": [
    "str_prices = np.concatenate(df.prices.dropna().str.split('|').values)\n",
    "str_prices = [int(sp) for sp in str_prices]\n",
    "# pd.value_counts(str_prices)\n",
    "_ = plt.hist(str_prices)"
   ]
  },
  {
   "cell_type": "code",
   "execution_count": null,
   "metadata": {},
   "outputs": [],
   "source": [
    "%%time\n",
    "df = compute_session_fts(df, mode)"
   ]
  },
  {
   "cell_type": "code",
   "execution_count": null,
   "metadata": {},
   "outputs": [],
   "source": [
    "str_prices = np.concatenate(df.prices.dropna().str.split('|').values)\n",
    "str_prices = [int(sp) for sp in str_prices]\n",
    "# pd.value_counts(str_prices)\n",
    "_ = plt.hist(str_prices)"
   ]
  },
  {
   "cell_type": "code",
   "execution_count": null,
   "metadata": {},
   "outputs": [],
   "source": [
    "logger.info('Only select last click-out from each session')\n",
    "df = df.groupby('session_id').last().reset_index()\n",
    "flogger(df, 'df shape after only selecting last click-out row each session')\n",
    "\n",
    "# # log-transform on session_size feature\n",
    "# logger.info('Log-transform on session_size feature')\n",
    "# df['session_id_size'] = np.log(df['session_id_size'])\n",
    "\n",
    "# # log1p-transform on timestamp_dwell_time_prior_clickout but will cliping upper to 1hr\n",
    "# logger.info('Also log-transform on timestamp_dwell_time_prior_clickout but will cliping upper to 1hr')\n",
    "# df['timestamp_dwell_time_prior_clickout'] = np.log1p(df['timestamp_dwell_time_prior_clickout'].clip(upper=60 ** 2))"
   ]
  },
  {
   "cell_type": "code",
   "execution_count": null,
   "metadata": {},
   "outputs": [],
   "source": [
    "str_prices = np.concatenate(df.prices.dropna().str.split('|').values)\n",
    "str_prices = [int(sp) for sp in str_prices]\n",
    "# pd.value_counts(str_prices)\n",
    "_ = plt.hist(str_prices)"
   ]
  },
  {
   "cell_type": "code",
   "execution_count": null,
   "metadata": {},
   "outputs": [],
   "source": [
    "df['prices'] = df['prices'].str.split('|')\n",
    "df['prices_int'] = df['prices'].apply(lambda x: [int(p) for p in x])"
   ]
  },
  {
   "cell_type": "code",
   "execution_count": null,
   "metadata": {},
   "outputs": [],
   "source": [
    "str_prices = np.concatenate(df.prices_int.dropna().values)\n",
    "# pd.value_counts(str_prices)\n",
    "_ = plt.hist(str_prices)"
   ]
  },
  {
   "cell_type": "code",
   "execution_count": null,
   "metadata": {},
   "outputs": [],
   "source": [
    "df['time_steps'] = df['prices_int'].str.len()\n",
    "padding_mask = df['time_steps'] < 25\n",
    "df.drop('time_steps', axis=1, inplace=True)"
   ]
  },
  {
   "cell_type": "code",
   "execution_count": null,
   "metadata": {},
   "outputs": [],
   "source": [
    "df.prices.head()"
   ]
  },
  {
   "cell_type": "code",
   "execution_count": null,
   "metadata": {},
   "outputs": [],
   "source": [
    "df.prices.iloc[0]"
   ]
  },
  {
   "cell_type": "code",
   "execution_count": null,
   "metadata": {},
   "outputs": [],
   "source": [
    "df[df.prices.str.len()<25].prices.iloc[0]"
   ]
  },
  {
   "cell_type": "code",
   "execution_count": null,
   "metadata": {},
   "outputs": [],
   "source": [
    "x = [int(i) for i in df[df.prices.str.len()<25].prices.iloc[0]]\n",
    "x"
   ]
  },
  {
   "cell_type": "code",
   "execution_count": null,
   "metadata": {},
   "outputs": [],
   "source": [
    "np.pad(x, (0, 25-len(x)), mode='constant', constant_values=0)"
   ]
  },
  {
   "cell_type": "code",
   "execution_count": null,
   "metadata": {},
   "outputs": [],
   "source": [
    "type(np.nan)"
   ]
  },
  {
   "cell_type": "code",
   "execution_count": null,
   "metadata": {},
   "outputs": [],
   "source": [
    "df.loc[padding_mask, 'prices_int'] = df.loc[padding_mask, 'prices_int'].apply(lambda x: np.pad(x, (0, 25-len(x)),\n",
    "                                                                                       mode='constant',\n",
    "                                                                                       constant_values=np.nan))"
   ]
  },
  {
   "cell_type": "code",
   "execution_count": null,
   "metadata": {},
   "outputs": [],
   "source": [
    "str_prices = np.concatenate(df.prices_int.dropna().values)\n",
    "# pd.value_counts(str_prices)\n",
    "_ = plt.hist(str_prices)"
   ]
  },
  {
   "cell_type": "code",
   "execution_count": null,
   "metadata": {},
   "outputs": [],
   "source": [
    "def normalize(ps):\n",
    "    p_arr = np.array(ps)\n",
    "    return p_arr / (p_arr.max())\n",
    "df['prices_percentage_int'] = df['prices'].apply(normalize)"
   ]
  },
  {
   "cell_type": "code",
   "execution_count": null,
   "metadata": {},
   "outputs": [],
   "source": []
  },
  {
   "cell_type": "code",
   "execution_count": null,
   "metadata": {},
   "outputs": [],
   "source": []
  },
  {
   "cell_type": "code",
   "execution_count": 4,
   "metadata": {},
   "outputs": [
    {
     "data": {
      "text/plain": [
       "3.0000000000000004"
      ]
     },
     "execution_count": 4,
     "metadata": {},
     "output_type": "execute_result"
    }
   ],
   "source": [
    "np.exp(np.log(3))"
   ]
  },
  {
   "cell_type": "code",
   "execution_count": null,
   "metadata": {},
   "outputs": [],
   "source": []
  },
  {
   "cell_type": "code",
   "execution_count": 2,
   "metadata": {},
   "outputs": [],
   "source": [
    "train = pd.read_parquet('./cache/train_inputs_no_imp.snappy')"
   ]
  },
  {
   "cell_type": "code",
   "execution_count": 3,
   "metadata": {},
   "outputs": [
    {
     "data": {
      "text/html": [
       "<div>\n",
       "<style scoped>\n",
       "    .dataframe tbody tr th:only-of-type {\n",
       "        vertical-align: middle;\n",
       "    }\n",
       "\n",
       "    .dataframe tbody tr th {\n",
       "        vertical-align: top;\n",
       "    }\n",
       "\n",
       "    .dataframe thead th {\n",
       "        text-align: right;\n",
       "    }\n",
       "</style>\n",
       "<table border=\"1\" class=\"dataframe\">\n",
       "  <thead>\n",
       "    <tr style=\"text-align: right;\">\n",
       "      <th></th>\n",
       "      <th>step</th>\n",
       "      <th>timestamp_session_duration</th>\n",
       "      <th>timestamp_dwell_time_prior_clickout</th>\n",
       "      <th>session_id_size</th>\n",
       "      <th>nf</th>\n",
       "      <th>price_0</th>\n",
       "      <th>price_1</th>\n",
       "      <th>price_2</th>\n",
       "      <th>price_3</th>\n",
       "      <th>price_4</th>\n",
       "      <th>...</th>\n",
       "      <th>price_19</th>\n",
       "      <th>price_20</th>\n",
       "      <th>price_21</th>\n",
       "      <th>price_22</th>\n",
       "      <th>price_23</th>\n",
       "      <th>price_24</th>\n",
       "      <th>n_imps</th>\n",
       "      <th>target</th>\n",
       "      <th>pos</th>\n",
       "      <th>at</th>\n",
       "    </tr>\n",
       "  </thead>\n",
       "  <tbody>\n",
       "    <tr>\n",
       "      <th>0</th>\n",
       "      <td>5</td>\n",
       "      <td>293.0</td>\n",
       "      <td>5.468060</td>\n",
       "      <td>1.609438</td>\n",
       "      <td>NaN</td>\n",
       "      <td>0.164444</td>\n",
       "      <td>0.195556</td>\n",
       "      <td>0.193333</td>\n",
       "      <td>0.160000</td>\n",
       "      <td>0.124444</td>\n",
       "      <td>...</td>\n",
       "      <td>0.195556</td>\n",
       "      <td>0.222222</td>\n",
       "      <td>0.246667</td>\n",
       "      <td>0.411111</td>\n",
       "      <td>0.160000</td>\n",
       "      <td>0.082222</td>\n",
       "      <td>25</td>\n",
       "      <td>0</td>\n",
       "      <td>0.04</td>\n",
       "      <td>2.0</td>\n",
       "    </tr>\n",
       "    <tr>\n",
       "      <th>1</th>\n",
       "      <td>3</td>\n",
       "      <td>1.0</td>\n",
       "      <td>0.693147</td>\n",
       "      <td>0.693147</td>\n",
       "      <td>NaN</td>\n",
       "      <td>0.327801</td>\n",
       "      <td>1.000000</td>\n",
       "      <td>0.398340</td>\n",
       "      <td>0.211618</td>\n",
       "      <td>0.282158</td>\n",
       "      <td>...</td>\n",
       "      <td>0.248963</td>\n",
       "      <td>0.319502</td>\n",
       "      <td>0.190871</td>\n",
       "      <td>0.568465</td>\n",
       "      <td>0.331950</td>\n",
       "      <td>0.248963</td>\n",
       "      <td>25</td>\n",
       "      <td>19</td>\n",
       "      <td>0.80</td>\n",
       "      <td>1.0</td>\n",
       "    </tr>\n",
       "    <tr>\n",
       "      <th>2</th>\n",
       "      <td>18</td>\n",
       "      <td>197.0</td>\n",
       "      <td>3.828641</td>\n",
       "      <td>1.945910</td>\n",
       "      <td>NaN</td>\n",
       "      <td>0.756494</td>\n",
       "      <td>0.313312</td>\n",
       "      <td>0.478896</td>\n",
       "      <td>0.537338</td>\n",
       "      <td>0.277597</td>\n",
       "      <td>...</td>\n",
       "      <td>0.548701</td>\n",
       "      <td>0.146104</td>\n",
       "      <td>0.068182</td>\n",
       "      <td>0.097403</td>\n",
       "      <td>0.068182</td>\n",
       "      <td>0.199675</td>\n",
       "      <td>25</td>\n",
       "      <td>18</td>\n",
       "      <td>0.68</td>\n",
       "      <td>1.0</td>\n",
       "    </tr>\n",
       "    <tr>\n",
       "      <th>3</th>\n",
       "      <td>6</td>\n",
       "      <td>149.0</td>\n",
       "      <td>3.044522</td>\n",
       "      <td>1.386294</td>\n",
       "      <td>NaN</td>\n",
       "      <td>NaN</td>\n",
       "      <td>NaN</td>\n",
       "      <td>NaN</td>\n",
       "      <td>NaN</td>\n",
       "      <td>NaN</td>\n",
       "      <td>...</td>\n",
       "      <td>NaN</td>\n",
       "      <td>NaN</td>\n",
       "      <td>NaN</td>\n",
       "      <td>NaN</td>\n",
       "      <td>NaN</td>\n",
       "      <td>NaN</td>\n",
       "      <td>14</td>\n",
       "      <td>13</td>\n",
       "      <td>0.52</td>\n",
       "      <td>1.0</td>\n",
       "    </tr>\n",
       "    <tr>\n",
       "      <th>4</th>\n",
       "      <td>1</td>\n",
       "      <td>NaN</td>\n",
       "      <td>NaN</td>\n",
       "      <td>0.000000</td>\n",
       "      <td>NaN</td>\n",
       "      <td>0.489899</td>\n",
       "      <td>0.510101</td>\n",
       "      <td>0.393939</td>\n",
       "      <td>0.378788</td>\n",
       "      <td>0.500000</td>\n",
       "      <td>...</td>\n",
       "      <td>0.580808</td>\n",
       "      <td>0.398990</td>\n",
       "      <td>1.000000</td>\n",
       "      <td>0.671717</td>\n",
       "      <td>0.570707</td>\n",
       "      <td>0.575758</td>\n",
       "      <td>25</td>\n",
       "      <td>0</td>\n",
       "      <td>NaN</td>\n",
       "      <td>NaN</td>\n",
       "    </tr>\n",
       "  </tbody>\n",
       "</table>\n",
       "<p>5 rows × 34 columns</p>\n",
       "</div>"
      ],
      "text/plain": [
       "   step  timestamp_session_duration  timestamp_dwell_time_prior_clickout  \\\n",
       "0     5                       293.0                             5.468060   \n",
       "1     3                         1.0                             0.693147   \n",
       "2    18                       197.0                             3.828641   \n",
       "3     6                       149.0                             3.044522   \n",
       "4     1                         NaN                                  NaN   \n",
       "\n",
       "   session_id_size  nf   price_0   price_1   price_2   price_3   price_4  ...  \\\n",
       "0         1.609438 NaN  0.164444  0.195556  0.193333  0.160000  0.124444  ...   \n",
       "1         0.693147 NaN  0.327801  1.000000  0.398340  0.211618  0.282158  ...   \n",
       "2         1.945910 NaN  0.756494  0.313312  0.478896  0.537338  0.277597  ...   \n",
       "3         1.386294 NaN       NaN       NaN       NaN       NaN       NaN  ...   \n",
       "4         0.000000 NaN  0.489899  0.510101  0.393939  0.378788  0.500000  ...   \n",
       "\n",
       "   price_19  price_20  price_21  price_22  price_23  price_24  n_imps  target  \\\n",
       "0  0.195556  0.222222  0.246667  0.411111  0.160000  0.082222      25       0   \n",
       "1  0.248963  0.319502  0.190871  0.568465  0.331950  0.248963      25      19   \n",
       "2  0.548701  0.146104  0.068182  0.097403  0.068182  0.199675      25      18   \n",
       "3       NaN       NaN       NaN       NaN       NaN       NaN      14      13   \n",
       "4  0.580808  0.398990  1.000000  0.671717  0.570707  0.575758      25       0   \n",
       "\n",
       "    pos   at  \n",
       "0  0.04  2.0  \n",
       "1  0.80  1.0  \n",
       "2  0.68  1.0  \n",
       "3  0.52  1.0  \n",
       "4   NaN  NaN  \n",
       "\n",
       "[5 rows x 34 columns]"
      ]
     },
     "execution_count": 3,
     "metadata": {},
     "output_type": "execute_result"
    }
   ],
   "source": [
    "train.head()"
   ]
  },
  {
   "cell_type": "code",
   "execution_count": 5,
   "metadata": {},
   "outputs": [],
   "source": [
    "train['session_id_size'] = np.exp(train['session_id_size'])"
   ]
  },
  {
   "cell_type": "code",
   "execution_count": 7,
   "metadata": {},
   "outputs": [
    {
     "data": {
      "text/plain": [
       "session_id_size  target\n",
       "1.0              0         7051\n",
       "                 1         1203\n",
       "                 2          703\n",
       "                 3          539\n",
       "                 4          493\n",
       "                 5          361\n",
       "                 6          263\n",
       "                 7          253\n",
       "                 8          229\n",
       "                 9          211\n",
       "                 10         207\n",
       "                 11         176\n",
       "                 12         153\n",
       "                 13         137\n",
       "                 17         116\n",
       "                 14         112\n",
       "                 15         102\n",
       "                 18          99\n",
       "                 19          97\n",
       "                 24          86\n",
       "                 16          84\n",
       "                 23          83\n",
       "                 20          66\n",
       "                 22          62\n",
       "                 21          57\n",
       "2.0              0         4227\n",
       "                 1         1024\n",
       "                 2          674\n",
       "                 3          531\n",
       "                 4          443\n",
       "                           ... \n",
       "134.0            20           1\n",
       "137.0            7            1\n",
       "138.0            2            1\n",
       "140.0            0            1\n",
       "141.0            11           1\n",
       "142.0            0            1\n",
       "                 10           1\n",
       "143.0            6            1\n",
       "144.0            4            1\n",
       "147.0            7            1\n",
       "                 10           1\n",
       "148.0            5            1\n",
       "149.0            0            1\n",
       "150.0            0            1\n",
       "                 19           1\n",
       "153.0            2            1\n",
       "                 7            1\n",
       "157.0            14           1\n",
       "158.0            5            1\n",
       "                 23           1\n",
       "159.0            6            1\n",
       "160.0            0            1\n",
       "174.0            21           1\n",
       "178.0            2            1\n",
       "182.0            10           1\n",
       "183.0            4            1\n",
       "195.0            0            1\n",
       "199.0            0            1\n",
       "215.0            9            1\n",
       "326.0            19           1\n",
       "Name: target, Length: 1457, dtype: int64"
      ]
     },
     "execution_count": 7,
     "metadata": {},
     "output_type": "execute_result"
    }
   ],
   "source": [
    "train.groupby('session_id_size')['target'].value_counts()"
   ]
  },
  {
   "cell_type": "code",
   "execution_count": null,
   "metadata": {},
   "outputs": [],
   "source": []
  },
  {
   "cell_type": "code",
   "execution_count": null,
   "metadata": {},
   "outputs": [],
   "source": []
  },
  {
   "cell_type": "code",
   "execution_count": 2,
   "metadata": {},
   "outputs": [],
   "source": [
    "# test data\n",
    "test = pd.read_csv('./data/test.csv')"
   ]
  },
  {
   "cell_type": "code",
   "execution_count": 3,
   "metadata": {},
   "outputs": [],
   "source": [
    "subs = pd.read_csv('./data/submission_popular.csv')"
   ]
  },
  {
   "cell_type": "code",
   "execution_count": 4,
   "metadata": {},
   "outputs": [],
   "source": [
    "test_sub = test[test.session_id.isin(subs.session_id.unique())].reset_index(drop=True)"
   ]
  },
  {
   "cell_type": "code",
   "execution_count": 5,
   "metadata": {},
   "outputs": [],
   "source": [
    "last = test_sub.groupby('session_id').last().reset_index()"
   ]
  },
  {
   "cell_type": "code",
   "execution_count": 6,
   "metadata": {
    "scrolled": true
   },
   "outputs": [],
   "source": [
    "# test_sub.platform.value_counts()"
   ]
  },
  {
   "cell_type": "code",
   "execution_count": 7,
   "metadata": {},
   "outputs": [
    {
     "data": {
      "text/html": [
       "<div>\n",
       "<style scoped>\n",
       "    .dataframe tbody tr th:only-of-type {\n",
       "        vertical-align: middle;\n",
       "    }\n",
       "\n",
       "    .dataframe tbody tr th {\n",
       "        vertical-align: top;\n",
       "    }\n",
       "\n",
       "    .dataframe thead th {\n",
       "        text-align: right;\n",
       "    }\n",
       "</style>\n",
       "<table border=\"1\" class=\"dataframe\">\n",
       "  <thead>\n",
       "    <tr style=\"text-align: right;\">\n",
       "      <th></th>\n",
       "      <th>session_id</th>\n",
       "      <th>user_id</th>\n",
       "      <th>timestamp</th>\n",
       "      <th>step</th>\n",
       "      <th>action_type</th>\n",
       "      <th>reference</th>\n",
       "      <th>platform</th>\n",
       "      <th>city</th>\n",
       "      <th>device</th>\n",
       "      <th>current_filters</th>\n",
       "      <th>impressions</th>\n",
       "      <th>prices</th>\n",
       "    </tr>\n",
       "  </thead>\n",
       "  <tbody>\n",
       "    <tr>\n",
       "      <th>0</th>\n",
       "      <td>0000059a39020</td>\n",
       "      <td>P2L70S1Y60IF</td>\n",
       "      <td>1541719950</td>\n",
       "      <td>1</td>\n",
       "      <td>clickout item</td>\n",
       "      <td>NaN</td>\n",
       "      <td>JP</td>\n",
       "      <td>Sapporo, Japan</td>\n",
       "      <td>mobile</td>\n",
       "      <td>NaN</td>\n",
       "      <td>2251200|924581|4775012|10090928|2282660|895299...</td>\n",
       "      <td>54|42|64|51|62|42|61|54|53|56|54|53|57|59|44|4...</td>\n",
       "    </tr>\n",
       "    <tr>\n",
       "      <th>1</th>\n",
       "      <td>0000b9394297b</td>\n",
       "      <td>SKDEGHT3I151</td>\n",
       "      <td>1541606244</td>\n",
       "      <td>2</td>\n",
       "      <td>clickout item</td>\n",
       "      <td>Sassi di Matera</td>\n",
       "      <td>AR</td>\n",
       "      <td>Matera, Italy</td>\n",
       "      <td>mobile</td>\n",
       "      <td>NaN</td>\n",
       "      <td>1044228|5670638|5875672|6033244|7917004|507857...</td>\n",
       "      <td>242|193|288|180|196|129|155|232|245|191|188|17...</td>\n",
       "    </tr>\n",
       "    <tr>\n",
       "      <th>2</th>\n",
       "      <td>0001650138d30</td>\n",
       "      <td>V3SQM6X57BNX</td>\n",
       "      <td>1541614783</td>\n",
       "      <td>1</td>\n",
       "      <td>clickout item</td>\n",
       "      <td>NaN</td>\n",
       "      <td>CA</td>\n",
       "      <td>Banff, Canada</td>\n",
       "      <td>mobile</td>\n",
       "      <td>NaN</td>\n",
       "      <td>44394|44103|44247|44155|43972|44292|44404|4449...</td>\n",
       "      <td>259|220|99|210|283|252|152|192|179|213|199|175...</td>\n",
       "    </tr>\n",
       "    <tr>\n",
       "      <th>3</th>\n",
       "      <td>000177b850519</td>\n",
       "      <td>13UA01X5MOHZ</td>\n",
       "      <td>1541574580</td>\n",
       "      <td>4</td>\n",
       "      <td>clickout item</td>\n",
       "      <td>17011</td>\n",
       "      <td>TR</td>\n",
       "      <td>Rome, Italy</td>\n",
       "      <td>desktop</td>\n",
       "      <td>NaN</td>\n",
       "      <td>17011|16122|17403|17040|17266|17295|17535|1757...</td>\n",
       "      <td>875|726|216|396|263|174|182|264|327|265|364|27...</td>\n",
       "    </tr>\n",
       "    <tr>\n",
       "      <th>4</th>\n",
       "      <td>00017b3b2c136</td>\n",
       "      <td>K0LALBSISIAC</td>\n",
       "      <td>1541565393</td>\n",
       "      <td>11</td>\n",
       "      <td>clickout item</td>\n",
       "      <td>6698142</td>\n",
       "      <td>CO</td>\n",
       "      <td>Piedecuesta, Colombia</td>\n",
       "      <td>mobile</td>\n",
       "      <td>NaN</td>\n",
       "      <td>5723818|4341718|6298194|6698142|7952264|285957...</td>\n",
       "      <td>46|89|21|14|59|74|37|33|30|46|17|77|12|37|44|3...</td>\n",
       "    </tr>\n",
       "  </tbody>\n",
       "</table>\n",
       "</div>"
      ],
      "text/plain": [
       "      session_id       user_id   timestamp  step    action_type  \\\n",
       "0  0000059a39020  P2L70S1Y60IF  1541719950     1  clickout item   \n",
       "1  0000b9394297b  SKDEGHT3I151  1541606244     2  clickout item   \n",
       "2  0001650138d30  V3SQM6X57BNX  1541614783     1  clickout item   \n",
       "3  000177b850519  13UA01X5MOHZ  1541574580     4  clickout item   \n",
       "4  00017b3b2c136  K0LALBSISIAC  1541565393    11  clickout item   \n",
       "\n",
       "         reference platform                   city   device current_filters  \\\n",
       "0              NaN       JP         Sapporo, Japan   mobile             NaN   \n",
       "1  Sassi di Matera       AR          Matera, Italy   mobile             NaN   \n",
       "2              NaN       CA          Banff, Canada   mobile             NaN   \n",
       "3            17011       TR            Rome, Italy  desktop             NaN   \n",
       "4          6698142       CO  Piedecuesta, Colombia   mobile             NaN   \n",
       "\n",
       "                                         impressions  \\\n",
       "0  2251200|924581|4775012|10090928|2282660|895299...   \n",
       "1  1044228|5670638|5875672|6033244|7917004|507857...   \n",
       "2  44394|44103|44247|44155|43972|44292|44404|4449...   \n",
       "3  17011|16122|17403|17040|17266|17295|17535|1757...   \n",
       "4  5723818|4341718|6298194|6698142|7952264|285957...   \n",
       "\n",
       "                                              prices  \n",
       "0  54|42|64|51|62|42|61|54|53|56|54|53|57|59|44|4...  \n",
       "1  242|193|288|180|196|129|155|232|245|191|188|17...  \n",
       "2  259|220|99|210|283|252|152|192|179|213|199|175...  \n",
       "3  875|726|216|396|263|174|182|264|327|265|364|27...  \n",
       "4  46|89|21|14|59|74|37|33|30|46|17|77|12|37|44|3...  "
      ]
     },
     "execution_count": 7,
     "metadata": {},
     "output_type": "execute_result"
    }
   ],
   "source": [
    "last.head()"
   ]
  },
  {
   "cell_type": "code",
   "execution_count": 8,
   "metadata": {},
   "outputs": [],
   "source": [
    "last['imps'] = last.impressions.str.split('|')"
   ]
  },
  {
   "cell_type": "code",
   "execution_count": 9,
   "metadata": {},
   "outputs": [],
   "source": [
    "last['nimp'] = last.imps.str.len()"
   ]
  },
  {
   "cell_type": "code",
   "execution_count": 10,
   "metadata": {},
   "outputs": [
    {
     "data": {
      "text/plain": [
       "0.34151901030472487"
      ]
     },
     "execution_count": 10,
     "metadata": {},
     "output_type": "execute_result"
    }
   ],
   "source": [
    "866/last.shape[0]*100"
   ]
  },
  {
   "cell_type": "code",
   "execution_count": 11,
   "metadata": {},
   "outputs": [],
   "source": [
    "test_pred = pd.read_csv('./subs/lgb_sub_05-23.csv')"
   ]
  },
  {
   "cell_type": "code",
   "execution_count": 12,
   "metadata": {},
   "outputs": [],
   "source": [
    "result = test_pred[test_pred.session_id.isin(last[last.nimp==1].session_id.unique())].reset_index(drop=True)"
   ]
  },
  {
   "cell_type": "code",
   "execution_count": 13,
   "metadata": {},
   "outputs": [],
   "source": [
    "first = [i[0] for i in result.item_recommendations.str.split().tolist()]"
   ]
  },
  {
   "cell_type": "code",
   "execution_count": 14,
   "metadata": {},
   "outputs": [],
   "source": [
    "result['f'] = first"
   ]
  },
  {
   "cell_type": "code",
   "execution_count": 15,
   "metadata": {},
   "outputs": [],
   "source": [
    "merged = pd.merge(result, last[['session_id', 'impressions']], on='session_id')"
   ]
  },
  {
   "cell_type": "code",
   "execution_count": 16,
   "metadata": {},
   "outputs": [
    {
     "data": {
      "text/html": [
       "<div>\n",
       "<style scoped>\n",
       "    .dataframe tbody tr th:only-of-type {\n",
       "        vertical-align: middle;\n",
       "    }\n",
       "\n",
       "    .dataframe tbody tr th {\n",
       "        vertical-align: top;\n",
       "    }\n",
       "\n",
       "    .dataframe thead th {\n",
       "        text-align: right;\n",
       "    }\n",
       "</style>\n",
       "<table border=\"1\" class=\"dataframe\">\n",
       "  <thead>\n",
       "    <tr style=\"text-align: right;\">\n",
       "      <th></th>\n",
       "      <th>user_id</th>\n",
       "      <th>session_id</th>\n",
       "      <th>timestamp</th>\n",
       "      <th>step</th>\n",
       "      <th>item_recommendations</th>\n",
       "      <th>f</th>\n",
       "      <th>impressions</th>\n",
       "    </tr>\n",
       "  </thead>\n",
       "  <tbody>\n",
       "    <tr>\n",
       "      <th>0</th>\n",
       "      <td>62CY1P9C44KR</td>\n",
       "      <td>002d39b5d542a</td>\n",
       "      <td>1541609027</td>\n",
       "      <td>8</td>\n",
       "      <td>2195066 0 0 0 0 0 0 0 0 0 0 0 0 0 0 0 0 0 0 0 ...</td>\n",
       "      <td>2195066</td>\n",
       "      <td>2195066</td>\n",
       "    </tr>\n",
       "    <tr>\n",
       "      <th>1</th>\n",
       "      <td>TAUTLI293H5K</td>\n",
       "      <td>0056bf7fbecdb</td>\n",
       "      <td>1541619327</td>\n",
       "      <td>1</td>\n",
       "      <td>972673 0 0 0 0 0 0 0 0 0 0 0 0 0 0 0 0 0 0 0 0...</td>\n",
       "      <td>972673</td>\n",
       "      <td>972673</td>\n",
       "    </tr>\n",
       "    <tr>\n",
       "      <th>2</th>\n",
       "      <td>7X92EQ2HHCXC</td>\n",
       "      <td>007946c8ff58a</td>\n",
       "      <td>1541554751</td>\n",
       "      <td>3</td>\n",
       "      <td>2717657 0 0 0 0 0 0 0 0 0 0 0 0 0 0 0 0 0 0 0 ...</td>\n",
       "      <td>2717657</td>\n",
       "      <td>2717657</td>\n",
       "    </tr>\n",
       "    <tr>\n",
       "      <th>3</th>\n",
       "      <td>E4EV8507MO7F</td>\n",
       "      <td>009a5cfefbb11</td>\n",
       "      <td>1541590580</td>\n",
       "      <td>7</td>\n",
       "      <td>3435244 0 0 0 0 0 0 0 0 0 0 0 0 0 0 0 0 0 0 0 ...</td>\n",
       "      <td>3435244</td>\n",
       "      <td>3435244</td>\n",
       "    </tr>\n",
       "    <tr>\n",
       "      <th>4</th>\n",
       "      <td>CZ0NUCK7YXTM</td>\n",
       "      <td>00c2ab1749758</td>\n",
       "      <td>1541611769</td>\n",
       "      <td>2</td>\n",
       "      <td>6475490 0 0 0 0 0 0 0 0 0 0 0 0 0 0 0 0 0 0 0 ...</td>\n",
       "      <td>6475490</td>\n",
       "      <td>6475490</td>\n",
       "    </tr>\n",
       "  </tbody>\n",
       "</table>\n",
       "</div>"
      ],
      "text/plain": [
       "        user_id     session_id   timestamp  step  \\\n",
       "0  62CY1P9C44KR  002d39b5d542a  1541609027     8   \n",
       "1  TAUTLI293H5K  0056bf7fbecdb  1541619327     1   \n",
       "2  7X92EQ2HHCXC  007946c8ff58a  1541554751     3   \n",
       "3  E4EV8507MO7F  009a5cfefbb11  1541590580     7   \n",
       "4  CZ0NUCK7YXTM  00c2ab1749758  1541611769     2   \n",
       "\n",
       "                                item_recommendations        f impressions  \n",
       "0  2195066 0 0 0 0 0 0 0 0 0 0 0 0 0 0 0 0 0 0 0 ...  2195066     2195066  \n",
       "1  972673 0 0 0 0 0 0 0 0 0 0 0 0 0 0 0 0 0 0 0 0...   972673      972673  \n",
       "2  2717657 0 0 0 0 0 0 0 0 0 0 0 0 0 0 0 0 0 0 0 ...  2717657     2717657  \n",
       "3  3435244 0 0 0 0 0 0 0 0 0 0 0 0 0 0 0 0 0 0 0 ...  3435244     3435244  \n",
       "4  6475490 0 0 0 0 0 0 0 0 0 0 0 0 0 0 0 0 0 0 0 ...  6475490     6475490  "
      ]
     },
     "execution_count": 16,
     "metadata": {},
     "output_type": "execute_result"
    }
   ],
   "source": [
    "merged.head()"
   ]
  },
  {
   "cell_type": "code",
   "execution_count": 17,
   "metadata": {},
   "outputs": [
    {
     "data": {
      "text/plain": [
       "0"
      ]
     },
     "execution_count": 17,
     "metadata": {},
     "output_type": "execute_result"
    }
   ],
   "source": [
    "(merged['f'] != merged.impressions).sum()"
   ]
  },
  {
   "cell_type": "code",
   "execution_count": 24,
   "metadata": {},
   "outputs": [
    {
     "data": {
      "text/plain": [
       "0"
      ]
     },
     "execution_count": 24,
     "metadata": {},
     "output_type": "execute_result"
    }
   ],
   "source": [
    "(merged.f == 0).sum()"
   ]
  },
  {
   "cell_type": "code",
   "execution_count": null,
   "metadata": {},
   "outputs": [],
   "source": []
  }
 ],
 "metadata": {
  "kernelspec": {
   "display_name": "Python 3",
   "language": "python",
   "name": "python3"
  },
  "language_info": {
   "codemirror_mode": {
    "name": "ipython",
    "version": 3
   },
   "file_extension": ".py",
   "mimetype": "text/x-python",
   "name": "python",
   "nbconvert_exporter": "python",
   "pygments_lexer": "ipython3",
   "version": "3.6.8"
  }
 },
 "nbformat": 4,
 "nbformat_minor": 2
}
