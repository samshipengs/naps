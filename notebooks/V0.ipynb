{
 "cells": [
  {
   "cell_type": "markdown",
   "metadata": {},
   "source": [
    "To dos: \n",
    "    \n",
    "    1) EDA on test see if it's similar with train\n",
    "    \n",
    "    2) FE add time compmenets according to different region e.g. day of week etc\n",
    "    \n",
    "    3) test impression list length\n",
    "\n",
    "Notes:\n",
    "\n",
    "    * total train shape: (15,932,992, 12)\n",
    "    * no action type and reference is nan in train"
   ]
  },
  {
   "cell_type": "code",
   "execution_count": 1,
   "metadata": {},
   "outputs": [],
   "source": [
    "import pandas as pd\n",
    "import numpy as np\n",
    "from utils import load_data"
   ]
  },
  {
   "cell_type": "code",
   "execution_count": 2,
   "metadata": {},
   "outputs": [
    {
     "name": "stdout",
     "output_type": "stream",
     "text": [
      "CPU times: user 1.16 s, sys: 90.1 ms, total: 1.25 s\n",
      "Wall time: 1.25 s\n"
     ]
    }
   ],
   "source": [
    "%%time\n",
    "train = load_data('train', nrows=int(1e6))\n",
    "# train = load_data('train', nrows=None)"
   ]
  },
  {
   "cell_type": "markdown",
   "metadata": {},
   "source": [
    "total train shape: (15,932,992, 12)"
   ]
  },
  {
   "cell_type": "code",
   "execution_count": 3,
   "metadata": {},
   "outputs": [
    {
     "data": {
      "text/plain": [
       "(1000000, 12)"
      ]
     },
     "execution_count": 3,
     "metadata": {},
     "output_type": "execute_result"
    }
   ],
   "source": [
    "train.shape"
   ]
  },
  {
   "cell_type": "code",
   "execution_count": 4,
   "metadata": {},
   "outputs": [],
   "source": [
    "ref_act_size = train.groupby(['reference', 'action_type']).size()\n",
    "dist = ref_act_size.groupby(level='action_type').value_counts()"
   ]
  },
  {
   "cell_type": "code",
   "execution_count": 5,
   "metadata": {
    "scrolled": true
   },
   "outputs": [],
   "source": [
    "# dist"
   ]
  },
  {
   "cell_type": "code",
   "execution_count": 6,
   "metadata": {},
   "outputs": [],
   "source": [
    "# dist.iloc[dist.index.get_level_values('action_type') == 'clickout item']"
   ]
  },
  {
   "cell_type": "code",
   "execution_count": 7,
   "metadata": {},
   "outputs": [],
   "source": [
    "# clickout_vc = train[train.action_type=='clickout item'].groupby('reference').size().value_counts()"
   ]
  },
  {
   "cell_type": "code",
   "execution_count": 57,
   "metadata": {},
   "outputs": [],
   "source": [
    "ref_act = train[['session_id', 'reference', 'action_type']].copy()\n",
    "ref_act = ref_act[~ref_act.reference.str.contains('[a-zA-Z]')].reset_index(drop=True)\n",
    "unique_actions = ref_act['action_type'].unique()\n",
    "action2natural = {v: k for k, v in enumerate(unique_actions)}\n",
    "action_names = list(action2natural.keys())\n",
    "actions = ref_act['action_type'].map(action2natural).values\n",
    "\n",
    "actions_ohe = pd.DataFrame(np.eye(len(unique_actions), dtype=int)[actions], columns=action_names)"
   ]
  },
  {
   "cell_type": "code",
   "execution_count": 58,
   "metadata": {},
   "outputs": [
    {
     "data": {
      "text/plain": [
       "{'interaction item image': 0,\n",
       " 'clickout item': 1,\n",
       " 'interaction item info': 2,\n",
       " 'interaction item deals': 3,\n",
       " 'interaction item rating': 4,\n",
       " 'search for item': 5}"
      ]
     },
     "execution_count": 58,
     "metadata": {},
     "output_type": "execute_result"
    }
   ],
   "source": [
    "action2natural"
   ]
  },
  {
   "cell_type": "code",
   "execution_count": 59,
   "metadata": {},
   "outputs": [],
   "source": [
    "ref_act = pd.concat([ref_act, actions_ohe], axis=1)"
   ]
  },
  {
   "cell_type": "code",
   "execution_count": 60,
   "metadata": {},
   "outputs": [
    {
     "data": {
      "text/html": [
       "<div>\n",
       "<style scoped>\n",
       "    .dataframe tbody tr th:only-of-type {\n",
       "        vertical-align: middle;\n",
       "    }\n",
       "\n",
       "    .dataframe tbody tr th {\n",
       "        vertical-align: top;\n",
       "    }\n",
       "\n",
       "    .dataframe thead th {\n",
       "        text-align: right;\n",
       "    }\n",
       "</style>\n",
       "<table border=\"1\" class=\"dataframe\">\n",
       "  <thead>\n",
       "    <tr style=\"text-align: right;\">\n",
       "      <th></th>\n",
       "      <th>session_id</th>\n",
       "      <th>reference</th>\n",
       "      <th>action_type</th>\n",
       "      <th>interaction item image</th>\n",
       "      <th>clickout item</th>\n",
       "      <th>interaction item info</th>\n",
       "      <th>interaction item deals</th>\n",
       "      <th>interaction item rating</th>\n",
       "      <th>search for item</th>\n",
       "    </tr>\n",
       "  </thead>\n",
       "  <tbody>\n",
       "    <tr>\n",
       "      <th>0</th>\n",
       "      <td>aff3928535f48</td>\n",
       "      <td>666856</td>\n",
       "      <td>interaction item image</td>\n",
       "      <td>1</td>\n",
       "      <td>0</td>\n",
       "      <td>0</td>\n",
       "      <td>0</td>\n",
       "      <td>0</td>\n",
       "      <td>0</td>\n",
       "    </tr>\n",
       "    <tr>\n",
       "      <th>1</th>\n",
       "      <td>aff3928535f48</td>\n",
       "      <td>666856</td>\n",
       "      <td>interaction item image</td>\n",
       "      <td>1</td>\n",
       "      <td>0</td>\n",
       "      <td>0</td>\n",
       "      <td>0</td>\n",
       "      <td>0</td>\n",
       "      <td>0</td>\n",
       "    </tr>\n",
       "    <tr>\n",
       "      <th>2</th>\n",
       "      <td>aff3928535f48</td>\n",
       "      <td>666856</td>\n",
       "      <td>interaction item image</td>\n",
       "      <td>1</td>\n",
       "      <td>0</td>\n",
       "      <td>0</td>\n",
       "      <td>0</td>\n",
       "      <td>0</td>\n",
       "      <td>0</td>\n",
       "    </tr>\n",
       "    <tr>\n",
       "      <th>3</th>\n",
       "      <td>aff3928535f48</td>\n",
       "      <td>109038</td>\n",
       "      <td>interaction item image</td>\n",
       "      <td>1</td>\n",
       "      <td>0</td>\n",
       "      <td>0</td>\n",
       "      <td>0</td>\n",
       "      <td>0</td>\n",
       "      <td>0</td>\n",
       "    </tr>\n",
       "    <tr>\n",
       "      <th>4</th>\n",
       "      <td>aff3928535f48</td>\n",
       "      <td>666856</td>\n",
       "      <td>interaction item image</td>\n",
       "      <td>1</td>\n",
       "      <td>0</td>\n",
       "      <td>0</td>\n",
       "      <td>0</td>\n",
       "      <td>0</td>\n",
       "      <td>0</td>\n",
       "    </tr>\n",
       "  </tbody>\n",
       "</table>\n",
       "</div>"
      ],
      "text/plain": [
       "      session_id reference             action_type  interaction item image  \\\n",
       "0  aff3928535f48    666856  interaction item image                       1   \n",
       "1  aff3928535f48    666856  interaction item image                       1   \n",
       "2  aff3928535f48    666856  interaction item image                       1   \n",
       "3  aff3928535f48    109038  interaction item image                       1   \n",
       "4  aff3928535f48    666856  interaction item image                       1   \n",
       "\n",
       "   clickout item  interaction item info  interaction item deals  \\\n",
       "0              0                      0                       0   \n",
       "1              0                      0                       0   \n",
       "2              0                      0                       0   \n",
       "3              0                      0                       0   \n",
       "4              0                      0                       0   \n",
       "\n",
       "   interaction item rating  search for item  \n",
       "0                        0                0  \n",
       "1                        0                0  \n",
       "2                        0                0  \n",
       "3                        0                0  \n",
       "4                        0                0  "
      ]
     },
     "execution_count": 60,
     "metadata": {},
     "output_type": "execute_result"
    }
   ],
   "source": [
    "ref_act.head()"
   ]
  },
  {
   "cell_type": "code",
   "execution_count": 61,
   "metadata": {},
   "outputs": [
    {
     "data": {
      "text/html": [
       "<div>\n",
       "<style scoped>\n",
       "    .dataframe tbody tr th:only-of-type {\n",
       "        vertical-align: middle;\n",
       "    }\n",
       "\n",
       "    .dataframe tbody tr th {\n",
       "        vertical-align: top;\n",
       "    }\n",
       "\n",
       "    .dataframe thead th {\n",
       "        text-align: right;\n",
       "    }\n",
       "</style>\n",
       "<table border=\"1\" class=\"dataframe\">\n",
       "  <thead>\n",
       "    <tr style=\"text-align: right;\">\n",
       "      <th></th>\n",
       "      <th>session_id</th>\n",
       "      <th>reference</th>\n",
       "      <th>action_type</th>\n",
       "      <th>interaction item image</th>\n",
       "      <th>clickout item</th>\n",
       "      <th>interaction item info</th>\n",
       "      <th>interaction item deals</th>\n",
       "      <th>interaction item rating</th>\n",
       "      <th>search for item</th>\n",
       "    </tr>\n",
       "  </thead>\n",
       "  <tbody>\n",
       "    <tr>\n",
       "      <th>772331</th>\n",
       "      <td>000263df674fa</td>\n",
       "      <td>8249</td>\n",
       "      <td>search for item</td>\n",
       "      <td>0</td>\n",
       "      <td>0</td>\n",
       "      <td>0</td>\n",
       "      <td>0</td>\n",
       "      <td>0</td>\n",
       "      <td>1</td>\n",
       "    </tr>\n",
       "    <tr>\n",
       "      <th>772332</th>\n",
       "      <td>000263df674fa</td>\n",
       "      <td>8249</td>\n",
       "      <td>clickout item</td>\n",
       "      <td>0</td>\n",
       "      <td>1</td>\n",
       "      <td>0</td>\n",
       "      <td>0</td>\n",
       "      <td>0</td>\n",
       "      <td>0</td>\n",
       "    </tr>\n",
       "    <tr>\n",
       "      <th>772333</th>\n",
       "      <td>000263df674fa</td>\n",
       "      <td>8249</td>\n",
       "      <td>clickout item</td>\n",
       "      <td>0</td>\n",
       "      <td>1</td>\n",
       "      <td>0</td>\n",
       "      <td>0</td>\n",
       "      <td>0</td>\n",
       "      <td>0</td>\n",
       "    </tr>\n",
       "  </tbody>\n",
       "</table>\n",
       "</div>"
      ],
      "text/plain": [
       "           session_id reference      action_type  interaction item image  \\\n",
       "772331  000263df674fa      8249  search for item                       0   \n",
       "772332  000263df674fa      8249    clickout item                       0   \n",
       "772333  000263df674fa      8249    clickout item                       0   \n",
       "\n",
       "        clickout item  interaction item info  interaction item deals  \\\n",
       "772331              0                      0                       0   \n",
       "772332              1                      0                       0   \n",
       "772333              1                      0                       0   \n",
       "\n",
       "        interaction item rating  search for item  \n",
       "772331                        0                1  \n",
       "772332                        0                0  \n",
       "772333                        0                0  "
      ]
     },
     "execution_count": 61,
     "metadata": {},
     "output_type": "execute_result"
    }
   ],
   "source": [
    "ref_act[ref_act.session_id=='000263df674fa']"
   ]
  },
  {
   "cell_type": "code",
   "execution_count": 62,
   "metadata": {},
   "outputs": [],
   "source": [
    "ref_act = ref_act.groupby(['session_id', 'reference', 'action_type']).sum().reset_index()\n",
    "del ref_act['session_id']"
   ]
  },
  {
   "cell_type": "code",
   "execution_count": 71,
   "metadata": {},
   "outputs": [
    {
     "name": "stdout",
     "output_type": "stream",
     "text": [
      "interaction item image\n",
      "0\n",
      "clickout item\n",
      "0\n",
      "interaction item info\n",
      "0\n",
      "interaction item deals\n",
      "0\n",
      "interaction item rating\n",
      "0\n",
      "search for item\n",
      "0\n"
     ]
    }
   ],
   "source": [
    "M = [2]*6\n",
    "s = []\n",
    "for k, c in enumerate(action_names):\n",
    "    print(c)\n",
    "    # Compute the global mean\n",
    "    mu = ref_act[c].mean()\n",
    "\n",
    "    # Compute the number of values and the mean of each group\n",
    "    agg = ref_act.groupby('reference')[c].agg(['count', 'mean'])\n",
    "    counts = agg['count']\n",
    "    mus = agg['mean']\n",
    "    # Compute the \"smoothed\" means\n",
    "    # smoothed = (n*mu + m*Mu)/(n+m)\n",
    "    smoothed = (counts*mus + M[k]*mu)/(counts + M[k])\n",
    "    s.append(smoothed.reset_index(name=c))\n",
    "    print(s[-1].duplicated().sum())\n",
    "#     ref_act[c] = ref_act['reference'].map(smoothed)\n",
    "    #     # Replace each value by the according smoothed mean\n",
    "#     return df[by].map(smooth)\n",
    "dfs = [df.set_index('reference') for df in s]\n",
    "encoding = pd.concat(dfs, axis=1).reset_index()\n"
   ]
  },
  {
   "cell_type": "code",
   "execution_count": 70,
   "metadata": {},
   "outputs": [
    {
     "data": {
      "text/html": [
       "<div>\n",
       "<style scoped>\n",
       "    .dataframe tbody tr th:only-of-type {\n",
       "        vertical-align: middle;\n",
       "    }\n",
       "\n",
       "    .dataframe tbody tr th {\n",
       "        vertical-align: top;\n",
       "    }\n",
       "\n",
       "    .dataframe thead th {\n",
       "        text-align: right;\n",
       "    }\n",
       "</style>\n",
       "<table border=\"1\" class=\"dataframe\">\n",
       "  <thead>\n",
       "    <tr style=\"text-align: right;\">\n",
       "      <th></th>\n",
       "      <th>reference</th>\n",
       "      <th>interaction item image</th>\n",
       "      <th>clickout item</th>\n",
       "      <th>interaction item info</th>\n",
       "      <th>interaction item deals</th>\n",
       "      <th>interaction item rating</th>\n",
       "      <th>search for item</th>\n",
       "    </tr>\n",
       "  </thead>\n",
       "  <tbody>\n",
       "    <tr>\n",
       "      <th>0</th>\n",
       "      <td>1000029</td>\n",
       "      <td>5.682097</td>\n",
       "      <td>0.360390</td>\n",
       "      <td>0.064675</td>\n",
       "      <td>0.044002</td>\n",
       "      <td>0.049567</td>\n",
       "      <td>0.035450</td>\n",
       "    </tr>\n",
       "    <tr>\n",
       "      <th>1</th>\n",
       "      <td>10000338</td>\n",
       "      <td>2.682097</td>\n",
       "      <td>0.360390</td>\n",
       "      <td>0.064675</td>\n",
       "      <td>0.044002</td>\n",
       "      <td>0.049567</td>\n",
       "      <td>0.368783</td>\n",
       "    </tr>\n",
       "    <tr>\n",
       "      <th>2</th>\n",
       "      <td>1000041</td>\n",
       "      <td>1.005786</td>\n",
       "      <td>0.510146</td>\n",
       "      <td>0.024253</td>\n",
       "      <td>0.016501</td>\n",
       "      <td>0.268587</td>\n",
       "      <td>0.138294</td>\n",
       "    </tr>\n",
       "    <tr>\n",
       "      <th>3</th>\n",
       "      <td>1000065</td>\n",
       "      <td>2.841048</td>\n",
       "      <td>0.513528</td>\n",
       "      <td>0.365671</td>\n",
       "      <td>0.022001</td>\n",
       "      <td>0.024783</td>\n",
       "      <td>0.017725</td>\n",
       "    </tr>\n",
       "    <tr>\n",
       "      <th>4</th>\n",
       "      <td>10000706</td>\n",
       "      <td>3.761573</td>\n",
       "      <td>0.270293</td>\n",
       "      <td>0.298507</td>\n",
       "      <td>0.033002</td>\n",
       "      <td>0.037175</td>\n",
       "      <td>0.026588</td>\n",
       "    </tr>\n",
       "  </tbody>\n",
       "</table>\n",
       "</div>"
      ],
      "text/plain": [
       "  reference  interaction item image  clickout item  interaction item info  \\\n",
       "0   1000029                5.682097       0.360390               0.064675   \n",
       "1  10000338                2.682097       0.360390               0.064675   \n",
       "2   1000041                1.005786       0.510146               0.024253   \n",
       "3   1000065                2.841048       0.513528               0.365671   \n",
       "4  10000706                3.761573       0.270293               0.298507   \n",
       "\n",
       "   interaction item deals  interaction item rating  search for item  \n",
       "0                0.044002                 0.049567         0.035450  \n",
       "1                0.044002                 0.049567         0.368783  \n",
       "2                0.016501                 0.268587         0.138294  \n",
       "3                0.022001                 0.024783         0.017725  \n",
       "4                0.033002                 0.037175         0.026588  "
      ]
     },
     "execution_count": 70,
     "metadata": {},
     "output_type": "execute_result"
    }
   ],
   "source": [
    "encoding.head()"
   ]
  },
  {
   "cell_type": "markdown",
   "metadata": {},
   "source": [
    "clicked vs viewed"
   ]
  },
  {
   "cell_type": "code",
   "execution_count": 33,
   "metadata": {
    "scrolled": true
   },
   "outputs": [],
   "source": [
    "ref_imp = train.loc[train.action_type=='clickout item', ['reference', 'impressions']].reset_index(drop=True)\n",
    "ref_imp = ref_imp[~ref_imp.reference.str.contains('[a-zA-Z]')].reset_index(drop=True)\n",
    "# ref_imp = ref_imp[ref_imp]"
   ]
  },
  {
   "cell_type": "code",
   "execution_count": 34,
   "metadata": {
    "scrolled": true
   },
   "outputs": [],
   "source": [
    "ref_imp['impressions'] = ref_imp['impressions'].str.split('|')"
   ]
  },
  {
   "cell_type": "code",
   "execution_count": 35,
   "metadata": {},
   "outputs": [
    {
     "name": "stdout",
     "output_type": "stream",
     "text": [
      "CPU times: user 3.03 s, sys: 12.2 ms, total: 3.04 s\n",
      "Wall time: 3.04 s\n"
     ]
    }
   ],
   "source": [
    "%%time\n",
    "ref_imp['impressions'] = ref_imp.apply(lambda row: list(set(row.impressions) - set([row.reference])), axis=1)"
   ]
  },
  {
   "cell_type": "code",
   "execution_count": 36,
   "metadata": {},
   "outputs": [
    {
     "data": {
      "text/html": [
       "<div>\n",
       "<style scoped>\n",
       "    .dataframe tbody tr th:only-of-type {\n",
       "        vertical-align: middle;\n",
       "    }\n",
       "\n",
       "    .dataframe tbody tr th {\n",
       "        vertical-align: top;\n",
       "    }\n",
       "\n",
       "    .dataframe thead th {\n",
       "        text-align: right;\n",
       "    }\n",
       "</style>\n",
       "<table border=\"1\" class=\"dataframe\">\n",
       "  <thead>\n",
       "    <tr style=\"text-align: right;\">\n",
       "      <th></th>\n",
       "      <th>reference</th>\n",
       "      <th>impressions</th>\n",
       "    </tr>\n",
       "  </thead>\n",
       "  <tbody>\n",
       "    <tr>\n",
       "      <th>0</th>\n",
       "      <td>109038</td>\n",
       "      <td>[109013, 1041528, 5100540, 6806806, 129343, 39...</td>\n",
       "    </tr>\n",
       "    <tr>\n",
       "      <th>1</th>\n",
       "      <td>1257342</td>\n",
       "      <td>[2050977, 1031578, 54824, 1332971, 129343, 390...</td>\n",
       "    </tr>\n",
       "    <tr>\n",
       "      <th>2</th>\n",
       "      <td>2795374</td>\n",
       "      <td>[107162, 1088390, 148884, 1258068, 3370484, 38...</td>\n",
       "    </tr>\n",
       "    <tr>\n",
       "      <th>3</th>\n",
       "      <td>1032816</td>\n",
       "      <td>[46363, 47410, 18425, 819616, 927627, 98737, 1...</td>\n",
       "    </tr>\n",
       "    <tr>\n",
       "      <th>4</th>\n",
       "      <td>1032816</td>\n",
       "      <td>[46363, 47410, 18425, 819616, 927627, 98737, 1...</td>\n",
       "    </tr>\n",
       "  </tbody>\n",
       "</table>\n",
       "</div>"
      ],
      "text/plain": [
       "  reference                                        impressions\n",
       "0    109038  [109013, 1041528, 5100540, 6806806, 129343, 39...\n",
       "1   1257342  [2050977, 1031578, 54824, 1332971, 129343, 390...\n",
       "2   2795374  [107162, 1088390, 148884, 1258068, 3370484, 38...\n",
       "3   1032816  [46363, 47410, 18425, 819616, 927627, 98737, 1...\n",
       "4   1032816  [46363, 47410, 18425, 819616, 927627, 98737, 1..."
      ]
     },
     "execution_count": 36,
     "metadata": {},
     "output_type": "execute_result"
    }
   ],
   "source": [
    "ref_imp.head()"
   ]
  },
  {
   "cell_type": "code",
   "execution_count": 37,
   "metadata": {},
   "outputs": [],
   "source": [
    "imps = ref_imp.impressions.values\n",
    "imps = [j for i in imps for j in i]\n",
    "click_imp = pd.concat([pd.Series([0]*len(imps), index=imps), \n",
    "                       pd.Series([1]*len(ref_imp), index=ref_imp.reference.values)])\n",
    "click_imp.index.name = 'item_id'\n",
    "click_imp = pd.DataFrame(click_imp, columns=['clicked']).reset_index()"
   ]
  },
  {
   "cell_type": "code",
   "execution_count": 73,
   "metadata": {
    "scrolled": true
   },
   "outputs": [
    {
     "data": {
      "text/html": [
       "<div>\n",
       "<style scoped>\n",
       "    .dataframe tbody tr th:only-of-type {\n",
       "        vertical-align: middle;\n",
       "    }\n",
       "\n",
       "    .dataframe tbody tr th {\n",
       "        vertical-align: top;\n",
       "    }\n",
       "\n",
       "    .dataframe thead th {\n",
       "        text-align: right;\n",
       "    }\n",
       "</style>\n",
       "<table border=\"1\" class=\"dataframe\">\n",
       "  <thead>\n",
       "    <tr style=\"text-align: right;\">\n",
       "      <th></th>\n",
       "      <th>item_id</th>\n",
       "      <th>clicked</th>\n",
       "    </tr>\n",
       "  </thead>\n",
       "  <tbody>\n",
       "    <tr>\n",
       "      <th>0</th>\n",
       "      <td>109013</td>\n",
       "      <td>0.065219</td>\n",
       "    </tr>\n",
       "    <tr>\n",
       "      <th>1</th>\n",
       "      <td>1041528</td>\n",
       "      <td>0.090739</td>\n",
       "    </tr>\n",
       "    <tr>\n",
       "      <th>2</th>\n",
       "      <td>5100540</td>\n",
       "      <td>0.104350</td>\n",
       "    </tr>\n",
       "    <tr>\n",
       "      <th>3</th>\n",
       "      <td>6806806</td>\n",
       "      <td>0.004350</td>\n",
       "    </tr>\n",
       "    <tr>\n",
       "      <th>4</th>\n",
       "      <td>129343</td>\n",
       "      <td>0.090584</td>\n",
       "    </tr>\n",
       "  </tbody>\n",
       "</table>\n",
       "</div>"
      ],
      "text/plain": [
       "   item_id   clicked\n",
       "0   109013  0.065219\n",
       "1  1041528  0.090739\n",
       "2  5100540  0.104350\n",
       "3  6806806  0.004350\n",
       "4   129343  0.090584"
      ]
     },
     "execution_count": 73,
     "metadata": {},
     "output_type": "execute_result"
    }
   ],
   "source": [
    "click_imp.head()"
   ]
  },
  {
   "cell_type": "code",
   "execution_count": 39,
   "metadata": {},
   "outputs": [],
   "source": [
    "mu = click_imp['clicked'].mean()\n",
    "m = 2\n",
    "agg = click_imp.groupby('item_id')['clicked'].agg(['count', 'mean'])\n",
    "count = agg['count']\n",
    "mus = agg['mean']\n",
    "smoothed = (count*mus + m*mu)/(count + m)\n",
    "click_imp['clicked'] = click_imp['item_id'].map(smoothed)"
   ]
  },
  {
   "cell_type": "code",
   "execution_count": 40,
   "metadata": {},
   "outputs": [
    {
     "data": {
      "text/html": [
       "<div>\n",
       "<style scoped>\n",
       "    .dataframe tbody tr th:only-of-type {\n",
       "        vertical-align: middle;\n",
       "    }\n",
       "\n",
       "    .dataframe tbody tr th {\n",
       "        vertical-align: top;\n",
       "    }\n",
       "\n",
       "    .dataframe thead th {\n",
       "        text-align: right;\n",
       "    }\n",
       "</style>\n",
       "<table border=\"1\" class=\"dataframe\">\n",
       "  <thead>\n",
       "    <tr style=\"text-align: right;\">\n",
       "      <th></th>\n",
       "      <th>item_id</th>\n",
       "      <th>clicked</th>\n",
       "    </tr>\n",
       "  </thead>\n",
       "  <tbody>\n",
       "    <tr>\n",
       "      <th>0</th>\n",
       "      <td>109013</td>\n",
       "      <td>0.065219</td>\n",
       "    </tr>\n",
       "    <tr>\n",
       "      <th>1</th>\n",
       "      <td>1041528</td>\n",
       "      <td>0.090739</td>\n",
       "    </tr>\n",
       "    <tr>\n",
       "      <th>2</th>\n",
       "      <td>5100540</td>\n",
       "      <td>0.104350</td>\n",
       "    </tr>\n",
       "    <tr>\n",
       "      <th>3</th>\n",
       "      <td>6806806</td>\n",
       "      <td>0.004350</td>\n",
       "    </tr>\n",
       "    <tr>\n",
       "      <th>4</th>\n",
       "      <td>129343</td>\n",
       "      <td>0.090584</td>\n",
       "    </tr>\n",
       "  </tbody>\n",
       "</table>\n",
       "</div>"
      ],
      "text/plain": [
       "   item_id   clicked\n",
       "0   109013  0.065219\n",
       "1  1041528  0.090739\n",
       "2  5100540  0.104350\n",
       "3  6806806  0.004350\n",
       "4   129343  0.090584"
      ]
     },
     "execution_count": 40,
     "metadata": {},
     "output_type": "execute_result"
    }
   ],
   "source": [
    "click_imp.head()"
   ]
  },
  {
   "cell_type": "code",
   "execution_count": 41,
   "metadata": {},
   "outputs": [
    {
     "data": {
      "text/plain": [
       "1954912"
      ]
     },
     "execution_count": 41,
     "metadata": {},
     "output_type": "execute_result"
    }
   ],
   "source": [
    "click_imp.duplicated().sum()"
   ]
  },
  {
   "cell_type": "code",
   "execution_count": 45,
   "metadata": {},
   "outputs": [
    {
     "data": {
      "text/plain": [
       "0"
      ]
     },
     "execution_count": 45,
     "metadata": {},
     "output_type": "execute_result"
    }
   ],
   "source": [
    "smoothed.reset_index(name='clicked').duplicated().sum()"
   ]
  },
  {
   "cell_type": "code",
   "execution_count": null,
   "metadata": {},
   "outputs": [],
   "source": []
  }
 ],
 "metadata": {
  "kernelspec": {
   "display_name": "Python 3",
   "language": "python",
   "name": "python3"
  },
  "language_info": {
   "codemirror_mode": {
    "name": "ipython",
    "version": 3
   },
   "file_extension": ".py",
   "mimetype": "text/x-python",
   "name": "python",
   "nbconvert_exporter": "python",
   "pygments_lexer": "ipython3",
   "version": "3.6.8"
  }
 },
 "nbformat": 4,
 "nbformat_minor": 2
}
