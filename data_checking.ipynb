{
 "cells": [
  {
   "cell_type": "code",
   "execution_count": 1,
   "metadata": {},
   "outputs": [],
   "source": [
    "from utils import load_data, check_gpu, check_dir\n",
    "\n",
    "import pandas as pd\n",
    "import numpy as np\n",
    "from tqdm import tqdm\n",
    "import gc\n",
    "from utils import meta_encoding\n",
    "from functools import partial\n",
    "import matplotlib.pyplot as plt\n",
    "from scipy.stats import rankdata\n",
    "import datetime\n",
    "import lightgbm as lgb\n",
    "pd.options.display.max_colwidth = 1000\n",
    "pd.options.display.max_columns = 1000\n",
    "\n",
    "%matplotlib inline\n",
    "%load_ext autoreload\n",
    "%autoreload 2\n",
    "def fprint(df, name):\n",
    "    print(f'{name} shape: ({df.shape[0]:,}, {df.shape[1]})')\n",
    "import pprint\n",
    "pp = pprint.PrettyPrinter(indent=1)"
   ]
  },
  {
   "cell_type": "code",
   "execution_count": 2,
   "metadata": {},
   "outputs": [
    {
     "name": "stderr",
     "output_type": "stream",
     "text": [
      "[15|22:32:20|utils              :114|load_data                |INFO] Loading train using 5,000,000 rows (4,999,976 trimmed) which is 31.38% out of total train data\n"
     ]
    }
   ],
   "source": [
    "train_raw = load_data('train', nrows=5000000)\n",
    "train_raw['timestamp'] = train_raw['timestamp'].apply(lambda ts: datetime.datetime.utcfromtimestamp(ts))\n"
   ]
  },
  {
   "cell_type": "code",
   "execution_count": 3,
   "metadata": {},
   "outputs": [],
   "source": [
    "train_ids = train_raw.session_id.unique()"
   ]
  },
  {
   "cell_type": "code",
   "execution_count": 4,
   "metadata": {},
   "outputs": [
    {
     "data": {
      "text/plain": [
       "'1f6409d88e355'"
      ]
     },
     "execution_count": 4,
     "metadata": {},
     "output_type": "execute_result"
    }
   ],
   "source": [
    "# look at raw\n",
    "rid = np.random.choice(train_ids, 1)[0]\n",
    "rid"
   ]
  },
  {
   "cell_type": "markdown",
   "metadata": {},
   "source": [
    "### Check clean data"
   ]
  },
  {
   "cell_type": "code",
   "execution_count": 8,
   "metadata": {
    "scrolled": true
   },
   "outputs": [],
   "source": [
    "train_cleaned = pd.read_parquet('gbm_cache/preprocess_train_100000_no_test_added.snappy')"
   ]
  },
  {
   "cell_type": "code",
   "execution_count": 12,
   "metadata": {},
   "outputs": [],
   "source": [
    "train_ids = train_cleaned.session_id.unique()"
   ]
  },
  {
   "cell_type": "markdown",
   "metadata": {},
   "source": [
    "problems: 'b160c4dab0582'"
   ]
  },
  {
   "cell_type": "code",
   "execution_count": 13,
   "metadata": {},
   "outputs": [
    {
     "data": {
      "text/plain": [
       "'517878880bc06'"
      ]
     },
     "execution_count": 13,
     "metadata": {},
     "output_type": "execute_result"
    }
   ],
   "source": [
    "rid = np.random.choice(train_ids, 1)[0]\n",
    "rid"
   ]
  },
  {
   "cell_type": "code",
   "execution_count": 9,
   "metadata": {},
   "outputs": [],
   "source": [
    "rid = 'b160c4dab0582'"
   ]
  },
  {
   "cell_type": "code",
   "execution_count": 14,
   "metadata": {
    "scrolled": false
   },
   "outputs": [
    {
     "data": {
      "text/html": [
       "<div>\n",
       "<style scoped>\n",
       "    .dataframe tbody tr th:only-of-type {\n",
       "        vertical-align: middle;\n",
       "    }\n",
       "\n",
       "    .dataframe tbody tr th {\n",
       "        vertical-align: top;\n",
       "    }\n",
       "\n",
       "    .dataframe thead th {\n",
       "        text-align: right;\n",
       "    }\n",
       "</style>\n",
       "<table border=\"1\" class=\"dataframe\">\n",
       "  <thead>\n",
       "    <tr style=\"text-align: right;\">\n",
       "      <th></th>\n",
       "      <th>user_id</th>\n",
       "      <th>session_id</th>\n",
       "      <th>timestamp</th>\n",
       "      <th>step</th>\n",
       "      <th>action_type</th>\n",
       "      <th>reference</th>\n",
       "      <th>platform</th>\n",
       "      <th>city</th>\n",
       "      <th>device</th>\n",
       "      <th>current_filters</th>\n",
       "      <th>impressions</th>\n",
       "      <th>prices</th>\n",
       "    </tr>\n",
       "  </thead>\n",
       "  <tbody>\n",
       "    <tr>\n",
       "      <th>38351</th>\n",
       "      <td>X4327A0BJV6P</td>\n",
       "      <td>517878880bc06</td>\n",
       "      <td>2018-11-03 12:26:16</td>\n",
       "      <td>1</td>\n",
       "      <td>clickout item</td>\n",
       "      <td>1497671</td>\n",
       "      <td>IN</td>\n",
       "      <td>Puttaparthi, India</td>\n",
       "      <td>desktop</td>\n",
       "      <td>NaN</td>\n",
       "      <td>1891715|4108080|6059178|4644110|4861306|1497671|1540991|5057838|6544066|4485900|9388226|2701888|4591102|7760844|4649962|8970056|7044990</td>\n",
       "      <td>40|24|16|14|11|9|6|12|18|58|5|27|13|5|7|9|69</td>\n",
       "    </tr>\n",
       "  </tbody>\n",
       "</table>\n",
       "</div>"
      ],
      "text/plain": [
       "            user_id     session_id           timestamp  step    action_type  \\\n",
       "38351  X4327A0BJV6P  517878880bc06 2018-11-03 12:26:16     1  clickout item   \n",
       "\n",
       "      reference platform                city   device current_filters  \\\n",
       "38351   1497671       IN  Puttaparthi, India  desktop             NaN   \n",
       "\n",
       "                                                                                                                                   impressions  \\\n",
       "38351  1891715|4108080|6059178|4644110|4861306|1497671|1540991|5057838|6544066|4485900|9388226|2701888|4591102|7760844|4649962|8970056|7044990   \n",
       "\n",
       "                                             prices  \n",
       "38351  40|24|16|14|11|9|6|12|18|58|5|27|13|5|7|9|69  "
      ]
     },
     "execution_count": 14,
     "metadata": {},
     "output_type": "execute_result"
    }
   ],
   "source": [
    "# raw\n",
    "raw_demo = train_raw[train_raw.session_id==rid].copy()\n",
    "raw_demo"
   ]
  },
  {
   "cell_type": "code",
   "execution_count": 15,
   "metadata": {},
   "outputs": [
    {
     "data": {
      "text/html": [
       "<div>\n",
       "<style scoped>\n",
       "    .dataframe tbody tr th:only-of-type {\n",
       "        vertical-align: middle;\n",
       "    }\n",
       "\n",
       "    .dataframe tbody tr th {\n",
       "        vertical-align: top;\n",
       "    }\n",
       "\n",
       "    .dataframe thead th {\n",
       "        text-align: right;\n",
       "    }\n",
       "</style>\n",
       "<table border=\"1\" class=\"dataframe\">\n",
       "  <thead>\n",
       "    <tr style=\"text-align: right;\">\n",
       "      <th></th>\n",
       "      <th>session_id</th>\n",
       "      <th>timestamp</th>\n",
       "      <th>step</th>\n",
       "      <th>action_type</th>\n",
       "      <th>current_filters</th>\n",
       "      <th>reference</th>\n",
       "      <th>impressions</th>\n",
       "      <th>prices</th>\n",
       "      <th>device</th>\n",
       "    </tr>\n",
       "  </thead>\n",
       "  <tbody>\n",
       "    <tr>\n",
       "      <th>7635</th>\n",
       "      <td>517878880bc06</td>\n",
       "      <td>2018-11-03 12:26:16</td>\n",
       "      <td>1.0</td>\n",
       "      <td>0</td>\n",
       "      <td>None</td>\n",
       "      <td>1497671</td>\n",
       "      <td>1891715|4108080|6059178|4644110|4861306|1497671|1540991|5057838|6544066|4485900|9388226|2701888|4591102|7760844|4649962|8970056|7044990</td>\n",
       "      <td>40|24|16|14|11|9|6|12|18|58|5|27|13|5|7|9|69</td>\n",
       "      <td>0</td>\n",
       "    </tr>\n",
       "  </tbody>\n",
       "</table>\n",
       "</div>"
      ],
      "text/plain": [
       "         session_id           timestamp  step  action_type current_filters  \\\n",
       "7635  517878880bc06 2018-11-03 12:26:16   1.0            0            None   \n",
       "\n",
       "     reference  \\\n",
       "7635   1497671   \n",
       "\n",
       "                                                                                                                                  impressions  \\\n",
       "7635  1891715|4108080|6059178|4644110|4861306|1497671|1540991|5057838|6544066|4485900|9388226|2701888|4591102|7760844|4649962|8970056|7044990   \n",
       "\n",
       "                                            prices  device  \n",
       "7635  40|24|16|14|11|9|6|12|18|58|5|27|13|5|7|9|69       0  "
      ]
     },
     "execution_count": 15,
     "metadata": {},
     "output_type": "execute_result"
    }
   ],
   "source": [
    "# clean\n",
    "train_cleaned[train_cleaned.session_id==rid]"
   ]
  },
  {
   "cell_type": "markdown",
   "metadata": {},
   "source": [
    "### Check feature generations"
   ]
  },
  {
   "cell_type": "code",
   "execution_count": 4,
   "metadata": {},
   "outputs": [],
   "source": [
    "train_inputs = pd.read_parquet('./gbm_cache/train_inputs_5000000_no_test_added.snappy')\n",
    "cf_cols = [c for c in train_inputs.columns if 'current_filters' in c]\n",
    "drop_cols = cf_cols  # + ['country', 'platform']\n",
    "# drop cf col for now\n",
    "train_inputs.drop(drop_cols, axis=1, inplace=True)"
   ]
  },
  {
   "cell_type": "code",
   "execution_count": 5,
   "metadata": {},
   "outputs": [],
   "source": [
    "# # load model \n",
    "# clf = lgb.Booster(model_file='./models/lgb_cv0.model')"
   ]
  },
  {
   "cell_type": "code",
   "execution_count": 6,
   "metadata": {},
   "outputs": [],
   "source": [
    "train_ids = train_inputs.session_id.unique()"
   ]
  },
  {
   "cell_type": "code",
   "execution_count": 7,
   "metadata": {},
   "outputs": [
    {
     "data": {
      "text/plain": [
       "'ef1d58a8ac2f0'"
      ]
     },
     "execution_count": 7,
     "metadata": {},
     "output_type": "execute_result"
    }
   ],
   "source": [
    "rid = np.random.choice(train_ids, 1)[0]\n",
    "rid"
   ]
  },
  {
   "cell_type": "code",
   "execution_count": 20,
   "metadata": {},
   "outputs": [],
   "source": [
    "raw_display_cols = ['session_id', 'timestamp', 'step', 'action_type', 'reference', 'platform', 'city', 'device', \n",
    "                    'current_filters', 'impressions', 'prices']"
   ]
  },
  {
   "cell_type": "code",
   "execution_count": 21,
   "metadata": {
    "scrolled": false
   },
   "outputs": [
    {
     "data": {
      "text/html": [
       "<div>\n",
       "<style scoped>\n",
       "    .dataframe tbody tr th:only-of-type {\n",
       "        vertical-align: middle;\n",
       "    }\n",
       "\n",
       "    .dataframe tbody tr th {\n",
       "        vertical-align: top;\n",
       "    }\n",
       "\n",
       "    .dataframe thead th {\n",
       "        text-align: right;\n",
       "    }\n",
       "</style>\n",
       "<table border=\"1\" class=\"dataframe\">\n",
       "  <thead>\n",
       "    <tr style=\"text-align: right;\">\n",
       "      <th></th>\n",
       "      <th>session_id</th>\n",
       "      <th>timestamp</th>\n",
       "      <th>step</th>\n",
       "      <th>action_type</th>\n",
       "      <th>reference</th>\n",
       "      <th>platform</th>\n",
       "      <th>city</th>\n",
       "      <th>device</th>\n",
       "      <th>current_filters</th>\n",
       "      <th>impressions</th>\n",
       "      <th>prices</th>\n",
       "    </tr>\n",
       "  </thead>\n",
       "  <tbody>\n",
       "    <tr>\n",
       "      <th>0</th>\n",
       "      <td>ef1d58a8ac2f0</td>\n",
       "      <td>2018-11-06 22:08:54</td>\n",
       "      <td>1</td>\n",
       "      <td>interaction item image</td>\n",
       "      <td>980873</td>\n",
       "      <td>BR</td>\n",
       "      <td>Natal, Brazil</td>\n",
       "      <td>mobile</td>\n",
       "      <td>NaN</td>\n",
       "      <td>NaN</td>\n",
       "      <td>NaN</td>\n",
       "    </tr>\n",
       "    <tr>\n",
       "      <th>1</th>\n",
       "      <td>ef1d58a8ac2f0</td>\n",
       "      <td>2018-11-06 22:08:54</td>\n",
       "      <td>2</td>\n",
       "      <td>interaction item image</td>\n",
       "      <td>980873</td>\n",
       "      <td>BR</td>\n",
       "      <td>Natal, Brazil</td>\n",
       "      <td>mobile</td>\n",
       "      <td>NaN</td>\n",
       "      <td>NaN</td>\n",
       "      <td>NaN</td>\n",
       "    </tr>\n",
       "    <tr>\n",
       "      <th>2</th>\n",
       "      <td>ef1d58a8ac2f0</td>\n",
       "      <td>2018-11-06 22:08:58</td>\n",
       "      <td>3</td>\n",
       "      <td>clickout item</td>\n",
       "      <td>?</td>\n",
       "      <td>BR</td>\n",
       "      <td>Natal, Brazil</td>\n",
       "      <td>mobile</td>\n",
       "      <td>NaN</td>\n",
       "      <td>980873|6919074|1031616|326961|477846|623286|1024058|104985|117545|326906|6016004|120773|939394|2097018|1246784|1450593|2418544|5808922|899171|2145840|109326|120774|1710829|1185340|370916</td>\n",
       "      <td>44|65|30|47|43|33|41|102|95|112|6|62|40|78|30|66|66|123|61|33|68|89|177|44|49</td>\n",
       "    </tr>\n",
       "    <tr>\n",
       "      <th>3</th>\n",
       "      <td>ef1d58a8ac2f0</td>\n",
       "      <td>2018-11-06 22:15:15</td>\n",
       "      <td>4</td>\n",
       "      <td>clickout item</td>\n",
       "      <td>?</td>\n",
       "      <td>BR</td>\n",
       "      <td>Natal, Brazil</td>\n",
       "      <td>mobile</td>\n",
       "      <td>NaN</td>\n",
       "      <td>980873|6919074|1031616|326961|477846|623286|1024058|104985|117545|326906|6016004|120773|939394|2097018|1246784|1450593|2418544|5808922|899171|2145840|109326|120774|1710829|1185340|370916</td>\n",
       "      <td>44|65|30|47|43|33|41|102|95|112|6|62|40|78|30|66|66|123|61|33|68|89|177|44|49</td>\n",
       "    </tr>\n",
       "  </tbody>\n",
       "</table>\n",
       "</div>"
      ],
      "text/plain": [
       "      session_id           timestamp  step             action_type reference  \\\n",
       "0  ef1d58a8ac2f0 2018-11-06 22:08:54     1  interaction item image    980873   \n",
       "1  ef1d58a8ac2f0 2018-11-06 22:08:54     2  interaction item image    980873   \n",
       "2  ef1d58a8ac2f0 2018-11-06 22:08:58     3           clickout item         ?   \n",
       "3  ef1d58a8ac2f0 2018-11-06 22:15:15     4           clickout item         ?   \n",
       "\n",
       "  platform           city  device current_filters  \\\n",
       "0       BR  Natal, Brazil  mobile             NaN   \n",
       "1       BR  Natal, Brazil  mobile             NaN   \n",
       "2       BR  Natal, Brazil  mobile             NaN   \n",
       "3       BR  Natal, Brazil  mobile             NaN   \n",
       "\n",
       "                                                                                                                                                                                  impressions  \\\n",
       "0                                                                                                                                                                                         NaN   \n",
       "1                                                                                                                                                                                         NaN   \n",
       "2  980873|6919074|1031616|326961|477846|623286|1024058|104985|117545|326906|6016004|120773|939394|2097018|1246784|1450593|2418544|5808922|899171|2145840|109326|120774|1710829|1185340|370916   \n",
       "3  980873|6919074|1031616|326961|477846|623286|1024058|104985|117545|326906|6016004|120773|939394|2097018|1246784|1450593|2418544|5808922|899171|2145840|109326|120774|1710829|1185340|370916   \n",
       "\n",
       "                                                                          prices  \n",
       "0                                                                            NaN  \n",
       "1                                                                            NaN  \n",
       "2  44|65|30|47|43|33|41|102|95|112|6|62|40|78|30|66|66|123|61|33|68|89|177|44|49  \n",
       "3  44|65|30|47|43|33|41|102|95|112|6|62|40|78|30|66|66|123|61|33|68|89|177|44|49  "
      ]
     },
     "execution_count": 21,
     "metadata": {},
     "output_type": "execute_result"
    }
   ],
   "source": [
    "raw_demo = train_raw[train_raw.session_id==rid].reset_index(drop=True)\n",
    "click_mask = raw_demo.action_type=='clickout item'\n",
    "answers = raw_demo.loc[click_mask, 'reference']\n",
    "raw_demo.loc[click_mask, 'reference'] = '?'\n",
    "raw_demo[raw_display_cols]"
   ]
  },
  {
   "cell_type": "code",
   "execution_count": 22,
   "metadata": {},
   "outputs": [
    {
     "data": {
      "text/plain": [
       "2    980873\n",
       "3    980873\n",
       "Name: reference, dtype: object"
      ]
     },
     "execution_count": 22,
     "metadata": {},
     "output_type": "execute_result"
    }
   ],
   "source": [
    "answers"
   ]
  },
  {
   "cell_type": "markdown",
   "metadata": {},
   "source": [
    "check input data with"
   ]
  },
  {
   "cell_type": "code",
   "execution_count": 23,
   "metadata": {},
   "outputs": [
    {
     "data": {
      "text/html": [
       "<div>\n",
       "<style scoped>\n",
       "    .dataframe tbody tr th:only-of-type {\n",
       "        vertical-align: middle;\n",
       "    }\n",
       "\n",
       "    .dataframe tbody tr th {\n",
       "        vertical-align: top;\n",
       "    }\n",
       "\n",
       "    .dataframe thead th {\n",
       "        text-align: right;\n",
       "    }\n",
       "</style>\n",
       "<table border=\"1\" class=\"dataframe\">\n",
       "  <thead>\n",
       "    <tr style=\"text-align: right;\">\n",
       "      <th></th>\n",
       "      <th>session_id</th>\n",
       "      <th>step</th>\n",
       "      <th>device</th>\n",
       "      <th>fs</th>\n",
       "      <th>sort_order</th>\n",
       "      <th>imp_changed</th>\n",
       "      <th>session_size</th>\n",
       "      <th>session_duration</th>\n",
       "      <th>last_duration</th>\n",
       "      <th>last_action_type</th>\n",
       "      <th>last_reference_relative_loc</th>\n",
       "      <th>mean_rating</th>\n",
       "      <th>median_rating</th>\n",
       "      <th>mean_star</th>\n",
       "      <th>median_star</th>\n",
       "      <th>n_imps</th>\n",
       "      <th>target</th>\n",
       "      <th>mean_price</th>\n",
       "      <th>median_price</th>\n",
       "      <th>prices_0</th>\n",
       "      <th>prices_1</th>\n",
       "      <th>prices_2</th>\n",
       "      <th>prices_3</th>\n",
       "      <th>prices_4</th>\n",
       "      <th>prices_5</th>\n",
       "      <th>prices_6</th>\n",
       "      <th>prices_7</th>\n",
       "      <th>prices_8</th>\n",
       "      <th>prices_9</th>\n",
       "      <th>prices_10</th>\n",
       "      <th>prices_11</th>\n",
       "      <th>prices_12</th>\n",
       "      <th>prices_13</th>\n",
       "      <th>prices_14</th>\n",
       "      <th>prices_15</th>\n",
       "      <th>prices_16</th>\n",
       "      <th>prices_17</th>\n",
       "      <th>prices_18</th>\n",
       "      <th>prices_19</th>\n",
       "      <th>prices_20</th>\n",
       "      <th>prices_21</th>\n",
       "      <th>prices_22</th>\n",
       "      <th>prices_23</th>\n",
       "      <th>prices_24</th>\n",
       "      <th>prices_rank_0</th>\n",
       "      <th>prices_rank_1</th>\n",
       "      <th>prices_rank_2</th>\n",
       "      <th>prices_rank_3</th>\n",
       "      <th>prices_rank_4</th>\n",
       "      <th>prices_rank_5</th>\n",
       "      <th>prices_rank_6</th>\n",
       "      <th>prices_rank_7</th>\n",
       "      <th>prices_rank_8</th>\n",
       "      <th>prices_rank_9</th>\n",
       "      <th>prices_rank_10</th>\n",
       "      <th>prices_rank_11</th>\n",
       "      <th>prices_rank_12</th>\n",
       "      <th>prices_rank_13</th>\n",
       "      <th>prices_rank_14</th>\n",
       "      <th>prices_rank_15</th>\n",
       "      <th>prices_rank_16</th>\n",
       "      <th>prices_rank_17</th>\n",
       "      <th>prices_rank_18</th>\n",
       "      <th>prices_rank_19</th>\n",
       "      <th>prices_rank_20</th>\n",
       "      <th>prices_rank_21</th>\n",
       "      <th>prices_rank_22</th>\n",
       "      <th>prices_rank_23</th>\n",
       "      <th>prices_rank_24</th>\n",
       "      <th>prev_click_0</th>\n",
       "      <th>prev_click_1</th>\n",
       "      <th>prev_click_2</th>\n",
       "      <th>prev_click_3</th>\n",
       "      <th>prev_click_4</th>\n",
       "      <th>prev_click_5</th>\n",
       "      <th>prev_click_6</th>\n",
       "      <th>prev_click_7</th>\n",
       "      <th>prev_click_8</th>\n",
       "      <th>prev_click_9</th>\n",
       "      <th>prev_click_10</th>\n",
       "      <th>prev_click_11</th>\n",
       "      <th>prev_click_12</th>\n",
       "      <th>prev_click_13</th>\n",
       "      <th>prev_click_14</th>\n",
       "      <th>prev_click_15</th>\n",
       "      <th>prev_click_16</th>\n",
       "      <th>prev_click_17</th>\n",
       "      <th>prev_click_18</th>\n",
       "      <th>prev_click_19</th>\n",
       "      <th>prev_click_20</th>\n",
       "      <th>prev_click_21</th>\n",
       "      <th>prev_click_22</th>\n",
       "      <th>prev_click_23</th>\n",
       "      <th>prev_click_24</th>\n",
       "      <th>prev_interact_0</th>\n",
       "      <th>prev_interact_1</th>\n",
       "      <th>prev_interact_2</th>\n",
       "      <th>prev_interact_3</th>\n",
       "      <th>prev_interact_4</th>\n",
       "      <th>prev_interact_5</th>\n",
       "      <th>prev_interact_6</th>\n",
       "      <th>prev_interact_7</th>\n",
       "      <th>prev_interact_8</th>\n",
       "      <th>prev_interact_9</th>\n",
       "      <th>prev_interact_10</th>\n",
       "      <th>prev_interact_11</th>\n",
       "      <th>prev_interact_12</th>\n",
       "      <th>prev_interact_13</th>\n",
       "      <th>prev_interact_14</th>\n",
       "      <th>prev_interact_15</th>\n",
       "      <th>prev_interact_16</th>\n",
       "      <th>prev_interact_17</th>\n",
       "      <th>prev_interact_18</th>\n",
       "      <th>prev_interact_19</th>\n",
       "      <th>prev_interact_20</th>\n",
       "      <th>prev_interact_21</th>\n",
       "      <th>prev_interact_22</th>\n",
       "      <th>prev_interact_23</th>\n",
       "      <th>prev_interact_24</th>\n",
       "      <th>half_prices_rank_0</th>\n",
       "      <th>half_prices_rank_1</th>\n",
       "      <th>half_prices_rank_2</th>\n",
       "      <th>half_prices_rank_3</th>\n",
       "      <th>half_prices_rank_4</th>\n",
       "      <th>half_prices_rank_5</th>\n",
       "      <th>half_prices_rank_6</th>\n",
       "      <th>half_prices_rank_7</th>\n",
       "      <th>half_prices_rank_8</th>\n",
       "      <th>half_prices_rank_9</th>\n",
       "      <th>half_prices_rank_10</th>\n",
       "      <th>half_prices_rank_11</th>\n",
       "      <th>ratings_0</th>\n",
       "      <th>ratings_1</th>\n",
       "      <th>ratings_2</th>\n",
       "      <th>ratings_3</th>\n",
       "      <th>ratings_4</th>\n",
       "      <th>ratings_5</th>\n",
       "      <th>ratings_6</th>\n",
       "      <th>ratings_7</th>\n",
       "      <th>ratings_8</th>\n",
       "      <th>ratings_9</th>\n",
       "      <th>ratings_10</th>\n",
       "      <th>ratings_11</th>\n",
       "      <th>ratings_12</th>\n",
       "      <th>ratings_13</th>\n",
       "      <th>ratings_14</th>\n",
       "      <th>ratings_15</th>\n",
       "      <th>ratings_16</th>\n",
       "      <th>ratings_17</th>\n",
       "      <th>ratings_18</th>\n",
       "      <th>ratings_19</th>\n",
       "      <th>ratings_20</th>\n",
       "      <th>ratings_21</th>\n",
       "      <th>ratings_22</th>\n",
       "      <th>ratings_23</th>\n",
       "      <th>ratings_24</th>\n",
       "      <th>stars_0</th>\n",
       "      <th>stars_1</th>\n",
       "      <th>stars_2</th>\n",
       "      <th>stars_3</th>\n",
       "      <th>stars_4</th>\n",
       "      <th>stars_5</th>\n",
       "      <th>stars_6</th>\n",
       "      <th>stars_7</th>\n",
       "      <th>stars_8</th>\n",
       "      <th>stars_9</th>\n",
       "      <th>stars_10</th>\n",
       "      <th>stars_11</th>\n",
       "      <th>stars_12</th>\n",
       "      <th>stars_13</th>\n",
       "      <th>stars_14</th>\n",
       "      <th>stars_15</th>\n",
       "      <th>stars_16</th>\n",
       "      <th>stars_17</th>\n",
       "      <th>stars_18</th>\n",
       "      <th>stars_19</th>\n",
       "      <th>stars_20</th>\n",
       "      <th>stars_21</th>\n",
       "      <th>stars_22</th>\n",
       "      <th>stars_23</th>\n",
       "      <th>stars_24</th>\n",
       "    </tr>\n",
       "  </thead>\n",
       "  <tbody>\n",
       "    <tr>\n",
       "      <th>0</th>\n",
       "      <td>ef1d58a8ac2f0</td>\n",
       "      <td>3.0</td>\n",
       "      <td>0</td>\n",
       "      <td>33</td>\n",
       "      <td>8</td>\n",
       "      <td>NaN</td>\n",
       "      <td>2</td>\n",
       "      <td>4.0</td>\n",
       "      <td>4.0</td>\n",
       "      <td>4</td>\n",
       "      <td>0.04</td>\n",
       "      <td>2.72</td>\n",
       "      <td>3.0</td>\n",
       "      <td>3.04</td>\n",
       "      <td>3.0</td>\n",
       "      <td>25</td>\n",
       "      <td>0</td>\n",
       "      <td>64.16</td>\n",
       "      <td>61.0</td>\n",
       "      <td>44.0</td>\n",
       "      <td>65.0</td>\n",
       "      <td>30.0</td>\n",
       "      <td>47.0</td>\n",
       "      <td>43.0</td>\n",
       "      <td>33.0</td>\n",
       "      <td>41.0</td>\n",
       "      <td>102.0</td>\n",
       "      <td>95.0</td>\n",
       "      <td>112.0</td>\n",
       "      <td>6.0</td>\n",
       "      <td>62.0</td>\n",
       "      <td>40.0</td>\n",
       "      <td>78.0</td>\n",
       "      <td>30.0</td>\n",
       "      <td>66.0</td>\n",
       "      <td>66.0</td>\n",
       "      <td>123.0</td>\n",
       "      <td>61.0</td>\n",
       "      <td>33.0</td>\n",
       "      <td>68.0</td>\n",
       "      <td>89.0</td>\n",
       "      <td>177.0</td>\n",
       "      <td>44.0</td>\n",
       "      <td>49.0</td>\n",
       "      <td>0.333333</td>\n",
       "      <td>0.571429</td>\n",
       "      <td>0.095238</td>\n",
       "      <td>0.380952</td>\n",
       "      <td>0.285714</td>\n",
       "      <td>0.142857</td>\n",
       "      <td>0.238095</td>\n",
       "      <td>0.857143</td>\n",
       "      <td>0.809524</td>\n",
       "      <td>0.904762</td>\n",
       "      <td>0.047619</td>\n",
       "      <td>0.52381</td>\n",
       "      <td>0.190476</td>\n",
       "      <td>0.714286</td>\n",
       "      <td>0.095238</td>\n",
       "      <td>0.619048</td>\n",
       "      <td>0.619048</td>\n",
       "      <td>0.952381</td>\n",
       "      <td>0.47619</td>\n",
       "      <td>0.142857</td>\n",
       "      <td>0.666667</td>\n",
       "      <td>0.761905</td>\n",
       "      <td>1.0</td>\n",
       "      <td>0.333333</td>\n",
       "      <td>0.428571</td>\n",
       "      <td>0.0</td>\n",
       "      <td>0.0</td>\n",
       "      <td>0.0</td>\n",
       "      <td>0.0</td>\n",
       "      <td>0.0</td>\n",
       "      <td>0.0</td>\n",
       "      <td>0.0</td>\n",
       "      <td>0.0</td>\n",
       "      <td>0.0</td>\n",
       "      <td>0.0</td>\n",
       "      <td>0.0</td>\n",
       "      <td>0.0</td>\n",
       "      <td>0.0</td>\n",
       "      <td>0.0</td>\n",
       "      <td>0.0</td>\n",
       "      <td>0.0</td>\n",
       "      <td>0.0</td>\n",
       "      <td>0.0</td>\n",
       "      <td>0.0</td>\n",
       "      <td>0.0</td>\n",
       "      <td>0.0</td>\n",
       "      <td>0.0</td>\n",
       "      <td>0.0</td>\n",
       "      <td>0.0</td>\n",
       "      <td>0.0</td>\n",
       "      <td>1.0</td>\n",
       "      <td>0.0</td>\n",
       "      <td>0.0</td>\n",
       "      <td>0.0</td>\n",
       "      <td>0.0</td>\n",
       "      <td>0.0</td>\n",
       "      <td>0.0</td>\n",
       "      <td>0.0</td>\n",
       "      <td>0.0</td>\n",
       "      <td>0.0</td>\n",
       "      <td>0.0</td>\n",
       "      <td>0.0</td>\n",
       "      <td>0.0</td>\n",
       "      <td>0.0</td>\n",
       "      <td>0.0</td>\n",
       "      <td>0.0</td>\n",
       "      <td>0.0</td>\n",
       "      <td>0.0</td>\n",
       "      <td>0.0</td>\n",
       "      <td>0.0</td>\n",
       "      <td>0.0</td>\n",
       "      <td>0.0</td>\n",
       "      <td>0.0</td>\n",
       "      <td>0.0</td>\n",
       "      <td>0.0</td>\n",
       "      <td>0.5</td>\n",
       "      <td>0.75</td>\n",
       "      <td>0.166667</td>\n",
       "      <td>0.583333</td>\n",
       "      <td>0.416667</td>\n",
       "      <td>0.25</td>\n",
       "      <td>0.333333</td>\n",
       "      <td>0.916667</td>\n",
       "      <td>0.833333</td>\n",
       "      <td>1.0</td>\n",
       "      <td>0.083333</td>\n",
       "      <td>0.666667</td>\n",
       "      <td>0.2</td>\n",
       "      <td>0.8</td>\n",
       "      <td>0.4</td>\n",
       "      <td>0.6</td>\n",
       "      <td>0.4</td>\n",
       "      <td>0.4</td>\n",
       "      <td>0.8</td>\n",
       "      <td>0.6</td>\n",
       "      <td>0.8</td>\n",
       "      <td>1.0</td>\n",
       "      <td>0.8</td>\n",
       "      <td>0.8</td>\n",
       "      <td>0.4</td>\n",
       "      <td>1.0</td>\n",
       "      <td>0.6</td>\n",
       "      <td>1.0</td>\n",
       "      <td>1.0</td>\n",
       "      <td>1.0</td>\n",
       "      <td>0.6</td>\n",
       "      <td>1.0</td>\n",
       "      <td>0.8</td>\n",
       "      <td>1.0</td>\n",
       "      <td>1.0</td>\n",
       "      <td>1.0</td>\n",
       "      <td>0.6</td>\n",
       "      <td>0.5</td>\n",
       "      <td>0.75</td>\n",
       "      <td>0.25</td>\n",
       "      <td>0.75</td>\n",
       "      <td>0.5</td>\n",
       "      <td>0.75</td>\n",
       "      <td>0.5</td>\n",
       "      <td>0.5</td>\n",
       "      <td>1.0</td>\n",
       "      <td>1.0</td>\n",
       "      <td>0.5</td>\n",
       "      <td>0.5</td>\n",
       "      <td>0.5</td>\n",
       "      <td>1.0</td>\n",
       "      <td>0.5</td>\n",
       "      <td>0.25</td>\n",
       "      <td>0.75</td>\n",
       "      <td>0.75</td>\n",
       "      <td>0.75</td>\n",
       "      <td>0.25</td>\n",
       "      <td>0.5</td>\n",
       "      <td>0.75</td>\n",
       "      <td>0.5</td>\n",
       "      <td>0.25</td>\n",
       "      <td>0.5</td>\n",
       "    </tr>\n",
       "  </tbody>\n",
       "</table>\n",
       "</div>"
      ],
      "text/plain": [
       "      session_id  step  device  fs  sort_order  imp_changed  session_size  \\\n",
       "0  ef1d58a8ac2f0   3.0       0  33           8          NaN             2   \n",
       "\n",
       "   session_duration  last_duration  last_action_type  \\\n",
       "0               4.0            4.0                 4   \n",
       "\n",
       "   last_reference_relative_loc  mean_rating  median_rating  mean_star  \\\n",
       "0                         0.04         2.72            3.0       3.04   \n",
       "\n",
       "   median_star  n_imps  target  mean_price  median_price  prices_0  prices_1  \\\n",
       "0          3.0      25       0       64.16          61.0      44.0      65.0   \n",
       "\n",
       "   prices_2  prices_3  prices_4  prices_5  prices_6  prices_7  prices_8  \\\n",
       "0      30.0      47.0      43.0      33.0      41.0     102.0      95.0   \n",
       "\n",
       "   prices_9  prices_10  prices_11  prices_12  prices_13  prices_14  prices_15  \\\n",
       "0     112.0        6.0       62.0       40.0       78.0       30.0       66.0   \n",
       "\n",
       "   prices_16  prices_17  prices_18  prices_19  prices_20  prices_21  \\\n",
       "0       66.0      123.0       61.0       33.0       68.0       89.0   \n",
       "\n",
       "   prices_22  prices_23  prices_24  prices_rank_0  prices_rank_1  \\\n",
       "0      177.0       44.0       49.0       0.333333       0.571429   \n",
       "\n",
       "   prices_rank_2  prices_rank_3  prices_rank_4  prices_rank_5  prices_rank_6  \\\n",
       "0       0.095238       0.380952       0.285714       0.142857       0.238095   \n",
       "\n",
       "   prices_rank_7  prices_rank_8  prices_rank_9  prices_rank_10  \\\n",
       "0       0.857143       0.809524       0.904762        0.047619   \n",
       "\n",
       "   prices_rank_11  prices_rank_12  prices_rank_13  prices_rank_14  \\\n",
       "0         0.52381        0.190476        0.714286        0.095238   \n",
       "\n",
       "   prices_rank_15  prices_rank_16  prices_rank_17  prices_rank_18  \\\n",
       "0        0.619048        0.619048        0.952381         0.47619   \n",
       "\n",
       "   prices_rank_19  prices_rank_20  prices_rank_21  prices_rank_22  \\\n",
       "0        0.142857        0.666667        0.761905             1.0   \n",
       "\n",
       "   prices_rank_23  prices_rank_24  prev_click_0  prev_click_1  prev_click_2  \\\n",
       "0        0.333333        0.428571           0.0           0.0           0.0   \n",
       "\n",
       "   prev_click_3  prev_click_4  prev_click_5  prev_click_6  prev_click_7  \\\n",
       "0           0.0           0.0           0.0           0.0           0.0   \n",
       "\n",
       "   prev_click_8  prev_click_9  prev_click_10  prev_click_11  prev_click_12  \\\n",
       "0           0.0           0.0            0.0            0.0            0.0   \n",
       "\n",
       "   prev_click_13  prev_click_14  prev_click_15  prev_click_16  prev_click_17  \\\n",
       "0            0.0            0.0            0.0            0.0            0.0   \n",
       "\n",
       "   prev_click_18  prev_click_19  prev_click_20  prev_click_21  prev_click_22  \\\n",
       "0            0.0            0.0            0.0            0.0            0.0   \n",
       "\n",
       "   prev_click_23  prev_click_24  prev_interact_0  prev_interact_1  \\\n",
       "0            0.0            0.0              1.0              0.0   \n",
       "\n",
       "   prev_interact_2  prev_interact_3  prev_interact_4  prev_interact_5  \\\n",
       "0              0.0              0.0              0.0              0.0   \n",
       "\n",
       "   prev_interact_6  prev_interact_7  prev_interact_8  prev_interact_9  \\\n",
       "0              0.0              0.0              0.0              0.0   \n",
       "\n",
       "   prev_interact_10  prev_interact_11  prev_interact_12  prev_interact_13  \\\n",
       "0               0.0               0.0               0.0               0.0   \n",
       "\n",
       "   prev_interact_14  prev_interact_15  prev_interact_16  prev_interact_17  \\\n",
       "0               0.0               0.0               0.0               0.0   \n",
       "\n",
       "   prev_interact_18  prev_interact_19  prev_interact_20  prev_interact_21  \\\n",
       "0               0.0               0.0               0.0               0.0   \n",
       "\n",
       "   prev_interact_22  prev_interact_23  prev_interact_24  half_prices_rank_0  \\\n",
       "0               0.0               0.0               0.0                 0.5   \n",
       "\n",
       "   half_prices_rank_1  half_prices_rank_2  half_prices_rank_3  \\\n",
       "0                0.75            0.166667            0.583333   \n",
       "\n",
       "   half_prices_rank_4  half_prices_rank_5  half_prices_rank_6  \\\n",
       "0            0.416667                0.25            0.333333   \n",
       "\n",
       "   half_prices_rank_7  half_prices_rank_8  half_prices_rank_9  \\\n",
       "0            0.916667            0.833333                 1.0   \n",
       "\n",
       "   half_prices_rank_10  half_prices_rank_11  ratings_0  ratings_1  ratings_2  \\\n",
       "0             0.083333             0.666667        0.2        0.8        0.4   \n",
       "\n",
       "   ratings_3  ratings_4  ratings_5  ratings_6  ratings_7  ratings_8  \\\n",
       "0        0.6        0.4        0.4        0.8        0.6        0.8   \n",
       "\n",
       "   ratings_9  ratings_10  ratings_11  ratings_12  ratings_13  ratings_14  \\\n",
       "0        1.0         0.8         0.8         0.4         1.0         0.6   \n",
       "\n",
       "   ratings_15  ratings_16  ratings_17  ratings_18  ratings_19  ratings_20  \\\n",
       "0         1.0         1.0         1.0         0.6         1.0         0.8   \n",
       "\n",
       "   ratings_21  ratings_22  ratings_23  ratings_24  stars_0  stars_1  stars_2  \\\n",
       "0         1.0         1.0         1.0         0.6      0.5     0.75     0.25   \n",
       "\n",
       "   stars_3  stars_4  stars_5  stars_6  stars_7  stars_8  stars_9  stars_10  \\\n",
       "0     0.75      0.5     0.75      0.5      0.5      1.0      1.0       0.5   \n",
       "\n",
       "   stars_11  stars_12  stars_13  stars_14  stars_15  stars_16  stars_17  \\\n",
       "0       0.5       0.5       1.0       0.5      0.25      0.75      0.75   \n",
       "\n",
       "   stars_18  stars_19  stars_20  stars_21  stars_22  stars_23  stars_24  \n",
       "0      0.75      0.25       0.5      0.75       0.5      0.25       0.5  "
      ]
     },
     "execution_count": 23,
     "metadata": {},
     "output_type": "execute_result"
    }
   ],
   "source": [
    "input_demo = train_inputs[train_inputs.session_id==rid].reset_index(drop=True)\n",
    "input_demo"
   ]
  },
  {
   "cell_type": "code",
   "execution_count": 27,
   "metadata": {},
   "outputs": [
    {
     "data": {
      "text/plain": [
       "(array([ 7, 12,  2,  8,  6,  3,  5, 18, 17, 19,  1, 11,  4, 15,  2, 13, 13,\n",
       "        20, 10,  3, 14, 16, 21,  7,  9]), 21)"
      ]
     },
     "execution_count": 27,
     "metadata": {},
     "output_type": "execute_result"
    }
   ],
   "source": [
    "s = '44|65|30|47|43|33|41|102|95|112|6|62|40|78|30|66|66|123|61|33|68|89|177|44|49'\n",
    "s = s.split('|')\n",
    "s = [float(i) for i in s]\n",
    "rankdata(s, method='dense'), rankdata(s, method='dense').max()"
   ]
  },
  {
   "cell_type": "code",
   "execution_count": 37,
   "metadata": {},
   "outputs": [
    {
     "data": {
      "text/plain": [
       "array([8, 0, 1])"
      ]
     },
     "execution_count": 37,
     "metadata": {},
     "output_type": "execute_result"
    }
   ],
   "source": [
    "train_inputs.sort_order.unique()"
   ]
  },
  {
   "cell_type": "code",
   "execution_count": 26,
   "metadata": {
    "scrolled": false
   },
   "outputs": [
    {
     "name": "stdout",
     "output_type": "stream",
     "text": [
      "{'device': {0: 0},\n",
      " 'fs': {0: 33},\n",
      " 'half_prices_rank_0': {0: 0.5},\n",
      " 'half_prices_rank_1': {0: 0.75},\n",
      " 'half_prices_rank_10': {0: 0.08333333333333333},\n",
      " 'half_prices_rank_11': {0: 0.6666666666666666},\n",
      " 'half_prices_rank_2': {0: 0.16666666666666666},\n",
      " 'half_prices_rank_3': {0: 0.5833333333333334},\n",
      " 'half_prices_rank_4': {0: 0.4166666666666667},\n",
      " 'half_prices_rank_5': {0: 0.25},\n",
      " 'half_prices_rank_6': {0: 0.3333333333333333},\n",
      " 'half_prices_rank_7': {0: 0.9166666666666666},\n",
      " 'half_prices_rank_8': {0: 0.8333333333333334},\n",
      " 'half_prices_rank_9': {0: 1.0},\n",
      " 'imp_changed': {0: nan},\n",
      " 'last_action_type': {0: 4},\n",
      " 'last_duration': {0: 4.0},\n",
      " 'last_reference_relative_loc': {0: 0.04},\n",
      " 'mean_price': {0: 64.16},\n",
      " 'mean_rating': {0: 2.72},\n",
      " 'mean_star': {0: 3.04},\n",
      " 'median_price': {0: 61.0},\n",
      " 'median_rating': {0: 3.0},\n",
      " 'median_star': {0: 3.0},\n",
      " 'n_imps': {0: 25},\n",
      " 'prev_click_0': {0: 0.0},\n",
      " 'prev_click_1': {0: 0.0},\n",
      " 'prev_click_10': {0: 0.0},\n",
      " 'prev_click_11': {0: 0.0},\n",
      " 'prev_click_12': {0: 0.0},\n",
      " 'prev_click_13': {0: 0.0},\n",
      " 'prev_click_14': {0: 0.0},\n",
      " 'prev_click_15': {0: 0.0},\n",
      " 'prev_click_16': {0: 0.0},\n",
      " 'prev_click_17': {0: 0.0},\n",
      " 'prev_click_18': {0: 0.0},\n",
      " 'prev_click_19': {0: 0.0},\n",
      " 'prev_click_2': {0: 0.0},\n",
      " 'prev_click_20': {0: 0.0},\n",
      " 'prev_click_21': {0: 0.0},\n",
      " 'prev_click_22': {0: 0.0},\n",
      " 'prev_click_23': {0: 0.0},\n",
      " 'prev_click_24': {0: 0.0},\n",
      " 'prev_click_3': {0: 0.0},\n",
      " 'prev_click_4': {0: 0.0},\n",
      " 'prev_click_5': {0: 0.0},\n",
      " 'prev_click_6': {0: 0.0},\n",
      " 'prev_click_7': {0: 0.0},\n",
      " 'prev_click_8': {0: 0.0},\n",
      " 'prev_click_9': {0: 0.0},\n",
      " 'prev_interact_0': {0: 1.0},\n",
      " 'prev_interact_1': {0: 0.0},\n",
      " 'prev_interact_10': {0: 0.0},\n",
      " 'prev_interact_11': {0: 0.0},\n",
      " 'prev_interact_12': {0: 0.0},\n",
      " 'prev_interact_13': {0: 0.0},\n",
      " 'prev_interact_14': {0: 0.0},\n",
      " 'prev_interact_15': {0: 0.0},\n",
      " 'prev_interact_16': {0: 0.0},\n",
      " 'prev_interact_17': {0: 0.0},\n",
      " 'prev_interact_18': {0: 0.0},\n",
      " 'prev_interact_19': {0: 0.0},\n",
      " 'prev_interact_2': {0: 0.0},\n",
      " 'prev_interact_20': {0: 0.0},\n",
      " 'prev_interact_21': {0: 0.0},\n",
      " 'prev_interact_22': {0: 0.0},\n",
      " 'prev_interact_23': {0: 0.0},\n",
      " 'prev_interact_24': {0: 0.0},\n",
      " 'prev_interact_3': {0: 0.0},\n",
      " 'prev_interact_4': {0: 0.0},\n",
      " 'prev_interact_5': {0: 0.0},\n",
      " 'prev_interact_6': {0: 0.0},\n",
      " 'prev_interact_7': {0: 0.0},\n",
      " 'prev_interact_8': {0: 0.0},\n",
      " 'prev_interact_9': {0: 0.0},\n",
      " 'prices_0': {0: 44.0},\n",
      " 'prices_1': {0: 65.0},\n",
      " 'prices_10': {0: 6.0},\n",
      " 'prices_11': {0: 62.0},\n",
      " 'prices_12': {0: 40.0},\n",
      " 'prices_13': {0: 78.0},\n",
      " 'prices_14': {0: 30.0},\n",
      " 'prices_15': {0: 66.0},\n",
      " 'prices_16': {0: 66.0},\n",
      " 'prices_17': {0: 123.0},\n",
      " 'prices_18': {0: 61.0},\n",
      " 'prices_19': {0: 33.0},\n",
      " 'prices_2': {0: 30.0},\n",
      " 'prices_20': {0: 68.0},\n",
      " 'prices_21': {0: 89.0},\n",
      " 'prices_22': {0: 177.0},\n",
      " 'prices_23': {0: 44.0},\n",
      " 'prices_24': {0: 49.0},\n",
      " 'prices_3': {0: 47.0},\n",
      " 'prices_4': {0: 43.0},\n",
      " 'prices_5': {0: 33.0},\n",
      " 'prices_6': {0: 41.0},\n",
      " 'prices_7': {0: 102.0},\n",
      " 'prices_8': {0: 95.0},\n",
      " 'prices_9': {0: 112.0},\n",
      " 'prices_rank_0': {0: 0.3333333333333333},\n",
      " 'prices_rank_1': {0: 0.5714285714285714},\n",
      " 'prices_rank_10': {0: 0.047619047619047616},\n",
      " 'prices_rank_11': {0: 0.5238095238095238},\n",
      " 'prices_rank_12': {0: 0.19047619047619047},\n",
      " 'prices_rank_13': {0: 0.7142857142857143},\n",
      " 'prices_rank_14': {0: 0.09523809523809523},\n",
      " 'prices_rank_15': {0: 0.6190476190476191},\n",
      " 'prices_rank_16': {0: 0.6190476190476191},\n",
      " 'prices_rank_17': {0: 0.9523809523809523},\n",
      " 'prices_rank_18': {0: 0.47619047619047616},\n",
      " 'prices_rank_19': {0: 0.14285714285714285},\n",
      " 'prices_rank_2': {0: 0.09523809523809523},\n",
      " 'prices_rank_20': {0: 0.6666666666666666},\n",
      " 'prices_rank_21': {0: 0.7619047619047619},\n",
      " 'prices_rank_22': {0: 1.0},\n",
      " 'prices_rank_23': {0: 0.3333333333333333},\n",
      " 'prices_rank_24': {0: 0.42857142857142855},\n",
      " 'prices_rank_3': {0: 0.38095238095238093},\n",
      " 'prices_rank_4': {0: 0.2857142857142857},\n",
      " 'prices_rank_5': {0: 0.14285714285714285},\n",
      " 'prices_rank_6': {0: 0.23809523809523808},\n",
      " 'prices_rank_7': {0: 0.8571428571428571},\n",
      " 'prices_rank_8': {0: 0.8095238095238095},\n",
      " 'prices_rank_9': {0: 0.9047619047619048},\n",
      " 'ratings_0': {0: 0.2},\n",
      " 'ratings_1': {0: 0.8},\n",
      " 'ratings_10': {0: 0.8},\n",
      " 'ratings_11': {0: 0.8},\n",
      " 'ratings_12': {0: 0.4},\n",
      " 'ratings_13': {0: 1.0},\n",
      " 'ratings_14': {0: 0.6},\n",
      " 'ratings_15': {0: 1.0},\n",
      " 'ratings_16': {0: 1.0},\n",
      " 'ratings_17': {0: 1.0},\n",
      " 'ratings_18': {0: 0.6},\n",
      " 'ratings_19': {0: 1.0},\n",
      " 'ratings_2': {0: 0.4},\n",
      " 'ratings_20': {0: 0.8},\n",
      " 'ratings_21': {0: 1.0},\n",
      " 'ratings_22': {0: 1.0},\n",
      " 'ratings_23': {0: 1.0},\n",
      " 'ratings_24': {0: 0.6},\n",
      " 'ratings_3': {0: 0.6},\n",
      " 'ratings_4': {0: 0.4},\n",
      " 'ratings_5': {0: 0.4},\n",
      " 'ratings_6': {0: 0.8},\n",
      " 'ratings_7': {0: 0.6},\n",
      " 'ratings_8': {0: 0.8},\n",
      " 'ratings_9': {0: 1.0},\n",
      " 'session_duration': {0: 4.0},\n",
      " 'session_id': {0: 'ef1d58a8ac2f0'},\n",
      " 'session_size': {0: 2},\n",
      " 'sort_order': {0: 8},\n",
      " 'stars_0': {0: 0.5},\n",
      " 'stars_1': {0: 0.75},\n",
      " 'stars_10': {0: 0.5},\n",
      " 'stars_11': {0: 0.5},\n",
      " 'stars_12': {0: 0.5},\n",
      " 'stars_13': {0: 1.0},\n",
      " 'stars_14': {0: 0.5},\n",
      " 'stars_15': {0: 0.25},\n",
      " 'stars_16': {0: 0.75},\n",
      " 'stars_17': {0: 0.75},\n",
      " 'stars_18': {0: 0.75},\n",
      " 'stars_19': {0: 0.25},\n",
      " 'stars_2': {0: 0.25},\n",
      " 'stars_20': {0: 0.5},\n",
      " 'stars_21': {0: 0.75},\n",
      " 'stars_22': {0: 0.5},\n",
      " 'stars_23': {0: 0.25},\n",
      " 'stars_24': {0: 0.5},\n",
      " 'stars_3': {0: 0.75},\n",
      " 'stars_4': {0: 0.5},\n",
      " 'stars_5': {0: 0.75},\n",
      " 'stars_6': {0: 0.5},\n",
      " 'stars_7': {0: 0.5},\n",
      " 'stars_8': {0: 1.0},\n",
      " 'stars_9': {0: 1.0},\n",
      " 'step': {0: 3.0},\n",
      " 'target': {0: 0}}\n"
     ]
    }
   ],
   "source": [
    "pp.pprint(input_demo.to_dict())"
   ]
  },
  {
   "cell_type": "code",
   "execution_count": null,
   "metadata": {},
   "outputs": [],
   "source": [
    "shap_values[0].shape"
   ]
  },
  {
   "cell_type": "code",
   "execution_count": null,
   "metadata": {},
   "outputs": [],
   "source": [
    "ps = '220|193|310|265|162|119|99|43|51|83|96|65'.split('|')\n",
    "ps = [float(i) for i in ps]\n",
    "rankdata(ps, method='dense')"
   ]
  },
  {
   "cell_type": "code",
   "execution_count": null,
   "metadata": {},
   "outputs": [],
   "source": [
    "np.nanmean(ps), np.nanmedian(ps), np.mean(ps), np.median(ps)"
   ]
  },
  {
   "cell_type": "code",
   "execution_count": null,
   "metadata": {},
   "outputs": [],
   "source": [
    "1/12"
   ]
  },
  {
   "cell_type": "code",
   "execution_count": null,
   "metadata": {},
   "outputs": [],
   "source": [
    "2/25"
   ]
  },
  {
   "cell_type": "code",
   "execution_count": null,
   "metadata": {},
   "outputs": [],
   "source": [
    "meta_mapping = meta_encoding()"
   ]
  },
  {
   "cell_type": "code",
   "execution_count": null,
   "metadata": {},
   "outputs": [],
   "source": [
    "# refs = raw_eg.impressions.dropna().str.split('|')\n",
    "# refs = list([int(j) for i in refs for j in i])\n",
    "refs = '20720|20814|83606|20772|20752|45909|9844958|20861|20681|45379|2085654|20785|152418|20848|20736|20750|20949|20743|917187|20745|20677|905283|83339|20843|20819'\n",
    "refs = refs.split('|')\n",
    "refs = [int(i) for i in refs]"
   ]
  },
  {
   "cell_type": "code",
   "execution_count": null,
   "metadata": {},
   "outputs": [],
   "source": [
    "refs_meta = meta_mapping[meta_mapping.item_id.isin(refs)]\n",
    "s = refs_meta.sum(axis=0)\n",
    "refs_meta_useful = refs_meta[s[s!=0].index].reset_index(drop=True)\n",
    "ss = refs_meta_useful.sum(axis=0)\n",
    "refs_meta_useful = refs_meta_useful[ss[ss!=24].index]\n",
    "refs_meta_useful = refs_meta_useful.set_index('item_id')\n",
    "refs_meta_useful = refs_meta_useful.reindex(refs)\n",
    "# cols = ['1 star', '2 star', '3 star', '4 star', '5 star', \n",
    "#                   'excellent rating', 'very good rating', 'good rating', 'satisfactory rating']\n",
    "# refs_meta_useful[[c for c in cols if c in refs_meta_useful.columns]].loc[refs]\n",
    "refs_meta_useful"
   ]
  },
  {
   "cell_type": "code",
   "execution_count": null,
   "metadata": {},
   "outputs": [],
   "source": [
    "(6*4+3*2+2+1)/12, (1+4+4+1+3+2+0+0+2+3+3)/12"
   ]
  },
  {
   "cell_type": "markdown",
   "metadata": {},
   "source": [
    "### check the meta properties"
   ]
  },
  {
   "cell_type": "code",
   "execution_count": null,
   "metadata": {},
   "outputs": [],
   "source": [
    "meta_mapping = meta_encoding()"
   ]
  },
  {
   "cell_type": "code",
   "execution_count": null,
   "metadata": {},
   "outputs": [],
   "source": [
    "# refs = raw_eg.impressions.dropna().str.split('|')\n",
    "# refs = list([int(j) for i in refs for j in i])\n",
    "refs = '14910|52419|53438|15918|15402|128443|772473|626051|158537|1193842|14824|5179324'\n",
    "refs = refs.split('|')\n",
    "refs = [int(i) for i in refs]"
   ]
  },
  {
   "cell_type": "code",
   "execution_count": null,
   "metadata": {},
   "outputs": [],
   "source": [
    "refs_meta = meta_mapping[meta_mapping.item_id.isin(refs)]\n",
    "s = refs_meta.sum(axis=0)\n",
    "refs_meta_useful = refs_meta[s[s!=0].index].reset_index(drop=True)\n",
    "ss = refs_meta_useful.sum(axis=0)\n",
    "refs_meta_useful = refs_meta_useful[ss[ss!=24].index]\n",
    "refs_meta_useful = refs_meta_useful.set_index('item_id')\n",
    "refs_meta_useful = refs_meta_useful.reindex(refs)\n",
    "refs_meta_useful"
   ]
  },
  {
   "cell_type": "code",
   "execution_count": null,
   "metadata": {},
   "outputs": [],
   "source": []
  },
  {
   "cell_type": "code",
   "execution_count": null,
   "metadata": {},
   "outputs": [],
   "source": [
    "cols_sum = refs_meta_useful.sum(axis=0)\n",
    "one_cols = cols_sum[cols_sum==1].index\n",
    "refs_meta_useful[one_cols]"
   ]
  },
  {
   "cell_type": "code",
   "execution_count": null,
   "metadata": {},
   "outputs": [],
   "source": [
    "meta_mapping[meta_mapping.item_id==110702]"
   ]
  },
  {
   "cell_type": "code",
   "execution_count": null,
   "metadata": {},
   "outputs": [],
   "source": [
    "m = pd.read_csv('./data/item_metadata.csv')"
   ]
  },
  {
   "cell_type": "code",
   "execution_count": null,
   "metadata": {},
   "outputs": [],
   "source": [
    "m[m.item_id==110702]"
   ]
  },
  {
   "cell_type": "code",
   "execution_count": null,
   "metadata": {},
   "outputs": [],
   "source": [
    "meta_mapping.columns.values"
   ]
  },
  {
   "cell_type": "code",
   "execution_count": null,
   "metadata": {
    "scrolled": true
   },
   "outputs": [],
   "source": [
    "meta_mapping[['1 star', '2 star', '3 star', 'from 3 stars', '4 star', 'from 4 stars', '5 star']]"
   ]
  },
  {
   "cell_type": "code",
   "execution_count": null,
   "metadata": {
    "scrolled": true
   },
   "outputs": [],
   "source": [
    "meta_mapping[['satisfactory rating', 'good rating', 'very good rating', 'excellent rating']]"
   ]
  },
  {
   "cell_type": "code",
   "execution_count": null,
   "metadata": {},
   "outputs": [],
   "source": [
    "meta_mapping.head()"
   ]
  },
  {
   "cell_type": "code",
   "execution_count": null,
   "metadata": {},
   "outputs": [],
   "source": [
    "(meta_mapping.loc[meta_mapping['good rating']==1, 'satisfactory rating']==0).sum()"
   ]
  },
  {
   "cell_type": "code",
   "execution_count": null,
   "metadata": {},
   "outputs": [],
   "source": [
    "81/187"
   ]
  },
  {
   "cell_type": "code",
   "execution_count": null,
   "metadata": {},
   "outputs": [],
   "source": [
    "1/25"
   ]
  },
  {
   "cell_type": "code",
   "execution_count": null,
   "metadata": {},
   "outputs": [],
   "source": [
    "s = '81|120|81|187|70|45|56|130|124|56|58|77|52|40|120|53|65|65|54|30|59|33|45|108|37'\n",
    "s = s.split('|')\n",
    "s = [int(i) for i in s]\n",
    "from scipy.stats import rankdata\n",
    "rankdata(s, method='dense')"
   ]
  },
  {
   "cell_type": "code",
   "execution_count": null,
   "metadata": {},
   "outputs": [],
   "source": [
    "17/20"
   ]
  },
  {
   "cell_type": "code",
   "execution_count": null,
   "metadata": {},
   "outputs": [],
   "source": [
    "# input_demo = train_inputs[train_inputs.session_id==rid].reset_index(drop=True)\n",
    "# input_demo"
   ]
  },
  {
   "cell_type": "code",
   "execution_count": null,
   "metadata": {
    "scrolled": false
   },
   "outputs": [],
   "source": [
    "# pp.pprint(input_demo.to_dict(orient='list'))"
   ]
  },
  {
   "cell_type": "code",
   "execution_count": null,
   "metadata": {},
   "outputs": [],
   "source": [
    "from create_model_inputs import change_sort_order_mapping\n",
    "change_sort_order_mapping()"
   ]
  },
  {
   "cell_type": "code",
   "execution_count": null,
   "metadata": {},
   "outputs": [],
   "source": []
  },
  {
   "cell_type": "markdown",
   "metadata": {},
   "source": [
    "### look at feature distribution"
   ]
  },
  {
   "cell_type": "code",
   "execution_count": 32,
   "metadata": {},
   "outputs": [
    {
     "data": {
      "text/plain": [
       "array(['session_id', 'step', 'device', 'fs', 'sort_order', 'imp_changed',\n",
       "       'session_size', 'session_duration', 'last_duration',\n",
       "       'last_action_type', 'last_reference_relative_loc', 'mean_rating',\n",
       "       'median_rating', 'mean_star', 'median_star', 'n_imps', 'target',\n",
       "       'mean_price', 'median_price', 'prices_0', 'prices_1', 'prices_2',\n",
       "       'prices_3', 'prices_4', 'prices_5', 'prices_6', 'prices_7',\n",
       "       'prices_8', 'prices_9', 'prices_10', 'prices_11', 'prices_12',\n",
       "       'prices_13', 'prices_14', 'prices_15', 'prices_16', 'prices_17',\n",
       "       'prices_18', 'prices_19', 'prices_20', 'prices_21', 'prices_22',\n",
       "       'prices_23', 'prices_24', 'prices_rank_0', 'prices_rank_1',\n",
       "       'prices_rank_2', 'prices_rank_3', 'prices_rank_4', 'prices_rank_5',\n",
       "       'prices_rank_6', 'prices_rank_7', 'prices_rank_8', 'prices_rank_9',\n",
       "       'prices_rank_10', 'prices_rank_11', 'prices_rank_12',\n",
       "       'prices_rank_13', 'prices_rank_14', 'prices_rank_15',\n",
       "       'prices_rank_16', 'prices_rank_17', 'prices_rank_18',\n",
       "       'prices_rank_19', 'prices_rank_20', 'prices_rank_21',\n",
       "       'prices_rank_22', 'prices_rank_23', 'prices_rank_24',\n",
       "       'prev_click_0', 'prev_click_1', 'prev_click_2', 'prev_click_3',\n",
       "       'prev_click_4', 'prev_click_5', 'prev_click_6', 'prev_click_7',\n",
       "       'prev_click_8', 'prev_click_9', 'prev_click_10', 'prev_click_11',\n",
       "       'prev_click_12', 'prev_click_13', 'prev_click_14', 'prev_click_15',\n",
       "       'prev_click_16', 'prev_click_17', 'prev_click_18', 'prev_click_19',\n",
       "       'prev_click_20', 'prev_click_21', 'prev_click_22', 'prev_click_23',\n",
       "       'prev_click_24', 'prev_interact_0', 'prev_interact_1',\n",
       "       'prev_interact_2', 'prev_interact_3', 'prev_interact_4',\n",
       "       'prev_interact_5', 'prev_interact_6', 'prev_interact_7',\n",
       "       'prev_interact_8', 'prev_interact_9', 'prev_interact_10',\n",
       "       'prev_interact_11', 'prev_interact_12', 'prev_interact_13',\n",
       "       'prev_interact_14', 'prev_interact_15', 'prev_interact_16',\n",
       "       'prev_interact_17', 'prev_interact_18', 'prev_interact_19',\n",
       "       'prev_interact_20', 'prev_interact_21', 'prev_interact_22',\n",
       "       'prev_interact_23', 'prev_interact_24', 'half_prices_rank_0',\n",
       "       'half_prices_rank_1', 'half_prices_rank_2', 'half_prices_rank_3',\n",
       "       'half_prices_rank_4', 'half_prices_rank_5', 'half_prices_rank_6',\n",
       "       'half_prices_rank_7', 'half_prices_rank_8', 'half_prices_rank_9',\n",
       "       'half_prices_rank_10', 'half_prices_rank_11', 'ratings_0',\n",
       "       'ratings_1', 'ratings_2', 'ratings_3', 'ratings_4', 'ratings_5',\n",
       "       'ratings_6', 'ratings_7', 'ratings_8', 'ratings_9', 'ratings_10',\n",
       "       'ratings_11', 'ratings_12', 'ratings_13', 'ratings_14',\n",
       "       'ratings_15', 'ratings_16', 'ratings_17', 'ratings_18',\n",
       "       'ratings_19', 'ratings_20', 'ratings_21', 'ratings_22',\n",
       "       'ratings_23', 'ratings_24', 'stars_0', 'stars_1', 'stars_2',\n",
       "       'stars_3', 'stars_4', 'stars_5', 'stars_6', 'stars_7', 'stars_8',\n",
       "       'stars_9', 'stars_10', 'stars_11', 'stars_12', 'stars_13',\n",
       "       'stars_14', 'stars_15', 'stars_16', 'stars_17', 'stars_18',\n",
       "       'stars_19', 'stars_20', 'stars_21', 'stars_22', 'stars_23',\n",
       "       'stars_24'], dtype=object)"
      ]
     },
     "execution_count": 32,
     "metadata": {},
     "output_type": "execute_result"
    }
   ],
   "source": [
    "train_inputs.columns.values"
   ]
  },
  {
   "cell_type": "code",
   "execution_count": 35,
   "metadata": {
    "scrolled": false
   },
   "outputs": [
    {
     "data": {
      "text/plain": [
       "{'imp_changed': 259463,\n",
       " 'last_duration': 97186,\n",
       " 'last_reference_relative_loc': 210298,\n",
       " 'mean_rating': 2,\n",
       " 'median_rating': 2,\n",
       " 'mean_star': 2,\n",
       " 'median_star': 2,\n",
       " 'prices_1': 1185,\n",
       " 'prices_2': 2703,\n",
       " 'prices_3': 4331,\n",
       " 'prices_4': 6054,\n",
       " 'prices_5': 7955,\n",
       " 'prices_6': 10027,\n",
       " 'prices_7': 12033,\n",
       " 'prices_8': 14251,\n",
       " 'prices_9': 16759,\n",
       " 'prices_10': 19536,\n",
       " 'prices_11': 25847,\n",
       " 'prices_12': 31699,\n",
       " 'prices_13': 37384,\n",
       " 'prices_14': 42905,\n",
       " 'prices_15': 47967,\n",
       " 'prices_16': 53124,\n",
       " 'prices_17': 57973,\n",
       " 'prices_18': 62607,\n",
       " 'prices_19': 67045,\n",
       " 'prices_20': 71446,\n",
       " 'prices_21': 75468,\n",
       " 'prices_22': 79503,\n",
       " 'prices_23': 83572,\n",
       " 'prices_24': 101427,\n",
       " 'prices_rank_1': 1185,\n",
       " 'prices_rank_2': 2703,\n",
       " 'prices_rank_3': 4331,\n",
       " 'prices_rank_4': 6054,\n",
       " 'prices_rank_5': 7955,\n",
       " 'prices_rank_6': 10027,\n",
       " 'prices_rank_7': 12033,\n",
       " 'prices_rank_8': 14251,\n",
       " 'prices_rank_9': 16759,\n",
       " 'prices_rank_10': 19536,\n",
       " 'prices_rank_11': 25847,\n",
       " 'prices_rank_12': 31699,\n",
       " 'prices_rank_13': 37384,\n",
       " 'prices_rank_14': 42905,\n",
       " 'prices_rank_15': 47967,\n",
       " 'prices_rank_16': 53124,\n",
       " 'prices_rank_17': 57973,\n",
       " 'prices_rank_18': 62607,\n",
       " 'prices_rank_19': 67045,\n",
       " 'prices_rank_20': 71446,\n",
       " 'prices_rank_21': 75468,\n",
       " 'prices_rank_22': 79503,\n",
       " 'prices_rank_23': 83572,\n",
       " 'prices_rank_24': 101427,\n",
       " 'prev_click_0': 97186,\n",
       " 'prev_click_1': 96713,\n",
       " 'prev_click_2': 96192,\n",
       " 'prev_click_3': 95696,\n",
       " 'prev_click_4': 95193,\n",
       " 'prev_click_5': 94686,\n",
       " 'prev_click_6': 94143,\n",
       " 'prev_click_7': 93600,\n",
       " 'prev_click_8': 93045,\n",
       " 'prev_click_9': 92438,\n",
       " 'prev_click_10': 91731,\n",
       " 'prev_click_11': 90349,\n",
       " 'prev_click_12': 89114,\n",
       " 'prev_click_13': 87917,\n",
       " 'prev_click_14': 86753,\n",
       " 'prev_click_15': 85687,\n",
       " 'prev_click_16': 84628,\n",
       " 'prev_click_17': 83662,\n",
       " 'prev_click_18': 82747,\n",
       " 'prev_click_19': 81902,\n",
       " 'prev_click_20': 81022,\n",
       " 'prev_click_21': 80214,\n",
       " 'prev_click_22': 79464,\n",
       " 'prev_click_23': 78669,\n",
       " 'prev_click_24': 74791,\n",
       " 'prev_interact_0': 97186,\n",
       " 'prev_interact_1': 96713,\n",
       " 'prev_interact_2': 96192,\n",
       " 'prev_interact_3': 95696,\n",
       " 'prev_interact_4': 95193,\n",
       " 'prev_interact_5': 94686,\n",
       " 'prev_interact_6': 94143,\n",
       " 'prev_interact_7': 93600,\n",
       " 'prev_interact_8': 93045,\n",
       " 'prev_interact_9': 92438,\n",
       " 'prev_interact_10': 91731,\n",
       " 'prev_interact_11': 90349,\n",
       " 'prev_interact_12': 89114,\n",
       " 'prev_interact_13': 87917,\n",
       " 'prev_interact_14': 86753,\n",
       " 'prev_interact_15': 85687,\n",
       " 'prev_interact_16': 84628,\n",
       " 'prev_interact_17': 83662,\n",
       " 'prev_interact_18': 82747,\n",
       " 'prev_interact_19': 81902,\n",
       " 'prev_interact_20': 81022,\n",
       " 'prev_interact_21': 80214,\n",
       " 'prev_interact_22': 79464,\n",
       " 'prev_interact_23': 78669,\n",
       " 'prev_interact_24': 74791,\n",
       " 'half_prices_rank_1': 1185,\n",
       " 'half_prices_rank_2': 2703,\n",
       " 'half_prices_rank_3': 4331,\n",
       " 'half_prices_rank_4': 6054,\n",
       " 'half_prices_rank_5': 7955,\n",
       " 'half_prices_rank_6': 10027,\n",
       " 'half_prices_rank_7': 12033,\n",
       " 'half_prices_rank_8': 14251,\n",
       " 'half_prices_rank_9': 16759,\n",
       " 'half_prices_rank_10': 19536,\n",
       " 'half_prices_rank_11': 25847,\n",
       " 'ratings_1': 1185,\n",
       " 'ratings_2': 2703,\n",
       " 'ratings_3': 4331,\n",
       " 'ratings_4': 6054,\n",
       " 'ratings_5': 7955,\n",
       " 'ratings_6': 10027,\n",
       " 'ratings_7': 12033,\n",
       " 'ratings_8': 14251,\n",
       " 'ratings_9': 16759,\n",
       " 'ratings_10': 19536,\n",
       " 'ratings_11': 25847,\n",
       " 'ratings_12': 31699,\n",
       " 'ratings_13': 37384,\n",
       " 'ratings_14': 42905,\n",
       " 'ratings_15': 47967,\n",
       " 'ratings_16': 53124,\n",
       " 'ratings_17': 57973,\n",
       " 'ratings_18': 62607,\n",
       " 'ratings_19': 67045,\n",
       " 'ratings_20': 71446,\n",
       " 'ratings_21': 75468,\n",
       " 'ratings_22': 79503,\n",
       " 'ratings_23': 83572,\n",
       " 'ratings_24': 101427,\n",
       " 'stars_1': 1185,\n",
       " 'stars_2': 2703,\n",
       " 'stars_3': 4331,\n",
       " 'stars_4': 6054,\n",
       " 'stars_5': 7955,\n",
       " 'stars_6': 10027,\n",
       " 'stars_7': 12033,\n",
       " 'stars_8': 14251,\n",
       " 'stars_9': 16759,\n",
       " 'stars_10': 19536,\n",
       " 'stars_11': 25847,\n",
       " 'stars_12': 31699,\n",
       " 'stars_13': 37384,\n",
       " 'stars_14': 42905,\n",
       " 'stars_15': 47967,\n",
       " 'stars_16': 53124,\n",
       " 'stars_17': 57973,\n",
       " 'stars_18': 62607,\n",
       " 'stars_19': 67045,\n",
       " 'stars_20': 71446,\n",
       " 'stars_21': 75468,\n",
       " 'stars_22': 79503,\n",
       " 'stars_23': 83572,\n",
       " 'stars_24': 101427}"
      ]
     },
     "execution_count": 35,
     "metadata": {},
     "output_type": "execute_result"
    }
   ],
   "source": [
    "nans = train_inputs.isna().sum()\n",
    "nans[nans>0].to_dict()"
   ]
  },
  {
   "cell_type": "code",
   "execution_count": null,
   "metadata": {},
   "outputs": [],
   "source": []
  },
  {
   "cell_type": "code",
   "execution_count": null,
   "metadata": {},
   "outputs": [],
   "source": []
  },
  {
   "cell_type": "code",
   "execution_count": null,
   "metadata": {},
   "outputs": [],
   "source": []
  },
  {
   "cell_type": "code",
   "execution_count": null,
   "metadata": {},
   "outputs": [],
   "source": []
  },
  {
   "cell_type": "markdown",
   "metadata": {},
   "source": [
    "### country related"
   ]
  },
  {
   "cell_type": "code",
   "execution_count": null,
   "metadata": {},
   "outputs": [],
   "source": [
    "cp = load_data('train', usecols=['city', 'platform'])"
   ]
  },
  {
   "cell_type": "code",
   "execution_count": null,
   "metadata": {},
   "outputs": [],
   "source": [
    "cp['country'] = cp['city'].str.split(', ').str[-1]\n",
    "cp['country'] = cp['country'].str.lower()"
   ]
  },
  {
   "cell_type": "code",
   "execution_count": null,
   "metadata": {},
   "outputs": [],
   "source": [
    "countries = cp['country'].unique()"
   ]
  },
  {
   "cell_type": "code",
   "execution_count": null,
   "metadata": {},
   "outputs": [],
   "source": [
    "platforms = cp['platform'].unique()"
   ]
  },
  {
   "cell_type": "code",
   "execution_count": null,
   "metadata": {},
   "outputs": [],
   "source": [
    "country2code = np.load('data/country2code.npy').item()"
   ]
  },
  {
   "cell_type": "code",
   "execution_count": null,
   "metadata": {},
   "outputs": [],
   "source": [
    "code2country = np.load('data/code2country.npy').item()"
   ]
  },
  {
   "cell_type": "code",
   "execution_count": null,
   "metadata": {
    "scrolled": false
   },
   "outputs": [],
   "source": [
    "set(countries) - set(list(country2code.keys()))"
   ]
  },
  {
   "cell_type": "code",
   "execution_count": null,
   "metadata": {
    "scrolled": false
   },
   "outputs": [],
   "source": [
    "set(list(country2code.keys())) - set(countries)"
   ]
  },
  {
   "cell_type": "code",
   "execution_count": null,
   "metadata": {},
   "outputs": [],
   "source": [
    "fix_dict = {'bermudas': 'bermuda', \n",
    "            'bes islands': None,\n",
    "            'brunei':'brunei darussalam',\n",
    "            'china': \"people's republic of china\",\n",
    "            'crimea': None,\n",
    "            'curacao': 'netherlands antilles',\n",
    "            'democratic republic of congo': 'congo, the democratic republic of',\n",
    "            'east timor': 'timor',\n",
    "            'french antilles': None,\n",
    "            'guinea-bissau': None,\n",
    "            'iran': 'iran, islamic republic of',\n",
    "            'ivory coast': \"côte d'ivoire\",\n",
    "            'kosovo': None,\n",
    "            'laos': \"lao people's democratic republic\"\n",
    "           }"
   ]
  },
  {
   "cell_type": "code",
   "execution_count": null,
   "metadata": {},
   "outputs": [],
   "source": [
    "train_raw.impressions.notna()[train_raw.impressions.notna()].index[0]"
   ]
  },
  {
   "cell_type": "code",
   "execution_count": null,
   "metadata": {},
   "outputs": [],
   "source": []
  },
  {
   "cell_type": "code",
   "execution_count": null,
   "metadata": {},
   "outputs": [],
   "source": []
  },
  {
   "cell_type": "code",
   "execution_count": null,
   "metadata": {},
   "outputs": [],
   "source": []
  },
  {
   "cell_type": "code",
   "execution_count": null,
   "metadata": {},
   "outputs": [],
   "source": []
  },
  {
   "cell_type": "code",
   "execution_count": null,
   "metadata": {},
   "outputs": [],
   "source": []
  },
  {
   "cell_type": "code",
   "execution_count": null,
   "metadata": {},
   "outputs": [],
   "source": []
  },
  {
   "cell_type": "code",
   "execution_count": null,
   "metadata": {},
   "outputs": [],
   "source": []
  },
  {
   "cell_type": "code",
   "execution_count": null,
   "metadata": {},
   "outputs": [],
   "source": []
  },
  {
   "cell_type": "code",
   "execution_count": null,
   "metadata": {},
   "outputs": [],
   "source": []
  },
  {
   "cell_type": "code",
   "execution_count": null,
   "metadata": {},
   "outputs": [],
   "source": []
  },
  {
   "cell_type": "code",
   "execution_count": null,
   "metadata": {},
   "outputs": [],
   "source": []
  },
  {
   "cell_type": "code",
   "execution_count": null,
   "metadata": {},
   "outputs": [],
   "source": []
  },
  {
   "cell_type": "code",
   "execution_count": null,
   "metadata": {},
   "outputs": [],
   "source": []
  },
  {
   "cell_type": "code",
   "execution_count": null,
   "metadata": {},
   "outputs": [],
   "source": [
    "a = pd.read_parquet('./gbm_cache/preprocess_train_5000000_test_added.snappy')"
   ]
  },
  {
   "cell_type": "code",
   "execution_count": null,
   "metadata": {},
   "outputs": [],
   "source": [
    "a.reference.head()"
   ]
  },
  {
   "cell_type": "code",
   "execution_count": null,
   "metadata": {},
   "outputs": [],
   "source": [
    "a.reference.isna().sum()"
   ]
  },
  {
   "cell_type": "code",
   "execution_count": null,
   "metadata": {},
   "outputs": [],
   "source": [
    "a[a.reference.isna()]"
   ]
  },
  {
   "cell_type": "code",
   "execution_count": null,
   "metadata": {},
   "outputs": [],
   "source": [
    "b = pd.read_csv('./data/test.csv')"
   ]
  },
  {
   "cell_type": "code",
   "execution_count": null,
   "metadata": {},
   "outputs": [],
   "source": [
    "b[b.session_id=='2a181b2125efe']"
   ]
  },
  {
   "cell_type": "code",
   "execution_count": null,
   "metadata": {},
   "outputs": [],
   "source": [
    "import datetime\n",
    "b['timestamp'] = b['timestamp'].apply(lambda ts: datetime.datetime.utcfromtimestamp(ts))\n"
   ]
  },
  {
   "cell_type": "code",
   "execution_count": null,
   "metadata": {},
   "outputs": [],
   "source": [
    "b.timestamp"
   ]
  },
  {
   "cell_type": "code",
   "execution_count": null,
   "metadata": {},
   "outputs": [],
   "source": [
    "a = pd.DataFrame({'A': np.random.randint(0, 3 ,10), 'B': np.random.randint(0, 5 ,10)})\n",
    "a.loc[np.random.choice(a.index, 3), 'B'] = np.nan\n",
    "a"
   ]
  },
  {
   "cell_type": "code",
   "execution_count": null,
   "metadata": {},
   "outputs": [],
   "source": [
    "c = a.groupby('A')['B'].apply(list).reset_index()\n",
    "c"
   ]
  },
  {
   "cell_type": "code",
   "execution_count": null,
   "metadata": {},
   "outputs": [],
   "source": [
    "c.reset_index().B.values.tolist()"
   ]
  },
  {
   "cell_type": "code",
   "execution_count": null,
   "metadata": {},
   "outputs": [],
   "source": [
    "m = {0: 'E', 1: 'Q'}\n",
    "a.A.map(m)"
   ]
  },
  {
   "cell_type": "code",
   "execution_count": null,
   "metadata": {},
   "outputs": [],
   "source": []
  }
 ],
 "metadata": {
  "kernelspec": {
   "display_name": "Python 3",
   "language": "python",
   "name": "python3"
  },
  "language_info": {
   "codemirror_mode": {
    "name": "ipython",
    "version": 3
   },
   "file_extension": ".py",
   "mimetype": "text/x-python",
   "name": "python",
   "nbconvert_exporter": "python",
   "pygments_lexer": "ipython3",
   "version": "3.6.8"
  }
 },
 "nbformat": 4,
 "nbformat_minor": 2
}
