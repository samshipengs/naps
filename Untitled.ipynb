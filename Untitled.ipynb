{
 "cells": [
  {
   "cell_type": "code",
   "execution_count": 1,
   "metadata": {},
   "outputs": [],
   "source": [
    "import multiprocessing as mp\n",
    "import time\n",
    "import os\n",
    "import gc\n",
    "\n",
    "import pandas as pd\n",
    "import numpy as np\n",
    "from tqdm import tqdm\n",
    "from sklearn.metrics import log_loss, auc, roc_curve, f1_score, average_precision_score, mean_squared_error\n",
    "from sklearn.model_selection import StratifiedKFold\n",
    "import catboost as cat\n",
    "\n",
    "from reduce_memory import reduce_numeric_mem_usage, reduce_object_mem_usage\n",
    "\n",
    "%matplotlib inline\n",
    "%load_ext autoreload\n",
    "%autoreload 2"
   ]
  },
  {
   "cell_type": "code",
   "execution_count": 2,
   "metadata": {},
   "outputs": [],
   "source": [
    "xtrain = pd.read_hdf('data.h5', 'train')"
   ]
  },
  {
   "cell_type": "code",
   "execution_count": 3,
   "metadata": {},
   "outputs": [],
   "source": [
    "xval = pd.read_hdf('data.h5', 'val')"
   ]
  },
  {
   "cell_type": "code",
   "execution_count": 4,
   "metadata": {},
   "outputs": [
    {
     "name": "stdout",
     "output_type": "stream",
     "text": [
      "total 18126896\r\n",
      "-rw-r--r--  1 sam_dessa  staff    73K 15 Mar 15:08 data_exploring.ipynb\r\n",
      "-rw-r--r--  1 sam_dessa  staff   4.4K 15 Mar 15:10 reduce_memory.py\r\n",
      "-rw-r--r--  1 sam_dessa  staff    47K 16 Mar 17:35 test-Copy1.ipynb\r\n",
      "drwxr-xr-x  3 sam_dessa  staff    96B 16 Mar 17:36 \u001b[34m__pycache__\u001b[m\u001b[m\r\n",
      "-rw-r--r--  1 sam_dessa  staff    76M 16 Mar 18:12 session_fts.csv\r\n",
      "drwxr-xr-x  8 sam_dessa  staff   256B 17 Mar 08:17 \u001b[34mdata\u001b[m\u001b[m\r\n",
      "-rw-r--r--  1 sam_dessa  staff   3.3G 17 Mar 11:40 xtrain.csv\r\n",
      "-rw-r--r--  1 sam_dessa  staff   5.2G 17 Mar 11:47 data.h5\r\n",
      "drwxr-xr-x  9 sam_dessa  staff   288B 17 Mar 13:54 \u001b[34mcatboost_info\u001b[m\u001b[m\r\n",
      "-rw-r--r--  1 sam_dessa  staff   131K 17 Mar 13:54 test.ipynb\r\n",
      "-rw-r--r--  1 sam_dessa  staff   6.3K 17 Mar 22:01 Untitled.ipynb\r\n"
     ]
    }
   ],
   "source": [
    "!ls -lthr"
   ]
  },
  {
   "cell_type": "code",
   "execution_count": 5,
   "metadata": {},
   "outputs": [
    {
     "data": {
      "text/html": [
       "<div>\n",
       "<style scoped>\n",
       "    .dataframe tbody tr th:only-of-type {\n",
       "        vertical-align: middle;\n",
       "    }\n",
       "\n",
       "    .dataframe tbody tr th {\n",
       "        vertical-align: top;\n",
       "    }\n",
       "\n",
       "    .dataframe thead th {\n",
       "        text-align: right;\n",
       "    }\n",
       "</style>\n",
       "<table border=\"1\" class=\"dataframe\">\n",
       "  <thead>\n",
       "    <tr style=\"text-align: right;\">\n",
       "      <th></th>\n",
       "      <th>item_id</th>\n",
       "      <th>appeared</th>\n",
       "      <th>location</th>\n",
       "      <th>price</th>\n",
       "      <th>rel_price_rank</th>\n",
       "      <th>price_mean</th>\n",
       "      <th>price_median</th>\n",
       "      <th>diff_mean</th>\n",
       "      <th>diff_median</th>\n",
       "      <th>diff_mean_rel</th>\n",
       "      <th>...</th>\n",
       "      <th>action_type_click_rel_pos_avg</th>\n",
       "      <th>city_nunique</th>\n",
       "      <th>city_get_first</th>\n",
       "      <th>platform_get_first</th>\n",
       "      <th>device_get_first</th>\n",
       "      <th>nfilters_mean</th>\n",
       "      <th>nfilters_max</th>\n",
       "      <th>nfilters_min</th>\n",
       "      <th>nfilters_get_last</th>\n",
       "      <th>nimps_max</th>\n",
       "    </tr>\n",
       "    <tr>\n",
       "      <th>session_id</th>\n",
       "      <th></th>\n",
       "      <th></th>\n",
       "      <th></th>\n",
       "      <th></th>\n",
       "      <th></th>\n",
       "      <th></th>\n",
       "      <th></th>\n",
       "      <th></th>\n",
       "      <th></th>\n",
       "      <th></th>\n",
       "      <th></th>\n",
       "      <th></th>\n",
       "      <th></th>\n",
       "      <th></th>\n",
       "      <th></th>\n",
       "      <th></th>\n",
       "      <th></th>\n",
       "      <th></th>\n",
       "      <th></th>\n",
       "      <th></th>\n",
       "      <th></th>\n",
       "    </tr>\n",
       "  </thead>\n",
       "  <tbody>\n",
       "    <tr>\n",
       "      <th>00000510f1adc</th>\n",
       "      <td>10684446</td>\n",
       "      <td>0</td>\n",
       "      <td>0</td>\n",
       "      <td>9</td>\n",
       "      <td>1.00</td>\n",
       "      <td>27.32</td>\n",
       "      <td>20.0</td>\n",
       "      <td>-18.32</td>\n",
       "      <td>-11.0</td>\n",
       "      <td>-2.035556</td>\n",
       "      <td>...</td>\n",
       "      <td>0.0</td>\n",
       "      <td>1</td>\n",
       "      <td>Ganpatipule, India</td>\n",
       "      <td>IN</td>\n",
       "      <td>desktop</td>\n",
       "      <td>NaN</td>\n",
       "      <td>NaN</td>\n",
       "      <td>NaN</td>\n",
       "      <td>NaN</td>\n",
       "      <td>25.0</td>\n",
       "    </tr>\n",
       "    <tr>\n",
       "      <th>00000510f1adc</th>\n",
       "      <td>5752778</td>\n",
       "      <td>0</td>\n",
       "      <td>1</td>\n",
       "      <td>12</td>\n",
       "      <td>0.48</td>\n",
       "      <td>27.32</td>\n",
       "      <td>20.0</td>\n",
       "      <td>-15.32</td>\n",
       "      <td>-8.0</td>\n",
       "      <td>-1.276667</td>\n",
       "      <td>...</td>\n",
       "      <td>0.0</td>\n",
       "      <td>1</td>\n",
       "      <td>Ganpatipule, India</td>\n",
       "      <td>IN</td>\n",
       "      <td>desktop</td>\n",
       "      <td>NaN</td>\n",
       "      <td>NaN</td>\n",
       "      <td>NaN</td>\n",
       "      <td>NaN</td>\n",
       "      <td>25.0</td>\n",
       "    </tr>\n",
       "    <tr>\n",
       "      <th>00000510f1adc</th>\n",
       "      <td>2661832</td>\n",
       "      <td>0</td>\n",
       "      <td>2</td>\n",
       "      <td>46</td>\n",
       "      <td>0.04</td>\n",
       "      <td>27.32</td>\n",
       "      <td>20.0</td>\n",
       "      <td>18.68</td>\n",
       "      <td>26.0</td>\n",
       "      <td>0.406087</td>\n",
       "      <td>...</td>\n",
       "      <td>0.0</td>\n",
       "      <td>1</td>\n",
       "      <td>Ganpatipule, India</td>\n",
       "      <td>IN</td>\n",
       "      <td>desktop</td>\n",
       "      <td>NaN</td>\n",
       "      <td>NaN</td>\n",
       "      <td>NaN</td>\n",
       "      <td>NaN</td>\n",
       "      <td>25.0</td>\n",
       "    </tr>\n",
       "    <tr>\n",
       "      <th>00000510f1adc</th>\n",
       "      <td>7187604</td>\n",
       "      <td>0</td>\n",
       "      <td>3</td>\n",
       "      <td>20</td>\n",
       "      <td>0.08</td>\n",
       "      <td>27.32</td>\n",
       "      <td>20.0</td>\n",
       "      <td>-7.32</td>\n",
       "      <td>0.0</td>\n",
       "      <td>-0.366000</td>\n",
       "      <td>...</td>\n",
       "      <td>0.0</td>\n",
       "      <td>1</td>\n",
       "      <td>Ganpatipule, India</td>\n",
       "      <td>IN</td>\n",
       "      <td>desktop</td>\n",
       "      <td>NaN</td>\n",
       "      <td>NaN</td>\n",
       "      <td>NaN</td>\n",
       "      <td>NaN</td>\n",
       "      <td>25.0</td>\n",
       "    </tr>\n",
       "    <tr>\n",
       "      <th>00000510f1adc</th>\n",
       "      <td>5940680</td>\n",
       "      <td>0</td>\n",
       "      <td>4</td>\n",
       "      <td>21</td>\n",
       "      <td>0.84</td>\n",
       "      <td>27.32</td>\n",
       "      <td>20.0</td>\n",
       "      <td>-6.32</td>\n",
       "      <td>1.0</td>\n",
       "      <td>-0.300952</td>\n",
       "      <td>...</td>\n",
       "      <td>0.0</td>\n",
       "      <td>1</td>\n",
       "      <td>Ganpatipule, India</td>\n",
       "      <td>IN</td>\n",
       "      <td>desktop</td>\n",
       "      <td>NaN</td>\n",
       "      <td>NaN</td>\n",
       "      <td>NaN</td>\n",
       "      <td>NaN</td>\n",
       "      <td>25.0</td>\n",
       "    </tr>\n",
       "  </tbody>\n",
       "</table>\n",
       "<p>5 rows × 37 columns</p>\n",
       "</div>"
      ],
      "text/plain": [
       "                item_id  appeared  location  price  rel_price_rank  \\\n",
       "session_id                                                           \n",
       "00000510f1adc  10684446         0         0      9            1.00   \n",
       "00000510f1adc   5752778         0         1     12            0.48   \n",
       "00000510f1adc   2661832         0         2     46            0.04   \n",
       "00000510f1adc   7187604         0         3     20            0.08   \n",
       "00000510f1adc   5940680         0         4     21            0.84   \n",
       "\n",
       "               price_mean  price_median  diff_mean  diff_median  \\\n",
       "session_id                                                        \n",
       "00000510f1adc       27.32          20.0     -18.32        -11.0   \n",
       "00000510f1adc       27.32          20.0     -15.32         -8.0   \n",
       "00000510f1adc       27.32          20.0      18.68         26.0   \n",
       "00000510f1adc       27.32          20.0      -7.32          0.0   \n",
       "00000510f1adc       27.32          20.0      -6.32          1.0   \n",
       "\n",
       "               diff_mean_rel    ...      action_type_click_rel_pos_avg  \\\n",
       "session_id                      ...                                      \n",
       "00000510f1adc      -2.035556    ...                                0.0   \n",
       "00000510f1adc      -1.276667    ...                                0.0   \n",
       "00000510f1adc       0.406087    ...                                0.0   \n",
       "00000510f1adc      -0.366000    ...                                0.0   \n",
       "00000510f1adc      -0.300952    ...                                0.0   \n",
       "\n",
       "               city_nunique      city_get_first  platform_get_first  \\\n",
       "session_id                                                            \n",
       "00000510f1adc             1  Ganpatipule, India                  IN   \n",
       "00000510f1adc             1  Ganpatipule, India                  IN   \n",
       "00000510f1adc             1  Ganpatipule, India                  IN   \n",
       "00000510f1adc             1  Ganpatipule, India                  IN   \n",
       "00000510f1adc             1  Ganpatipule, India                  IN   \n",
       "\n",
       "               device_get_first  nfilters_mean  nfilters_max  nfilters_min  \\\n",
       "session_id                                                                   \n",
       "00000510f1adc           desktop            NaN           NaN           NaN   \n",
       "00000510f1adc           desktop            NaN           NaN           NaN   \n",
       "00000510f1adc           desktop            NaN           NaN           NaN   \n",
       "00000510f1adc           desktop            NaN           NaN           NaN   \n",
       "00000510f1adc           desktop            NaN           NaN           NaN   \n",
       "\n",
       "               nfilters_get_last  nimps_max  \n",
       "session_id                                   \n",
       "00000510f1adc                NaN       25.0  \n",
       "00000510f1adc                NaN       25.0  \n",
       "00000510f1adc                NaN       25.0  \n",
       "00000510f1adc                NaN       25.0  \n",
       "00000510f1adc                NaN       25.0  \n",
       "\n",
       "[5 rows x 37 columns]"
      ]
     },
     "execution_count": 5,
     "metadata": {},
     "output_type": "execute_result"
    }
   ],
   "source": [
    "xtrain.head()"
   ]
  },
  {
   "cell_type": "code",
   "execution_count": 6,
   "metadata": {},
   "outputs": [
    {
     "data": {
      "text/plain": [
       "Index(['item_id', 'appeared', 'location', 'price', 'rel_price_rank',\n",
       "       'price_mean', 'price_median', 'diff_mean', 'diff_median',\n",
       "       'diff_mean_rel', 'diff_median_rel', 'nprop', 'star', 'good_rating',\n",
       "       'satisfactory_rating', 'excellent_rating', 'star_mean', 'gr_mean',\n",
       "       'sr_mean', 'er_mean', 'target', 'timestamp_ptp',\n",
       "       'timestamp_mean_dwell_time', 'timestamp_var_dwell_time', 'step_max',\n",
       "       'action_type_nunique', 'action_type_n_clickouts',\n",
       "       'action_type_click_rel_pos_avg', 'city_nunique', 'city_get_first',\n",
       "       'platform_get_first', 'device_get_first', 'nfilters_mean',\n",
       "       'nfilters_max', 'nfilters_min', 'nfilters_get_last', 'nimps_max'],\n",
       "      dtype='object')"
      ]
     },
     "execution_count": 6,
     "metadata": {},
     "output_type": "execute_result"
    }
   ],
   "source": [
    "xtrain.columns"
   ]
  },
  {
   "cell_type": "code",
   "execution_count": 7,
   "metadata": {},
   "outputs": [
    {
     "data": {
      "text/plain": [
       "Index(['city_get_first', 'platform_get_first', 'device_get_first'], dtype='object')"
      ]
     },
     "execution_count": 7,
     "metadata": {},
     "output_type": "execute_result"
    }
   ],
   "source": [
    "xtrain.columns[xtrain.dtypes=='O']"
   ]
  },
  {
   "cell_type": "code",
   "execution_count": 8,
   "metadata": {},
   "outputs": [
    {
     "name": "stdout",
     "output_type": "stream",
     "text": [
      "city_get_first\n",
      "platform_get_first\n",
      "device_get_first\n",
      "item_id\n"
     ]
    }
   ],
   "source": [
    "cat_fts = ['city_get_first', 'platform_get_first', 'device_get_first', 'item_id']\n",
    "# convert to categorical\n",
    "for c in cat_fts:\n",
    "    print(c)\n",
    "    maps = np.concatenate([xtrain[c].unique(), xval[c].unique()])\n",
    "    mapper = dict(zip(maps, np.arange(len(maps), dtype=int)))\n",
    "    xtrain[c] = xtrain[c].map(mapper)\n",
    "    xval[c] = xval[c].map(mapper)\n"
   ]
  },
  {
   "cell_type": "code",
   "execution_count": 9,
   "metadata": {},
   "outputs": [],
   "source": [
    "y_trn = xtrain['target']\n",
    "y_val = xval['target']\n",
    "del xtrain['target'], xval['target']"
   ]
  },
  {
   "cell_type": "code",
   "execution_count": 10,
   "metadata": {},
   "outputs": [
    {
     "name": "stdout",
     "output_type": "stream",
     "text": [
      "0:\tlearn: 0.6648662\ttest: 0.6648559\tbest: 0.6648559 (0)\ttotal: 12.2s\tremaining: 10h 11m\n",
      "100:\tlearn: 0.1765852\ttest: 0.1759398\tbest: 0.1759398 (100)\ttotal: 16m 37s\tremaining: 7h 57m 14s\n",
      "200:\tlearn: 0.1686745\ttest: 0.1683765\tbest: 0.1683765 (200)\ttotal: 30m 59s\tremaining: 7h 11m 29s\n",
      "300:\tlearn: 0.1670404\ttest: 0.1671582\tbest: 0.1671563 (299)\ttotal: 49m 15s\tremaining: 7h 21m 39s\n",
      "400:\tlearn: 0.1660805\ttest: 0.1665179\tbest: 0.1665179 (400)\ttotal: 1h 10m 4s\tremaining: 7h 34m 13s\n",
      "500:\tlearn: 0.1653671\ttest: 0.1659986\tbest: 0.1659986 (500)\ttotal: 1h 27m 3s\tremaining: 7h 14m 14s\n",
      "600:\tlearn: 0.1648262\ttest: 0.1657734\tbest: 0.1657732 (597)\ttotal: 1h 46m 39s\tremaining: 7h 5m 42s\n",
      "700:\tlearn: 0.1643040\ttest: 0.1655444\tbest: 0.1655444 (700)\ttotal: 2h 7m 6s\tremaining: 6h 56m 51s\n",
      "800:\tlearn: 0.1638305\ttest: 0.1653741\tbest: 0.1653741 (800)\ttotal: 2h 26m 57s\tremaining: 6h 43m 27s\n",
      "900:\tlearn: 0.1634165\ttest: 0.1651849\tbest: 0.1651841 (899)\ttotal: 2h 46m 29s\tremaining: 6h 27m 52s\n",
      "1000:\tlearn: 0.1630682\ttest: 0.1650250\tbest: 0.1650250 (1000)\ttotal: 3h 5m 58s\tremaining: 6h 11m 24s\n",
      "1100:\tlearn: 0.1627250\ttest: 0.1648630\tbest: 0.1648630 (1100)\ttotal: 3h 26m 8s\tremaining: 5h 55m 32s\n",
      "1200:\tlearn: 0.1623953\ttest: 0.1647259\tbest: 0.1647259 (1200)\ttotal: 3h 46m 20s\tremaining: 5h 39m 2s\n",
      "1300:\tlearn: 0.1620943\ttest: 0.1646286\tbest: 0.1646286 (1300)\ttotal: 4h 6m 35s\tremaining: 5h 22m 1s\n",
      "1400:\tlearn: 0.1617941\ttest: 0.1645557\tbest: 0.1645557 (1400)\ttotal: 4h 26m 27s\tremaining: 5h 4m 7s\n",
      "1500:\tlearn: 0.1615272\ttest: 0.1644504\tbest: 0.1644504 (1500)\ttotal: 4h 46m 43s\tremaining: 4h 46m 20s\n",
      "1600:\tlearn: 0.1612789\ttest: 0.1643823\tbest: 0.1643823 (1600)\ttotal: 5h 7m 19s\tremaining: 4h 28m 33s\n",
      "1700:\tlearn: 0.1610546\ttest: 0.1643150\tbest: 0.1643150 (1700)\ttotal: 5h 27m 44s\tremaining: 4h 10m 17s\n",
      "1800:\tlearn: 0.1608251\ttest: 0.1642517\tbest: 0.1642517 (1800)\ttotal: 5h 47m 58s\tremaining: 3h 51m 39s\n",
      "1900:\tlearn: 0.1606111\ttest: 0.1641933\tbest: 0.1641933 (1900)\ttotal: 6h 8m 35s\tremaining: 3h 33m 5s\n",
      "2000:\tlearn: 0.1604009\ttest: 0.1641469\tbest: 0.1641421 (1986)\ttotal: 6h 29m 15s\tremaining: 3h 14m 20s\n",
      "2100:\tlearn: 0.1602064\ttest: 0.1641013\tbest: 0.1641013 (2100)\ttotal: 6h 49m 10s\tremaining: 2h 55m 4s\n",
      "2200:\tlearn: 0.1600476\ttest: 0.1640532\tbest: 0.1640532 (2200)\ttotal: 7h 9m 16s\tremaining: 2h 35m 50s\n",
      "2300:\tlearn: 0.1598650\ttest: 0.1640256\tbest: 0.1640241 (2290)\ttotal: 7h 29m 50s\tremaining: 2h 16m 39s\n",
      "2400:\tlearn: 0.1597283\ttest: 0.1639773\tbest: 0.1639773 (2400)\ttotal: 7h 49m 28s\tremaining: 1h 57m 7s\n",
      "2500:\tlearn: 0.1595990\ttest: 0.1639362\tbest: 0.1639362 (2500)\ttotal: 8h 9m 11s\tremaining: 1h 37m 36s\n",
      "2600:\tlearn: 0.1594460\ttest: 0.1639124\tbest: 0.1639124 (2600)\ttotal: 8h 29m 1s\tremaining: 1h 18m 5s\n",
      "2700:\tlearn: 0.1592963\ttest: 0.1638790\tbest: 0.1638790 (2700)\ttotal: 8h 49m 54s\tremaining: 58m 39s\n",
      "2800:\tlearn: 0.1591481\ttest: 0.1638695\tbest: 0.1638645 (2791)\ttotal: 9h 10m 8s\tremaining: 39m 5s\n",
      "2900:\tlearn: 0.1589767\ttest: 0.1638459\tbest: 0.1638428 (2894)\ttotal: 9h 31m 2s\tremaining: 19m 29s\n",
      "2999:\tlearn: 0.1588712\ttest: 0.1638173\tbest: 0.1638173 (2999)\ttotal: 9h 51m 23s\tremaining: 0us\n",
      "\n",
      "bestTest = 0.1638172962\n",
      "bestIteration = 2999\n",
      "\n",
      "Done!\n",
      "logloss=0.1638 | map=0.1601 | auc=0.7187\n"
     ]
    }
   ],
   "source": [
    "params = {'iterations': 3000,\n",
    "          'learning_rate': 0.02,\n",
    "          'depth': 8}\n",
    "\n",
    "categorical_ind = [k for k, v in enumerate(xtrain.columns) if v in cat_fts ]\n",
    "\n",
    "# train model\n",
    "clf = cat.CatBoostClassifier(**params)\n",
    "clf.fit(xtrain, y_trn,\n",
    "        cat_features=categorical_ind,\n",
    "        eval_set=(xval, y_val),\n",
    "        early_stopping_rounds=100,\n",
    "        verbose=100,\n",
    "        plot=False)\n",
    "print('Done!')\n",
    "\n",
    "# saves for each fold\n",
    "clfs = []\n",
    "cv_scores = []\n",
    "val_inds = []\n",
    "\n",
    "# append model\n",
    "clfs.append(clf)\n",
    "# make prediction on validation set\n",
    "val_pred = clf.predict_proba(xval)[:, 1]\n",
    "logloss_i = log_loss(y_val, val_pred)\n",
    "cv_scores.append(logloss_i)\n",
    "# compute roc auc\n",
    "fpr, tpr, thresholds = roc_curve(y_val, val_pred, pos_label=1)\n",
    "auc_i = auc(fpr, tpr)\n",
    "# compute map\n",
    "map_i = average_precision_score(y_val, val_pred)\n",
    "print('logloss={0:.4f} | map={1:.4f} | auc={2:.4f}'.format(logloss_i, map_i, auc_i))"
   ]
  },
  {
   "cell_type": "code",
   "execution_count": 11,
   "metadata": {},
   "outputs": [],
   "source": [
    "# compute mean rr\n",
    "xval['pred'] = val_pred"
   ]
  },
  {
   "cell_type": "code",
   "execution_count": 12,
   "metadata": {},
   "outputs": [],
   "source": [
    "# xval['pred']"
   ]
  },
  {
   "cell_type": "code",
   "execution_count": 13,
   "metadata": {},
   "outputs": [],
   "source": [
    "# xtrain[train=='084dbb067c71e']"
   ]
  },
  {
   "cell_type": "code",
   "execution_count": 14,
   "metadata": {},
   "outputs": [],
   "source": [
    "def reciprocal_rank(df):\n",
    "    pred_list = df['pred'].values\n",
    "    sorted_ind = np.argsort(pred_list)[::-1]\n",
    "    ranked_items = df['item_id'].iloc[sorted_ind].values\n",
    "    try:\n",
    "        rank = sorted_ind[np.where(df['target'] == 1)[0][0]]\n",
    "    except:\n",
    "        return 0\n",
    "#     return 1/(rank+1)\n",
    "    return rank+1\n",
    "\n",
    "xval['target'] = y_val\n",
    "val_rr = xval.groupby('session_id').apply(reciprocal_rank)"
   ]
  },
  {
   "cell_type": "code",
   "execution_count": 15,
   "metadata": {},
   "outputs": [
    {
     "data": {
      "text/plain": [
       "city_get_first         28117\n",
       "platform_get_first        55\n",
       "device_get_first           3\n",
       "item_id               772767\n",
       "dtype: int64"
      ]
     },
     "execution_count": 15,
     "metadata": {},
     "output_type": "execute_result"
    }
   ],
   "source": [
    "xtrain[cat_fts].nunique()"
   ]
  },
  {
   "cell_type": "code",
   "execution_count": 16,
   "metadata": {},
   "outputs": [
    {
     "data": {
      "text/plain": [
       "11.681989356502104"
      ]
     },
     "execution_count": 16,
     "metadata": {},
     "output_type": "execute_result"
    }
   ],
   "source": [
    "val_rr[val_rr!=0].mean()"
   ]
  },
  {
   "cell_type": "code",
   "execution_count": 17,
   "metadata": {},
   "outputs": [
    {
     "data": {
      "text/plain": [
       "<matplotlib.axes._subplots.AxesSubplot at 0x132913630>"
      ]
     },
     "execution_count": 17,
     "metadata": {},
     "output_type": "execute_result"
    },
    {
     "data": {
      "image/png": "[encoded data removed]",
      "text/plain": [
       "<Figure size 432x288 with 1 Axes>"
      ]
     },
     "metadata": {
      "needs_background": "light"
     },
     "output_type": "display_data"
    }
   ],
   "source": [
    "val_rr[val_rr!=0].hist(bins=50)"
   ]
  },
  {
   "cell_type": "code",
   "execution_count": 23,
   "metadata": {},
   "outputs": [
    {
     "data": {
      "text/plain": [
       "0.18775554961099053"
      ]
     },
     "execution_count": 23,
     "metadata": {},
     "output_type": "execute_result"
    }
   ],
   "source": [
    "(1/val_rr[val_rr!=0]).mean()"
   ]
  },
  {
   "cell_type": "code",
   "execution_count": 18,
   "metadata": {},
   "outputs": [
    {
     "data": {
      "text/plain": [
       "<matplotlib.axes._subplots.AxesSubplot at 0x14cc01f98>"
      ]
     },
     "execution_count": 18,
     "metadata": {},
     "output_type": "execute_result"
    },
    {
     "data": {
      "image/png": "[encoded data removed]",
      "text/plain": [
       "<Figure size 432x288 with 1 Axes>"
      ]
     },
     "metadata": {
      "needs_background": "light"
     },
     "output_type": "display_data"
    }
   ],
   "source": [
    "(1/val_rr[val_rr!=0]).hist(bins=50)"
   ]
  },
  {
   "cell_type": "code",
   "execution_count": 19,
   "metadata": {},
   "outputs": [],
   "source": [
    "a = np.random.randint(0, 10, 5)"
   ]
  },
  {
   "cell_type": "code",
   "execution_count": 20,
   "metadata": {},
   "outputs": [
    {
     "data": {
      "text/plain": [
       "array([5, 6, 0, 3, 6])"
      ]
     },
     "execution_count": 20,
     "metadata": {},
     "output_type": "execute_result"
    }
   ],
   "source": [
    "a"
   ]
  },
  {
   "cell_type": "code",
   "execution_count": 21,
   "metadata": {},
   "outputs": [
    {
     "data": {
      "text/plain": [
       "array([4, 1, 0, 3, 2])"
      ]
     },
     "execution_count": 21,
     "metadata": {},
     "output_type": "execute_result"
    }
   ],
   "source": [
    "np.argsort(a)[::-1]"
   ]
  },
  {
   "cell_type": "code",
   "execution_count": 22,
   "metadata": {},
   "outputs": [
    {
     "ename": "IndexError",
     "evalue": "index 0 is out of bounds for axis 0 with size 0",
     "output_type": "error",
     "traceback": [
      "\u001b[0;31m---------------------------------------------------------------------------\u001b[0m",
      "\u001b[0;31mIndexError\u001b[0m                                Traceback (most recent call last)",
      "\u001b[0;32m<ipython-input-22-89ebeff2df0a>\u001b[0m in \u001b[0;36m<module>\u001b[0;34m\u001b[0m\n\u001b[0;32m----> 1\u001b[0;31m \u001b[0mnp\u001b[0m\u001b[0;34m.\u001b[0m\u001b[0mwhere\u001b[0m\u001b[0;34m(\u001b[0m\u001b[0ma\u001b[0m\u001b[0;34m==\u001b[0m\u001b[0;36m1\u001b[0m\u001b[0;34m)\u001b[0m\u001b[0;34m[\u001b[0m\u001b[0;36m0\u001b[0m\u001b[0;34m]\u001b[0m\u001b[0;34m[\u001b[0m\u001b[0;36m0\u001b[0m\u001b[0;34m]\u001b[0m\u001b[0;34m\u001b[0m\u001b[0m\n\u001b[0m",
      "\u001b[0;31mIndexError\u001b[0m: index 0 is out of bounds for axis 0 with size 0"
     ]
    }
   ],
   "source": [
    "np.where(a==1)[0][0]"
   ]
  },
  {
   "cell_type": "code",
   "execution_count": null,
   "metadata": {},
   "outputs": [],
   "source": []
  }
 ],
 "metadata": {
  "kernelspec": {
   "display_name": "Python 3",
   "language": "python",
   "name": "python3"
  },
  "language_info": {
   "codemirror_mode": {
    "name": "ipython",
    "version": 3
   },
   "file_extension": ".py",
   "mimetype": "text/x-python",
   "name": "python",
   "nbconvert_exporter": "python",
   "pygments_lexer": "ipython3",
   "version": "3.6.6"
  }
 },
 "nbformat": 4,
 "nbformat_minor": 2
}
