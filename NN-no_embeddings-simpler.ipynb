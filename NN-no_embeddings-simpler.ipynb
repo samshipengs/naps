{
 "cells": [
  {
   "cell_type": "code",
   "execution_count": 1,
   "metadata": {},
   "outputs": [
    {
     "data": {
      "text/plain": [
       "'\\n1) Here we try to train nn with only meta ohe for impressions, prices and current_filters ohe,\\nwe run TCN on impressions, concatenate or separately run tcn with prices, \\nand concatenate with dense layer on top of ohe current_filters. We for now leave out, cities, countries, platforms\\n2) and possibly, do a bit preprocessing on the current filters, \\nuse the last longest current filters before clickouts (or the latest non-null current_filters), \\nwith indication of session size\\n3) whether there is a previous interacted action, if so and the index of previously interacted item \\nin current listings\\n4) the time spent before the click\\nWhat if we just submit the impression list as the predicitons\\n[impressions ind compare to previous ind]\\n'"
      ]
     },
     "execution_count": 1,
     "metadata": {},
     "output_type": "execute_result"
    }
   ],
   "source": [
    "\"\"\"\n",
    "1) Here we try to train nn with only meta ohe for impressions, prices and current_filters ohe,\n",
    "we run TCN on impressions, concatenate or separately run tcn with prices, \n",
    "and concatenate with dense layer on top of ohe current_filters. We for now leave out, cities, countries, platforms\n",
    "2) and possibly, do a bit preprocessing on the current filters, \n",
    "use the last longest current filters before clickouts (or the latest non-null current_filters), \n",
    "with indication of session size\n",
    "3) whether there is a previous interacted action, if so and the index of previously interacted item \n",
    "in current listings\n",
    "4) the time spent before the click\n",
    "What if we just submit the impression list as the predicitons\n",
    "[impressions ind compare to previous ind]\n",
    "\"\"\"\n",
    "\n",
    "# 1) plot price location of target\n",
    "# 2) map interaction, image interaction etc"
   ]
  },
  {
   "cell_type": "code",
   "execution_count": 2,
   "metadata": {},
   "outputs": [],
   "source": [
    "import pandas as pd\n",
    "import numpy as np\n",
    "import datetime, time, os, gc, re, sys\n",
    "from functools import partial\n",
    "import matplotlib.pyplot as plt\n",
    "from utils import ignore_warnings, load_data\n",
    "from clean_session import preprocess_sessions\n",
    "\n",
    "%matplotlib inline\n",
    "%load_ext autoreload\n",
    "%autoreload 2"
   ]
  },
  {
   "cell_type": "code",
   "execution_count": 3,
   "metadata": {},
   "outputs": [
    {
     "name": "stderr",
     "output_type": "stream",
     "text": [
      "[05-05 21:30:42 - utils - load_data - INFO] Loading train using 5,000,000 rows which is 31.38% out of total train data\n"
     ]
    }
   ],
   "source": [
    "train = load_data('train', nrows=5000000)\n",
    "def fprint(df, name):\n",
    "    print(f'{name} shape: ({df.shape[0]:,}, {df.shape[1]})')\n",
    "    \n",
    "# fprint(train, 'raw train')\n",
    "# train = (train[(train['action_type'] == 'clickout item') & \n",
    "#                (train['impressions'].notna()) & \n",
    "#                (train['reference'].notna())]\n",
    "#          .reset_index(drop=True))\n",
    "\n",
    "# fprint(train, 'train after filtering')"
   ]
  },
  {
   "cell_type": "code",
   "execution_count": 4,
   "metadata": {},
   "outputs": [
    {
     "name": "stderr",
     "output_type": "stream",
     "text": [
      "[05-05 21:30:48 - utils - preprocess_sessions - INFO] Dropping duplicates\n",
      "[05-05 21:30:51 - utils - remove_duplicates - INFO] Before dropping duplicates df shape: (5,000,000, 12)\n",
      "[05-05 21:30:54 - utils - remove_duplicates - INFO] After dropping duplicates df shape: (2,096,278, 12)\n",
      "[05-05 21:30:54 - utils - preprocess_sessions - INFO] Cliping session dataframe up to last click out (if there is clickout)\n",
      "[05-05 21:32:54 - utils - preprocess_sessions - INFO] filtering out sessions without clickouts, reference, or clickout is nan\n",
      "[05-05 21:32:54 - utils - preprocess_sessions - INFO] train length before filtering: 1,805,893\n",
      "[05-05 21:37:00 - utils - preprocess_sessions - INFO] train length after filtering: 1,626,168\n",
      "[05-05 21:37:00 - utils - preprocess_sessions - INFO] Saving ./cache/preprocessed_train.snappy\n"
     ]
    }
   ],
   "source": [
    "train = preprocess_sessions(train, recompute=True)"
   ]
  },
  {
   "cell_type": "code",
   "execution_count": 5,
   "metadata": {},
   "outputs": [],
   "source": [
    "train['timestamp'] = train['timestamp'].apply(lambda t: datetime.datetime.utcfromtimestamp(t))\n",
    "usecols =['user_id', 'session_id', 'timestamp', 'step', 'action_type', 'current_filters', 'reference',\n",
    "          'impressions', 'prices']\n",
    "train = train[usecols]"
   ]
  },
  {
   "cell_type": "code",
   "execution_count": 6,
   "metadata": {},
   "outputs": [
    {
     "data": {
      "text/plain": [
       "210.0"
      ]
     },
     "execution_count": 6,
     "metadata": {},
     "output_type": "execute_result"
    }
   ],
   "source": [
    "(train.timestamp[1] - train.timestamp[0]).total_seconds()"
   ]
  },
  {
   "cell_type": "code",
   "execution_count": 7,
   "metadata": {},
   "outputs": [],
   "source": [
    "# for now we only deal with the last row of each session"
   ]
  },
  {
   "cell_type": "code",
   "execution_count": 8,
   "metadata": {},
   "outputs": [],
   "source": [
    "def session_duration(ts):\n",
    "    if len(ts) == 1:\n",
    "        return np.nan\n",
    "    else:\n",
    "        return (ts.max() - ts.min()).total_seconds()\n",
    "    \n",
    "def dwell_time_prior_clickout(ts):\n",
    "    if len(ts) == 1:\n",
    "        return np.nan\n",
    "    else:\n",
    "        ts_sorted = ts.sort_values()\n",
    "        return (ts_sorted.iloc[-1] - ts_sorted.iloc[-2]).total_seconds()\n",
    "\n",
    "def last_filters(cf):\n",
    "    mask = cf.notna()\n",
    "    if mask.sum() == 0:\n",
    "        return np.nan\n",
    "    else:\n",
    "        return cf[mask].iloc[-1]\n",
    "    \n",
    "def last_reference_id(rids):\n",
    "    mask = rids.notna()\n",
    "    if mask.sum() <= 1:\n",
    "        return np.nan\n",
    "    else:\n",
    "        return rids[mask].iloc[-2] # the second last i.e. the one before click out\n",
    "\n",
    "\n",
    "    \n",
    "aggs = {'timestamp': [session_duration, dwell_time_prior_clickout],\n",
    "        'current_filters': [last_filters],\n",
    "        'session_id': 'size',\n",
    "        'reference': [last_reference_id]}\n",
    "session_grp = train.groupby('session_id')\n",
    "session_fts = session_grp.agg(aggs)\n",
    "session_fts.columns = ['_'.join(col).strip() for col in session_fts.columns.values]\n",
    "session_fts.reset_index(inplace=True)"
   ]
  },
  {
   "cell_type": "code",
   "execution_count": 9,
   "metadata": {},
   "outputs": [
    {
     "data": {
      "text/html": [
       "<div>\n",
       "<style scoped>\n",
       "    .dataframe tbody tr th:only-of-type {\n",
       "        vertical-align: middle;\n",
       "    }\n",
       "\n",
       "    .dataframe tbody tr th {\n",
       "        vertical-align: top;\n",
       "    }\n",
       "\n",
       "    .dataframe thead th {\n",
       "        text-align: right;\n",
       "    }\n",
       "</style>\n",
       "<table border=\"1\" class=\"dataframe\">\n",
       "  <thead>\n",
       "    <tr style=\"text-align: right;\">\n",
       "      <th></th>\n",
       "      <th>session_id</th>\n",
       "      <th>timestamp_session_duration</th>\n",
       "      <th>timestamp_dwell_time_prior_clickout</th>\n",
       "      <th>current_filters_last_filters</th>\n",
       "      <th>session_id_size</th>\n",
       "      <th>reference_last_reference_id</th>\n",
       "    </tr>\n",
       "  </thead>\n",
       "  <tbody>\n",
       "    <tr>\n",
       "      <th>0</th>\n",
       "      <td>0000d4284ff9b</td>\n",
       "      <td>225.0</td>\n",
       "      <td>15.0</td>\n",
       "      <td>NaN</td>\n",
       "      <td>3</td>\n",
       "      <td>4590810</td>\n",
       "    </tr>\n",
       "    <tr>\n",
       "      <th>1</th>\n",
       "      <td>00011005327e1</td>\n",
       "      <td>263.0</td>\n",
       "      <td>124.0</td>\n",
       "      <td>NaN</td>\n",
       "      <td>11</td>\n",
       "      <td>76571</td>\n",
       "    </tr>\n",
       "    <tr>\n",
       "      <th>2</th>\n",
       "      <td>000130c2690b4</td>\n",
       "      <td>103.0</td>\n",
       "      <td>103.0</td>\n",
       "      <td>NaN</td>\n",
       "      <td>2</td>\n",
       "      <td>Pune, India</td>\n",
       "    </tr>\n",
       "    <tr>\n",
       "      <th>3</th>\n",
       "      <td>0001acb13ccd1</td>\n",
       "      <td>420.0</td>\n",
       "      <td>16.0</td>\n",
       "      <td>Best Value</td>\n",
       "      <td>9</td>\n",
       "      <td>Deira City Center Mall</td>\n",
       "    </tr>\n",
       "    <tr>\n",
       "      <th>4</th>\n",
       "      <td>00021d6a859ee</td>\n",
       "      <td>NaN</td>\n",
       "      <td>NaN</td>\n",
       "      <td>NaN</td>\n",
       "      <td>1</td>\n",
       "      <td>NaN</td>\n",
       "    </tr>\n",
       "  </tbody>\n",
       "</table>\n",
       "</div>"
      ],
      "text/plain": [
       "      session_id  timestamp_session_duration  \\\n",
       "0  0000d4284ff9b                       225.0   \n",
       "1  00011005327e1                       263.0   \n",
       "2  000130c2690b4                       103.0   \n",
       "3  0001acb13ccd1                       420.0   \n",
       "4  00021d6a859ee                         NaN   \n",
       "\n",
       "   timestamp_dwell_time_prior_clickout current_filters_last_filters  \\\n",
       "0                                 15.0                          NaN   \n",
       "1                                124.0                          NaN   \n",
       "2                                103.0                          NaN   \n",
       "3                                 16.0                   Best Value   \n",
       "4                                  NaN                          NaN   \n",
       "\n",
       "   session_id_size reference_last_reference_id  \n",
       "0                3                     4590810  \n",
       "1               11                       76571  \n",
       "2                2                 Pune, India  \n",
       "3                9      Deira City Center Mall  \n",
       "4                1                         NaN  "
      ]
     },
     "execution_count": 9,
     "metadata": {},
     "output_type": "execute_result"
    }
   ],
   "source": [
    "session_fts.head()"
   ]
  },
  {
   "cell_type": "code",
   "execution_count": 10,
   "metadata": {},
   "outputs": [
    {
     "data": {
      "text/plain": [
       "57672"
      ]
     },
     "execution_count": 10,
     "metadata": {},
     "output_type": "execute_result"
    }
   ],
   "source": [
    "session_fts.current_filters_last_filters.notna().sum()"
   ]
  },
  {
   "cell_type": "code",
   "execution_count": 11,
   "metadata": {},
   "outputs": [
    {
     "data": {
      "text/plain": [
       "305671"
      ]
     },
     "execution_count": 11,
     "metadata": {},
     "output_type": "execute_result"
    }
   ],
   "source": [
    "train.current_filters.notna().sum()"
   ]
  },
  {
   "cell_type": "code",
   "execution_count": 12,
   "metadata": {},
   "outputs": [
    {
     "data": {
      "text/plain": [
       "(1626168, 9)"
      ]
     },
     "execution_count": 12,
     "metadata": {},
     "output_type": "execute_result"
    }
   ],
   "source": [
    "train.shape"
   ]
  },
  {
   "cell_type": "code",
   "execution_count": 13,
   "metadata": {
    "scrolled": true
   },
   "outputs": [],
   "source": [
    "# from clean_session import preprocess_sessions\n",
    "# # train = preprocess_sessions(train,data_source='data')\n",
    "# train = preprocess_sessions(None,data_source='data')"
   ]
  },
  {
   "cell_type": "code",
   "execution_count": null,
   "metadata": {},
   "outputs": [],
   "source": []
  },
  {
   "cell_type": "code",
   "execution_count": 14,
   "metadata": {},
   "outputs": [],
   "source": [
    "# train_last = train.copy()"
   ]
  },
  {
   "cell_type": "code",
   "execution_count": 15,
   "metadata": {},
   "outputs": [],
   "source": [
    "# del train\n",
    "# gc.collect()"
   ]
  },
  {
   "cell_type": "code",
   "execution_count": 16,
   "metadata": {},
   "outputs": [
    {
     "name": "stdout",
     "output_type": "stream",
     "text": [
      "train shape: (1,626,168, 14)\n"
     ]
    }
   ],
   "source": [
    "train = pd.merge(train, session_fts, on='session_id')\n",
    "fprint(train, 'train')"
   ]
  },
  {
   "cell_type": "code",
   "execution_count": 17,
   "metadata": {},
   "outputs": [
    {
     "data": {
      "text/html": [
       "<div>\n",
       "<style scoped>\n",
       "    .dataframe tbody tr th:only-of-type {\n",
       "        vertical-align: middle;\n",
       "    }\n",
       "\n",
       "    .dataframe tbody tr th {\n",
       "        vertical-align: top;\n",
       "    }\n",
       "\n",
       "    .dataframe thead th {\n",
       "        text-align: right;\n",
       "    }\n",
       "</style>\n",
       "<table border=\"1\" class=\"dataframe\">\n",
       "  <thead>\n",
       "    <tr style=\"text-align: right;\">\n",
       "      <th></th>\n",
       "      <th>user_id</th>\n",
       "      <th>session_id</th>\n",
       "      <th>timestamp</th>\n",
       "      <th>step</th>\n",
       "      <th>action_type</th>\n",
       "      <th>current_filters</th>\n",
       "      <th>reference</th>\n",
       "      <th>impressions</th>\n",
       "      <th>prices</th>\n",
       "      <th>timestamp_session_duration</th>\n",
       "      <th>timestamp_dwell_time_prior_clickout</th>\n",
       "      <th>current_filters_last_filters</th>\n",
       "      <th>session_id_size</th>\n",
       "      <th>reference_last_reference_id</th>\n",
       "    </tr>\n",
       "  </thead>\n",
       "  <tbody>\n",
       "    <tr>\n",
       "      <th>0</th>\n",
       "      <td>GF1RRZKHM34J</td>\n",
       "      <td>0000d4284ff9b</td>\n",
       "      <td>2018-11-03 18:27:33</td>\n",
       "      <td>1</td>\n",
       "      <td>interaction item deals</td>\n",
       "      <td>NaN</td>\n",
       "      <td>1179940</td>\n",
       "      <td>NaN</td>\n",
       "      <td>NaN</td>\n",
       "      <td>225.0</td>\n",
       "      <td>15.0</td>\n",
       "      <td>NaN</td>\n",
       "      <td>3</td>\n",
       "      <td>4590810</td>\n",
       "    </tr>\n",
       "    <tr>\n",
       "      <th>1</th>\n",
       "      <td>GF1RRZKHM34J</td>\n",
       "      <td>0000d4284ff9b</td>\n",
       "      <td>2018-11-03 18:31:03</td>\n",
       "      <td>2</td>\n",
       "      <td>search for item</td>\n",
       "      <td>NaN</td>\n",
       "      <td>4590810</td>\n",
       "      <td>NaN</td>\n",
       "      <td>NaN</td>\n",
       "      <td>225.0</td>\n",
       "      <td>15.0</td>\n",
       "      <td>NaN</td>\n",
       "      <td>3</td>\n",
       "      <td>4590810</td>\n",
       "    </tr>\n",
       "    <tr>\n",
       "      <th>2</th>\n",
       "      <td>GF1RRZKHM34J</td>\n",
       "      <td>0000d4284ff9b</td>\n",
       "      <td>2018-11-03 18:31:18</td>\n",
       "      <td>3</td>\n",
       "      <td>clickout item</td>\n",
       "      <td>NaN</td>\n",
       "      <td>4590810</td>\n",
       "      <td>4590810|2223124|1330644|2023759|2328448|315968...</td>\n",
       "      <td>72|60|93|67|49|182|112|52|97|181|126|120|157|1...</td>\n",
       "      <td>225.0</td>\n",
       "      <td>15.0</td>\n",
       "      <td>NaN</td>\n",
       "      <td>3</td>\n",
       "      <td>4590810</td>\n",
       "    </tr>\n",
       "    <tr>\n",
       "      <th>3</th>\n",
       "      <td>M7K6U5Q4ZNBM</td>\n",
       "      <td>00011005327e1</td>\n",
       "      <td>2018-11-06 21:28:00</td>\n",
       "      <td>2</td>\n",
       "      <td>interaction item image</td>\n",
       "      <td>NaN</td>\n",
       "      <td>1216256</td>\n",
       "      <td>NaN</td>\n",
       "      <td>NaN</td>\n",
       "      <td>263.0</td>\n",
       "      <td>124.0</td>\n",
       "      <td>NaN</td>\n",
       "      <td>11</td>\n",
       "      <td>76571</td>\n",
       "    </tr>\n",
       "    <tr>\n",
       "      <th>4</th>\n",
       "      <td>M7K6U5Q4ZNBM</td>\n",
       "      <td>00011005327e1</td>\n",
       "      <td>2018-11-06 21:28:10</td>\n",
       "      <td>8</td>\n",
       "      <td>interaction item image</td>\n",
       "      <td>NaN</td>\n",
       "      <td>1216256</td>\n",
       "      <td>NaN</td>\n",
       "      <td>NaN</td>\n",
       "      <td>263.0</td>\n",
       "      <td>124.0</td>\n",
       "      <td>NaN</td>\n",
       "      <td>11</td>\n",
       "      <td>76571</td>\n",
       "    </tr>\n",
       "  </tbody>\n",
       "</table>\n",
       "</div>"
      ],
      "text/plain": [
       "        user_id     session_id           timestamp  step  \\\n",
       "0  GF1RRZKHM34J  0000d4284ff9b 2018-11-03 18:27:33     1   \n",
       "1  GF1RRZKHM34J  0000d4284ff9b 2018-11-03 18:31:03     2   \n",
       "2  GF1RRZKHM34J  0000d4284ff9b 2018-11-03 18:31:18     3   \n",
       "3  M7K6U5Q4ZNBM  00011005327e1 2018-11-06 21:28:00     2   \n",
       "4  M7K6U5Q4ZNBM  00011005327e1 2018-11-06 21:28:10     8   \n",
       "\n",
       "              action_type current_filters reference  \\\n",
       "0  interaction item deals             NaN   1179940   \n",
       "1         search for item             NaN   4590810   \n",
       "2           clickout item             NaN   4590810   \n",
       "3  interaction item image             NaN   1216256   \n",
       "4  interaction item image             NaN   1216256   \n",
       "\n",
       "                                         impressions  \\\n",
       "0                                                NaN   \n",
       "1                                                NaN   \n",
       "2  4590810|2223124|1330644|2023759|2328448|315968...   \n",
       "3                                                NaN   \n",
       "4                                                NaN   \n",
       "\n",
       "                                              prices  \\\n",
       "0                                                NaN   \n",
       "1                                                NaN   \n",
       "2  72|60|93|67|49|182|112|52|97|181|126|120|157|1...   \n",
       "3                                                NaN   \n",
       "4                                                NaN   \n",
       "\n",
       "   timestamp_session_duration  timestamp_dwell_time_prior_clickout  \\\n",
       "0                       225.0                                 15.0   \n",
       "1                       225.0                                 15.0   \n",
       "2                       225.0                                 15.0   \n",
       "3                       263.0                                124.0   \n",
       "4                       263.0                                124.0   \n",
       "\n",
       "  current_filters_last_filters  session_id_size reference_last_reference_id  \n",
       "0                          NaN                3                     4590810  \n",
       "1                          NaN                3                     4590810  \n",
       "2                          NaN                3                     4590810  \n",
       "3                          NaN               11                       76571  \n",
       "4                          NaN               11                       76571  "
      ]
     },
     "execution_count": 17,
     "metadata": {},
     "output_type": "execute_result"
    }
   ],
   "source": [
    "train.head()"
   ]
  },
  {
   "cell_type": "code",
   "execution_count": 18,
   "metadata": {},
   "outputs": [],
   "source": [
    "# %%time\n",
    "train = train.groupby('session_id').last().reset_index()"
   ]
  },
  {
   "cell_type": "code",
   "execution_count": 19,
   "metadata": {},
   "outputs": [],
   "source": [
    "# train.session_id_size"
   ]
  },
  {
   "cell_type": "markdown",
   "metadata": {},
   "source": [
    "---"
   ]
  },
  {
   "cell_type": "code",
   "execution_count": 20,
   "metadata": {},
   "outputs": [],
   "source": [
    "# current filters\n",
    "train['cfs'] = train['current_filters_last_filters'].str.lower().str.split('|')\n",
    "train['ncfs'] = train['cfs'].str.len()"
   ]
  },
  {
   "cell_type": "code",
   "execution_count": 21,
   "metadata": {},
   "outputs": [],
   "source": [
    "# we add prices split now after shrink (otherwise prices being list cannot get shrinked)\n",
    "# prices\n",
    "train['prices'] = train['prices'].str.split('|')\n",
    "train['prices'] = train['prices'].apply(lambda x: [int(p) for p in x])\n",
    "# # pad it\n",
    "train['prices'] = train.prices.apply(lambda x: np.pad(x, (0, 25-len(x)), mode='constant'))"
   ]
  },
  {
   "cell_type": "code",
   "execution_count": 22,
   "metadata": {},
   "outputs": [],
   "source": [
    "# number of impressions\n",
    "train['nimps'] = train['impressions'].str.split('|').str.len()"
   ]
  },
  {
   "cell_type": "code",
   "execution_count": 23,
   "metadata": {},
   "outputs": [
    {
     "name": "stdout",
     "output_type": "stream",
     "text": [
      "CPU times: user 5.03 s, sys: 241 ms, total: 5.27 s\n",
      "Wall time: 5.18 s\n"
     ]
    }
   ],
   "source": [
    "%%time\n",
    "# impressions\n",
    "train['impressions'] = train['impressions'].str.split('|')\n",
    "# convert impression id to int\n",
    "train['impressions'] = train['impressions'].apply(lambda x: [int(i) for i in x])\n",
    "train['reference'] = train['reference'].astype(int)\n",
    "# train['reference_last_reference_id'] = train['reference_last_reference_id'].astype(int)\n",
    "# pad to 25 len\n",
    "train['impressions'] = train['impressions'].apply(lambda x: np.pad(x, (0, 25-len(x)), mode='constant'))"
   ]
  },
  {
   "cell_type": "code",
   "execution_count": 24,
   "metadata": {},
   "outputs": [],
   "source": [
    "# n_item_ids = len(set(np.concatenate(train['impressions'].values)))\n",
    "# n_item_ids"
   ]
  },
  {
   "cell_type": "code",
   "execution_count": 25,
   "metadata": {},
   "outputs": [
    {
     "name": "stdout",
     "output_type": "stream",
     "text": [
      "train shape: (259,538, 18)\n"
     ]
    }
   ],
   "source": [
    "# filter out nan rows with reference_id not in impressions list, since if the true target in test\n",
    "# is not in the impression list then it would not get evaluated\n",
    "def assign_target(row):\n",
    "    ref = row['reference']\n",
    "    imp = list(row['impressions'])\n",
    "    if ref in imp:\n",
    "        return imp.index(ref)\n",
    "    else:\n",
    "        return np.nan\n",
    "    \n",
    "def assign_last_ref_id(row):\n",
    "    ref = row['reference_last_reference_id']\n",
    "    imp = [str(i) for i in row['impressions']]\n",
    "    if pd.isna(ref):\n",
    "        return np.nan\n",
    "    else:\n",
    "        if ref in imp:\n",
    "            return imp.index(ref)\n",
    "        else:\n",
    "            return np.nan \n",
    "    \n",
    "train['target'] = train.apply(assign_target, axis=1)\n",
    "fprint(train, 'train')"
   ]
  },
  {
   "cell_type": "code",
   "execution_count": 26,
   "metadata": {
    "scrolled": true
   },
   "outputs": [],
   "source": [
    "# train.session_id_size"
   ]
  },
  {
   "cell_type": "code",
   "execution_count": 27,
   "metadata": {},
   "outputs": [
    {
     "name": "stdout",
     "output_type": "stream",
     "text": [
      "train shape: (259,538, 19)\n"
     ]
    }
   ],
   "source": [
    "train['last_ref_ind'] = train.apply(assign_last_ref_id, axis=1)\n",
    "fprint(train, 'train')"
   ]
  },
  {
   "cell_type": "code",
   "execution_count": 28,
   "metadata": {},
   "outputs": [
    {
     "data": {
      "text/plain": [
       "140239"
      ]
     },
     "execution_count": 28,
     "metadata": {},
     "output_type": "execute_result"
    }
   ],
   "source": [
    "train['last_ref_ind'].notna().sum()"
   ]
  },
  {
   "cell_type": "code",
   "execution_count": 29,
   "metadata": {},
   "outputs": [
    {
     "data": {
      "text/plain": [
       "(259538, 19)"
      ]
     },
     "execution_count": 29,
     "metadata": {},
     "output_type": "execute_result"
    }
   ],
   "source": [
    "train.shape"
   ]
  },
  {
   "cell_type": "code",
   "execution_count": 30,
   "metadata": {},
   "outputs": [
    {
     "name": "stdout",
     "output_type": "stream",
     "text": [
      "drop number of rows reference id not in impressions list: 110\n",
      "train shape: (259,428, 19)\n"
     ]
    }
   ],
   "source": [
    "print(f'drop number of rows reference id not in impressions list: {train.target.isna().sum()}')\n",
    "# drop the ones whose reference is not in the impression list\n",
    "train = train[train['target'].notna()].reset_index(drop=True)\n",
    "train['target'] = train['target'].astype(int)\n",
    "fprint(train, 'train')"
   ]
  },
  {
   "cell_type": "code",
   "execution_count": 31,
   "metadata": {},
   "outputs": [
    {
     "data": {
      "text/plain": [
       "0    97950\n",
       "1    26510\n",
       "2    18295\n",
       "3    14399\n",
       "4    12354\n",
       "Name: target, dtype: int64"
      ]
     },
     "execution_count": 31,
     "metadata": {},
     "output_type": "execute_result"
    }
   ],
   "source": [
    "# look at the target distribution\n",
    "pd.value_counts(train['target']).head()"
   ]
  },
  {
   "cell_type": "code",
   "execution_count": 32,
   "metadata": {},
   "outputs": [],
   "source": [
    "# train.session_id_size"
   ]
  },
  {
   "cell_type": "markdown",
   "metadata": {},
   "source": [
    "---"
   ]
  },
  {
   "cell_type": "code",
   "execution_count": 33,
   "metadata": {},
   "outputs": [],
   "source": [
    "meta_df = load_data('item_metadata')"
   ]
  },
  {
   "cell_type": "code",
   "execution_count": 34,
   "metadata": {},
   "outputs": [
    {
     "data": {
      "text/html": [
       "<div>\n",
       "<style scoped>\n",
       "    .dataframe tbody tr th:only-of-type {\n",
       "        vertical-align: middle;\n",
       "    }\n",
       "\n",
       "    .dataframe tbody tr th {\n",
       "        vertical-align: top;\n",
       "    }\n",
       "\n",
       "    .dataframe thead th {\n",
       "        text-align: right;\n",
       "    }\n",
       "</style>\n",
       "<table border=\"1\" class=\"dataframe\">\n",
       "  <thead>\n",
       "    <tr style=\"text-align: right;\">\n",
       "      <th></th>\n",
       "      <th>item_id</th>\n",
       "      <th>properties</th>\n",
       "    </tr>\n",
       "  </thead>\n",
       "  <tbody>\n",
       "    <tr>\n",
       "      <th>0</th>\n",
       "      <td>5101</td>\n",
       "      <td>Satellite TV|Golf Course|Airport Shuttle|Cosme...</td>\n",
       "    </tr>\n",
       "    <tr>\n",
       "      <th>1</th>\n",
       "      <td>5416</td>\n",
       "      <td>Satellite TV|Cosmetic Mirror|Safe (Hotel)|Tele...</td>\n",
       "    </tr>\n",
       "  </tbody>\n",
       "</table>\n",
       "</div>"
      ],
      "text/plain": [
       "   item_id                                         properties\n",
       "0     5101  Satellite TV|Golf Course|Airport Shuttle|Cosme...\n",
       "1     5416  Satellite TV|Cosmetic Mirror|Safe (Hotel)|Tele..."
      ]
     },
     "execution_count": 34,
     "metadata": {},
     "output_type": "execute_result"
    }
   ],
   "source": [
    "meta_df.head(2)"
   ]
  },
  {
   "cell_type": "code",
   "execution_count": 35,
   "metadata": {},
   "outputs": [],
   "source": [
    "meta_df['properties'] = meta_df['properties'].str.lower().str.split('|')"
   ]
  },
  {
   "cell_type": "code",
   "execution_count": 36,
   "metadata": {},
   "outputs": [],
   "source": [
    "all_properties = np.concatenate(meta_df['properties'].values)"
   ]
  },
  {
   "cell_type": "code",
   "execution_count": 37,
   "metadata": {},
   "outputs": [
    {
     "data": {
      "text/plain": [
       "hostal (es)     3282\n",
       "camping site    2526\n",
       "szep kartya     1533\n",
       "kosher food     1248\n",
       "water slide      349\n",
       "dtype: int64"
      ]
     },
     "execution_count": 37,
     "metadata": {},
     "output_type": "execute_result"
    }
   ],
   "source": [
    "pd.value_counts(all_properties).tail()"
   ]
  },
  {
   "cell_type": "code",
   "execution_count": 38,
   "metadata": {},
   "outputs": [
    {
     "data": {
      "text/plain": [
       "21"
      ]
     },
     "execution_count": 38,
     "metadata": {},
     "output_type": "execute_result"
    }
   ],
   "source": [
    "unique_properties = list(set(all_properties))\n",
    "property2natural = {v: k for k, v in enumerate(unique_properties)}\n",
    "del all_properties\n",
    "gc.collect()"
   ]
  },
  {
   "cell_type": "code",
   "execution_count": 39,
   "metadata": {},
   "outputs": [
    {
     "data": {
      "text/plain": [
       "157"
      ]
     },
     "execution_count": 39,
     "metadata": {},
     "output_type": "execute_result"
    }
   ],
   "source": [
    "n_properties = len(unique_properties)\n",
    "n_properties"
   ]
  },
  {
   "cell_type": "code",
   "execution_count": 40,
   "metadata": {},
   "outputs": [],
   "source": [
    "meta_df['properties'] = meta_df['properties'].apply(lambda ps: [property2natural[p] for p in ps])"
   ]
  },
  {
   "cell_type": "code",
   "execution_count": 41,
   "metadata": {},
   "outputs": [],
   "source": [
    "meta_df['properties'] = meta_df['properties'].apply(lambda ps: np.sum(np.eye(n_properties, dtype=int)[ps], axis=0))"
   ]
  },
  {
   "cell_type": "code",
   "execution_count": 42,
   "metadata": {},
   "outputs": [],
   "source": [
    "meta_mapping = dict(meta_df[['item_id', 'properties']].values)"
   ]
  },
  {
   "cell_type": "code",
   "execution_count": 43,
   "metadata": {},
   "outputs": [],
   "source": [
    "# add a mapping for the padded values\n",
    "meta_mapping[0] = np.zeros(n_properties, dtype=int)"
   ]
  },
  {
   "cell_type": "code",
   "execution_count": 44,
   "metadata": {},
   "outputs": [
    {
     "data": {
      "text/plain": [
       "0"
      ]
     },
     "execution_count": 44,
     "metadata": {},
     "output_type": "execute_result"
    }
   ],
   "source": [
    "del meta_df, unique_properties, property2natural\n",
    "gc.collect()"
   ]
  },
  {
   "cell_type": "markdown",
   "metadata": {},
   "source": [
    "---"
   ]
  },
  {
   "cell_type": "code",
   "execution_count": 45,
   "metadata": {
    "scrolled": true
   },
   "outputs": [
    {
     "name": "stdout",
     "output_type": "stream",
     "text": [
      "CPU times: user 13.3 s, sys: 1.42 s, total: 14.7 s\n",
      "Wall time: 14.7 s\n"
     ]
    }
   ],
   "source": [
    "%%time\n",
    "train['impressions'] = (train['impressions']\n",
    "                        .apply(lambda imps: np.vstack([meta_mapping[i] \n",
    "                                                      if i in meta_mapping.keys()\n",
    "                                                      else np.zeros(n_properties, dtype=int) \n",
    "                                                      for i in imps])))\n",
    "del meta_mapping\n",
    "gc.collect()"
   ]
  },
  {
   "cell_type": "markdown",
   "metadata": {},
   "source": [
    "---"
   ]
  },
  {
   "cell_type": "code",
   "execution_count": 46,
   "metadata": {},
   "outputs": [
    {
     "data": {
      "text/plain": [
       "sort by price        15220\n",
       "focus on distance    10264\n",
       "hotel                 8956\n",
       "best value            6728\n",
       "5 star                6627\n",
       "dtype: int64"
      ]
     },
     "execution_count": 46,
     "metadata": {},
     "output_type": "execute_result"
    }
   ],
   "source": [
    "# current_filters\n",
    "all_cfs = np.concatenate(train['cfs'].dropna().values)\n",
    "pd.value_counts(all_cfs).head()"
   ]
  },
  {
   "cell_type": "code",
   "execution_count": 47,
   "metadata": {},
   "outputs": [
    {
     "data": {
      "text/plain": [
       "sort by price        0.135611\n",
       "focus on distance    0.227063\n",
       "hotel                0.306862\n",
       "best value           0.366808\n",
       "5 star               0.425855\n",
       "dtype: float64"
      ]
     },
     "execution_count": 47,
     "metadata": {},
     "output_type": "execute_result"
    }
   ],
   "source": [
    "pd.value_counts(all_cfs, normalize=True).cumsum().head()"
   ]
  },
  {
   "cell_type": "code",
   "execution_count": 48,
   "metadata": {},
   "outputs": [
    {
     "data": {
      "text/plain": [
       "163"
      ]
     },
     "execution_count": 48,
     "metadata": {},
     "output_type": "execute_result"
    }
   ],
   "source": [
    "unique_cfs = list(set(all_cfs))\n",
    "cfs_mapping = {v: k for k, v in enumerate(unique_cfs)}\n",
    "n_cfs = len(unique_cfs)\n",
    "n_cfs"
   ]
  },
  {
   "cell_type": "code",
   "execution_count": 49,
   "metadata": {},
   "outputs": [],
   "source": [
    "train.loc[train['cfs'].notna(), 'cfs'] = (train.loc[train['cfs'].notna(), 'cfs']\n",
    "                                          .apply(lambda cfs: [cfs_mapping[cf] for cf in cfs]))"
   ]
  },
  {
   "cell_type": "code",
   "execution_count": 50,
   "metadata": {},
   "outputs": [
    {
     "name": "stdout",
     "output_type": "stream",
     "text": [
      "CPU times: user 1.04 s, sys: 52 ms, total: 1.1 s\n",
      "Wall time: 1.1 s\n"
     ]
    }
   ],
   "source": [
    "%%time\n",
    "train['cfs'] = (train['cfs'].apply(lambda cfs: np.sum(np.eye(n_cfs, dtype=int)[cfs], axis=0) \n",
    "                                   if type(cfs) ==list else np.zeros(n_cfs, dtype=int)))"
   ]
  },
  {
   "cell_type": "code",
   "execution_count": 51,
   "metadata": {},
   "outputs": [
    {
     "data": {
      "text/plain": [
       "0"
      ]
     },
     "execution_count": 51,
     "metadata": {},
     "output_type": "execute_result"
    }
   ],
   "source": [
    "del cfs_mapping\n",
    "gc.collect()"
   ]
  },
  {
   "cell_type": "code",
   "execution_count": 52,
   "metadata": {},
   "outputs": [],
   "source": [
    "# train.session_id_size"
   ]
  },
  {
   "cell_type": "markdown",
   "metadata": {},
   "source": [
    "---"
   ]
  },
  {
   "cell_type": "code",
   "execution_count": 53,
   "metadata": {},
   "outputs": [],
   "source": [
    "# maybe normalize to percentage within each records, check does each item_id have the same price over all records\n",
    "def normalize(ps):\n",
    "    p_arr = np.array(ps)\n",
    "    return p_arr/(p_arr.max())\n",
    "\n",
    "train['prices'] = train['prices'].apply(normalize)\n",
    "# PRICES\n",
    "prices = np.array(list(train['prices'].values))\n",
    "del train['prices']"
   ]
  },
  {
   "cell_type": "code",
   "execution_count": 54,
   "metadata": {},
   "outputs": [],
   "source": [
    "# IMPRESSIONS\n",
    "impressions = np.array(list(train['impressions'].values))\n",
    "del train['impressions']\n",
    "\n",
    "# CURRENT_FILTERS\n",
    "cfilters = np.array(list(train['cfs'].values))\n",
    "del train['cfs']\n",
    "\n",
    "# numerics\n",
    "num_cols = ['session_id_size', 'timestamp_dwell_time_prior_clickout', 'last_ref_ind']\n",
    "for c in num_cols:\n",
    "    train[c] = train[c].fillna(-1)\n",
    "    \n",
    "numerics = train[num_cols].values\n",
    "# train = train.drop(num_cols, axis=1)\n",
    "\n",
    "# TARGETS\n",
    "targets = train['target'].values\n",
    "del train['target']\n"
   ]
  },
  {
   "cell_type": "code",
   "execution_count": 55,
   "metadata": {},
   "outputs": [],
   "source": [
    "# impressions = impressions.astype(np.int32)"
   ]
  },
  {
   "cell_type": "code",
   "execution_count": 56,
   "metadata": {},
   "outputs": [],
   "source": [
    "# train.session_id_size"
   ]
  },
  {
   "cell_type": "code",
   "execution_count": 57,
   "metadata": {},
   "outputs": [],
   "source": [
    "# np.hstack(impressions).shape"
   ]
  },
  {
   "cell_type": "code",
   "execution_count": 58,
   "metadata": {},
   "outputs": [],
   "source": [
    "# np.isnan(impressions).sum()\n",
    "for i in impressions:\n",
    "    n = np.isneginf(i).sum()\n",
    "    if n!=0:\n",
    "        print(n)"
   ]
  },
  {
   "cell_type": "code",
   "execution_count": 59,
   "metadata": {},
   "outputs": [],
   "source": [
    "def iterate_minibatches(numerics, impressions, prices, cfilters, targets,\n",
    "                        batch_size, shuffle=True):\n",
    "    # default we will shuffle\n",
    "    indices = np.arange(len(targets))\n",
    "    while True:\n",
    "        if shuffle:\n",
    "            np.random.shuffle(indices)\n",
    "        \n",
    "        remainder = len(targets) % batch_size\n",
    "        for start_idx in range(0, len(targets), batch_size):\n",
    "            if remainder !=0 and start_idx + batch_size >= len(targets):\n",
    "                excerpt = indices[len(targets)-batch_size:len(targets)]\n",
    "            else:\n",
    "                excerpt = indices[start_idx:start_idx+batch_size]\n",
    "\n",
    "            numerics_batch = numerics[excerpt]\n",
    "            impressions_batch = impressions[excerpt]#.reshape(batch_size, -1, 157)\n",
    "            prices_batch = prices[excerpt]#.reshape(batch_size, -1, 1)\n",
    "            cfilters_batch = cfilters[excerpt]\n",
    "            targets_batch = targets[excerpt]\n",
    "#             print('\\n>>>>>>>>>>>>>>', impressions_batch[0].shape, '<<<<<<<<<<<<<<<<<<\\n')\n",
    "#             impressions_batch = np.array([i.reshape(-1, 1) for i in impressions_batch])\n",
    "            prices_batch = np.array([i.reshape(-1, 1) for i in prices_batch])\n",
    "            yield ([numerics_batch, impressions_batch, prices_batch, \n",
    "                    cfilters_batch], targets_batch)\n",
    "#             yield ([numerics_batch, \n",
    "#                     cfilters_batch], targets_batch)"
   ]
  },
  {
   "cell_type": "code",
   "execution_count": 60,
   "metadata": {},
   "outputs": [],
   "source": [
    "# # return [numerics_batch, impressions_batch, prices_batch[:, :, None], cfilters_batch]\n",
    "# train_gen = iterate_minibatches(trn_numerics, trn_imp, trn_price, trn_cfilter, y_trn, \n",
    "#                                 batch_size, shuffle=True)"
   ]
  },
  {
   "cell_type": "code",
   "execution_count": 61,
   "metadata": {
    "scrolled": true
   },
   "outputs": [],
   "source": [
    "# for i in train_gen:\n",
    "# #     i.reshape(-1, 1)\n",
    "# #     for j in i[0]:\n",
    "#     pass"
   ]
  },
  {
   "cell_type": "code",
   "execution_count": 62,
   "metadata": {},
   "outputs": [],
   "source": [
    "# for i in train_gen:\n",
    "#     for j in i[0]:\n",
    "# #         print(j[0].shape)\n",
    "#         print(j.shape, j[0].shape)\n",
    "#     break"
   ]
  },
  {
   "cell_type": "code",
   "execution_count": 63,
   "metadata": {},
   "outputs": [],
   "source": [
    "# for i in train_gen:\n",
    "#     pass\n",
    "#     break"
   ]
  },
  {
   "cell_type": "code",
   "execution_count": 64,
   "metadata": {},
   "outputs": [
    {
     "data": {
      "text/plain": [
       "(25,)"
      ]
     },
     "execution_count": 64,
     "metadata": {},
     "output_type": "execute_result"
    }
   ],
   "source": [
    "prices[0].shape"
   ]
  },
  {
   "cell_type": "code",
   "execution_count": 65,
   "metadata": {},
   "outputs": [],
   "source": [
    "# for c in [trn_imp, trn_price, trn_cfilter, trn_city, trn_country, trn_plat, trn_dev]:\n",
    "#     print(c.shape)"
   ]
  },
  {
   "cell_type": "code",
   "execution_count": 66,
   "metadata": {},
   "outputs": [],
   "source": [
    "# trn_cfilter.shape"
   ]
  },
  {
   "cell_type": "code",
   "execution_count": 67,
   "metadata": {
    "scrolled": true
   },
   "outputs": [],
   "source": [
    "# for i in impressions:\n",
    "# #     print(i.shape)\n",
    "#     if i.shape[1]!=157 or i.shape[0]<2:\n",
    "#         print(i.shape)"
   ]
  },
  {
   "cell_type": "code",
   "execution_count": 68,
   "metadata": {},
   "outputs": [
    {
     "data": {
      "text/plain": [
       "36"
      ]
     },
     "execution_count": 68,
     "metadata": {},
     "output_type": "execute_result"
    }
   ],
   "source": [
    "del train\n",
    "gc.collect()"
   ]
  },
  {
   "cell_type": "code",
   "execution_count": 69,
   "metadata": {
    "scrolled": true
   },
   "outputs": [
    {
     "name": "stderr",
     "output_type": "stream",
     "text": [
      "Using TensorFlow backend.\n"
     ]
    },
    {
     "name": "stdout",
     "output_type": "stream",
     "text": [
      "CHANGED ~~~~~~~~~~~~~~~~~~~~~~~~~~~~~~~~~~~~~~~~~~~~~~CHANGED ~~~~~~~~~~~~~~~~~~~~~~~~~~~~~~~~~~~~~~~~~~~~~~CHANGED ~~~~~~~~~~~~~~~~~~~~~~~~~~~~~~~~~~~~~~~~~~~~~~CHANGED ~~~~~~~~~~~~~~~~~~~~~~~~~~~~~~~~~~~~~~~~~~~~~~CHANGED ~~~~~~~~~~~~~~~~~~~~~~~~~~~~~~~~~~~~~~~~~~~~~~CHANGED ~~~~~~~~~~~~~~~~~~~~~~~~~~~~~~~~~~~~~~~~~~~~~~CHANGED ~~~~~~~~~~~~~~~~~~~~~~~~~~~~~~~~~~~~~~~~~~~~~~CHANGED ~~~~~~~~~~~~~~~~~~~~~~~~~~~~~~~~~~~~~~~~~~~~~~CHANGED ~~~~~~~~~~~~~~~~~~~~~~~~~~~~~~~~~~~~~~~~~~~~~~CHANGED ~~~~~~~~~~~~~~~~~~~~~~~~~~~~~~~~~~~~~~~~~~~~~~\n",
      "train len: 216,180 | val len: 43,248 | numer of parameters: 99,741 | train_len/nparams=2.16741\n",
      "Epoch 1/500\n",
      "1688/1688 [==============================] - 34s 20ms/step - loss: 2.5424 - acc: 0.3700 - val_loss: 2.3825 - val_acc: 0.3783\n",
      "\n",
      "Epoch 00001: val_loss improved from inf to 2.38254, saving model to test.model\n",
      "Epoch 2/500\n",
      "1688/1688 [==============================] - 31s 19ms/step - loss: 2.3303 - acc: 0.3775 - val_loss: 2.3249 - val_acc: 0.3785\n",
      "\n",
      "Epoch 00002: val_loss improved from 2.38254 to 2.32487, saving model to test.model\n",
      "Epoch 3/500\n",
      "1688/1688 [==============================] - 32s 19ms/step - loss: 2.3009 - acc: 0.3777 - val_loss: 2.3277 - val_acc: 0.3782\n",
      "\n",
      "Epoch 00003: val_loss did not improve from 2.32487\n",
      "Epoch 4/500\n",
      "1688/1688 [==============================] - 32s 19ms/step - loss: 2.2832 - acc: 0.3783 - val_loss: 2.3386 - val_acc: 0.3881\n",
      "\n",
      "Epoch 00004: val_loss did not improve from 2.32487\n",
      "Epoch 5/500\n",
      "1688/1688 [==============================] - 32s 19ms/step - loss: 2.2332 - acc: 0.3903 - val_loss: 2.2567 - val_acc: 0.3967\n",
      "\n",
      "Epoch 00005: val_loss improved from 2.32487 to 2.25669, saving model to test.model\n",
      "Epoch 6/500\n",
      "1688/1688 [==============================] - 32s 19ms/step - loss: 2.1964 - acc: 0.4046 - val_loss: 2.1976 - val_acc: 0.4209\n",
      "\n",
      "Epoch 00006: val_loss improved from 2.25669 to 2.19761, saving model to test.model\n",
      "Epoch 7/500\n",
      "1688/1688 [==============================] - 31s 18ms/step - loss: 2.1742 - acc: 0.4139 - val_loss: 2.1697 - val_acc: 0.4369\n",
      "\n",
      "Epoch 00007: val_loss improved from 2.19761 to 2.16973, saving model to test.model\n",
      "Epoch 8/500\n",
      "1688/1688 [==============================] - 31s 19ms/step - loss: 2.1426 - acc: 0.4276 - val_loss: 2.1444 - val_acc: 0.4507\n",
      "\n",
      "Epoch 00008: val_loss improved from 2.16973 to 2.14442, saving model to test.model\n",
      "Epoch 9/500\n",
      "1688/1688 [==============================] - 32s 19ms/step - loss: 2.1203 - acc: 0.4385 - val_loss: 2.1082 - val_acc: 0.4796\n",
      "\n",
      "Epoch 00009: val_loss improved from 2.14442 to 2.10817, saving model to test.model\n",
      "Epoch 10/500\n",
      "1688/1688 [==============================] - 32s 19ms/step - loss: 2.1070 - acc: 0.4447 - val_loss: 2.0763 - val_acc: 0.4840\n",
      "\n",
      "Epoch 00010: val_loss improved from 2.10817 to 2.07629, saving model to test.model\n",
      "Epoch 11/500\n",
      "1688/1688 [==============================] - 32s 19ms/step - loss: 2.0975 - acc: 0.4495 - val_loss: 2.0682 - val_acc: 0.4836\n",
      "\n",
      "Epoch 00011: val_loss improved from 2.07629 to 2.06820, saving model to test.model\n",
      "Epoch 12/500\n",
      "1688/1688 [==============================] - 32s 19ms/step - loss: 2.0906 - acc: 0.4538 - val_loss: 2.0885 - val_acc: 0.4945\n",
      "\n",
      "Epoch 00012: val_loss did not improve from 2.06820\n",
      "Epoch 13/500\n",
      "1688/1688 [==============================] - 32s 19ms/step - loss: 2.0850 - acc: 0.4563 - val_loss: 2.0554 - val_acc: 0.4943\n",
      "\n",
      "Epoch 00013: val_loss improved from 2.06820 to 2.05543, saving model to test.model\n",
      "Epoch 14/500\n",
      "1688/1688 [==============================] - 32s 19ms/step - loss: 2.0748 - acc: 0.4588 - val_loss: 2.0846 - val_acc: 0.4850\n",
      "\n",
      "Epoch 00014: val_loss did not improve from 2.05543\n",
      "Epoch 15/500\n",
      "1688/1688 [==============================] - 32s 19ms/step - loss: 2.0678 - acc: 0.4619 - val_loss: 2.0478 - val_acc: 0.4979\n",
      "\n",
      "Epoch 00015: val_loss improved from 2.05543 to 2.04781, saving model to test.model\n",
      "Epoch 16/500\n",
      "1688/1688 [==============================] - 32s 19ms/step - loss: 2.0624 - acc: 0.4642 - val_loss: 2.0379 - val_acc: 0.5153\n",
      "\n",
      "Epoch 00016: val_loss improved from 2.04781 to 2.03785, saving model to test.model\n",
      "Epoch 17/500\n",
      "1688/1688 [==============================] - 31s 18ms/step - loss: 2.0600 - acc: 0.4654 - val_loss: 2.0438 - val_acc: 0.5043\n",
      "\n",
      "Epoch 00017: val_loss did not improve from 2.03785\n",
      "Epoch 18/500\n",
      "1688/1688 [==============================] - 31s 19ms/step - loss: 2.0568 - acc: 0.4676 - val_loss: 2.0279 - val_acc: 0.5089\n",
      "\n",
      "Epoch 00018: val_loss improved from 2.03785 to 2.02788, saving model to test.model\n",
      "Epoch 19/500\n",
      "1688/1688 [==============================] - 31s 18ms/step - loss: 2.0521 - acc: 0.4681 - val_loss: 2.0169 - val_acc: 0.5094\n",
      "\n",
      "Epoch 00019: val_loss improved from 2.02788 to 2.01690, saving model to test.model\n",
      "Epoch 20/500\n",
      "1688/1688 [==============================] - 31s 18ms/step - loss: 2.0506 - acc: 0.4682 - val_loss: 2.0532 - val_acc: 0.5022\n",
      "\n",
      "Epoch 00020: val_loss did not improve from 2.01690\n",
      "Epoch 21/500\n",
      "1688/1688 [==============================] - 31s 18ms/step - loss: 2.0458 - acc: 0.4699 - val_loss: 2.0191 - val_acc: 0.5082\n",
      "\n",
      "Epoch 00021: val_loss did not improve from 2.01690\n",
      "Epoch 22/500\n",
      "1688/1688 [==============================] - 31s 18ms/step - loss: 2.0387 - acc: 0.4716 - val_loss: 2.0045 - val_acc: 0.5099\n",
      "\n",
      "Epoch 00022: val_loss improved from 2.01690 to 2.00447, saving model to test.model\n",
      "Epoch 23/500\n",
      "1688/1688 [==============================] - 31s 18ms/step - loss: 2.0362 - acc: 0.4717 - val_loss: 2.0116 - val_acc: 0.5117\n",
      "\n",
      "Epoch 00023: val_loss did not improve from 2.00447\n",
      "Epoch 24/500\n",
      "1688/1688 [==============================] - 31s 18ms/step - loss: 2.0338 - acc: 0.4724 - val_loss: 2.0009 - val_acc: 0.5121\n",
      "\n",
      "Epoch 00024: val_loss improved from 2.00447 to 2.00089, saving model to test.model\n",
      "Epoch 25/500\n",
      "1688/1688 [==============================] - 31s 18ms/step - loss: 2.0305 - acc: 0.4742 - val_loss: 2.0033 - val_acc: 0.5101\n",
      "\n",
      "Epoch 00025: val_loss did not improve from 2.00089\n",
      "Epoch 26/500\n",
      "1688/1688 [==============================] - 31s 18ms/step - loss: 2.0281 - acc: 0.4735 - val_loss: 2.0035 - val_acc: 0.5165\n",
      "\n",
      "Epoch 00026: val_loss did not improve from 2.00089\n",
      "Epoch 27/500\n",
      "1688/1688 [==============================] - 31s 18ms/step - loss: 2.0333 - acc: 0.4703 - val_loss: 1.9888 - val_acc: 0.5177\n",
      "\n",
      "Epoch 00027: val_loss improved from 2.00089 to 1.98877, saving model to test.model\n",
      "Epoch 28/500\n",
      "1688/1688 [==============================] - 31s 18ms/step - loss: 2.0235 - acc: 0.4757 - val_loss: 1.9929 - val_acc: 0.5107\n",
      "\n",
      "Epoch 00028: val_loss did not improve from 1.98877\n",
      "Epoch 29/500\n",
      "1688/1688 [==============================] - 31s 18ms/step - loss: 2.0240 - acc: 0.4740 - val_loss: 2.0120 - val_acc: 0.5060\n",
      "\n",
      "Epoch 00029: val_loss did not improve from 1.98877\n",
      "Epoch 30/500\n",
      "1688/1688 [==============================] - 31s 18ms/step - loss: 2.0184 - acc: 0.4751 - val_loss: 1.9981 - val_acc: 0.5092\n",
      "\n",
      "Epoch 00030: val_loss did not improve from 1.98877\n",
      "Epoch 31/500\n",
      "1688/1688 [==============================] - 31s 18ms/step - loss: 2.0171 - acc: 0.4758 - val_loss: 1.9776 - val_acc: 0.5148\n",
      "\n",
      "Epoch 00031: val_loss improved from 1.98877 to 1.97765, saving model to test.model\n",
      "Epoch 32/500\n",
      "1688/1688 [==============================] - 31s 18ms/step - loss: 2.0151 - acc: 0.4737 - val_loss: 1.9782 - val_acc: 0.5136\n",
      "\n",
      "Epoch 00032: val_loss did not improve from 1.97765\n",
      "Epoch 33/500\n",
      "1688/1688 [==============================] - 31s 18ms/step - loss: 2.0126 - acc: 0.4769 - val_loss: 1.9724 - val_acc: 0.5099\n",
      "\n",
      "Epoch 00033: val_loss improved from 1.97765 to 1.97243, saving model to test.model\n",
      "Epoch 34/500\n",
      "1688/1688 [==============================] - 31s 18ms/step - loss: 2.0099 - acc: 0.4773 - val_loss: 1.9677 - val_acc: 0.5172\n",
      "\n",
      "Epoch 00034: val_loss improved from 1.97243 to 1.96770, saving model to test.model\n",
      "Epoch 35/500\n",
      "1688/1688 [==============================] - 31s 18ms/step - loss: 2.0110 - acc: 0.4764 - val_loss: 1.9936 - val_acc: 0.5032\n",
      "\n",
      "Epoch 00035: val_loss did not improve from 1.96770\n",
      "Epoch 36/500\n",
      "1688/1688 [==============================] - 31s 18ms/step - loss: 2.0046 - acc: 0.4778 - val_loss: 1.9708 - val_acc: 0.5005\n",
      "\n",
      "Epoch 00036: val_loss did not improve from 1.96770\n",
      "Epoch 37/500\n"
     ]
    },
    {
     "name": "stdout",
     "output_type": "stream",
     "text": [
      "1688/1688 [==============================] - 31s 18ms/step - loss: 2.0075 - acc: 0.4757 - val_loss: 1.9559 - val_acc: 0.5156\n",
      "\n",
      "Epoch 00037: val_loss improved from 1.96770 to 1.95592, saving model to test.model\n",
      "Epoch 38/500\n",
      "1688/1688 [==============================] - 31s 18ms/step - loss: 2.0050 - acc: 0.4757 - val_loss: 1.9692 - val_acc: 0.5034\n",
      "\n",
      "Epoch 00038: val_loss did not improve from 1.95592\n",
      "Epoch 39/500\n",
      "1688/1688 [==============================] - 31s 18ms/step - loss: 2.0048 - acc: 0.4745 - val_loss: 1.9681 - val_acc: 0.5073\n",
      "\n",
      "Epoch 00039: val_loss did not improve from 1.95592\n",
      "Epoch 40/500\n",
      "1688/1688 [==============================] - 31s 18ms/step - loss: 1.9970 - acc: 0.4781 - val_loss: 1.9539 - val_acc: 0.5048\n",
      "\n",
      "Epoch 00040: val_loss improved from 1.95592 to 1.95391, saving model to test.model\n",
      "Epoch 41/500\n",
      "1688/1688 [==============================] - 30s 18ms/step - loss: 1.9928 - acc: 0.4770 - val_loss: 1.9414 - val_acc: 0.5102\n",
      "\n",
      "Epoch 00041: val_loss improved from 1.95391 to 1.94135, saving model to test.model\n",
      "Epoch 42/500\n",
      "1688/1688 [==============================] - 30s 18ms/step - loss: 1.9915 - acc: 0.4771 - val_loss: 1.9669 - val_acc: 0.5065\n",
      "\n",
      "Epoch 00042: val_loss did not improve from 1.94135\n",
      "Epoch 43/500\n",
      "1688/1688 [==============================] - 31s 18ms/step - loss: 1.9877 - acc: 0.4774 - val_loss: 1.9414 - val_acc: 0.5190\n",
      "\n",
      "Epoch 00043: val_loss did not improve from 1.94135\n",
      "Epoch 44/500\n",
      "1688/1688 [==============================] - 30s 18ms/step - loss: 1.9878 - acc: 0.4769 - val_loss: 1.9369 - val_acc: 0.5207\n",
      "\n",
      "Epoch 00044: val_loss improved from 1.94135 to 1.93693, saving model to test.model\n",
      "Epoch 45/500\n",
      "1688/1688 [==============================] - 30s 18ms/step - loss: 1.9854 - acc: 0.4788 - val_loss: 1.9461 - val_acc: 0.5104\n",
      "\n",
      "Epoch 00045: val_loss did not improve from 1.93693\n",
      "Epoch 46/500\n",
      "1688/1688 [==============================] - 31s 18ms/step - loss: 1.9844 - acc: 0.4795 - val_loss: 1.9398 - val_acc: 0.5160\n",
      "\n",
      "Epoch 00046: val_loss did not improve from 1.93693\n",
      "Epoch 47/500\n",
      "1688/1688 [==============================] - 31s 18ms/step - loss: 1.9827 - acc: 0.4799 - val_loss: 1.9532 - val_acc: 0.5070\n",
      "\n",
      "Epoch 00047: val_loss did not improve from 1.93693\n",
      "Epoch 48/500\n",
      "1688/1688 [==============================] - 31s 18ms/step - loss: 1.9852 - acc: 0.4767 - val_loss: 1.9451 - val_acc: 0.5153\n",
      "\n",
      "Epoch 00048: val_loss did not improve from 1.93693\n",
      "Epoch 49/500\n",
      "1688/1688 [==============================] - 30s 18ms/step - loss: 1.9855 - acc: 0.4783 - val_loss: 1.9410 - val_acc: 0.5090\n",
      "\n",
      "Epoch 00049: val_loss did not improve from 1.93693\n",
      "Epoch 50/500\n",
      "1688/1688 [==============================] - 30s 18ms/step - loss: 1.9851 - acc: 0.4775 - val_loss: 1.9334 - val_acc: 0.5137\n",
      "\n",
      "Epoch 00050: val_loss improved from 1.93693 to 1.93338, saving model to test.model\n",
      "Epoch 51/500\n",
      "1688/1688 [==============================] - 30s 18ms/step - loss: 1.9817 - acc: 0.4784 - val_loss: 1.9311 - val_acc: 0.5131\n",
      "\n",
      "Epoch 00051: val_loss improved from 1.93338 to 1.93105, saving model to test.model\n",
      "Epoch 52/500\n",
      "1688/1688 [==============================] - 30s 18ms/step - loss: 1.9796 - acc: 0.4798 - val_loss: 1.9469 - val_acc: 0.5151\n",
      "\n",
      "Epoch 00052: val_loss did not improve from 1.93105\n",
      "Epoch 53/500\n",
      "1688/1688 [==============================] - 30s 18ms/step - loss: 1.9800 - acc: 0.4785 - val_loss: 1.9349 - val_acc: 0.5082\n",
      "\n",
      "Epoch 00053: val_loss did not improve from 1.93105\n",
      "Epoch 54/500\n",
      "1688/1688 [==============================] - 30s 18ms/step - loss: 1.9761 - acc: 0.4801 - val_loss: 1.9234 - val_acc: 0.5182\n",
      "\n",
      "Epoch 00054: val_loss improved from 1.93105 to 1.92345, saving model to test.model\n",
      "Epoch 55/500\n",
      "1688/1688 [==============================] - 30s 18ms/step - loss: 1.9781 - acc: 0.4805 - val_loss: 1.9329 - val_acc: 0.5136\n",
      "\n",
      "Epoch 00055: val_loss did not improve from 1.92345\n",
      "Epoch 56/500\n",
      "1688/1688 [==============================] - 30s 18ms/step - loss: 1.9770 - acc: 0.4804 - val_loss: 1.9285 - val_acc: 0.5031\n",
      "\n",
      "Epoch 00056: val_loss did not improve from 1.92345\n",
      "Epoch 57/500\n",
      "1688/1688 [==============================] - 30s 18ms/step - loss: 1.9736 - acc: 0.4814 - val_loss: 1.9298 - val_acc: 0.5102\n",
      "\n",
      "Epoch 00057: val_loss did not improve from 1.92345\n",
      "Epoch 58/500\n",
      "1688/1688 [==============================] - 30s 18ms/step - loss: 1.9761 - acc: 0.4795 - val_loss: 1.9480 - val_acc: 0.5166\n",
      "\n",
      "Epoch 00058: val_loss did not improve from 1.92345\n",
      "Epoch 59/500\n",
      "1688/1688 [==============================] - 30s 18ms/step - loss: 1.9737 - acc: 0.4808 - val_loss: 1.9272 - val_acc: 0.5182\n",
      "\n",
      "Epoch 00059: val_loss did not improve from 1.92345\n",
      "Epoch 60/500\n",
      "1688/1688 [==============================] - 31s 18ms/step - loss: 1.9740 - acc: 0.4798 - val_loss: 1.9273 - val_acc: 0.5137\n",
      "\n",
      "Epoch 00060: val_loss did not improve from 1.92345\n",
      "Epoch 61/500\n",
      "1688/1688 [==============================] - 30s 18ms/step - loss: 1.9724 - acc: 0.4805 - val_loss: 1.9288 - val_acc: 0.5152\n",
      "\n",
      "Epoch 00061: val_loss did not improve from 1.92345\n",
      "Epoch 62/500\n",
      "1688/1688 [==============================] - 30s 18ms/step - loss: 1.9756 - acc: 0.4799 - val_loss: 1.9320 - val_acc: 0.5219\n",
      "\n",
      "Epoch 00062: val_loss did not improve from 1.92345\n",
      "Epoch 63/500\n",
      "1688/1688 [==============================] - 30s 18ms/step - loss: 1.9717 - acc: 0.4814 - val_loss: 1.9456 - val_acc: 0.5075\n",
      "\n",
      "Epoch 00063: val_loss did not improve from 1.92345\n",
      "Epoch 64/500\n",
      "1688/1688 [==============================] - 31s 18ms/step - loss: 1.9697 - acc: 0.4814 - val_loss: 1.9372 - val_acc: 0.5124\n",
      "\n",
      "Epoch 00064: val_loss did not improve from 1.92345\n",
      "Epoch 65/500\n",
      "1688/1688 [==============================] - 31s 18ms/step - loss: 1.9725 - acc: 0.4793 - val_loss: 1.9325 - val_acc: 0.5076\n",
      "\n",
      "Epoch 00065: val_loss did not improve from 1.92345\n",
      "Epoch 66/500\n",
      "1688/1688 [==============================] - 30s 18ms/step - loss: 1.9735 - acc: 0.4804 - val_loss: 1.9435 - val_acc: 0.5148\n",
      "\n",
      "Epoch 00066: val_loss did not improve from 1.92345\n",
      "Epoch 67/500\n",
      "1688/1688 [==============================] - 31s 18ms/step - loss: 1.9717 - acc: 0.4807 - val_loss: 1.9245 - val_acc: 0.5172\n",
      "\n",
      "Epoch 00067: val_loss did not improve from 1.92345\n",
      "Epoch 68/500\n",
      "1688/1688 [==============================] - 30s 18ms/step - loss: 1.9732 - acc: 0.4797 - val_loss: 1.9324 - val_acc: 0.5188\n",
      "\n",
      "Epoch 00068: val_loss did not improve from 1.92345\n",
      "Epoch 69/500\n",
      "1688/1688 [==============================] - 31s 18ms/step - loss: 1.9677 - acc: 0.4818 - val_loss: 1.9186 - val_acc: 0.5154\n",
      "\n",
      "Epoch 00069: val_loss improved from 1.92345 to 1.91855, saving model to test.model\n",
      "Epoch 70/500\n",
      "1688/1688 [==============================] - 31s 18ms/step - loss: 1.9661 - acc: 0.4825 - val_loss: 1.9128 - val_acc: 0.5259\n",
      "\n",
      "Epoch 00070: val_loss improved from 1.91855 to 1.91282, saving model to test.model\n",
      "Epoch 71/500\n",
      "1688/1688 [==============================] - 31s 18ms/step - loss: 1.9692 - acc: 0.4813 - val_loss: 1.9255 - val_acc: 0.5059\n",
      "\n",
      "Epoch 00071: val_loss did not improve from 1.91282\n",
      "Epoch 72/500\n",
      "1688/1688 [==============================] - 30s 18ms/step - loss: 1.9675 - acc: 0.4824 - val_loss: 1.9238 - val_acc: 0.5141\n",
      "\n",
      "Epoch 00072: val_loss did not improve from 1.91282\n",
      "Epoch 73/500\n",
      "1688/1688 [==============================] - 30s 18ms/step - loss: 1.9643 - acc: 0.4839 - val_loss: 1.9222 - val_acc: 0.5141\n",
      "\n",
      "Epoch 00073: val_loss did not improve from 1.91282\n",
      "Epoch 74/500\n",
      "1688/1688 [==============================] - 30s 18ms/step - loss: 1.9642 - acc: 0.4835 - val_loss: 1.9257 - val_acc: 0.5047\n",
      "\n",
      "Epoch 00074: val_loss did not improve from 1.91282\n",
      "Epoch 75/500\n",
      "1688/1688 [==============================] - 30s 18ms/step - loss: 1.9649 - acc: 0.4838 - val_loss: 1.9223 - val_acc: 0.5172\n",
      "\n",
      "Epoch 00075: val_loss did not improve from 1.91282\n",
      "Epoch 76/500\n",
      "1688/1688 [==============================] - 31s 18ms/step - loss: 1.9632 - acc: 0.4840 - val_loss: 1.9208 - val_acc: 0.5107\n",
      "\n",
      "Epoch 00076: val_loss did not improve from 1.91282\n",
      "Epoch 77/500\n",
      "1688/1688 [==============================] - 30s 18ms/step - loss: 1.9659 - acc: 0.4828 - val_loss: 1.9115 - val_acc: 0.5106\n",
      "\n",
      "Epoch 00077: val_loss improved from 1.91282 to 1.91148, saving model to test.model\n",
      "Epoch 78/500\n",
      "1688/1688 [==============================] - 31s 18ms/step - loss: 1.9630 - acc: 0.4836 - val_loss: 1.9389 - val_acc: 0.5060\n"
     ]
    },
    {
     "name": "stdout",
     "output_type": "stream",
     "text": [
      "\n",
      "Epoch 00078: val_loss did not improve from 1.91148\n",
      "Epoch 79/500\n",
      "1688/1688 [==============================] - 30s 18ms/step - loss: 1.9655 - acc: 0.4840 - val_loss: 1.9313 - val_acc: 0.5152\n",
      "\n",
      "Epoch 00079: val_loss did not improve from 1.91148\n",
      "Epoch 80/500\n",
      "1688/1688 [==============================] - 30s 18ms/step - loss: 1.9628 - acc: 0.4849 - val_loss: 1.9161 - val_acc: 0.5175\n",
      "\n",
      "Epoch 00080: val_loss did not improve from 1.91148\n",
      "Epoch 81/500\n",
      "1688/1688 [==============================] - 30s 18ms/step - loss: 1.9618 - acc: 0.4848 - val_loss: 1.9249 - val_acc: 0.5185\n",
      "\n",
      "Epoch 00081: val_loss did not improve from 1.91148\n",
      "Epoch 82/500\n",
      "1688/1688 [==============================] - 31s 18ms/step - loss: 1.9614 - acc: 0.4831 - val_loss: 1.9194 - val_acc: 0.5219\n",
      "\n",
      "Epoch 00082: val_loss did not improve from 1.91148\n",
      "Epoch 83/500\n",
      "1688/1688 [==============================] - 31s 18ms/step - loss: 1.9633 - acc: 0.4838 - val_loss: 1.9219 - val_acc: 0.5108\n",
      "\n",
      "Epoch 00083: val_loss did not improve from 1.91148\n",
      "Epoch 84/500\n",
      "1688/1688 [==============================] - 30s 18ms/step - loss: 1.9621 - acc: 0.4845 - val_loss: 1.9188 - val_acc: 0.5131\n",
      "\n",
      "Epoch 00084: val_loss did not improve from 1.91148\n",
      "Epoch 85/500\n",
      "1688/1688 [==============================] - 30s 18ms/step - loss: 1.9620 - acc: 0.4849 - val_loss: 1.9052 - val_acc: 0.5256\n",
      "\n",
      "Epoch 00085: val_loss improved from 1.91148 to 1.90517, saving model to test.model\n",
      "Epoch 86/500\n",
      "1688/1688 [==============================] - 30s 18ms/step - loss: 1.9616 - acc: 0.4841 - val_loss: 1.9388 - val_acc: 0.5114\n",
      "\n",
      "Epoch 00086: val_loss did not improve from 1.90517\n",
      "Epoch 87/500\n",
      "1688/1688 [==============================] - 30s 18ms/step - loss: 1.9641 - acc: 0.4835 - val_loss: 1.9271 - val_acc: 0.5186\n",
      "\n",
      "Epoch 00087: val_loss did not improve from 1.90517\n",
      "Epoch 88/500\n",
      "1688/1688 [==============================] - 30s 18ms/step - loss: 1.9607 - acc: 0.4858 - val_loss: 1.9174 - val_acc: 0.5192\n",
      "\n",
      "Epoch 00088: val_loss did not improve from 1.90517\n",
      "Epoch 89/500\n",
      "1688/1688 [==============================] - 30s 18ms/step - loss: 1.9623 - acc: 0.4837 - val_loss: 1.9156 - val_acc: 0.5246\n",
      "\n",
      "Epoch 00089: val_loss did not improve from 1.90517\n",
      "Epoch 90/500\n",
      "1688/1688 [==============================] - 31s 18ms/step - loss: 1.9601 - acc: 0.4860 - val_loss: 1.9158 - val_acc: 0.5235\n",
      "\n",
      "Epoch 00090: val_loss did not improve from 1.90517\n",
      "Epoch 91/500\n",
      "1688/1688 [==============================] - 31s 18ms/step - loss: 1.9607 - acc: 0.4858 - val_loss: 1.9261 - val_acc: 0.5103\n",
      "\n",
      "Epoch 00091: val_loss did not improve from 1.90517\n",
      "Epoch 92/500\n",
      "1688/1688 [==============================] - 31s 18ms/step - loss: 1.9606 - acc: 0.4858 - val_loss: 1.9250 - val_acc: 0.5118\n",
      "\n",
      "Epoch 00092: val_loss did not improve from 1.90517\n",
      "Epoch 93/500\n",
      "1688/1688 [==============================] - 30s 18ms/step - loss: 1.9580 - acc: 0.4854 - val_loss: 1.9077 - val_acc: 0.5146\n",
      "\n",
      "Epoch 00093: val_loss did not improve from 1.90517\n",
      "Epoch 94/500\n",
      "1688/1688 [==============================] - 31s 18ms/step - loss: 1.9635 - acc: 0.4843 - val_loss: 1.9039 - val_acc: 0.5145\n",
      "\n",
      "Epoch 00094: val_loss improved from 1.90517 to 1.90385, saving model to test.model\n",
      "Epoch 95/500\n",
      "1688/1688 [==============================] - 32s 19ms/step - loss: 1.9599 - acc: 0.4864 - val_loss: 1.9231 - val_acc: 0.5236\n",
      "\n",
      "Epoch 00095: val_loss did not improve from 1.90385\n",
      "Epoch 96/500\n",
      "1688/1688 [==============================] - 31s 18ms/step - loss: 1.9570 - acc: 0.4863 - val_loss: 1.9185 - val_acc: 0.5171\n",
      "\n",
      "Epoch 00096: val_loss did not improve from 1.90385\n",
      "Epoch 97/500\n",
      "1688/1688 [==============================] - 31s 18ms/step - loss: 1.9617 - acc: 0.4856 - val_loss: 1.9355 - val_acc: 0.4919\n",
      "\n",
      "Epoch 00097: val_loss did not improve from 1.90385\n",
      "Epoch 98/500\n",
      "1688/1688 [==============================] - 31s 18ms/step - loss: 1.9622 - acc: 0.4846 - val_loss: 1.9313 - val_acc: 0.5251\n",
      "\n",
      "Epoch 00098: val_loss did not improve from 1.90385\n",
      "Epoch 99/500\n",
      "1688/1688 [==============================] - 31s 18ms/step - loss: 1.9578 - acc: 0.4869 - val_loss: 1.9236 - val_acc: 0.5233\n",
      "\n",
      "Epoch 00099: val_loss did not improve from 1.90385\n",
      "Epoch 100/500\n",
      "1688/1688 [==============================] - 31s 18ms/step - loss: 1.9578 - acc: 0.4856 - val_loss: 1.9234 - val_acc: 0.5007\n",
      "\n",
      "Epoch 00100: val_loss did not improve from 1.90385\n",
      "Epoch 101/500\n",
      "1688/1688 [==============================] - 31s 18ms/step - loss: 1.9603 - acc: 0.4848 - val_loss: 1.9439 - val_acc: 0.5087\n",
      "\n",
      "Epoch 00101: val_loss did not improve from 1.90385\n",
      "Epoch 102/500\n",
      "1688/1688 [==============================] - 31s 18ms/step - loss: 1.9593 - acc: 0.4858 - val_loss: 1.9221 - val_acc: 0.5046\n",
      "\n",
      "Epoch 00102: val_loss did not improve from 1.90385\n",
      "Epoch 103/500\n",
      "1688/1688 [==============================] - 31s 18ms/step - loss: 1.9623 - acc: 0.4842 - val_loss: 1.9172 - val_acc: 0.5202\n",
      "\n",
      "Epoch 00103: val_loss did not improve from 1.90385\n",
      "Epoch 104/500\n",
      "1688/1688 [==============================] - 31s 18ms/step - loss: 1.9574 - acc: 0.4874 - val_loss: 1.9315 - val_acc: 0.5137\n",
      "\n",
      "Epoch 00104: val_loss did not improve from 1.90385\n",
      "Epoch 105/500\n",
      "1688/1688 [==============================] - 31s 18ms/step - loss: 1.9572 - acc: 0.4872 - val_loss: 1.9337 - val_acc: 0.5166\n",
      "\n",
      "Epoch 00105: val_loss did not improve from 1.90385\n",
      "Epoch 106/500\n",
      "1688/1688 [==============================] - 31s 18ms/step - loss: 1.9598 - acc: 0.4867 - val_loss: 1.9280 - val_acc: 0.5110\n",
      "\n",
      "Epoch 00106: val_loss did not improve from 1.90385\n",
      "Epoch 107/500\n",
      "1688/1688 [==============================] - 31s 18ms/step - loss: 1.9617 - acc: 0.4841 - val_loss: 1.9200 - val_acc: 0.5113\n",
      "\n",
      "Epoch 00107: val_loss did not improve from 1.90385\n",
      "Epoch 108/500\n",
      "1688/1688 [==============================] - 31s 18ms/step - loss: 1.9596 - acc: 0.4865 - val_loss: 1.9235 - val_acc: 0.5165\n",
      "\n",
      "Epoch 00108: val_loss did not improve from 1.90385\n",
      "Epoch 109/500\n",
      "1688/1688 [==============================] - 31s 18ms/step - loss: 1.9555 - acc: 0.4877 - val_loss: 1.9330 - val_acc: 0.5189\n",
      "\n",
      "Epoch 00109: val_loss did not improve from 1.90385\n",
      "Epoch 110/500\n",
      "1688/1688 [==============================] - 31s 18ms/step - loss: 1.9591 - acc: 0.4857 - val_loss: 1.9155 - val_acc: 0.5143\n",
      "\n",
      "Epoch 00110: val_loss did not improve from 1.90385\n",
      "Epoch 111/500\n",
      "1688/1688 [==============================] - 31s 18ms/step - loss: 1.9566 - acc: 0.4870 - val_loss: 1.9132 - val_acc: 0.5140\n",
      "\n",
      "Epoch 00111: val_loss did not improve from 1.90385\n",
      "Epoch 112/500\n",
      "1688/1688 [==============================] - 31s 18ms/step - loss: 1.9601 - acc: 0.4860 - val_loss: 1.9158 - val_acc: 0.5131\n",
      "\n",
      "Epoch 00112: val_loss did not improve from 1.90385\n",
      "Epoch 113/500\n",
      "1688/1688 [==============================] - 31s 18ms/step - loss: 1.9567 - acc: 0.4861 - val_loss: 1.9191 - val_acc: 0.5232\n",
      "\n",
      "Epoch 00113: val_loss did not improve from 1.90385\n",
      "Epoch 114/500\n",
      "1688/1688 [==============================] - 31s 18ms/step - loss: 1.9568 - acc: 0.4862 - val_loss: 1.9195 - val_acc: 0.5143\n",
      "\n",
      "Epoch 00114: val_loss did not improve from 1.90385\n",
      "Epoch 115/500\n",
      "1688/1688 [==============================] - 31s 18ms/step - loss: 1.9616 - acc: 0.4848 - val_loss: 1.9289 - val_acc: 0.5051\n",
      "\n",
      "Epoch 00115: val_loss did not improve from 1.90385\n",
      "Epoch 116/500\n",
      "1688/1688 [==============================] - 31s 18ms/step - loss: 1.9567 - acc: 0.4875 - val_loss: 1.9121 - val_acc: 0.5159\n",
      "\n",
      "Epoch 00116: val_loss did not improve from 1.90385\n",
      "Epoch 117/500\n",
      "1688/1688 [==============================] - 31s 18ms/step - loss: 1.9570 - acc: 0.4865 - val_loss: 1.9285 - val_acc: 0.5047\n",
      "\n",
      "Epoch 00117: val_loss did not improve from 1.90385\n",
      "Epoch 118/500\n",
      "1688/1688 [==============================] - 30s 18ms/step - loss: 1.9605 - acc: 0.4855 - val_loss: 1.9201 - val_acc: 0.5189\n",
      "\n",
      "Epoch 00118: val_loss did not improve from 1.90385\n",
      "Epoch 119/500\n",
      "1688/1688 [==============================] - 30s 18ms/step - loss: 1.9561 - acc: 0.4867 - val_loss: 1.9552 - val_acc: 0.4959\n",
      "\n",
      "Epoch 00119: val_loss did not improve from 1.90385\n",
      "Epoch 120/500\n",
      "1688/1688 [==============================] - 30s 18ms/step - loss: 1.9588 - acc: 0.4857 - val_loss: 1.9166 - val_acc: 0.5216\n",
      "\n",
      "Epoch 00120: val_loss did not improve from 1.90385\n",
      "Epoch 121/500\n"
     ]
    },
    {
     "name": "stdout",
     "output_type": "stream",
     "text": [
      "1688/1688 [==============================] - 31s 18ms/step - loss: 1.9533 - acc: 0.4875 - val_loss: 1.9213 - val_acc: 0.5162\n",
      "\n",
      "Epoch 00121: val_loss did not improve from 1.90385\n",
      "Epoch 122/500\n",
      "1688/1688 [==============================] - 30s 18ms/step - loss: 1.9560 - acc: 0.4877 - val_loss: 1.9108 - val_acc: 0.5196\n",
      "\n",
      "Epoch 00122: val_loss did not improve from 1.90385\n",
      "Epoch 123/500\n",
      "1688/1688 [==============================] - 30s 18ms/step - loss: 1.9577 - acc: 0.4862 - val_loss: 1.9052 - val_acc: 0.5179\n",
      "\n",
      "Epoch 00123: val_loss did not improve from 1.90385\n",
      "Epoch 124/500\n",
      "1688/1688 [==============================] - 31s 18ms/step - loss: 1.9579 - acc: 0.4860 - val_loss: 1.9126 - val_acc: 0.5189\n",
      "\n",
      "Epoch 00124: val_loss did not improve from 1.90385\n",
      "Epoch 125/500\n",
      "1688/1688 [==============================] - 31s 18ms/step - loss: 1.9569 - acc: 0.4874 - val_loss: 1.9134 - val_acc: 0.5240\n",
      "\n",
      "Epoch 00125: val_loss did not improve from 1.90385\n",
      "Epoch 126/500\n",
      "1688/1688 [==============================] - 30s 18ms/step - loss: 1.9584 - acc: 0.4855 - val_loss: 1.9270 - val_acc: 0.5171\n",
      "\n",
      "Epoch 00126: val_loss did not improve from 1.90385\n",
      "Epoch 127/500\n",
      "1688/1688 [==============================] - 31s 18ms/step - loss: 1.9585 - acc: 0.4860 - val_loss: 1.9153 - val_acc: 0.5081\n",
      "\n",
      "Epoch 00127: val_loss did not improve from 1.90385\n",
      "Epoch 128/500\n",
      "1688/1688 [==============================] - 30s 18ms/step - loss: 1.9565 - acc: 0.4870 - val_loss: 1.9307 - val_acc: 0.5069\n",
      "\n",
      "Epoch 00128: val_loss did not improve from 1.90385\n",
      "Epoch 129/500\n",
      "1688/1688 [==============================] - 30s 18ms/step - loss: 1.9564 - acc: 0.4874 - val_loss: 1.9067 - val_acc: 0.5242\n",
      "\n",
      "Epoch 00129: val_loss did not improve from 1.90385\n",
      "Epoch 130/500\n",
      "1688/1688 [==============================] - 30s 18ms/step - loss: 1.9555 - acc: 0.4865 - val_loss: 1.9232 - val_acc: 0.5157\n",
      "\n",
      "Epoch 00130: val_loss did not improve from 1.90385\n",
      "Epoch 131/500\n",
      "1688/1688 [==============================] - 31s 18ms/step - loss: 1.9577 - acc: 0.4855 - val_loss: 1.9228 - val_acc: 0.5170\n",
      "\n",
      "Epoch 00131: val_loss did not improve from 1.90385\n",
      "Epoch 132/500\n",
      "1688/1688 [==============================] - 31s 18ms/step - loss: 1.9533 - acc: 0.4867 - val_loss: 1.9107 - val_acc: 0.5185\n",
      "\n",
      "Epoch 00132: val_loss did not improve from 1.90385\n",
      "Epoch 133/500\n",
      "1688/1688 [==============================] - 30s 18ms/step - loss: 1.9581 - acc: 0.4851 - val_loss: 1.9278 - val_acc: 0.5187\n",
      "\n",
      "Epoch 00133: val_loss did not improve from 1.90385\n",
      "Epoch 134/500\n",
      "1688/1688 [==============================] - 30s 18ms/step - loss: 1.9588 - acc: 0.4853 - val_loss: 1.9055 - val_acc: 0.5173\n",
      "\n",
      "Epoch 00134: val_loss did not improve from 1.90385\n",
      "Epoch 135/500\n",
      "1688/1688 [==============================] - 31s 18ms/step - loss: 1.9538 - acc: 0.4877 - val_loss: 1.9122 - val_acc: 0.5084\n",
      "\n",
      "Epoch 00135: val_loss did not improve from 1.90385\n",
      "Epoch 136/500\n",
      "1688/1688 [==============================] - 30s 18ms/step - loss: 1.9552 - acc: 0.4872 - val_loss: 1.9075 - val_acc: 0.5180\n",
      "\n",
      "Epoch 00136: val_loss did not improve from 1.90385\n",
      "Epoch 137/500\n",
      "1688/1688 [==============================] - 31s 18ms/step - loss: 1.9591 - acc: 0.4843 - val_loss: 1.9261 - val_acc: 0.5028\n",
      "\n",
      "Epoch 00137: val_loss did not improve from 1.90385\n",
      "Epoch 138/500\n",
      "1688/1688 [==============================] - 30s 18ms/step - loss: 1.9571 - acc: 0.4866 - val_loss: 1.9151 - val_acc: 0.5110\n",
      "\n",
      "Epoch 00138: val_loss did not improve from 1.90385\n",
      "Epoch 139/500\n",
      "1688/1688 [==============================] - 30s 18ms/step - loss: 1.9535 - acc: 0.4874 - val_loss: 1.9117 - val_acc: 0.5216\n",
      "\n",
      "Epoch 00139: val_loss did not improve from 1.90385\n",
      "Epoch 140/500\n",
      "1688/1688 [==============================] - 31s 18ms/step - loss: 1.9585 - acc: 0.4852 - val_loss: 1.9316 - val_acc: 0.4939\n",
      "\n",
      "Epoch 00140: val_loss did not improve from 1.90385\n",
      "Epoch 141/500\n",
      "1688/1688 [==============================] - 31s 18ms/step - loss: 1.9532 - acc: 0.4874 - val_loss: 1.9343 - val_acc: 0.4936\n",
      "\n",
      "Epoch 00141: val_loss did not improve from 1.90385\n",
      "Epoch 142/500\n",
      "1688/1688 [==============================] - 30s 18ms/step - loss: 1.9546 - acc: 0.4880 - val_loss: 1.9239 - val_acc: 0.5134\n",
      "\n",
      "Epoch 00142: val_loss did not improve from 1.90385\n",
      "Epoch 143/500\n",
      "1688/1688 [==============================] - 30s 18ms/step - loss: 1.9560 - acc: 0.4869 - val_loss: 1.9202 - val_acc: 0.5131\n",
      "\n",
      "Epoch 00143: val_loss did not improve from 1.90385\n",
      "Epoch 144/500\n",
      "1688/1688 [==============================] - 30s 18ms/step - loss: 1.9518 - acc: 0.4887 - val_loss: 1.9135 - val_acc: 0.5151\n",
      "\n",
      "Epoch 00144: val_loss did not improve from 1.90385\n",
      "Epoch 145/500\n",
      "1688/1688 [==============================] - 31s 18ms/step - loss: 1.9541 - acc: 0.4880 - val_loss: 1.9265 - val_acc: 0.5127\n",
      "\n",
      "Epoch 00145: val_loss did not improve from 1.90385\n",
      "Epoch 146/500\n",
      "1688/1688 [==============================] - 30s 18ms/step - loss: 1.9552 - acc: 0.4878 - val_loss: 1.9125 - val_acc: 0.5130\n",
      "\n",
      "Epoch 00146: val_loss did not improve from 1.90385\n",
      "Epoch 147/500\n",
      "1688/1688 [==============================] - 31s 18ms/step - loss: 1.9509 - acc: 0.4896 - val_loss: 1.9078 - val_acc: 0.5196\n",
      "\n",
      "Epoch 00147: val_loss did not improve from 1.90385\n",
      "Epoch 148/500\n",
      "1688/1688 [==============================] - 31s 18ms/step - loss: 1.9532 - acc: 0.4881 - val_loss: 1.9288 - val_acc: 0.4982\n",
      "\n",
      "Epoch 00148: val_loss did not improve from 1.90385\n",
      "Epoch 149/500\n",
      "1688/1688 [==============================] - 30s 18ms/step - loss: 1.9518 - acc: 0.4881 - val_loss: 1.9378 - val_acc: 0.5062\n",
      "\n",
      "Epoch 00149: val_loss did not improve from 1.90385\n",
      "Epoch 150/500\n",
      "1688/1688 [==============================] - 31s 18ms/step - loss: 1.9573 - acc: 0.4860 - val_loss: 1.9312 - val_acc: 0.5139\n",
      "\n",
      "Epoch 00150: val_loss did not improve from 1.90385\n",
      "Epoch 151/500\n",
      "1688/1688 [==============================] - 31s 18ms/step - loss: 1.9605 - acc: 0.4845 - val_loss: 1.9177 - val_acc: 0.5181\n",
      "\n",
      "Epoch 00151: val_loss did not improve from 1.90385\n",
      "Epoch 152/500\n",
      "1688/1688 [==============================] - 31s 18ms/step - loss: 1.9566 - acc: 0.4865 - val_loss: 1.9077 - val_acc: 0.5208\n",
      "\n",
      "Epoch 00152: val_loss did not improve from 1.90385\n",
      "Epoch 153/500\n",
      "1688/1688 [==============================] - 31s 18ms/step - loss: 1.9617 - acc: 0.4833 - val_loss: 1.9149 - val_acc: 0.5134\n",
      "\n",
      "Epoch 00153: val_loss did not improve from 1.90385\n",
      "Epoch 154/500\n",
      "1688/1688 [==============================] - 31s 18ms/step - loss: 1.9544 - acc: 0.4866 - val_loss: 1.9151 - val_acc: 0.5127\n",
      "\n",
      "Epoch 00154: val_loss did not improve from 1.90385\n",
      "Epoch 155/500\n",
      "1688/1688 [==============================] - 30s 18ms/step - loss: 1.9553 - acc: 0.4875 - val_loss: 1.9330 - val_acc: 0.5034\n",
      "\n",
      "Epoch 00155: val_loss did not improve from 1.90385\n",
      "Epoch 156/500\n",
      "1688/1688 [==============================] - 30s 18ms/step - loss: 1.9591 - acc: 0.4865 - val_loss: 1.9063 - val_acc: 0.5124\n",
      "\n",
      "Epoch 00156: val_loss did not improve from 1.90385\n",
      "Epoch 157/500\n",
      "1688/1688 [==============================] - 30s 18ms/step - loss: 1.9521 - acc: 0.4876 - val_loss: 1.9252 - val_acc: 0.5144\n",
      "\n",
      "Epoch 00157: val_loss did not improve from 1.90385\n",
      "Epoch 158/500\n",
      "1688/1688 [==============================] - 30s 18ms/step - loss: 1.9529 - acc: 0.4878 - val_loss: 1.9187 - val_acc: 0.5205\n",
      "\n",
      "Epoch 00158: val_loss did not improve from 1.90385\n",
      "Epoch 159/500\n",
      "1688/1688 [==============================] - 30s 18ms/step - loss: 1.9565 - acc: 0.4854 - val_loss: 1.9258 - val_acc: 0.5089\n",
      "\n",
      "Epoch 00159: val_loss did not improve from 1.90385\n",
      "Epoch 160/500\n",
      "1688/1688 [==============================] - 31s 18ms/step - loss: 1.9550 - acc: 0.4869 - val_loss: 1.9160 - val_acc: 0.5166\n",
      "\n",
      "Epoch 00160: val_loss did not improve from 1.90385\n",
      "Epoch 161/500\n",
      "1688/1688 [==============================] - 30s 18ms/step - loss: 1.9611 - acc: 0.4840 - val_loss: 1.9253 - val_acc: 0.4992\n",
      "\n",
      "Epoch 00161: val_loss did not improve from 1.90385\n",
      "Epoch 162/500\n",
      "1688/1688 [==============================] - 31s 18ms/step - loss: 1.9576 - acc: 0.4848 - val_loss: 1.9401 - val_acc: 0.4996\n",
      "\n",
      "Epoch 00162: val_loss did not improve from 1.90385\n",
      "Epoch 163/500\n",
      "1688/1688 [==============================] - 31s 18ms/step - loss: 1.9604 - acc: 0.4834 - val_loss: 1.9594 - val_acc: 0.4915\n",
      "\n",
      "Epoch 00163: val_loss did not improve from 1.90385\n",
      "Epoch 164/500\n"
     ]
    },
    {
     "name": "stdout",
     "output_type": "stream",
     "text": [
      "1688/1688 [==============================] - 30s 18ms/step - loss: 1.9548 - acc: 0.4862 - val_loss: 1.9112 - val_acc: 0.5249\n",
      "\n",
      "Epoch 00164: val_loss did not improve from 1.90385\n",
      "Epoch 165/500\n",
      "1688/1688 [==============================] - 30s 18ms/step - loss: 1.9543 - acc: 0.4872 - val_loss: 1.9383 - val_acc: 0.5054\n",
      "\n",
      "Epoch 00165: val_loss did not improve from 1.90385\n",
      "Epoch 166/500\n",
      "1688/1688 [==============================] - 30s 18ms/step - loss: 1.9571 - acc: 0.4876 - val_loss: 1.9222 - val_acc: 0.5152\n",
      "\n",
      "Epoch 00166: val_loss did not improve from 1.90385\n",
      "Epoch 167/500\n",
      "1688/1688 [==============================] - 30s 18ms/step - loss: 1.9527 - acc: 0.4871 - val_loss: 1.9470 - val_acc: 0.5075\n",
      "\n",
      "Epoch 00167: val_loss did not improve from 1.90385\n",
      "Epoch 168/500\n",
      "1688/1688 [==============================] - 30s 18ms/step - loss: 1.9554 - acc: 0.4852 - val_loss: 1.9241 - val_acc: 0.5075\n",
      "\n",
      "Epoch 00168: val_loss did not improve from 1.90385\n",
      "Epoch 169/500\n",
      "1688/1688 [==============================] - 30s 18ms/step - loss: 1.9546 - acc: 0.4861 - val_loss: 1.9304 - val_acc: 0.5069\n",
      "\n",
      "Epoch 00169: val_loss did not improve from 1.90385\n",
      "Epoch 170/500\n",
      "1688/1688 [==============================] - 30s 18ms/step - loss: 1.9547 - acc: 0.4865 - val_loss: 1.9238 - val_acc: 0.5103\n",
      "\n",
      "Epoch 00170: val_loss did not improve from 1.90385\n",
      "Epoch 171/500\n",
      "1688/1688 [==============================] - 30s 18ms/step - loss: 1.9599 - acc: 0.4834 - val_loss: 1.9333 - val_acc: 0.5073\n",
      "\n",
      "Epoch 00171: val_loss did not improve from 1.90385\n",
      "Epoch 172/500\n",
      "1688/1688 [==============================] - 30s 18ms/step - loss: 1.9595 - acc: 0.4853 - val_loss: 1.9260 - val_acc: 0.5171\n",
      "\n",
      "Epoch 00172: val_loss did not improve from 1.90385\n",
      "Epoch 173/500\n",
      "1688/1688 [==============================] - 30s 18ms/step - loss: 1.9494 - acc: 0.4876 - val_loss: 1.9224 - val_acc: 0.5138\n",
      "\n",
      "Epoch 00173: val_loss did not improve from 1.90385\n",
      "Epoch 174/500\n",
      "1688/1688 [==============================] - 31s 18ms/step - loss: 1.9542 - acc: 0.4863 - val_loss: 1.9263 - val_acc: 0.5172\n",
      "\n",
      "Epoch 00174: val_loss did not improve from 1.90385\n",
      "Epoch 175/500\n",
      "1688/1688 [==============================] - 30s 18ms/step - loss: 1.9514 - acc: 0.4877 - val_loss: 1.9357 - val_acc: 0.5068\n",
      "\n",
      "Epoch 00175: val_loss did not improve from 1.90385\n",
      "Epoch 176/500\n",
      "1688/1688 [==============================] - 30s 18ms/step - loss: 1.9546 - acc: 0.4877 - val_loss: 1.9190 - val_acc: 0.5137\n",
      "\n",
      "Epoch 00176: val_loss did not improve from 1.90385\n",
      "Epoch 177/500\n",
      "1688/1688 [==============================] - 30s 18ms/step - loss: 1.9543 - acc: 0.4859 - val_loss: 1.9326 - val_acc: 0.4964\n",
      "\n",
      "Epoch 00177: val_loss did not improve from 1.90385\n",
      "Epoch 178/500\n",
      "1688/1688 [==============================] - 31s 18ms/step - loss: 1.9556 - acc: 0.4862 - val_loss: 1.9331 - val_acc: 0.5066\n",
      "\n",
      "Epoch 00178: val_loss did not improve from 1.90385\n",
      "Epoch 179/500\n",
      "1688/1688 [==============================] - 30s 18ms/step - loss: 1.9543 - acc: 0.4861 - val_loss: 1.9288 - val_acc: 0.5132\n",
      "\n",
      "Epoch 00179: val_loss did not improve from 1.90385\n",
      "Epoch 180/500\n",
      "1688/1688 [==============================] - 30s 18ms/step - loss: 1.9513 - acc: 0.4875 - val_loss: 1.9321 - val_acc: 0.5086\n",
      "\n",
      "Epoch 00180: val_loss did not improve from 1.90385\n",
      "Epoch 181/500\n",
      "1688/1688 [==============================] - 30s 18ms/step - loss: 1.9476 - acc: 0.4886 - val_loss: 1.9548 - val_acc: 0.5109\n",
      "\n",
      "Epoch 00181: val_loss did not improve from 1.90385\n",
      "Epoch 182/500\n",
      "1688/1688 [==============================] - 31s 18ms/step - loss: 1.9543 - acc: 0.4851 - val_loss: 1.9410 - val_acc: 0.5034\n",
      "\n",
      "Epoch 00182: val_loss did not improve from 1.90385\n",
      "Epoch 183/500\n",
      "1688/1688 [==============================] - 30s 18ms/step - loss: 1.9519 - acc: 0.4862 - val_loss: 1.9245 - val_acc: 0.5234\n",
      "\n",
      "Epoch 00183: val_loss did not improve from 1.90385\n",
      "Epoch 184/500\n",
      "1688/1688 [==============================] - 30s 18ms/step - loss: 1.9582 - acc: 0.4851 - val_loss: 1.9159 - val_acc: 0.5149\n",
      "\n",
      "Epoch 00184: val_loss did not improve from 1.90385\n",
      "Epoch 185/500\n",
      "1688/1688 [==============================] - 30s 18ms/step - loss: 1.9532 - acc: 0.4856 - val_loss: 1.9198 - val_acc: 0.5092\n",
      "\n",
      "Epoch 00185: val_loss did not improve from 1.90385\n",
      "Epoch 186/500\n",
      "1688/1688 [==============================] - 31s 18ms/step - loss: 1.9542 - acc: 0.4859 - val_loss: 1.9614 - val_acc: 0.5057\n",
      "\n",
      "Epoch 00186: val_loss did not improve from 1.90385\n",
      "Epoch 187/500\n",
      "1688/1688 [==============================] - 31s 18ms/step - loss: 1.9507 - acc: 0.4886 - val_loss: 1.9443 - val_acc: 0.5052\n",
      "\n",
      "Epoch 00187: val_loss did not improve from 1.90385\n",
      "Epoch 188/500\n",
      "1688/1688 [==============================] - 30s 18ms/step - loss: 1.9506 - acc: 0.4881 - val_loss: 1.9598 - val_acc: 0.4914\n",
      "\n",
      "Epoch 00188: val_loss did not improve from 1.90385\n",
      "Epoch 189/500\n",
      "1688/1688 [==============================] - 31s 18ms/step - loss: 1.9556 - acc: 0.4845 - val_loss: 1.9176 - val_acc: 0.5073\n",
      "\n",
      "Epoch 00189: val_loss did not improve from 1.90385\n",
      "Epoch 190/500\n",
      "1688/1688 [==============================] - 30s 18ms/step - loss: 1.9581 - acc: 0.4820 - val_loss: 1.9392 - val_acc: 0.5095\n",
      "\n",
      "Epoch 00190: val_loss did not improve from 1.90385\n",
      "Epoch 191/500\n",
      "1688/1688 [==============================] - 30s 18ms/step - loss: 1.9545 - acc: 0.4847 - val_loss: 1.9280 - val_acc: 0.5181\n",
      "\n",
      "Epoch 00191: val_loss did not improve from 1.90385\n",
      "Epoch 192/500\n",
      "1688/1688 [==============================] - 30s 18ms/step - loss: 1.9527 - acc: 0.4841 - val_loss: 1.9219 - val_acc: 0.5048\n",
      "\n",
      "Epoch 00192: val_loss did not improve from 1.90385\n",
      "Epoch 193/500\n",
      "1688/1688 [==============================] - 30s 18ms/step - loss: 1.9564 - acc: 0.4841 - val_loss: 1.9488 - val_acc: 0.5048\n",
      "\n",
      "Epoch 00193: val_loss did not improve from 1.90385\n",
      "Epoch 194/500\n",
      "1688/1688 [==============================] - 30s 18ms/step - loss: 1.9560 - acc: 0.4862 - val_loss: 1.9333 - val_acc: 0.5086\n",
      "\n",
      "Epoch 00194: val_loss did not improve from 1.90385\n",
      "\n",
      "Epoch 00194: ReduceLROnPlateau reducing learning rate to 0.00010000000474974513.\n",
      "Epoch 00194: early stopping\n",
      "train mrr: 0.62 | val mrr: 0.62\n"
     ]
    }
   ],
   "source": [
    "from keras.callbacks import Callback, EarlyStopping, ModelCheckpoint, ReduceLROnPlateau, TensorBoard\n",
    "from sklearn.model_selection import StratifiedKFold\n",
    "from datetime import datetime as dt\n",
    "from nn_model_simple import build_model\n",
    "from keras.utils import plot_model\n",
    "\n",
    "batch_size = 128\n",
    "n_epochs = 500\n",
    "\n",
    "skf = StratifiedKFold(n_splits=6)\n",
    "\n",
    "\n",
    "for trn_ind, val_ind in skf.split(targets, targets):\n",
    "    trn_numerics, val_numerics = numerics[trn_ind], numerics[val_ind]\n",
    "    trn_imp, val_imp = impressions[trn_ind], impressions[val_ind]\n",
    "    trn_price, val_price = prices[trn_ind], prices[val_ind]\n",
    "    trn_cfilter, val_cfilter = cfilters[trn_ind], cfilters[val_ind]\n",
    "    y_trn, y_val = targets[trn_ind], targets[val_ind]\n",
    "    \n",
    "    # create data generator numerics, impressions, prices, cfilters, targets, batchsize\n",
    "    # return [numerics_batch, impressions_batch, prices_batch[:, :, None], cfilters_batch]\n",
    "    train_gen = iterate_minibatches(trn_numerics, trn_imp, trn_price, trn_cfilter, y_trn, \n",
    "                                    batch_size, shuffle=True)\n",
    "    \n",
    "    val_gen = iterate_minibatches(val_numerics, val_imp, val_price, val_cfilter, y_val, \n",
    "                                  batch_size, shuffle=False)\n",
    "#     TEMP\n",
    "#     del impressions, prices, cities, platforms, devices\n",
    "#     gc.collect()\n",
    "    \n",
    "    # =====================================================================================\n",
    "    # create model\n",
    "    model = build_model(n_cfs, batch_size)\n",
    "    \n",
    "    # print out model info\n",
    "    nparams = model.count_params()\n",
    "    print((f'train len: {len(y_trn):,} | val len: {len(y_val):,} '\n",
    "           f'| numer of parameters: {nparams:,} | train_len/nparams={len(y_trn)/nparams:.5f}'))\n",
    "#     print(model.summary())\n",
    "#     plot_model(model, to_file='model.png')\n",
    "    # add some callbacks\n",
    "    callbacks = []\n",
    "    model_file = 'test.model'\n",
    "    callbacks = [ModelCheckpoint(model_file, save_best_only=True, verbose=1)]\n",
    "    log_dir = \"logs/{}\".format(dt.now().strftime('%m-%d-%H-%M'))\n",
    "    tb = TensorBoard(log_dir=log_dir, write_graph=True, write_grads=True)\n",
    "    callbacks.append(tb)\n",
    "    # simple early stopping\n",
    "    es = EarlyStopping(monitor='val_loss', mode='min', patience=100, verbose=1)\n",
    "    callbacks.append(es)\n",
    "    # rp\n",
    "    rp = ReduceLROnPlateau(monitor='val_loss', factor=0.1, patience=100, verbose=1)\n",
    "    callbacks.append(rp)\n",
    "    # add mrr callback\n",
    "#     callbacks.append(IntervalEvaluation())\n",
    "    \n",
    "    history = model.fit_generator(train_gen, \n",
    "                                  steps_per_epoch=len(y_trn)//batch_size, \n",
    "                                  epochs=n_epochs, \n",
    "                                  verbose=1,\n",
    "                                  callbacks=callbacks, \n",
    "                                  validation_data=val_gen, \n",
    "                                  validation_steps=len(y_val)//batch_size)\n",
    "\n",
    "    # make prediction\n",
    "#      [numerics_batch, impressions_batch, prices_batch[:, :, None], cfilters_batch]\n",
    "    trn_pred = model.predict(x=[trn_numerics, trn_imp, trn_price[:, :, None], trn_cfilter], batch_size=1024)\n",
    "    trn_pred_label = np.where(np.argsort(trn_pred)[:, ::-1] == y_trn.reshape(-1, 1))[1]\n",
    "    trn_mrr = np.mean(1/(trn_pred_label+1))\n",
    "\n",
    "    val_pred = model.predict(x=[val_numerics, val_imp, val_price[:, :, None], val_cfilter], batch_size=1024)\n",
    "    val_pred_label = np.where(np.argsort(val_pred)[:, ::-1] == y_val.reshape(-1, 1))[1]\n",
    "    val_mrr = np.mean(1/(val_pred_label+1))\n",
    "    print(f'train mrr: {trn_mrr:.2f} | val mrr: {val_mrr:.2f}')\n",
    "    \n",
    "    break"
   ]
  },
  {
   "cell_type": "code",
   "execution_count": 70,
   "metadata": {},
   "outputs": [
    {
     "data": {
      "image/png": "[encoded data removed]",
      "text/plain": [
       "<Figure size 432x288 with 1 Axes>"
      ]
     },
     "metadata": {
      "needs_background": "light"
     },
     "output_type": "display_data"
    }
   ],
   "source": [
    "_ = plt.hist(trn_pred_label, bins=50, label='train_pred', alpha=0.7)\n",
    "_ = plt.hist(y_trn, bins=50, label = 'train label', alpha=0.7)\n",
    "_ = plt.legend()"
   ]
  },
  {
   "cell_type": "code",
   "execution_count": 71,
   "metadata": {},
   "outputs": [
    {
     "data": {
      "image/png": "[encoded data removed]",
      "text/plain": [
       "<Figure size 432x288 with 1 Axes>"
      ]
     },
     "metadata": {
      "needs_background": "light"
     },
     "output_type": "display_data"
    }
   ],
   "source": [
    "_ = plt.hist(val_pred_label, bins=50, label='val_pred', alpha=0.7)\n",
    "_ = plt.hist(y_val, bins=50, label = 'val label', alpha=0.7)\n",
    "_ = plt.legend()"
   ]
  },
  {
   "cell_type": "code",
   "execution_count": 72,
   "metadata": {},
   "outputs": [],
   "source": [
    "# train mrr: 0.47 | val mrr: 0.45"
   ]
  },
  {
   "cell_type": "code",
   "execution_count": 73,
   "metadata": {},
   "outputs": [],
   "source": [
    "# add mrr at per epochs probably\n",
    "# look at no embeddings"
   ]
  },
  {
   "cell_type": "code",
   "execution_count": 74,
   "metadata": {},
   "outputs": [],
   "source": [
    "def confusion_matrix(y_pred, y_true, normalize='row', level=0, log_scale=False):\n",
    "    compare = pd.DataFrame({'prediction': y_pred, 'y_true': y_true})\n",
    "    counts = compare.groupby('y_true')['prediction'].value_counts()\n",
    "    mat = counts.unstack(level=0)\n",
    "    mat.fillna(0, inplace=True)\n",
    "    \n",
    "    if normalize == 'row':\n",
    "        row_sum = mat.sum(axis=1)\n",
    "        mat = mat.div(row_sum, axis=0)\n",
    "        log_scale = False\n",
    "    elif normalize == 'column':\n",
    "        col_sum = mat.sum(axis=0)\n",
    "        mat = mat.div(col_sum, axis=1)\n",
    "        log_scale = False\n",
    "    # plot\n",
    "    fig = plt.figure(figsize=(35,10))\n",
    "    ax = fig.add_subplot(111)\n",
    "    if log_scale:\n",
    "        cax = ax.matshow(np.log1p(mat), interpolation='nearest')#, cmap='coolwarm')#, aspect='auto')\n",
    "    else:\n",
    "        cax = ax.matshow(mat, interpolation='nearest')#, cmap='coolwarm')#, aspect='auto')\n",
    "    fig.colorbar(cax)\n",
    "    ax.set_xlabel(f'{mat.columns.name}')\n",
    "    ax.xaxis.set_label_position('top') \n",
    "    ax.set_ylabel(f'{mat.index.name}')\n",
    "    \n",
    "    ax.set_xticks(np.arange(mat.shape[1]))\n",
    "    ax.set_xticklabels(list(mat.columns.astype(str)), rotation=90)\n",
    "    ax.set_yticks(np.arange(mat.shape[0]))\n",
    "    _ = ax.set_yticklabels(list(mat.index.astype(str)))\n",
    "    return mat"
   ]
  },
  {
   "cell_type": "code",
   "execution_count": 75,
   "metadata": {},
   "outputs": [
    {
     "data": {
      "image/png": "[encoded data removed]",
      "text/plain": [
       "<Figure size 2520x720 with 2 Axes>"
      ]
     },
     "metadata": {
      "needs_background": "light"
     },
     "output_type": "display_data"
    }
   ],
   "source": [
    "mat = confusion_matrix(trn_pred_label, y_trn, normalize=False, level=0, log_scale=True)\n"
   ]
  },
  {
   "cell_type": "code",
   "execution_count": 76,
   "metadata": {},
   "outputs": [
    {
     "data": {
      "image/png": "[encoded data removed]",
      "text/plain": [
       "<Figure size 2520x720 with 2 Axes>"
      ]
     },
     "metadata": {
      "needs_background": "light"
     },
     "output_type": "display_data"
    }
   ],
   "source": [
    "mat = confusion_matrix(trn_pred_label, y_trn, normalize='row')\n"
   ]
  },
  {
   "cell_type": "code",
   "execution_count": 77,
   "metadata": {},
   "outputs": [
    {
     "data": {
      "image/png": "[encoded data removed]",
      "text/plain": [
       "<Figure size 2520x720 with 2 Axes>"
      ]
     },
     "metadata": {
      "needs_background": "light"
     },
     "output_type": "display_data"
    }
   ],
   "source": [
    "mat = confusion_matrix(trn_pred_label, y_trn, normalize='column')"
   ]
  },
  {
   "cell_type": "code",
   "execution_count": 78,
   "metadata": {},
   "outputs": [
    {
     "data": {
      "image/png": "[encoded data removed]",
      "text/plain": [
       "<Figure size 2520x720 with 2 Axes>"
      ]
     },
     "metadata": {
      "needs_background": "light"
     },
     "output_type": "display_data"
    }
   ],
   "source": [
    "mat = confusion_matrix(val_pred_label, y_val, level=0, normalize=None, log_scale=True)"
   ]
  },
  {
   "cell_type": "code",
   "execution_count": null,
   "metadata": {},
   "outputs": [],
   "source": []
  },
  {
   "cell_type": "code",
   "execution_count": null,
   "metadata": {},
   "outputs": [],
   "source": []
  }
 ],
 "metadata": {
  "kernelspec": {
   "display_name": "Python 3",
   "language": "python",
   "name": "python3"
  },
  "language_info": {
   "codemirror_mode": {
    "name": "ipython",
    "version": 3
   },
   "file_extension": ".py",
   "mimetype": "text/x-python",
   "name": "python",
   "nbconvert_exporter": "python",
   "pygments_lexer": "ipython3",
   "version": "3.6.8"
  }
 },
 "nbformat": 4,
 "nbformat_minor": 2
}
