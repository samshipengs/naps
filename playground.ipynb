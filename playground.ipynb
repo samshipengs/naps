{
 "cells": [
  {
   "cell_type": "code",
   "execution_count": 1,
   "metadata": {},
   "outputs": [],
   "source": [
    "from utils import load_data, check_gpu, check_dir\n",
    "from clean_session import preprocess_sessions\n",
    "import pandas as pd\n",
    "import numpy as np\n",
    "from tqdm import tqdm\n",
    "import gc\n",
    "import catboost as cat\n",
    "import matplotlib.pyplot as plt\n",
    "\n",
    "%matplotlib inline\n",
    "%load_ext autoreload\n",
    "%autoreload 2"
   ]
  },
  {
   "cell_type": "code",
   "execution_count": 2,
   "metadata": {},
   "outputs": [],
   "source": [
    "\n",
    "def plot_imp(data, fold_, plot_n=15):\n",
    "    check_dir('./imps')\n",
    "    imp = pd.DataFrame.from_records(data)\n",
    "    imp.to_csv(f'./imps/{fold_}.csv', index=False)\n",
    "    imp.columns = ['features', 'feature_importance']\n",
    "    imp_des = imp.sort_values(by='feature_importance', ascending=False)\n",
    "    imp_asc = imp.sort_values(by='feature_importance', ascending=True)\n",
    "\n",
    "    fig, axes = plt.subplots(figsize=(8, 8), nrows=2, ncols=1)\n",
    "    imp_des[:plot_n].plot(x='features', y='feature_importance', ax=axes[0], kind='barh', grid=True)\n",
    "    imp_asc[:plot_n].plot(x='features', y='feature_importance', ax=axes[1], kind='barh', grid=True)\n",
    "    plt.tight_layout()\n",
    "    fig.savefig('./imps/{}.png'.format(fold_))"
   ]
  },
  {
   "cell_type": "code",
   "execution_count": 3,
   "metadata": {},
   "outputs": [],
   "source": [
    "train = load_data('train')#, nrows=10000)"
   ]
  },
  {
   "cell_type": "code",
   "execution_count": 51,
   "metadata": {},
   "outputs": [],
   "source": [
    "sub = load_data('submission_popular')"
   ]
  },
  {
   "cell_type": "code",
   "execution_count": 52,
   "metadata": {},
   "outputs": [
    {
     "data": {
      "text/html": [
       "<div>\n",
       "<style scoped>\n",
       "    .dataframe tbody tr th:only-of-type {\n",
       "        vertical-align: middle;\n",
       "    }\n",
       "\n",
       "    .dataframe tbody tr th {\n",
       "        vertical-align: top;\n",
       "    }\n",
       "\n",
       "    .dataframe thead th {\n",
       "        text-align: right;\n",
       "    }\n",
       "</style>\n",
       "<table border=\"1\" class=\"dataframe\">\n",
       "  <thead>\n",
       "    <tr style=\"text-align: right;\">\n",
       "      <th></th>\n",
       "      <th>user_id</th>\n",
       "      <th>session_id</th>\n",
       "      <th>timestamp</th>\n",
       "      <th>step</th>\n",
       "      <th>item_recommendations</th>\n",
       "    </tr>\n",
       "  </thead>\n",
       "  <tbody>\n",
       "    <tr>\n",
       "      <th>0</th>\n",
       "      <td>000324D9BBUC</td>\n",
       "      <td>89643988fdbfb</td>\n",
       "      <td>1541593942</td>\n",
       "      <td>10</td>\n",
       "      <td>924795 106315 1033140 119494 101758 903037 105...</td>\n",
       "    </tr>\n",
       "    <tr>\n",
       "      <th>1</th>\n",
       "      <td>0004Q49X39PY</td>\n",
       "      <td>9de47d9a66494</td>\n",
       "      <td>1541641157</td>\n",
       "      <td>1</td>\n",
       "      <td>3505150 3812004 2227896 2292254 3184842 222702...</td>\n",
       "    </tr>\n",
       "    <tr>\n",
       "      <th>2</th>\n",
       "      <td>0004Q49X39PY</td>\n",
       "      <td>beea5c27030cb</td>\n",
       "      <td>1541561202</td>\n",
       "      <td>1</td>\n",
       "      <td>4476010 3505150 3812004 2227896 2292254 222702...</td>\n",
       "    </tr>\n",
       "    <tr>\n",
       "      <th>3</th>\n",
       "      <td>00071784XQ6B</td>\n",
       "      <td>9617600e1ba7c</td>\n",
       "      <td>1541630328</td>\n",
       "      <td>2</td>\n",
       "      <td>22854 3067559 22721 22713 16121 22772 22727 22...</td>\n",
       "    </tr>\n",
       "    <tr>\n",
       "      <th>4</th>\n",
       "      <td>0008BO33KUQ0</td>\n",
       "      <td>2d0e2102ee0dc</td>\n",
       "      <td>1541636411</td>\n",
       "      <td>6</td>\n",
       "      <td>9857656 5849628 655716 1352530 502066 1405084 ...</td>\n",
       "    </tr>\n",
       "  </tbody>\n",
       "</table>\n",
       "</div>"
      ],
      "text/plain": [
       "        user_id     session_id   timestamp  step  \\\n",
       "0  000324D9BBUC  89643988fdbfb  1541593942    10   \n",
       "1  0004Q49X39PY  9de47d9a66494  1541641157     1   \n",
       "2  0004Q49X39PY  beea5c27030cb  1541561202     1   \n",
       "3  00071784XQ6B  9617600e1ba7c  1541630328     2   \n",
       "4  0008BO33KUQ0  2d0e2102ee0dc  1541636411     6   \n",
       "\n",
       "                                item_recommendations  \n",
       "0  924795 106315 1033140 119494 101758 903037 105...  \n",
       "1  3505150 3812004 2227896 2292254 3184842 222702...  \n",
       "2  4476010 3505150 3812004 2227896 2292254 222702...  \n",
       "3  22854 3067559 22721 22713 16121 22772 22727 22...  \n",
       "4  9857656 5849628 655716 1352530 502066 1405084 ...  "
      ]
     },
     "execution_count": 52,
     "metadata": {},
     "output_type": "execute_result"
    }
   ],
   "source": [
    "sub.head()"
   ]
  },
  {
   "cell_type": "code",
   "execution_count": 53,
   "metadata": {},
   "outputs": [
    {
     "data": {
      "text/plain": [
       "(253573, 5)"
      ]
     },
     "execution_count": 53,
     "metadata": {},
     "output_type": "execute_result"
    }
   ],
   "source": [
    "sub.shape"
   ]
  },
  {
   "cell_type": "code",
   "execution_count": 58,
   "metadata": {},
   "outputs": [],
   "source": [
    "test = load_data('test')#, nrows=10000)"
   ]
  },
  {
   "cell_type": "code",
   "execution_count": 54,
   "metadata": {},
   "outputs": [],
   "source": [
    "test = test[test.session_id.isin(sub.session_id.unique())].reset_index()"
   ]
  },
  {
   "cell_type": "code",
   "execution_count": 55,
   "metadata": {},
   "outputs": [
    {
     "data": {
      "text/plain": [
       "(1613617, 13)"
      ]
     },
     "execution_count": 55,
     "metadata": {},
     "output_type": "execute_result"
    }
   ],
   "source": [
    "test.shape"
   ]
  },
  {
   "cell_type": "code",
   "execution_count": 59,
   "metadata": {},
   "outputs": [
    {
     "name": "stdout",
     "output_type": "stream",
     "text": [
      "CPU times: user 2 µs, sys: 1e+03 ns, total: 3 µs\n",
      "Wall time: 6.2 µs\n"
     ]
    }
   ],
   "source": [
    "%time\n",
    "duplicated_mask = test[[c for c in test.columns if c != 'step']].duplicated(keep='last')\n",
    "test = test[~duplicated_mask].reset_index(drop=True)"
   ]
  },
  {
   "cell_type": "code",
   "execution_count": 60,
   "metadata": {},
   "outputs": [
    {
     "data": {
      "text/plain": [
       "(1795391, 12)"
      ]
     },
     "execution_count": 60,
     "metadata": {},
     "output_type": "execute_result"
    }
   ],
   "source": [
    "test.shape"
   ]
  },
  {
   "cell_type": "markdown",
   "metadata": {},
   "source": [
    "notes: raw test: original shape = (3782335, 12) after drop dups (1795391, 12) |\n",
    "| sub shape: (253573, 5) | test in sub shape: (1613617, 13) after drop it's (1613617, 13)\n"
   ]
  },
  {
   "cell_type": "code",
   "execution_count": 31,
   "metadata": {},
   "outputs": [
    {
     "data": {
      "text/plain": [
       "1.0"
      ]
     },
     "execution_count": 31,
     "metadata": {},
     "output_type": "execute_result"
    }
   ],
   "source": [
    "3424793/3424793"
   ]
  },
  {
   "cell_type": "code",
   "execution_count": 4,
   "metadata": {},
   "outputs": [
    {
     "name": "stdout",
     "output_type": "stream",
     "text": [
      "CPU times: user 2 µs, sys: 1e+03 ns, total: 3 µs\n",
      "Wall time: 5.96 µs\n"
     ]
    }
   ],
   "source": [
    "%time\n",
    "# find duplciates except steps\n",
    "train.sort_values(by=['user_id', 'session_id', 'timestamp', 'step'], \n",
    "                  ascending=[True, True, True, True], \n",
    "                  inplace=True)"
   ]
  },
  {
   "cell_type": "code",
   "execution_count": 5,
   "metadata": {},
   "outputs": [
    {
     "data": {
      "text/plain": [
       "(15932992, 12)"
      ]
     },
     "execution_count": 5,
     "metadata": {},
     "output_type": "execute_result"
    }
   ],
   "source": [
    "train.shape"
   ]
  },
  {
   "cell_type": "code",
   "execution_count": 6,
   "metadata": {},
   "outputs": [
    {
     "name": "stdout",
     "output_type": "stream",
     "text": [
      "CPU times: user 2 µs, sys: 1 µs, total: 3 µs\n",
      "Wall time: 5.01 µs\n"
     ]
    }
   ],
   "source": [
    "%time\n",
    "duplicated_mask = train[[c for c in train.columns if c != 'step']].duplicated(keep='last')\n",
    "train = train[~duplicated_mask].reset_index(drop=True)"
   ]
  },
  {
   "cell_type": "code",
   "execution_count": 7,
   "metadata": {},
   "outputs": [
    {
     "data": {
      "text/plain": [
       "(6683369, 12)"
      ]
     },
     "execution_count": 7,
     "metadata": {},
     "output_type": "execute_result"
    }
   ],
   "source": [
    "train.shape"
   ]
  },
  {
   "cell_type": "code",
   "execution_count": 8,
   "metadata": {},
   "outputs": [
    {
     "name": "stdout",
     "output_type": "stream",
     "text": [
      "[>>>>>] Cliping session dataframe up to last click out (if there is clickout)\n",
      "[>>>>>][te=6.92 mins] filtering out sessions without clickouts, reference, or clickout is nan\n",
      "train length before filtering: 5,764,987\n",
      "train length after filtering: 5,200,153\n"
     ]
    }
   ],
   "source": [
    "train = preprocess_sessions(train, data_source='train')"
   ]
  },
  {
   "cell_type": "code",
   "execution_count": 9,
   "metadata": {},
   "outputs": [
    {
     "data": {
      "text/plain": [
       "77"
      ]
     },
     "execution_count": 9,
     "metadata": {},
     "output_type": "execute_result"
    }
   ],
   "source": [
    "# only take the last row\n",
    "train = train.groupby('session_id').last().reset_index()\n",
    "del train['action_type'], train['step']\n",
    "gc.collect()"
   ]
  },
  {
   "cell_type": "code",
   "execution_count": 10,
   "metadata": {},
   "outputs": [
    {
     "data": {
      "text/html": [
       "<div>\n",
       "<style scoped>\n",
       "    .dataframe tbody tr th:only-of-type {\n",
       "        vertical-align: middle;\n",
       "    }\n",
       "\n",
       "    .dataframe tbody tr th {\n",
       "        vertical-align: top;\n",
       "    }\n",
       "\n",
       "    .dataframe thead th {\n",
       "        text-align: right;\n",
       "    }\n",
       "</style>\n",
       "<table border=\"1\" class=\"dataframe\">\n",
       "  <thead>\n",
       "    <tr style=\"text-align: right;\">\n",
       "      <th></th>\n",
       "      <th>session_id</th>\n",
       "      <th>user_id</th>\n",
       "      <th>timestamp</th>\n",
       "      <th>reference</th>\n",
       "      <th>platform</th>\n",
       "      <th>city</th>\n",
       "      <th>device</th>\n",
       "      <th>current_filters</th>\n",
       "      <th>impressions</th>\n",
       "      <th>prices</th>\n",
       "    </tr>\n",
       "  </thead>\n",
       "  <tbody>\n",
       "    <tr>\n",
       "      <th>0</th>\n",
       "      <td>00000510f1adc</td>\n",
       "      <td>WT30CXPIG450</td>\n",
       "      <td>1541064087</td>\n",
       "      <td>7281198</td>\n",
       "      <td>IN</td>\n",
       "      <td>Ganpatipule, India</td>\n",
       "      <td>desktop</td>\n",
       "      <td>NaN</td>\n",
       "      <td>2661832|9222426|7051844|4079190|5752778|468398...</td>\n",
       "      <td>46|26|16|38|12|20|21|27|13|21|36|9|144|19|8|19...</td>\n",
       "    </tr>\n",
       "    <tr>\n",
       "      <th>1</th>\n",
       "      <td>00003f3b20954</td>\n",
       "      <td>CITFOTN2IT5P</td>\n",
       "      <td>1541097696</td>\n",
       "      <td>979325</td>\n",
       "      <td>ES</td>\n",
       "      <td>La Manga, Spain</td>\n",
       "      <td>mobile</td>\n",
       "      <td>NaN</td>\n",
       "      <td>87132|886881|486611|979325|87173|87175|149508|...</td>\n",
       "      <td>330|187|437|159|499|324|476|381|424|159|144|19...</td>\n",
       "    </tr>\n",
       "    <tr>\n",
       "      <th>2</th>\n",
       "      <td>000056cd97ce2</td>\n",
       "      <td>0TBXPQCK401O</td>\n",
       "      <td>1541484101</td>\n",
       "      <td>3811810</td>\n",
       "      <td>MY</td>\n",
       "      <td>Port Dickson, Malaysia</td>\n",
       "      <td>desktop</td>\n",
       "      <td>NaN</td>\n",
       "      <td>3811810|496141|674016|1153426|1339848|8400372|...</td>\n",
       "      <td>187|78|100|51|150|81|44|36|53|104|93|48|38|52|...</td>\n",
       "    </tr>\n",
       "    <tr>\n",
       "      <th>3</th>\n",
       "      <td>000066611146f</td>\n",
       "      <td>XRIOQ0R1CHLT</td>\n",
       "      <td>1541332330</td>\n",
       "      <td>5479306</td>\n",
       "      <td>BE</td>\n",
       "      <td>Obaköy, Turkey</td>\n",
       "      <td>desktop</td>\n",
       "      <td>Hotel|Resort</td>\n",
       "      <td>5479306|97126|2195126|4163966|8415348|7829686|...</td>\n",
       "      <td>96|81|87|122|50|21|90|177|81|144|122|44|66|121...</td>\n",
       "    </tr>\n",
       "    <tr>\n",
       "      <th>4</th>\n",
       "      <td>0000be39860d7</td>\n",
       "      <td>X931R6LTG2RE</td>\n",
       "      <td>1541104090</td>\n",
       "      <td>79237</td>\n",
       "      <td>US</td>\n",
       "      <td>Chattanooga, USA</td>\n",
       "      <td>desktop</td>\n",
       "      <td>NaN</td>\n",
       "      <td>1221442|3485396|3396928|2870208|2626700|315318...</td>\n",
       "      <td>171|218|132|209|202|60|123|145|154|174|218|48|...</td>\n",
       "    </tr>\n",
       "  </tbody>\n",
       "</table>\n",
       "</div>"
      ],
      "text/plain": [
       "      session_id       user_id   timestamp reference platform  \\\n",
       "0  00000510f1adc  WT30CXPIG450  1541064087   7281198       IN   \n",
       "1  00003f3b20954  CITFOTN2IT5P  1541097696    979325       ES   \n",
       "2  000056cd97ce2  0TBXPQCK401O  1541484101   3811810       MY   \n",
       "3  000066611146f  XRIOQ0R1CHLT  1541332330   5479306       BE   \n",
       "4  0000be39860d7  X931R6LTG2RE  1541104090     79237       US   \n",
       "\n",
       "                     city   device current_filters  \\\n",
       "0      Ganpatipule, India  desktop             NaN   \n",
       "1         La Manga, Spain   mobile             NaN   \n",
       "2  Port Dickson, Malaysia  desktop             NaN   \n",
       "3          Obaköy, Turkey  desktop    Hotel|Resort   \n",
       "4        Chattanooga, USA  desktop             NaN   \n",
       "\n",
       "                                         impressions  \\\n",
       "0  2661832|9222426|7051844|4079190|5752778|468398...   \n",
       "1  87132|886881|486611|979325|87173|87175|149508|...   \n",
       "2  3811810|496141|674016|1153426|1339848|8400372|...   \n",
       "3  5479306|97126|2195126|4163966|8415348|7829686|...   \n",
       "4  1221442|3485396|3396928|2870208|2626700|315318...   \n",
       "\n",
       "                                              prices  \n",
       "0  46|26|16|38|12|20|21|27|13|21|36|9|144|19|8|19...  \n",
       "1  330|187|437|159|499|324|476|381|424|159|144|19...  \n",
       "2  187|78|100|51|150|81|44|36|53|104|93|48|38|52|...  \n",
       "3  96|81|87|122|50|21|90|177|81|144|122|44|66|121...  \n",
       "4  171|218|132|209|202|60|123|145|154|174|218|48|...  "
      ]
     },
     "execution_count": 10,
     "metadata": {},
     "output_type": "execute_result"
    }
   ],
   "source": [
    "train.head()"
   ]
  },
  {
   "cell_type": "code",
   "execution_count": 11,
   "metadata": {},
   "outputs": [
    {
     "data": {
      "text/plain": [
       "(826842, 10)"
      ]
     },
     "execution_count": 11,
     "metadata": {},
     "output_type": "execute_result"
    }
   ],
   "source": [
    "train.shape"
   ]
  },
  {
   "cell_type": "code",
   "execution_count": 12,
   "metadata": {},
   "outputs": [
    {
     "name": "stdout",
     "output_type": "stream",
     "text": [
      "converting city\n",
      "converting platform\n",
      "converting device\n"
     ]
    }
   ],
   "source": [
    "# encode city, platform and device\n",
    "def categorize(df, cols):\n",
    "    for col in cols:\n",
    "        print('converting', col)\n",
    "        unique_values = df[col].unique()\n",
    "        mapping = {v: k for k, v in enumerate(unique_values)}\n",
    "        df[col] = df[col].map(mapping)\n",
    "categorize(train, ['city', 'platform', 'device'])"
   ]
  },
  {
   "cell_type": "code",
   "execution_count": 13,
   "metadata": {},
   "outputs": [],
   "source": [
    "# all item id and reference\n",
    "reference_ids = list(train.reference.unique())\n",
    "train['nimp'] = train.impressions.str.split('|').str.len()\n",
    "# pad -1 to impressions length less than 25\n",
    "train.loc[train.nimp<25, 'impressions'] = train.loc[train.nimp<25].apply(lambda x: f\"{x.impressions}|{'|'.join([str(-1) for _ in range(25-x.nimp)])}\",\n",
    "                                                                        axis=1)\n",
    "train['impression_list'] = train.impressions.str.split('|')\n",
    "train['nimp'] = train.impressions.str.split('|').str.len()\n",
    "\n",
    "imp_lists = train.impression_list.values\n",
    "impression_ids = list(set([j for i in imp_lists for j in i]))\n",
    "\n",
    "item_ids = list(set(reference_ids + impression_ids))\n",
    "item_id_mapping = {v: k for k, v in enumerate(item_ids)}\n"
   ]
  },
  {
   "cell_type": "code",
   "execution_count": 14,
   "metadata": {},
   "outputs": [
    {
     "name": "stdout",
     "output_type": "stream",
     "text": [
      "CPU times: user 2 µs, sys: 1 µs, total: 3 µs\n",
      "Wall time: 5.96 µs\n"
     ]
    }
   ],
   "source": [
    "%time\n",
    "# map it\n",
    "train['reference'] = train.reference.map(item_id_mapping)\n",
    "train['impression_list'] = train.impression_list.apply(lambda imp_list: [item_id_mapping[i] for i in imp_list] )"
   ]
  },
  {
   "cell_type": "code",
   "execution_count": 15,
   "metadata": {},
   "outputs": [
    {
     "data": {
      "text/html": [
       "<div>\n",
       "<style scoped>\n",
       "    .dataframe tbody tr th:only-of-type {\n",
       "        vertical-align: middle;\n",
       "    }\n",
       "\n",
       "    .dataframe tbody tr th {\n",
       "        vertical-align: top;\n",
       "    }\n",
       "\n",
       "    .dataframe thead th {\n",
       "        text-align: right;\n",
       "    }\n",
       "</style>\n",
       "<table border=\"1\" class=\"dataframe\">\n",
       "  <thead>\n",
       "    <tr style=\"text-align: right;\">\n",
       "      <th></th>\n",
       "      <th>session_id</th>\n",
       "      <th>user_id</th>\n",
       "      <th>timestamp</th>\n",
       "      <th>reference</th>\n",
       "      <th>platform</th>\n",
       "      <th>city</th>\n",
       "      <th>device</th>\n",
       "      <th>current_filters</th>\n",
       "      <th>impressions</th>\n",
       "      <th>prices</th>\n",
       "      <th>nimp</th>\n",
       "      <th>impression_list</th>\n",
       "    </tr>\n",
       "  </thead>\n",
       "  <tbody>\n",
       "    <tr>\n",
       "      <th>0</th>\n",
       "      <td>00000510f1adc</td>\n",
       "      <td>WT30CXPIG450</td>\n",
       "      <td>1541064087</td>\n",
       "      <td>65784</td>\n",
       "      <td>0</td>\n",
       "      <td>0</td>\n",
       "      <td>0</td>\n",
       "      <td>NaN</td>\n",
       "      <td>2661832|9222426|7051844|4079190|5752778|468398...</td>\n",
       "      <td>46|26|16|38|12|20|21|27|13|21|36|9|144|19|8|19...</td>\n",
       "      <td>25</td>\n",
       "      <td>[230851, 577837, 354263, 116114, 737749, 34676...</td>\n",
       "    </tr>\n",
       "    <tr>\n",
       "      <th>1</th>\n",
       "      <td>00003f3b20954</td>\n",
       "      <td>CITFOTN2IT5P</td>\n",
       "      <td>1541097696</td>\n",
       "      <td>409961</td>\n",
       "      <td>1</td>\n",
       "      <td>1</td>\n",
       "      <td>1</td>\n",
       "      <td>NaN</td>\n",
       "      <td>87132|886881|486611|979325|87173|87175|149508|...</td>\n",
       "      <td>330|187|437|159|499|324|476|381|424|159|144|19...</td>\n",
       "      <td>25</td>\n",
       "      <td>[508873, 195895, 767452, 409961, 246230, 34846...</td>\n",
       "    </tr>\n",
       "    <tr>\n",
       "      <th>2</th>\n",
       "      <td>000056cd97ce2</td>\n",
       "      <td>0TBXPQCK401O</td>\n",
       "      <td>1541484101</td>\n",
       "      <td>129061</td>\n",
       "      <td>2</td>\n",
       "      <td>2</td>\n",
       "      <td>0</td>\n",
       "      <td>NaN</td>\n",
       "      <td>3811810|496141|674016|1153426|1339848|8400372|...</td>\n",
       "      <td>187|78|100|51|150|81|44|36|53|104|93|48|38|52|...</td>\n",
       "      <td>25</td>\n",
       "      <td>[129061, 720609, 525631, 272581, 23183, 223092...</td>\n",
       "    </tr>\n",
       "    <tr>\n",
       "      <th>3</th>\n",
       "      <td>000066611146f</td>\n",
       "      <td>XRIOQ0R1CHLT</td>\n",
       "      <td>1541332330</td>\n",
       "      <td>76750</td>\n",
       "      <td>3</td>\n",
       "      <td>3</td>\n",
       "      <td>0</td>\n",
       "      <td>Hotel|Resort</td>\n",
       "      <td>5479306|97126|2195126|4163966|8415348|7829686|...</td>\n",
       "      <td>96|81|87|122|50|21|90|177|81|144|122|44|66|121...</td>\n",
       "      <td>25</td>\n",
       "      <td>[76750, 758455, 300388, 258778, 702154, 58870,...</td>\n",
       "    </tr>\n",
       "    <tr>\n",
       "      <th>4</th>\n",
       "      <td>0000be39860d7</td>\n",
       "      <td>X931R6LTG2RE</td>\n",
       "      <td>1541104090</td>\n",
       "      <td>521957</td>\n",
       "      <td>4</td>\n",
       "      <td>4</td>\n",
       "      <td>0</td>\n",
       "      <td>NaN</td>\n",
       "      <td>1221442|3485396|3396928|2870208|2626700|315318...</td>\n",
       "      <td>171|218|132|209|202|60|123|145|154|174|218|48|...</td>\n",
       "      <td>25</td>\n",
       "      <td>[192840, 257898, 97964, 10645, 208845, 199100,...</td>\n",
       "    </tr>\n",
       "  </tbody>\n",
       "</table>\n",
       "</div>"
      ],
      "text/plain": [
       "      session_id       user_id   timestamp  reference  platform  city  device  \\\n",
       "0  00000510f1adc  WT30CXPIG450  1541064087      65784         0     0       0   \n",
       "1  00003f3b20954  CITFOTN2IT5P  1541097696     409961         1     1       1   \n",
       "2  000056cd97ce2  0TBXPQCK401O  1541484101     129061         2     2       0   \n",
       "3  000066611146f  XRIOQ0R1CHLT  1541332330      76750         3     3       0   \n",
       "4  0000be39860d7  X931R6LTG2RE  1541104090     521957         4     4       0   \n",
       "\n",
       "  current_filters                                        impressions  \\\n",
       "0             NaN  2661832|9222426|7051844|4079190|5752778|468398...   \n",
       "1             NaN  87132|886881|486611|979325|87173|87175|149508|...   \n",
       "2             NaN  3811810|496141|674016|1153426|1339848|8400372|...   \n",
       "3    Hotel|Resort  5479306|97126|2195126|4163966|8415348|7829686|...   \n",
       "4             NaN  1221442|3485396|3396928|2870208|2626700|315318...   \n",
       "\n",
       "                                              prices  nimp  \\\n",
       "0  46|26|16|38|12|20|21|27|13|21|36|9|144|19|8|19...    25   \n",
       "1  330|187|437|159|499|324|476|381|424|159|144|19...    25   \n",
       "2  187|78|100|51|150|81|44|36|53|104|93|48|38|52|...    25   \n",
       "3  96|81|87|122|50|21|90|177|81|144|122|44|66|121...    25   \n",
       "4  171|218|132|209|202|60|123|145|154|174|218|48|...    25   \n",
       "\n",
       "                                     impression_list  \n",
       "0  [230851, 577837, 354263, 116114, 737749, 34676...  \n",
       "1  [508873, 195895, 767452, 409961, 246230, 34846...  \n",
       "2  [129061, 720609, 525631, 272581, 23183, 223092...  \n",
       "3  [76750, 758455, 300388, 258778, 702154, 58870,...  \n",
       "4  [192840, 257898, 97964, 10645, 208845, 199100,...  "
      ]
     },
     "execution_count": 15,
     "metadata": {},
     "output_type": "execute_result"
    }
   ],
   "source": [
    "train.head()"
   ]
  },
  {
   "cell_type": "code",
   "execution_count": 16,
   "metadata": {},
   "outputs": [],
   "source": [
    "def get_index(x):\n",
    "    if x.reference in x.impression_list:\n",
    "        return x.impression_list.index(x.reference)\n",
    "    else:\n",
    "        return 25\n",
    "train['target'] = train.apply(get_index, axis=1)"
   ]
  },
  {
   "cell_type": "code",
   "execution_count": 17,
   "metadata": {},
   "outputs": [],
   "source": [
    "train = pd.concat([train, pd.DataFrame(train.impression_list.to_list(), columns=[f'loc{i}' for i in range(25)])], axis=1)\n",
    "del train['impression_list'], train['impressions']"
   ]
  },
  {
   "cell_type": "code",
   "execution_count": 18,
   "metadata": {},
   "outputs": [],
   "source": [
    "drop_cols = ['user_id', 'reference', 'current_filters', 'nimp', 'prices']\n",
    "train.drop(drop_cols, axis=1, inplace=True)"
   ]
  },
  {
   "cell_type": "code",
   "execution_count": 19,
   "metadata": {},
   "outputs": [
    {
     "data": {
      "text/html": [
       "<div>\n",
       "<style scoped>\n",
       "    .dataframe tbody tr th:only-of-type {\n",
       "        vertical-align: middle;\n",
       "    }\n",
       "\n",
       "    .dataframe tbody tr th {\n",
       "        vertical-align: top;\n",
       "    }\n",
       "\n",
       "    .dataframe thead th {\n",
       "        text-align: right;\n",
       "    }\n",
       "</style>\n",
       "<table border=\"1\" class=\"dataframe\">\n",
       "  <thead>\n",
       "    <tr style=\"text-align: right;\">\n",
       "      <th></th>\n",
       "      <th>session_id</th>\n",
       "      <th>timestamp</th>\n",
       "      <th>platform</th>\n",
       "      <th>city</th>\n",
       "      <th>device</th>\n",
       "      <th>target</th>\n",
       "      <th>loc0</th>\n",
       "      <th>loc1</th>\n",
       "      <th>loc2</th>\n",
       "      <th>loc3</th>\n",
       "      <th>...</th>\n",
       "      <th>loc15</th>\n",
       "      <th>loc16</th>\n",
       "      <th>loc17</th>\n",
       "      <th>loc18</th>\n",
       "      <th>loc19</th>\n",
       "      <th>loc20</th>\n",
       "      <th>loc21</th>\n",
       "      <th>loc22</th>\n",
       "      <th>loc23</th>\n",
       "      <th>loc24</th>\n",
       "    </tr>\n",
       "  </thead>\n",
       "  <tbody>\n",
       "    <tr>\n",
       "      <th>0</th>\n",
       "      <td>00000510f1adc</td>\n",
       "      <td>1541064087</td>\n",
       "      <td>0</td>\n",
       "      <td>0</td>\n",
       "      <td>0</td>\n",
       "      <td>6</td>\n",
       "      <td>230851</td>\n",
       "      <td>577837</td>\n",
       "      <td>354263</td>\n",
       "      <td>116114</td>\n",
       "      <td>...</td>\n",
       "      <td>767989</td>\n",
       "      <td>293496</td>\n",
       "      <td>75489</td>\n",
       "      <td>283467</td>\n",
       "      <td>258794</td>\n",
       "      <td>152444</td>\n",
       "      <td>460390</td>\n",
       "      <td>784621</td>\n",
       "      <td>346735</td>\n",
       "      <td>600896</td>\n",
       "    </tr>\n",
       "    <tr>\n",
       "      <th>1</th>\n",
       "      <td>00003f3b20954</td>\n",
       "      <td>1541097696</td>\n",
       "      <td>1</td>\n",
       "      <td>1</td>\n",
       "      <td>1</td>\n",
       "      <td>3</td>\n",
       "      <td>508873</td>\n",
       "      <td>195895</td>\n",
       "      <td>767452</td>\n",
       "      <td>409961</td>\n",
       "      <td>...</td>\n",
       "      <td>667444</td>\n",
       "      <td>538758</td>\n",
       "      <td>198779</td>\n",
       "      <td>276203</td>\n",
       "      <td>461979</td>\n",
       "      <td>517860</td>\n",
       "      <td>67511</td>\n",
       "      <td>490102</td>\n",
       "      <td>316143</td>\n",
       "      <td>69213</td>\n",
       "    </tr>\n",
       "    <tr>\n",
       "      <th>2</th>\n",
       "      <td>000056cd97ce2</td>\n",
       "      <td>1541484101</td>\n",
       "      <td>2</td>\n",
       "      <td>2</td>\n",
       "      <td>0</td>\n",
       "      <td>0</td>\n",
       "      <td>129061</td>\n",
       "      <td>720609</td>\n",
       "      <td>525631</td>\n",
       "      <td>272581</td>\n",
       "      <td>...</td>\n",
       "      <td>537305</td>\n",
       "      <td>468663</td>\n",
       "      <td>259126</td>\n",
       "      <td>627054</td>\n",
       "      <td>162275</td>\n",
       "      <td>246478</td>\n",
       "      <td>248536</td>\n",
       "      <td>552162</td>\n",
       "      <td>259799</td>\n",
       "      <td>726311</td>\n",
       "    </tr>\n",
       "    <tr>\n",
       "      <th>3</th>\n",
       "      <td>000066611146f</td>\n",
       "      <td>1541332330</td>\n",
       "      <td>3</td>\n",
       "      <td>3</td>\n",
       "      <td>0</td>\n",
       "      <td>0</td>\n",
       "      <td>76750</td>\n",
       "      <td>758455</td>\n",
       "      <td>300388</td>\n",
       "      <td>258778</td>\n",
       "      <td>...</td>\n",
       "      <td>766471</td>\n",
       "      <td>341141</td>\n",
       "      <td>464033</td>\n",
       "      <td>220518</td>\n",
       "      <td>97897</td>\n",
       "      <td>664110</td>\n",
       "      <td>387991</td>\n",
       "      <td>329605</td>\n",
       "      <td>33961</td>\n",
       "      <td>306921</td>\n",
       "    </tr>\n",
       "    <tr>\n",
       "      <th>4</th>\n",
       "      <td>0000be39860d7</td>\n",
       "      <td>1541104090</td>\n",
       "      <td>4</td>\n",
       "      <td>4</td>\n",
       "      <td>0</td>\n",
       "      <td>19</td>\n",
       "      <td>192840</td>\n",
       "      <td>257898</td>\n",
       "      <td>97964</td>\n",
       "      <td>10645</td>\n",
       "      <td>...</td>\n",
       "      <td>401788</td>\n",
       "      <td>617082</td>\n",
       "      <td>183158</td>\n",
       "      <td>492387</td>\n",
       "      <td>521957</td>\n",
       "      <td>102948</td>\n",
       "      <td>464461</td>\n",
       "      <td>485634</td>\n",
       "      <td>710140</td>\n",
       "      <td>396897</td>\n",
       "    </tr>\n",
       "  </tbody>\n",
       "</table>\n",
       "<p>5 rows × 31 columns</p>\n",
       "</div>"
      ],
      "text/plain": [
       "      session_id   timestamp  platform  city  device  target    loc0    loc1  \\\n",
       "0  00000510f1adc  1541064087         0     0       0       6  230851  577837   \n",
       "1  00003f3b20954  1541097696         1     1       1       3  508873  195895   \n",
       "2  000056cd97ce2  1541484101         2     2       0       0  129061  720609   \n",
       "3  000066611146f  1541332330         3     3       0       0   76750  758455   \n",
       "4  0000be39860d7  1541104090         4     4       0      19  192840  257898   \n",
       "\n",
       "     loc2    loc3  ...   loc15   loc16   loc17   loc18   loc19   loc20  \\\n",
       "0  354263  116114  ...  767989  293496   75489  283467  258794  152444   \n",
       "1  767452  409961  ...  667444  538758  198779  276203  461979  517860   \n",
       "2  525631  272581  ...  537305  468663  259126  627054  162275  246478   \n",
       "3  300388  258778  ...  766471  341141  464033  220518   97897  664110   \n",
       "4   97964   10645  ...  401788  617082  183158  492387  521957  102948   \n",
       "\n",
       "    loc21   loc22   loc23   loc24  \n",
       "0  460390  784621  346735  600896  \n",
       "1   67511  490102  316143   69213  \n",
       "2  248536  552162  259799  726311  \n",
       "3  387991  329605   33961  306921  \n",
       "4  464461  485634  710140  396897  \n",
       "\n",
       "[5 rows x 31 columns]"
      ]
     },
     "execution_count": 19,
     "metadata": {},
     "output_type": "execute_result"
    }
   ],
   "source": [
    "train.head()"
   ]
  },
  {
   "cell_type": "code",
   "execution_count": 20,
   "metadata": {},
   "outputs": [],
   "source": [
    "# take the last 10% timestamp\n",
    "train.sort_values(by=['timestamp'], inplace=True)\n",
    "train.reset_index(drop=True, inplace=True)"
   ]
  },
  {
   "cell_type": "code",
   "execution_count": 21,
   "metadata": {},
   "outputs": [],
   "source": [
    "# split_per = 0.1\n",
    "from sklearn.model_selection import StratifiedKFold\n",
    "skf = StratifiedKFold(n_splits=2)\n",
    "\n",
    "sids = train.session_id.values\n",
    "target = train.target.values\n",
    "del train['target'], train['timestamp'], train['session_id']\n"
   ]
  },
  {
   "cell_type": "code",
   "execution_count": 22,
   "metadata": {},
   "outputs": [],
   "source": [
    "device = 'GPU' if check_gpu() else 'CPU'\n",
    "params = {'iterations': 1000,\n",
    "          'learning_rate': 0.02,\n",
    "          'depth': 8,\n",
    "          'task_type': device,\n",
    "          'loss_function': 'MultiClass',\n",
    "          'eval_metric': 'Accuracy'}"
   ]
  },
  {
   "cell_type": "code",
   "execution_count": 23,
   "metadata": {},
   "outputs": [
    {
     "name": "stdout",
     "output_type": "stream",
     "text": [
      "0:\tlearn: 0.3779731\ttest: 0.3779585\tbest: 0.3779585 (0)\ttotal: 19s\tremaining: 5h 16m 40s\n",
      "100:\tlearn: 0.3779731\ttest: 0.3779585\tbest: 0.3779585 (0)\ttotal: 2h 36m 6s\tremaining: 23h 9m 27s\n",
      "Stopped by overfitting detector  (100 iterations wait)\n",
      "\n",
      "bestTest = 0.3779584886\n",
      "bestIteration = 0\n",
      "\n",
      "Shrink model to first 1 iterations.\n",
      "Done!\n",
      "Grab feature importance for both train and val\n"
     ]
    },
    {
     "ename": "NameError",
     "evalue": "name 'check_dir' is not defined",
     "output_type": "error",
     "traceback": [
      "\u001b[0;31m---------------------------------------------------------------------------\u001b[0m",
      "\u001b[0;31mNameError\u001b[0m                                 Traceback (most recent call last)",
      "\u001b[0;32m<ipython-input-23-4dbae30e7751>\u001b[0m in \u001b[0;36m<module>\u001b[0;34m\u001b[0m\n\u001b[1;32m     23\u001b[0m     val_imp = clf.get_feature_importance(data=cat.Pool(data=x_val, cat_features=categorical_ind),\n\u001b[1;32m     24\u001b[0m                                          prettified=True)\n\u001b[0;32m---> 25\u001b[0;31m     \u001b[0mplot_imp\u001b[0m\u001b[0;34m(\u001b[0m\u001b[0mtrn_imp\u001b[0m\u001b[0;34m,\u001b[0m \u001b[0;34m'train'\u001b[0m\u001b[0;34m)\u001b[0m\u001b[0;34m\u001b[0m\u001b[0;34m\u001b[0m\u001b[0m\n\u001b[0m\u001b[1;32m     26\u001b[0m     \u001b[0mplot_imp\u001b[0m\u001b[0;34m(\u001b[0m\u001b[0mval_imp\u001b[0m\u001b[0;34m,\u001b[0m \u001b[0;34m'val'\u001b[0m\u001b[0;34m)\u001b[0m\u001b[0;34m\u001b[0m\u001b[0;34m\u001b[0m\u001b[0m\n\u001b[1;32m     27\u001b[0m     \u001b[0mprint\u001b[0m\u001b[0;34m(\u001b[0m\u001b[0;34m'Done feature imp'\u001b[0m\u001b[0;34m)\u001b[0m\u001b[0;34m\u001b[0m\u001b[0;34m\u001b[0m\u001b[0m\n",
      "\u001b[0;32m<ipython-input-2-184e85497cfa>\u001b[0m in \u001b[0;36mplot_imp\u001b[0;34m(data, fold_, plot_n)\u001b[0m\n\u001b[1;32m      1\u001b[0m \u001b[0;34m\u001b[0m\u001b[0m\n\u001b[1;32m      2\u001b[0m \u001b[0;32mdef\u001b[0m \u001b[0mplot_imp\u001b[0m\u001b[0;34m(\u001b[0m\u001b[0mdata\u001b[0m\u001b[0;34m,\u001b[0m \u001b[0mfold_\u001b[0m\u001b[0;34m,\u001b[0m \u001b[0mplot_n\u001b[0m\u001b[0;34m=\u001b[0m\u001b[0;36m15\u001b[0m\u001b[0;34m)\u001b[0m\u001b[0;34m:\u001b[0m\u001b[0;34m\u001b[0m\u001b[0;34m\u001b[0m\u001b[0m\n\u001b[0;32m----> 3\u001b[0;31m     \u001b[0mcheck_dir\u001b[0m\u001b[0;34m(\u001b[0m\u001b[0;34m'./imps'\u001b[0m\u001b[0;34m)\u001b[0m\u001b[0;34m\u001b[0m\u001b[0;34m\u001b[0m\u001b[0m\n\u001b[0m\u001b[1;32m      4\u001b[0m     \u001b[0mimp\u001b[0m \u001b[0;34m=\u001b[0m \u001b[0mpd\u001b[0m\u001b[0;34m.\u001b[0m\u001b[0mDataFrame\u001b[0m\u001b[0;34m.\u001b[0m\u001b[0mfrom_records\u001b[0m\u001b[0;34m(\u001b[0m\u001b[0mdata\u001b[0m\u001b[0;34m)\u001b[0m\u001b[0;34m\u001b[0m\u001b[0;34m\u001b[0m\u001b[0m\n\u001b[1;32m      5\u001b[0m     \u001b[0mimp\u001b[0m\u001b[0;34m.\u001b[0m\u001b[0mto_csv\u001b[0m\u001b[0;34m(\u001b[0m\u001b[0;34mf'./imps/{fold_}.csv'\u001b[0m\u001b[0;34m,\u001b[0m \u001b[0mindex\u001b[0m\u001b[0;34m=\u001b[0m\u001b[0;32mFalse\u001b[0m\u001b[0;34m)\u001b[0m\u001b[0;34m\u001b[0m\u001b[0;34m\u001b[0m\u001b[0m\n",
      "\u001b[0;31mNameError\u001b[0m: name 'check_dir' is not defined"
     ]
    }
   ],
   "source": [
    "cat_fts = [f'loc{i}' for i in range(25)]\n",
    "cat_fts += ['platform', 'city', 'device']\n",
    "\n",
    "categorical_ind = [k for k, v in enumerate(train.columns) if v in cat_fts]\n",
    "\n",
    "for trn_ind, val_ind in skf.split(target, target):\n",
    "    x_trn, x_val = train.iloc[trn_ind].values, train.iloc[val_ind].values\n",
    "    y_trn, y_val = target[trn_ind], target[val_ind]\n",
    "    \n",
    "    # train model\n",
    "    clf = cat.CatBoostClassifier(**params)\n",
    "    clf.fit(x_trn, y_trn,\n",
    "            cat_features=categorical_ind,\n",
    "            eval_set=(x_val, y_val),\n",
    "            early_stopping_rounds=100,\n",
    "            verbose=100,\n",
    "            plot=False)\n",
    "    print('Done!')\n",
    "    print('Grab feature importance for both train and val')\n",
    "    # get feature importance\n",
    "    trn_imp = clf.get_feature_importance(data=cat.Pool(data=x_trn, cat_features=categorical_ind),\n",
    "                                         prettified=True)\n",
    "    val_imp = clf.get_feature_importance(data=cat.Pool(data=x_val, cat_features=categorical_ind),\n",
    "                                         prettified=True)\n",
    "    plot_imp(trn_imp, 'train')\n",
    "    plot_imp(val_imp, 'val')\n",
    "    print('Done feature imp')\n",
    "\n",
    "#     # make prediction on validation set\n",
    "#     val_pred = clf.predict_proba(xval.values)[:, 1]\n",
    "#     logloss_i = log_loss(y_val, val_pred)\n",
    "#     # compute roc auc\n",
    "#     fpr, tpr, thresholds = roc_curve(y_val, val_pred, pos_label=1)\n",
    "#     auc_i = auc(fpr, tpr)\n",
    "#     # compute map\n",
    "#     map_i = average_precision_score(y_val, val_pred)\n",
    "#     print('logloss={0:.4f} | map={1:.4f} | auc={2:.4f}'.format(logloss_i, map_i, auc_i))\n",
    "\n",
    "#     # mrr\n",
    "#     print('reciproical rank for validation set')\n",
    "#     xval['pred'] = val_pred\n",
    "#     xval['target'] = y_val\n",
    "#     val_rr = xval.groupby(level=0).apply(reciprocal_rank)\n",
    "#     mrr = (1/val_rr[val_rr != 0]).mean()\n",
    "#     print(f'Mean reciporical rank on validation set: {mrr:.4f}')\n"
   ]
  },
  {
   "cell_type": "code",
   "execution_count": null,
   "metadata": {},
   "outputs": [],
   "source": []
  }
 ],
 "metadata": {
  "kernelspec": {
   "display_name": "Python 3",
   "language": "python",
   "name": "python3"
  },
  "language_info": {
   "codemirror_mode": {
    "name": "ipython",
    "version": 3
   },
   "file_extension": ".py",
   "mimetype": "text/x-python",
   "name": "python",
   "nbconvert_exporter": "python",
   "pygments_lexer": "ipython3",
   "version": "3.6.8"
  }
 },
 "nbformat": 4,
 "nbformat_minor": 2
}
