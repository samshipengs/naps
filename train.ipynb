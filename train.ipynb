{
 "cells": [
  {
   "cell_type": "code",
   "execution_count": 1,
   "metadata": {},
   "outputs": [],
   "source": [
    "import multiprocessing as mp\n",
    "import time\n",
    "import os\n",
    "import gc\n",
    "\n",
    "import pandas as pd\n",
    "import numpy as np\n",
    "from tqdm import tqdm\n",
    "from sklearn.metrics import log_loss, auc, roc_curve, f1_score, average_precision_score, mean_squared_error\n",
    "from sklearn.model_selection import StratifiedKFold\n",
    "import catboost as cat\n",
    "\n",
    "from reduce_memory import reduce_numeric_mem_usage, reduce_object_mem_usage\n",
    "\n",
    "%matplotlib inline\n",
    "%load_ext autoreload\n",
    "%autoreload 2"
   ]
  },
  {
   "cell_type": "code",
   "execution_count": null,
   "metadata": {},
   "outputs": [],
   "source": []
  },
  {
   "cell_type": "code",
   "execution_count": 2,
   "metadata": {},
   "outputs": [
    {
     "name": "stdout",
     "output_type": "stream",
     "text": [
      "catboost_info\t\t\t\t\t\t   session_fts.csv\r\n",
      "cat_feature_index.4e8a1a48-f9a4c943-ce42059a-58e90a3d.tmp  test-Copy1.ipynb\r\n",
      "data\t\t\t\t\t\t\t   test.ipynb\r\n",
      "data_exploring.ipynb\t\t\t\t\t   train.ipynb\r\n",
      "__pycache__\t\t\t\t\t\t   Untitled.ipynb\r\n",
      "reduce_memory.py\r\n"
     ]
    }
   ],
   "source": [
    "!ls"
   ]
  },
  {
   "cell_type": "code",
   "execution_count": 3,
   "metadata": {},
   "outputs": [],
   "source": [
    "xtrain = pd.read_hdf('./data/train.h5', 'xtrain')"
   ]
  },
  {
   "cell_type": "code",
   "execution_count": 4,
   "metadata": {},
   "outputs": [],
   "source": [
    "xval = pd.read_hdf('./data/train.h5', 'xval')"
   ]
  },
  {
   "cell_type": "code",
   "execution_count": 5,
   "metadata": {},
   "outputs": [
    {
     "name": "stdout",
     "output_type": "stream",
     "text": [
      "total 83M\r\n",
      "-rw-rw-r-- 1 sam sam 4.5K Mar 15 20:06 reduce_memory.py\r\n",
      "-rw-rw-r-- 1 sam sam  76M Mar 16 13:53 session_fts.csv\r\n",
      "-rw-rw-r-- 1 sam sam  21K Mar 26 22:53 test-Copy1.ipynb\r\n",
      "drwxrwxr-x 2 sam sam 4.0K Mar 28 23:14 data\r\n",
      "-rw-rw-r-- 1 sam sam  75K Mar 28 23:30 test.ipynb\r\n",
      "-rw-rw-r-- 1 sam sam  74K Mar 28 23:30 data_exploring.ipynb\r\n",
      "drwxrwxr-x 2 sam sam 4.0K Mar 28 23:31 __pycache__\r\n",
      "drwxrwxr-x 4 sam sam 4.0K Mar 28 23:47 catboost_info\r\n",
      "-rw-rw-r-- 1 sam sam  40K Mar 29 09:14 Untitled.ipynb\r\n",
      "-rw-rw-r-- 1 sam sam 5.9M Mar 29 12:00 cat_feature_index.4e8a1a48-f9a4c943-ce42059a-58e90a3d.tmp\r\n",
      "-rw-rw-r-- 1 sam sam 7.4K Mar 29 12:08 train.ipynb\r\n"
     ]
    }
   ],
   "source": [
    "!ls -lthr"
   ]
  },
  {
   "cell_type": "code",
   "execution_count": 6,
   "metadata": {},
   "outputs": [
    {
     "data": {
      "text/html": [
       "<div>\n",
       "<style scoped>\n",
       "    .dataframe tbody tr th:only-of-type {\n",
       "        vertical-align: middle;\n",
       "    }\n",
       "\n",
       "    .dataframe tbody tr th {\n",
       "        vertical-align: top;\n",
       "    }\n",
       "\n",
       "    .dataframe thead th {\n",
       "        text-align: right;\n",
       "    }\n",
       "</style>\n",
       "<table border=\"1\" class=\"dataframe\">\n",
       "  <thead>\n",
       "    <tr style=\"text-align: right;\">\n",
       "      <th></th>\n",
       "      <th>item_id</th>\n",
       "      <th>appeared</th>\n",
       "      <th>location</th>\n",
       "      <th>price</th>\n",
       "      <th>rel_price_rank</th>\n",
       "      <th>price_mean</th>\n",
       "      <th>price_median</th>\n",
       "      <th>diff_mean</th>\n",
       "      <th>diff_median</th>\n",
       "      <th>diff_mean_rel</th>\n",
       "      <th>...</th>\n",
       "      <th>action_type_click_rel_pos_avg</th>\n",
       "      <th>city_nunique</th>\n",
       "      <th>city_get_first</th>\n",
       "      <th>platform_get_first</th>\n",
       "      <th>device_get_first</th>\n",
       "      <th>nfilters_mean</th>\n",
       "      <th>nfilters_max</th>\n",
       "      <th>nfilters_min</th>\n",
       "      <th>nfilters_get_last</th>\n",
       "      <th>nimps_max</th>\n",
       "    </tr>\n",
       "  </thead>\n",
       "  <tbody>\n",
       "    <tr>\n",
       "      <th>00000510f1adc</th>\n",
       "      <td>2661832</td>\n",
       "      <td>0</td>\n",
       "      <td>0</td>\n",
       "      <td>46</td>\n",
       "      <td>0.60</td>\n",
       "      <td>27.32</td>\n",
       "      <td>20.0</td>\n",
       "      <td>18.68</td>\n",
       "      <td>26.0</td>\n",
       "      <td>0.406087</td>\n",
       "      <td>...</td>\n",
       "      <td>NaN</td>\n",
       "      <td>NaN</td>\n",
       "      <td>NaN</td>\n",
       "      <td>NaN</td>\n",
       "      <td>NaN</td>\n",
       "      <td>NaN</td>\n",
       "      <td>NaN</td>\n",
       "      <td>NaN</td>\n",
       "      <td>NaN</td>\n",
       "      <td>NaN</td>\n",
       "    </tr>\n",
       "    <tr>\n",
       "      <th>00000510f1adc</th>\n",
       "      <td>9222426</td>\n",
       "      <td>0</td>\n",
       "      <td>1</td>\n",
       "      <td>26</td>\n",
       "      <td>0.76</td>\n",
       "      <td>27.32</td>\n",
       "      <td>20.0</td>\n",
       "      <td>-1.32</td>\n",
       "      <td>6.0</td>\n",
       "      <td>-0.050769</td>\n",
       "      <td>...</td>\n",
       "      <td>NaN</td>\n",
       "      <td>NaN</td>\n",
       "      <td>NaN</td>\n",
       "      <td>NaN</td>\n",
       "      <td>NaN</td>\n",
       "      <td>NaN</td>\n",
       "      <td>NaN</td>\n",
       "      <td>NaN</td>\n",
       "      <td>NaN</td>\n",
       "      <td>NaN</td>\n",
       "    </tr>\n",
       "    <tr>\n",
       "      <th>00000510f1adc</th>\n",
       "      <td>7051844</td>\n",
       "      <td>0</td>\n",
       "      <td>2</td>\n",
       "      <td>16</td>\n",
       "      <td>0.48</td>\n",
       "      <td>27.32</td>\n",
       "      <td>20.0</td>\n",
       "      <td>-11.32</td>\n",
       "      <td>-4.0</td>\n",
       "      <td>-0.707500</td>\n",
       "      <td>...</td>\n",
       "      <td>NaN</td>\n",
       "      <td>NaN</td>\n",
       "      <td>NaN</td>\n",
       "      <td>NaN</td>\n",
       "      <td>NaN</td>\n",
       "      <td>NaN</td>\n",
       "      <td>NaN</td>\n",
       "      <td>NaN</td>\n",
       "      <td>NaN</td>\n",
       "      <td>NaN</td>\n",
       "    </tr>\n",
       "    <tr>\n",
       "      <th>00000510f1adc</th>\n",
       "      <td>4079190</td>\n",
       "      <td>0</td>\n",
       "      <td>3</td>\n",
       "      <td>38</td>\n",
       "      <td>0.20</td>\n",
       "      <td>27.32</td>\n",
       "      <td>20.0</td>\n",
       "      <td>10.68</td>\n",
       "      <td>18.0</td>\n",
       "      <td>0.281053</td>\n",
       "      <td>...</td>\n",
       "      <td>NaN</td>\n",
       "      <td>NaN</td>\n",
       "      <td>NaN</td>\n",
       "      <td>NaN</td>\n",
       "      <td>NaN</td>\n",
       "      <td>NaN</td>\n",
       "      <td>NaN</td>\n",
       "      <td>NaN</td>\n",
       "      <td>NaN</td>\n",
       "      <td>NaN</td>\n",
       "    </tr>\n",
       "    <tr>\n",
       "      <th>00000510f1adc</th>\n",
       "      <td>5752778</td>\n",
       "      <td>0</td>\n",
       "      <td>4</td>\n",
       "      <td>12</td>\n",
       "      <td>0.36</td>\n",
       "      <td>27.32</td>\n",
       "      <td>20.0</td>\n",
       "      <td>-15.32</td>\n",
       "      <td>-8.0</td>\n",
       "      <td>-1.276667</td>\n",
       "      <td>...</td>\n",
       "      <td>NaN</td>\n",
       "      <td>NaN</td>\n",
       "      <td>NaN</td>\n",
       "      <td>NaN</td>\n",
       "      <td>NaN</td>\n",
       "      <td>NaN</td>\n",
       "      <td>NaN</td>\n",
       "      <td>NaN</td>\n",
       "      <td>NaN</td>\n",
       "      <td>NaN</td>\n",
       "    </tr>\n",
       "  </tbody>\n",
       "</table>\n",
       "<p>5 rows × 40 columns</p>\n",
       "</div>"
      ],
      "text/plain": [
       "               item_id  appeared  location  price  rel_price_rank  price_mean  \\\n",
       "00000510f1adc  2661832         0         0     46            0.60       27.32   \n",
       "00000510f1adc  9222426         0         1     26            0.76       27.32   \n",
       "00000510f1adc  7051844         0         2     16            0.48       27.32   \n",
       "00000510f1adc  4079190         0         3     38            0.20       27.32   \n",
       "00000510f1adc  5752778         0         4     12            0.36       27.32   \n",
       "\n",
       "               price_median  diff_mean  diff_median  diff_mean_rel  ...  \\\n",
       "00000510f1adc          20.0      18.68         26.0       0.406087  ...   \n",
       "00000510f1adc          20.0      -1.32          6.0      -0.050769  ...   \n",
       "00000510f1adc          20.0     -11.32         -4.0      -0.707500  ...   \n",
       "00000510f1adc          20.0      10.68         18.0       0.281053  ...   \n",
       "00000510f1adc          20.0     -15.32         -8.0      -1.276667  ...   \n",
       "\n",
       "               action_type_click_rel_pos_avg  city_nunique  city_get_first  \\\n",
       "00000510f1adc                            NaN           NaN             NaN   \n",
       "00000510f1adc                            NaN           NaN             NaN   \n",
       "00000510f1adc                            NaN           NaN             NaN   \n",
       "00000510f1adc                            NaN           NaN             NaN   \n",
       "00000510f1adc                            NaN           NaN             NaN   \n",
       "\n",
       "               platform_get_first  device_get_first  nfilters_mean  \\\n",
       "00000510f1adc                 NaN               NaN            NaN   \n",
       "00000510f1adc                 NaN               NaN            NaN   \n",
       "00000510f1adc                 NaN               NaN            NaN   \n",
       "00000510f1adc                 NaN               NaN            NaN   \n",
       "00000510f1adc                 NaN               NaN            NaN   \n",
       "\n",
       "               nfilters_max  nfilters_min  nfilters_get_last  nimps_max  \n",
       "00000510f1adc           NaN           NaN                NaN        NaN  \n",
       "00000510f1adc           NaN           NaN                NaN        NaN  \n",
       "00000510f1adc           NaN           NaN                NaN        NaN  \n",
       "00000510f1adc           NaN           NaN                NaN        NaN  \n",
       "00000510f1adc           NaN           NaN                NaN        NaN  \n",
       "\n",
       "[5 rows x 40 columns]"
      ]
     },
     "execution_count": 6,
     "metadata": {},
     "output_type": "execute_result"
    }
   ],
   "source": [
    "xtrain.head()"
   ]
  },
  {
   "cell_type": "code",
   "execution_count": 7,
   "metadata": {},
   "outputs": [
    {
     "data": {
      "text/plain": [
       "Index(['item_id', 'appeared', 'location', 'price', 'rel_price_rank',\n",
       "       'price_mean', 'price_median', 'diff_mean', 'diff_median',\n",
       "       'diff_mean_rel', 'diff_median_rel', 'nprop', 'n_clicks', 'star',\n",
       "       'good_rating', 'satisfactory_rating', 'excellent_rating', 'p_mean',\n",
       "       'star_mean', 'gr_mean', 'sr_mean', 'er_mean', 'target', 'session_id',\n",
       "       'timestamp_ptp', 'timestamp_mean_dwell_time',\n",
       "       'timestamp_var_dwell_time', 'step_max', 'action_type_nunique',\n",
       "       'action_type_n_clickouts', 'action_type_click_rel_pos_avg',\n",
       "       'city_nunique', 'city_get_first', 'platform_get_first',\n",
       "       'device_get_first', 'nfilters_mean', 'nfilters_max', 'nfilters_min',\n",
       "       'nfilters_get_last', 'nimps_max'],\n",
       "      dtype='object')"
      ]
     },
     "execution_count": 7,
     "metadata": {},
     "output_type": "execute_result"
    }
   ],
   "source": [
    "xtrain.columns"
   ]
  },
  {
   "cell_type": "code",
   "execution_count": 8,
   "metadata": {},
   "outputs": [
    {
     "data": {
      "text/plain": [
       "Index(['session_id', 'city_get_first', 'platform_get_first',\n",
       "       'device_get_first'],\n",
       "      dtype='object')"
      ]
     },
     "execution_count": 8,
     "metadata": {},
     "output_type": "execute_result"
    }
   ],
   "source": [
    "xtrain.columns[xtrain.dtypes=='O']"
   ]
  },
  {
   "cell_type": "code",
   "execution_count": 9,
   "metadata": {},
   "outputs": [
    {
     "name": "stdout",
     "output_type": "stream",
     "text": [
      "city_get_first\n",
      "platform_get_first\n",
      "device_get_first\n",
      "item_id\n",
      "location\n"
     ]
    }
   ],
   "source": [
    "cat_fts = ['city_get_first', 'platform_get_first', 'device_get_first', 'item_id', 'location']\n",
    "# convert to categorical\n",
    "for c in cat_fts:\n",
    "    print(c)\n",
    "#     maps = np.concatenate([xtrain[c].unique(), xval[c].unique()])\n",
    "    maps = xtrain[c].unique()\n",
    "    mapper = dict(zip(maps, np.arange(len(maps), dtype=int)))\n",
    "    xtrain[c] = xtrain[c].map(mapper)\n",
    "    xval[c] = xval[c].map(mapper)\n"
   ]
  },
  {
   "cell_type": "code",
   "execution_count": 10,
   "metadata": {},
   "outputs": [
    {
     "name": "stdout",
     "output_type": "stream",
     "text": [
      "Memory usage before optimization is: 6104.31 MB\n",
      "Memory usage after optimization is: 3745.16 MB\n",
      "Decreased by 38.6%\n"
     ]
    }
   ],
   "source": [
    "reduce_numeric_mem_usage(xtrain)"
   ]
  },
  {
   "cell_type": "code",
   "execution_count": 11,
   "metadata": {},
   "outputs": [],
   "source": [
    "y_trn = xtrain['target']\n",
    "y_val = xval['target']\n",
    "del xtrain['target'], xval['target']"
   ]
  },
  {
   "cell_type": "code",
   "execution_count": 12,
   "metadata": {},
   "outputs": [
    {
     "data": {
      "text/html": [
       "<div>\n",
       "<style scoped>\n",
       "    .dataframe tbody tr th:only-of-type {\n",
       "        vertical-align: middle;\n",
       "    }\n",
       "\n",
       "    .dataframe tbody tr th {\n",
       "        vertical-align: top;\n",
       "    }\n",
       "\n",
       "    .dataframe thead th {\n",
       "        text-align: right;\n",
       "    }\n",
       "</style>\n",
       "<table border=\"1\" class=\"dataframe\">\n",
       "  <thead>\n",
       "    <tr style=\"text-align: right;\">\n",
       "      <th></th>\n",
       "      <th>item_id</th>\n",
       "      <th>appeared</th>\n",
       "      <th>location</th>\n",
       "      <th>price</th>\n",
       "      <th>rel_price_rank</th>\n",
       "      <th>price_mean</th>\n",
       "      <th>price_median</th>\n",
       "      <th>diff_mean</th>\n",
       "      <th>diff_median</th>\n",
       "      <th>diff_mean_rel</th>\n",
       "      <th>...</th>\n",
       "      <th>action_type_click_rel_pos_avg</th>\n",
       "      <th>city_nunique</th>\n",
       "      <th>city_get_first</th>\n",
       "      <th>platform_get_first</th>\n",
       "      <th>device_get_first</th>\n",
       "      <th>nfilters_mean</th>\n",
       "      <th>nfilters_max</th>\n",
       "      <th>nfilters_min</th>\n",
       "      <th>nfilters_get_last</th>\n",
       "      <th>nimps_max</th>\n",
       "    </tr>\n",
       "  </thead>\n",
       "  <tbody>\n",
       "    <tr>\n",
       "      <th>00000510f1adc</th>\n",
       "      <td>0</td>\n",
       "      <td>0</td>\n",
       "      <td>0</td>\n",
       "      <td>46</td>\n",
       "      <td>0.600098</td>\n",
       "      <td>27.3125</td>\n",
       "      <td>20.0</td>\n",
       "      <td>18.687500</td>\n",
       "      <td>26.0</td>\n",
       "      <td>0.406006</td>\n",
       "      <td>...</td>\n",
       "      <td>NaN</td>\n",
       "      <td>NaN</td>\n",
       "      <td>0</td>\n",
       "      <td>0</td>\n",
       "      <td>0</td>\n",
       "      <td>NaN</td>\n",
       "      <td>NaN</td>\n",
       "      <td>NaN</td>\n",
       "      <td>NaN</td>\n",
       "      <td>NaN</td>\n",
       "    </tr>\n",
       "    <tr>\n",
       "      <th>00000510f1adc</th>\n",
       "      <td>1</td>\n",
       "      <td>0</td>\n",
       "      <td>1</td>\n",
       "      <td>26</td>\n",
       "      <td>0.759766</td>\n",
       "      <td>27.3125</td>\n",
       "      <td>20.0</td>\n",
       "      <td>-1.320312</td>\n",
       "      <td>6.0</td>\n",
       "      <td>-0.050781</td>\n",
       "      <td>...</td>\n",
       "      <td>NaN</td>\n",
       "      <td>NaN</td>\n",
       "      <td>0</td>\n",
       "      <td>0</td>\n",
       "      <td>0</td>\n",
       "      <td>NaN</td>\n",
       "      <td>NaN</td>\n",
       "      <td>NaN</td>\n",
       "      <td>NaN</td>\n",
       "      <td>NaN</td>\n",
       "    </tr>\n",
       "    <tr>\n",
       "      <th>00000510f1adc</th>\n",
       "      <td>2</td>\n",
       "      <td>0</td>\n",
       "      <td>2</td>\n",
       "      <td>16</td>\n",
       "      <td>0.479980</td>\n",
       "      <td>27.3125</td>\n",
       "      <td>20.0</td>\n",
       "      <td>-11.320312</td>\n",
       "      <td>-4.0</td>\n",
       "      <td>-0.707520</td>\n",
       "      <td>...</td>\n",
       "      <td>NaN</td>\n",
       "      <td>NaN</td>\n",
       "      <td>0</td>\n",
       "      <td>0</td>\n",
       "      <td>0</td>\n",
       "      <td>NaN</td>\n",
       "      <td>NaN</td>\n",
       "      <td>NaN</td>\n",
       "      <td>NaN</td>\n",
       "      <td>NaN</td>\n",
       "    </tr>\n",
       "    <tr>\n",
       "      <th>00000510f1adc</th>\n",
       "      <td>3</td>\n",
       "      <td>0</td>\n",
       "      <td>3</td>\n",
       "      <td>38</td>\n",
       "      <td>0.199951</td>\n",
       "      <td>27.3125</td>\n",
       "      <td>20.0</td>\n",
       "      <td>10.679688</td>\n",
       "      <td>18.0</td>\n",
       "      <td>0.281006</td>\n",
       "      <td>...</td>\n",
       "      <td>NaN</td>\n",
       "      <td>NaN</td>\n",
       "      <td>0</td>\n",
       "      <td>0</td>\n",
       "      <td>0</td>\n",
       "      <td>NaN</td>\n",
       "      <td>NaN</td>\n",
       "      <td>NaN</td>\n",
       "      <td>NaN</td>\n",
       "      <td>NaN</td>\n",
       "    </tr>\n",
       "    <tr>\n",
       "      <th>00000510f1adc</th>\n",
       "      <td>4</td>\n",
       "      <td>0</td>\n",
       "      <td>4</td>\n",
       "      <td>12</td>\n",
       "      <td>0.360107</td>\n",
       "      <td>27.3125</td>\n",
       "      <td>20.0</td>\n",
       "      <td>-15.320312</td>\n",
       "      <td>-8.0</td>\n",
       "      <td>-1.276367</td>\n",
       "      <td>...</td>\n",
       "      <td>NaN</td>\n",
       "      <td>NaN</td>\n",
       "      <td>0</td>\n",
       "      <td>0</td>\n",
       "      <td>0</td>\n",
       "      <td>NaN</td>\n",
       "      <td>NaN</td>\n",
       "      <td>NaN</td>\n",
       "      <td>NaN</td>\n",
       "      <td>NaN</td>\n",
       "    </tr>\n",
       "  </tbody>\n",
       "</table>\n",
       "<p>5 rows × 39 columns</p>\n",
       "</div>"
      ],
      "text/plain": [
       "               item_id  appeared  location  price  rel_price_rank  price_mean  \\\n",
       "00000510f1adc        0         0         0     46        0.600098     27.3125   \n",
       "00000510f1adc        1         0         1     26        0.759766     27.3125   \n",
       "00000510f1adc        2         0         2     16        0.479980     27.3125   \n",
       "00000510f1adc        3         0         3     38        0.199951     27.3125   \n",
       "00000510f1adc        4         0         4     12        0.360107     27.3125   \n",
       "\n",
       "               price_median  diff_mean  diff_median  diff_mean_rel  ...  \\\n",
       "00000510f1adc          20.0  18.687500         26.0       0.406006  ...   \n",
       "00000510f1adc          20.0  -1.320312          6.0      -0.050781  ...   \n",
       "00000510f1adc          20.0 -11.320312         -4.0      -0.707520  ...   \n",
       "00000510f1adc          20.0  10.679688         18.0       0.281006  ...   \n",
       "00000510f1adc          20.0 -15.320312         -8.0      -1.276367  ...   \n",
       "\n",
       "               action_type_click_rel_pos_avg  city_nunique  city_get_first  \\\n",
       "00000510f1adc                            NaN           NaN               0   \n",
       "00000510f1adc                            NaN           NaN               0   \n",
       "00000510f1adc                            NaN           NaN               0   \n",
       "00000510f1adc                            NaN           NaN               0   \n",
       "00000510f1adc                            NaN           NaN               0   \n",
       "\n",
       "               platform_get_first  device_get_first  nfilters_mean  \\\n",
       "00000510f1adc                   0                 0            NaN   \n",
       "00000510f1adc                   0                 0            NaN   \n",
       "00000510f1adc                   0                 0            NaN   \n",
       "00000510f1adc                   0                 0            NaN   \n",
       "00000510f1adc                   0                 0            NaN   \n",
       "\n",
       "               nfilters_max  nfilters_min  nfilters_get_last  nimps_max  \n",
       "00000510f1adc           NaN           NaN                NaN        NaN  \n",
       "00000510f1adc           NaN           NaN                NaN        NaN  \n",
       "00000510f1adc           NaN           NaN                NaN        NaN  \n",
       "00000510f1adc           NaN           NaN                NaN        NaN  \n",
       "00000510f1adc           NaN           NaN                NaN        NaN  \n",
       "\n",
       "[5 rows x 39 columns]"
      ]
     },
     "execution_count": 12,
     "metadata": {},
     "output_type": "execute_result"
    }
   ],
   "source": [
    "xtrain.head()"
   ]
  },
  {
   "cell_type": "code",
   "execution_count": null,
   "metadata": {},
   "outputs": [
    {
     "name": "stdout",
     "output_type": "stream",
     "text": [
      "0:\tlearn: 0.6525134\ttest: 0.6524462\tbest: 0.6524462 (0)\ttotal: 2.04s\tremaining: 1h 42m 8s\n",
      "100:\tlearn: 0.1362686\ttest: 0.1353415\tbest: 0.1353415 (100)\ttotal: 3m 45s\tremaining: 1h 47m 46s\n",
      "200:\tlearn: 0.1313499\ttest: 0.1331250\tbest: 0.1331250 (200)\ttotal: 7m\tremaining: 1h 37m 29s\n",
      "300:\tlearn: 0.1304304\ttest: 0.1330986\tbest: 0.1330903 (297)\ttotal: 10m 15s\tremaining: 1h 31m 58s\n",
      "400:\tlearn: 0.1299058\ttest: 0.1337767\tbest: 0.1328616 (339)\ttotal: 13m 35s\tremaining: 1h 28m 5s\n",
      "bestTest = 0.1328616121\n",
      "bestIteration = 339\n",
      "Shrink model to first 340 iterations.\n"
     ]
    }
   ],
   "source": [
    "params = {'iterations': 3000,\n",
    "          'learning_rate': 0.02,\n",
    "          'depth': 8,\n",
    "         'task_type': 'GPU'}\n",
    "\n",
    "categorical_ind = [k for k, v in enumerate(xtrain.columns) if v in cat_fts ]\n",
    "\n",
    "# train model\n",
    "clf = cat.CatBoostClassifier(**params)\n",
    "clf.fit(xtrain, y_trn,\n",
    "        cat_features=categorical_ind,\n",
    "        eval_set=(xval, y_val),\n",
    "        early_stopping_rounds=100,\n",
    "        verbose=100,\n",
    "        plot=False)\n",
    "print('Done!')\n",
    "# try to save model\n",
    "model_path = './cat_model'\n",
    "cat.save_model(clf, model_path)\n",
    "\n",
    "# saves for each fold\n",
    "clfs = []\n",
    "cv_scores = []\n",
    "val_inds = []\n",
    "\n",
    "# append model\n",
    "clfs.append(clf)\n",
    "# make prediction on validation set\n",
    "val_pred = clf.predict_proba(xval)[:, 1]\n",
    "logloss_i = log_loss(y_val, val_pred)\n",
    "cv_scores.append(logloss_i)\n",
    "# compute roc auc\n",
    "fpr, tpr, thresholds = roc_curve(y_val, val_pred, pos_label=1)\n",
    "auc_i = auc(fpr, tpr)\n",
    "# compute map\n",
    "map_i = average_precision_score(y_val, val_pred)\n",
    "print('logloss={0:.4f} | map={1:.4f} | auc={2:.4f}'.format(logloss_i, map_i, auc_i))"
   ]
  },
  {
   "cell_type": "code",
   "execution_count": null,
   "metadata": {},
   "outputs": [],
   "source": [
    "# compute mean rr\n",
    "xval['pred'] = val_pred"
   ]
  },
  {
   "cell_type": "code",
   "execution_count": null,
   "metadata": {},
   "outputs": [],
   "source": [
    "# xval['pred']"
   ]
  },
  {
   "cell_type": "code",
   "execution_count": null,
   "metadata": {},
   "outputs": [],
   "source": [
    "# xtrain[train=='084dbb067c71e']"
   ]
  },
  {
   "cell_type": "code",
   "execution_count": null,
   "metadata": {},
   "outputs": [],
   "source": [
    "def reciprocal_rank(df):\n",
    "    pred_list = df['pred'].values\n",
    "    sorted_ind = np.argsort(pred_list)[::-1]\n",
    "    ranked_items = df['item_id'].iloc[sorted_ind].values\n",
    "    try:\n",
    "        target_ind = np.where(df['target'] == 1)[0][0]\n",
    "        rank = np.where(sorted_ind == target)[0][0]\n",
    "    except:\n",
    "        return 0\n",
    "#     return 1/(rank+1)\n",
    "    return rank+1\n",
    "\n",
    "xval['target'] = y_val\n",
    "# val_rr = xval.groupby('session_id').apply(reciprocal_rank)\n",
    "val_rr = xval.groupby(level=0).apply(reciprocal_rank)"
   ]
  },
  {
   "cell_type": "code",
   "execution_count": null,
   "metadata": {},
   "outputs": [],
   "source": [
    "# xtrain[cat_fts].nunique()"
   ]
  },
  {
   "cell_type": "code",
   "execution_count": null,
   "metadata": {},
   "outputs": [],
   "source": [
    "val_rr[val_rr!=0].mean()"
   ]
  },
  {
   "cell_type": "code",
   "execution_count": null,
   "metadata": {},
   "outputs": [],
   "source": [
    "val_rr[val_rr!=0].hist(bins=50)"
   ]
  },
  {
   "cell_type": "code",
   "execution_count": null,
   "metadata": {},
   "outputs": [],
   "source": [
    "(1/val_rr[val_rr!=0]).mean()"
   ]
  },
  {
   "cell_type": "code",
   "execution_count": null,
   "metadata": {},
   "outputs": [],
   "source": [
    "(1/val_rr[val_rr!=0]).hist(bins=50)"
   ]
  },
  {
   "cell_type": "code",
   "execution_count": null,
   "metadata": {},
   "outputs": [],
   "source": []
  },
  {
   "cell_type": "code",
   "execution_count": null,
   "metadata": {},
   "outputs": [],
   "source": []
  }
 ],
 "metadata": {
  "kernelspec": {
   "display_name": "Python 3",
   "language": "python",
   "name": "python3"
  },
  "language_info": {
   "codemirror_mode": {
    "name": "ipython",
    "version": 3
   },
   "file_extension": ".py",
   "mimetype": "text/x-python",
   "name": "python",
   "nbconvert_exporter": "python",
   "pygments_lexer": "ipython3",
   "version": "3.6.8"
  }
 },
 "nbformat": 4,
 "nbformat_minor": 2
}
