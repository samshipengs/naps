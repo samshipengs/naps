{
 "cells": [
  {
   "cell_type": "code",
   "execution_count": 1,
   "metadata": {},
   "outputs": [],
   "source": [
    "import time\n",
    "import pandas as pd\n",
    "import numpy as np\n",
    "import datetime\n",
    "import os\n",
    "import gc\n",
    "from functools import partial\n",
    "import matplotlib.pyplot as plt\n",
    "from utils import load_data, get_logger, get_data_path\n",
    "from clean_session import preprocess_sessions\n",
    "%matplotlib inline\n",
    "%load_ext autoreload\n",
    "%autoreload 2"
   ]
  },
  {
   "cell_type": "code",
   "execution_count": 90,
   "metadata": {},
   "outputs": [],
   "source": [
    "train_input = pd.read_parquet('./cache/train_inputs.snappy')"
   ]
  },
  {
   "cell_type": "code",
   "execution_count": 78,
   "metadata": {
    "scrolled": true
   },
   "outputs": [
    {
     "data": {
      "text/plain": [
       "step                                        0\n",
       "timestamp_session_duration             203755\n",
       "timestamp_dwell_time_prior_clickout    203755\n",
       "session_id_size                             0\n",
       "nf                                     642672\n",
       "price_0                                     0\n",
       "price_1                                  3172\n",
       "price_2                                  6732\n",
       "price_3                                 10488\n",
       "price_4                                 14494\n",
       "price_5                                 18748\n",
       "price_6                                 23271\n",
       "price_7                                 27900\n",
       "price_8                                 32520\n",
       "price_9                                 37716\n",
       "price_10                                43479\n",
       "price_11                                55654\n",
       "price_12                                67210\n",
       "price_13                                78151\n",
       "price_14                                88577\n",
       "price_15                                98350\n",
       "price_16                               107837\n",
       "price_17                               116702\n",
       "price_18                               125228\n",
       "price_19                               133434\n",
       "price_20                               141448\n",
       "price_21                               148870\n",
       "price_22                               156233\n",
       "price_23                               163695\n",
       "price_24                               197911\n",
       "n_imps                                      0\n",
       "prev_cos_0                                  0\n",
       "prev_cos_1                               3172\n",
       "prev_cos_2                               6732\n",
       "prev_cos_3                              10488\n",
       "prev_cos_4                              14494\n",
       "prev_cos_5                              18748\n",
       "prev_cos_6                              23271\n",
       "prev_cos_7                              27900\n",
       "prev_cos_8                              32520\n",
       "prev_cos_9                              37716\n",
       "prev_cos_10                             43479\n",
       "prev_cos_11                             55654\n",
       "prev_cos_12                             67210\n",
       "prev_cos_13                             78151\n",
       "prev_cos_14                             88577\n",
       "prev_cos_15                             98350\n",
       "prev_cos_16                            107837\n",
       "prev_cos_17                            116702\n",
       "prev_cos_18                            125228\n",
       "prev_cos_19                            133434\n",
       "prev_cos_20                            141448\n",
       "prev_cos_21                            148870\n",
       "prev_cos_22                            156233\n",
       "prev_cos_23                            163695\n",
       "prev_cos_24                            197911\n",
       "target                                      0\n",
       "pos                                    379336\n",
       "at                                     203755\n",
       "dtype: int64"
      ]
     },
     "execution_count": 78,
     "metadata": {},
     "output_type": "execute_result"
    }
   ],
   "source": [
    "train_input.isna().sum()"
   ]
  },
  {
   "cell_type": "code",
   "execution_count": 41,
   "metadata": {},
   "outputs": [
    {
     "data": {
      "text/plain": [
       "(259427, 59)"
      ]
     },
     "execution_count": 41,
     "metadata": {},
     "output_type": "execute_result"
    }
   ],
   "source": [
    "train_input.shape"
   ]
  },
  {
   "cell_type": "code",
   "execution_count": 79,
   "metadata": {},
   "outputs": [
    {
     "data": {
      "text/plain": [
       "Index(['step', 'timestamp_session_duration',\n",
       "       'timestamp_dwell_time_prior_clickout', 'session_id_size', 'nf',\n",
       "       'price_0', 'price_1', 'price_2', 'price_3', 'price_4', 'price_5',\n",
       "       'price_6', 'price_7', 'price_8', 'price_9', 'price_10', 'price_11',\n",
       "       'price_12', 'price_13', 'price_14', 'price_15', 'price_16', 'price_17',\n",
       "       'price_18', 'price_19', 'price_20', 'price_21', 'price_22', 'price_23',\n",
       "       'price_24', 'n_imps', 'prev_cos_0', 'prev_cos_1', 'prev_cos_2',\n",
       "       'prev_cos_3', 'prev_cos_4', 'prev_cos_5', 'prev_cos_6', 'prev_cos_7',\n",
       "       'prev_cos_8', 'prev_cos_9', 'prev_cos_10', 'prev_cos_11', 'prev_cos_12',\n",
       "       'prev_cos_13', 'prev_cos_14', 'prev_cos_15', 'prev_cos_16',\n",
       "       'prev_cos_17', 'prev_cos_18', 'prev_cos_19', 'prev_cos_20',\n",
       "       'prev_cos_21', 'prev_cos_22', 'prev_cos_23', 'prev_cos_24', 'target',\n",
       "       'pos', 'at'],\n",
       "      dtype='object')"
      ]
     },
     "execution_count": 79,
     "metadata": {},
     "output_type": "execute_result"
    }
   ],
   "source": [
    "train_input.columns"
   ]
  },
  {
   "cell_type": "code",
   "execution_count": 43,
   "metadata": {},
   "outputs": [],
   "source": [
    "# 61937/train_input.shape[0]"
   ]
  },
  {
   "cell_type": "code",
   "execution_count": 6,
   "metadata": {},
   "outputs": [
    {
     "data": {
      "text/html": [
       "<div>\n",
       "<style scoped>\n",
       "    .dataframe tbody tr th:only-of-type {\n",
       "        vertical-align: middle;\n",
       "    }\n",
       "\n",
       "    .dataframe tbody tr th {\n",
       "        vertical-align: top;\n",
       "    }\n",
       "\n",
       "    .dataframe thead th {\n",
       "        text-align: right;\n",
       "    }\n",
       "</style>\n",
       "<table border=\"1\" class=\"dataframe\">\n",
       "  <thead>\n",
       "    <tr style=\"text-align: right;\">\n",
       "      <th></th>\n",
       "      <th>step</th>\n",
       "      <th>timestamp_session_duration</th>\n",
       "      <th>timestamp_dwell_time_prior_clickout</th>\n",
       "      <th>session_id_size</th>\n",
       "      <th>nf</th>\n",
       "      <th>price_0</th>\n",
       "      <th>price_1</th>\n",
       "      <th>price_2</th>\n",
       "      <th>price_3</th>\n",
       "      <th>price_4</th>\n",
       "      <th>...</th>\n",
       "      <th>prev_cos_18</th>\n",
       "      <th>prev_cos_19</th>\n",
       "      <th>prev_cos_20</th>\n",
       "      <th>prev_cos_21</th>\n",
       "      <th>prev_cos_22</th>\n",
       "      <th>prev_cos_23</th>\n",
       "      <th>prev_cos_24</th>\n",
       "      <th>target</th>\n",
       "      <th>pos</th>\n",
       "      <th>at</th>\n",
       "    </tr>\n",
       "  </thead>\n",
       "  <tbody>\n",
       "    <tr>\n",
       "      <th>1</th>\n",
       "      <td>29</td>\n",
       "      <td>263.0</td>\n",
       "      <td>4.828314</td>\n",
       "      <td>2.397895</td>\n",
       "      <td>NaN</td>\n",
       "      <td>NaN</td>\n",
       "      <td>NaN</td>\n",
       "      <td>NaN</td>\n",
       "      <td>NaN</td>\n",
       "      <td>NaN</td>\n",
       "      <td>...</td>\n",
       "      <td>NaN</td>\n",
       "      <td>NaN</td>\n",
       "      <td>NaN</td>\n",
       "      <td>NaN</td>\n",
       "      <td>NaN</td>\n",
       "      <td>NaN</td>\n",
       "      <td>NaN</td>\n",
       "      <td>3</td>\n",
       "      <td>0.56</td>\n",
       "      <td>0.0</td>\n",
       "    </tr>\n",
       "    <tr>\n",
       "      <th>7</th>\n",
       "      <td>3</td>\n",
       "      <td>50.0</td>\n",
       "      <td>2.890372</td>\n",
       "      <td>1.098612</td>\n",
       "      <td>1.0</td>\n",
       "      <td>NaN</td>\n",
       "      <td>NaN</td>\n",
       "      <td>NaN</td>\n",
       "      <td>NaN</td>\n",
       "      <td>NaN</td>\n",
       "      <td>...</td>\n",
       "      <td>0.0</td>\n",
       "      <td>0.0</td>\n",
       "      <td>0.0</td>\n",
       "      <td>NaN</td>\n",
       "      <td>NaN</td>\n",
       "      <td>NaN</td>\n",
       "      <td>NaN</td>\n",
       "      <td>0</td>\n",
       "      <td>NaN</td>\n",
       "      <td>6.0</td>\n",
       "    </tr>\n",
       "    <tr>\n",
       "      <th>9</th>\n",
       "      <td>1</td>\n",
       "      <td>NaN</td>\n",
       "      <td>NaN</td>\n",
       "      <td>0.000000</td>\n",
       "      <td>NaN</td>\n",
       "      <td>NaN</td>\n",
       "      <td>NaN</td>\n",
       "      <td>NaN</td>\n",
       "      <td>NaN</td>\n",
       "      <td>NaN</td>\n",
       "      <td>...</td>\n",
       "      <td>0.0</td>\n",
       "      <td>0.0</td>\n",
       "      <td>0.0</td>\n",
       "      <td>NaN</td>\n",
       "      <td>NaN</td>\n",
       "      <td>NaN</td>\n",
       "      <td>NaN</td>\n",
       "      <td>5</td>\n",
       "      <td>NaN</td>\n",
       "      <td>NaN</td>\n",
       "    </tr>\n",
       "    <tr>\n",
       "      <th>10</th>\n",
       "      <td>3</td>\n",
       "      <td>157.0</td>\n",
       "      <td>3.951244</td>\n",
       "      <td>1.098612</td>\n",
       "      <td>NaN</td>\n",
       "      <td>NaN</td>\n",
       "      <td>NaN</td>\n",
       "      <td>NaN</td>\n",
       "      <td>NaN</td>\n",
       "      <td>NaN</td>\n",
       "      <td>...</td>\n",
       "      <td>NaN</td>\n",
       "      <td>NaN</td>\n",
       "      <td>NaN</td>\n",
       "      <td>NaN</td>\n",
       "      <td>NaN</td>\n",
       "      <td>NaN</td>\n",
       "      <td>NaN</td>\n",
       "      <td>7</td>\n",
       "      <td>0.08</td>\n",
       "      <td>0.0</td>\n",
       "    </tr>\n",
       "    <tr>\n",
       "      <th>12</th>\n",
       "      <td>3</td>\n",
       "      <td>37.0</td>\n",
       "      <td>2.302585</td>\n",
       "      <td>1.098612</td>\n",
       "      <td>NaN</td>\n",
       "      <td>NaN</td>\n",
       "      <td>NaN</td>\n",
       "      <td>NaN</td>\n",
       "      <td>NaN</td>\n",
       "      <td>NaN</td>\n",
       "      <td>...</td>\n",
       "      <td>NaN</td>\n",
       "      <td>NaN</td>\n",
       "      <td>NaN</td>\n",
       "      <td>NaN</td>\n",
       "      <td>NaN</td>\n",
       "      <td>NaN</td>\n",
       "      <td>NaN</td>\n",
       "      <td>0</td>\n",
       "      <td>0.04</td>\n",
       "      <td>7.0</td>\n",
       "    </tr>\n",
       "  </tbody>\n",
       "</table>\n",
       "<p>5 rows × 59 columns</p>\n",
       "</div>"
      ],
      "text/plain": [
       "    step  timestamp_session_duration  timestamp_dwell_time_prior_clickout  \\\n",
       "1     29                       263.0                             4.828314   \n",
       "7      3                        50.0                             2.890372   \n",
       "9      1                         NaN                                  NaN   \n",
       "10     3                       157.0                             3.951244   \n",
       "12     3                        37.0                             2.302585   \n",
       "\n",
       "    session_id_size   nf  price_0  price_1  price_2  price_3  price_4  ...  \\\n",
       "1          2.397895  NaN      NaN      NaN      NaN      NaN      NaN  ...   \n",
       "7          1.098612  1.0      NaN      NaN      NaN      NaN      NaN  ...   \n",
       "9          0.000000  NaN      NaN      NaN      NaN      NaN      NaN  ...   \n",
       "10         1.098612  NaN      NaN      NaN      NaN      NaN      NaN  ...   \n",
       "12         1.098612  NaN      NaN      NaN      NaN      NaN      NaN  ...   \n",
       "\n",
       "    prev_cos_18  prev_cos_19  prev_cos_20  prev_cos_21  prev_cos_22  \\\n",
       "1           NaN          NaN          NaN          NaN          NaN   \n",
       "7           0.0          0.0          0.0          NaN          NaN   \n",
       "9           0.0          0.0          0.0          NaN          NaN   \n",
       "10          NaN          NaN          NaN          NaN          NaN   \n",
       "12          NaN          NaN          NaN          NaN          NaN   \n",
       "\n",
       "    prev_cos_23  prev_cos_24  target   pos   at  \n",
       "1           NaN          NaN       3  0.56  0.0  \n",
       "7           NaN          NaN       0   NaN  6.0  \n",
       "9           NaN          NaN       5   NaN  NaN  \n",
       "10          NaN          NaN       7  0.08  0.0  \n",
       "12          NaN          NaN       0  0.04  7.0  \n",
       "\n",
       "[5 rows x 59 columns]"
      ]
     },
     "execution_count": 6,
     "metadata": {},
     "output_type": "execute_result"
    }
   ],
   "source": [
    "train_input[train_input.price_0.isna()].head()"
   ]
  },
  {
   "cell_type": "code",
   "execution_count": 9,
   "metadata": {},
   "outputs": [],
   "source": [
    "train_sids = np.load('./cache/train_session_ids.npy')"
   ]
  },
  {
   "cell_type": "code",
   "execution_count": 8,
   "metadata": {},
   "outputs": [
    {
     "name": "stderr",
     "output_type": "stream",
     "text": [
      "[05-18 11:46:57 - utils-106 - load_data - INFO] Loading train using 5,000,000 rows (4,999,976 trimmed) which is 31.38% out of total train data\n"
     ]
    }
   ],
   "source": [
    "train_raw = load_data('train', nrows=5000000)"
   ]
  },
  {
   "cell_type": "code",
   "execution_count": 12,
   "metadata": {},
   "outputs": [
    {
     "data": {
      "text/plain": [
       "'00011005327e1'"
      ]
     },
     "execution_count": 12,
     "metadata": {},
     "output_type": "execute_result"
    }
   ],
   "source": [
    "train_sids[1]"
   ]
  },
  {
   "cell_type": "code",
   "execution_count": 13,
   "metadata": {
    "scrolled": true
   },
   "outputs": [
    {
     "data": {
      "text/html": [
       "<div>\n",
       "<style scoped>\n",
       "    .dataframe tbody tr th:only-of-type {\n",
       "        vertical-align: middle;\n",
       "    }\n",
       "\n",
       "    .dataframe tbody tr th {\n",
       "        vertical-align: top;\n",
       "    }\n",
       "\n",
       "    .dataframe thead th {\n",
       "        text-align: right;\n",
       "    }\n",
       "</style>\n",
       "<table border=\"1\" class=\"dataframe\">\n",
       "  <thead>\n",
       "    <tr style=\"text-align: right;\">\n",
       "      <th></th>\n",
       "      <th>user_id</th>\n",
       "      <th>session_id</th>\n",
       "      <th>timestamp</th>\n",
       "      <th>step</th>\n",
       "      <th>action_type</th>\n",
       "      <th>reference</th>\n",
       "      <th>platform</th>\n",
       "      <th>city</th>\n",
       "      <th>device</th>\n",
       "      <th>current_filters</th>\n",
       "      <th>impressions</th>\n",
       "      <th>prices</th>\n",
       "    </tr>\n",
       "  </thead>\n",
       "  <tbody>\n",
       "    <tr>\n",
       "      <th>4300710</th>\n",
       "      <td>M7K6U5Q4ZNBM</td>\n",
       "      <td>00011005327e1</td>\n",
       "      <td>1541539680</td>\n",
       "      <td>1</td>\n",
       "      <td>interaction item image</td>\n",
       "      <td>1216256</td>\n",
       "      <td>US</td>\n",
       "      <td>Port Richey, USA</td>\n",
       "      <td>tablet</td>\n",
       "      <td>NaN</td>\n",
       "      <td>NaN</td>\n",
       "      <td>NaN</td>\n",
       "    </tr>\n",
       "    <tr>\n",
       "      <th>4300711</th>\n",
       "      <td>M7K6U5Q4ZNBM</td>\n",
       "      <td>00011005327e1</td>\n",
       "      <td>1541539680</td>\n",
       "      <td>2</td>\n",
       "      <td>interaction item image</td>\n",
       "      <td>1216256</td>\n",
       "      <td>US</td>\n",
       "      <td>Port Richey, USA</td>\n",
       "      <td>tablet</td>\n",
       "      <td>NaN</td>\n",
       "      <td>NaN</td>\n",
       "      <td>NaN</td>\n",
       "    </tr>\n",
       "    <tr>\n",
       "      <th>4300712</th>\n",
       "      <td>M7K6U5Q4ZNBM</td>\n",
       "      <td>00011005327e1</td>\n",
       "      <td>1541539690</td>\n",
       "      <td>3</td>\n",
       "      <td>interaction item image</td>\n",
       "      <td>1216256</td>\n",
       "      <td>US</td>\n",
       "      <td>Port Richey, USA</td>\n",
       "      <td>tablet</td>\n",
       "      <td>NaN</td>\n",
       "      <td>NaN</td>\n",
       "      <td>NaN</td>\n",
       "    </tr>\n",
       "    <tr>\n",
       "      <th>4300713</th>\n",
       "      <td>M7K6U5Q4ZNBM</td>\n",
       "      <td>00011005327e1</td>\n",
       "      <td>1541539690</td>\n",
       "      <td>4</td>\n",
       "      <td>interaction item image</td>\n",
       "      <td>1216256</td>\n",
       "      <td>US</td>\n",
       "      <td>Port Richey, USA</td>\n",
       "      <td>tablet</td>\n",
       "      <td>NaN</td>\n",
       "      <td>NaN</td>\n",
       "      <td>NaN</td>\n",
       "    </tr>\n",
       "    <tr>\n",
       "      <th>4300714</th>\n",
       "      <td>M7K6U5Q4ZNBM</td>\n",
       "      <td>00011005327e1</td>\n",
       "      <td>1541539690</td>\n",
       "      <td>5</td>\n",
       "      <td>interaction item image</td>\n",
       "      <td>1216256</td>\n",
       "      <td>US</td>\n",
       "      <td>Port Richey, USA</td>\n",
       "      <td>tablet</td>\n",
       "      <td>NaN</td>\n",
       "      <td>NaN</td>\n",
       "      <td>NaN</td>\n",
       "    </tr>\n",
       "    <tr>\n",
       "      <th>4300715</th>\n",
       "      <td>M7K6U5Q4ZNBM</td>\n",
       "      <td>00011005327e1</td>\n",
       "      <td>1541539690</td>\n",
       "      <td>6</td>\n",
       "      <td>interaction item image</td>\n",
       "      <td>1216256</td>\n",
       "      <td>US</td>\n",
       "      <td>Port Richey, USA</td>\n",
       "      <td>tablet</td>\n",
       "      <td>NaN</td>\n",
       "      <td>NaN</td>\n",
       "      <td>NaN</td>\n",
       "    </tr>\n",
       "    <tr>\n",
       "      <th>4300716</th>\n",
       "      <td>M7K6U5Q4ZNBM</td>\n",
       "      <td>00011005327e1</td>\n",
       "      <td>1541539690</td>\n",
       "      <td>7</td>\n",
       "      <td>interaction item image</td>\n",
       "      <td>1216256</td>\n",
       "      <td>US</td>\n",
       "      <td>Port Richey, USA</td>\n",
       "      <td>tablet</td>\n",
       "      <td>NaN</td>\n",
       "      <td>NaN</td>\n",
       "      <td>NaN</td>\n",
       "    </tr>\n",
       "    <tr>\n",
       "      <th>4300717</th>\n",
       "      <td>M7K6U5Q4ZNBM</td>\n",
       "      <td>00011005327e1</td>\n",
       "      <td>1541539690</td>\n",
       "      <td>8</td>\n",
       "      <td>interaction item image</td>\n",
       "      <td>1216256</td>\n",
       "      <td>US</td>\n",
       "      <td>Port Richey, USA</td>\n",
       "      <td>tablet</td>\n",
       "      <td>NaN</td>\n",
       "      <td>NaN</td>\n",
       "      <td>NaN</td>\n",
       "    </tr>\n",
       "    <tr>\n",
       "      <th>4300718</th>\n",
       "      <td>M7K6U5Q4ZNBM</td>\n",
       "      <td>00011005327e1</td>\n",
       "      <td>1541539734</td>\n",
       "      <td>9</td>\n",
       "      <td>interaction item image</td>\n",
       "      <td>57109</td>\n",
       "      <td>US</td>\n",
       "      <td>Port Richey, USA</td>\n",
       "      <td>tablet</td>\n",
       "      <td>NaN</td>\n",
       "      <td>NaN</td>\n",
       "      <td>NaN</td>\n",
       "    </tr>\n",
       "    <tr>\n",
       "      <th>4300719</th>\n",
       "      <td>M7K6U5Q4ZNBM</td>\n",
       "      <td>00011005327e1</td>\n",
       "      <td>1541539734</td>\n",
       "      <td>10</td>\n",
       "      <td>interaction item image</td>\n",
       "      <td>57109</td>\n",
       "      <td>US</td>\n",
       "      <td>Port Richey, USA</td>\n",
       "      <td>tablet</td>\n",
       "      <td>NaN</td>\n",
       "      <td>NaN</td>\n",
       "      <td>NaN</td>\n",
       "    </tr>\n",
       "    <tr>\n",
       "      <th>4300720</th>\n",
       "      <td>M7K6U5Q4ZNBM</td>\n",
       "      <td>00011005327e1</td>\n",
       "      <td>1541539745</td>\n",
       "      <td>11</td>\n",
       "      <td>interaction item image</td>\n",
       "      <td>57109</td>\n",
       "      <td>US</td>\n",
       "      <td>Port Richey, USA</td>\n",
       "      <td>tablet</td>\n",
       "      <td>NaN</td>\n",
       "      <td>NaN</td>\n",
       "      <td>NaN</td>\n",
       "    </tr>\n",
       "    <tr>\n",
       "      <th>4300721</th>\n",
       "      <td>M7K6U5Q4ZNBM</td>\n",
       "      <td>00011005327e1</td>\n",
       "      <td>1541539745</td>\n",
       "      <td>12</td>\n",
       "      <td>interaction item image</td>\n",
       "      <td>57109</td>\n",
       "      <td>US</td>\n",
       "      <td>Port Richey, USA</td>\n",
       "      <td>tablet</td>\n",
       "      <td>NaN</td>\n",
       "      <td>NaN</td>\n",
       "      <td>NaN</td>\n",
       "    </tr>\n",
       "    <tr>\n",
       "      <th>4300722</th>\n",
       "      <td>M7K6U5Q4ZNBM</td>\n",
       "      <td>00011005327e1</td>\n",
       "      <td>1541539745</td>\n",
       "      <td>13</td>\n",
       "      <td>interaction item image</td>\n",
       "      <td>57109</td>\n",
       "      <td>US</td>\n",
       "      <td>Port Richey, USA</td>\n",
       "      <td>tablet</td>\n",
       "      <td>NaN</td>\n",
       "      <td>NaN</td>\n",
       "      <td>NaN</td>\n",
       "    </tr>\n",
       "    <tr>\n",
       "      <th>4300723</th>\n",
       "      <td>M7K6U5Q4ZNBM</td>\n",
       "      <td>00011005327e1</td>\n",
       "      <td>1541539745</td>\n",
       "      <td>14</td>\n",
       "      <td>interaction item image</td>\n",
       "      <td>57109</td>\n",
       "      <td>US</td>\n",
       "      <td>Port Richey, USA</td>\n",
       "      <td>tablet</td>\n",
       "      <td>NaN</td>\n",
       "      <td>NaN</td>\n",
       "      <td>NaN</td>\n",
       "    </tr>\n",
       "    <tr>\n",
       "      <th>4300724</th>\n",
       "      <td>M7K6U5Q4ZNBM</td>\n",
       "      <td>00011005327e1</td>\n",
       "      <td>1541539754</td>\n",
       "      <td>15</td>\n",
       "      <td>interaction item image</td>\n",
       "      <td>57109</td>\n",
       "      <td>US</td>\n",
       "      <td>Port Richey, USA</td>\n",
       "      <td>tablet</td>\n",
       "      <td>NaN</td>\n",
       "      <td>NaN</td>\n",
       "      <td>NaN</td>\n",
       "    </tr>\n",
       "    <tr>\n",
       "      <th>4300725</th>\n",
       "      <td>M7K6U5Q4ZNBM</td>\n",
       "      <td>00011005327e1</td>\n",
       "      <td>1541539784</td>\n",
       "      <td>16</td>\n",
       "      <td>interaction item image</td>\n",
       "      <td>76571</td>\n",
       "      <td>US</td>\n",
       "      <td>Port Richey, USA</td>\n",
       "      <td>tablet</td>\n",
       "      <td>NaN</td>\n",
       "      <td>NaN</td>\n",
       "      <td>NaN</td>\n",
       "    </tr>\n",
       "    <tr>\n",
       "      <th>4300726</th>\n",
       "      <td>M7K6U5Q4ZNBM</td>\n",
       "      <td>00011005327e1</td>\n",
       "      <td>1541539784</td>\n",
       "      <td>17</td>\n",
       "      <td>interaction item image</td>\n",
       "      <td>76571</td>\n",
       "      <td>US</td>\n",
       "      <td>Port Richey, USA</td>\n",
       "      <td>tablet</td>\n",
       "      <td>NaN</td>\n",
       "      <td>NaN</td>\n",
       "      <td>NaN</td>\n",
       "    </tr>\n",
       "    <tr>\n",
       "      <th>4300727</th>\n",
       "      <td>M7K6U5Q4ZNBM</td>\n",
       "      <td>00011005327e1</td>\n",
       "      <td>1541539794</td>\n",
       "      <td>18</td>\n",
       "      <td>interaction item image</td>\n",
       "      <td>76571</td>\n",
       "      <td>US</td>\n",
       "      <td>Port Richey, USA</td>\n",
       "      <td>tablet</td>\n",
       "      <td>NaN</td>\n",
       "      <td>NaN</td>\n",
       "      <td>NaN</td>\n",
       "    </tr>\n",
       "    <tr>\n",
       "      <th>4300728</th>\n",
       "      <td>M7K6U5Q4ZNBM</td>\n",
       "      <td>00011005327e1</td>\n",
       "      <td>1541539794</td>\n",
       "      <td>19</td>\n",
       "      <td>interaction item image</td>\n",
       "      <td>76571</td>\n",
       "      <td>US</td>\n",
       "      <td>Port Richey, USA</td>\n",
       "      <td>tablet</td>\n",
       "      <td>NaN</td>\n",
       "      <td>NaN</td>\n",
       "      <td>NaN</td>\n",
       "    </tr>\n",
       "    <tr>\n",
       "      <th>4300729</th>\n",
       "      <td>M7K6U5Q4ZNBM</td>\n",
       "      <td>00011005327e1</td>\n",
       "      <td>1541539794</td>\n",
       "      <td>20</td>\n",
       "      <td>interaction item image</td>\n",
       "      <td>76571</td>\n",
       "      <td>US</td>\n",
       "      <td>Port Richey, USA</td>\n",
       "      <td>tablet</td>\n",
       "      <td>NaN</td>\n",
       "      <td>NaN</td>\n",
       "      <td>NaN</td>\n",
       "    </tr>\n",
       "    <tr>\n",
       "      <th>4300730</th>\n",
       "      <td>M7K6U5Q4ZNBM</td>\n",
       "      <td>00011005327e1</td>\n",
       "      <td>1541539794</td>\n",
       "      <td>21</td>\n",
       "      <td>interaction item image</td>\n",
       "      <td>76571</td>\n",
       "      <td>US</td>\n",
       "      <td>Port Richey, USA</td>\n",
       "      <td>tablet</td>\n",
       "      <td>NaN</td>\n",
       "      <td>NaN</td>\n",
       "      <td>NaN</td>\n",
       "    </tr>\n",
       "    <tr>\n",
       "      <th>4300731</th>\n",
       "      <td>M7K6U5Q4ZNBM</td>\n",
       "      <td>00011005327e1</td>\n",
       "      <td>1541539794</td>\n",
       "      <td>22</td>\n",
       "      <td>interaction item image</td>\n",
       "      <td>76571</td>\n",
       "      <td>US</td>\n",
       "      <td>Port Richey, USA</td>\n",
       "      <td>tablet</td>\n",
       "      <td>NaN</td>\n",
       "      <td>NaN</td>\n",
       "      <td>NaN</td>\n",
       "    </tr>\n",
       "    <tr>\n",
       "      <th>4300732</th>\n",
       "      <td>M7K6U5Q4ZNBM</td>\n",
       "      <td>00011005327e1</td>\n",
       "      <td>1541539804</td>\n",
       "      <td>23</td>\n",
       "      <td>interaction item image</td>\n",
       "      <td>76571</td>\n",
       "      <td>US</td>\n",
       "      <td>Port Richey, USA</td>\n",
       "      <td>tablet</td>\n",
       "      <td>NaN</td>\n",
       "      <td>NaN</td>\n",
       "      <td>NaN</td>\n",
       "    </tr>\n",
       "    <tr>\n",
       "      <th>4300733</th>\n",
       "      <td>M7K6U5Q4ZNBM</td>\n",
       "      <td>00011005327e1</td>\n",
       "      <td>1541539804</td>\n",
       "      <td>24</td>\n",
       "      <td>interaction item image</td>\n",
       "      <td>76571</td>\n",
       "      <td>US</td>\n",
       "      <td>Port Richey, USA</td>\n",
       "      <td>tablet</td>\n",
       "      <td>NaN</td>\n",
       "      <td>NaN</td>\n",
       "      <td>NaN</td>\n",
       "    </tr>\n",
       "    <tr>\n",
       "      <th>4300734</th>\n",
       "      <td>M7K6U5Q4ZNBM</td>\n",
       "      <td>00011005327e1</td>\n",
       "      <td>1541539804</td>\n",
       "      <td>25</td>\n",
       "      <td>interaction item image</td>\n",
       "      <td>76571</td>\n",
       "      <td>US</td>\n",
       "      <td>Port Richey, USA</td>\n",
       "      <td>tablet</td>\n",
       "      <td>NaN</td>\n",
       "      <td>NaN</td>\n",
       "      <td>NaN</td>\n",
       "    </tr>\n",
       "    <tr>\n",
       "      <th>4300735</th>\n",
       "      <td>M7K6U5Q4ZNBM</td>\n",
       "      <td>00011005327e1</td>\n",
       "      <td>1541539804</td>\n",
       "      <td>26</td>\n",
       "      <td>interaction item image</td>\n",
       "      <td>76571</td>\n",
       "      <td>US</td>\n",
       "      <td>Port Richey, USA</td>\n",
       "      <td>tablet</td>\n",
       "      <td>NaN</td>\n",
       "      <td>NaN</td>\n",
       "      <td>NaN</td>\n",
       "    </tr>\n",
       "    <tr>\n",
       "      <th>4300736</th>\n",
       "      <td>M7K6U5Q4ZNBM</td>\n",
       "      <td>00011005327e1</td>\n",
       "      <td>1541539814</td>\n",
       "      <td>27</td>\n",
       "      <td>interaction item image</td>\n",
       "      <td>76571</td>\n",
       "      <td>US</td>\n",
       "      <td>Port Richey, USA</td>\n",
       "      <td>tablet</td>\n",
       "      <td>NaN</td>\n",
       "      <td>NaN</td>\n",
       "      <td>NaN</td>\n",
       "    </tr>\n",
       "    <tr>\n",
       "      <th>4300737</th>\n",
       "      <td>M7K6U5Q4ZNBM</td>\n",
       "      <td>00011005327e1</td>\n",
       "      <td>1541539819</td>\n",
       "      <td>28</td>\n",
       "      <td>clickout item</td>\n",
       "      <td>76571</td>\n",
       "      <td>US</td>\n",
       "      <td>Port Richey, USA</td>\n",
       "      <td>tablet</td>\n",
       "      <td>NaN</td>\n",
       "      <td>68607|981941|1216256|1333884|73042|6136340|103...</td>\n",
       "      <td>68|51|84|84|45|44|171|39|48|118|59|98|57|57|12...</td>\n",
       "    </tr>\n",
       "    <tr>\n",
       "      <th>4300738</th>\n",
       "      <td>M7K6U5Q4ZNBM</td>\n",
       "      <td>00011005327e1</td>\n",
       "      <td>1541539943</td>\n",
       "      <td>29</td>\n",
       "      <td>clickout item</td>\n",
       "      <td>1333884</td>\n",
       "      <td>US</td>\n",
       "      <td>Port Richey, USA</td>\n",
       "      <td>tablet</td>\n",
       "      <td>NaN</td>\n",
       "      <td>68607|981941|1216256|1333884|73042|6136340|103...</td>\n",
       "      <td>68|51|84|84|45|44|171|39|48|118|59|98|57|57|12...</td>\n",
       "    </tr>\n",
       "  </tbody>\n",
       "</table>\n",
       "</div>"
      ],
      "text/plain": [
       "              user_id     session_id   timestamp  step  \\\n",
       "4300710  M7K6U5Q4ZNBM  00011005327e1  1541539680     1   \n",
       "4300711  M7K6U5Q4ZNBM  00011005327e1  1541539680     2   \n",
       "4300712  M7K6U5Q4ZNBM  00011005327e1  1541539690     3   \n",
       "4300713  M7K6U5Q4ZNBM  00011005327e1  1541539690     4   \n",
       "4300714  M7K6U5Q4ZNBM  00011005327e1  1541539690     5   \n",
       "4300715  M7K6U5Q4ZNBM  00011005327e1  1541539690     6   \n",
       "4300716  M7K6U5Q4ZNBM  00011005327e1  1541539690     7   \n",
       "4300717  M7K6U5Q4ZNBM  00011005327e1  1541539690     8   \n",
       "4300718  M7K6U5Q4ZNBM  00011005327e1  1541539734     9   \n",
       "4300719  M7K6U5Q4ZNBM  00011005327e1  1541539734    10   \n",
       "4300720  M7K6U5Q4ZNBM  00011005327e1  1541539745    11   \n",
       "4300721  M7K6U5Q4ZNBM  00011005327e1  1541539745    12   \n",
       "4300722  M7K6U5Q4ZNBM  00011005327e1  1541539745    13   \n",
       "4300723  M7K6U5Q4ZNBM  00011005327e1  1541539745    14   \n",
       "4300724  M7K6U5Q4ZNBM  00011005327e1  1541539754    15   \n",
       "4300725  M7K6U5Q4ZNBM  00011005327e1  1541539784    16   \n",
       "4300726  M7K6U5Q4ZNBM  00011005327e1  1541539784    17   \n",
       "4300727  M7K6U5Q4ZNBM  00011005327e1  1541539794    18   \n",
       "4300728  M7K6U5Q4ZNBM  00011005327e1  1541539794    19   \n",
       "4300729  M7K6U5Q4ZNBM  00011005327e1  1541539794    20   \n",
       "4300730  M7K6U5Q4ZNBM  00011005327e1  1541539794    21   \n",
       "4300731  M7K6U5Q4ZNBM  00011005327e1  1541539794    22   \n",
       "4300732  M7K6U5Q4ZNBM  00011005327e1  1541539804    23   \n",
       "4300733  M7K6U5Q4ZNBM  00011005327e1  1541539804    24   \n",
       "4300734  M7K6U5Q4ZNBM  00011005327e1  1541539804    25   \n",
       "4300735  M7K6U5Q4ZNBM  00011005327e1  1541539804    26   \n",
       "4300736  M7K6U5Q4ZNBM  00011005327e1  1541539814    27   \n",
       "4300737  M7K6U5Q4ZNBM  00011005327e1  1541539819    28   \n",
       "4300738  M7K6U5Q4ZNBM  00011005327e1  1541539943    29   \n",
       "\n",
       "                    action_type reference platform              city  device  \\\n",
       "4300710  interaction item image   1216256       US  Port Richey, USA  tablet   \n",
       "4300711  interaction item image   1216256       US  Port Richey, USA  tablet   \n",
       "4300712  interaction item image   1216256       US  Port Richey, USA  tablet   \n",
       "4300713  interaction item image   1216256       US  Port Richey, USA  tablet   \n",
       "4300714  interaction item image   1216256       US  Port Richey, USA  tablet   \n",
       "4300715  interaction item image   1216256       US  Port Richey, USA  tablet   \n",
       "4300716  interaction item image   1216256       US  Port Richey, USA  tablet   \n",
       "4300717  interaction item image   1216256       US  Port Richey, USA  tablet   \n",
       "4300718  interaction item image     57109       US  Port Richey, USA  tablet   \n",
       "4300719  interaction item image     57109       US  Port Richey, USA  tablet   \n",
       "4300720  interaction item image     57109       US  Port Richey, USA  tablet   \n",
       "4300721  interaction item image     57109       US  Port Richey, USA  tablet   \n",
       "4300722  interaction item image     57109       US  Port Richey, USA  tablet   \n",
       "4300723  interaction item image     57109       US  Port Richey, USA  tablet   \n",
       "4300724  interaction item image     57109       US  Port Richey, USA  tablet   \n",
       "4300725  interaction item image     76571       US  Port Richey, USA  tablet   \n",
       "4300726  interaction item image     76571       US  Port Richey, USA  tablet   \n",
       "4300727  interaction item image     76571       US  Port Richey, USA  tablet   \n",
       "4300728  interaction item image     76571       US  Port Richey, USA  tablet   \n",
       "4300729  interaction item image     76571       US  Port Richey, USA  tablet   \n",
       "4300730  interaction item image     76571       US  Port Richey, USA  tablet   \n",
       "4300731  interaction item image     76571       US  Port Richey, USA  tablet   \n",
       "4300732  interaction item image     76571       US  Port Richey, USA  tablet   \n",
       "4300733  interaction item image     76571       US  Port Richey, USA  tablet   \n",
       "4300734  interaction item image     76571       US  Port Richey, USA  tablet   \n",
       "4300735  interaction item image     76571       US  Port Richey, USA  tablet   \n",
       "4300736  interaction item image     76571       US  Port Richey, USA  tablet   \n",
       "4300737           clickout item     76571       US  Port Richey, USA  tablet   \n",
       "4300738           clickout item   1333884       US  Port Richey, USA  tablet   \n",
       "\n",
       "        current_filters                                        impressions  \\\n",
       "4300710             NaN                                                NaN   \n",
       "4300711             NaN                                                NaN   \n",
       "4300712             NaN                                                NaN   \n",
       "4300713             NaN                                                NaN   \n",
       "4300714             NaN                                                NaN   \n",
       "4300715             NaN                                                NaN   \n",
       "4300716             NaN                                                NaN   \n",
       "4300717             NaN                                                NaN   \n",
       "4300718             NaN                                                NaN   \n",
       "4300719             NaN                                                NaN   \n",
       "4300720             NaN                                                NaN   \n",
       "4300721             NaN                                                NaN   \n",
       "4300722             NaN                                                NaN   \n",
       "4300723             NaN                                                NaN   \n",
       "4300724             NaN                                                NaN   \n",
       "4300725             NaN                                                NaN   \n",
       "4300726             NaN                                                NaN   \n",
       "4300727             NaN                                                NaN   \n",
       "4300728             NaN                                                NaN   \n",
       "4300729             NaN                                                NaN   \n",
       "4300730             NaN                                                NaN   \n",
       "4300731             NaN                                                NaN   \n",
       "4300732             NaN                                                NaN   \n",
       "4300733             NaN                                                NaN   \n",
       "4300734             NaN                                                NaN   \n",
       "4300735             NaN                                                NaN   \n",
       "4300736             NaN                                                NaN   \n",
       "4300737             NaN  68607|981941|1216256|1333884|73042|6136340|103...   \n",
       "4300738             NaN  68607|981941|1216256|1333884|73042|6136340|103...   \n",
       "\n",
       "                                                    prices  \n",
       "4300710                                                NaN  \n",
       "4300711                                                NaN  \n",
       "4300712                                                NaN  \n",
       "4300713                                                NaN  \n",
       "4300714                                                NaN  \n",
       "4300715                                                NaN  \n",
       "4300716                                                NaN  \n",
       "4300717                                                NaN  \n",
       "4300718                                                NaN  \n",
       "4300719                                                NaN  \n",
       "4300720                                                NaN  \n",
       "4300721                                                NaN  \n",
       "4300722                                                NaN  \n",
       "4300723                                                NaN  \n",
       "4300724                                                NaN  \n",
       "4300725                                                NaN  \n",
       "4300726                                                NaN  \n",
       "4300727                                                NaN  \n",
       "4300728                                                NaN  \n",
       "4300729                                                NaN  \n",
       "4300730                                                NaN  \n",
       "4300731                                                NaN  \n",
       "4300732                                                NaN  \n",
       "4300733                                                NaN  \n",
       "4300734                                                NaN  \n",
       "4300735                                                NaN  \n",
       "4300736                                                NaN  \n",
       "4300737  68|51|84|84|45|44|171|39|48|118|59|98|57|57|12...  \n",
       "4300738  68|51|84|84|45|44|171|39|48|118|59|98|57|57|12...  "
      ]
     },
     "execution_count": 13,
     "metadata": {},
     "output_type": "execute_result"
    }
   ],
   "source": [
    "train_raw[train_raw.session_id=='00011005327e1']"
   ]
  },
  {
   "cell_type": "code",
   "execution_count": 16,
   "metadata": {},
   "outputs": [
    {
     "data": {
      "text/plain": [
       "4.8283137373023015"
      ]
     },
     "execution_count": 16,
     "metadata": {},
     "output_type": "execute_result"
    }
   ],
   "source": [
    "np.log1p((1541539943-1541539819))"
   ]
  },
  {
   "cell_type": "code",
   "execution_count": 25,
   "metadata": {},
   "outputs": [
    {
     "data": {
      "text/plain": [
       "['68',\n",
       " '51',\n",
       " '84',\n",
       " '84',\n",
       " '45',\n",
       " '44',\n",
       " '171',\n",
       " '39',\n",
       " '48',\n",
       " '118',\n",
       " '59',\n",
       " '98',\n",
       " '57',\n",
       " '57',\n",
       " '122',\n",
       " '100']"
      ]
     },
     "execution_count": 25,
     "metadata": {},
     "output_type": "execute_result"
    }
   ],
   "source": [
    "temp = train_raw[train_raw.session_id=='00011005327e1'].prices.str.split('|').iloc[-1]\n",
    "temp"
   ]
  },
  {
   "cell_type": "code",
   "execution_count": 26,
   "metadata": {},
   "outputs": [],
   "source": [
    "temp = [float(i) for i in temp]"
   ]
  },
  {
   "cell_type": "code",
   "execution_count": 27,
   "metadata": {},
   "outputs": [
    {
     "data": {
      "text/plain": [
       "[68.0,\n",
       " 51.0,\n",
       " 84.0,\n",
       " 84.0,\n",
       " 45.0,\n",
       " 44.0,\n",
       " 171.0,\n",
       " 39.0,\n",
       " 48.0,\n",
       " 118.0,\n",
       " 59.0,\n",
       " 98.0,\n",
       " 57.0,\n",
       " 57.0,\n",
       " 122.0,\n",
       " 100.0]"
      ]
     },
     "execution_count": 27,
     "metadata": {},
     "output_type": "execute_result"
    }
   ],
   "source": [
    "temp"
   ]
  },
  {
   "cell_type": "code",
   "execution_count": 31,
   "metadata": {},
   "outputs": [
    {
     "data": {
      "text/plain": [
       "array([ 68.,  51.,  84.,  84.,  45.,  44., 171.,  39.,  48., 118.,  59.,\n",
       "        98.,  57.,  57., 122., 100.,  nan,  nan,  nan,  nan,  nan,  nan,\n",
       "        nan,  nan,  nan])"
      ]
     },
     "execution_count": 31,
     "metadata": {},
     "output_type": "execute_result"
    }
   ],
   "source": [
    "np.pad(temp, (0, 25-len(temp)), mode='constant', constant_values=np.nan)"
   ]
  },
  {
   "cell_type": "code",
   "execution_count": 46,
   "metadata": {},
   "outputs": [],
   "source": [
    "df = train_raw[train_raw.action_type=='clickout item'].reset_index(drop=True)"
   ]
  },
  {
   "cell_type": "code",
   "execution_count": 47,
   "metadata": {},
   "outputs": [],
   "source": [
    "df['prices'] = df['prices'].str.split('|')\n",
    "df['prices'] = df['prices'].apply(lambda x: [float(p) for p in x])\n",
    "df['time_steps'] = df['prices'].str.len()\n",
    "padding_mask = df['time_steps'] < 25\n",
    "df.drop('time_steps', axis=1, inplace=True)\n",
    "df.loc[padding_mask, 'prices'] = df.loc[padding_mask, 'prices'].apply(lambda x: np.pad(x, (0, 25-len(x)),\n",
    "                                                                                   mode='constant',\n",
    "                                                                                   constant_values=np.nan))"
   ]
  },
  {
   "cell_type": "code",
   "execution_count": 56,
   "metadata": {},
   "outputs": [
    {
     "data": {
      "text/plain": [
       "nan"
      ]
     },
     "execution_count": 56,
     "metadata": {},
     "output_type": "execute_result"
    }
   ],
   "source": [
    "np.array([0,1,10, np.nan]).max()"
   ]
  },
  {
   "cell_type": "code",
   "execution_count": 57,
   "metadata": {},
   "outputs": [
    {
     "data": {
      "text/plain": [
       "10.0"
      ]
     },
     "execution_count": 57,
     "metadata": {},
     "output_type": "execute_result"
    }
   ],
   "source": [
    "np.nanmax(np.array([0,1,10, np.nan]))"
   ]
  },
  {
   "cell_type": "code",
   "execution_count": 48,
   "metadata": {},
   "outputs": [
    {
     "data": {
      "text/plain": [
       "array([ 68.,  51.,  84.,  84.,  45.,  44., 171.,  39.,  48., 118.,  59.,\n",
       "        98.,  57.,  57., 122., 100.,  nan,  nan,  nan,  nan,  nan,  nan,\n",
       "        nan,  nan,  nan])"
      ]
     },
     "execution_count": 48,
     "metadata": {},
     "output_type": "execute_result"
    }
   ],
   "source": [
    "df[df.session_id=='00011005327e1'].prices.iloc[-1]"
   ]
  },
  {
   "cell_type": "code",
   "execution_count": 59,
   "metadata": {},
   "outputs": [],
   "source": [
    "def normalize(ps):\n",
    "    p_arr = np.array(ps)\n",
    "#     if pd.isna(p_arr.max()):\n",
    "#         print(p_arr)\n",
    "    return p_arr / np.nanmax(p_arr)\n",
    "df['prices_percentage'] = df['prices'].apply(normalize)"
   ]
  },
  {
   "cell_type": "code",
   "execution_count": 63,
   "metadata": {},
   "outputs": [
    {
     "data": {
      "text/plain": [
       "0.39766081871345027"
      ]
     },
     "execution_count": 63,
     "metadata": {},
     "output_type": "execute_result"
    }
   ],
   "source": [
    "68/171"
   ]
  },
  {
   "cell_type": "code",
   "execution_count": 61,
   "metadata": {
    "scrolled": true
   },
   "outputs": [
    {
     "data": {
      "text/plain": [
       "array([ 68.,  51.,  84.,  84.,  45.,  44., 171.,  39.,  48., 118.,  59.,\n",
       "        98.,  57.,  57., 122., 100.,  nan,  nan,  nan,  nan,  nan,  nan,\n",
       "        nan,  nan,  nan])"
      ]
     },
     "execution_count": 61,
     "metadata": {},
     "output_type": "execute_result"
    }
   ],
   "source": [
    "df[df.session_id=='00011005327e1'].prices.iloc[-1]"
   ]
  },
  {
   "cell_type": "code",
   "execution_count": 60,
   "metadata": {},
   "outputs": [
    {
     "data": {
      "text/plain": [
       "array([0.39766082, 0.29824561, 0.49122807, 0.49122807, 0.26315789,\n",
       "       0.25730994, 1.        , 0.22807018, 0.28070175, 0.69005848,\n",
       "       0.34502924, 0.57309942, 0.33333333, 0.33333333, 0.71345029,\n",
       "       0.58479532,        nan,        nan,        nan,        nan,\n",
       "              nan,        nan,        nan,        nan,        nan])"
      ]
     },
     "execution_count": 60,
     "metadata": {},
     "output_type": "execute_result"
    }
   ],
   "source": [
    "df[df.session_id=='00011005327e1'].prices_percentage.iloc[-1]"
   ]
  },
  {
   "cell_type": "code",
   "execution_count": 44,
   "metadata": {},
   "outputs": [],
   "source": [
    "df[[f'price_{i}' for i in range(25)]] = pd.DataFrame(df['prices_percentage'].values.tolist(), index=df.index)"
   ]
  },
  {
   "cell_type": "code",
   "execution_count": 45,
   "metadata": {
    "scrolled": true
   },
   "outputs": [
    {
     "data": {
      "text/plain": [
       "user_id                                                   M7K6U5Q4ZNBM\n",
       "session_id                                               00011005327e1\n",
       "timestamp                                                   1541539943\n",
       "step                                                                29\n",
       "action_type                                              clickout item\n",
       "reference                                                      1333884\n",
       "platform                                                            US\n",
       "city                                                  Port Richey, USA\n",
       "device                                                          tablet\n",
       "current_filters                                                    NaN\n",
       "impressions          68607|981941|1216256|1333884|73042|6136340|103...\n",
       "prices               [68.0, 51.0, 84.0, 84.0, 45.0, 44.0, 171.0, 39...\n",
       "prices_percentage    [nan, nan, nan, nan, nan, nan, nan, nan, nan, ...\n",
       "price_0                                                            NaN\n",
       "price_1                                                            NaN\n",
       "price_2                                                            NaN\n",
       "price_3                                                            NaN\n",
       "price_4                                                            NaN\n",
       "price_5                                                            NaN\n",
       "price_6                                                            NaN\n",
       "price_7                                                            NaN\n",
       "price_8                                                            NaN\n",
       "price_9                                                            NaN\n",
       "price_10                                                           NaN\n",
       "price_11                                                           NaN\n",
       "price_12                                                           NaN\n",
       "price_13                                                           NaN\n",
       "price_14                                                           NaN\n",
       "price_15                                                           NaN\n",
       "price_16                                                           NaN\n",
       "price_17                                                           NaN\n",
       "price_18                                                           NaN\n",
       "price_19                                                           NaN\n",
       "price_20                                                           NaN\n",
       "price_21                                                           NaN\n",
       "price_22                                                           NaN\n",
       "price_23                                                           NaN\n",
       "price_24                                                           NaN\n",
       "Name: 426455, dtype: object"
      ]
     },
     "execution_count": 45,
     "metadata": {},
     "output_type": "execute_result"
    }
   ],
   "source": [
    "df[df.session_id=='00011005327e1'].iloc[-1]"
   ]
  },
  {
   "cell_type": "code",
   "execution_count": null,
   "metadata": {},
   "outputs": [],
   "source": [
    "train_input.price_24.hist()"
   ]
  },
  {
   "cell_type": "code",
   "execution_count": null,
   "metadata": {},
   "outputs": [],
   "source": [
    "train_input[[f'price_{i}' for i in range(25)]].describe()"
   ]
  },
  {
   "cell_type": "code",
   "execution_count": 66,
   "metadata": {},
   "outputs": [],
   "source": [
    "df['timestamp'] = df['timestamp'].apply(lambda ts: datetime.datetime.utcfromtimestamp(ts))\n"
   ]
  },
  {
   "cell_type": "code",
   "execution_count": 70,
   "metadata": {
    "scrolled": true
   },
   "outputs": [
    {
     "data": {
      "text/plain": [
       "0             NaN\n",
       "1           942.0\n",
       "2         25379.0\n",
       "3         36458.0\n",
       "4           330.0\n",
       "5          6848.0\n",
       "6            38.0\n",
       "7        -45006.0\n",
       "8         40147.0\n",
       "9        -27421.0\n",
       "10        29307.0\n",
       "11           94.0\n",
       "12       -30935.0\n",
       "13       -39027.0\n",
       "14         5926.0\n",
       "15        52711.0\n",
       "16       -48886.0\n",
       "17        31371.0\n",
       "18          257.0\n",
       "19        18584.0\n",
       "20       -52790.0\n",
       "21         2281.0\n",
       "22          143.0\n",
       "23           30.0\n",
       "24           20.0\n",
       "25          145.0\n",
       "26          102.0\n",
       "27        58891.0\n",
       "28       -27088.0\n",
       "29         1482.0\n",
       "           ...   \n",
       "496413   -44112.0\n",
       "496414      162.0\n",
       "496415      830.0\n",
       "496416      161.0\n",
       "496417      353.0\n",
       "496418       99.0\n",
       "496419       87.0\n",
       "496420       69.0\n",
       "496421      197.0\n",
       "496422    27678.0\n",
       "496423      555.0\n",
       "496424      381.0\n",
       "496425   -41223.0\n",
       "496426    61386.0\n",
       "496427       28.0\n",
       "496428      946.0\n",
       "496429    -9537.0\n",
       "496430       88.0\n",
       "496431       38.0\n",
       "496432   -40843.0\n",
       "496433        3.0\n",
       "496434       90.0\n",
       "496435    -6799.0\n",
       "496436   -19079.0\n",
       "496437       46.0\n",
       "496438    67793.0\n",
       "496439     7071.0\n",
       "496440   -32488.0\n",
       "496441    -4159.0\n",
       "496442     9134.0\n",
       "Name: timestamp, Length: 496443, dtype: float64"
      ]
     },
     "execution_count": 70,
     "metadata": {},
     "output_type": "execute_result"
    }
   ],
   "source": [
    "df.timestamp.diff().dt.total_seconds()"
   ]
  },
  {
   "cell_type": "code",
   "execution_count": 72,
   "metadata": {},
   "outputs": [
    {
     "data": {
      "text/plain": [
       "0   2018-11-01 01:59:03\n",
       "1   2018-11-01 02:14:45\n",
       "2   2018-11-01 09:17:44\n",
       "3   2018-11-01 19:25:22\n",
       "4   2018-11-01 19:30:52\n",
       "Name: timestamp, dtype: datetime64[ns]"
      ]
     },
     "execution_count": 72,
     "metadata": {},
     "output_type": "execute_result"
    }
   ],
   "source": [
    "df.timestamp.head()"
   ]
  },
  {
   "cell_type": "code",
   "execution_count": 86,
   "metadata": {},
   "outputs": [],
   "source": [
    "# test_input\n",
    "test_input = pd.read_parquet('./cache/test_inputs.snappy')"
   ]
  },
  {
   "cell_type": "code",
   "execution_count": 87,
   "metadata": {},
   "outputs": [
    {
     "data": {
      "text/plain": [
       "(253573, 58)"
      ]
     },
     "execution_count": 87,
     "metadata": {},
     "output_type": "execute_result"
    }
   ],
   "source": [
    "test_input.shape"
   ]
  },
  {
   "cell_type": "code",
   "execution_count": 88,
   "metadata": {},
   "outputs": [
    {
     "data": {
      "text/plain": [
       "Index(['step', 'timestamp_session_duration',\n",
       "       'timestamp_dwell_time_prior_clickout', 'session_id_size', 'nf',\n",
       "       'price_0', 'price_1', 'price_2', 'price_3', 'price_4', 'price_5',\n",
       "       'price_6', 'price_7', 'price_8', 'price_9', 'price_10', 'price_11',\n",
       "       'price_12', 'price_13', 'price_14', 'price_15', 'price_16', 'price_17',\n",
       "       'price_18', 'price_19', 'price_20', 'price_21', 'price_22', 'price_23',\n",
       "       'price_24', 'n_imps', 'prev_cos_0', 'prev_cos_1', 'prev_cos_2',\n",
       "       'prev_cos_3', 'prev_cos_4', 'prev_cos_5', 'prev_cos_6', 'prev_cos_7',\n",
       "       'prev_cos_8', 'prev_cos_9', 'prev_cos_10', 'prev_cos_11', 'prev_cos_12',\n",
       "       'prev_cos_13', 'prev_cos_14', 'prev_cos_15', 'prev_cos_16',\n",
       "       'prev_cos_17', 'prev_cos_18', 'prev_cos_19', 'prev_cos_20',\n",
       "       'prev_cos_21', 'prev_cos_22', 'prev_cos_23', 'prev_cos_24', 'pos',\n",
       "       'at'],\n",
       "      dtype='object')"
      ]
     },
     "execution_count": 88,
     "metadata": {},
     "output_type": "execute_result"
    }
   ],
   "source": [
    "test_input.columns"
   ]
  },
  {
   "cell_type": "code",
   "execution_count": 89,
   "metadata": {},
   "outputs": [
    {
     "data": {
      "text/plain": [
       "array([nan,  1.,  8.,  3.,  2.,  0.,  5.,  6.,  4.,  7.,  9.])"
      ]
     },
     "execution_count": 89,
     "metadata": {},
     "output_type": "execute_result"
    }
   ],
   "source": [
    "test_input['at'].unique()"
   ]
  },
  {
   "cell_type": "code",
   "execution_count": 91,
   "metadata": {},
   "outputs": [
    {
     "data": {
      "text/plain": [
       "array([nan,  0.,  6.,  2.,  8.,  5.,  3.,  1.,  7.,  9.,  4.])"
      ]
     },
     "execution_count": 91,
     "metadata": {},
     "output_type": "execute_result"
    }
   ],
   "source": [
    "train_input['at'].unique()"
   ]
  },
  {
   "cell_type": "code",
   "execution_count": 92,
   "metadata": {},
   "outputs": [
    {
     "data": {
      "text/plain": [
       "(826505, 59)"
      ]
     },
     "execution_count": 92,
     "metadata": {},
     "output_type": "execute_result"
    }
   ],
   "source": [
    "train_input.shape"
   ]
  },
  {
   "cell_type": "code",
   "execution_count": 93,
   "metadata": {},
   "outputs": [
    {
     "data": {
      "text/plain": [
       "(253573, 58)"
      ]
     },
     "execution_count": 93,
     "metadata": {},
     "output_type": "execute_result"
    }
   ],
   "source": [
    "test_input.shape"
   ]
  },
  {
   "cell_type": "code",
   "execution_count": null,
   "metadata": {},
   "outputs": [],
   "source": []
  },
  {
   "cell_type": "code",
   "execution_count": null,
   "metadata": {},
   "outputs": [],
   "source": []
  },
  {
   "cell_type": "code",
   "execution_count": null,
   "metadata": {},
   "outputs": [],
   "source": []
  },
  {
   "cell_type": "code",
   "execution_count": null,
   "metadata": {},
   "outputs": [],
   "source": []
  },
  {
   "cell_type": "code",
   "execution_count": null,
   "metadata": {},
   "outputs": [],
   "source": []
  },
  {
   "cell_type": "code",
   "execution_count": null,
   "metadata": {},
   "outputs": [],
   "source": []
  },
  {
   "cell_type": "code",
   "execution_count": null,
   "metadata": {},
   "outputs": [],
   "source": []
  },
  {
   "cell_type": "code",
   "execution_count": null,
   "metadata": {},
   "outputs": [],
   "source": []
  },
  {
   "cell_type": "markdown",
   "metadata": {},
   "source": [
    "---"
   ]
  },
  {
   "cell_type": "code",
   "execution_count": null,
   "metadata": {},
   "outputs": [],
   "source": [
    "from create_model_inputs import compute_session_fts, prepare_data, flogger"
   ]
  },
  {
   "cell_type": "code",
   "execution_count": null,
   "metadata": {},
   "outputs": [],
   "source": [
    "logger = get_logger('create_model_inputs')\n",
    "Filepath = get_data_path()\n"
   ]
  },
  {
   "cell_type": "code",
   "execution_count": null,
   "metadata": {},
   "outputs": [],
   "source": [
    "mode='train'\n",
    "nrows=1000000\n",
    "logger.info(f'Prepare {mode} data')\n",
    "t_init = time.time()\n",
    "df = prepare_data(mode, convert_action_type=True, nrows=nrows, recompute=False)\n",
    "logger.info('Compute session features')"
   ]
  },
  {
   "cell_type": "code",
   "execution_count": null,
   "metadata": {},
   "outputs": [],
   "source": [
    "str_prices = np.concatenate(df.prices.dropna().str.split('|').values)\n",
    "str_prices = [int(sp) for sp in str_prices]\n",
    "# pd.value_counts(str_prices)\n",
    "_ = plt.hist(str_prices)"
   ]
  },
  {
   "cell_type": "code",
   "execution_count": null,
   "metadata": {},
   "outputs": [],
   "source": [
    "%%time\n",
    "df = compute_session_fts(df, mode)"
   ]
  },
  {
   "cell_type": "code",
   "execution_count": null,
   "metadata": {},
   "outputs": [],
   "source": [
    "str_prices = np.concatenate(df.prices.dropna().str.split('|').values)\n",
    "str_prices = [int(sp) for sp in str_prices]\n",
    "# pd.value_counts(str_prices)\n",
    "_ = plt.hist(str_prices)"
   ]
  },
  {
   "cell_type": "code",
   "execution_count": null,
   "metadata": {},
   "outputs": [],
   "source": [
    "logger.info('Only select last click-out from each session')\n",
    "df = df.groupby('session_id').last().reset_index()\n",
    "flogger(df, 'df shape after only selecting last click-out row each session')\n",
    "\n",
    "# # log-transform on session_size feature\n",
    "# logger.info('Log-transform on session_size feature')\n",
    "# df['session_id_size'] = np.log(df['session_id_size'])\n",
    "\n",
    "# # log1p-transform on timestamp_dwell_time_prior_clickout but will cliping upper to 1hr\n",
    "# logger.info('Also log-transform on timestamp_dwell_time_prior_clickout but will cliping upper to 1hr')\n",
    "# df['timestamp_dwell_time_prior_clickout'] = np.log1p(df['timestamp_dwell_time_prior_clickout'].clip(upper=60 ** 2))"
   ]
  },
  {
   "cell_type": "code",
   "execution_count": null,
   "metadata": {},
   "outputs": [],
   "source": [
    "str_prices = np.concatenate(df.prices.dropna().str.split('|').values)\n",
    "str_prices = [int(sp) for sp in str_prices]\n",
    "# pd.value_counts(str_prices)\n",
    "_ = plt.hist(str_prices)"
   ]
  },
  {
   "cell_type": "code",
   "execution_count": null,
   "metadata": {},
   "outputs": [],
   "source": [
    "df['prices'] = df['prices'].str.split('|')\n",
    "df['prices_int'] = df['prices'].apply(lambda x: [int(p) for p in x])"
   ]
  },
  {
   "cell_type": "code",
   "execution_count": null,
   "metadata": {},
   "outputs": [],
   "source": [
    "str_prices = np.concatenate(df.prices_int.dropna().values)\n",
    "# pd.value_counts(str_prices)\n",
    "_ = plt.hist(str_prices)"
   ]
  },
  {
   "cell_type": "code",
   "execution_count": null,
   "metadata": {},
   "outputs": [],
   "source": [
    "df['time_steps'] = df['prices_int'].str.len()\n",
    "padding_mask = df['time_steps'] < 25\n",
    "df.drop('time_steps', axis=1, inplace=True)"
   ]
  },
  {
   "cell_type": "code",
   "execution_count": null,
   "metadata": {},
   "outputs": [],
   "source": [
    "df.prices.head()"
   ]
  },
  {
   "cell_type": "code",
   "execution_count": null,
   "metadata": {},
   "outputs": [],
   "source": [
    "df.prices.iloc[0]"
   ]
  },
  {
   "cell_type": "code",
   "execution_count": null,
   "metadata": {},
   "outputs": [],
   "source": [
    "df[df.prices.str.len()<25].prices.iloc[0]"
   ]
  },
  {
   "cell_type": "code",
   "execution_count": null,
   "metadata": {},
   "outputs": [],
   "source": [
    "x = [int(i) for i in df[df.prices.str.len()<25].prices.iloc[0]]\n",
    "x"
   ]
  },
  {
   "cell_type": "code",
   "execution_count": null,
   "metadata": {},
   "outputs": [],
   "source": [
    "np.pad(x, (0, 25-len(x)), mode='constant', constant_values=0)"
   ]
  },
  {
   "cell_type": "code",
   "execution_count": null,
   "metadata": {},
   "outputs": [],
   "source": [
    "type(np.nan)"
   ]
  },
  {
   "cell_type": "code",
   "execution_count": null,
   "metadata": {},
   "outputs": [],
   "source": [
    "df.loc[padding_mask, 'prices_int'] = df.loc[padding_mask, 'prices_int'].apply(lambda x: np.pad(x, (0, 25-len(x)),\n",
    "                                                                                       mode='constant',\n",
    "                                                                                       constant_values=np.nan))"
   ]
  },
  {
   "cell_type": "code",
   "execution_count": null,
   "metadata": {},
   "outputs": [],
   "source": [
    "str_prices = np.concatenate(df.prices_int.dropna().values)\n",
    "# pd.value_counts(str_prices)\n",
    "_ = plt.hist(str_prices)"
   ]
  },
  {
   "cell_type": "code",
   "execution_count": null,
   "metadata": {},
   "outputs": [],
   "source": [
    "def normalize(ps):\n",
    "    p_arr = np.array(ps)\n",
    "    return p_arr / (p_arr.max())\n",
    "df['prices_percentage_int'] = df['prices'].apply(normalize)"
   ]
  }
 ],
 "metadata": {
  "kernelspec": {
   "display_name": "Python 3",
   "language": "python",
   "name": "python3"
  },
  "language_info": {
   "codemirror_mode": {
    "name": "ipython",
    "version": 3
   },
   "file_extension": ".py",
   "mimetype": "text/x-python",
   "name": "python",
   "nbconvert_exporter": "python",
   "pygments_lexer": "ipython3",
   "version": "3.6.8"
  }
 },
 "nbformat": 4,
 "nbformat_minor": 2
}
