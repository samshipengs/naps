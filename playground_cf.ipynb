{
 "cells": [
  {
   "cell_type": "code",
   "execution_count": 4,
   "metadata": {},
   "outputs": [
    {
     "name": "stdout",
     "output_type": "stream",
     "text": [
      "The autoreload extension is already loaded. To reload it, use:\n",
      "  %reload_ext autoreload\n"
     ]
    }
   ],
   "source": [
    "from utils import load_data, check_gpu, check_dir\n",
    "from clean_session import preprocess_sessions\n",
    "import pandas as pd\n",
    "import numpy as np\n",
    "from tqdm import tqdm\n",
    "import gc\n",
    "# import catboost as cat\n",
    "import matplotlib.pyplot as plt\n",
    "from clean_session import preprocess_sessions\n",
    "from create_model_inputs import prepare_data, compute_session_fts\n",
    "# from manual_encoding import action_encoding, click_view_encoding, meta_encoding\n",
    "# from hotel2vec import hotel2vec\n",
    "import datetime\n",
    "%matplotlib inline\n",
    "%load_ext autoreload\n",
    "%autoreload 2\n",
    "def fprint(df, name):\n",
    "    print(f'{name} shape: ({df.shape[0]:,}, {df.shape[1]})')\n",
    "    "
   ]
  },
  {
   "cell_type": "code",
   "execution_count": 6,
   "metadata": {},
   "outputs": [
    {
     "name": "stderr",
     "output_type": "stream",
     "text": [
      "[05-11 20:31:40 - create_model_inputs-17 - flogger - INFO] raw train shape: (15,932,992, 12)\n",
      "[05-11 20:31:40 - clean_session-60 - preprocess_sessions - INFO] Dropping duplicates\n",
      "[05-11 20:31:54 - clean_session-18 - remove_duplicates - INFO] Before dropping duplicates df shape: (15,932,992, 12)\n",
      "[05-11 20:32:10 - clean_session-21 - remove_duplicates - INFO] After dropping duplicates df shape: (6,683,369, 12)\n",
      "[05-11 20:32:10 - clean_session-62 - preprocess_sessions - INFO] Cliping session dataframe up to last click out (if there is clickout)\n",
      "[05-11 20:39:56 - clean_session-65 - preprocess_sessions - INFO] Filtering out sessions without clickouts, reference, or clickout is nan\n",
      "[05-11 20:39:56 - clean_session-66 - preprocess_sessions - INFO] train length before filtering no click-out, or nan reference and click-out sessions: 5,764,987\n",
      "[05-11 20:56:54 - clean_session-74 - preprocess_sessions - INFO] train length after filtering: 5,200,153\n",
      "[05-11 20:56:54 - clean_session-76 - preprocess_sessions - INFO] Saving ./cache/preprocessed_train.snappy\n",
      "[05-11 20:57:11 - create_model_inputs-17 - flogger - INFO] Prepared train data shape: (5,200,153, 9)\n",
      "[05-11 21:14:03 - create_model_inputs-119 - compute_session_fts - INFO] Session features generated: ['timestamp_session_duration', 'timestamp_dwell_time_prior_clickout', 'current_filters_last_filters', 'session_id_size', 'reference_last_reference_id']\n"
     ]
    }
   ],
   "source": [
    "mode = 'train'\n",
    "df = load_data('train')\n",
    "df = prepare_data(mode, nrows=None, recompute=True)\n",
    "df = compute_session_fts(df, mode)"
   ]
  },
  {
   "cell_type": "markdown",
   "metadata": {},
   "source": [
    "### session_id_size"
   ]
  },
  {
   "cell_type": "code",
   "execution_count": 11,
   "metadata": {},
   "outputs": [
    {
     "data": {
      "text/plain": [
       "<matplotlib.axes._subplots.AxesSubplot at 0x128675748>"
      ]
     },
     "execution_count": 11,
     "metadata": {},
     "output_type": "execute_result"
    },
    {
     "data": {
      "image/png": "[encoded data removed]",
      "text/plain": [
       "<Figure size 432x288 with 1 Axes>"
      ]
     },
     "metadata": {
      "needs_background": "light"
     },
     "output_type": "display_data"
    }
   ],
   "source": [
    "# session_size\n",
    "df.session_id_size.hist(bins=200)"
   ]
  },
  {
   "cell_type": "code",
   "execution_count": 17,
   "metadata": {},
   "outputs": [
    {
     "data": {
      "text/plain": [
       "<matplotlib.axes._subplots.AxesSubplot at 0x13029cc50>"
      ]
     },
     "execution_count": 17,
     "metadata": {},
     "output_type": "execute_result"
    },
    {
     "data": {
      "image/png": "[encoded data removed]",
      "text/plain": [
       "<Figure size 432x288 with 1 Axes>"
      ]
     },
     "metadata": {
      "needs_background": "light"
     },
     "output_type": "display_data"
    }
   ],
   "source": [
    "np.log(df.session_id_size).hist(bins=200)"
   ]
  },
  {
   "cell_type": "code",
   "execution_count": 19,
   "metadata": {},
   "outputs": [],
   "source": [
    "logged = np.log(df.session_id_size)"
   ]
  },
  {
   "cell_type": "code",
   "execution_count": 20,
   "metadata": {},
   "outputs": [
    {
     "data": {
      "text/plain": [
       "<matplotlib.axes._subplots.AxesSubplot at 0x1744c8e80>"
      ]
     },
     "execution_count": 20,
     "metadata": {},
     "output_type": "execute_result"
    },
    {
     "data": {
      "image/png": "[encoded data removed]",
      "text/plain": [
       "<Figure size 432x288 with 1 Axes>"
      ]
     },
     "metadata": {
      "needs_background": "light"
     },
     "output_type": "display_data"
    }
   ],
   "source": [
    "((logged - logged.mean())/logged.std()).hist(bins=200)"
   ]
  },
  {
   "cell_type": "code",
   "execution_count": 13,
   "metadata": {},
   "outputs": [
    {
     "data": {
      "text/plain": [
       "<matplotlib.axes._subplots.AxesSubplot at 0x12595beb8>"
      ]
     },
     "execution_count": 13,
     "metadata": {},
     "output_type": "execute_result"
    },
    {
     "data": {
      "image/png": "[encoded data removed]",
      "text/plain": [
       "<Figure size 432x288 with 1 Axes>"
      ]
     },
     "metadata": {
      "needs_background": "light"
     },
     "output_type": "display_data"
    }
   ],
   "source": [
    "((df.session_id_size - df.session_id_size.mean())/df.session_id_size.std()).hist(bins=200)"
   ]
  },
  {
   "cell_type": "code",
   "execution_count": 14,
   "metadata": {},
   "outputs": [
    {
     "data": {
      "text/plain": [
       "24.038795589283623"
      ]
     },
     "execution_count": 14,
     "metadata": {},
     "output_type": "execute_result"
    }
   ],
   "source": [
    "df.session_id_size.mean()"
   ]
  },
  {
   "cell_type": "code",
   "execution_count": 15,
   "metadata": {},
   "outputs": [
    {
     "data": {
      "text/plain": [
       "36.338816575948364"
      ]
     },
     "execution_count": 15,
     "metadata": {},
     "output_type": "execute_result"
    }
   ],
   "source": [
    "df.session_id_size.std()"
   ]
  },
  {
   "cell_type": "markdown",
   "metadata": {},
   "source": [
    "### timestamp_dwell_time_prior_clickout"
   ]
  },
  {
   "cell_type": "code",
   "execution_count": 21,
   "metadata": {},
   "outputs": [
    {
     "data": {
      "text/plain": [
       "<matplotlib.axes._subplots.AxesSubplot at 0x1e0bd37f0>"
      ]
     },
     "execution_count": 21,
     "metadata": {},
     "output_type": "execute_result"
    },
    {
     "data": {
      "image/png": "[encoded data removed]",
      "text/plain": [
       "<Figure size 432x288 with 1 Axes>"
      ]
     },
     "metadata": {
      "needs_background": "light"
     },
     "output_type": "display_data"
    }
   ],
   "source": [
    "df.timestamp_dwell_time_prior_clickout.hist(bins=100)"
   ]
  },
  {
   "cell_type": "code",
   "execution_count": 22,
   "metadata": {},
   "outputs": [
    {
     "data": {
      "text/plain": [
       "count    4.996367e+06\n",
       "mean     1.095003e+02\n",
       "std      6.397683e+02\n",
       "min      0.000000e+00\n",
       "25%      7.000000e+00\n",
       "50%      2.500000e+01\n",
       "75%      8.200000e+01\n",
       "max      2.708180e+05\n",
       "Name: timestamp_dwell_time_prior_clickout, dtype: float64"
      ]
     },
     "execution_count": 22,
     "metadata": {},
     "output_type": "execute_result"
    }
   ],
   "source": [
    "df.timestamp_dwell_time_prior_clickout.describe()"
   ]
  },
  {
   "cell_type": "code",
   "execution_count": 38,
   "metadata": {},
   "outputs": [
    {
     "data": {
      "text/plain": [
       "count    4.996367e+06\n",
       "mean     1.064143e+02\n",
       "std      2.906731e+02\n",
       "min      0.000000e+00\n",
       "25%      7.000000e+00\n",
       "50%      2.500000e+01\n",
       "75%      8.200000e+01\n",
       "max      3.600000e+03\n",
       "Name: timestamp_dwell_time_prior_clickout, dtype: float64"
      ]
     },
     "execution_count": 38,
     "metadata": {},
     "output_type": "execute_result"
    }
   ],
   "source": [
    "df.timestamp_dwell_time_prior_clickout.clip(upper=60**2).describe()"
   ]
  },
  {
   "cell_type": "code",
   "execution_count": 39,
   "metadata": {},
   "outputs": [
    {
     "data": {
      "text/plain": [
       "<matplotlib.axes._subplots.AxesSubplot at 0x1f4e62748>"
      ]
     },
     "execution_count": 39,
     "metadata": {},
     "output_type": "execute_result"
    },
    {
     "data": {
      "image/png": "[encoded data removed]",
      "text/plain": [
       "<Figure size 432x288 with 1 Axes>"
      ]
     },
     "metadata": {
      "needs_background": "light"
     },
     "output_type": "display_data"
    }
   ],
   "source": [
    "df.timestamp_dwell_time_prior_clickout.clip(upper=60**2).hist(bins=100)"
   ]
  },
  {
   "cell_type": "code",
   "execution_count": 42,
   "metadata": {},
   "outputs": [
    {
     "data": {
      "text/plain": [
       "<matplotlib.axes._subplots.AxesSubplot at 0x1bc1acf98>"
      ]
     },
     "execution_count": 42,
     "metadata": {},
     "output_type": "execute_result"
    },
    {
     "data": {
      "image/png": "[encoded data removed]",
      "text/plain": [
       "<Figure size 432x288 with 1 Axes>"
      ]
     },
     "metadata": {
      "needs_background": "light"
     },
     "output_type": "display_data"
    }
   ],
   "source": [
    "np.log1p(df.timestamp_dwell_time_prior_clickout.clip(upper=60**2)).hist(bins=50)"
   ]
  },
  {
   "cell_type": "code",
   "execution_count": 35,
   "metadata": {},
   "outputs": [
    {
     "data": {
      "text/plain": [
       "3558.0"
      ]
     },
     "execution_count": 35,
     "metadata": {},
     "output_type": "execute_result"
    }
   ],
   "source": [
    "qt = 0.999\n",
    "df.timestamp_dwell_time_prior_clickout.quantile(qt)"
   ]
  },
  {
   "cell_type": "code",
   "execution_count": 36,
   "metadata": {},
   "outputs": [
    {
     "data": {
      "text/plain": [
       "59.3"
      ]
     },
     "execution_count": 36,
     "metadata": {},
     "output_type": "execute_result"
    }
   ],
   "source": [
    "df.timestamp_dwell_time_prior_clickout.quantile(qt)/60"
   ]
  },
  {
   "cell_type": "markdown",
   "metadata": {},
   "source": [
    "### last_ref_ind"
   ]
  },
  {
   "cell_type": "code",
   "execution_count": 48,
   "metadata": {},
   "outputs": [],
   "source": [
    "from utils import get_logger\n",
    "logger = get_logger('create_model_inputs')"
   ]
  },
  {
   "cell_type": "code",
   "execution_count": 50,
   "metadata": {},
   "outputs": [
    {
     "name": "stderr",
     "output_type": "stream",
     "text": [
      "[05-11 22:03:44 - create_model_inputs-9 - <module> - INFO] Pad 0s for prices length shorter than 25\n",
      "[05-11 22:03:50 - create_model_inputs-15 - <module> - INFO] Split impression str to list of impressions\n",
      "[05-11 22:03:54 - create_model_inputs-17 - <module> - INFO] Convert impression str to int\n",
      "[05-11 22:03:59 - create_model_inputs-19 - <module> - INFO] Pad 0s for impressions length shorter than 25\n",
      "[05-11 22:04:05 - create_model_inputs-24 - <module> - INFO] Assign target\n",
      "[05-11 22:04:05 - create_model_inputs-25 - <module> - INFO] Convert reference id to int\n",
      "[05-11 22:04:27 - create_model_inputs-39 - <module> - INFO] Remove the ones whose reference id is not in impression list\n",
      "[05-11 22:04:27 - create_model_inputs-43 - <module> - INFO] Target distribution: \n",
      "0    312518\n",
      "1     84370\n",
      "2     58086\n",
      "3     45785\n",
      "4     39385\n",
      "Name: target, dtype: int64\n",
      "[05-11 22:04:27 - create_model_inputs-45 - <module> - INFO] Assign location of previous reference id\n"
     ]
    }
   ],
   "source": [
    "# logger.info('Lower case current filters and split to list')\n",
    "# df['cfs'] = df['current_filters_last_filters'].str.lower().str.split('|')\n",
    "\n",
    "# logger.info('Split prices str to list and convert to int')\n",
    "# df['prices'] = df['prices'].str.split('|')\n",
    "df = df.groupby('session_id').last().reset_index()\n",
    "\n",
    "df['prices'] = df['prices'].apply(lambda x: [int(p) for p in x])\n",
    "logger.info('Pad 0s for prices length shorter than 25')\n",
    "df['time_steps'] = df['prices'].str.len()\n",
    "padding_mask = df['time_steps'] < 25\n",
    "df.loc[padding_mask, 'prices'] = df.loc[padding_mask, 'prices'].apply(lambda x: np.pad(x, (0, 25-len(x)),\n",
    "                                                                                       mode='constant'))\n",
    "\n",
    "logger.info('Split impression str to list of impressions')\n",
    "df['impressions'] = df['impressions'].str.split('|')\n",
    "logger.info('Convert impression str to int')\n",
    "df['impressions'] = df['impressions'].apply(lambda x: [int(i) for i in x])\n",
    "logger.info('Pad 0s for impressions length shorter than 25')\n",
    "df.loc[padding_mask, 'impressions'] = (df.loc[padding_mask, 'impressions']\n",
    "                                         .apply(lambda x: np.pad(x, (0, 25-len(x)),mode='constant')))\n",
    "\n",
    "if mode == 'train':\n",
    "    logger.info('Assign target')\n",
    "    logger.info('Convert reference id to int')\n",
    "    df['reference'] = df['reference'].astype(int)\n",
    "\n",
    "    # filter out nan rows with reference_id not in impressions list, since if the true target in test\n",
    "    # is not in the impression list then it would not get evaluated\n",
    "    def assign_target(row):\n",
    "        ref = row['reference']\n",
    "        imp = list(row['impressions'])\n",
    "        if ref in imp:\n",
    "            return imp.index(ref)\n",
    "        else:\n",
    "            return np.nan\n",
    "\n",
    "    df['target'] = df.apply(assign_target, axis=1)\n",
    "    logger.info('Remove the ones whose reference id is not in impression list')\n",
    "    # drop the ones whose reference is not in the impression list\n",
    "    df = df[df['target'].notna()].reset_index(drop=True)\n",
    "    df['target'] = df['target'].astype(int)\n",
    "    logger.info(f\"Target distribution: \\n{pd.value_counts(df['target']).head()}\")\n",
    "\n",
    "logger.info('Assign location of previous reference id')\n",
    "\n",
    "def assign_last_ref_id(row):\n",
    "    ref = row['reference_last_reference_id']\n",
    "    # although reference_id got converted to int, but the reference_last_reference_id was calculated\n",
    "    # when it was still str value, so here we look up the index in str of impressions\n",
    "    imp = [str(i) for i in row['impressions']]\n",
    "    if pd.isna(ref):\n",
    "        return np.nan\n",
    "    else:\n",
    "        if ref in imp:\n",
    "            return imp.index(ref) + 1\n",
    "            # return (imp.index(ref) + 1) / len(imp)\n",
    "        else:\n",
    "            return np.nan"
   ]
  },
  {
   "cell_type": "code",
   "execution_count": 51,
   "metadata": {},
   "outputs": [
    {
     "name": "stdout",
     "output_type": "stream",
     "text": [
      "CPU times: user 27 s, sys: 157 ms, total: 27.2 s\n",
      "Wall time: 27.2 s\n"
     ]
    }
   ],
   "source": [
    "%%time\n",
    "df['last_ref_ind'] = df.apply(assign_last_ref_id, axis=1)\n"
   ]
  },
  {
   "cell_type": "code",
   "execution_count": 52,
   "metadata": {},
   "outputs": [
    {
     "data": {
      "text/plain": [
       "<matplotlib.axes._subplots.AxesSubplot at 0x1f28f4a20>"
      ]
     },
     "execution_count": 52,
     "metadata": {},
     "output_type": "execute_result"
    },
    {
     "data": {
      "image/png": "[encoded data removed]",
      "text/plain": [
       "<Figure size 432x288 with 1 Axes>"
      ]
     },
     "metadata": {
      "needs_background": "light"
     },
     "output_type": "display_data"
    }
   ],
   "source": [
    "df.last_ref_ind.hist(bins=100)"
   ]
  },
  {
   "cell_type": "code",
   "execution_count": 55,
   "metadata": {},
   "outputs": [
    {
     "data": {
      "text/plain": [
       "<matplotlib.axes._subplots.AxesSubplot at 0x1259760f0>"
      ]
     },
     "execution_count": 55,
     "metadata": {},
     "output_type": "execute_result"
    },
    {
     "data": {
      "image/png": "[encoded data removed]",
      "text/plain": [
       "<Figure size 432x288 with 1 Axes>"
      ]
     },
     "metadata": {
      "needs_background": "light"
     },
     "output_type": "display_data"
    }
   ],
   "source": [
    "np.log(df.last_ref_ind).hist(bins=100)"
   ]
  },
  {
   "cell_type": "code",
   "execution_count": 56,
   "metadata": {},
   "outputs": [
    {
     "data": {
      "text/plain": [
       "<matplotlib.axes._subplots.AxesSubplot at 0x19dad74a8>"
      ]
     },
     "execution_count": 56,
     "metadata": {},
     "output_type": "execute_result"
    },
    {
     "data": {
      "image/png": "[encoded data removed]",
      "text/plain": [
       "<Figure size 432x288 with 1 Axes>"
      ]
     },
     "metadata": {
      "needs_background": "light"
     },
     "output_type": "display_data"
    }
   ],
   "source": [
    "((df.last_ref_ind - df.last_ref_ind.mean())/df.last_ref_ind.std()).hist(bins=100)"
   ]
  },
  {
   "cell_type": "code",
   "execution_count": 57,
   "metadata": {},
   "outputs": [
    {
     "data": {
      "text/plain": [
       "<matplotlib.axes._subplots.AxesSubplot at 0x1ad8cc1d0>"
      ]
     },
     "execution_count": 57,
     "metadata": {},
     "output_type": "execute_result"
    },
    {
     "data": {
      "image/png": "[encoded data removed]",
      "text/plain": [
       "<Figure size 432x288 with 1 Axes>"
      ]
     },
     "metadata": {
      "needs_background": "light"
     },
     "output_type": "display_data"
    }
   ],
   "source": [
    "(df.last_ref_ind/25).hist(bins=100)"
   ]
  },
  {
   "cell_type": "markdown",
   "metadata": {},
   "source": [
    "### prices"
   ]
  },
  {
   "cell_type": "code",
   "execution_count": 60,
   "metadata": {},
   "outputs": [],
   "source": [
    "prices = np.concatenate(df.prices.values)"
   ]
  },
  {
   "cell_type": "code",
   "execution_count": 64,
   "metadata": {},
   "outputs": [],
   "source": [
    "pdf = pd.DataFrame({'p': prices})"
   ]
  },
  {
   "cell_type": "code",
   "execution_count": 65,
   "metadata": {},
   "outputs": [
    {
     "data": {
      "text/plain": [
       "<matplotlib.axes._subplots.AxesSubplot at 0x19dad6668>"
      ]
     },
     "execution_count": 65,
     "metadata": {},
     "output_type": "execute_result"
    },
    {
     "data": {
      "image/png": "[encoded data removed]",
      "text/plain": [
       "<Figure size 432x288 with 1 Axes>"
      ]
     },
     "metadata": {
      "needs_background": "light"
     },
     "output_type": "display_data"
    }
   ],
   "source": [
    "pdf.p.hist(bins=100)"
   ]
  },
  {
   "cell_type": "code",
   "execution_count": 67,
   "metadata": {},
   "outputs": [
    {
     "data": {
      "text/plain": [
       "<matplotlib.axes._subplots.AxesSubplot at 0x1c005c748>"
      ]
     },
     "execution_count": 67,
     "metadata": {},
     "output_type": "execute_result"
    },
    {
     "data": {
      "image/png": "[encoded data removed]",
      "text/plain": [
       "<Figure size 432x288 with 1 Axes>"
      ]
     },
     "metadata": {
      "needs_background": "light"
     },
     "output_type": "display_data"
    }
   ],
   "source": [
    "np.log1p(pdf.p).hist(bins=100)"
   ]
  },
  {
   "cell_type": "code",
   "execution_count": 68,
   "metadata": {},
   "outputs": [
    {
     "data": {
      "text/plain": [
       "<matplotlib.axes._subplots.AxesSubplot at 0x195663a90>"
      ]
     },
     "execution_count": 68,
     "metadata": {},
     "output_type": "execute_result"
    },
    {
     "data": {
      "image/png": "[encoded data removed]",
      "text/plain": [
       "<Figure size 432x288 with 1 Axes>"
      ]
     },
     "metadata": {
      "needs_background": "light"
     },
     "output_type": "display_data"
    }
   ],
   "source": [
    "((pdf.p - pdf.p.mean())/pdf.p.std()).hist(bins=100)"
   ]
  },
  {
   "cell_type": "code",
   "execution_count": 69,
   "metadata": {},
   "outputs": [
    {
     "data": {
      "text/plain": [
       "217.0"
      ]
     },
     "execution_count": 69,
     "metadata": {},
     "output_type": "execute_result"
    }
   ],
   "source": [
    "pdf.p.quantile(0.9)"
   ]
  },
  {
   "cell_type": "code",
   "execution_count": 74,
   "metadata": {},
   "outputs": [
    {
     "data": {
      "text/plain": [
       "9462.0"
      ]
     },
     "execution_count": 74,
     "metadata": {},
     "output_type": "execute_result"
    }
   ],
   "source": [
    "pdf.p.quantile(0.99999)"
   ]
  },
  {
   "cell_type": "code",
   "execution_count": 71,
   "metadata": {},
   "outputs": [
    {
     "data": {
      "text/plain": [
       "count    2.066262e+07\n",
       "mean     1.077952e+02\n",
       "std      1.671736e+02\n",
       "min      0.000000e+00\n",
       "25%      4.000000e+01\n",
       "50%      7.400000e+01\n",
       "75%      1.270000e+02\n",
       "max      1.000000e+04\n",
       "Name: p, dtype: float64"
      ]
     },
     "execution_count": 71,
     "metadata": {},
     "output_type": "execute_result"
    }
   ],
   "source": [
    "pdf.p.describe()"
   ]
  },
  {
   "cell_type": "code",
   "execution_count": null,
   "metadata": {},
   "outputs": [],
   "source": [
    "%%time\n",
    "train_raw = load_data('train')\n",
    "train_raw['timestamp'] = train_raw['timestamp'].apply(lambda t: datetime.datetime.utcfromtimestamp(t))\n",
    "train_raw['nfilters'] = train_raw['current_filters'].str.split('|').str.len()\n",
    "train = train_raw[(train_raw.action_type == 'clickout item') & (train_raw.impressions.notna())].copy()"
   ]
  },
  {
   "cell_type": "code",
   "execution_count": 7,
   "metadata": {},
   "outputs": [],
   "source": [
    "fprint(train, 'train')"
   ]
  },
  {
   "cell_type": "code",
   "execution_count": null,
   "metadata": {},
   "outputs": [],
   "source": []
  },
  {
   "cell_type": "code",
   "execution_count": null,
   "metadata": {},
   "outputs": [],
   "source": [
    "# %%time\n",
    "# # also get test\n",
    "# test = load_data('test')#, nrows=1000000)\n",
    "# fprint(test, 'raw test')\n",
    "# test = test[(test.action_type == 'clickout item') & (test.impressions.notna()) & (test.reference.notna())].reset_index(drop=True)\n",
    "# fprint(test, 'test after')"
   ]
  },
  {
   "cell_type": "code",
   "execution_count": null,
   "metadata": {},
   "outputs": [],
   "source": [
    "# test_sub = load_data('submission_popular')"
   ]
  },
  {
   "cell_type": "code",
   "execution_count": null,
   "metadata": {},
   "outputs": [],
   "source": [
    "%%time\n",
    "def session_duration(x):\n",
    "    return x.max() - x.min()\n",
    "# session_fts = train.groupby('session_id').agg({'session_id': 'size', 'timestamp': session_duration})\n",
    "session_fts = train.groupby('session_id').size().reset_index(name='session_size')"
   ]
  },
  {
   "cell_type": "code",
   "execution_count": null,
   "metadata": {},
   "outputs": [],
   "source": [
    "%%time\n",
    "train_last = train.groupby('session_id').last().reset_index()"
   ]
  },
  {
   "cell_type": "code",
   "execution_count": null,
   "metadata": {},
   "outputs": [],
   "source": [
    "fprint(train_last, 'trian_last')"
   ]
  },
  {
   "cell_type": "code",
   "execution_count": null,
   "metadata": {},
   "outputs": [],
   "source": [
    "train_last = pd.merge(train_last, session_fts, on='session_id')"
   ]
  },
  {
   "cell_type": "markdown",
   "metadata": {},
   "source": [
    "### user_id"
   ]
  },
  {
   "cell_type": "code",
   "execution_count": null,
   "metadata": {},
   "outputs": [],
   "source": [
    "# train_last.groupby('user_id').size()\n",
    "train_last.user_id.value_counts().hist(bins=100)"
   ]
  },
  {
   "cell_type": "code",
   "execution_count": null,
   "metadata": {},
   "outputs": [],
   "source": [
    "# train_last.groupby('user_id').size()\n",
    "np.log(train_last.user_id.value_counts()).hist(bins=100)"
   ]
  },
  {
   "cell_type": "code",
   "execution_count": null,
   "metadata": {},
   "outputs": [],
   "source": [
    "train_last.user_id.nunique()"
   ]
  },
  {
   "cell_type": "code",
   "execution_count": null,
   "metadata": {},
   "outputs": [],
   "source": [
    "train_user_ids = train_last.user_id.unique()"
   ]
  },
  {
   "cell_type": "code",
   "execution_count": null,
   "metadata": {},
   "outputs": [],
   "source": [
    "test_user_ids = test.user_id.unique()"
   ]
  },
  {
   "cell_type": "code",
   "execution_count": null,
   "metadata": {},
   "outputs": [],
   "source": [
    "sub_ids = test_sub.user_id.unique()"
   ]
  },
  {
   "cell_type": "code",
   "execution_count": null,
   "metadata": {},
   "outputs": [],
   "source": [
    "len(set(train_user_ids).intersection(sub_ids))"
   ]
  },
  {
   "cell_type": "code",
   "execution_count": null,
   "metadata": {},
   "outputs": [],
   "source": [
    "sub_ids.shape"
   ]
  },
  {
   "cell_type": "code",
   "execution_count": null,
   "metadata": {},
   "outputs": [],
   "source": [
    "26913/sub_ids.shape[0]"
   ]
  },
  {
   "cell_type": "markdown",
   "metadata": {},
   "source": [
    "### what are the ones click on index 0 look like and the ones with rest index"
   ]
  },
  {
   "cell_type": "code",
   "execution_count": null,
   "metadata": {},
   "outputs": [],
   "source": [
    "one_sids = train_last[train_last.target==0].session_id\n",
    "rest_sids = train_last[train_last.target!=0].session_id"
   ]
  },
  {
   "cell_type": "code",
   "execution_count": null,
   "metadata": {},
   "outputs": [],
   "source": [
    "oid = np.random.choice(one_sids, 1)[0]\n",
    "rid = np.random.choice(rest_sids, 1)[0]\n",
    "oid, rid"
   ]
  },
  {
   "cell_type": "code",
   "execution_count": null,
   "metadata": {},
   "outputs": [],
   "source": [
    "print('target:', train_last[train_last.session_id==oid].target.values[0], '| session_size:',\n",
    "     train_last[train_last.session_id==oid].session_size.values[0], '| user freq:',\n",
    "     train_last[train_last.session_id==oid].user_id.size, '\\n')\n",
    "for i in train[train.session_id==oid].reset_index(drop=True).values:\n",
    "    print(i)"
   ]
  },
  {
   "cell_type": "code",
   "execution_count": null,
   "metadata": {},
   "outputs": [],
   "source": [
    "ps = np.concatenate(train[train.session_id==oid].prices.drop_duplicates().str.split('|').values)\n",
    "ps = [int(i) for i in ps]\n",
    "ps = np.sort(ps)\n",
    "ps"
   ]
  },
  {
   "cell_type": "markdown",
   "metadata": {},
   "source": [
    "---"
   ]
  },
  {
   "cell_type": "code",
   "execution_count": null,
   "metadata": {
    "scrolled": false
   },
   "outputs": [],
   "source": [
    "print('target:', train_last[train_last.session_id==rid].target.values[0], '| session_size:',\n",
    "     train_last[train_last.session_id==rid].session_size.values[0], '| user freq:',\n",
    "     train_last[train_last.session_id==rid].user_id.size, '\\n')\n",
    "for i in train[train.session_id==rid].reset_index(drop=True).values:\n",
    "    print(i)"
   ]
  },
  {
   "cell_type": "code",
   "execution_count": null,
   "metadata": {},
   "outputs": [],
   "source": [
    "ps = train[train.session_id==rid].prices.drop_duplicates().str.split('|').iloc[-1]\n",
    "ps = np.sort([int(i) for i in ps])\n",
    "ps"
   ]
  },
  {
   "cell_type": "markdown",
   "metadata": {},
   "source": [
    "### check raw"
   ]
  },
  {
   "cell_type": "code",
   "execution_count": null,
   "metadata": {},
   "outputs": [],
   "source": [
    "train_raw[train_raw.session_id==oid].reset_index(drop=True)"
   ]
  },
  {
   "cell_type": "code",
   "execution_count": null,
   "metadata": {
    "scrolled": false
   },
   "outputs": [],
   "source": [
    "train_raw[train_raw.session_id==rid].reset_index(drop=True)"
   ]
  },
  {
   "cell_type": "code",
   "execution_count": null,
   "metadata": {},
   "outputs": [],
   "source": [
    "1541231265 - 1541231272"
   ]
  },
  {
   "cell_type": "code",
   "execution_count": null,
   "metadata": {},
   "outputs": [],
   "source": [
    "len(set(train_raw.session_id.unique()).intersection(test.session_id.unique()))"
   ]
  },
  {
   "cell_type": "code",
   "execution_count": null,
   "metadata": {},
   "outputs": [],
   "source": []
  },
  {
   "cell_type": "code",
   "execution_count": null,
   "metadata": {},
   "outputs": [],
   "source": []
  },
  {
   "cell_type": "code",
   "execution_count": null,
   "metadata": {},
   "outputs": [],
   "source": []
  },
  {
   "cell_type": "code",
   "execution_count": null,
   "metadata": {},
   "outputs": [],
   "source": []
  },
  {
   "cell_type": "markdown",
   "metadata": {},
   "source": [
    "### current_filters"
   ]
  },
  {
   "cell_type": "code",
   "execution_count": null,
   "metadata": {},
   "outputs": [],
   "source": [
    "train_last.shape"
   ]
  },
  {
   "cell_type": "code",
   "execution_count": null,
   "metadata": {},
   "outputs": [],
   "source": [
    "filters_counts = train_last.current_filters.value_counts()"
   ]
  },
  {
   "cell_type": "code",
   "execution_count": null,
   "metadata": {},
   "outputs": [],
   "source": [
    "filters_counts.head()"
   ]
  },
  {
   "cell_type": "code",
   "execution_count": null,
   "metadata": {},
   "outputs": [],
   "source": [
    "train_last.current_filters.nunique()"
   ]
  },
  {
   "cell_type": "code",
   "execution_count": null,
   "metadata": {},
   "outputs": [],
   "source": [
    "train_last['cfs'] = train_last.current_filters.str.split('|')"
   ]
  },
  {
   "cell_type": "code",
   "execution_count": null,
   "metadata": {},
   "outputs": [],
   "source": [
    "all_cfs = train_last[train_last.cfs.notna()].cfs.values\n",
    "all_cfs = [j for i in all_cfs for j in i]"
   ]
  },
  {
   "cell_type": "code",
   "execution_count": null,
   "metadata": {},
   "outputs": [],
   "source": [
    "all_cfs_counts = pd.value_counts(all_cfs)\n",
    "all_cfs_counts.head()"
   ]
  },
  {
   "cell_type": "code",
   "execution_count": null,
   "metadata": {},
   "outputs": [],
   "source": [
    "pd.value_counts(all_cfs, normalize=True).cumsum().head(20)"
   ]
  },
  {
   "cell_type": "code",
   "execution_count": null,
   "metadata": {},
   "outputs": [],
   "source": [
    "all_cfs_counts.index[pd.DataFrame({'cfs': all_cfs_counts.index}).cfs.str.contains(r'[^(e)]sort', case=False)]"
   ]
  },
  {
   "cell_type": "code",
   "execution_count": null,
   "metadata": {},
   "outputs": [],
   "source": [
    "all_cfs_counts.hist(bins=20)"
   ]
  },
  {
   "cell_type": "code",
   "execution_count": null,
   "metadata": {},
   "outputs": [],
   "source": [
    "all_cfs_counts.shape"
   ]
  },
  {
   "cell_type": "code",
   "execution_count": null,
   "metadata": {},
   "outputs": [],
   "source": [
    "# all_cfs_counts.index.values"
   ]
  },
  {
   "cell_type": "code",
   "execution_count": null,
   "metadata": {},
   "outputs": [],
   "source": [
    "train_last.current_filters.isna().sum()"
   ]
  },
  {
   "cell_type": "code",
   "execution_count": null,
   "metadata": {},
   "outputs": [],
   "source": [
    "train_last.shape"
   ]
  },
  {
   "cell_type": "code",
   "execution_count": null,
   "metadata": {},
   "outputs": [],
   "source": [
    "655653/train_last.shape[0]"
   ]
  },
  {
   "cell_type": "code",
   "execution_count": null,
   "metadata": {},
   "outputs": [],
   "source": [
    "train_last['nimps'] = train_last.impressions.str.split('|').str.len()"
   ]
  },
  {
   "cell_type": "markdown",
   "metadata": {},
   "source": [
    "What is the length of the impressions for these with nan current_filters?"
   ]
  },
  {
   "cell_type": "code",
   "execution_count": null,
   "metadata": {},
   "outputs": [],
   "source": [
    "train_last.loc[train_last.current_filters.isna(), 'nimps'].value_counts(normalize=True).head()"
   ]
  },
  {
   "cell_type": "code",
   "execution_count": null,
   "metadata": {},
   "outputs": [],
   "source": [
    "train_last.nimps.value_counts(normalize=True).head()"
   ]
  },
  {
   "cell_type": "code",
   "execution_count": null,
   "metadata": {},
   "outputs": [],
   "source": [
    "train_last.loc[train_last.current_filters.notna(), 'nimps'].value_counts(normalize=True).head()"
   ]
  },
  {
   "cell_type": "markdown",
   "metadata": {},
   "source": [
    "What is the size of the session for these with nan current_filters?"
   ]
  },
  {
   "cell_type": "code",
   "execution_count": null,
   "metadata": {},
   "outputs": [],
   "source": [
    "train_last.loc[train_last.current_filters.isna(), 'session_size'].value_counts(normalize=True).head()"
   ]
  },
  {
   "cell_type": "code",
   "execution_count": null,
   "metadata": {},
   "outputs": [],
   "source": [
    "train_last.loc[train_last.current_filters.notna(), 'session_size'].value_counts(normalize=True).head()"
   ]
  },
  {
   "cell_type": "code",
   "execution_count": null,
   "metadata": {},
   "outputs": [],
   "source": [
    "train_last.session_size.value_counts(normalize=True).head()"
   ]
  },
  {
   "cell_type": "markdown",
   "metadata": {},
   "source": [
    "### Suppose we build extremly simple baseline"
   ]
  },
  {
   "cell_type": "code",
   "execution_count": null,
   "metadata": {},
   "outputs": [],
   "source": [
    "train_last['ncfs'] = train_last.cfs.str.len()"
   ]
  },
  {
   "cell_type": "code",
   "execution_count": null,
   "metadata": {},
   "outputs": [],
   "source": [
    "train_last['prices'] = train_last.prices.str.split('|')"
   ]
  },
  {
   "cell_type": "code",
   "execution_count": null,
   "metadata": {
    "scrolled": true
   },
   "outputs": [],
   "source": [
    "%%time\n",
    "train_last['prices'] = train_last.prices.apply(lambda x: np.pad(x, (0, 25-len(x)), mode='constant'))"
   ]
  },
  {
   "cell_type": "code",
   "execution_count": null,
   "metadata": {},
   "outputs": [],
   "source": [
    "%%time\n",
    "train_last['prices'] = train_last.prices.apply(lambda x: [int(p) for p in x])"
   ]
  },
  {
   "cell_type": "code",
   "execution_count": null,
   "metadata": {},
   "outputs": [],
   "source": [
    "train_last['impressions'] = train_last['impressions'].str.split('|')\n",
    "train_last['impressions'] = train_last['impressions'].apply(lambda x: [int(i) for i in x])"
   ]
  },
  {
   "cell_type": "markdown",
   "metadata": {},
   "source": [
    "### shuffle the impressions (together with the prices)"
   ]
  },
  {
   "cell_type": "code",
   "execution_count": null,
   "metadata": {},
   "outputs": [],
   "source": [
    "# %%time\n",
    "# # add some shuffling\n",
    "# train_last['data'] = 'original'\n",
    "# train_last_shuffle = train_last[train_last.current_filters.isna()].reset_index(drop=True)\n",
    "# train_last_shuffle['data'] = 'shuffled'"
   ]
  },
  {
   "cell_type": "code",
   "execution_count": null,
   "metadata": {},
   "outputs": [],
   "source": [
    "# imps = train_last_shuffle['impressions'].values\n",
    "# prices = train_last_shuffle['prices'].values"
   ]
  },
  {
   "cell_type": "code",
   "execution_count": null,
   "metadata": {},
   "outputs": [],
   "source": [
    "# ind_shuffle = [np.arange(len(i), dtype=int) for i in imps]"
   ]
  },
  {
   "cell_type": "code",
   "execution_count": null,
   "metadata": {},
   "outputs": [],
   "source": [
    "# %%time\n",
    "# _ = [np.random.shuffle(i) for i in ind_shuffle]"
   ]
  },
  {
   "cell_type": "code",
   "execution_count": null,
   "metadata": {},
   "outputs": [],
   "source": [
    "# %%time\n",
    "# train_last_shuffle['impressions'] = [list(np.array(imps[i])[ind_shuffle[i]]) for i in range(len(train_last_shuffle))]"
   ]
  },
  {
   "cell_type": "code",
   "execution_count": null,
   "metadata": {},
   "outputs": [],
   "source": [
    "# %%time\n",
    "# train_last_shuffle['prices'] = [list(np.array(prices[i])[ind_shuffle[i]]) for i in range(len(train_last_shuffle))]"
   ]
  },
  {
   "cell_type": "code",
   "execution_count": null,
   "metadata": {},
   "outputs": [],
   "source": [
    "# # def shuffle_impressions(x):\n",
    "# #     x_cp = np.array(x)\n",
    "# #     np.random.shuffle(x_cp)\n",
    "# #     return list(x_cp)\n",
    "# # train_last_shuffle['impressions'] = train_last_shuffle['impressions'].apply(shuffle_impressions)\n",
    "# train_last = pd.concat([train_last, train_last_shuffle], axis=0, ignore_index=True)"
   ]
  },
  {
   "cell_type": "code",
   "execution_count": null,
   "metadata": {},
   "outputs": [],
   "source": [
    "# add country infomation\n",
    "train_last['country'] = train_last.city.str.split(',').str[1]"
   ]
  },
  {
   "cell_type": "code",
   "execution_count": null,
   "metadata": {},
   "outputs": [],
   "source": [
    "%%time\n",
    "# make target\n",
    "def make_target(x):\n",
    "    try:\n",
    "        return x.impressions.index(int(x.reference))\n",
    "    except Exception as e:\n",
    "        return 25\n",
    "train_last['target'] = train_last.apply(make_target, axis=1)"
   ]
  },
  {
   "cell_type": "code",
   "execution_count": null,
   "metadata": {},
   "outputs": [],
   "source": [
    "# train_last.head()"
   ]
  },
  {
   "cell_type": "code",
   "execution_count": null,
   "metadata": {
    "scrolled": true
   },
   "outputs": [],
   "source": [
    "# target distribution for different session size\n",
    "size_target = train_last.groupby('session_size')['target'].value_counts()\n",
    "# size_target.unstack(level=-1)"
   ]
  },
  {
   "cell_type": "code",
   "execution_count": null,
   "metadata": {},
   "outputs": [],
   "source": [
    "def confusion_matrix(size_target, normalize='row', level=0, log_scale=False):\n",
    "    mat = size_target.unstack(level=level).fillna(0)    \n",
    "    if normalize == 'row':\n",
    "        row_sum = mat.sum(axis=1)\n",
    "        mat = mat.div(row_sum, axis=0)\n",
    "        log_scale = False\n",
    "    elif normalize == 'column':\n",
    "        col_sum = mat.sum(axis=0)\n",
    "        mat = mat.div(col_sum, axis=1)\n",
    "        log_scale = False\n",
    "    # plot\n",
    "    fig = plt.figure(figsize=(35,10))\n",
    "    ax = fig.add_subplot(111)\n",
    "    if log_scale:\n",
    "        cax = ax.matshow(np.log1p(mat), interpolation='nearest')#, cmap='coolwarm')#, aspect='auto')\n",
    "    else:\n",
    "        cax = ax.matshow(mat, interpolation='nearest')#, cmap='coolwarm')#, aspect='auto')\n",
    "    fig.colorbar(cax)\n",
    "    ax.set_xlabel(f'{mat.columns.name}')\n",
    "    ax.xaxis.set_label_position('top') \n",
    "    ax.set_ylabel(f'{mat.index.name}')\n",
    "    \n",
    "    ax.set_xticks(np.arange(mat.shape[1]))\n",
    "    ax.set_xticklabels(list(mat.columns.astype(str)), rotation=90)\n",
    "    ax.set_yticks(np.arange(mat.shape[0]))\n",
    "    _ = ax.set_yticklabels(list(mat.index.astype(str)))\n",
    "    return mat"
   ]
  },
  {
   "cell_type": "code",
   "execution_count": null,
   "metadata": {},
   "outputs": [],
   "source": [
    "_ = confusion_matrix(size_target, normalize='column', level=0)"
   ]
  },
  {
   "cell_type": "code",
   "execution_count": null,
   "metadata": {},
   "outputs": [],
   "source": [
    "_ = confusion_matrix(size_target, normalize='row', level=0)"
   ]
  },
  {
   "cell_type": "code",
   "execution_count": null,
   "metadata": {},
   "outputs": [],
   "source": [
    "_ = confusion_matrix(size_target, normalize=None, log_scale=True)"
   ]
  },
  {
   "cell_type": "markdown",
   "metadata": {},
   "source": [
    "---"
   ]
  },
  {
   "cell_type": "code",
   "execution_count": null,
   "metadata": {},
   "outputs": [],
   "source": [
    "_ = confusion_matrix(size_target, normalize='row', level=-1)"
   ]
  },
  {
   "cell_type": "code",
   "execution_count": null,
   "metadata": {},
   "outputs": [],
   "source": [
    "_ = confusion_matrix(size_target, normalize='column', level=-1)"
   ]
  },
  {
   "cell_type": "code",
   "execution_count": null,
   "metadata": {},
   "outputs": [],
   "source": [
    "_ = confusion_matrix(size_target, normalize=None, log_scale=True, level=-1)"
   ]
  },
  {
   "cell_type": "code",
   "execution_count": null,
   "metadata": {},
   "outputs": [],
   "source": [
    "non_zero_target = train_last[train_last['target']!=0"
   ]
  },
  {
   "cell_type": "code",
   "execution_count": null,
   "metadata": {},
   "outputs": [],
   "source": []
  },
  {
   "cell_type": "code",
   "execution_count": null,
   "metadata": {},
   "outputs": [],
   "source": []
  },
  {
   "cell_type": "code",
   "execution_count": null,
   "metadata": {},
   "outputs": [],
   "source": []
  },
  {
   "cell_type": "code",
   "execution_count": null,
   "metadata": {},
   "outputs": [],
   "source": []
  },
  {
   "cell_type": "code",
   "execution_count": null,
   "metadata": {},
   "outputs": [],
   "source": []
  },
  {
   "cell_type": "code",
   "execution_count": null,
   "metadata": {},
   "outputs": [],
   "source": []
  },
  {
   "cell_type": "code",
   "execution_count": null,
   "metadata": {},
   "outputs": [],
   "source": []
  },
  {
   "cell_type": "code",
   "execution_count": null,
   "metadata": {},
   "outputs": [],
   "source": []
  },
  {
   "cell_type": "markdown",
   "metadata": {},
   "source": [
    "### Compare with popularity based"
   ]
  },
  {
   "cell_type": "code",
   "execution_count": null,
   "metadata": {},
   "outputs": [],
   "source": [
    "%%time\n",
    "# compute the popularity counts\n",
    "pop = train_last.groupby('reference').size().reset_index(name='ctn')\n",
    "pop.sort_values(by='ctn', ascending=True)\n",
    "pop['reference'] = pop.reference.astype(int)\n",
    "pop_map = dict(pop[['reference', 'ctn']].values)\n",
    "train_last['popularity'] = train_last.impressions.apply(lambda x: [pop_map[i] if i in pop_map.keys() else -1 for i in x ])\n",
    "del pop, pop_map\n",
    "train_last['ptarget'] = train_last.popularity.apply(lambda x: np.argmax(x))"
   ]
  },
  {
   "cell_type": "code",
   "execution_count": null,
   "metadata": {},
   "outputs": [],
   "source": [
    "%%time\n",
    "def assign_pop_target(x):\n",
    "    if x.target == 25:\n",
    "        return np.nan\n",
    "    else:\n",
    "        return 1/(np.argsort(x.popularity)[::-1][x.target]+1)\n",
    "train_last['popularity_rr'] = train_last.apply(assign_pop_target, axis=1) "
   ]
  },
  {
   "cell_type": "code",
   "execution_count": null,
   "metadata": {},
   "outputs": [],
   "source": [
    "train_last.popularity_rr.dropna().mean()"
   ]
  },
  {
   "cell_type": "code",
   "execution_count": null,
   "metadata": {},
   "outputs": [],
   "source": [
    "prr = train_last['popularity_rr']\n",
    "ptarget = train_last['ptarget']\n",
    "train_last = train_last.drop(['ptarget', 'popularity', 'popularity_rr'], axis=1)"
   ]
  },
  {
   "cell_type": "code",
   "execution_count": null,
   "metadata": {},
   "outputs": [],
   "source": [
    "train_last = train_last.drop(['user_id', 'action_type', 'current_filters', 'impressions', 'cfs'], axis=1)"
   ]
  },
  {
   "cell_type": "code",
   "execution_count": null,
   "metadata": {},
   "outputs": [],
   "source": [
    "train_last.head()"
   ]
  },
  {
   "cell_type": "code",
   "execution_count": null,
   "metadata": {},
   "outputs": [],
   "source": [
    "price_df = pd.DataFrame(train_last.prices.to_list(), columns=[f'price_{i}' for i in range(25)])"
   ]
  },
  {
   "cell_type": "code",
   "execution_count": null,
   "metadata": {},
   "outputs": [],
   "source": [
    "del train_last['prices']\n",
    "train_last = pd.concat([train_last, price_df], axis=1)"
   ]
  },
  {
   "cell_type": "code",
   "execution_count": null,
   "metadata": {},
   "outputs": [],
   "source": [
    "train_last.head()"
   ]
  },
  {
   "cell_type": "code",
   "execution_count": null,
   "metadata": {},
   "outputs": [],
   "source": [
    "from sklearn.model_selection import StratifiedKFold, KFold\n",
    "folds = StratifiedKFold(n_splits=5)"
   ]
  },
  {
   "cell_type": "code",
   "execution_count": null,
   "metadata": {},
   "outputs": [],
   "source": [
    "targets = train_last.target.values\n",
    "sids = train_last.session_id.values\n",
    "train_last = train_last.drop(['session_id', 'reference', 'target'], axis=1)"
   ]
  },
  {
   "cell_type": "code",
   "execution_count": null,
   "metadata": {},
   "outputs": [],
   "source": [
    "from utils import check_gpu\n",
    "device = 'GPU' if check_gpu() else 'CPU'\n",
    "params = {'iterations': 300,\n",
    "          'learning_rate': 0.03,\n",
    "          'depth': 10,\n",
    "          'task_type': device,\n",
    "          'loss_function': 'MultiClass',\n",
    "          'custom_metric': ['MultiClass', 'Accuracy'],\n",
    "          'eval_metric': 'MultiClass'}"
   ]
  },
  {
   "cell_type": "code",
   "execution_count": null,
   "metadata": {},
   "outputs": [],
   "source": [
    "train_last.head()"
   ]
  },
  {
   "cell_type": "code",
   "execution_count": null,
   "metadata": {},
   "outputs": [],
   "source": [
    "categorical_cols = ['platform', 'city', 'country', 'device']\n",
    "# del train_last['data']\n",
    "# # categorical_cols = ['platform', 'city', 'country','device', 'data']\n",
    "# categorical_ind = [k for k, v in enumerate(train_last.columns) if v in categorical_cols]"
   ]
  },
  {
   "cell_type": "code",
   "execution_count": null,
   "metadata": {},
   "outputs": [],
   "source": [
    "def post_processing(x, pred):\n",
    "    pp = np.zeros(26)\n",
    "    pp[0] = 1\n",
    "    pp_mask = x.nimps == 1\n",
    "    if sum(pp_mask) == 0:\n",
    "        print('no length 1s to post-process')\n",
    "    else:\n",
    "        print(f'{sum(pp_mask)} length 1s post-processed')\n",
    "        pred[pp_mask] = np.tile(pp, (sum(pp_mask), 1))\n",
    "    return pred\n",
    "\n",
    "def cal_mrr(pred, ytrue, raw=False):\n",
    "    rr = 1/(np.where(np.argsort(pred)[:, ::-1] == ytrue.reshape(-1, 1))[1] + 1)\n",
    "    if raw:\n",
    "        return rr\n",
    "    else:\n",
    "        return np.mean(rr)"
   ]
  },
  {
   "cell_type": "code",
   "execution_count": null,
   "metadata": {},
   "outputs": [],
   "source": [
    "train_last.head()"
   ]
  },
  {
   "cell_type": "code",
   "execution_count": null,
   "metadata": {
    "scrolled": false
   },
   "outputs": [],
   "source": [
    "for fold, (trn_ind, val_ind) in enumerate(folds.split(targets, targets)):\n",
    "    print(f'train len: {len(trn_ind):,} val len: {len(val_ind):,}')\n",
    "    x_trn, y_trn = train_last.iloc[trn_ind], targets[trn_ind]\n",
    "#     x_trn_shuffle, y_trn_shuffle = \n",
    "    x_val, y_val = train_last.iloc[val_ind], targets[val_ind]\n",
    "#     x_val = x_val[x_val.data=='original']\n",
    "#     y_val = y_val[x_val.data=='original']\n",
    "#     del train_last['data'], x_trn['data'], x_val['data']\n",
    "    \n",
    "    # categorical_cols = ['platform', 'city', 'country','device', 'data']\n",
    "    categorical_ind = [k for k, v in enumerate(train_last.columns) if v in categorical_cols]\n",
    "\n",
    "    # train model\n",
    "    clf = cat.CatBoostClassifier(**params)\n",
    "    clf.fit(x_trn.values, y_trn,\n",
    "            cat_features=categorical_ind,\n",
    "            eval_set=(x_val.values, y_val),\n",
    "            early_stopping_rounds=100,\n",
    "            verbose=10,\n",
    "            plot=True)\n",
    "    \n",
    "    trn_pred = clf.predict_proba(x_trn.values)\n",
    "    val_pred = clf.predict_proba(x_val.values)\n",
    "    \n",
    "    trn_mrr = cal_mrr(trn_pred, y_trn)\n",
    "    val_mrr = cal_mrr(val_pred, y_val)\n",
    "    print(f'train: {trn_mrr:.5f}, val: {val_mrr:.5f}')\n",
    "    \n",
    "    ptrn_mrr = cal_mrr(post_processing(x_trn, trn_pred), y_trn)\n",
    "    pval_mrr = cal_mrr(post_processing(x_val, val_pred), y_val)\n",
    "    print(f'train: {ptrn_mrr:.5f}, val: {pval_mrr:.5f}')\n",
    "    \n",
    "    break"
   ]
  },
  {
   "cell_type": "markdown",
   "metadata": {},
   "source": [
    "NOTE: \n",
    "1) with shuffling impressions for all records, the performance goes down a lot mrr ~0.31\n",
    "2) if only shuffle the ones where current filters are nan, we got the slightly better result ~0.38"
   ]
  },
  {
   "cell_type": "code",
   "execution_count": null,
   "metadata": {},
   "outputs": [],
   "source": [
    "from utils import plot_imp_cat\n",
    "# get feature importance\n",
    "trn_imp = clf.get_feature_importance(data=cat.Pool(data=x_trn, cat_features=categorical_ind),\n",
    "                                     prettified=True)\n",
    "plot_imp_cat(trn_imp, fold, mrr={'train': trn_mrr, 'val': val_mrr})"
   ]
  },
  {
   "cell_type": "code",
   "execution_count": null,
   "metadata": {},
   "outputs": [],
   "source": []
  },
  {
   "cell_type": "markdown",
   "metadata": {},
   "source": [
    "### look at the distribution of prediction"
   ]
  },
  {
   "cell_type": "code",
   "execution_count": null,
   "metadata": {},
   "outputs": [],
   "source": [
    "# plt.subplot(212)\n",
    "# equivalent but more general\n",
    "fig, ax = plt.subplots(nrows=1, ncols=2)\n",
    "fig.suptitle('Predictions') \n",
    "_ = ax[0].hist(np.argmax(trn_pred, axis=1), bins=10)\n",
    "_ = ax[1].hist(np.argmax(trn_pred, axis=1), bins=10, density=True)\n",
    "_ = ax[0].set_xlim(-0.1, 24)\n",
    "_ = ax[1].set_xlim(-0.1, 24)"
   ]
  },
  {
   "cell_type": "code",
   "execution_count": null,
   "metadata": {},
   "outputs": [],
   "source": [
    "# _ = plt.hist(np.argmax(trn_pred, axis=0), bins=100)"
   ]
  },
  {
   "cell_type": "code",
   "execution_count": null,
   "metadata": {},
   "outputs": [],
   "source": [
    "# y_trn\n",
    "# _ = plt.hist(y_trn, bins=100)\n",
    "fig, ax = plt.subplots(nrows=1, ncols=2)\n",
    "fig.suptitle('True label') \n",
    "_ = ax[0].hist(y_trn, bins=50)\n",
    "_ = ax[1].hist(y_trn, bins=50, density=True)\n",
    "_ = ax[0].set_xlim(-0.1, 24)\n",
    "_ =ax[1].set_xlim(-0.1, 24)"
   ]
  },
  {
   "cell_type": "code",
   "execution_count": null,
   "metadata": {},
   "outputs": [],
   "source": [
    "# # y_trn\n",
    "# # _ = plt.hist(y_trn, bins=100)\n",
    "# fig, ax = plt.subplots(nrows=1, ncols=2)\n",
    "# fig.suptitle('True label') \n",
    "# _ = ax[0].hist(y_val, bins=50)\n",
    "# _ = ax[1].hist(y_val, bins=50, density=True)\n",
    "# _ = ax[0].set_xlim(-0.1, 24)\n",
    "# _ =ax[1].set_xlim(-0.1, 24)"
   ]
  },
  {
   "cell_type": "markdown",
   "metadata": {},
   "source": [
    "also look at the predictions if we use popularity rank"
   ]
  },
  {
   "cell_type": "code",
   "execution_count": null,
   "metadata": {},
   "outputs": [],
   "source": [
    "# plt.subplot(212)\n",
    "# equivalent but more general\n",
    "fig, ax = plt.subplots(nrows=1, ncols=2)\n",
    "fig.suptitle('popurlarity based') \n",
    "_ = ax[0].hist(ptarget, bins=20)\n",
    "_ = ax[1].hist(ptarget, bins=20, density=True)\n",
    "_ = ax[0].set_xlim(-0.1, 24)\n",
    "_ = ax[1].set_xlim(-0.1, 24)"
   ]
  },
  {
   "cell_type": "code",
   "execution_count": null,
   "metadata": {},
   "outputs": [],
   "source": [
    "# validation prediction\n",
    "# _ = plt.hist(np.argmax(val_pred, axis=0), bins=100)"
   ]
  },
  {
   "cell_type": "code",
   "execution_count": null,
   "metadata": {},
   "outputs": [],
   "source": [
    "# # plt.subplot(212)\n",
    "# # equivalent but more general\n",
    "# fig, ax = plt.subplots(nrows=1, ncols=2)\n",
    "# _ = ax[0].hist(np.argmax(val_pred, axis=1), bins=10)\n",
    "# _ = ax[1].hist(np.argmax(val_pred, axis=1), bins=10, density=True)\n",
    "# _ = ax[0].set_xlim(-0.1, 24)\n",
    "# _ = ax[1].set_xlim(-0.1, 24)"
   ]
  },
  {
   "cell_type": "markdown",
   "metadata": {},
   "source": [
    "### look at instances where the prediction was off"
   ]
  },
  {
   "cell_type": "code",
   "execution_count": null,
   "metadata": {},
   "outputs": [],
   "source": [
    "trn_rr = cal_mrr(trn_pred, y_trn, raw=True)"
   ]
  },
  {
   "cell_type": "code",
   "execution_count": null,
   "metadata": {},
   "outputs": [],
   "source": [
    "x_trn['rr'] = trn_rr"
   ]
  },
  {
   "cell_type": "code",
   "execution_count": null,
   "metadata": {},
   "outputs": [],
   "source": [
    "x_trn['rr'].hist(bins=100)"
   ]
  },
  {
   "cell_type": "code",
   "execution_count": null,
   "metadata": {},
   "outputs": [],
   "source": [
    "x_trn['rr'].value_counts(normalize=True).sort_index().cumsum()*100"
   ]
  },
  {
   "cell_type": "code",
   "execution_count": null,
   "metadata": {},
   "outputs": [],
   "source": [
    "th = 0.25\n",
    "demo_ids = sids[trn_ind][x_trn.rr<th]"
   ]
  },
  {
   "cell_type": "code",
   "execution_count": null,
   "metadata": {},
   "outputs": [],
   "source": [
    "# randomly select an id\n",
    "rid = np.random.choice(demo_ids, 1)[0]\n",
    "rid"
   ]
  },
  {
   "cell_type": "code",
   "execution_count": null,
   "metadata": {},
   "outputs": [],
   "source": [
    "rid = np.random.choice(demo_ids, 1)[0]\n",
    "print(rid)\n",
    "print(np.argmax(trn_pred[np.where(sids[trn_ind]==rid)]), y_trn[np.where(sids[trn_ind]==rid)])\n",
    "train[train.session_id==rid].drop(['user_id', 'session_id'], axis=1).reset_index(drop=True)"
   ]
  },
  {
   "cell_type": "code",
   "execution_count": null,
   "metadata": {},
   "outputs": [],
   "source": [
    "# trn_pred[np.where(sids[trn_ind]==rid)]"
   ]
  },
  {
   "cell_type": "code",
   "execution_count": null,
   "metadata": {},
   "outputs": [],
   "source": [
    "# np.argmax(trn_pred[np.where(sids[trn_ind]==rid)])"
   ]
  },
  {
   "cell_type": "code",
   "execution_count": null,
   "metadata": {},
   "outputs": [],
   "source": [
    "y_trn[np.where(sids[trn_ind]==rid)]"
   ]
  },
  {
   "cell_type": "code",
   "execution_count": null,
   "metadata": {
    "scrolled": true
   },
   "outputs": [],
   "source": [
    "x_trn.iloc[np.where(sids[trn_ind]==rid)]"
   ]
  },
  {
   "cell_type": "code",
   "execution_count": null,
   "metadata": {},
   "outputs": [],
   "source": [
    "y_trn[np.where(sids[trn_ind]==rid)]"
   ]
  },
  {
   "cell_type": "code",
   "execution_count": null,
   "metadata": {},
   "outputs": [],
   "source": [
    "train[train.session_id==rid].impressions.iloc[0]"
   ]
  },
  {
   "cell_type": "code",
   "execution_count": null,
   "metadata": {},
   "outputs": [],
   "source": []
  }
 ],
 "metadata": {
  "kernelspec": {
   "display_name": "Python 3",
   "language": "python",
   "name": "python3"
  },
  "language_info": {
   "codemirror_mode": {
    "name": "ipython",
    "version": 3
   },
   "file_extension": ".py",
   "mimetype": "text/x-python",
   "name": "python",
   "nbconvert_exporter": "python",
   "pygments_lexer": "ipython3",
   "version": "3.6.8"
  }
 },
 "nbformat": 4,
 "nbformat_minor": 2
}
