{
 "cells": [
  {
   "cell_type": "code",
   "execution_count": 1,
   "metadata": {},
   "outputs": [],
   "source": [
    "from utils import load_data, check_gpu, check_dir\n",
    "from clean_session import preprocess_sessions\n",
    "import pandas as pd\n",
    "import numpy as np\n",
    "from tqdm import tqdm\n",
    "import gc\n",
    "from functools import partial\n",
    "import matplotlib.pyplot as plt\n",
    "from clean_session import preprocess_sessions\n",
    "from create_model_inputs import prepare_data, compute_session_fts, create_model_inputs\n",
    "import datetime\n",
    "%matplotlib inline\n",
    "%load_ext autoreload\n",
    "%autoreload 2\n",
    "def fprint(df, name):\n",
    "    print(f'{name} shape: ({df.shape[0]:,}, {df.shape[1]})')\n",
    "import pprint\n",
    "pp = pprint.PrettyPrinter(indent=1)"
   ]
  },
  {
   "cell_type": "code",
   "execution_count": null,
   "metadata": {
    "scrolled": true
   },
   "outputs": [
    {
     "name": "stderr",
     "output_type": "stream",
     "text": [
      "[05-17 14:35:34 - utils-106 - load_data - INFO] Loading train using 1,000,000 rows (999,995 trimmed) which is 6.28% out of total train data\n",
      "[05-17 14:35:34 - create_model_inputs-17 - flogger - INFO] raw train shape: (999,995, 12)\n",
      "[05-17 14:35:34 - clean_session-60 - preprocess_sessions - INFO] Dropping duplicates\n",
      "[05-17 14:35:34 - clean_session-18 - remove_duplicates - INFO] Before dropping duplicates df shape: (999,995, 12)\n",
      "[05-17 14:35:35 - clean_session-21 - remove_duplicates - INFO] After dropping duplicates df shape: (421,117, 12)\n",
      "[05-17 14:35:35 - clean_session-62 - preprocess_sessions - INFO] Cliping session dataframe up to last click out (if there is clickout)\n",
      "[05-17 14:36:01 - clean_session-65 - preprocess_sessions - INFO] Filtering out sessions without clickouts, reference, or clickout is nan\n",
      "[05-17 14:36:01 - clean_session-66 - preprocess_sessions - INFO] train length before filtering no click-out, or nan reference and click-out sessions: 362,672\n"
     ]
    }
   ],
   "source": [
    "nrows = 1000000\n",
    "train = prepare_data('train', convert_action_type=False, nrows=nrows, recompute=True)\n",
    "df = compute_session_fts(train, 'train')"
   ]
  },
  {
   "cell_type": "code",
   "execution_count": null,
   "metadata": {},
   "outputs": [],
   "source": [
    "df = df.groupby('session_id').last().reset_index()\n",
    "# df['session_id_size'] = np.log(df['session_id_size'])\n",
    "# df['cfs'] = df['current_filters_last_filters'].str.lower().str.split('|')\n",
    "\n",
    "# df['prices'] = df['prices'].str.split('|')\n",
    "# df['prices'] = df['prices'].apply(lambda x: [int(p) for p in x])\n",
    "\n",
    "# df['time_steps'] = df['prices'].str.len()\n",
    "# padding_mask = df['time_steps'] < 25\n",
    "# df.loc[padding_mask, 'prices'] = df.loc[padding_mask, 'prices'].apply(lambda x: np.pad(x, (0, 25-len(x)),\n",
    "#                                                                                        mode='constant'))\n",
    "df['imps'] = df['impressions'].str.split('|')\n",
    "df['imps'] = df['imps'].apply(lambda x: [int(i) for i in x])\n",
    "# df.loc[padding_mask, 'impressions'] = (df.loc[padding_mask, 'impressions']\n",
    "#                                          .apply(lambda x: np.pad(x, (0, 25-len(x)),mode='constant')))\n",
    "df['reference'] = df['reference'].astype(int)\n",
    "# filter out nan rows with reference_id not in impressions list, since if the true target in test\n",
    "# is not in the impression list then it would not get evaluated\n",
    "def assign_target(row):\n",
    "    ref = row['reference']\n",
    "    imp = list(row['imps'])\n",
    "    if ref in imp:\n",
    "        return imp.index(ref)\n",
    "    else:\n",
    "        return np.nan\n",
    "\n",
    "df['target'] = df.apply(assign_target, axis=1)\n",
    "# drop the ones whose reference is not in the impression list\n",
    "df = df[df['target'].notna()].reset_index(drop=True)\n",
    "df['target'] = df['target'].astype(int)\n",
    "def assign_last_ref_id(row, divide=True):\n",
    "    ref = row['reference_last_reference_id']\n",
    "    # although reference_id got converted to int, but the reference_last_reference_id was calculated\n",
    "    # when it was still str value, so here we look up the index in str of impressions\n",
    "    imp = [str(i) for i in row['imps']]\n",
    "\n",
    "    if pd.isna(ref):\n",
    "        return np.nan\n",
    "    else:\n",
    "        if ref in imp:\n",
    "            if divide:\n",
    "                return (imp.index(ref) + 1) / len(imp)\n",
    "            else:\n",
    "                return imp.index(ref) + 1\n",
    "        else:\n",
    "            return np.nan\n",
    "assign_last_ref_id_func = partial(assign_last_ref_id, divide=False)\n",
    "df['last_ref_ind'] = df.apply(assign_last_ref_id_func, axis=1)"
   ]
  },
  {
   "cell_type": "markdown",
   "metadata": {},
   "source": [
    "### comapre session with size 1 and the rest"
   ]
  },
  {
   "cell_type": "code",
   "execution_count": null,
   "metadata": {},
   "outputs": [],
   "source": [
    "df.head(2)"
   ]
  },
  {
   "cell_type": "code",
   "execution_count": null,
   "metadata": {},
   "outputs": [],
   "source": [
    "ones = df[df['session_id_size']==1].reset_index(drop=True)\n",
    "multiples = df[df['session_id_size']>1].reset_index(drop=True)"
   ]
  },
  {
   "cell_type": "code",
   "execution_count": null,
   "metadata": {},
   "outputs": [],
   "source": [
    "oids = ones['session_id'].unique()\n",
    "mids = multiples['session_id'].unique()"
   ]
  },
  {
   "cell_type": "markdown",
   "metadata": {},
   "source": [
    "---\n",
    "### ones"
   ]
  },
  {
   "cell_type": "code",
   "execution_count": null,
   "metadata": {},
   "outputs": [],
   "source": [
    "display_cols = ['session_id', 'step', 'action_type', 'current_filters', 'reference', 'timestamp',\n",
    "                'impressions', 'prices', 'target', 'session_id_size']\n",
    "raw_display_cols = [c for c in train.columns if c in display_cols]"
   ]
  },
  {
   "cell_type": "code",
   "execution_count": null,
   "metadata": {},
   "outputs": [],
   "source": [
    "# pd.options.display.max_colwidth = 100"
   ]
  },
  {
   "cell_type": "code",
   "execution_count": null,
   "metadata": {},
   "outputs": [],
   "source": [
    "one_rid = np.random.choice(oids, 1)[0]\n",
    "print(one_rid)\n",
    "df[df.session_id==one_rid][display_cols].reset_index(drop=True)"
   ]
  },
  {
   "cell_type": "code",
   "execution_count": null,
   "metadata": {},
   "outputs": [],
   "source": [
    "pp.pprint(df[df.session_id==one_rid][display_cols].reset_index(drop=True).to_dict(orient='list'))"
   ]
  },
  {
   "cell_type": "code",
   "execution_count": null,
   "metadata": {},
   "outputs": [],
   "source": [
    "# and the raw\n",
    "train[train.session_id==one_rid][raw_display_cols].reset_index(drop=True)"
   ]
  },
  {
   "cell_type": "code",
   "execution_count": null,
   "metadata": {},
   "outputs": [],
   "source": [
    "pp.pprint(train[train.session_id==one_rid][raw_display_cols].reset_index(drop=True).to_dict(orient='list'))"
   ]
  },
  {
   "cell_type": "markdown",
   "metadata": {},
   "source": [
    "---\n",
    "### Longer"
   ]
  },
  {
   "cell_type": "code",
   "execution_count": null,
   "metadata": {},
   "outputs": [],
   "source": [
    "mid_rid = np.random.choice(mids, 1)[0]\n",
    "# df[df.session_id==mid_rid][display_cols].reset_index(drop=True)"
   ]
  },
  {
   "cell_type": "code",
   "execution_count": null,
   "metadata": {},
   "outputs": [],
   "source": [
    "np.sort([int(i) for i in df[df.session_id==mid_rid]['prices'].str.split('|').values[0]])"
   ]
  },
  {
   "cell_type": "code",
   "execution_count": null,
   "metadata": {},
   "outputs": [],
   "source": [
    "# pp.pprint(df[df.session_id==mid_rid][display_cols].reset_index(drop=True).to_dict(orient='list'))"
   ]
  },
  {
   "cell_type": "code",
   "execution_count": null,
   "metadata": {
    "scrolled": true
   },
   "outputs": [],
   "source": [
    "# the raw\n",
    "train[train.session_id==mid_rid][raw_display_cols].reset_index(drop=True)"
   ]
  },
  {
   "cell_type": "code",
   "execution_count": null,
   "metadata": {
    "scrolled": false
   },
   "outputs": [],
   "source": [
    "pp.pprint(train[train.session_id==mid_rid][raw_display_cols].reset_index(drop=True).to_dict(orient='list'))"
   ]
  },
  {
   "cell_type": "code",
   "execution_count": null,
   "metadata": {},
   "outputs": [],
   "source": []
  },
  {
   "cell_type": "code",
   "execution_count": null,
   "metadata": {},
   "outputs": [],
   "source": [
    "# dup_mask = train[[c for c in train.columns if c not in ['timestamp', 'step']]].duplicated(keep=False)\n",
    "# dup_mask.sum()"
   ]
  },
  {
   "cell_type": "code",
   "execution_count": null,
   "metadata": {
    "scrolled": false
   },
   "outputs": [],
   "source": [
    "# dup_cols = [c for c in train.columns if c not in ['timestamp', 'step']]\n",
    "# # train[dup_cols].loc[train[dup_cols].shift(-1) != train[dup_cols]]\n",
    "# train.groupby(dup_cols).apply(lambda x: )"
   ]
  },
  {
   "cell_type": "code",
   "execution_count": null,
   "metadata": {},
   "outputs": [],
   "source": [
    "train.shape"
   ]
  },
  {
   "cell_type": "code",
   "execution_count": null,
   "metadata": {},
   "outputs": [],
   "source": [
    "99508/train.shape[0]"
   ]
  },
  {
   "cell_type": "markdown",
   "metadata": {},
   "source": [
    "### Click-encodings"
   ]
  },
  {
   "cell_type": "code",
   "execution_count": null,
   "metadata": {},
   "outputs": [],
   "source": [
    "from create_model_inputs import click_view_encoding\n",
    "_ = click_view_encoding(sids=None, fold='testing', m=5)"
   ]
  },
  {
   "cell_type": "code",
   "execution_count": null,
   "metadata": {},
   "outputs": [],
   "source": [
    "cv_enc = pd.read_csv('./cache/foldtesting_clickview_encodings.csv')"
   ]
  },
  {
   "cell_type": "code",
   "execution_count": null,
   "metadata": {},
   "outputs": [],
   "source": [
    "cv_enc.shape"
   ]
  },
  {
   "cell_type": "code",
   "execution_count": null,
   "metadata": {},
   "outputs": [],
   "source": [
    "cv_enc['clicked'].hist(bins=100)"
   ]
  },
  {
   "cell_type": "code",
   "execution_count": null,
   "metadata": {},
   "outputs": [],
   "source": []
  }
 ],
 "metadata": {
  "kernelspec": {
   "display_name": "Python 3",
   "language": "python",
   "name": "python3"
  },
  "language_info": {
   "codemirror_mode": {
    "name": "ipython",
    "version": 3
   },
   "file_extension": ".py",
   "mimetype": "text/x-python",
   "name": "python",
   "nbconvert_exporter": "python",
   "pygments_lexer": "ipython3",
   "version": "3.7.1"
  }
 },
 "nbformat": 4,
 "nbformat_minor": 2
}
