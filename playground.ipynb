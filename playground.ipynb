{
 "cells": [
  {
   "cell_type": "code",
   "execution_count": 1,
   "metadata": {},
   "outputs": [],
   "source": [
    "from utils import load_data, check_gpu, check_dir\n",
    "from clean_session import preprocess_sessions\n",
    "import pandas as pd\n",
    "import numpy as np\n",
    "from tqdm import tqdm\n",
    "import gc\n",
    "from functools import partial\n",
    "import matplotlib.pyplot as plt\n",
    "from clean_session import preprocess_sessions\n",
    "from create_model_inputs import prepare_data, compute_session_fts, create_model_inputs\n",
    "import datetime\n",
    "%matplotlib inline\n",
    "%load_ext autoreload\n",
    "%autoreload 2\n",
    "def fprint(df, name):\n",
    "    print(f'{name} shape: ({df.shape[0]:,}, {df.shape[1]})')\n",
    "import pprint\n",
    "pp = pprint.PrettyPrinter(indent=1)"
   ]
  },
  {
   "cell_type": "code",
   "execution_count": 3,
   "metadata": {
    "scrolled": true
   },
   "outputs": [
    {
     "name": "stderr",
     "output_type": "stream",
     "text": [
      "[05-14 19:49:27 - create_model_inputs-179 - compute_session_fts - INFO] Session features generated: ['timestamp_session_duration', 'timestamp_dwell_time_prior_clickout', 'current_filters_last_filters', 'session_id_size', 'reference_last_reference_id']\n"
     ]
    }
   ],
   "source": [
    "nrows = 1000000\n",
    "train = prepare_data('train', convert_action_type=False, nrows=nrows, recompute=True)\n",
    "df = compute_session_fts(train, 'train')"
   ]
  },
  {
   "cell_type": "code",
   "execution_count": 6,
   "metadata": {},
   "outputs": [],
   "source": [
    "df = df.groupby('session_id').last().reset_index()\n",
    "# df['session_id_size'] = np.log(df['session_id_size'])\n",
    "# df['cfs'] = df['current_filters_last_filters'].str.lower().str.split('|')\n",
    "\n",
    "# df['prices'] = df['prices'].str.split('|')\n",
    "# df['prices'] = df['prices'].apply(lambda x: [int(p) for p in x])\n",
    "\n",
    "# df['time_steps'] = df['prices'].str.len()\n",
    "# padding_mask = df['time_steps'] < 25\n",
    "# df.loc[padding_mask, 'prices'] = df.loc[padding_mask, 'prices'].apply(lambda x: np.pad(x, (0, 25-len(x)),\n",
    "#                                                                                        mode='constant'))\n",
    "df['imps'] = df['impressions'].str.split('|')\n",
    "df['imps'] = df['imps'].apply(lambda x: [int(i) for i in x])\n",
    "# df.loc[padding_mask, 'impressions'] = (df.loc[padding_mask, 'impressions']\n",
    "#                                          .apply(lambda x: np.pad(x, (0, 25-len(x)),mode='constant')))\n",
    "df['reference'] = df['reference'].astype(int)\n",
    "# filter out nan rows with reference_id not in impressions list, since if the true target in test\n",
    "# is not in the impression list then it would not get evaluated\n",
    "def assign_target(row):\n",
    "    ref = row['reference']\n",
    "    imp = list(row['imps'])\n",
    "    if ref in imp:\n",
    "        return imp.index(ref)\n",
    "    else:\n",
    "        return np.nan\n",
    "\n",
    "df['target'] = df.apply(assign_target, axis=1)\n",
    "# drop the ones whose reference is not in the impression list\n",
    "df = df[df['target'].notna()].reset_index(drop=True)\n",
    "df['target'] = df['target'].astype(int)\n",
    "def assign_last_ref_id(row, divide=True):\n",
    "    ref = row['reference_last_reference_id']\n",
    "    # although reference_id got converted to int, but the reference_last_reference_id was calculated\n",
    "    # when it was still str value, so here we look up the index in str of impressions\n",
    "    imp = [str(i) for i in row['imps']]\n",
    "\n",
    "    if pd.isna(ref):\n",
    "        return np.nan\n",
    "    else:\n",
    "        if ref in imp:\n",
    "            if divide:\n",
    "                return (imp.index(ref) + 1) / len(imp)\n",
    "            else:\n",
    "                return imp.index(ref) + 1\n",
    "        else:\n",
    "            return np.nan\n",
    "assign_last_ref_id_func = partial(assign_last_ref_id, divide=False)\n",
    "df['last_ref_ind'] = df.apply(assign_last_ref_id_func, axis=1)"
   ]
  },
  {
   "cell_type": "markdown",
   "metadata": {},
   "source": [
    "### comapre session with size 1 and the rest"
   ]
  },
  {
   "cell_type": "code",
   "execution_count": 8,
   "metadata": {},
   "outputs": [
    {
     "data": {
      "text/html": [
       "<div>\n",
       "<style scoped>\n",
       "    .dataframe tbody tr th:only-of-type {\n",
       "        vertical-align: middle;\n",
       "    }\n",
       "\n",
       "    .dataframe tbody tr th {\n",
       "        vertical-align: top;\n",
       "    }\n",
       "\n",
       "    .dataframe thead th {\n",
       "        text-align: right;\n",
       "    }\n",
       "</style>\n",
       "<table border=\"1\" class=\"dataframe\">\n",
       "  <thead>\n",
       "    <tr style=\"text-align: right;\">\n",
       "      <th></th>\n",
       "      <th>session_id</th>\n",
       "      <th>user_id</th>\n",
       "      <th>timestamp</th>\n",
       "      <th>step</th>\n",
       "      <th>action_type</th>\n",
       "      <th>current_filters</th>\n",
       "      <th>reference</th>\n",
       "      <th>impressions</th>\n",
       "      <th>prices</th>\n",
       "      <th>timestamp_session_duration</th>\n",
       "      <th>timestamp_dwell_time_prior_clickout</th>\n",
       "      <th>current_filters_last_filters</th>\n",
       "      <th>session_id_size</th>\n",
       "      <th>reference_last_reference_id</th>\n",
       "      <th>imps</th>\n",
       "      <th>target</th>\n",
       "      <th>last_ref_ind</th>\n",
       "    </tr>\n",
       "  </thead>\n",
       "  <tbody>\n",
       "    <tr>\n",
       "      <th>0</th>\n",
       "      <td>000263df674fa</td>\n",
       "      <td>C2D58CUH9AOT</td>\n",
       "      <td>2018-11-05 20:36:38</td>\n",
       "      <td>5</td>\n",
       "      <td>clickout item</td>\n",
       "      <td>NaN</td>\n",
       "      <td>8249</td>\n",
       "      <td>8249|8250|14378|67361|8284|8257|1955219|8254|6...</td>\n",
       "      <td>74|88|87|72|56|87|244|168|123|50|129|72|151|83...</td>\n",
       "      <td>293.0</td>\n",
       "      <td>236.0</td>\n",
       "      <td>NaN</td>\n",
       "      <td>5</td>\n",
       "      <td>8249</td>\n",
       "      <td>[8249, 8250, 14378, 67361, 8284, 8257, 1955219...</td>\n",
       "      <td>0</td>\n",
       "      <td>0.04</td>\n",
       "    </tr>\n",
       "    <tr>\n",
       "      <th>1</th>\n",
       "      <td>0002ccee5a980</td>\n",
       "      <td>M2E4246PL9XQ</td>\n",
       "      <td>2018-11-06 10:30:13</td>\n",
       "      <td>3</td>\n",
       "      <td>clickout item</td>\n",
       "      <td>NaN</td>\n",
       "      <td>109489</td>\n",
       "      <td>118737|1305086|4621782|1397441|53118|766713|92...</td>\n",
       "      <td>79|241|96|51|68|99|86|69|71|79|91|67|70|56|82|...</td>\n",
       "      <td>1.0</td>\n",
       "      <td>1.0</td>\n",
       "      <td>NaN</td>\n",
       "      <td>2</td>\n",
       "      <td>109489</td>\n",
       "      <td>[118737, 1305086, 4621782, 1397441, 53118, 766...</td>\n",
       "      <td>19</td>\n",
       "      <td>0.80</td>\n",
       "    </tr>\n",
       "  </tbody>\n",
       "</table>\n",
       "</div>"
      ],
      "text/plain": [
       "      session_id       user_id           timestamp  step    action_type  \\\n",
       "0  000263df674fa  C2D58CUH9AOT 2018-11-05 20:36:38     5  clickout item   \n",
       "1  0002ccee5a980  M2E4246PL9XQ 2018-11-06 10:30:13     3  clickout item   \n",
       "\n",
       "  current_filters  reference  \\\n",
       "0             NaN       8249   \n",
       "1             NaN     109489   \n",
       "\n",
       "                                         impressions  \\\n",
       "0  8249|8250|14378|67361|8284|8257|1955219|8254|6...   \n",
       "1  118737|1305086|4621782|1397441|53118|766713|92...   \n",
       "\n",
       "                                              prices  \\\n",
       "0  74|88|87|72|56|87|244|168|123|50|129|72|151|83...   \n",
       "1  79|241|96|51|68|99|86|69|71|79|91|67|70|56|82|...   \n",
       "\n",
       "   timestamp_session_duration  timestamp_dwell_time_prior_clickout  \\\n",
       "0                       293.0                                236.0   \n",
       "1                         1.0                                  1.0   \n",
       "\n",
       "  current_filters_last_filters  session_id_size reference_last_reference_id  \\\n",
       "0                          NaN                5                        8249   \n",
       "1                          NaN                2                      109489   \n",
       "\n",
       "                                                imps  target  last_ref_ind  \n",
       "0  [8249, 8250, 14378, 67361, 8284, 8257, 1955219...       0          0.04  \n",
       "1  [118737, 1305086, 4621782, 1397441, 53118, 766...      19          0.80  "
      ]
     },
     "execution_count": 8,
     "metadata": {},
     "output_type": "execute_result"
    }
   ],
   "source": [
    "df.head(2)"
   ]
  },
  {
   "cell_type": "code",
   "execution_count": 9,
   "metadata": {},
   "outputs": [],
   "source": [
    "ones = df[df['session_id_size']==1].reset_index(drop=True)\n",
    "multiples = df[df['session_id_size']>1].reset_index(drop=True)"
   ]
  },
  {
   "cell_type": "code",
   "execution_count": 10,
   "metadata": {},
   "outputs": [],
   "source": [
    "oids = ones['session_id'].unique()\n",
    "mids = multiples['session_id'].unique()"
   ]
  },
  {
   "cell_type": "markdown",
   "metadata": {},
   "source": [
    "---\n",
    "### ones"
   ]
  },
  {
   "cell_type": "code",
   "execution_count": 170,
   "metadata": {},
   "outputs": [],
   "source": [
    "display_cols = ['session_id', 'step', 'action_type', 'current_filters', 'reference', 'timestamp',\n",
    "                'impressions', 'prices', 'target', 'session_id_size']\n",
    "raw_display_cols = [c for c in train.columns if c in display_cols]"
   ]
  },
  {
   "cell_type": "code",
   "execution_count": 105,
   "metadata": {},
   "outputs": [],
   "source": [
    "# pd.options.display.max_colwidth = 100"
   ]
  },
  {
   "cell_type": "code",
   "execution_count": 115,
   "metadata": {},
   "outputs": [
    {
     "name": "stdout",
     "output_type": "stream",
     "text": [
      "ed424f52a9bd1\n"
     ]
    },
    {
     "data": {
      "text/html": [
       "<div>\n",
       "<style scoped>\n",
       "    .dataframe tbody tr th:only-of-type {\n",
       "        vertical-align: middle;\n",
       "    }\n",
       "\n",
       "    .dataframe tbody tr th {\n",
       "        vertical-align: top;\n",
       "    }\n",
       "\n",
       "    .dataframe thead th {\n",
       "        text-align: right;\n",
       "    }\n",
       "</style>\n",
       "<table border=\"1\" class=\"dataframe\">\n",
       "  <thead>\n",
       "    <tr style=\"text-align: right;\">\n",
       "      <th></th>\n",
       "      <th>session_id</th>\n",
       "      <th>step</th>\n",
       "      <th>action_type</th>\n",
       "      <th>current_filters</th>\n",
       "      <th>reference</th>\n",
       "      <th>impressions</th>\n",
       "      <th>prices</th>\n",
       "      <th>target</th>\n",
       "      <th>session_id_size</th>\n",
       "    </tr>\n",
       "  </thead>\n",
       "  <tbody>\n",
       "    <tr>\n",
       "      <th>0</th>\n",
       "      <td>ed424f52a9bd1</td>\n",
       "      <td>1</td>\n",
       "      <td>clickout item</td>\n",
       "      <td>NaN</td>\n",
       "      <td>4074298</td>\n",
       "      <td>1107100|1088658|2686072|4074298|2340840|1027662|6958594|1108477|100869|350756|7200582|350946|210...</td>\n",
       "      <td>93|27|37|17|54|48|60|22|25|23|51|41|99|38|60|28|25|17|39|46|69|61|66|23|99</td>\n",
       "      <td>3</td>\n",
       "      <td>1</td>\n",
       "    </tr>\n",
       "  </tbody>\n",
       "</table>\n",
       "</div>"
      ],
      "text/plain": [
       "      session_id  step    action_type current_filters  reference  \\\n",
       "0  ed424f52a9bd1     1  clickout item             NaN    4074298   \n",
       "\n",
       "                                                                                           impressions  \\\n",
       "0  1107100|1088658|2686072|4074298|2340840|1027662|6958594|1108477|100869|350756|7200582|350946|210...   \n",
       "\n",
       "                                                                       prices  \\\n",
       "0  93|27|37|17|54|48|60|22|25|23|51|41|99|38|60|28|25|17|39|46|69|61|66|23|99   \n",
       "\n",
       "   target  session_id_size  \n",
       "0       3                1  "
      ]
     },
     "execution_count": 115,
     "metadata": {},
     "output_type": "execute_result"
    }
   ],
   "source": [
    "one_rid = np.random.choice(oids, 1)[0]\n",
    "print(one_rid)\n",
    "df[df.session_id==one_rid][display_cols].reset_index(drop=True)"
   ]
  },
  {
   "cell_type": "code",
   "execution_count": 116,
   "metadata": {},
   "outputs": [
    {
     "name": "stdout",
     "output_type": "stream",
     "text": [
      "{'action_type': ['clickout item'],\n",
      " 'current_filters': [nan],\n",
      " 'impressions': ['1107100|1088658|2686072|4074298|2340840|1027662|6958594|1108477|100869|350756|7200582|350946|2100134|100882|1704651|1553063|2430532|350751|1557355|7200206|5962152|2096974|350901|100851|392031'],\n",
      " 'prices': ['93|27|37|17|54|48|60|22|25|23|51|41|99|38|60|28|25|17|39|46|69|61|66|23|99'],\n",
      " 'reference': [4074298],\n",
      " 'session_id': ['ed424f52a9bd1'],\n",
      " 'session_id_size': [1],\n",
      " 'step': [1],\n",
      " 'target': [3]}\n"
     ]
    }
   ],
   "source": [
    "pp.pprint(df[df.session_id==one_rid][display_cols].reset_index(drop=True).to_dict(orient='list'))"
   ]
  },
  {
   "cell_type": "code",
   "execution_count": 117,
   "metadata": {},
   "outputs": [
    {
     "data": {
      "text/html": [
       "<div>\n",
       "<style scoped>\n",
       "    .dataframe tbody tr th:only-of-type {\n",
       "        vertical-align: middle;\n",
       "    }\n",
       "\n",
       "    .dataframe tbody tr th {\n",
       "        vertical-align: top;\n",
       "    }\n",
       "\n",
       "    .dataframe thead th {\n",
       "        text-align: right;\n",
       "    }\n",
       "</style>\n",
       "<table border=\"1\" class=\"dataframe\">\n",
       "  <thead>\n",
       "    <tr style=\"text-align: right;\">\n",
       "      <th></th>\n",
       "      <th>session_id</th>\n",
       "      <th>step</th>\n",
       "      <th>action_type</th>\n",
       "      <th>current_filters</th>\n",
       "      <th>reference</th>\n",
       "      <th>impressions</th>\n",
       "      <th>prices</th>\n",
       "    </tr>\n",
       "  </thead>\n",
       "  <tbody>\n",
       "    <tr>\n",
       "      <th>0</th>\n",
       "      <td>ed424f52a9bd1</td>\n",
       "      <td>1</td>\n",
       "      <td>clickout item</td>\n",
       "      <td>NaN</td>\n",
       "      <td>4074298</td>\n",
       "      <td>1107100|1088658|2686072|4074298|2340840|1027662|6958594|1108477|100869|350756|7200582|350946|210...</td>\n",
       "      <td>93|27|37|17|54|48|60|22|25|23|51|41|99|38|60|28|25|17|39|46|69|61|66|23|99</td>\n",
       "    </tr>\n",
       "  </tbody>\n",
       "</table>\n",
       "</div>"
      ],
      "text/plain": [
       "      session_id  step    action_type current_filters reference  \\\n",
       "0  ed424f52a9bd1     1  clickout item             NaN   4074298   \n",
       "\n",
       "                                                                                           impressions  \\\n",
       "0  1107100|1088658|2686072|4074298|2340840|1027662|6958594|1108477|100869|350756|7200582|350946|210...   \n",
       "\n",
       "                                                                       prices  \n",
       "0  93|27|37|17|54|48|60|22|25|23|51|41|99|38|60|28|25|17|39|46|69|61|66|23|99  "
      ]
     },
     "execution_count": 117,
     "metadata": {},
     "output_type": "execute_result"
    }
   ],
   "source": [
    "# and the raw\n",
    "train[train.session_id==one_rid][raw_display_cols].reset_index(drop=True)"
   ]
  },
  {
   "cell_type": "code",
   "execution_count": 118,
   "metadata": {},
   "outputs": [
    {
     "name": "stdout",
     "output_type": "stream",
     "text": [
      "{'action_type': ['clickout item'],\n",
      " 'current_filters': [nan],\n",
      " 'impressions': ['1107100|1088658|2686072|4074298|2340840|1027662|6958594|1108477|100869|350756|7200582|350946|2100134|100882|1704651|1553063|2430532|350751|1557355|7200206|5962152|2096974|350901|100851|392031'],\n",
      " 'prices': ['93|27|37|17|54|48|60|22|25|23|51|41|99|38|60|28|25|17|39|46|69|61|66|23|99'],\n",
      " 'reference': ['4074298'],\n",
      " 'session_id': ['ed424f52a9bd1'],\n",
      " 'step': [1]}\n"
     ]
    }
   ],
   "source": [
    "pp.pprint(train[train.session_id==one_rid][raw_display_cols].reset_index(drop=True).to_dict(orient='list'))"
   ]
  },
  {
   "cell_type": "markdown",
   "metadata": {},
   "source": [
    "---\n",
    "### Longer"
   ]
  },
  {
   "cell_type": "code",
   "execution_count": 205,
   "metadata": {},
   "outputs": [],
   "source": [
    "mid_rid = np.random.choice(mids, 1)[0]\n",
    "# df[df.session_id==mid_rid][display_cols].reset_index(drop=True)"
   ]
  },
  {
   "cell_type": "code",
   "execution_count": 206,
   "metadata": {},
   "outputs": [
    {
     "data": {
      "text/plain": [
       "array([18, 18, 22, 23, 25, 26, 26, 27, 28, 31, 32, 32, 33, 34, 36, 36, 36,\n",
       "       39, 40, 40, 47, 47, 54, 59, 64])"
      ]
     },
     "execution_count": 206,
     "metadata": {},
     "output_type": "execute_result"
    }
   ],
   "source": [
    "np.sort([int(i) for i in df[df.session_id==mid_rid]['prices'].str.split('|').values[0]])"
   ]
  },
  {
   "cell_type": "code",
   "execution_count": 207,
   "metadata": {},
   "outputs": [],
   "source": [
    "# pp.pprint(df[df.session_id==mid_rid][display_cols].reset_index(drop=True).to_dict(orient='list'))"
   ]
  },
  {
   "cell_type": "code",
   "execution_count": 208,
   "metadata": {
    "scrolled": true
   },
   "outputs": [
    {
     "data": {
      "text/html": [
       "<div>\n",
       "<style scoped>\n",
       "    .dataframe tbody tr th:only-of-type {\n",
       "        vertical-align: middle;\n",
       "    }\n",
       "\n",
       "    .dataframe tbody tr th {\n",
       "        vertical-align: top;\n",
       "    }\n",
       "\n",
       "    .dataframe thead th {\n",
       "        text-align: right;\n",
       "    }\n",
       "</style>\n",
       "<table border=\"1\" class=\"dataframe\">\n",
       "  <thead>\n",
       "    <tr style=\"text-align: right;\">\n",
       "      <th></th>\n",
       "      <th>session_id</th>\n",
       "      <th>timestamp</th>\n",
       "      <th>step</th>\n",
       "      <th>action_type</th>\n",
       "      <th>current_filters</th>\n",
       "      <th>reference</th>\n",
       "      <th>impressions</th>\n",
       "      <th>prices</th>\n",
       "    </tr>\n",
       "  </thead>\n",
       "  <tbody>\n",
       "    <tr>\n",
       "      <th>0</th>\n",
       "      <td>99fd8493425de</td>\n",
       "      <td>2018-11-05 23:36:14</td>\n",
       "      <td>1</td>\n",
       "      <td>clickout item</td>\n",
       "      <td>NaN</td>\n",
       "      <td>2616758</td>\n",
       "      <td>2024547|6005436|1288340|3456506|1998987|1996107|4050726|1962445|1887447|2304486|6264470|2616758|...</td>\n",
       "      <td>26|54|34|47|32|36|32|59|39|47|31|40|64|36|40|28|27|33|36|18|39|34|44|18|36</td>\n",
       "    </tr>\n",
       "    <tr>\n",
       "      <th>1</th>\n",
       "      <td>99fd8493425de</td>\n",
       "      <td>2018-11-05 23:40:08</td>\n",
       "      <td>2</td>\n",
       "      <td>clickout item</td>\n",
       "      <td>NaN</td>\n",
       "      <td>2024547</td>\n",
       "      <td>2024547|4069946|478316|8265516|7936218|8299154|6793528|7851528|8122086|6005436|1288340|3456506|1...</td>\n",
       "      <td>26|28|27|18|18|26|23|25|22|54|34|47|32|36|32|59|39|47|31|40|64|36|40|33|36</td>\n",
       "    </tr>\n",
       "  </tbody>\n",
       "</table>\n",
       "</div>"
      ],
      "text/plain": [
       "      session_id           timestamp  step    action_type current_filters  \\\n",
       "0  99fd8493425de 2018-11-05 23:36:14     1  clickout item             NaN   \n",
       "1  99fd8493425de 2018-11-05 23:40:08     2  clickout item             NaN   \n",
       "\n",
       "  reference  \\\n",
       "0   2616758   \n",
       "1   2024547   \n",
       "\n",
       "                                                                                           impressions  \\\n",
       "0  2024547|6005436|1288340|3456506|1998987|1996107|4050726|1962445|1887447|2304486|6264470|2616758|...   \n",
       "1  2024547|4069946|478316|8265516|7936218|8299154|6793528|7851528|8122086|6005436|1288340|3456506|1...   \n",
       "\n",
       "                                                                       prices  \n",
       "0  26|54|34|47|32|36|32|59|39|47|31|40|64|36|40|28|27|33|36|18|39|34|44|18|36  \n",
       "1  26|28|27|18|18|26|23|25|22|54|34|47|32|36|32|59|39|47|31|40|64|36|40|33|36  "
      ]
     },
     "execution_count": 208,
     "metadata": {},
     "output_type": "execute_result"
    }
   ],
   "source": [
    "# the raw\n",
    "train[train.session_id==mid_rid][raw_display_cols].reset_index(drop=True)"
   ]
  },
  {
   "cell_type": "code",
   "execution_count": 209,
   "metadata": {
    "scrolled": false
   },
   "outputs": [
    {
     "name": "stdout",
     "output_type": "stream",
     "text": [
      "{'action_type': ['clickout item', 'clickout item'],\n",
      " 'current_filters': [nan, nan],\n",
      " 'impressions': ['2024547|6005436|1288340|3456506|1998987|1996107|4050726|1962445|1887447|2304486|6264470|2616758|1708747|2024615|3219674|4069946|478316|1995277|3184812|8265516|1948623|4077612|2289820|7936218|4406744',\n",
      "                 '2024547|4069946|478316|8265516|7936218|8299154|6793528|7851528|8122086|6005436|1288340|3456506|1998987|1996107|4050726|1962445|1887447|2304486|6264470|2616758|1708747|2024615|3219674|1995277|3184812'],\n",
      " 'prices': ['26|54|34|47|32|36|32|59|39|47|31|40|64|36|40|28|27|33|36|18|39|34|44|18|36',\n",
      "            '26|28|27|18|18|26|23|25|22|54|34|47|32|36|32|59|39|47|31|40|64|36|40|33|36'],\n",
      " 'reference': ['2616758', '2024547'],\n",
      " 'session_id': ['99fd8493425de', '99fd8493425de'],\n",
      " 'step': [1, 2],\n",
      " 'timestamp': [Timestamp('2018-11-05 23:36:14'),\n",
      "               Timestamp('2018-11-05 23:40:08')]}\n"
     ]
    }
   ],
   "source": [
    "pp.pprint(train[train.session_id==mid_rid][raw_display_cols].reset_index(drop=True).to_dict(orient='list'))"
   ]
  },
  {
   "cell_type": "code",
   "execution_count": null,
   "metadata": {},
   "outputs": [],
   "source": []
  },
  {
   "cell_type": "code",
   "execution_count": 186,
   "metadata": {},
   "outputs": [],
   "source": [
    "# dup_mask = train[[c for c in train.columns if c not in ['timestamp', 'step']]].duplicated(keep=False)\n",
    "# dup_mask.sum()"
   ]
  },
  {
   "cell_type": "code",
   "execution_count": 185,
   "metadata": {
    "scrolled": false
   },
   "outputs": [],
   "source": [
    "# dup_cols = [c for c in train.columns if c not in ['timestamp', 'step']]\n",
    "# # train[dup_cols].loc[train[dup_cols].shift(-1) != train[dup_cols]]\n",
    "# train.groupby(dup_cols).apply(lambda x: )"
   ]
  },
  {
   "cell_type": "code",
   "execution_count": 173,
   "metadata": {},
   "outputs": [
    {
     "data": {
      "text/plain": [
       "(326695, 9)"
      ]
     },
     "execution_count": 173,
     "metadata": {},
     "output_type": "execute_result"
    }
   ],
   "source": [
    "train.shape"
   ]
  },
  {
   "cell_type": "code",
   "execution_count": 174,
   "metadata": {},
   "outputs": [
    {
     "data": {
      "text/plain": [
       "0.3045899080181821"
      ]
     },
     "execution_count": 174,
     "metadata": {},
     "output_type": "execute_result"
    }
   ],
   "source": [
    "99508/train.shape[0]"
   ]
  },
  {
   "cell_type": "code",
   "execution_count": 2,
   "metadata": {},
   "outputs": [
    {
     "name": "stderr",
     "output_type": "stream",
     "text": [
      "[05-26 15:51:47 - utils-106 - load_data - INFO] Loading train using 1,000 rows (993 trimmed) which is 0.01% out of total train data\n"
     ]
    }
   ],
   "source": [
    "a = load_data('train', nrows=1000)"
   ]
  },
  {
   "cell_type": "code",
   "execution_count": 3,
   "metadata": {},
   "outputs": [
    {
     "data": {
      "text/html": [
       "<div>\n",
       "<style scoped>\n",
       "    .dataframe tbody tr th:only-of-type {\n",
       "        vertical-align: middle;\n",
       "    }\n",
       "\n",
       "    .dataframe tbody tr th {\n",
       "        vertical-align: top;\n",
       "    }\n",
       "\n",
       "    .dataframe thead th {\n",
       "        text-align: right;\n",
       "    }\n",
       "</style>\n",
       "<table border=\"1\" class=\"dataframe\">\n",
       "  <thead>\n",
       "    <tr style=\"text-align: right;\">\n",
       "      <th></th>\n",
       "      <th>user_id</th>\n",
       "      <th>session_id</th>\n",
       "      <th>timestamp</th>\n",
       "      <th>step</th>\n",
       "      <th>action_type</th>\n",
       "      <th>reference</th>\n",
       "      <th>platform</th>\n",
       "      <th>city</th>\n",
       "      <th>device</th>\n",
       "      <th>current_filters</th>\n",
       "      <th>impressions</th>\n",
       "      <th>prices</th>\n",
       "    </tr>\n",
       "  </thead>\n",
       "  <tbody>\n",
       "    <tr>\n",
       "      <th>0</th>\n",
       "      <td>00RL8Z82B2Z1</td>\n",
       "      <td>aff3928535f48</td>\n",
       "      <td>1541037460</td>\n",
       "      <td>1</td>\n",
       "      <td>search for poi</td>\n",
       "      <td>Newtown</td>\n",
       "      <td>AU</td>\n",
       "      <td>Sydney, Australia</td>\n",
       "      <td>mobile</td>\n",
       "      <td>NaN</td>\n",
       "      <td>NaN</td>\n",
       "      <td>NaN</td>\n",
       "    </tr>\n",
       "    <tr>\n",
       "      <th>1</th>\n",
       "      <td>00RL8Z82B2Z1</td>\n",
       "      <td>aff3928535f48</td>\n",
       "      <td>1541037522</td>\n",
       "      <td>2</td>\n",
       "      <td>interaction item image</td>\n",
       "      <td>666856</td>\n",
       "      <td>AU</td>\n",
       "      <td>Sydney, Australia</td>\n",
       "      <td>mobile</td>\n",
       "      <td>NaN</td>\n",
       "      <td>NaN</td>\n",
       "      <td>NaN</td>\n",
       "    </tr>\n",
       "    <tr>\n",
       "      <th>2</th>\n",
       "      <td>00RL8Z82B2Z1</td>\n",
       "      <td>aff3928535f48</td>\n",
       "      <td>1541037522</td>\n",
       "      <td>3</td>\n",
       "      <td>interaction item image</td>\n",
       "      <td>666856</td>\n",
       "      <td>AU</td>\n",
       "      <td>Sydney, Australia</td>\n",
       "      <td>mobile</td>\n",
       "      <td>NaN</td>\n",
       "      <td>NaN</td>\n",
       "      <td>NaN</td>\n",
       "    </tr>\n",
       "    <tr>\n",
       "      <th>3</th>\n",
       "      <td>00RL8Z82B2Z1</td>\n",
       "      <td>aff3928535f48</td>\n",
       "      <td>1541037532</td>\n",
       "      <td>4</td>\n",
       "      <td>interaction item image</td>\n",
       "      <td>666856</td>\n",
       "      <td>AU</td>\n",
       "      <td>Sydney, Australia</td>\n",
       "      <td>mobile</td>\n",
       "      <td>NaN</td>\n",
       "      <td>NaN</td>\n",
       "      <td>NaN</td>\n",
       "    </tr>\n",
       "    <tr>\n",
       "      <th>4</th>\n",
       "      <td>00RL8Z82B2Z1</td>\n",
       "      <td>aff3928535f48</td>\n",
       "      <td>1541037532</td>\n",
       "      <td>5</td>\n",
       "      <td>interaction item image</td>\n",
       "      <td>109038</td>\n",
       "      <td>AU</td>\n",
       "      <td>Sydney, Australia</td>\n",
       "      <td>mobile</td>\n",
       "      <td>NaN</td>\n",
       "      <td>NaN</td>\n",
       "      <td>NaN</td>\n",
       "    </tr>\n",
       "  </tbody>\n",
       "</table>\n",
       "</div>"
      ],
      "text/plain": [
       "        user_id     session_id   timestamp  step             action_type  \\\n",
       "0  00RL8Z82B2Z1  aff3928535f48  1541037460     1          search for poi   \n",
       "1  00RL8Z82B2Z1  aff3928535f48  1541037522     2  interaction item image   \n",
       "2  00RL8Z82B2Z1  aff3928535f48  1541037522     3  interaction item image   \n",
       "3  00RL8Z82B2Z1  aff3928535f48  1541037532     4  interaction item image   \n",
       "4  00RL8Z82B2Z1  aff3928535f48  1541037532     5  interaction item image   \n",
       "\n",
       "  reference platform               city  device current_filters impressions  \\\n",
       "0   Newtown       AU  Sydney, Australia  mobile             NaN         NaN   \n",
       "1    666856       AU  Sydney, Australia  mobile             NaN         NaN   \n",
       "2    666856       AU  Sydney, Australia  mobile             NaN         NaN   \n",
       "3    666856       AU  Sydney, Australia  mobile             NaN         NaN   \n",
       "4    109038       AU  Sydney, Australia  mobile             NaN         NaN   \n",
       "\n",
       "  prices  \n",
       "0    NaN  \n",
       "1    NaN  \n",
       "2    NaN  \n",
       "3    NaN  \n",
       "4    NaN  "
      ]
     },
     "execution_count": 3,
     "metadata": {},
     "output_type": "execute_result"
    }
   ],
   "source": [
    "a.head()"
   ]
  },
  {
   "cell_type": "code",
   "execution_count": 11,
   "metadata": {},
   "outputs": [
    {
     "data": {
      "text/plain": [
       "0   NaN\n",
       "Name: timestamp, dtype: float64"
      ]
     },
     "execution_count": 11,
     "metadata": {},
     "output_type": "execute_result"
    }
   ],
   "source": [
    "a.head(1).timestamp.diff()"
   ]
  },
  {
   "cell_type": "code",
   "execution_count": null,
   "metadata": {},
   "outputs": [],
   "source": []
  }
 ],
 "metadata": {
  "kernelspec": {
   "display_name": "Python 3",
   "language": "python",
   "name": "python3"
  },
  "language_info": {
   "codemirror_mode": {
    "name": "ipython",
    "version": 3
   },
   "file_extension": ".py",
   "mimetype": "text/x-python",
   "name": "python",
   "nbconvert_exporter": "python",
   "pygments_lexer": "ipython3",
   "version": "3.6.8"
  }
 },
 "nbformat": 4,
 "nbformat_minor": 2
}
